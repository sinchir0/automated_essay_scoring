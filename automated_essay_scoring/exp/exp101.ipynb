{
 "cells": [
  {
   "cell_type": "markdown",
   "metadata": {},
   "source": [
    "# 目的\n",
    "LightGBMのSpellミスの数え方を改善"
   ]
  },
  {
   "cell_type": "code",
   "execution_count": 27,
   "metadata": {},
   "outputs": [],
   "source": [
    "# path setting\n",
    "EXP_NAME = \"e101-2nd-lgb-cnt-err-spell\"\n",
    "MODEL_NAME = \"lightgbm\"\n",
    "COMPETITION_NAME = \"automated_essay_scoring\"\n",
    "\n",
    "DATA_PATH = \"data\"\n",
    "DATASET_NAME = f\"{EXP_NAME}-{MODEL_NAME.split('/')[-1]}\"\n",
    "MODEL_OUTPUT_PATH = f\"trained_models/{EXP_NAME}\"\n",
    "\n",
    "N_FOLD = 3\n",
    "\n",
    "# experiment parameter\n",
    "DEBUG = False\n",
    "TRAINING = True\n",
    "UPLOAD_DATA_TO_S3 = True\n",
    "UPLOAD_DATA_TO_KAGGLE = True\n",
    "WANDB = True\n",
    "\n",
    "# model parameter\n",
    "SEED = 42\n",
    "EPOCH = 4\n",
    "LR = 2e-05"
   ]
  },
  {
   "cell_type": "code",
   "execution_count": 28,
   "metadata": {},
   "outputs": [
    {
     "name": "stdout",
     "output_type": "stream",
     "text": [
      "Python 3.11.7\n"
     ]
    }
   ],
   "source": [
    "!python --version"
   ]
  },
  {
   "cell_type": "code",
   "execution_count": 29,
   "metadata": {},
   "outputs": [
    {
     "name": "stdout",
     "output_type": "stream",
     "text": [
      "/Users/shinichiro.saito/automated_essay_scoring/automated_essay_scoring/exp\n",
      "Local Mac!\n",
      "../../data\n",
      "/Users/shinichiro.saito/automated_essay_scoring/automated_essay_scoring/exp\n",
      "Local Mac!\n",
      "../../trained_models/e101-2nd-lgb-cnt-err-spell\n"
     ]
    }
   ],
   "source": [
    "def resolve_path(base_path: str) -> str:\n",
    "    import os\n",
    "\n",
    "    cwd = os.getcwd()\n",
    "    print(cwd)\n",
    "    if cwd == f\"/notebooks\":\n",
    "        print(\"Jupyter Kernel By VSCode!\")\n",
    "        return f\"/notebooks/{COMPETITION_NAME}/{base_path}\"\n",
    "    elif cwd == f\"/notebooks/{COMPETITION_NAME}\":\n",
    "        print(\"nohup!\")\n",
    "        return base_path\n",
    "    elif cwd == f\"/notebooks/{COMPETITION_NAME}/{COMPETITION_NAME}/exp\":\n",
    "        print(\"Jupyter Lab!\")\n",
    "        return f\"../../{base_path}\"\n",
    "    elif cwd.startswith(\"/Users\"):\n",
    "        print(\"Local Mac!\")\n",
    "        return f\"../../{base_path}\"\n",
    "    else:\n",
    "        raise Exception(\"Unknown environment\")\n",
    "\n",
    "\n",
    "DATA_PATH = resolve_path(DATA_PATH)\n",
    "print(DATA_PATH)\n",
    "MODEL_OUTPUT_PATH = resolve_path(MODEL_OUTPUT_PATH)\n",
    "print(MODEL_OUTPUT_PATH)"
   ]
  },
  {
   "cell_type": "code",
   "execution_count": 30,
   "metadata": {},
   "outputs": [],
   "source": [
    "import os\n",
    "\n",
    "os.makedirs(MODEL_OUTPUT_PATH, exist_ok=True)"
   ]
  },
  {
   "cell_type": "markdown",
   "metadata": {},
   "source": [
    "# install"
   ]
  },
  {
   "cell_type": "code",
   "execution_count": 31,
   "metadata": {},
   "outputs": [
    {
     "name": "stdout",
     "output_type": "stream",
     "text": [
      "Note: you may need to restart the kernel to use updated packages.\n"
     ]
    }
   ],
   "source": [
    "%pip install -qq lightgbm==4.4.0"
   ]
  },
  {
   "cell_type": "markdown",
   "metadata": {},
   "source": [
    "# import"
   ]
  },
  {
   "cell_type": "code",
   "execution_count": 32,
   "metadata": {},
   "outputs": [],
   "source": [
    "import random\n",
    "import os\n",
    "import numpy as np\n",
    "import scipy as sp\n",
    "import torch\n",
    "import json\n",
    "import re\n",
    "import spacy\n",
    "import polars as pl\n",
    "import lightgbm as lgb\n",
    "from functools import partial\n",
    "from lightgbm import log_evaluation, early_stopping\n",
    "import wandb\n",
    "from sklearn.metrics import cohen_kappa_score\n",
    "import pickle"
   ]
  },
  {
   "cell_type": "code",
   "execution_count": 33,
   "metadata": {},
   "outputs": [],
   "source": [
    "# Seed the same seed to all\n",
    "def seed_everything(seed: int) -> None:\n",
    "    random.seed(seed)\n",
    "    os.environ[\"PYTHONHASHSEED\"] = str(seed)\n",
    "    np.random.seed(seed)\n",
    "    torch.manual_seed(seed)\n",
    "    torch.cuda.manual_seed(seed)\n",
    "    torch.backends.cudnn.deterministic = True\n",
    "    torch.backends.cudnn.benchmark = True\n",
    "\n",
    "\n",
    "seed_everything(SEED)"
   ]
  },
  {
   "cell_type": "code",
   "execution_count": 34,
   "metadata": {},
   "outputs": [
    {
     "data": {
      "text/plain": [
       "True"
      ]
     },
     "execution_count": 34,
     "metadata": {},
     "output_type": "execute_result"
    }
   ],
   "source": [
    "from dotenv import load_dotenv\n",
    "\n",
    "load_dotenv(f\"{DATA_PATH}/.env\")"
   ]
  },
  {
   "cell_type": "code",
   "execution_count": 35,
   "metadata": {},
   "outputs": [],
   "source": [
    "# with open(f\"{DATA_PATH}/essay_id_spelling_errors_cnt.json\", \"r\") as f:\n",
    "with open(f\"{DATA_PATH}/essay_id_spelling_errors_cnt_pyspell.json\", \"r\") as f:\n",
    "    essay_id_spelling_errors_cnt = json.load(f)"
   ]
  },
  {
   "cell_type": "markdown",
   "metadata": {},
   "source": [
    "# Wandb"
   ]
  },
  {
   "cell_type": "code",
   "execution_count": 36,
   "metadata": {},
   "outputs": [
    {
     "name": "stderr",
     "output_type": "stream",
     "text": [
      "\u001b[34m\u001b[1mwandb\u001b[0m: \u001b[33mWARNING\u001b[0m Calling wandb.login() after wandb.init() has no effect.\n"
     ]
    },
    {
     "data": {
      "text/html": [
       "Finishing last run (ID:1xad2j7b) before initializing another..."
      ],
      "text/plain": [
       "<IPython.core.display.HTML object>"
      ]
     },
     "metadata": {},
     "output_type": "display_data"
    },
    {
     "data": {
      "text/html": [
       " View run <strong style=\"color:#cdcd00\">e101-2nd-lgb-cnt-err-spell</strong> at: <a href='https://wandb.ai/sinchir0/automated_essay_scoring/runs/1xad2j7b' target=\"_blank\">https://wandb.ai/sinchir0/automated_essay_scoring/runs/1xad2j7b</a><br/> View project at: <a href='https://wandb.ai/sinchir0/automated_essay_scoring' target=\"_blank\">https://wandb.ai/sinchir0/automated_essay_scoring</a><br/>Synced 5 W&B file(s), 0 media file(s), 0 artifact file(s) and 0 other file(s)"
      ],
      "text/plain": [
       "<IPython.core.display.HTML object>"
      ]
     },
     "metadata": {},
     "output_type": "display_data"
    },
    {
     "data": {
      "text/html": [
       "Find logs at: <code>./wandb/run-20240623_174519-1xad2j7b/logs</code>"
      ],
      "text/plain": [
       "<IPython.core.display.HTML object>"
      ]
     },
     "metadata": {},
     "output_type": "display_data"
    },
    {
     "data": {
      "text/html": [
       "Successfully finished last run (ID:1xad2j7b). Initializing new run:<br/>"
      ],
      "text/plain": [
       "<IPython.core.display.HTML object>"
      ]
     },
     "metadata": {},
     "output_type": "display_data"
    },
    {
     "data": {
      "text/html": [
       "wandb version 0.17.2 is available!  To upgrade, please run:\n",
       " $ pip install wandb --upgrade"
      ],
      "text/plain": [
       "<IPython.core.display.HTML object>"
      ]
     },
     "metadata": {},
     "output_type": "display_data"
    },
    {
     "data": {
      "text/html": [
       "Tracking run with wandb version 0.16.6"
      ],
      "text/plain": [
       "<IPython.core.display.HTML object>"
      ]
     },
     "metadata": {},
     "output_type": "display_data"
    },
    {
     "data": {
      "text/html": [
       "Run data is saved locally in <code>/Users/shinichiro.saito/automated_essay_scoring/automated_essay_scoring/exp/wandb/run-20240623_175937-ncpl7zzs</code>"
      ],
      "text/plain": [
       "<IPython.core.display.HTML object>"
      ]
     },
     "metadata": {},
     "output_type": "display_data"
    },
    {
     "data": {
      "text/html": [
       "Syncing run <strong><a href='https://wandb.ai/sinchir0/automated_essay_scoring/runs/ncpl7zzs' target=\"_blank\">e101-2nd-lgb-cnt-err-spell</a></strong> to <a href='https://wandb.ai/sinchir0/automated_essay_scoring' target=\"_blank\">Weights & Biases</a> (<a href='https://wandb.me/run' target=\"_blank\">docs</a>)<br/>"
      ],
      "text/plain": [
       "<IPython.core.display.HTML object>"
      ]
     },
     "metadata": {},
     "output_type": "display_data"
    },
    {
     "data": {
      "text/html": [
       " View project at <a href='https://wandb.ai/sinchir0/automated_essay_scoring' target=\"_blank\">https://wandb.ai/sinchir0/automated_essay_scoring</a>"
      ],
      "text/plain": [
       "<IPython.core.display.HTML object>"
      ]
     },
     "metadata": {},
     "output_type": "display_data"
    },
    {
     "data": {
      "text/html": [
       " View run at <a href='https://wandb.ai/sinchir0/automated_essay_scoring/runs/ncpl7zzs' target=\"_blank\">https://wandb.ai/sinchir0/automated_essay_scoring/runs/ncpl7zzs</a>"
      ],
      "text/plain": [
       "<IPython.core.display.HTML object>"
      ]
     },
     "metadata": {},
     "output_type": "display_data"
    },
    {
     "data": {
      "text/plain": [
       "'wandb'"
      ]
     },
     "execution_count": 36,
     "metadata": {},
     "output_type": "execute_result"
    }
   ],
   "source": [
    "if WANDB:\n",
    "    wandb.login(key=os.environ[\"WANDB_API_KEY\"])\n",
    "    wandb.init(project=\"automated_essay_scoring\", name=EXP_NAME)\n",
    "    REPORT_TO = \"wandb\"\n",
    "else:\n",
    "    REPORT_TO = \"none\"\n",
    "\n",
    "REPORT_TO"
   ]
  },
  {
   "cell_type": "markdown",
   "metadata": {},
   "source": [
    "# Data Import"
   ]
  },
  {
   "cell_type": "code",
   "execution_count": 37,
   "metadata": {},
   "outputs": [],
   "source": [
    "train = pl.read_csv(f\"{DATA_PATH}/train.csv\")"
   ]
  },
  {
   "cell_type": "code",
   "execution_count": 38,
   "metadata": {},
   "outputs": [
    {
     "data": {
      "text/html": [
       "<div><style>\n",
       ".dataframe > thead > tr,\n",
       ".dataframe > tbody > tr {\n",
       "  text-align: right;\n",
       "  white-space: pre-wrap;\n",
       "}\n",
       "</style>\n",
       "<small>shape: (17_307, 3)</small><table border=\"1\" class=\"dataframe\"><thead><tr><th>essay_id</th><th>full_text</th><th>score</th></tr><tr><td>str</td><td>str</td><td>i64</td></tr></thead><tbody><tr><td>&quot;000d118&quot;</td><td>&quot;Many people have car where the…</td><td>3</td></tr><tr><td>&quot;000fe60&quot;</td><td>&quot;I am a scientist at NASA that …</td><td>3</td></tr><tr><td>&quot;001ab80&quot;</td><td>&quot;People always wish they had th…</td><td>4</td></tr><tr><td>&quot;001bdc0&quot;</td><td>&quot;We all heard about Venus, the …</td><td>4</td></tr><tr><td>&quot;002ba53&quot;</td><td>&quot;Dear, State Senator\n",
       "\n",
       "This is a…</td><td>3</td></tr><tr><td>&hellip;</td><td>&hellip;</td><td>&hellip;</td></tr><tr><td>&quot;ffd378d&quot;</td><td>&quot;the story &quot; The Challenge of E…</td><td>2</td></tr><tr><td>&quot;ffddf1f&quot;</td><td>&quot;Technology has changed a lot o…</td><td>4</td></tr><tr><td>&quot;fff016d&quot;</td><td>&quot;If you don&#x27;t like sitting arou…</td><td>2</td></tr><tr><td>&quot;fffb49b&quot;</td><td>&quot;In &quot;The Challenge of Exporing …</td><td>1</td></tr><tr><td>&quot;fffed3e&quot;</td><td>&quot;Venus is worthy place to study…</td><td>2</td></tr></tbody></table></div>"
      ],
      "text/plain": [
       "shape: (17_307, 3)\n",
       "┌──────────┬─────────────────────────────────┬───────┐\n",
       "│ essay_id ┆ full_text                       ┆ score │\n",
       "│ ---      ┆ ---                             ┆ ---   │\n",
       "│ str      ┆ str                             ┆ i64   │\n",
       "╞══════════╪═════════════════════════════════╪═══════╡\n",
       "│ 000d118  ┆ Many people have car where the… ┆ 3     │\n",
       "│ 000fe60  ┆ I am a scientist at NASA that … ┆ 3     │\n",
       "│ 001ab80  ┆ People always wish they had th… ┆ 4     │\n",
       "│ 001bdc0  ┆ We all heard about Venus, the … ┆ 4     │\n",
       "│ 002ba53  ┆ Dear, State Senator             ┆ 3     │\n",
       "│          ┆                                 ┆       │\n",
       "│          ┆ This is a…                      ┆       │\n",
       "│ …        ┆ …                               ┆ …     │\n",
       "│ ffd378d  ┆ the story \" The Challenge of E… ┆ 2     │\n",
       "│ ffddf1f  ┆ Technology has changed a lot o… ┆ 4     │\n",
       "│ fff016d  ┆ If you don't like sitting arou… ┆ 2     │\n",
       "│ fffb49b  ┆ In \"The Challenge of Exporing … ┆ 1     │\n",
       "│ fffed3e  ┆ Venus is worthy place to study… ┆ 2     │\n",
       "└──────────┴─────────────────────────────────┴───────┘"
      ]
     },
     "execution_count": 38,
     "metadata": {},
     "output_type": "execute_result"
    }
   ],
   "source": [
    "train"
   ]
  },
  {
   "cell_type": "markdown",
   "metadata": {},
   "source": [
    "# Add Fold"
   ]
  },
  {
   "cell_type": "code",
   "execution_count": 39,
   "metadata": {},
   "outputs": [],
   "source": [
    "with open(f\"{DATA_PATH}/essay_id_fold_by_s_sl_g_p_only_train_dict.json\") as f:\n",
    "    essay_id_fold_only_train = json.load(f)"
   ]
  },
  {
   "cell_type": "code",
   "execution_count": 40,
   "metadata": {},
   "outputs": [],
   "source": [
    "train = train.with_columns(\n",
    "    pl.col(\"essay_id\")\n",
    "    .replace(essay_id_fold_only_train, return_dtype=pl.Int64)\n",
    "    .alias(\"fold\")\n",
    ")"
   ]
  },
  {
   "cell_type": "markdown",
   "metadata": {},
   "source": [
    "# Add Predict"
   ]
  },
  {
   "cell_type": "code",
   "execution_count": 41,
   "metadata": {},
   "outputs": [],
   "source": [
    "oof_e053 = pl.read_csv(f\"{DATA_PATH}/e053-cv-w-oof/oof.csv\").rename(\n",
    "    {\"valid_pred\": \"e053_oof\"}\n",
    ")"
   ]
  },
  {
   "cell_type": "code",
   "execution_count": 42,
   "metadata": {},
   "outputs": [],
   "source": [
    "train = train.join(oof_e053, on=\"essay_id\", how=\"left\")"
   ]
  },
  {
   "cell_type": "markdown",
   "metadata": {},
   "source": [
    "# Feature Engineering"
   ]
  },
  {
   "cell_type": "code",
   "execution_count": 43,
   "metadata": {},
   "outputs": [
    {
     "data": {
      "text/html": [
       "<div><style>\n",
       ".dataframe > thead > tr,\n",
       ".dataframe > tbody > tr {\n",
       "  text-align: right;\n",
       "  white-space: pre-wrap;\n",
       "}\n",
       "</style>\n",
       "<small>shape: (5, 9)</small><table border=\"1\" class=\"dataframe\"><thead><tr><th>essay_id</th><th>full_text</th><th>score</th><th>fold</th><th>e053_oof</th><th>text_length</th><th>word_length</th><th>spelling_errors_cnt</th><th>rate_spelling_errors_per_word</th></tr><tr><td>str</td><td>str</td><td>i64</td><td>i64</td><td>f64</td><td>u32</td><td>i64</td><td>i64</td><td>f64</td></tr></thead><tbody><tr><td>&quot;000d118&quot;</td><td>&quot;Many people have car where the…</td><td>3</td><td>0</td><td>2.59375</td><td>2677</td><td>498</td><td>22</td><td>0.044177</td></tr><tr><td>&quot;000fe60&quot;</td><td>&quot;I am a scientist at NASA that …</td><td>3</td><td>0</td><td>2.5761719</td><td>1669</td><td>332</td><td>5</td><td>0.01506</td></tr><tr><td>&quot;001ab80&quot;</td><td>&quot;People always wish they had th…</td><td>4</td><td>1</td><td>4.4882812</td><td>3077</td><td>550</td><td>7</td><td>0.012727</td></tr><tr><td>&quot;001bdc0&quot;</td><td>&quot;We all heard about Venus, the …</td><td>4</td><td>0</td><td>3.4960938</td><td>2701</td><td>451</td><td>6</td><td>0.013304</td></tr><tr><td>&quot;002ba53&quot;</td><td>&quot;Dear, State Senator\n",
       "\n",
       "This is a…</td><td>3</td><td>2</td><td>2.8261719</td><td>2208</td><td>373</td><td>10</td><td>0.02681</td></tr></tbody></table></div>"
      ],
      "text/plain": [
       "shape: (5, 9)\n",
       "┌──────────┬─────────────┬───────┬──────┬───┬─────────────┬─────────────┬─────────────┬────────────┐\n",
       "│ essay_id ┆ full_text   ┆ score ┆ fold ┆ … ┆ text_length ┆ word_length ┆ spelling_er ┆ rate_spell │\n",
       "│ ---      ┆ ---         ┆ ---   ┆ ---  ┆   ┆ ---         ┆ ---         ┆ rors_cnt    ┆ ing_errors │\n",
       "│ str      ┆ str         ┆ i64   ┆ i64  ┆   ┆ u32         ┆ i64         ┆ ---         ┆ _per_word  │\n",
       "│          ┆             ┆       ┆      ┆   ┆             ┆             ┆ i64         ┆ ---        │\n",
       "│          ┆             ┆       ┆      ┆   ┆             ┆             ┆             ┆ f64        │\n",
       "╞══════════╪═════════════╪═══════╪══════╪═══╪═════════════╪═════════════╪═════════════╪════════════╡\n",
       "│ 000d118  ┆ Many people ┆ 3     ┆ 0    ┆ … ┆ 2677        ┆ 498         ┆ 22          ┆ 0.044177   │\n",
       "│          ┆ have car    ┆       ┆      ┆   ┆             ┆             ┆             ┆            │\n",
       "│          ┆ where the…  ┆       ┆      ┆   ┆             ┆             ┆             ┆            │\n",
       "│ 000fe60  ┆ I am a      ┆ 3     ┆ 0    ┆ … ┆ 1669        ┆ 332         ┆ 5           ┆ 0.01506    │\n",
       "│          ┆ scientist   ┆       ┆      ┆   ┆             ┆             ┆             ┆            │\n",
       "│          ┆ at NASA     ┆       ┆      ┆   ┆             ┆             ┆             ┆            │\n",
       "│          ┆ that …      ┆       ┆      ┆   ┆             ┆             ┆             ┆            │\n",
       "│ 001ab80  ┆ People      ┆ 4     ┆ 1    ┆ … ┆ 3077        ┆ 550         ┆ 7           ┆ 0.012727   │\n",
       "│          ┆ always wish ┆       ┆      ┆   ┆             ┆             ┆             ┆            │\n",
       "│          ┆ they had    ┆       ┆      ┆   ┆             ┆             ┆             ┆            │\n",
       "│          ┆ th…         ┆       ┆      ┆   ┆             ┆             ┆             ┆            │\n",
       "│ 001bdc0  ┆ We all      ┆ 4     ┆ 0    ┆ … ┆ 2701        ┆ 451         ┆ 6           ┆ 0.013304   │\n",
       "│          ┆ heard about ┆       ┆      ┆   ┆             ┆             ┆             ┆            │\n",
       "│          ┆ Venus, the  ┆       ┆      ┆   ┆             ┆             ┆             ┆            │\n",
       "│          ┆ …           ┆       ┆      ┆   ┆             ┆             ┆             ┆            │\n",
       "│ 002ba53  ┆ Dear, State ┆ 3     ┆ 2    ┆ … ┆ 2208        ┆ 373         ┆ 10          ┆ 0.02681    │\n",
       "│          ┆ Senator     ┆       ┆      ┆   ┆             ┆             ┆             ┆            │\n",
       "│          ┆             ┆       ┆      ┆   ┆             ┆             ┆             ┆            │\n",
       "│          ┆ This is a…  ┆       ┆      ┆   ┆             ┆             ┆             ┆            │\n",
       "└──────────┴─────────────┴───────┴──────┴───┴─────────────┴─────────────┴─────────────┴────────────┘"
      ]
     },
     "execution_count": 43,
     "metadata": {},
     "output_type": "execute_result"
    }
   ],
   "source": [
    "def get_text_length() -> pl.Expr:\n",
    "    return pl.col(\"full_text\").str.len_chars().alias(\"text_length\")\n",
    "\n",
    "\n",
    "def get_word_length() -> pl.Expr:\n",
    "    return (\n",
    "        pl.col(\"full_text\")\n",
    "        .map_elements(lambda x: len(x.split()), return_dtype=pl.Int64)\n",
    "        .alias(\"word_length\")\n",
    "    )\n",
    "\n",
    "\n",
    "def count_spelling_errors() -> pl.Expr:\n",
    "    return (\n",
    "        pl.col(\"essay_id\")\n",
    "        .replace(essay_id_spelling_errors_cnt, return_dtype=pl.Int64)\n",
    "        .alias(\"spelling_errors_cnt\")\n",
    "    )\n",
    "\n",
    "\n",
    "def rate_spelling_errors_per_word() -> pl.Expr:\n",
    "    return (pl.col(\"spelling_errors_cnt\") / pl.col(\"word_length\")).alias(\n",
    "        \"rate_spelling_errors_per_word\"\n",
    "    )\n",
    "\n",
    "\n",
    "train = train.with_columns(\n",
    "    get_text_length(), get_word_length(), count_spelling_errors()\n",
    ").with_columns(rate_spelling_errors_per_word())\n",
    "\n",
    "train.head()"
   ]
  },
  {
   "cell_type": "markdown",
   "metadata": {},
   "source": [
    "# Training"
   ]
  },
  {
   "cell_type": "code",
   "execution_count": 44,
   "metadata": {},
   "outputs": [],
   "source": [
    "TARGET_COL = \"score\"\n",
    "USE_COL = [\n",
    "    \"e053_oof\",\n",
    "    \"text_length\",\n",
    "    \"word_length\",\n",
    "    \"spelling_errors_cnt\",\n",
    "    \"rate_spelling_errors_per_word\",\n",
    "]"
   ]
  },
  {
   "cell_type": "code",
   "execution_count": 45,
   "metadata": {},
   "outputs": [],
   "source": [
    "# LightGBMで用いるパラメータを指定\n",
    "params = {\n",
    "    \"objective\": \"regression\",\n",
    "    \"metric\": \"rmse\",\n",
    "    \"max_depth\": -1,\n",
    "    \"min_data_in_leaf\": 10,  # 1つの葉に入る最小のデータ数\n",
    "    \"num_leaves\": 24,  # 2**max_depthより少し小さめにすると過学習を防げる\n",
    "    \"learning_rate\": 0.01,  # 1回のiterationで学習を進める割合、大きいと学習が早く終わる。小さいと学習は長いが高精度になりやすい。\n",
    "    \"bagging_freq\": 5,  # 指定した回数ごとにbaggingを行う\n",
    "    \"feature_fraction\": 0.7,  # 1回のiterationで利用する特徴量(列方向)の割合\n",
    "    \"bagging_fraction\": 0.6,  # 1回のiterationで利用するデータ(行方向)の割合\n",
    "    \"verbose\": -1,  # 出力するログレベルの変更、-1はFatalなログのみを出力\n",
    "    \"seed\": SEED,  # ランダムシードの固定\n",
    "    \"lambda_l1\": 0.4,  # 正則化のためのパラメータ\n",
    "    \"lambda_l2\": 0.4,  # 正則化のためのパラメータ\n",
    "}"
   ]
  },
  {
   "cell_type": "code",
   "execution_count": 46,
   "metadata": {},
   "outputs": [
    {
     "name": "stdout",
     "output_type": "stream",
     "text": [
      "Start fold 0\n",
      "Training until validation scores don't improve for 100 rounds\n",
      "[100]\ttraining's rmse: 0.666059\tvalid_1's rmse: 0.747009\n",
      "[200]\ttraining's rmse: 0.587298\tvalid_1's rmse: 0.705754\n",
      "[300]\ttraining's rmse: 0.568507\tvalid_1's rmse: 0.706198\n",
      "Early stopping, best iteration is:\n",
      "[231]\ttraining's rmse: 0.579059\tvalid_1's rmse: 0.704785\n",
      "Start fold 1\n",
      "Training until validation scores don't improve for 100 rounds\n",
      "[100]\ttraining's rmse: 0.73051\tvalid_1's rmse: 0.628676\n",
      "[200]\ttraining's rmse: 0.657407\tvalid_1's rmse: 0.581657\n",
      "[300]\ttraining's rmse: 0.639746\tvalid_1's rmse: 0.581011\n",
      "Early stopping, best iteration is:\n",
      "[230]\ttraining's rmse: 0.649784\tvalid_1's rmse: 0.580075\n",
      "Start fold 2\n",
      "Training until validation scores don't improve for 100 rounds\n",
      "[100]\ttraining's rmse: 0.700588\tvalid_1's rmse: 0.763618\n",
      "[200]\ttraining's rmse: 0.634925\tvalid_1's rmse: 0.67641\n",
      "[300]\ttraining's rmse: 0.619314\tvalid_1's rmse: 0.653637\n",
      "[400]\ttraining's rmse: 0.611953\tvalid_1's rmse: 0.6471\n",
      "[500]\ttraining's rmse: 0.606287\tvalid_1's rmse: 0.644809\n",
      "[600]\ttraining's rmse: 0.601403\tvalid_1's rmse: 0.64438\n",
      "[700]\ttraining's rmse: 0.597048\tvalid_1's rmse: 0.644197\n",
      "[800]\ttraining's rmse: 0.592979\tvalid_1's rmse: 0.644863\n",
      "Early stopping, best iteration is:\n",
      "[701]\ttraining's rmse: 0.597009\tvalid_1's rmse: 0.644185\n"
     ]
    }
   ],
   "source": [
    "models = []\n",
    "oofs = []\n",
    "\n",
    "# Cross Validationによる学習の実施\n",
    "for fold in range(N_FOLD):\n",
    "    print(f\"Start fold {fold}\")\n",
    "\n",
    "    # foldごとにtrainとvalidに分ける\n",
    "    train_fold = train.filter(pl.col(\"fold\") != fold)\n",
    "    valid_fold = train.filter(pl.col(\"fold\") == fold)\n",
    "\n",
    "    # X(説明変数)とy(目的変数)に分ける\n",
    "    X_train = train_fold.select(USE_COL)\n",
    "    X_valid = valid_fold.select(USE_COL)\n",
    "    y_train = train_fold.select(TARGET_COL)\n",
    "    y_valid = valid_fold.select(TARGET_COL)\n",
    "\n",
    "    # LightGBMが認識可能な形にデータセットを変換\n",
    "    # polars.DataFrame から pandas.DataFrame への変更を行っている\n",
    "    lgb_train = lgb.Dataset(X_train.to_pandas(), y_train.to_pandas())\n",
    "    lgb_eval = lgb.Dataset(\n",
    "        X_valid.to_pandas(), y_valid.to_pandas(), reference=lgb_train\n",
    "    )\n",
    "\n",
    "    # モデルの学習\n",
    "    model = lgb.train(\n",
    "        params,\n",
    "        lgb_train,\n",
    "        num_boost_round=10000,  # 学習のiteration回数\n",
    "        valid_sets=[lgb_train, lgb_eval],\n",
    "        callbacks=[\n",
    "            early_stopping(\n",
    "                stopping_rounds=100\n",
    "            ),  # Early stopingの回数、binary_loglossが改善しないiterationが100回続いたら学習を止める\n",
    "            log_evaluation(100),  # 指定したiteration回数ごとにlogを出力する\n",
    "        ],\n",
    "    )\n",
    "\n",
    "    with open(f\"{MODEL_OUTPUT_PATH}/model_{fold}.pkl\", \"wb\") as f:\n",
    "        pickle.dump(model, f)\n",
    "\n",
    "    # モデルを保存\n",
    "    models.append([fold, model])\n",
    "\n",
    "    # valid データに対する推論\n",
    "    y_valid_pred = model.predict(X_valid.to_pandas())\n",
    "\n",
    "    # OOF に推論結果を保存\n",
    "    oof_per_fold = valid_fold.select(\"score\").with_columns(\n",
    "        pl.Series(y_valid_pred).alias(\"valid_pred\")\n",
    "    )\n",
    "    oofs.append(oof_per_fold)\n",
    "\n",
    "oof = pl.concat(oofs)"
   ]
  },
  {
   "cell_type": "markdown",
   "metadata": {},
   "source": [
    "# 特徴量重要度の計算"
   ]
  },
  {
   "cell_type": "code",
   "execution_count": 47,
   "metadata": {},
   "outputs": [
    {
     "data": {
      "image/png": "[encoded data removed]",
      "text/plain": [
       "<Figure size 640x480 with 1 Axes>"
      ]
     },
     "metadata": {},
     "output_type": "display_data"
    }
   ],
   "source": [
    "import pandas as pd\n",
    "import matplotlib.pyplot as plt\n",
    "import seaborn as sns\n",
    "\n",
    "# 特徴量重要度を列にもつDataFrameを作成\n",
    "feature_importances = [\n",
    "    model.feature_importance(importance_type=\"gain\") for _, model in models\n",
    "]\n",
    "feature_importances_df = pd.DataFrame(feature_importances, columns=USE_COL)\n",
    "\n",
    "# 表示する順番を指定、特徴量重要度の平均が大きい順に並ぶよう計算\n",
    "order = feature_importances_df.mean().sort_values(ascending=False).index.tolist()\n",
    "\n",
    "# 表示\n",
    "# fold毎の特徴量重要度のばらつきを見るために、箱ひげ図を利用\n",
    "sns.boxplot(data=feature_importances_df, orient=\"h\", order=order)\n",
    "plt.savefig(f\"{MODEL_OUTPUT_PATH}/feature_importance.png\")"
   ]
  },
  {
   "cell_type": "markdown",
   "metadata": {},
   "source": [
    "# CVの計算"
   ]
  },
  {
   "cell_type": "code",
   "execution_count": 48,
   "metadata": {},
   "outputs": [
    {
     "name": "stdout",
     "output_type": "stream",
     "text": [
      "OOF CV Score by round: 0.7181999183700742\n"
     ]
    }
   ],
   "source": [
    "cv_score = cohen_kappa_score(\n",
    "    oof[\"score\"],\n",
    "    np.clip(oof[\"valid_pred\"], 1, 6).round(),\n",
    "    weights=\"quadratic\",\n",
    ")\n",
    "print(f\"OOF CV Score by round: {cv_score}\")"
   ]
  },
  {
   "cell_type": "code",
   "execution_count": 49,
   "metadata": {},
   "outputs": [],
   "source": [
    "# https://qiita.com/kaggle_grandmaster-arai-san/items/d59b2fb7142ec7e270a5#optimizedrounder\n",
    "class OptimizedRounder:\n",
    "    def __init__(self):\n",
    "        self.coef_ = 0\n",
    "\n",
    "    def _kappa_loss(self, coef, X, y):\n",
    "        X_p = np.copy(X)\n",
    "        for i, pred in enumerate(X_p):\n",
    "            if pred < coef[0]:\n",
    "                X_p[i] = 1\n",
    "            elif pred >= coef[0] and pred < coef[1]:\n",
    "                X_p[i] = 2\n",
    "            elif pred >= coef[1] and pred < coef[2]:\n",
    "                X_p[i] = 3\n",
    "            elif pred >= coef[2] and pred < coef[3]:\n",
    "                X_p[i] = 4\n",
    "            elif pred >= coef[3] and pred < coef[4]:\n",
    "                X_p[i] = 5\n",
    "            else:\n",
    "                X_p[i] = 6\n",
    "\n",
    "        ll = cohen_kappa_score(y, X_p, weights=\"quadratic\")\n",
    "        return -ll\n",
    "\n",
    "    def fit(self, X, y):\n",
    "        loss_partial = partial(self._kappa_loss, X=X, y=y)\n",
    "        initial_coef = [1.5, 2.5, 3.5, 4.5, 5.5]\n",
    "        self.coef_ = sp.optimize.minimize(\n",
    "            loss_partial, initial_coef, method=\"nelder-mead\"\n",
    "        )\n",
    "\n",
    "    def predict(self, X, coef):\n",
    "        X_p = np.copy(X)\n",
    "        for i, pred in enumerate(X_p):\n",
    "            if pred < coef[0]:\n",
    "                X_p[i] = 1\n",
    "            elif pred >= coef[0] and pred < coef[1]:\n",
    "                X_p[i] = 2\n",
    "            elif pred >= coef[1] and pred < coef[2]:\n",
    "                X_p[i] = 3\n",
    "            elif pred >= coef[2] and pred < coef[3]:\n",
    "                X_p[i] = 4\n",
    "            elif pred >= coef[3] and pred < coef[4]:\n",
    "                X_p[i] = 5\n",
    "            else:\n",
    "                X_p[i] = 6\n",
    "        return X_p\n",
    "\n",
    "    @property\n",
    "    def coefficients(self):\n",
    "        return self.coef_[\"x\"]"
   ]
  },
  {
   "cell_type": "code",
   "execution_count": 50,
   "metadata": {},
   "outputs": [
    {
     "name": "stdout",
     "output_type": "stream",
     "text": [
      "[1.90986236 2.64216305 3.37470314 4.01643583 4.79113571]\n",
      "OOF CV Score by NelderMead: 0.7565061940928647\n"
     ]
    }
   ],
   "source": [
    "optR = OptimizedRounder()\n",
    "optR.fit(oof[\"valid_pred\"], oof[\"score\"])\n",
    "print(optR.coefficients)\n",
    "\n",
    "optimized_valid_pred = optR.predict(oof[\"valid_pred\"], optR.coefficients)\n",
    "np.save(f\"{MODEL_OUTPUT_PATH}/opt_thr.npy\", optR.coefficients)\n",
    "\n",
    "cv_score = cohen_kappa_score(oof[\"score\"], optimized_valid_pred, weights=\"quadratic\")\n",
    "\n",
    "print(f\"OOF CV Score by NelderMead: {cv_score}\")\n",
    "\n",
    "# output_textを保存\n",
    "with open(f\"{MODEL_OUTPUT_PATH}/cv_score.txt\", \"w\") as f:\n",
    "    f.write(str(cv_score))"
   ]
  },
  {
   "cell_type": "markdown",
   "metadata": {},
   "source": [
    "# 混同行列の計算"
   ]
  },
  {
   "cell_type": "code",
   "execution_count": 51,
   "metadata": {},
   "outputs": [
    {
     "data": {
      "image/png": "[encoded data removed]",
      "text/plain": [
       "<Figure size 640x480 with 2 Axes>"
      ]
     },
     "metadata": {},
     "output_type": "display_data"
    }
   ],
   "source": [
    "import matplotlib.pyplot as plt\n",
    "from sklearn.metrics import confusion_matrix, ConfusionMatrixDisplay\n",
    "\n",
    "cm = confusion_matrix(\n",
    "    oof[\"score\"],\n",
    "    optimized_valid_pred,\n",
    "    labels=[x for x in range(1, 7)],\n",
    ")\n",
    "\n",
    "draw_cm = ConfusionMatrixDisplay(\n",
    "    confusion_matrix=cm, display_labels=[x for x in range(1, 7)]\n",
    ")\n",
    "\n",
    "draw_cm.plot()\n",
    "plt.savefig(f\"{MODEL_OUTPUT_PATH}/confusion_matrix.png\")\n",
    "plt.show()"
   ]
  },
  {
   "cell_type": "markdown",
   "metadata": {},
   "source": [
    "# Kaggleへのアップロード"
   ]
  },
  {
   "cell_type": "code",
   "execution_count": 52,
   "metadata": {},
   "outputs": [
    {
     "name": "stdout",
     "output_type": "stream",
     "text": [
      "Create Dataset name:e101-2nd-lgb-cnt-err-spell-lightgbm, output_dir:../../trained_models/e101-2nd-lgb-cnt-err-spell\n",
      "Starting upload for file confusion_matrix.png\n"
     ]
    },
    {
     "name": "stderr",
     "output_type": "stream",
     "text": [
      "100%|██████████| 32.5k/32.5k [00:00<00:00, 38.4kB/s]\n"
     ]
    },
    {
     "name": "stdout",
     "output_type": "stream",
     "text": [
      "Upload successful: confusion_matrix.png (32KB)\n",
      "Starting upload for file opt_thr.npy\n"
     ]
    },
    {
     "name": "stderr",
     "output_type": "stream",
     "text": [
      "100%|██████████| 168/168 [00:00<00:00, 214B/s]\n"
     ]
    },
    {
     "name": "stdout",
     "output_type": "stream",
     "text": [
      "Upload successful: opt_thr.npy (168B)\n",
      "Starting upload for file cv_score.txt\n"
     ]
    },
    {
     "name": "stderr",
     "output_type": "stream",
     "text": [
      "100%|██████████| 18.0/18.0 [00:00<00:00, 21.0B/s]\n"
     ]
    },
    {
     "name": "stdout",
     "output_type": "stream",
     "text": [
      "Upload successful: cv_score.txt (18B)\n",
      "Starting upload for file feature_importance.png\n"
     ]
    },
    {
     "name": "stderr",
     "output_type": "stream",
     "text": [
      "100%|██████████| 13.4k/13.4k [00:00<00:00, 17.5kB/s]\n"
     ]
    },
    {
     "name": "stdout",
     "output_type": "stream",
     "text": [
      "Upload successful: feature_importance.png (13KB)\n",
      "Starting upload for file model_1.pkl\n"
     ]
    },
    {
     "name": "stderr",
     "output_type": "stream",
     "text": [
      "100%|██████████| 520k/520k [00:01<00:00, 409kB/s] \n"
     ]
    },
    {
     "name": "stdout",
     "output_type": "stream",
     "text": [
      "Upload successful: model_1.pkl (520KB)\n",
      "Starting upload for file model_0.pkl\n"
     ]
    },
    {
     "name": "stderr",
     "output_type": "stream",
     "text": [
      "100%|██████████| 522k/522k [00:01<00:00, 305kB/s] \n"
     ]
    },
    {
     "name": "stdout",
     "output_type": "stream",
     "text": [
      "Upload successful: model_0.pkl (522KB)\n",
      "Starting upload for file model_2.pkl\n"
     ]
    },
    {
     "name": "stderr",
     "output_type": "stream",
     "text": [
      "100%|██████████| 1.57M/1.57M [00:01<00:00, 860kB/s] \n"
     ]
    },
    {
     "name": "stdout",
     "output_type": "stream",
     "text": [
      "Upload successful: model_2.pkl (2MB)\n"
     ]
    }
   ],
   "source": [
    "if UPLOAD_DATA_TO_KAGGLE:\n",
    "    import os\n",
    "    import json\n",
    "\n",
    "    from kaggle.api.kaggle_api_extended import KaggleApi\n",
    "\n",
    "    def dataset_create_new(dataset_name: str, upload_dir: str):\n",
    "        # if \"_\" in dataset_name:\n",
    "        #     raise ValueError(\"datasetの名称に_の使用は禁止です\")\n",
    "        dataset_metadata = {}\n",
    "        dataset_metadata[\"id\"] = f\"sinchir0/{dataset_name}\"\n",
    "        dataset_metadata[\"licenses\"] = [{\"name\": \"CC0-1.0\"}]\n",
    "        dataset_metadata[\"title\"] = dataset_name\n",
    "        with open(os.path.join(upload_dir, \"dataset-metadata.json\"), \"w\") as f:\n",
    "            json.dump(dataset_metadata, f, indent=4)\n",
    "        api = KaggleApi()\n",
    "        api.authenticate()\n",
    "        api.dataset_create_new(folder=upload_dir, convert_to_csv=False, dir_mode=\"tar\")\n",
    "\n",
    "    print(f\"Create Dataset name:{DATASET_NAME}, output_dir:{MODEL_OUTPUT_PATH}\")\n",
    "    dataset_create_new(dataset_name=DATASET_NAME, upload_dir=MODEL_OUTPUT_PATH)"
   ]
  },
  {
   "cell_type": "code",
   "execution_count": null,
   "metadata": {},
   "outputs": [],
   "source": []
  }
 ],
 "metadata": {
  "kernelspec": {
   "display_name": ".venv",
   "language": "python",
   "name": "python3"
  },
  "language_info": {
   "codemirror_mode": {
    "name": "ipython",
    "version": 3
   },
   "file_extension": ".py",
   "mimetype": "text/x-python",
   "name": "python",
   "nbconvert_exporter": "python",
   "pygments_lexer": "ipython3",
   "version": "3.11.7"
  }
 },
 "nbformat": 4,
 "nbformat_minor": 2
}
