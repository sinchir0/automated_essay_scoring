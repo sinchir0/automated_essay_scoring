{
 "cells": [
  {
   "cell_type": "markdown",
   "metadata": {},
   "source": [
    "# 目的\n",
    "テキスト特徴量を諸々追加する"
   ]
  },
  {
   "cell_type": "code",
   "execution_count": 37,
   "metadata": {
    "tags": []
   },
   "outputs": [],
   "source": [
    "# path setting\n",
    "EXP_NAME = \"e107-s-sl-g-p-optuna\"\n",
    "MODEL_NAME = \"lightgbm\"\n",
    "COMPETITION_NAME = \"automated_essay_scoring\"\n",
    "\n",
    "DATA_PATH = \"data\"\n",
    "DATASET_NAME = f\"{EXP_NAME}-{MODEL_NAME.split('/')[-1]}\"\n",
    "MODEL_OUTPUT_PATH = f\"trained_models/{EXP_NAME}\"\n",
    "\n",
    "N_FOLD = 3\n",
    "\n",
    "# experiment parameter\n",
    "DEBUG = True\n",
    "TRAINING = True\n",
    "UPLOAD_DATA_TO_S3 = True\n",
    "UPLOAD_DATA_TO_KAGGLE = True\n",
    "WANDB = True\n",
    "\n",
    "# model parameter\n",
    "SEED = 42\n",
    "EPOCH = 4\n",
    "LR = 2e-05"
   ]
  },
  {
   "cell_type": "code",
   "execution_count": 38,
   "metadata": {
    "tags": []
   },
   "outputs": [],
   "source": [
    "def validate_dataset_name(dataset_name: str) -> None:\n",
    "    if len(dataset_name) < 6 or len(dataset_name) > 50:\n",
    "        raise Exception(\n",
    "            f\"データセットの文字列は6~50文字にしてください。現在{len(DATASET_NAME)}文字\"\n",
    "        )\n",
    "    if \"_\" in dataset_name:\n",
    "        raise Exception(\"datasetの名称に_の使用は禁止です\")\n",
    "\n",
    "\n",
    "validate_dataset_name(DATASET_NAME)"
   ]
  },
  {
   "cell_type": "code",
   "execution_count": 39,
   "metadata": {
    "tags": []
   },
   "outputs": [
    {
     "name": "stdout",
     "output_type": "stream",
     "text": [
      "Python 3.11.7\n"
     ]
    }
   ],
   "source": [
    "!python --version"
   ]
  },
  {
   "cell_type": "code",
   "execution_count": 40,
   "metadata": {
    "tags": []
   },
   "outputs": [
    {
     "name": "stdout",
     "output_type": "stream",
     "text": [
      "/notebooks/automated_essay_scoring/automated_essay_scoring/exp\n",
      "Jupyter Lab!\n",
      "../../data\n",
      "/notebooks/automated_essay_scoring/automated_essay_scoring/exp\n",
      "Jupyter Lab!\n",
      "../../trained_models/e107-s-sl-g-p-optuna\n"
     ]
    }
   ],
   "source": [
    "def resolve_path(base_path: str) -> str:\n",
    "    import os\n",
    "\n",
    "    cwd = os.getcwd()\n",
    "    print(cwd)\n",
    "    if cwd == f\"/notebooks\":\n",
    "        print(\"Jupyter Kernel By VSCode!\")\n",
    "        return f\"/notebooks/{COMPETITION_NAME}/{base_path}\"\n",
    "    elif cwd == f\"/notebooks/{COMPETITION_NAME}\":\n",
    "        print(\"nohup!\")\n",
    "        return base_path\n",
    "    elif cwd == f\"/notebooks/{COMPETITION_NAME}/{COMPETITION_NAME}/exp\":\n",
    "        print(\"Jupyter Lab!\")\n",
    "        return f\"../../{base_path}\"\n",
    "    elif cwd.startswith(\"/Users\"):\n",
    "        print(\"Local Mac!\")\n",
    "        return f\"../../{base_path}\"\n",
    "    else:\n",
    "        raise Exception(\"Unknown environment\")\n",
    "\n",
    "\n",
    "DATA_PATH = resolve_path(DATA_PATH)\n",
    "print(DATA_PATH)\n",
    "MODEL_OUTPUT_PATH = resolve_path(MODEL_OUTPUT_PATH)\n",
    "print(MODEL_OUTPUT_PATH)"
   ]
  },
  {
   "cell_type": "code",
   "execution_count": 41,
   "metadata": {
    "tags": []
   },
   "outputs": [],
   "source": [
    "import os\n",
    "\n",
    "os.makedirs(MODEL_OUTPUT_PATH, exist_ok=True)"
   ]
  },
  {
   "cell_type": "markdown",
   "metadata": {},
   "source": [
    "# import"
   ]
  },
  {
   "cell_type": "code",
   "execution_count": 42,
   "metadata": {
    "tags": []
   },
   "outputs": [
    {
     "name": "stdout",
     "output_type": "stream",
     "text": [
      "Note: you may need to restart the kernel to use updated packages.\n",
      "Note: you may need to restart the kernel to use updated packages.\n",
      "Note: you may need to restart the kernel to use updated packages.\n",
      "Note: you may need to restart the kernel to use updated packages.\n",
      "Note: you may need to restart the kernel to use updated packages.\n",
      "Note: you may need to restart the kernel to use updated packages.\n",
      "Note: you may need to restart the kernel to use updated packages.\n",
      "Note: you may need to restart the kernel to use updated packages.\n",
      "Note: you may need to restart the kernel to use updated packages.\n",
      "Note: you may need to restart the kernel to use updated packages.\n",
      "Requirement already satisfied: optuna==3.6.1 in /usr/local/lib/python3.11/dist-packages (3.6.1)\n",
      "Requirement already satisfied: alembic>=1.5.0 in /usr/local/lib/python3.11/dist-packages (from optuna==3.6.1) (1.13.2)\n",
      "Requirement already satisfied: colorlog in /usr/local/lib/python3.11/dist-packages (from optuna==3.6.1) (6.8.2)\n",
      "Requirement already satisfied: numpy in /usr/local/lib/python3.11/dist-packages (from optuna==3.6.1) (1.26.3)\n",
      "Requirement already satisfied: packaging>=20.0 in /usr/local/lib/python3.11/dist-packages (from optuna==3.6.1) (23.2)\n",
      "Requirement already satisfied: sqlalchemy>=1.3.0 in /usr/local/lib/python3.11/dist-packages (from optuna==3.6.1) (2.0.21)\n",
      "Requirement already satisfied: tqdm in /usr/local/lib/python3.11/dist-packages (from optuna==3.6.1) (4.66.1)\n",
      "Requirement already satisfied: PyYAML in /usr/lib/python3/dist-packages (from optuna==3.6.1) (5.4.1)\n",
      "Requirement already satisfied: Mako in /usr/local/lib/python3.11/dist-packages (from alembic>=1.5.0->optuna==3.6.1) (1.3.5)\n",
      "Requirement already satisfied: typing-extensions>=4 in /usr/local/lib/python3.11/dist-packages (from alembic>=1.5.0->optuna==3.6.1) (4.9.0)\n",
      "Requirement already satisfied: greenlet!=0.4.17 in /usr/lib/python3/dist-packages (from sqlalchemy>=1.3.0->optuna==3.6.1) (1.1.2)\n",
      "Requirement already satisfied: MarkupSafe>=0.9.2 in /usr/local/lib/python3.11/dist-packages (from Mako->alembic>=1.5.0->optuna==3.6.1) (2.1.4)\n",
      "\u001b[33mWARNING: Running pip as the 'root' user can result in broken permissions and conflicting behaviour with the system package manager. It is recommended to use a virtual environment instead: https://pip.pypa.io/warnings/venv\u001b[0m\u001b[33m\n",
      "\u001b[0mNote: you may need to restart the kernel to use updated packages.\n",
      "Requirement already satisfied: optuna_integration==3.6.0 in /usr/local/lib/python3.11/dist-packages (3.6.0)\n",
      "Requirement already satisfied: optuna in /usr/local/lib/python3.11/dist-packages (from optuna_integration==3.6.0) (3.6.1)\n",
      "Requirement already satisfied: alembic>=1.5.0 in /usr/local/lib/python3.11/dist-packages (from optuna->optuna_integration==3.6.0) (1.13.2)\n",
      "Requirement already satisfied: colorlog in /usr/local/lib/python3.11/dist-packages (from optuna->optuna_integration==3.6.0) (6.8.2)\n",
      "Requirement already satisfied: numpy in /usr/local/lib/python3.11/dist-packages (from optuna->optuna_integration==3.6.0) (1.26.3)\n",
      "Requirement already satisfied: packaging>=20.0 in /usr/local/lib/python3.11/dist-packages (from optuna->optuna_integration==3.6.0) (23.2)\n",
      "Requirement already satisfied: sqlalchemy>=1.3.0 in /usr/local/lib/python3.11/dist-packages (from optuna->optuna_integration==3.6.0) (2.0.21)\n",
      "Requirement already satisfied: tqdm in /usr/local/lib/python3.11/dist-packages (from optuna->optuna_integration==3.6.0) (4.66.1)\n",
      "Requirement already satisfied: PyYAML in /usr/lib/python3/dist-packages (from optuna->optuna_integration==3.6.0) (5.4.1)\n",
      "Requirement already satisfied: Mako in /usr/local/lib/python3.11/dist-packages (from alembic>=1.5.0->optuna->optuna_integration==3.6.0) (1.3.5)\n",
      "Requirement already satisfied: typing-extensions>=4 in /usr/local/lib/python3.11/dist-packages (from alembic>=1.5.0->optuna->optuna_integration==3.6.0) (4.9.0)\n",
      "Requirement already satisfied: greenlet!=0.4.17 in /usr/lib/python3/dist-packages (from sqlalchemy>=1.3.0->optuna->optuna_integration==3.6.0) (1.1.2)\n",
      "Requirement already satisfied: MarkupSafe>=0.9.2 in /usr/local/lib/python3.11/dist-packages (from Mako->alembic>=1.5.0->optuna->optuna_integration==3.6.0) (2.1.4)\n",
      "\u001b[33mWARNING: Running pip as the 'root' user can result in broken permissions and conflicting behaviour with the system package manager. It is recommended to use a virtual environment instead: https://pip.pypa.io/warnings/venv\u001b[0m\u001b[33m\n",
      "\u001b[0mNote: you may need to restart the kernel to use updated packages.\n"
     ]
    }
   ],
   "source": [
    "%pip install -qq polars==0.20.23\n",
    "%pip install -qq transformers==4.40.1\n",
    "%pip install -qq datasets==2.19.0\n",
    "%pip install -qq evaluate==0.4.2\n",
    "%pip install -qq seqeval==1.2.2\n",
    "%pip install -qq accelerate==0.30.0\n",
    "%pip install -qq python-dotenv==1.0.1\n",
    "%pip install -qq wandb==0.16.6\n",
    "\n",
    "# formatter\n",
    "%pip install -qq black isort\n",
    "\n",
    "%pip install -qq kaggle\n",
    "\n",
    "%pip install optuna==3.6.1\n",
    "%pip install optuna_integration==3.6.0"
   ]
  },
  {
   "cell_type": "code",
   "execution_count": 43,
   "metadata": {
    "tags": []
   },
   "outputs": [
    {
     "name": "stdout",
     "output_type": "stream",
     "text": [
      "Requirement already satisfied: lightgbm==4.4.0 in /usr/local/lib/python3.11/dist-packages (4.4.0)\n",
      "Requirement already satisfied: numpy>=1.17.0 in /usr/local/lib/python3.11/dist-packages (from lightgbm==4.4.0) (1.26.3)\n",
      "Requirement already satisfied: scipy in /usr/local/lib/python3.11/dist-packages (from lightgbm==4.4.0) (1.11.2)\n",
      "\u001b[33mWARNING: Running pip as the 'root' user can result in broken permissions and conflicting behaviour with the system package manager. It is recommended to use a virtual environment instead: https://pip.pypa.io/warnings/venv\u001b[0m\u001b[33m\n",
      "\u001b[0m"
     ]
    }
   ],
   "source": [
    "!pip install lightgbm==4.4.0"
   ]
  },
  {
   "cell_type": "code",
   "execution_count": 44,
   "metadata": {
    "tags": []
   },
   "outputs": [],
   "source": [
    "import random\n",
    "import os\n",
    "import numpy as np\n",
    "import scipy as sp\n",
    "import torch\n",
    "import json\n",
    "import re\n",
    "import spacy\n",
    "import polars as pl\n",
    "# import lightgbm as lgb\n",
    "import optuna.integration.lightgbm as lgb\n",
    "from functools import partial\n",
    "from lightgbm import log_evaluation, early_stopping\n",
    "import wandb\n",
    "from sklearn.metrics import cohen_kappa_score\n",
    "import pickle\n",
    "from wandb.lightgbm import wandb_callback, log_summary"
   ]
  },
  {
   "cell_type": "code",
   "execution_count": 45,
   "metadata": {
    "tags": []
   },
   "outputs": [],
   "source": [
    "# Seed the same seed to all\n",
    "def seed_everything(seed: int) -> None:\n",
    "    random.seed(seed)\n",
    "    os.environ[\"PYTHONHASHSEED\"] = str(seed)\n",
    "    np.random.seed(seed)\n",
    "    torch.manual_seed(seed)\n",
    "    torch.cuda.manual_seed(seed)\n",
    "    torch.backends.cudnn.deterministic = True\n",
    "    torch.backends.cudnn.benchmark = True\n",
    "\n",
    "\n",
    "seed_everything(SEED)"
   ]
  },
  {
   "cell_type": "code",
   "execution_count": 46,
   "metadata": {
    "autoscroll": "auto",
    "collapsed": false,
    "jupyter": {
     "outputs_hidden": false
    },
    "tags": []
   },
   "outputs": [
    {
     "data": {
      "text/plain": [
       "True"
      ]
     },
     "execution_count": 46,
     "metadata": {},
     "output_type": "execute_result"
    }
   ],
   "source": [
    "from dotenv import load_dotenv\n",
    "\n",
    "load_dotenv(f\"{DATA_PATH}/.env\")"
   ]
  },
  {
   "cell_type": "code",
   "execution_count": 47,
   "metadata": {
    "tags": []
   },
   "outputs": [],
   "source": [
    "# with open(f\"{DATA_PATH}/essay_id_spelling_errors_cnt.json\", \"r\") as f:\n",
    "with open(f\"{DATA_PATH}/essay_id_spelling_errors_cnt_pyspell.json\", \"r\") as f:\n",
    "    essay_id_spelling_errors_cnt = json.load(f)"
   ]
  },
  {
   "cell_type": "markdown",
   "metadata": {},
   "source": [
    "# Wandb"
   ]
  },
  {
   "cell_type": "code",
   "execution_count": 48,
   "metadata": {
    "autoscroll": "auto",
    "collapsed": false,
    "jupyter": {
     "outputs_hidden": false
    },
    "tags": []
   },
   "outputs": [
    {
     "name": "stderr",
     "output_type": "stream",
     "text": [
      "\u001b[34m\u001b[1mwandb\u001b[0m: \u001b[33mWARNING\u001b[0m Calling wandb.login() after wandb.init() has no effect.\n"
     ]
    },
    {
     "data": {
      "text/html": [
       "Finishing last run (ID:eln7vaff) before initializing another..."
      ],
      "text/plain": [
       "<IPython.core.display.HTML object>"
      ]
     },
     "metadata": {},
     "output_type": "display_data"
    },
    {
     "data": {
      "application/vnd.jupyter.widget-view+json": {
       "model_id": "",
       "version_major": 2,
       "version_minor": 0
      },
      "text/plain": [
       "VBox(children=(Label(value='0.002 MB of 0.002 MB uploaded\\r'), FloatProgress(value=1.0, max=1.0)))"
      ]
     },
     "metadata": {},
     "output_type": "display_data"
    },
    {
     "data": {
      "text/html": [
       " View run <strong style=\"color:#cdcd00\">e107-s-sl-g-p-optuna</strong> at: <a href='https://wandb.ai/sinchir0/automated_essay_scoring/runs/eln7vaff' target=\"_blank\">https://wandb.ai/sinchir0/automated_essay_scoring/runs/eln7vaff</a><br/> View project at: <a href='https://wandb.ai/sinchir0/automated_essay_scoring' target=\"_blank\">https://wandb.ai/sinchir0/automated_essay_scoring</a><br/>Synced 5 W&B file(s), 0 media file(s), 2 artifact file(s) and 0 other file(s)"
      ],
      "text/plain": [
       "<IPython.core.display.HTML object>"
      ]
     },
     "metadata": {},
     "output_type": "display_data"
    },
    {
     "data": {
      "text/html": [
       "Find logs at: <code>./wandb/run-20240630_044718-eln7vaff/logs</code>"
      ],
      "text/plain": [
       "<IPython.core.display.HTML object>"
      ]
     },
     "metadata": {},
     "output_type": "display_data"
    },
    {
     "data": {
      "text/html": [
       "Successfully finished last run (ID:eln7vaff). Initializing new run:<br/>"
      ],
      "text/plain": [
       "<IPython.core.display.HTML object>"
      ]
     },
     "metadata": {},
     "output_type": "display_data"
    },
    {
     "data": {
      "application/vnd.jupyter.widget-view+json": {
       "model_id": "f046a8995bdf492e8ed15d9dc193dd18",
       "version_major": 2,
       "version_minor": 0
      },
      "text/plain": [
       "VBox(children=(Label(value='Waiting for wandb.init()...\\r'), FloatProgress(value=0.011112800954530636, max=1.0…"
      ]
     },
     "metadata": {},
     "output_type": "display_data"
    },
    {
     "data": {
      "text/html": [
       "wandb version 0.17.3 is available!  To upgrade, please run:\n",
       " $ pip install wandb --upgrade"
      ],
      "text/plain": [
       "<IPython.core.display.HTML object>"
      ]
     },
     "metadata": {},
     "output_type": "display_data"
    },
    {
     "data": {
      "text/html": [
       "Tracking run with wandb version 0.16.6"
      ],
      "text/plain": [
       "<IPython.core.display.HTML object>"
      ]
     },
     "metadata": {},
     "output_type": "display_data"
    },
    {
     "data": {
      "text/html": [
       "Run data is saved locally in <code>/notebooks/automated_essay_scoring/automated_essay_scoring/exp/wandb/run-20240630_045349-wyjah980</code>"
      ],
      "text/plain": [
       "<IPython.core.display.HTML object>"
      ]
     },
     "metadata": {},
     "output_type": "display_data"
    },
    {
     "data": {
      "text/html": [
       "Syncing run <strong><a href='https://wandb.ai/sinchir0/automated_essay_scoring/runs/wyjah980' target=\"_blank\">e107-s-sl-g-p-optuna</a></strong> to <a href='https://wandb.ai/sinchir0/automated_essay_scoring' target=\"_blank\">Weights & Biases</a> (<a href='https://wandb.me/run' target=\"_blank\">docs</a>)<br/>"
      ],
      "text/plain": [
       "<IPython.core.display.HTML object>"
      ]
     },
     "metadata": {},
     "output_type": "display_data"
    },
    {
     "data": {
      "text/html": [
       " View project at <a href='https://wandb.ai/sinchir0/automated_essay_scoring' target=\"_blank\">https://wandb.ai/sinchir0/automated_essay_scoring</a>"
      ],
      "text/plain": [
       "<IPython.core.display.HTML object>"
      ]
     },
     "metadata": {},
     "output_type": "display_data"
    },
    {
     "data": {
      "text/html": [
       " View run at <a href='https://wandb.ai/sinchir0/automated_essay_scoring/runs/wyjah980' target=\"_blank\">https://wandb.ai/sinchir0/automated_essay_scoring/runs/wyjah980</a>"
      ],
      "text/plain": [
       "<IPython.core.display.HTML object>"
      ]
     },
     "metadata": {},
     "output_type": "display_data"
    },
    {
     "data": {
      "text/plain": [
       "'wandb'"
      ]
     },
     "execution_count": 48,
     "metadata": {},
     "output_type": "execute_result"
    }
   ],
   "source": [
    "if WANDB:\n",
    "    wandb.login(key=os.environ[\"WANDB_API_KEY\"])\n",
    "    wandb.init(project=\"automated_essay_scoring\", name=EXP_NAME)\n",
    "    REPORT_TO = \"wandb\"\n",
    "else:\n",
    "    REPORT_TO = \"none\"\n",
    "\n",
    "REPORT_TO"
   ]
  },
  {
   "cell_type": "markdown",
   "metadata": {},
   "source": [
    "# Data Import"
   ]
  },
  {
   "cell_type": "code",
   "execution_count": 49,
   "metadata": {
    "tags": []
   },
   "outputs": [],
   "source": [
    "train = pl.read_csv(f\"{DATA_PATH}/train.csv\")"
   ]
  },
  {
   "cell_type": "code",
   "execution_count": 50,
   "metadata": {
    "autoscroll": "auto",
    "collapsed": false,
    "jupyter": {
     "outputs_hidden": false
    },
    "tags": []
   },
   "outputs": [
    {
     "data": {
      "text/html": [
       "<div><style>\n",
       ".dataframe > thead > tr,\n",
       ".dataframe > tbody > tr {\n",
       "  text-align: right;\n",
       "  white-space: pre-wrap;\n",
       "}\n",
       "</style>\n",
       "<small>shape: (5, 3)</small><table border=\"1\" class=\"dataframe\"><thead><tr><th>essay_id</th><th>full_text</th><th>score</th></tr><tr><td>str</td><td>str</td><td>i64</td></tr></thead><tbody><tr><td>&quot;000d118&quot;</td><td>&quot;Many people have car where the…</td><td>3</td></tr><tr><td>&quot;000fe60&quot;</td><td>&quot;I am a scientist at NASA that …</td><td>3</td></tr><tr><td>&quot;001ab80&quot;</td><td>&quot;People always wish they had th…</td><td>4</td></tr><tr><td>&quot;001bdc0&quot;</td><td>&quot;We all heard about Venus, the …</td><td>4</td></tr><tr><td>&quot;002ba53&quot;</td><td>&quot;Dear, State Senator\n",
       "\n",
       "This is a…</td><td>3</td></tr></tbody></table></div>"
      ],
      "text/plain": [
       "shape: (5, 3)\n",
       "┌──────────┬─────────────────────────────────┬───────┐\n",
       "│ essay_id ┆ full_text                       ┆ score │\n",
       "│ ---      ┆ ---                             ┆ ---   │\n",
       "│ str      ┆ str                             ┆ i64   │\n",
       "╞══════════╪═════════════════════════════════╪═══════╡\n",
       "│ 000d118  ┆ Many people have car where the… ┆ 3     │\n",
       "│ 000fe60  ┆ I am a scientist at NASA that … ┆ 3     │\n",
       "│ 001ab80  ┆ People always wish they had th… ┆ 4     │\n",
       "│ 001bdc0  ┆ We all heard about Venus, the … ┆ 4     │\n",
       "│ 002ba53  ┆ Dear, State Senator             ┆ 3     │\n",
       "│          ┆                                 ┆       │\n",
       "│          ┆ This is a…                      ┆       │\n",
       "└──────────┴─────────────────────────────────┴───────┘"
      ]
     },
     "execution_count": 50,
     "metadata": {},
     "output_type": "execute_result"
    }
   ],
   "source": [
    "train.head()"
   ]
  },
  {
   "cell_type": "markdown",
   "metadata": {},
   "source": [
    "# Add Fold"
   ]
  },
  {
   "cell_type": "code",
   "execution_count": 51,
   "metadata": {
    "tags": []
   },
   "outputs": [],
   "source": [
    "with open(f\"{DATA_PATH}/essay_id_fold_by_s_sl_g_p_only_train_dict.json\") as f:\n",
    "    essay_id_fold_only_train = json.load(f)"
   ]
  },
  {
   "cell_type": "code",
   "execution_count": 52,
   "metadata": {
    "tags": []
   },
   "outputs": [],
   "source": [
    "train = train.with_columns(\n",
    "    pl.col(\"essay_id\")\n",
    "    .replace(essay_id_fold_only_train, return_dtype=pl.Int64)\n",
    "    .alias(\"fold\")\n",
    ")"
   ]
  },
  {
   "cell_type": "markdown",
   "metadata": {},
   "source": [
    "# Add Predict"
   ]
  },
  {
   "cell_type": "code",
   "execution_count": 53,
   "metadata": {
    "tags": []
   },
   "outputs": [],
   "source": [
    "oof_e053 = pl.read_csv(f\"{DATA_PATH}/e053-cv-w-oof/oof.csv\").rename(\n",
    "    {\"valid_pred\": \"e053_xsmall_oof\"}\n",
    ")\n",
    "train = train.join(oof_e053, on=\"essay_id\", how=\"left\")"
   ]
  },
  {
   "cell_type": "code",
   "execution_count": 54,
   "metadata": {
    "tags": []
   },
   "outputs": [],
   "source": [
    "oof_e054 = pl.read_csv(f\"{DATA_PATH}/e054-cv-w-oof/oof.csv\").rename(\n",
    "    {\"valid_pred\": \"e054_small_oof\"}\n",
    ")\n",
    "train = train.join(oof_e054, on=\"essay_id\", how=\"left\")"
   ]
  },
  {
   "cell_type": "code",
   "execution_count": 55,
   "metadata": {
    "tags": []
   },
   "outputs": [],
   "source": [
    "oof_e055 = pl.read_csv(f\"{DATA_PATH}/e055-cv-w-oof/oof.csv\").rename(\n",
    "    {\"valid_pred\": \"e055_base_oof\"}\n",
    ")\n",
    "train = train.join(oof_e055, on=\"essay_id\", how=\"left\")"
   ]
  },
  {
   "cell_type": "code",
   "execution_count": 56,
   "metadata": {
    "tags": []
   },
   "outputs": [],
   "source": [
    "oof_e056 = pl.read_csv(f\"{DATA_PATH}/e056-cv-w-oof/oof.csv\").rename(\n",
    "    {\"valid_pred\": \"e056_large_oof\"}\n",
    ")\n",
    "train = train.join(oof_e056, on=\"essay_id\", how=\"left\")"
   ]
  },
  {
   "cell_type": "markdown",
   "metadata": {},
   "source": [
    "# Feature Engineering"
   ]
  },
  {
   "cell_type": "code",
   "execution_count": 57,
   "metadata": {
    "tags": []
   },
   "outputs": [
    {
     "name": "stdout",
     "output_type": "stream",
     "text": [
      "Requirement already satisfied: textstat==0.7.3 in /usr/local/lib/python3.11/dist-packages (0.7.3)\n",
      "Requirement already satisfied: pyphen in /usr/local/lib/python3.11/dist-packages (from textstat==0.7.3) (0.15.0)\n",
      "\u001b[33mWARNING: Running pip as the 'root' user can result in broken permissions and conflicting behaviour with the system package manager. It is recommended to use a virtual environment instead: https://pip.pypa.io/warnings/venv\u001b[0m\u001b[33m\n",
      "\u001b[0m"
     ]
    }
   ],
   "source": [
    "!pip install textstat==0.7.3"
   ]
  },
  {
   "cell_type": "code",
   "execution_count": 58,
   "metadata": {
    "tags": []
   },
   "outputs": [],
   "source": [
    "import textstat"
   ]
  },
  {
   "cell_type": "code",
   "execution_count": 59,
   "metadata": {
    "autoscroll": "auto",
    "collapsed": false,
    "jupyter": {
     "outputs_hidden": false
    },
    "tags": []
   },
   "outputs": [
    {
     "data": {
      "text/html": [
       "<div><style>\n",
       ".dataframe > thead > tr,\n",
       ".dataframe > tbody > tr {\n",
       "  text-align: right;\n",
       "  white-space: pre-wrap;\n",
       "}\n",
       "</style>\n",
       "<small>shape: (5, 12)</small><table border=\"1\" class=\"dataframe\"><thead><tr><th>essay_id</th><th>full_text</th><th>score</th><th>fold</th><th>e053_xsmall_oof</th><th>e054_small_oof</th><th>e055_base_oof</th><th>e056_large_oof</th><th>text_length</th><th>word_length</th><th>spelling_errors_cnt</th><th>rate_spelling_errors_per_word</th></tr><tr><td>str</td><td>str</td><td>i64</td><td>i64</td><td>f64</td><td>f64</td><td>f64</td><td>f64</td><td>u32</td><td>i64</td><td>i64</td><td>f64</td></tr></thead><tbody><tr><td>&quot;000d118&quot;</td><td>&quot;Many people have car where the…</td><td>3</td><td>0</td><td>2.59375</td><td>2.4804688</td><td>2.4941406</td><td>2.3769531</td><td>2677</td><td>498</td><td>22</td><td>0.044177</td></tr><tr><td>&quot;000fe60&quot;</td><td>&quot;I am a scientist at NASA that …</td><td>3</td><td>0</td><td>2.5761719</td><td>2.2910156</td><td>2.3007812</td><td>2.7050781</td><td>1669</td><td>332</td><td>5</td><td>0.01506</td></tr><tr><td>&quot;001ab80&quot;</td><td>&quot;People always wish they had th…</td><td>4</td><td>1</td><td>4.4882812</td><td>4.1523438</td><td>4.53125</td><td>4.4921875</td><td>3077</td><td>550</td><td>7</td><td>0.012727</td></tr><tr><td>&quot;001bdc0&quot;</td><td>&quot;We all heard about Venus, the …</td><td>4</td><td>0</td><td>3.4960938</td><td>3.3242188</td><td>3.0800781</td><td>3.2382812</td><td>2701</td><td>451</td><td>6</td><td>0.013304</td></tr><tr><td>&quot;002ba53&quot;</td><td>&quot;Dear, State Senator\n",
       "\n",
       "This is a…</td><td>3</td><td>2</td><td>2.8261719</td><td>2.9257812</td><td>3.0273438</td><td>2.7851562</td><td>2208</td><td>373</td><td>10</td><td>0.02681</td></tr></tbody></table></div>"
      ],
      "text/plain": [
       "shape: (5, 12)\n",
       "┌──────────┬─────────────┬───────┬──────┬───┬─────────────┬─────────────┬─────────────┬────────────┐\n",
       "│ essay_id ┆ full_text   ┆ score ┆ fold ┆ … ┆ text_length ┆ word_length ┆ spelling_er ┆ rate_spell │\n",
       "│ ---      ┆ ---         ┆ ---   ┆ ---  ┆   ┆ ---         ┆ ---         ┆ rors_cnt    ┆ ing_errors │\n",
       "│ str      ┆ str         ┆ i64   ┆ i64  ┆   ┆ u32         ┆ i64         ┆ ---         ┆ _per_word  │\n",
       "│          ┆             ┆       ┆      ┆   ┆             ┆             ┆ i64         ┆ ---        │\n",
       "│          ┆             ┆       ┆      ┆   ┆             ┆             ┆             ┆ f64        │\n",
       "╞══════════╪═════════════╪═══════╪══════╪═══╪═════════════╪═════════════╪═════════════╪════════════╡\n",
       "│ 000d118  ┆ Many people ┆ 3     ┆ 0    ┆ … ┆ 2677        ┆ 498         ┆ 22          ┆ 0.044177   │\n",
       "│          ┆ have car    ┆       ┆      ┆   ┆             ┆             ┆             ┆            │\n",
       "│          ┆ where the…  ┆       ┆      ┆   ┆             ┆             ┆             ┆            │\n",
       "│ 000fe60  ┆ I am a      ┆ 3     ┆ 0    ┆ … ┆ 1669        ┆ 332         ┆ 5           ┆ 0.01506    │\n",
       "│          ┆ scientist   ┆       ┆      ┆   ┆             ┆             ┆             ┆            │\n",
       "│          ┆ at NASA     ┆       ┆      ┆   ┆             ┆             ┆             ┆            │\n",
       "│          ┆ that …      ┆       ┆      ┆   ┆             ┆             ┆             ┆            │\n",
       "│ 001ab80  ┆ People      ┆ 4     ┆ 1    ┆ … ┆ 3077        ┆ 550         ┆ 7           ┆ 0.012727   │\n",
       "│          ┆ always wish ┆       ┆      ┆   ┆             ┆             ┆             ┆            │\n",
       "│          ┆ they had    ┆       ┆      ┆   ┆             ┆             ┆             ┆            │\n",
       "│          ┆ th…         ┆       ┆      ┆   ┆             ┆             ┆             ┆            │\n",
       "│ 001bdc0  ┆ We all      ┆ 4     ┆ 0    ┆ … ┆ 2701        ┆ 451         ┆ 6           ┆ 0.013304   │\n",
       "│          ┆ heard about ┆       ┆      ┆   ┆             ┆             ┆             ┆            │\n",
       "│          ┆ Venus, the  ┆       ┆      ┆   ┆             ┆             ┆             ┆            │\n",
       "│          ┆ …           ┆       ┆      ┆   ┆             ┆             ┆             ┆            │\n",
       "│ 002ba53  ┆ Dear, State ┆ 3     ┆ 2    ┆ … ┆ 2208        ┆ 373         ┆ 10          ┆ 0.02681    │\n",
       "│          ┆ Senator     ┆       ┆      ┆   ┆             ┆             ┆             ┆            │\n",
       "│          ┆             ┆       ┆      ┆   ┆             ┆             ┆             ┆            │\n",
       "│          ┆ This is a…  ┆       ┆      ┆   ┆             ┆             ┆             ┆            │\n",
       "└──────────┴─────────────┴───────┴──────┴───┴─────────────┴─────────────┴─────────────┴────────────┘"
      ]
     },
     "execution_count": 59,
     "metadata": {},
     "output_type": "execute_result"
    }
   ],
   "source": [
    "def get_text_length() -> pl.Expr:\n",
    "    return pl.col(\"full_text\").str.len_chars().alias(\"text_length\")\n",
    "\n",
    "\n",
    "def get_word_length() -> pl.Expr:\n",
    "    return (\n",
    "        pl.col(\"full_text\")\n",
    "        .map_elements(lambda x: len(x.split()), return_dtype=pl.Int64)\n",
    "        .alias(\"word_length\")\n",
    "    )\n",
    "\n",
    "\n",
    "def count_spelling_errors() -> pl.Expr:\n",
    "    return (\n",
    "        pl.col(\"essay_id\")\n",
    "        .replace(essay_id_spelling_errors_cnt, return_dtype=pl.Int64)\n",
    "        .alias(\"spelling_errors_cnt\")\n",
    "    )\n",
    "\n",
    "\n",
    "def rate_spelling_errors_per_word() -> pl.Expr:\n",
    "    return (pl.col(\"spelling_errors_cnt\") / pl.col(\"word_length\")).alias(\n",
    "        \"rate_spelling_errors_per_word\"\n",
    "    )\n",
    "\n",
    "\n",
    "train = train.with_columns(\n",
    "    get_text_length(), get_word_length(), count_spelling_errors()\n",
    ").with_columns(rate_spelling_errors_per_word())\n",
    "\n",
    "train.head()"
   ]
  },
  {
   "cell_type": "code",
   "execution_count": 60,
   "metadata": {
    "tags": []
   },
   "outputs": [],
   "source": [
    "import pandas as pd\n",
    "\n",
    "\n",
    "def textstat_features(text):\n",
    "    features = {}\n",
    "    features[\"flesch_reading_ease\"] = textstat.flesch_reading_ease(text)\n",
    "    features[\"flesch_kincaid_grade\"] = textstat.flesch_kincaid_grade(text)\n",
    "    features[\"smog_index\"] = textstat.smog_index(text)\n",
    "    features[\"coleman_liau_index\"] = textstat.coleman_liau_index(text)\n",
    "    features[\"automated_readability_index\"] = textstat.automated_readability_index(text)\n",
    "    features[\"dale_chall_readability_score\"] = textstat.dale_chall_readability_score(\n",
    "        text\n",
    "    )\n",
    "    features[\"difficult_words\"] = textstat.difficult_words(text)\n",
    "    features[\"linsear_write_formula\"] = textstat.linsear_write_formula(text)\n",
    "    features[\"gunning_fog\"] = textstat.gunning_fog(text)\n",
    "    features[\"text_standard\"] = textstat.text_standard(text, float_output=True)\n",
    "    features[\"spache_readability\"] = textstat.spache_readability(text)\n",
    "    features[\"mcalpine_eflaw\"] = textstat.mcalpine_eflaw(text)\n",
    "    features[\"reading_time\"] = textstat.reading_time(text)\n",
    "    features[\"syllable_count\"] = textstat.syllable_count(text)\n",
    "    features[\"lexicon_count\"] = textstat.lexicon_count(text)\n",
    "    features[\"monosyllabcount\"] = textstat.monosyllabcount(text)\n",
    "\n",
    "    return features\n",
    "\n",
    "\n",
    "train_text_stat_df = pl.DataFrame(\n",
    "    train[\"full_text\"].to_pandas().apply(textstat_features).tolist()\n",
    ")\n",
    "\n",
    "train = pl.concat([train, train_text_stat_df], how=\"horizontal\")"
   ]
  },
  {
   "cell_type": "code",
   "execution_count": 61,
   "metadata": {
    "tags": []
   },
   "outputs": [
    {
     "name": "stdout",
     "output_type": "stream",
     "text": [
      "2024-06-30 04:54:49.300625: E external/local_xla/xla/stream_executor/cuda/cuda_dnn.cc:9261] Unable to register cuDNN factory: Attempting to register factory for plugin cuDNN when one has already been registered\n",
      "2024-06-30 04:54:49.300699: E external/local_xla/xla/stream_executor/cuda/cuda_fft.cc:607] Unable to register cuFFT factory: Attempting to register factory for plugin cuFFT when one has already been registered\n",
      "2024-06-30 04:54:49.302115: E external/local_xla/xla/stream_executor/cuda/cuda_blas.cc:1515] Unable to register cuBLAS factory: Attempting to register factory for plugin cuBLAS when one has already been registered\n",
      "2024-06-30 04:54:49.309628: I tensorflow/core/platform/cpu_feature_guard.cc:182] This TensorFlow binary is optimized to use available CPU instructions in performance-critical operations.\n",
      "To enable the following instructions: AVX2 FMA, in other operations, rebuild TensorFlow with the appropriate compiler flags.\n",
      "2024-06-30 04:54:50.255728: W tensorflow/compiler/tf2tensorrt/utils/py_utils.cc:38] TF-TRT Warning: Could not find TensorRT\n",
      "2024-06-30 04:54:51.348768: I external/local_xla/xla/stream_executor/cuda/cuda_executor.cc:901] successful NUMA node read from SysFS had negative value (-1), but there must be at least one NUMA node, so returning NUMA node zero. See more at https://github.com/torvalds/linux/blob/v6.0/Documentation/ABI/testing/sysfs-bus-pci#L344-L355\n",
      "2024-06-30 04:54:51.349121: I external/local_xla/xla/stream_executor/cuda/cuda_executor.cc:901] successful NUMA node read from SysFS had negative value (-1), but there must be at least one NUMA node, so returning NUMA node zero. See more at https://github.com/torvalds/linux/blob/v6.0/Documentation/ABI/testing/sysfs-bus-pci#L344-L355\n",
      "2024-06-30 04:54:51.349230: I external/local_xla/xla/stream_executor/cuda/cuda_executor.cc:901] successful NUMA node read from SysFS had negative value (-1), but there must be at least one NUMA node, so returning NUMA node zero. See more at https://github.com/torvalds/linux/blob/v6.0/Documentation/ABI/testing/sysfs-bus-pci#L344-L355\n",
      "Collecting en-core-web-sm==3.6.0\n",
      "  Downloading https://github.com/explosion/spacy-models/releases/download/en_core_web_sm-3.6.0/en_core_web_sm-3.6.0-py3-none-any.whl (12.8 MB)\n",
      "\u001b[2K     \u001b[90m━━━━━━━━━━━━━━━━━━━━━━━━━━━━━━━━━━━━━━━━\u001b[0m \u001b[32m12.8/12.8 MB\u001b[0m \u001b[31m96.6 MB/s\u001b[0m eta \u001b[36m0:00:00\u001b[0m00:01\u001b[0m00:01\u001b[0m\n",
      "\u001b[?25hRequirement already satisfied: spacy<3.7.0,>=3.6.0 in /usr/local/lib/python3.11/dist-packages (from en-core-web-sm==3.6.0) (3.6.1)\n",
      "Requirement already satisfied: spacy-legacy<3.1.0,>=3.0.11 in /usr/local/lib/python3.11/dist-packages (from spacy<3.7.0,>=3.6.0->en-core-web-sm==3.6.0) (3.0.12)\n",
      "Requirement already satisfied: spacy-loggers<2.0.0,>=1.0.0 in /usr/local/lib/python3.11/dist-packages (from spacy<3.7.0,>=3.6.0->en-core-web-sm==3.6.0) (1.0.5)\n",
      "Requirement already satisfied: murmurhash<1.1.0,>=0.28.0 in /usr/local/lib/python3.11/dist-packages (from spacy<3.7.0,>=3.6.0->en-core-web-sm==3.6.0) (1.0.10)\n",
      "Requirement already satisfied: cymem<2.1.0,>=2.0.2 in /usr/local/lib/python3.11/dist-packages (from spacy<3.7.0,>=3.6.0->en-core-web-sm==3.6.0) (2.0.8)\n",
      "Requirement already satisfied: preshed<3.1.0,>=3.0.2 in /usr/local/lib/python3.11/dist-packages (from spacy<3.7.0,>=3.6.0->en-core-web-sm==3.6.0) (3.0.9)\n",
      "Requirement already satisfied: thinc<8.2.0,>=8.1.8 in /usr/local/lib/python3.11/dist-packages (from spacy<3.7.0,>=3.6.0->en-core-web-sm==3.6.0) (8.1.12)\n",
      "Requirement already satisfied: wasabi<1.2.0,>=0.9.1 in /usr/local/lib/python3.11/dist-packages (from spacy<3.7.0,>=3.6.0->en-core-web-sm==3.6.0) (1.1.2)\n",
      "Requirement already satisfied: srsly<3.0.0,>=2.4.3 in /usr/local/lib/python3.11/dist-packages (from spacy<3.7.0,>=3.6.0->en-core-web-sm==3.6.0) (2.4.8)\n",
      "Requirement already satisfied: catalogue<2.1.0,>=2.0.6 in /usr/local/lib/python3.11/dist-packages (from spacy<3.7.0,>=3.6.0->en-core-web-sm==3.6.0) (2.0.10)\n",
      "Requirement already satisfied: typer<0.10.0,>=0.3.0 in /usr/local/lib/python3.11/dist-packages (from spacy<3.7.0,>=3.6.0->en-core-web-sm==3.6.0) (0.9.0)\n",
      "Requirement already satisfied: pathy>=0.10.0 in /usr/local/lib/python3.11/dist-packages (from spacy<3.7.0,>=3.6.0->en-core-web-sm==3.6.0) (0.11.0)\n",
      "Requirement already satisfied: smart-open<7.0.0,>=5.2.1 in /usr/local/lib/python3.11/dist-packages (from spacy<3.7.0,>=3.6.0->en-core-web-sm==3.6.0) (6.4.0)\n",
      "Requirement already satisfied: tqdm<5.0.0,>=4.38.0 in /usr/local/lib/python3.11/dist-packages (from spacy<3.7.0,>=3.6.0->en-core-web-sm==3.6.0) (4.66.1)\n",
      "Requirement already satisfied: numpy>=1.15.0 in /usr/local/lib/python3.11/dist-packages (from spacy<3.7.0,>=3.6.0->en-core-web-sm==3.6.0) (1.26.3)\n",
      "Requirement already satisfied: requests<3.0.0,>=2.13.0 in /usr/local/lib/python3.11/dist-packages (from spacy<3.7.0,>=3.6.0->en-core-web-sm==3.6.0) (2.31.0)\n",
      "Requirement already satisfied: pydantic!=1.8,!=1.8.1,<3.0.0,>=1.7.4 in /usr/local/lib/python3.11/dist-packages (from spacy<3.7.0,>=3.6.0->en-core-web-sm==3.6.0) (1.10.14)\n",
      "Requirement already satisfied: jinja2 in /usr/local/lib/python3.11/dist-packages (from spacy<3.7.0,>=3.6.0->en-core-web-sm==3.6.0) (3.1.3)\n",
      "Requirement already satisfied: setuptools in /usr/local/lib/python3.11/dist-packages (from spacy<3.7.0,>=3.6.0->en-core-web-sm==3.6.0) (69.0.3)\n",
      "Requirement already satisfied: packaging>=20.0 in /usr/local/lib/python3.11/dist-packages (from spacy<3.7.0,>=3.6.0->en-core-web-sm==3.6.0) (23.2)\n",
      "Requirement already satisfied: langcodes<4.0.0,>=3.2.0 in /usr/local/lib/python3.11/dist-packages (from spacy<3.7.0,>=3.6.0->en-core-web-sm==3.6.0) (3.3.0)\n",
      "Requirement already satisfied: pathlib-abc==0.1.1 in /usr/local/lib/python3.11/dist-packages (from pathy>=0.10.0->spacy<3.7.0,>=3.6.0->en-core-web-sm==3.6.0) (0.1.1)\n",
      "Requirement already satisfied: typing-extensions>=4.2.0 in /usr/local/lib/python3.11/dist-packages (from pydantic!=1.8,!=1.8.1,<3.0.0,>=1.7.4->spacy<3.7.0,>=3.6.0->en-core-web-sm==3.6.0) (4.9.0)\n",
      "Requirement already satisfied: charset-normalizer<4,>=2 in /usr/local/lib/python3.11/dist-packages (from requests<3.0.0,>=2.13.0->spacy<3.7.0,>=3.6.0->en-core-web-sm==3.6.0) (3.3.2)\n",
      "Requirement already satisfied: idna<4,>=2.5 in /usr/lib/python3/dist-packages (from requests<3.0.0,>=2.13.0->spacy<3.7.0,>=3.6.0->en-core-web-sm==3.6.0) (3.3)\n",
      "Requirement already satisfied: urllib3<3,>=1.21.1 in /usr/local/lib/python3.11/dist-packages (from requests<3.0.0,>=2.13.0->spacy<3.7.0,>=3.6.0->en-core-web-sm==3.6.0) (2.0.7)\n",
      "Requirement already satisfied: certifi>=2017.4.17 in /usr/local/lib/python3.11/dist-packages (from requests<3.0.0,>=2.13.0->spacy<3.7.0,>=3.6.0->en-core-web-sm==3.6.0) (2024.6.2)\n",
      "Requirement already satisfied: blis<0.8.0,>=0.7.8 in /usr/local/lib/python3.11/dist-packages (from thinc<8.2.0,>=8.1.8->spacy<3.7.0,>=3.6.0->en-core-web-sm==3.6.0) (0.7.11)\n",
      "Requirement already satisfied: confection<1.0.0,>=0.0.1 in /usr/local/lib/python3.11/dist-packages (from thinc<8.2.0,>=8.1.8->spacy<3.7.0,>=3.6.0->en-core-web-sm==3.6.0) (0.1.4)\n",
      "Requirement already satisfied: click<9.0.0,>=7.1.1 in /usr/local/lib/python3.11/dist-packages (from typer<0.10.0,>=0.3.0->spacy<3.7.0,>=3.6.0->en-core-web-sm==3.6.0) (8.1.7)\n",
      "Requirement already satisfied: MarkupSafe>=2.0 in /usr/local/lib/python3.11/dist-packages (from jinja2->spacy<3.7.0,>=3.6.0->en-core-web-sm==3.6.0) (2.1.4)\n",
      "\u001b[33mWARNING: Running pip as the 'root' user can result in broken permissions and conflicting behaviour with the system package manager. It is recommended to use a virtual environment instead: https://pip.pypa.io/warnings/venv\u001b[0m\u001b[33m\n",
      "\u001b[0m\u001b[38;5;2m✔ Download and installation successful\u001b[0m\n",
      "You can now load the package via spacy.load('en_core_web_sm')\n"
     ]
    }
   ],
   "source": [
    "!python -m spacy download en_core_web_sm"
   ]
  },
  {
   "cell_type": "code",
   "execution_count": 62,
   "metadata": {
    "tags": []
   },
   "outputs": [],
   "source": [
    "nlp = spacy.load(\"en_core_web_sm\")\n",
    "from collections import Counter\n",
    "import nltk\n",
    "from nltk.sentiment.vader import SentimentIntensityAnalyzer\n",
    "from tqdm.auto import tqdm\n",
    "\n",
    "tqdm.pandas()\n",
    "# nltk.download()\n",
    "\n",
    "\n",
    "def extract_linguistic_features(text):\n",
    "\n",
    "    doc = nlp(text)\n",
    "    features = {}\n",
    "\n",
    "    # NER Features\n",
    "    entity_counts = {\n",
    "        \"GPE\": 0,\n",
    "        \"PERCENT\": 0,\n",
    "        \"NORP\": 0,\n",
    "        \"ORG\": 0,\n",
    "        \"CARDINAL\": 0,\n",
    "        \"MONEY\": 0,\n",
    "        \"DATE\": 0,\n",
    "        \"LOC\": 0,\n",
    "        \"PERSON\": 0,\n",
    "        \"QUANTITY\": 0,\n",
    "        \"EVENT\": 0,\n",
    "        \"ORDINAL\": 0,\n",
    "        \"WORK_OF_ART\": 0,\n",
    "        \"LAW\": 0,\n",
    "        \"PRODUCT\": 0,\n",
    "        \"TIME\": 0,\n",
    "        \"FAC\": 0,\n",
    "        \"LANGUAGE\": 0,\n",
    "    }\n",
    "    for entity in doc.ents:\n",
    "        if entity.label_ in entity_counts:\n",
    "            entity_counts[entity.label_] += 1\n",
    "    features[\"NER_Features\"] = entity_counts\n",
    "\n",
    "    # POS Features\n",
    "    pos_counts = {\n",
    "        \"ADJ\": 0,\n",
    "        \"NOUN\": 0,\n",
    "        \"VERB\": 0,\n",
    "        \"SCONJ\": 0,\n",
    "        \"PRON\": 0,\n",
    "        \"PUNCT\": 0,\n",
    "        \"DET\": 0,\n",
    "        \"AUX\": 0,\n",
    "        \"PART\": 0,\n",
    "        \"ADP\": 0,\n",
    "        \"SPACE\": 0,\n",
    "        \"CCONJ\": 0,\n",
    "        \"PROPN\": 0,\n",
    "        \"NUM\": 0,\n",
    "        \"ADV\": 0,\n",
    "        \"SYM\": 0,\n",
    "        \"INTJ\": 0,\n",
    "        \"X\": 0,\n",
    "    }\n",
    "    for token in doc:\n",
    "        if token.pos_ in pos_counts:\n",
    "            pos_counts[token.pos_] += 1\n",
    "    features[\"POS_Features\"] = pos_counts\n",
    "\n",
    "    # tag Features\n",
    "    tags = {\n",
    "        \"RB\": 0,\n",
    "        \"-RRB-\": 0,\n",
    "        \"PRP$\": 0,\n",
    "        \"JJ\": 0,\n",
    "        \"TO\": 0,\n",
    "        \"VBP\": 0,\n",
    "        \"JJS\": 0,\n",
    "        \"DT\": 0,\n",
    "        \"''\": 0,\n",
    "        \"UH\": 0,\n",
    "        \"RBS\": 0,\n",
    "        \"WRB\": 0,\n",
    "        \".\": 0,\n",
    "        \"HYPH\": 0,\n",
    "        \"XX\": 0,\n",
    "        \"``\": 0,\n",
    "        \"SYM\": 0,\n",
    "        \"VB\": 0,\n",
    "        \"VBN\": 0,\n",
    "        \"WP\": 0,\n",
    "        \"CC\": 0,\n",
    "        \"LS\": 0,\n",
    "        \"POS\": 0,\n",
    "        \"NN\": 0,\n",
    "        \",\": 0,\n",
    "        \"NNPS\": 0,\n",
    "        \"RP\": 0,\n",
    "        \":\": 0,\n",
    "        \"$\": 0,\n",
    "        \"PDT\": 0,\n",
    "        \"VBZ\": 0,\n",
    "        \"VBD\": 0,\n",
    "        \"JJR\": 0,\n",
    "        \"-LRB-\": 0,\n",
    "        \"IN\": 0,\n",
    "        \"RBR\": 0,\n",
    "        \"WDT\": 0,\n",
    "        \"EX\": 0,\n",
    "        \"MD\": 0,\n",
    "        \"_SP\": 0,\n",
    "        \"NNP\": 0,\n",
    "        \"CD\": 0,\n",
    "        \"VBG\": 0,\n",
    "        \"NNS\": 0,\n",
    "        \"PRP\": 0,\n",
    "    }\n",
    "\n",
    "    for token in doc:\n",
    "        if token.tag_ in tags:\n",
    "            tags[token.tag_] += 1\n",
    "    features[\"tag_Features\"] = tags\n",
    "\n",
    "    # tense features\n",
    "    tenses = [i.morph.get(\"Tense\") for i in doc]\n",
    "    tenses = [i[0] for i in tenses if i]\n",
    "    tense_counts = Counter(tenses)\n",
    "    features[\"past_tense_ratio\"] = tense_counts.get(\"Past\", 0) / (\n",
    "        tense_counts.get(\"Pres\", 0) + tense_counts.get(\"Past\", 0) + 1e-5\n",
    "    )\n",
    "    features[\"present_tense_ratio\"] = tense_counts.get(\"Pres\", 0) / (\n",
    "        tense_counts.get(\"Pres\", 0) + tense_counts.get(\"Past\", 0) + 1e-5\n",
    "    )\n",
    "\n",
    "    # len features\n",
    "\n",
    "    features[\"word_count\"] = len(doc)\n",
    "    features[\"sentence_count\"] = len([sentence for sentence in doc.sents])\n",
    "    features[\"words_per_sentence\"] = features[\"word_count\"] / features[\"sentence_count\"]\n",
    "    features[\"std_words_per_sentence\"] = np.std(\n",
    "        [len(sentence) for sentence in doc.sents]\n",
    "    )\n",
    "\n",
    "    features[\"unique_words\"] = len(set([token.text for token in doc]))\n",
    "    features[\"lexical_diversity\"] = features[\"unique_words\"] / features[\"word_count\"]\n",
    "\n",
    "    paragraph = text.split(\"\\n\\n\")\n",
    "\n",
    "    features[\"paragraph_count\"] = len(paragraph)\n",
    "\n",
    "    features[\"avg_chars_by_paragraph\"] = np.mean(\n",
    "        [len(paragraph) for paragraph in paragraph]\n",
    "    )\n",
    "    features[\"avg_words_by_paragraph\"] = np.mean(\n",
    "        [len(nltk.word_tokenize(paragraph)) for paragraph in paragraph]\n",
    "    )\n",
    "    features[\"avg_sentences_by_paragraph\"] = np.mean(\n",
    "        [len(nltk.sent_tokenize(paragraph)) for paragraph in paragraph]\n",
    "    )\n",
    "\n",
    "    # sentiment features\n",
    "    analyzer = SentimentIntensityAnalyzer()\n",
    "    sentences = nltk.sent_tokenize(text)\n",
    "\n",
    "    compound_scores, negative_scores, positive_scores, neutral_scores = [], [], [], []\n",
    "    for sentence in sentences:\n",
    "        scores = analyzer.polarity_scores(sentence)\n",
    "        compound_scores.append(scores[\"compound\"])\n",
    "        negative_scores.append(scores[\"neg\"])\n",
    "        positive_scores.append(scores[\"pos\"])\n",
    "        neutral_scores.append(scores[\"neu\"])\n",
    "\n",
    "    features[\"mean_compound\"] = np.mean(compound_scores)\n",
    "    features[\"mean_negative\"] = np.mean(negative_scores)\n",
    "    features[\"mean_positive\"] = np.mean(positive_scores)\n",
    "    features[\"mean_neutral\"] = np.mean(neutral_scores)\n",
    "\n",
    "    features[\"std_compound\"] = np.std(compound_scores)\n",
    "    features[\"std_negative\"] = np.std(negative_scores)\n",
    "    features[\"std_positive\"] = np.std(positive_scores)\n",
    "    features[\"std_neutral\"] = np.std(neutral_scores)\n",
    "\n",
    "    return features\n",
    "\n",
    "\n",
    "# train_linguistic = pl.DataFrame(\n",
    "#     pd.json_normalize(\n",
    "#         train.to_pandas()[\"full_text\"].progress_apply(extract_linguistic_features)\n",
    "#     )\n",
    "# )\n",
    "\n",
    "train_linguistic = pl.read_csv(f\"{DATA_PATH}/e106/train_linguistic.csv\")\n",
    "\n",
    "# LightGBMように変数名を修正\n",
    "train_linguistic = train_linguistic.rename(\n",
    "    {\n",
    "        \"tag_Features.,\": \"tag_Features.comma\",\n",
    "        'tag_Features.PRP$': \"tag_Features.PRP_doll\",\n",
    "        'tag_Features.PRP$': \"tag_Features.PRP_doll\",\n",
    "        \"tag_Features.''\": \"tag_Features.sinqle_quote\",\n",
    "        'tag_Features..': 'tag_Features.dot',\n",
    "        'tag_Features.``': 'tag_Features.quotation',\n",
    "        'tag_Features.:': 'tag_Features.semicoron',\n",
    "        'tag_Features.$': 'tag_Features.doll'\n",
    "        \n",
    "        \n",
    "    }\n",
    ")\n",
    "\n",
    "train = pl.concat([train, train_linguistic], how=\"horizontal\")"
   ]
  },
  {
   "cell_type": "code",
   "execution_count": 63,
   "metadata": {
    "autoscroll": "auto",
    "collapsed": false,
    "jupyter": {
     "outputs_hidden": false
    },
    "tags": []
   },
   "outputs": [
    {
     "data": {
      "text/plain": [
       "['past_tense_ratio',\n",
       " 'present_tense_ratio',\n",
       " 'word_count',\n",
       " 'sentence_count',\n",
       " 'words_per_sentence',\n",
       " 'std_words_per_sentence',\n",
       " 'unique_words',\n",
       " 'lexical_diversity',\n",
       " 'paragraph_count',\n",
       " 'avg_chars_by_paragraph',\n",
       " 'avg_words_by_paragraph',\n",
       " 'avg_sentences_by_paragraph',\n",
       " 'mean_compound',\n",
       " 'mean_negative',\n",
       " 'mean_positive',\n",
       " 'mean_neutral',\n",
       " 'std_compound',\n",
       " 'std_negative',\n",
       " 'std_positive',\n",
       " 'std_neutral',\n",
       " 'NER_Features.GPE',\n",
       " 'NER_Features.PERCENT',\n",
       " 'NER_Features.NORP',\n",
       " 'NER_Features.ORG',\n",
       " 'NER_Features.CARDINAL',\n",
       " 'NER_Features.MONEY',\n",
       " 'NER_Features.DATE',\n",
       " 'NER_Features.LOC',\n",
       " 'NER_Features.PERSON',\n",
       " 'NER_Features.QUANTITY',\n",
       " 'NER_Features.EVENT',\n",
       " 'NER_Features.ORDINAL',\n",
       " 'NER_Features.WORK_OF_ART',\n",
       " 'NER_Features.LAW',\n",
       " 'NER_Features.PRODUCT',\n",
       " 'NER_Features.TIME',\n",
       " 'NER_Features.FAC',\n",
       " 'NER_Features.LANGUAGE',\n",
       " 'POS_Features.ADJ',\n",
       " 'POS_Features.NOUN',\n",
       " 'POS_Features.VERB',\n",
       " 'POS_Features.SCONJ',\n",
       " 'POS_Features.PRON',\n",
       " 'POS_Features.PUNCT',\n",
       " 'POS_Features.DET',\n",
       " 'POS_Features.AUX',\n",
       " 'POS_Features.PART',\n",
       " 'POS_Features.ADP',\n",
       " 'POS_Features.SPACE',\n",
       " 'POS_Features.CCONJ',\n",
       " 'POS_Features.PROPN',\n",
       " 'POS_Features.NUM',\n",
       " 'POS_Features.ADV',\n",
       " 'POS_Features.SYM',\n",
       " 'POS_Features.INTJ',\n",
       " 'POS_Features.X',\n",
       " 'tag_Features.RB',\n",
       " 'tag_Features.-RRB-',\n",
       " 'tag_Features.PRP_doll',\n",
       " 'tag_Features.JJ',\n",
       " 'tag_Features.TO',\n",
       " 'tag_Features.VBP',\n",
       " 'tag_Features.JJS',\n",
       " 'tag_Features.DT',\n",
       " 'tag_Features.sinqle_quote',\n",
       " 'tag_Features.UH',\n",
       " 'tag_Features.RBS',\n",
       " 'tag_Features.WRB',\n",
       " 'tag_Features.dot',\n",
       " 'tag_Features.HYPH',\n",
       " 'tag_Features.XX',\n",
       " 'tag_Features.quotation',\n",
       " 'tag_Features.SYM',\n",
       " 'tag_Features.VB',\n",
       " 'tag_Features.VBN',\n",
       " 'tag_Features.WP',\n",
       " 'tag_Features.CC',\n",
       " 'tag_Features.LS',\n",
       " 'tag_Features.POS',\n",
       " 'tag_Features.NN',\n",
       " 'tag_Features.comma',\n",
       " 'tag_Features.NNPS',\n",
       " 'tag_Features.RP',\n",
       " 'tag_Features.semicoron',\n",
       " 'tag_Features.doll',\n",
       " 'tag_Features.PDT',\n",
       " 'tag_Features.VBZ',\n",
       " 'tag_Features.VBD',\n",
       " 'tag_Features.JJR',\n",
       " 'tag_Features.-LRB-',\n",
       " 'tag_Features.IN',\n",
       " 'tag_Features.RBR',\n",
       " 'tag_Features.WDT',\n",
       " 'tag_Features.EX',\n",
       " 'tag_Features.MD',\n",
       " 'tag_Features._SP',\n",
       " 'tag_Features.NNP',\n",
       " 'tag_Features.CD',\n",
       " 'tag_Features.VBG',\n",
       " 'tag_Features.NNS',\n",
       " 'tag_Features.PRP']"
      ]
     },
     "execution_count": 63,
     "metadata": {},
     "output_type": "execute_result"
    }
   ],
   "source": [
    "train_linguistic.columns"
   ]
  },
  {
   "cell_type": "markdown",
   "metadata": {},
   "source": [
    "## feedback feature"
   ]
  },
  {
   "cell_type": "code",
   "execution_count": 64,
   "metadata": {
    "tags": []
   },
   "outputs": [],
   "source": [
    "LOAD_FEEDBACK_FEATURE = True"
   ]
  },
  {
   "cell_type": "code",
   "execution_count": 65,
   "metadata": {
    "tags": []
   },
   "outputs": [],
   "source": [
    "from sentence_transformers import SentenceTransformer, models"
   ]
  },
  {
   "cell_type": "code",
   "execution_count": 66,
   "metadata": {
    "autoscroll": "auto",
    "collapsed": false,
    "jupyter": {
     "outputs_hidden": false
    },
    "tags": []
   },
   "outputs": [
    {
     "data": {
      "text/plain": [
       "'2.2.2'"
      ]
     },
     "execution_count": 66,
     "metadata": {},
     "output_type": "execute_result"
    }
   ],
   "source": [
    "import sentence_transformers\n",
    "sentence_transformers.__version__"
   ]
  },
  {
   "cell_type": "code",
   "execution_count": 67,
   "metadata": {
    "tags": []
   },
   "outputs": [],
   "source": [
    "if not LOAD_FEEDBACK_FEATURE:\n",
    "    feedback_df = pd.read_csv(f\"{DATA_PATH}/e106/feedback-data/feedback_data.csv\")\n",
    "\n",
    "    feed_embeds = []\n",
    "\n",
    "    merged_embeds = []\n",
    "\n",
    "    test_embeds = []\n",
    "\n",
    "    for i in range(5):\n",
    "        model_path = (\n",
    "            f\"{DATA_PATH}/e106/sent-debsmall/deberta_small_trained/temp_fold{i}_checkpoints\"\n",
    "        )\n",
    "        word_embedding_model = models.Transformer(model_path, max_seq_length=1024)\n",
    "        pooling_model = models.Pooling(word_embedding_model.get_word_embedding_dimension())\n",
    "        model = SentenceTransformer(modules=[word_embedding_model, pooling_model])\n",
    "\n",
    "        model.half()\n",
    "        model = model.to(\"cuda\")\n",
    "\n",
    "        feed_custom_embeddings_train = model.encode(\n",
    "            feedback_df.loc[:, \"full_text\"].values,\n",
    "            device=\"cuda\",\n",
    "            show_progress_bar=True,\n",
    "            normalize_embeddings=True,\n",
    "        )\n",
    "\n",
    "        feed_embeds.append(feed_custom_embeddings_train)\n",
    "\n",
    "        merged_custom_embeddings = model.encode(\n",
    "            train.to_pandas().loc[:, \"full_text\"].values,\n",
    "            device=\"cuda\",\n",
    "            show_progress_bar=True,\n",
    "            normalize_embeddings=True,\n",
    "        )\n",
    "\n",
    "        merged_embeds.append(merged_custom_embeddings)\n",
    "\n",
    "    #     test_custom_embeddings = model.encode(\n",
    "    #         test.loc[:, \"full_text\"].values,\n",
    "    #         device=\"cuda\",\n",
    "    #         show_progress_bar=True,\n",
    "    #         normalize_embeddings=True,\n",
    "    #     )\n",
    "\n",
    "    #     test_embeds.append(test_custom_embeddings)\n",
    "\n",
    "    feed_embeds = np.mean(feed_embeds, axis=0)\n",
    "    merged_embeds = np.mean(merged_embeds, axis=0)\n",
    "    # test_embeds = np.mean(test_embeds, axis=0)\n",
    "    \n",
    "    from sklearn.linear_model import Ridge\n",
    "    from sklearn.multioutput import MultiOutputRegressor\n",
    "\n",
    "    targets = ['cohesion', 'syntax', 'vocabulary', 'phraseology', 'grammar', 'conventions']\n",
    "\n",
    "    ridge = Ridge(alpha=1.0)\n",
    "\n",
    "    multioutputregressor = MultiOutputRegressor(ridge)\n",
    "    multioutputregressor.fit(feed_embeds, feedback_df.loc[:, targets])\n",
    "    \n",
    "    with open(f\"{MODEL_OUTPUT_PATH}/fb_ridge.pkl\", 'wb') as file:\n",
    "        pickle.dump(multioutputregressor, file)\n",
    "    \n",
    "    feedback_predictions = multioutputregressor.predict(merged_embeds)\n",
    "\n",
    "    feedback_predictions_df = pd.DataFrame(feedback_predictions, columns=targets)\n",
    "\n",
    "    # test_feedback_predictions = multioutputregressor.predict(test_embeds)\n",
    "    # test_feedback_predictions_df = pd.DataFrame(test_feedback_predictions, columns=targets)\n",
    "\n",
    "    feedback_predictions_df.head()\n",
    "    \n",
    "    feedback_predictions_df.to_csv(f\"{DATA_PATH}/e106/feedback-data/feedback_predictions.csv\")\n",
    "else:\n",
    "    feedback_predictions_df = pd.read_csv(f\"{DATA_PATH}/e106/feedback-data/feedback_predictions.csv\")"
   ]
  },
  {
   "cell_type": "code",
   "execution_count": 68,
   "metadata": {
    "autoscroll": "auto",
    "collapsed": false,
    "jupyter": {
     "outputs_hidden": false
    },
    "tags": []
   },
   "outputs": [
    {
     "data": {
      "text/plain": [
       "Index(['Unnamed: 0', 'cohesion', 'syntax', 'vocabulary', 'phraseology',\n",
       "       'grammar', 'conventions'],\n",
       "      dtype='object')"
      ]
     },
     "execution_count": 68,
     "metadata": {},
     "output_type": "execute_result"
    }
   ],
   "source": [
    "feedback_predictions_df.columns"
   ]
  },
  {
   "cell_type": "code",
   "execution_count": 69,
   "metadata": {
    "tags": []
   },
   "outputs": [],
   "source": [
    "train = pl.concat([train, pl.from_pandas(feedback_predictions_df)], how=\"horizontal\")"
   ]
  },
  {
   "cell_type": "markdown",
   "metadata": {},
   "source": [
    "# Training"
   ]
  },
  {
   "cell_type": "code",
   "execution_count": 70,
   "metadata": {
    "tags": []
   },
   "outputs": [],
   "source": [
    "TARGET_COL = \"score\"\n",
    "USE_COL = [\n",
    "    \"e053_xsmall_oof\",\n",
    "    \"e054_small_oof\",\n",
    "    \"e055_base_oof\",\n",
    "    \"e056_large_oof\",\n",
    "    \"text_length\",\n",
    "    \"word_length\",\n",
    "    \"spelling_errors_cnt\",\n",
    "    \"rate_spelling_errors_per_word\",\n",
    "]\n",
    "\n",
    "USE_COL += [\n",
    "    \"flesch_reading_ease\",\n",
    "    \"flesch_kincaid_grade\",\n",
    "    \"smog_index\",\n",
    "    \"coleman_liau_index\",\n",
    "    \"automated_readability_index\",\n",
    "    \"dale_chall_readability_score\",\n",
    "    \"difficult_words\",\n",
    "    \"linsear_write_formula\",\n",
    "    \"gunning_fog\",\n",
    "    \"text_standard\",\n",
    "    \"spache_readability\",\n",
    "    \"mcalpine_eflaw\",\n",
    "    \"reading_time\",\n",
    "    \"syllable_count\",\n",
    "    \"lexicon_count\",\n",
    "    \"monosyllabcount\",\n",
    "]\n",
    "\n",
    "USE_COL += ['past_tense_ratio',\n",
    " 'present_tense_ratio',\n",
    " 'word_count',\n",
    " 'sentence_count',\n",
    " 'words_per_sentence',\n",
    " 'std_words_per_sentence',\n",
    " 'unique_words',\n",
    " 'lexical_diversity',\n",
    " 'paragraph_count',\n",
    " 'avg_chars_by_paragraph',\n",
    " 'avg_words_by_paragraph',\n",
    " 'avg_sentences_by_paragraph',\n",
    " 'mean_compound',\n",
    " 'mean_negative',\n",
    " 'mean_positive',\n",
    " 'mean_neutral',\n",
    " 'std_compound',\n",
    " 'std_negative',\n",
    " 'std_positive',\n",
    " 'std_neutral',\n",
    " 'NER_Features.GPE',\n",
    " 'NER_Features.PERCENT',\n",
    " 'NER_Features.NORP',\n",
    " 'NER_Features.ORG',\n",
    " 'NER_Features.CARDINAL',\n",
    " 'NER_Features.MONEY',\n",
    " 'NER_Features.DATE',\n",
    " 'NER_Features.LOC',\n",
    " 'NER_Features.PERSON',\n",
    " 'NER_Features.QUANTITY',\n",
    " 'NER_Features.EVENT',\n",
    " 'NER_Features.ORDINAL',\n",
    " 'NER_Features.WORK_OF_ART',\n",
    " 'NER_Features.LAW',\n",
    " 'NER_Features.PRODUCT',\n",
    " 'NER_Features.TIME',\n",
    " 'NER_Features.FAC',\n",
    " 'NER_Features.LANGUAGE',\n",
    " 'POS_Features.ADJ',\n",
    " 'POS_Features.NOUN',\n",
    " 'POS_Features.VERB',\n",
    " 'POS_Features.SCONJ',\n",
    " 'POS_Features.PRON',\n",
    " 'POS_Features.PUNCT',\n",
    " 'POS_Features.DET',\n",
    " 'POS_Features.AUX',\n",
    " 'POS_Features.PART',\n",
    " 'POS_Features.ADP',\n",
    " 'POS_Features.SPACE',\n",
    " 'POS_Features.CCONJ',\n",
    " 'POS_Features.PROPN',\n",
    " 'POS_Features.NUM',\n",
    " 'POS_Features.ADV',\n",
    " 'POS_Features.SYM',\n",
    " 'POS_Features.INTJ',\n",
    " 'POS_Features.X',\n",
    " 'tag_Features.RB',\n",
    " 'tag_Features.-RRB-',\n",
    " 'tag_Features.PRP_doll',\n",
    " 'tag_Features.JJ',\n",
    " 'tag_Features.TO',\n",
    " 'tag_Features.VBP',\n",
    " 'tag_Features.JJS',\n",
    " 'tag_Features.DT',\n",
    " 'tag_Features.sinqle_quote',\n",
    " 'tag_Features.UH',\n",
    " 'tag_Features.RBS',\n",
    " 'tag_Features.WRB',\n",
    " 'tag_Features.dot',\n",
    " 'tag_Features.HYPH',\n",
    " 'tag_Features.XX',\n",
    " 'tag_Features.quotation',\n",
    " 'tag_Features.SYM',\n",
    " 'tag_Features.VB',\n",
    " 'tag_Features.VBN',\n",
    " 'tag_Features.WP',\n",
    " 'tag_Features.CC',\n",
    " 'tag_Features.LS',\n",
    " 'tag_Features.POS',\n",
    " 'tag_Features.NN',\n",
    " 'tag_Features.comma',\n",
    " 'tag_Features.NNPS',\n",
    " 'tag_Features.RP',\n",
    " 'tag_Features.semicoron',\n",
    " 'tag_Features.doll',\n",
    " 'tag_Features.PDT',\n",
    " 'tag_Features.VBZ',\n",
    " 'tag_Features.VBD',\n",
    " 'tag_Features.JJR',\n",
    " 'tag_Features.-LRB-',\n",
    " 'tag_Features.IN',\n",
    " 'tag_Features.RBR',\n",
    " 'tag_Features.WDT',\n",
    " 'tag_Features.EX',\n",
    " 'tag_Features.MD',\n",
    " 'tag_Features._SP',\n",
    " 'tag_Features.NNP',\n",
    " 'tag_Features.CD',\n",
    " 'tag_Features.VBG',\n",
    " 'tag_Features.NNS',\n",
    " 'tag_Features.PRP'\n",
    "]\n",
    "\n",
    "USE_COL += [\n",
    "    'cohesion',\n",
    "    'syntax',\n",
    "    'vocabulary',\n",
    "    'phraseology',\n",
    "    'grammar',\n",
    "    'conventions'\n",
    "]"
   ]
  },
  {
   "cell_type": "code",
   "execution_count": 71,
   "metadata": {
    "tags": []
   },
   "outputs": [],
   "source": [
    "# LightGBMで用いるパラメータを指定\n",
    "params = {\n",
    "    \"objective\": \"regression\",\n",
    "    \"metric\": \"rmse\",\n",
    "    \"max_depth\": -1,\n",
    "    \"min_data_in_leaf\": 10,  # 1つの葉に入る最小のデータ数\n",
    "    \"num_leaves\": 24,  # 2**max_depthより少し小さめにすると過学習を防げる\n",
    "    \"learning_rate\": 0.01,  # 1回のiterationで学習を進める割合、大きいと学習が早く終わる。小さいと学習は長いが高精度になりやすい。\n",
    "    \"bagging_freq\": 5,  # 指定した回数ごとにbaggingを行う\n",
    "    \"feature_fraction\": 0.7,  # 1回のiterationで利用する特徴量(列方向)の割合\n",
    "    \"bagging_fraction\": 0.6,  # 1回のiterationで利用するデータ(行方向)の割合\n",
    "    \"verbose\": -1,  # 出力するログレベルの変更、-1はFatalなログのみを出力\n",
    "    \"seed\": SEED,  # ランダムシードの固定\n",
    "    \"lambda_l1\": 0.4,  # 正則化のためのパラメータ\n",
    "    \"lambda_l2\": 0.4,  # 正則化のためのパラメータ\n",
    "}"
   ]
  },
  {
   "cell_type": "code",
   "execution_count": 72,
   "metadata": {
    "autoscroll": "auto",
    "collapsed": false,
    "jupyter": {
     "outputs_hidden": false
    },
    "tags": []
   },
   "outputs": [
    {
     "name": "stderr",
     "output_type": "stream",
     "text": [
      "[I 2024-06-30 04:54:57,016] A new study created in memory with name: no-name-e2a10b81-1b80-4f0b-9a26-7cdfb4ec5768\n"
     ]
    },
    {
     "name": "stdout",
     "output_type": "stream",
     "text": [
      "Start fold 0\n"
     ]
    },
    {
     "name": "stderr",
     "output_type": "stream",
     "text": [
      "\n",
      "  0%|          | 0/7 [00:00<?, ?it/s]\u001b[A\n",
      "feature_fraction, val_score: inf:   0%|          | 0/7 [00:00<?, ?it/s]\u001b[A"
     ]
    },
    {
     "name": "stdout",
     "output_type": "stream",
     "text": [
      "Training until validation scores don't improve for 100 rounds\n",
      "[100]\tvalid_0's rmse: 0.617519\tvalid_1's rmse: 0.687156\n",
      "[200]\tvalid_0's rmse: 0.515498\tvalid_1's rmse: 0.617107\n",
      "[300]\tvalid_0's rmse: 0.485755\tvalid_1's rmse: 0.610321\n"
     ]
    },
    {
     "name": "stderr",
     "output_type": "stream",
     "text": [
      "\n",
      "feature_fraction, val_score: 0.609734:   0%|          | 0/7 [00:03<?, ?it/s]\u001b[A\n",
      "feature_fraction, val_score: 0.609734:  14%|#4        | 1/7 [00:03<00:22,  3.73s/it]\u001b[A[I 2024-06-30 04:55:00,753] Trial 0 finished with value: 0.6097337448140616 and parameters: {'feature_fraction': 0.4}. Best is trial 0 with value: 0.6097337448140616.\n",
      "\n",
      "feature_fraction, val_score: 0.609734:  14%|#4        | 1/7 [00:03<00:22,  3.73s/it]\u001b[A"
     ]
    },
    {
     "name": "stdout",
     "output_type": "stream",
     "text": [
      "Early stopping, best iteration is:\n",
      "[280]\tvalid_0's rmse: 0.489788\tvalid_1's rmse: 0.609734\n",
      "Training until validation scores don't improve for 100 rounds\n",
      "[100]\tvalid_0's rmse: 0.61313\tvalid_1's rmse: 0.684608\n",
      "[200]\tvalid_0's rmse: 0.510532\tvalid_1's rmse: 0.608656\n",
      "[300]\tvalid_0's rmse: 0.480799\tvalid_1's rmse: 0.602463\n"
     ]
    },
    {
     "name": "stderr",
     "output_type": "stream",
     "text": [
      "\n",
      "feature_fraction, val_score: 0.601470:  14%|#4        | 1/7 [00:12<00:22,  3.73s/it]\u001b[A\n",
      "feature_fraction, val_score: 0.601470:  29%|##8       | 2/7 [00:12<00:34,  6.99s/it]\u001b[A[I 2024-06-30 04:55:10,023] Trial 1 finished with value: 0.6014703130551943 and parameters: {'feature_fraction': 0.8}. Best is trial 1 with value: 0.6014703130551943.\n",
      "\n",
      "feature_fraction, val_score: 0.601470:  29%|##8       | 2/7 [00:13<00:34,  6.99s/it]\u001b[A"
     ]
    },
    {
     "name": "stdout",
     "output_type": "stream",
     "text": [
      "Early stopping, best iteration is:\n",
      "[271]\tvalid_0's rmse: 0.48692\tvalid_1's rmse: 0.60147\n",
      "Training until validation scores don't improve for 100 rounds\n",
      "[100]\tvalid_0's rmse: 0.615369\tvalid_1's rmse: 0.686012\n",
      "[200]\tvalid_0's rmse: 0.513445\tvalid_1's rmse: 0.613684\n",
      "[300]\tvalid_0's rmse: 0.483717\tvalid_1's rmse: 0.606697\n"
     ]
    },
    {
     "name": "stderr",
     "output_type": "stream",
     "text": [
      "\n",
      "feature_fraction, val_score: 0.601470:  29%|##8       | 2/7 [00:15<00:34,  6.99s/it]\u001b[A\n",
      "feature_fraction, val_score: 0.601470:  43%|####2     | 3/7 [00:15<00:18,  4.73s/it]\u001b[A[I 2024-06-30 04:55:12,070] Trial 2 finished with value: 0.6064310075582355 and parameters: {'feature_fraction': 0.5}. Best is trial 1 with value: 0.6014703130551943.\n",
      "\n",
      "feature_fraction, val_score: 0.601470:  43%|####2     | 3/7 [00:15<00:18,  4.73s/it]\u001b[A"
     ]
    },
    {
     "name": "stdout",
     "output_type": "stream",
     "text": [
      "Early stopping, best iteration is:\n",
      "[272]\tvalid_0's rmse: 0.489522\tvalid_1's rmse: 0.606431\n",
      "Training until validation scores don't improve for 100 rounds\n",
      "[100]\tvalid_0's rmse: 0.612651\tvalid_1's rmse: 0.684125\n",
      "[200]\tvalid_0's rmse: 0.50989\tvalid_1's rmse: 0.606559\n",
      "[300]\tvalid_0's rmse: 0.480226\tvalid_1's rmse: 0.599634\n"
     ]
    },
    {
     "name": "stderr",
     "output_type": "stream",
     "text": [
      "\n",
      "feature_fraction, val_score: 0.599008:  43%|####2     | 3/7 [00:16<00:18,  4.73s/it]\u001b[A\n",
      "feature_fraction, val_score: 0.599008:  57%|#####7    | 4/7 [00:16<00:10,  3.57s/it]\u001b[A[I 2024-06-30 04:55:13,848] Trial 3 finished with value: 0.5990080683192055 and parameters: {'feature_fraction': 0.8999999999999999}. Best is trial 3 with value: 0.5990080683192055.\n",
      "\n",
      "feature_fraction, val_score: 0.599008:  57%|#####7    | 4/7 [00:16<00:10,  3.57s/it]\u001b[A"
     ]
    },
    {
     "name": "stdout",
     "output_type": "stream",
     "text": [
      "Early stopping, best iteration is:\n",
      "[270]\tvalid_0's rmse: 0.486591\tvalid_1's rmse: 0.599008\n",
      "Training until validation scores don't improve for 100 rounds\n",
      "[100]\tvalid_0's rmse: 0.613988\tvalid_1's rmse: 0.68501\n",
      "[200]\tvalid_0's rmse: 0.511843\tvalid_1's rmse: 0.612036\n",
      "[300]\tvalid_0's rmse: 0.482392\tvalid_1's rmse: 0.605748\n"
     ]
    },
    {
     "name": "stderr",
     "output_type": "stream",
     "text": [
      "\n",
      "feature_fraction, val_score: 0.599008:  57%|#####7    | 4/7 [00:26<00:10,  3.57s/it]\u001b[A\n",
      "feature_fraction, val_score: 0.599008:  71%|#######1  | 5/7 [00:26<00:11,  5.84s/it]\u001b[A[I 2024-06-30 04:55:23,715] Trial 4 finished with value: 0.6050702083246791 and parameters: {'feature_fraction': 0.6}. Best is trial 3 with value: 0.5990080683192055.\n",
      "\n",
      "feature_fraction, val_score: 0.599008:  71%|#######1  | 5/7 [00:26<00:11,  5.84s/it]\u001b[A"
     ]
    },
    {
     "name": "stdout",
     "output_type": "stream",
     "text": [
      "Early stopping, best iteration is:\n",
      "[272]\tvalid_0's rmse: 0.488097\tvalid_1's rmse: 0.60507\n",
      "Training until validation scores don't improve for 100 rounds\n",
      "[100]\tvalid_0's rmse: 0.613886\tvalid_1's rmse: 0.685304\n",
      "[200]\tvalid_0's rmse: 0.511282\tvalid_1's rmse: 0.609822\n",
      "[300]\tvalid_0's rmse: 0.481582\tvalid_1's rmse: 0.60323\n"
     ]
    },
    {
     "name": "stderr",
     "output_type": "stream",
     "text": [
      "\n",
      "feature_fraction, val_score: 0.599008:  71%|#######1  | 5/7 [00:28<00:11,  5.84s/it]\u001b[A\n",
      "feature_fraction, val_score: 0.599008:  86%|########5 | 6/7 [00:28<00:04,  4.50s/it]\u001b[A[I 2024-06-30 04:55:25,620] Trial 5 finished with value: 0.602516839214367 and parameters: {'feature_fraction': 0.7}. Best is trial 3 with value: 0.5990080683192055.\n",
      "\n",
      "feature_fraction, val_score: 0.599008:  86%|########5 | 6/7 [00:28<00:04,  4.50s/it]\u001b[A"
     ]
    },
    {
     "name": "stdout",
     "output_type": "stream",
     "text": [
      "Early stopping, best iteration is:\n",
      "[270]\tvalid_0's rmse: 0.487899\tvalid_1's rmse: 0.602517\n",
      "Training until validation scores don't improve for 100 rounds\n",
      "[100]\tvalid_0's rmse: 0.612577\tvalid_1's rmse: 0.684554\n",
      "[200]\tvalid_0's rmse: 0.509885\tvalid_1's rmse: 0.605931\n",
      "[300]\tvalid_0's rmse: 0.480376\tvalid_1's rmse: 0.599284\n"
     ]
    },
    {
     "name": "stderr",
     "output_type": "stream",
     "text": [
      "\n",
      "feature_fraction, val_score: 0.599008:  86%|########5 | 6/7 [00:30<00:04,  4.50s/it]\u001b[A\n",
      "feature_fraction, val_score: 0.599008: 100%|##########| 7/7 [00:30<00:00,  3.66s/it]\u001b[A[I 2024-06-30 04:55:27,551] Trial 6 finished with value: 0.5991508391300733 and parameters: {'feature_fraction': 1.0}. Best is trial 3 with value: 0.5990080683192055.\n",
      "feature_fraction, val_score: 0.599008: 100%|##########| 7/7 [00:30<00:00,  4.36s/it]\n"
     ]
    },
    {
     "name": "stdout",
     "output_type": "stream",
     "text": [
      "Early stopping, best iteration is:\n",
      "[270]\tvalid_0's rmse: 0.486789\tvalid_1's rmse: 0.599151\n"
     ]
    },
    {
     "name": "stderr",
     "output_type": "stream",
     "text": [
      "\n",
      "  0%|          | 0/20 [00:00<?, ?it/s]\u001b[A\n",
      "num_leaves, val_score: 0.599008:   0%|          | 0/20 [00:00<?, ?it/s]\u001b[A"
     ]
    },
    {
     "name": "stdout",
     "output_type": "stream",
     "text": [
      "Training until validation scores don't improve for 100 rounds\n",
      "[100]\tvalid_0's rmse: 0.569286\tvalid_1's rmse: 0.679376\n",
      "[200]\tvalid_0's rmse: 0.427464\tvalid_1's rmse: 0.610699\n",
      "[300]\tvalid_0's rmse: 0.368155\tvalid_1's rmse: 0.603517\n"
     ]
    },
    {
     "name": "stderr",
     "output_type": "stream",
     "text": [
      "\n",
      "num_leaves, val_score: 0.599008:   0%|          | 0/20 [00:07<?, ?it/s]\u001b[A\n",
      "num_leaves, val_score: 0.599008:   5%|5         | 1/20 [00:07<02:14,  7.08s/it]\u001b[A[I 2024-06-30 04:55:34,642] Trial 7 finished with value: 0.6032393769993664 and parameters: {'num_leaves': 124}. Best is trial 7 with value: 0.6032393769993664.\n",
      "\n",
      "num_leaves, val_score: 0.599008:   5%|5         | 1/20 [00:07<02:14,  7.08s/it]\u001b[A"
     ]
    },
    {
     "name": "stdout",
     "output_type": "stream",
     "text": [
      "Early stopping, best iteration is:\n",
      "[292]\tvalid_0's rmse: 0.371909\tvalid_1's rmse: 0.603239\n",
      "Training until validation scores don't improve for 100 rounds\n",
      "[100]\tvalid_0's rmse: 0.544846\tvalid_1's rmse: 0.678528\n",
      "[200]\tvalid_0's rmse: 0.376416\tvalid_1's rmse: 0.611299\n",
      "[300]\tvalid_0's rmse: 0.298641\tvalid_1's rmse: 0.605756\n"
     ]
    },
    {
     "name": "stderr",
     "output_type": "stream",
     "text": [
      "\n",
      "num_leaves, val_score: 0.599008:   5%|5         | 1/20 [00:19<02:14,  7.08s/it]\u001b[A\n",
      "num_leaves, val_score: 0.599008:  10%|#         | 2/20 [00:19<03:03, 10.19s/it]\u001b[A[I 2024-06-30 04:55:47,004] Trial 8 finished with value: 0.604760567570637 and parameters: {'num_leaves': 251}. Best is trial 7 with value: 0.6032393769993664.\n",
      "\n",
      "num_leaves, val_score: 0.599008:  10%|#         | 2/20 [00:19<03:03, 10.19s/it]\u001b[A"
     ]
    },
    {
     "name": "stdout",
     "output_type": "stream",
     "text": [
      "Early stopping, best iteration is:\n",
      "[279]\tvalid_0's rmse: 0.311804\tvalid_1's rmse: 0.604761\n",
      "Training until validation scores don't improve for 100 rounds\n",
      "[100]\tvalid_0's rmse: 0.632565\tvalid_1's rmse: 0.701685\n",
      "[200]\tvalid_0's rmse: 0.537122\tvalid_1's rmse: 0.617607\n",
      "[300]\tvalid_0's rmse: 0.512561\tvalid_1's rmse: 0.606993\n"
     ]
    },
    {
     "name": "stderr",
     "output_type": "stream",
     "text": [
      "\n",
      "num_leaves, val_score: 0.599008:  10%|#         | 2/20 [00:24<03:03, 10.19s/it]\u001b[A\n",
      "num_leaves, val_score: 0.599008:  15%|#5        | 3/20 [00:24<02:11,  7.75s/it]\u001b[A[I 2024-06-30 04:55:51,845] Trial 9 finished with value: 0.6065516167537486 and parameters: {'num_leaves': 9}. Best is trial 7 with value: 0.6032393769993664.\n",
      "\n",
      "num_leaves, val_score: 0.599008:  15%|#5        | 3/20 [00:24<02:11,  7.75s/it]\u001b[A"
     ]
    },
    {
     "name": "stdout",
     "output_type": "stream",
     "text": [
      "Early stopping, best iteration is:\n",
      "[296]\tvalid_0's rmse: 0.513179\tvalid_1's rmse: 0.606552\n",
      "Training until validation scores don't improve for 100 rounds\n",
      "[100]\tvalid_0's rmse: 0.545107\tvalid_1's rmse: 0.679221\n",
      "[200]\tvalid_0's rmse: 0.377389\tvalid_1's rmse: 0.610849\n",
      "[300]\tvalid_0's rmse: 0.300099\tvalid_1's rmse: 0.604915\n"
     ]
    },
    {
     "name": "stderr",
     "output_type": "stream",
     "text": [
      "\n",
      "num_leaves, val_score: 0.599008:  15%|#5        | 3/20 [00:40<02:11,  7.75s/it]\u001b[A\n",
      "num_leaves, val_score: 0.599008:  20%|##        | 4/20 [00:40<02:57, 11.09s/it]\u001b[A[I 2024-06-30 04:56:08,048] Trial 10 finished with value: 0.604089125340658 and parameters: {'num_leaves': 248}. Best is trial 7 with value: 0.6032393769993664.\n",
      "\n",
      "num_leaves, val_score: 0.599008:  20%|##        | 4/20 [00:40<02:57, 11.09s/it]\u001b[A"
     ]
    },
    {
     "name": "stdout",
     "output_type": "stream",
     "text": [
      "Early stopping, best iteration is:\n",
      "[281]\tvalid_0's rmse: 0.311819\tvalid_1's rmse: 0.604089\n",
      "Training until validation scores don't improve for 100 rounds\n",
      "[100]\tvalid_0's rmse: 0.628386\tvalid_1's rmse: 0.696806\n",
      "[200]\tvalid_0's rmse: 0.532062\tvalid_1's rmse: 0.613909\n"
     ]
    },
    {
     "name": "stderr",
     "output_type": "stream",
     "text": [
      "\n",
      "num_leaves, val_score: 0.599008:  20%|##        | 4/20 [00:41<02:57, 11.09s/it]\u001b[A\n",
      "num_leaves, val_score: 0.599008:  25%|##5       | 5/20 [00:41<01:51,  7.43s/it]"
     ]
    },
    {
     "name": "stdout",
     "output_type": "stream",
     "text": [
      "[300]\tvalid_0's rmse: 0.507193\tvalid_1's rmse: 0.604622\n",
      "Early stopping, best iteration is:\n",
      "[295]\tvalid_0's rmse: 0.507986\tvalid_1's rmse: 0.604133\n"
     ]
    },
    {
     "name": "stderr",
     "output_type": "stream",
     "text": [
      "\u001b[A[I 2024-06-30 04:56:08,990] Trial 11 finished with value: 0.6041329982857884 and parameters: {'num_leaves': 11}. Best is trial 7 with value: 0.6032393769993664.\n",
      "\n",
      "num_leaves, val_score: 0.599008:  25%|##5       | 5/20 [00:41<01:51,  7.43s/it]\u001b[A"
     ]
    },
    {
     "name": "stdout",
     "output_type": "stream",
     "text": [
      "Training until validation scores don't improve for 100 rounds\n",
      "[100]\tvalid_0's rmse: 0.566979\tvalid_1's rmse: 0.679729\n",
      "[200]\tvalid_0's rmse: 0.42281\tvalid_1's rmse: 0.610638\n",
      "[300]\tvalid_0's rmse: 0.362086\tvalid_1's rmse: 0.603508\n"
     ]
    },
    {
     "name": "stderr",
     "output_type": "stream",
     "text": [
      "\n",
      "num_leaves, val_score: 0.599008:  25%|##5       | 5/20 [00:49<01:51,  7.43s/it]\u001b[A\n",
      "num_leaves, val_score: 0.599008:  30%|###       | 6/20 [00:49<01:44,  7.49s/it]\u001b[A[I 2024-06-30 04:56:16,608] Trial 12 finished with value: 0.6033767258390338 and parameters: {'num_leaves': 132}. Best is trial 7 with value: 0.6032393769993664.\n",
      "\n",
      "num_leaves, val_score: 0.599008:  30%|###       | 6/20 [00:49<01:44,  7.49s/it]\u001b[A"
     ]
    },
    {
     "name": "stdout",
     "output_type": "stream",
     "text": [
      "Early stopping, best iteration is:\n",
      "[296]\tvalid_0's rmse: 0.363965\tvalid_1's rmse: 0.603377\n",
      "Training until validation scores don't improve for 100 rounds\n",
      "[100]\tvalid_0's rmse: 0.566151\tvalid_1's rmse: 0.679873\n",
      "[200]\tvalid_0's rmse: 0.421027\tvalid_1's rmse: 0.61102\n",
      "[300]\tvalid_0's rmse: 0.359645\tvalid_1's rmse: 0.603712\n"
     ]
    },
    {
     "name": "stderr",
     "output_type": "stream",
     "text": [
      "\n",
      "num_leaves, val_score: 0.599008:  30%|###       | 6/20 [00:55<01:44,  7.49s/it]\u001b[A\n",
      "num_leaves, val_score: 0.599008:  35%|###5      | 7/20 [00:55<01:34,  7.26s/it]\u001b[A[I 2024-06-30 04:56:23,385] Trial 13 finished with value: 0.6034323704816048 and parameters: {'num_leaves': 135}. Best is trial 7 with value: 0.6032393769993664.\n",
      "\n",
      "num_leaves, val_score: 0.599008:  35%|###5      | 7/20 [00:55<01:34,  7.26s/it]\u001b[A"
     ]
    },
    {
     "name": "stdout",
     "output_type": "stream",
     "text": [
      "Early stopping, best iteration is:\n",
      "[296]\tvalid_0's rmse: 0.361593\tvalid_1's rmse: 0.603432\n",
      "Training until validation scores don't improve for 100 rounds\n",
      "[100]\tvalid_0's rmse: 0.588923\tvalid_1's rmse: 0.679206\n",
      "[200]\tvalid_0's rmse: 0.467088\tvalid_1's rmse: 0.608185\n",
      "[300]\tvalid_0's rmse: 0.422571\tvalid_1's rmse: 0.600842\n"
     ]
    },
    {
     "name": "stderr",
     "output_type": "stream",
     "text": [
      "\n",
      "num_leaves, val_score: 0.599008:  35%|###5      | 7/20 [01:00<01:34,  7.26s/it]\u001b[A\n",
      "num_leaves, val_score: 0.599008:  40%|####      | 8/20 [01:00<01:16,  6.42s/it]\u001b[A[I 2024-06-30 04:56:27,997] Trial 14 finished with value: 0.6004613909008206 and parameters: {'num_leaves': 66}. Best is trial 14 with value: 0.6004613909008206.\n",
      "\n",
      "num_leaves, val_score: 0.599008:  40%|####      | 8/20 [01:00<01:16,  6.42s/it]\u001b[A"
     ]
    },
    {
     "name": "stdout",
     "output_type": "stream",
     "text": [
      "Early stopping, best iteration is:\n",
      "[292]\tvalid_0's rmse: 0.425299\tvalid_1's rmse: 0.600461\n",
      "Training until validation scores don't improve for 100 rounds\n",
      "[100]\tvalid_0's rmse: 0.550008\tvalid_1's rmse: 0.677929\n",
      "[200]\tvalid_0's rmse: 0.387695\tvalid_1's rmse: 0.609935\n",
      "[300]\tvalid_0's rmse: 0.314148\tvalid_1's rmse: 0.605291\n"
     ]
    },
    {
     "name": "stderr",
     "output_type": "stream",
     "text": [
      "\n",
      "num_leaves, val_score: 0.599008:  40%|####      | 8/20 [01:09<01:16,  6.42s/it]\u001b[A\n",
      "num_leaves, val_score: 0.599008:  45%|####5     | 9/20 [01:09<01:20,  7.35s/it]\u001b[A[I 2024-06-30 04:56:37,385] Trial 15 finished with value: 0.6043559037087112 and parameters: {'num_leaves': 213}. Best is trial 14 with value: 0.6004613909008206.\n",
      "\n",
      "num_leaves, val_score: 0.599008:  45%|####5     | 9/20 [01:09<01:20,  7.35s/it]\u001b[A"
     ]
    },
    {
     "name": "stdout",
     "output_type": "stream",
     "text": [
      "Early stopping, best iteration is:\n",
      "[262]\tvalid_0's rmse: 0.337555\tvalid_1's rmse: 0.604356\n",
      "Training until validation scores don't improve for 100 rounds\n",
      "[100]\tvalid_0's rmse: 0.554792\tvalid_1's rmse: 0.678465\n",
      "[200]\tvalid_0's rmse: 0.398029\tvalid_1's rmse: 0.609991\n",
      "[300]\tvalid_0's rmse: 0.327829\tvalid_1's rmse: 0.60346\n"
     ]
    },
    {
     "name": "stderr",
     "output_type": "stream",
     "text": [
      "\n",
      "num_leaves, val_score: 0.599008:  45%|####5     | 9/20 [01:31<01:20,  7.35s/it]\u001b[A\n",
      "num_leaves, val_score: 0.599008:  50%|#####     | 10/20 [01:31<01:57, 11.73s/it]\u001b[A[I 2024-06-30 04:56:58,945] Trial 16 finished with value: 0.602812299746131 and parameters: {'num_leaves': 186}. Best is trial 14 with value: 0.6004613909008206.\n",
      "\n",
      "num_leaves, val_score: 0.599008:  50%|#####     | 10/20 [01:31<01:57, 11.73s/it]\u001b[A"
     ]
    },
    {
     "name": "stdout",
     "output_type": "stream",
     "text": [
      "Early stopping, best iteration is:\n",
      "[283]\tvalid_0's rmse: 0.337439\tvalid_1's rmse: 0.602812\n",
      "Training until validation scores don't improve for 100 rounds\n",
      "[100]\tvalid_0's rmse: 0.589347\tvalid_1's rmse: 0.679422\n",
      "[200]\tvalid_0's rmse: 0.467719\tvalid_1's rmse: 0.608191\n",
      "[300]\tvalid_0's rmse: 0.423501\tvalid_1's rmse: 0.601074\n"
     ]
    },
    {
     "name": "stderr",
     "output_type": "stream",
     "text": [
      "\n",
      "num_leaves, val_score: 0.599008:  50%|#####     | 10/20 [01:34<01:57, 11.73s/it]\u001b[A\n",
      "num_leaves, val_score: 0.599008:  55%|#####5    | 11/20 [01:34<01:22,  9.15s/it]\u001b[A[I 2024-06-30 04:57:02,248] Trial 17 finished with value: 0.6007427574425173 and parameters: {'num_leaves': 65}. Best is trial 14 with value: 0.6004613909008206.\n",
      "\n",
      "num_leaves, val_score: 0.599008:  55%|#####5    | 11/20 [01:34<01:22,  9.15s/it]\u001b[A"
     ]
    },
    {
     "name": "stdout",
     "output_type": "stream",
     "text": [
      "Early stopping, best iteration is:\n",
      "[281]\tvalid_0's rmse: 0.429964\tvalid_1's rmse: 0.600743\n",
      "Training until validation scores don't improve for 100 rounds\n",
      "[100]\tvalid_0's rmse: 0.556737\tvalid_1's rmse: 0.678635\n",
      "[200]\tvalid_0's rmse: 0.4019\tvalid_1's rmse: 0.609984\n",
      "[300]\tvalid_0's rmse: 0.333108\tvalid_1's rmse: 0.603793\n"
     ]
    },
    {
     "name": "stderr",
     "output_type": "stream",
     "text": [
      "\n",
      "num_leaves, val_score: 0.599008:  55%|#####5    | 11/20 [01:44<01:22,  9.15s/it]\u001b[A\n",
      "num_leaves, val_score: 0.599008:  60%|######    | 12/20 [01:44<01:15,  9.41s/it]\u001b[A[I 2024-06-30 04:57:12,251] Trial 18 finished with value: 0.6029882818817721 and parameters: {'num_leaves': 176}. Best is trial 14 with value: 0.6004613909008206.\n",
      "\n",
      "num_leaves, val_score: 0.599008:  60%|######    | 12/20 [01:44<01:15,  9.41s/it]\u001b[A"
     ]
    },
    {
     "name": "stdout",
     "output_type": "stream",
     "text": [
      "Early stopping, best iteration is:\n",
      "[262]\tvalid_0's rmse: 0.355021\tvalid_1's rmse: 0.602988\n",
      "Training until validation scores don't improve for 100 rounds\n",
      "[100]\tvalid_0's rmse: 0.586529\tvalid_1's rmse: 0.678955\n",
      "[200]\tvalid_0's rmse: 0.462295\tvalid_1's rmse: 0.607739\n",
      "[300]\tvalid_0's rmse: 0.416117\tvalid_1's rmse: 0.601225\n"
     ]
    },
    {
     "name": "stderr",
     "output_type": "stream",
     "text": [
      "\n",
      "num_leaves, val_score: 0.599008:  60%|######    | 12/20 [01:48<01:15,  9.41s/it]\u001b[A\n",
      "num_leaves, val_score: 0.599008:  65%|######5   | 13/20 [01:48<00:53,  7.63s/it]\u001b[A[I 2024-06-30 04:57:15,795] Trial 19 finished with value: 0.6007627420772598 and parameters: {'num_leaves': 72}. Best is trial 14 with value: 0.6004613909008206.\n",
      "\n",
      "num_leaves, val_score: 0.599008:  65%|######5   | 13/20 [01:48<00:53,  7.63s/it]\u001b[A"
     ]
    },
    {
     "name": "stdout",
     "output_type": "stream",
     "text": [
      "Early stopping, best iteration is:\n",
      "[281]\tvalid_0's rmse: 0.422832\tvalid_1's rmse: 0.600763\n",
      "Training until validation scores don't improve for 100 rounds\n",
      "[100]\tvalid_0's rmse: 0.574853\tvalid_1's rmse: 0.679595\n",
      "[200]\tvalid_0's rmse: 0.438937\tvalid_1's rmse: 0.610257\n",
      "[300]\tvalid_0's rmse: 0.383754\tvalid_1's rmse: 0.603572\n"
     ]
    },
    {
     "name": "stderr",
     "output_type": "stream",
     "text": [
      "\n",
      "num_leaves, val_score: 0.599008:  65%|######5   | 13/20 [02:02<00:53,  7.63s/it]\u001b[A\n",
      "num_leaves, val_score: 0.599008:  70%|#######   | 14/20 [02:02<00:58,  9.74s/it]\u001b[A[I 2024-06-30 04:57:30,408] Trial 20 finished with value: 0.6030881818289592 and parameters: {'num_leaves': 105}. Best is trial 14 with value: 0.6004613909008206.\n",
      "\n",
      "num_leaves, val_score: 0.599008:  70%|#######   | 14/20 [02:02<00:58,  9.74s/it]\u001b[A"
     ]
    },
    {
     "name": "stdout",
     "output_type": "stream",
     "text": [
      "Early stopping, best iteration is:\n",
      "[281]\tvalid_0's rmse: 0.392066\tvalid_1's rmse: 0.603088\n",
      "Training until validation scores don't improve for 100 rounds\n",
      "[100]\tvalid_0's rmse: 0.593987\tvalid_1's rmse: 0.679856\n",
      "[200]\tvalid_0's rmse: 0.476672\tvalid_1's rmse: 0.607512\n",
      "[300]\tvalid_0's rmse: 0.435761\tvalid_1's rmse: 0.601258\n"
     ]
    },
    {
     "name": "stderr",
     "output_type": "stream",
     "text": [
      "\n",
      "num_leaves, val_score: 0.599008:  70%|#######   | 14/20 [02:06<00:58,  9.74s/it]\u001b[A\n",
      "num_leaves, val_score: 0.599008:  75%|#######5  | 15/20 [02:06<00:39,  7.83s/it]\u001b[A[I 2024-06-30 04:57:33,792] Trial 21 finished with value: 0.6007808876676363 and parameters: {'num_leaves': 55}. Best is trial 14 with value: 0.6004613909008206.\n",
      "\n",
      "num_leaves, val_score: 0.599008:  75%|#######5  | 15/20 [02:06<00:39,  7.83s/it]\u001b[A"
     ]
    },
    {
     "name": "stdout",
     "output_type": "stream",
     "text": [
      "Early stopping, best iteration is:\n",
      "[281]\tvalid_0's rmse: 0.441627\tvalid_1's rmse: 0.600781\n",
      "Training until validation scores don't improve for 100 rounds\n",
      "[100]\tvalid_0's rmse: 0.603469\tvalid_1's rmse: 0.682492\n",
      "[200]\tvalid_0's rmse: 0.494407\tvalid_1's rmse: 0.60747\n",
      "[300]\tvalid_0's rmse: 0.459945\tvalid_1's rmse: 0.601561\n"
     ]
    },
    {
     "name": "stderr",
     "output_type": "stream",
     "text": [
      "\n",
      "num_leaves, val_score: 0.599008:  75%|#######5  | 15/20 [02:08<00:39,  7.83s/it]\u001b[A\n",
      "num_leaves, val_score: 0.599008:  80%|########  | 16/20 [02:08<00:24,  6.11s/it]\u001b[A[I 2024-06-30 04:57:35,932] Trial 22 finished with value: 0.6012737760695517 and parameters: {'num_leaves': 37}. Best is trial 14 with value: 0.6004613909008206.\n",
      "\n",
      "num_leaves, val_score: 0.599008:  80%|########  | 16/20 [02:08<00:24,  6.11s/it]\u001b[A"
     ]
    },
    {
     "name": "stdout",
     "output_type": "stream",
     "text": [
      "Early stopping, best iteration is:\n",
      "[273]\tvalid_0's rmse: 0.466847\tvalid_1's rmse: 0.601274\n",
      "Training until validation scores don't improve for 100 rounds\n",
      "[100]\tvalid_0's rmse: 0.579145\tvalid_1's rmse: 0.6796\n",
      "[200]\tvalid_0's rmse: 0.44759\tvalid_1's rmse: 0.609722\n",
      "[300]\tvalid_0's rmse: 0.395652\tvalid_1's rmse: 0.6025\n"
     ]
    },
    {
     "name": "stderr",
     "output_type": "stream",
     "text": [
      "\n",
      "num_leaves, val_score: 0.599008:  80%|########  | 16/20 [02:13<00:24,  6.11s/it]\u001b[A\n",
      "num_leaves, val_score: 0.599008:  85%|########5 | 17/20 [02:13<00:17,  5.71s/it]\u001b[A[I 2024-06-30 04:57:40,708] Trial 23 finished with value: 0.6022074111750665 and parameters: {'num_leaves': 92}. Best is trial 14 with value: 0.6004613909008206.\n",
      "\n",
      "num_leaves, val_score: 0.599008:  85%|########5 | 17/20 [02:13<00:17,  5.71s/it]\u001b[A"
     ]
    },
    {
     "name": "stdout",
     "output_type": "stream",
     "text": [
      "Early stopping, best iteration is:\n",
      "[293]\tvalid_0's rmse: 0.398416\tvalid_1's rmse: 0.602207\n",
      "Training until validation scores don't improve for 100 rounds\n",
      "[100]\tvalid_0's rmse: 0.559101\tvalid_1's rmse: 0.678524\n",
      "[200]\tvalid_0's rmse: 0.406648\tvalid_1's rmse: 0.610473\n",
      "[300]\tvalid_0's rmse: 0.33994\tvalid_1's rmse: 0.603932\n"
     ]
    },
    {
     "name": "stderr",
     "output_type": "stream",
     "text": [
      "\n",
      "num_leaves, val_score: 0.599008:  85%|########5 | 17/20 [02:29<00:17,  5.71s/it]\u001b[A\n",
      "num_leaves, val_score: 0.599008:  90%|######### | 18/20 [02:29<00:17,  8.90s/it]\u001b[A[I 2024-06-30 04:57:57,016] Trial 24 finished with value: 0.6032701828243509 and parameters: {'num_leaves': 165}. Best is trial 14 with value: 0.6004613909008206.\n",
      "\n",
      "num_leaves, val_score: 0.599008:  90%|######### | 18/20 [02:29<00:17,  8.90s/it]\u001b[A"
     ]
    },
    {
     "name": "stdout",
     "output_type": "stream",
     "text": [
      "Early stopping, best iteration is:\n",
      "[267]\tvalid_0's rmse: 0.358135\tvalid_1's rmse: 0.60327\n",
      "Training until validation scores don't improve for 100 rounds\n",
      "[100]\tvalid_0's rmse: 0.600123\tvalid_1's rmse: 0.681388\n",
      "[200]\tvalid_0's rmse: 0.488444\tvalid_1's rmse: 0.607393\n",
      "[300]\tvalid_0's rmse: 0.451706\tvalid_1's rmse: 0.601531\n"
     ]
    },
    {
     "name": "stderr",
     "output_type": "stream",
     "text": [
      "\n",
      "num_leaves, val_score: 0.599008:  90%|######### | 18/20 [02:31<00:17,  8.90s/it]\u001b[A\n",
      "num_leaves, val_score: 0.599008:  95%|#########5| 19/20 [02:31<00:06,  6.85s/it]\u001b[A[I 2024-06-30 04:57:59,097] Trial 25 finished with value: 0.6010790003102199 and parameters: {'num_leaves': 43}. Best is trial 14 with value: 0.6004613909008206.\n",
      "\n",
      "num_leaves, val_score: 0.599008:  95%|#########5| 19/20 [02:31<00:06,  6.85s/it]\u001b[A"
     ]
    },
    {
     "name": "stdout",
     "output_type": "stream",
     "text": [
      "Early stopping, best iteration is:\n",
      "[280]\tvalid_0's rmse: 0.457103\tvalid_1's rmse: 0.601079\n",
      "Training until validation scores don't improve for 100 rounds\n",
      "[100]\tvalid_0's rmse: 0.580279\tvalid_1's rmse: 0.679478\n",
      "[200]\tvalid_0's rmse: 0.449651\tvalid_1's rmse: 0.609663\n",
      "[300]\tvalid_0's rmse: 0.398556\tvalid_1's rmse: 0.602354\n"
     ]
    },
    {
     "name": "stderr",
     "output_type": "stream",
     "text": [
      "\n",
      "num_leaves, val_score: 0.599008:  95%|#########5| 19/20 [02:40<00:06,  6.85s/it]\u001b[A\n",
      "num_leaves, val_score: 0.599008: 100%|##########| 20/20 [02:40<00:00,  7.51s/it]\u001b[A[I 2024-06-30 04:58:08,140] Trial 26 finished with value: 0.6018656190365115 and parameters: {'num_leaves': 89}. Best is trial 14 with value: 0.6004613909008206.\n",
      "num_leaves, val_score: 0.599008: 100%|##########| 20/20 [02:40<00:00,  8.03s/it]\n"
     ]
    },
    {
     "name": "stdout",
     "output_type": "stream",
     "text": [
      "Early stopping, best iteration is:\n",
      "[290]\tvalid_0's rmse: 0.402605\tvalid_1's rmse: 0.601866\n"
     ]
    },
    {
     "name": "stderr",
     "output_type": "stream",
     "text": [
      "\n",
      "  0%|          | 0/10 [00:00<?, ?it/s]\u001b[A\n",
      "bagging, val_score: 0.599008:   0%|          | 0/10 [00:00<?, ?it/s]\u001b[A"
     ]
    },
    {
     "name": "stdout",
     "output_type": "stream",
     "text": [
      "Training until validation scores don't improve for 100 rounds\n",
      "[100]\tvalid_0's rmse: 0.612735\tvalid_1's rmse: 0.687468\n",
      "[200]\tvalid_0's rmse: 0.509904\tvalid_1's rmse: 0.609705\n",
      "[300]\tvalid_0's rmse: 0.479618\tvalid_1's rmse: 0.599489\n"
     ]
    },
    {
     "name": "stderr",
     "output_type": "stream",
     "text": [
      "\n",
      "bagging, val_score: 0.599008:   0%|          | 0/10 [00:01<?, ?it/s]\u001b[A\n",
      "bagging, val_score: 0.599008:  10%|#         | 1/10 [00:01<00:17,  1.91s/it]\u001b[A[I 2024-06-30 04:58:10,054] Trial 27 finished with value: 0.5992393400146939 and parameters: {'bagging_fraction': 0.8656932813349617, 'bagging_freq': 2}. Best is trial 27 with value: 0.5992393400146939.\n",
      "\n",
      "bagging, val_score: 0.599008:  10%|#         | 1/10 [00:01<00:17,  1.91s/it]\u001b[A"
     ]
    },
    {
     "name": "stdout",
     "output_type": "stream",
     "text": [
      "[400]\tvalid_0's rmse: 0.463416\tvalid_1's rmse: 0.602202\n",
      "Early stopping, best iteration is:\n",
      "[306]\tvalid_0's rmse: 0.478412\tvalid_1's rmse: 0.599239\n",
      "Training until validation scores don't improve for 100 rounds\n",
      "[100]\tvalid_0's rmse: 0.61271\tvalid_1's rmse: 0.685928\n",
      "[200]\tvalid_0's rmse: 0.509748\tvalid_1's rmse: 0.608947\n",
      "[300]\tvalid_0's rmse: 0.479587\tvalid_1's rmse: 0.600301\n"
     ]
    },
    {
     "name": "stderr",
     "output_type": "stream",
     "text": [
      "\n",
      "bagging, val_score: 0.599008:  10%|#         | 1/10 [00:08<00:17,  1.91s/it]\u001b[A\n",
      "bagging, val_score: 0.599008:  20%|##        | 2/10 [00:08<00:36,  4.53s/it]\u001b[A[I 2024-06-30 04:58:16,422] Trial 28 finished with value: 0.6001879645495112 and parameters: {'bagging_fraction': 0.9039175680068959, 'bagging_freq': 2}. Best is trial 27 with value: 0.5992393400146939.\n",
      "\n",
      "bagging, val_score: 0.599008:  20%|##        | 2/10 [00:08<00:36,  4.53s/it]\u001b[A"
     ]
    },
    {
     "name": "stdout",
     "output_type": "stream",
     "text": [
      "[400]\tvalid_0's rmse: 0.463386\tvalid_1's rmse: 0.60345\n",
      "Early stopping, best iteration is:\n",
      "[303]\tvalid_0's rmse: 0.478978\tvalid_1's rmse: 0.600188\n",
      "Training until validation scores don't improve for 100 rounds\n",
      "[100]\tvalid_0's rmse: 0.612455\tvalid_1's rmse: 0.685297\n",
      "[200]\tvalid_0's rmse: 0.50932\tvalid_1's rmse: 0.609734\n",
      "[300]\tvalid_0's rmse: 0.479306\tvalid_1's rmse: 0.60263\n"
     ]
    },
    {
     "name": "stderr",
     "output_type": "stream",
     "text": [
      "\n",
      "bagging, val_score: 0.599008:  20%|##        | 2/10 [00:10<00:36,  4.53s/it]\u001b[A\n",
      "bagging, val_score: 0.599008:  30%|###       | 3/10 [00:10<00:24,  3.50s/it]\u001b[A[I 2024-06-30 04:58:18,688] Trial 29 finished with value: 0.6019309331853154 and parameters: {'bagging_fraction': 0.6012142863500469, 'bagging_freq': 2}. Best is trial 27 with value: 0.5992393400146939.\n",
      "\n",
      "bagging, val_score: 0.599008:  30%|###       | 3/10 [00:10<00:24,  3.50s/it]\u001b[A"
     ]
    },
    {
     "name": "stdout",
     "output_type": "stream",
     "text": [
      "Early stopping, best iteration is:\n",
      "[281]\tvalid_0's rmse: 0.483296\tvalid_1's rmse: 0.601931\n",
      "Training until validation scores don't improve for 100 rounds\n",
      "[100]\tvalid_0's rmse: 0.612533\tvalid_1's rmse: 0.684911\n",
      "[200]\tvalid_0's rmse: 0.509925\tvalid_1's rmse: 0.608001\n",
      "[300]\tvalid_0's rmse: 0.479886\tvalid_1's rmse: 0.599927\n"
     ]
    },
    {
     "name": "stderr",
     "output_type": "stream",
     "text": [
      "\n",
      "bagging, val_score: 0.599008:  30%|###       | 3/10 [00:13<00:24,  3.50s/it]\u001b[A\n",
      "bagging, val_score: 0.599008:  40%|####      | 4/10 [00:13<00:20,  3.43s/it]\u001b[A[I 2024-06-30 04:58:22,022] Trial 30 finished with value: 0.5996140049175516 and parameters: {'bagging_fraction': 0.9660013416166868, 'bagging_freq': 7}. Best is trial 27 with value: 0.5992393400146939.\n",
      "\n",
      "bagging, val_score: 0.599008:  40%|####      | 4/10 [00:13<00:20,  3.43s/it]\u001b[A"
     ]
    },
    {
     "name": "stdout",
     "output_type": "stream",
     "text": [
      "[400]\tvalid_0's rmse: 0.46379\tvalid_1's rmse: 0.601838\n",
      "Early stopping, best iteration is:\n",
      "[308]\tvalid_0's rmse: 0.478307\tvalid_1's rmse: 0.599614\n",
      "Training until validation scores don't improve for 100 rounds\n",
      "[100]\tvalid_0's rmse: 0.612401\tvalid_1's rmse: 0.684673\n",
      "[200]\tvalid_0's rmse: 0.509681\tvalid_1's rmse: 0.606538\n",
      "[300]\tvalid_0's rmse: 0.479561\tvalid_1's rmse: 0.598028\n"
     ]
    },
    {
     "name": "stderr",
     "output_type": "stream",
     "text": [
      "\n",
      "bagging, val_score: 0.598028:  40%|####      | 4/10 [00:16<00:20,  3.43s/it]\u001b[A\n",
      "bagging, val_score: 0.598028:  50%|#####     | 5/10 [00:16<00:15,  3.07s/it]\u001b[A[I 2024-06-30 04:58:24,470] Trial 31 finished with value: 0.5980280908933175 and parameters: {'bagging_fraction': 0.9986293054420182, 'bagging_freq': 7}. Best is trial 31 with value: 0.5980280908933175.\n",
      "\n",
      "bagging, val_score: 0.598028:  50%|#####     | 5/10 [00:16<00:15,  3.07s/it]\u001b[A"
     ]
    },
    {
     "name": "stdout",
     "output_type": "stream",
     "text": [
      "[400]\tvalid_0's rmse: 0.463525\tvalid_1's rmse: 0.601309\n",
      "Early stopping, best iteration is:\n",
      "[300]\tvalid_0's rmse: 0.479561\tvalid_1's rmse: 0.598028\n",
      "Training until validation scores don't improve for 100 rounds\n",
      "[100]\tvalid_0's rmse: 0.613059\tvalid_1's rmse: 0.686164\n",
      "[200]\tvalid_0's rmse: 0.510139\tvalid_1's rmse: 0.608974\n",
      "[300]\tvalid_0's rmse: 0.479977\tvalid_1's rmse: 0.60081\n"
     ]
    },
    {
     "name": "stderr",
     "output_type": "stream",
     "text": [
      "\n",
      "bagging, val_score: 0.598028:  50%|#####     | 5/10 [00:19<00:15,  3.07s/it]\u001b[A\n",
      "bagging, val_score: 0.598028:  60%|######    | 6/10 [00:19<00:12,  3.24s/it]\u001b[A[I 2024-06-30 04:58:28,027] Trial 32 finished with value: 0.6007398014683076 and parameters: {'bagging_fraction': 0.8465815734352524, 'bagging_freq': 7}. Best is trial 31 with value: 0.5980280908933175.\n",
      "\n",
      "bagging, val_score: 0.598028:  60%|######    | 6/10 [00:19<00:12,  3.24s/it]\u001b[A"
     ]
    },
    {
     "name": "stdout",
     "output_type": "stream",
     "text": [
      "[400]\tvalid_0's rmse: 0.46375\tvalid_1's rmse: 0.602787\n",
      "Early stopping, best iteration is:\n",
      "[308]\tvalid_0's rmse: 0.478369\tvalid_1's rmse: 0.60074\n",
      "Training until validation scores don't improve for 100 rounds\n",
      "[100]\tvalid_0's rmse: 0.612568\tvalid_1's rmse: 0.684998\n",
      "[200]\tvalid_0's rmse: 0.509939\tvalid_1's rmse: 0.607294\n",
      "[300]\tvalid_0's rmse: 0.479804\tvalid_1's rmse: 0.598666\n"
     ]
    },
    {
     "name": "stderr",
     "output_type": "stream",
     "text": [
      "\n",
      "bagging, val_score: 0.598028:  60%|######    | 6/10 [00:22<00:12,  3.24s/it]\u001b[A\n",
      "bagging, val_score: 0.598028:  70%|#######   | 7/10 [00:22<00:08,  2.99s/it]\u001b[A[I 2024-06-30 04:58:30,511] Trial 33 finished with value: 0.5984199429460701 and parameters: {'bagging_fraction': 0.9980617955776299, 'bagging_freq': 4}. Best is trial 31 with value: 0.5980280908933175.\n",
      "\n",
      "bagging, val_score: 0.598028:  70%|#######   | 7/10 [00:22<00:08,  2.99s/it]\u001b[A"
     ]
    },
    {
     "name": "stdout",
     "output_type": "stream",
     "text": [
      "Early stopping, best iteration is:\n",
      "[283]\tvalid_0's rmse: 0.483312\tvalid_1's rmse: 0.59842\n",
      "Training until validation scores don't improve for 100 rounds\n",
      "[100]\tvalid_0's rmse: 0.612064\tvalid_1's rmse: 0.685004\n",
      "[200]\tvalid_0's rmse: 0.509706\tvalid_1's rmse: 0.609199\n",
      "[300]\tvalid_0's rmse: 0.48038\tvalid_1's rmse: 0.602688\n"
     ]
    },
    {
     "name": "stderr",
     "output_type": "stream",
     "text": [
      "\n",
      "bagging, val_score: 0.598028:  70%|#######   | 7/10 [00:25<00:08,  2.99s/it]\u001b[A\n",
      "bagging, val_score: 0.598028:  80%|########  | 8/10 [00:25<00:06,  3.04s/it]\u001b[A[I 2024-06-30 04:58:33,652] Trial 34 finished with value: 0.6011430544368018 and parameters: {'bagging_fraction': 0.44602383718844507, 'bagging_freq': 5}. Best is trial 31 with value: 0.5980280908933175.\n",
      "\n",
      "bagging, val_score: 0.598028:  80%|########  | 8/10 [00:25<00:06,  3.04s/it]\u001b[A"
     ]
    },
    {
     "name": "stdout",
     "output_type": "stream",
     "text": [
      "Early stopping, best iteration is:\n",
      "[275]\tvalid_0's rmse: 0.485303\tvalid_1's rmse: 0.601143\n",
      "Training until validation scores don't improve for 100 rounds\n",
      "[100]\tvalid_0's rmse: 0.612461\tvalid_1's rmse: 0.686235\n",
      "[200]\tvalid_0's rmse: 0.509999\tvalid_1's rmse: 0.608556\n",
      "[300]\tvalid_0's rmse: 0.479847\tvalid_1's rmse: 0.600203\n"
     ]
    },
    {
     "name": "stderr",
     "output_type": "stream",
     "text": [
      "\n",
      "bagging, val_score: 0.598028:  80%|########  | 8/10 [00:28<00:06,  3.04s/it]\u001b[A\n",
      "bagging, val_score: 0.598028:  90%|######### | 9/10 [00:28<00:02,  2.92s/it]\u001b[A[I 2024-06-30 04:58:36,309] Trial 35 finished with value: 0.6000035336643643 and parameters: {'bagging_fraction': 0.9855981717268679, 'bagging_freq': 4}. Best is trial 31 with value: 0.5980280908933175.\n",
      "\n",
      "bagging, val_score: 0.598028:  90%|######### | 9/10 [00:28<00:02,  2.92s/it]\u001b[A"
     ]
    },
    {
     "name": "stdout",
     "output_type": "stream",
     "text": [
      "Early stopping, best iteration is:\n",
      "[296]\tvalid_0's rmse: 0.480655\tvalid_1's rmse: 0.600004\n",
      "Training until validation scores don't improve for 100 rounds\n",
      "[100]\tvalid_0's rmse: 0.61295\tvalid_1's rmse: 0.686513\n",
      "[200]\tvalid_0's rmse: 0.509897\tvalid_1's rmse: 0.608037\n",
      "[300]\tvalid_0's rmse: 0.479961\tvalid_1's rmse: 0.60006\n"
     ]
    },
    {
     "name": "stderr",
     "output_type": "stream",
     "text": [
      "\n",
      "bagging, val_score: 0.598028:  90%|######### | 9/10 [00:30<00:02,  2.92s/it]\u001b[A\n",
      "bagging, val_score: 0.598028: 100%|##########| 10/10 [00:30<00:00,  2.67s/it]\u001b[A[I 2024-06-30 04:58:38,416] Trial 36 finished with value: 0.5998585823625401 and parameters: {'bagging_fraction': 0.7316197847725292, 'bagging_freq': 5}. Best is trial 31 with value: 0.5980280908933175.\n",
      "bagging, val_score: 0.598028: 100%|##########| 10/10 [00:30<00:00,  3.03s/it]\n"
     ]
    },
    {
     "name": "stdout",
     "output_type": "stream",
     "text": [
      "Early stopping, best iteration is:\n",
      "[278]\tvalid_0's rmse: 0.48443\tvalid_1's rmse: 0.599859\n"
     ]
    },
    {
     "name": "stderr",
     "output_type": "stream",
     "text": [
      "\n",
      "  0%|          | 0/6 [00:00<?, ?it/s]\u001b[A\n",
      "feature_fraction_stage2, val_score: 0.598028:   0%|          | 0/6 [00:00<?, ?it/s]\u001b[A"
     ]
    },
    {
     "name": "stdout",
     "output_type": "stream",
     "text": [
      "Training until validation scores don't improve for 100 rounds\n",
      "[100]\tvalid_0's rmse: 0.612361\tvalid_1's rmse: 0.684751\n",
      "[200]\tvalid_0's rmse: 0.509701\tvalid_1's rmse: 0.605592\n",
      "[300]\tvalid_0's rmse: 0.479505\tvalid_1's rmse: 0.597163\n"
     ]
    },
    {
     "name": "stderr",
     "output_type": "stream",
     "text": [
      "\n",
      "feature_fraction_stage2, val_score: 0.597123:   0%|          | 0/6 [00:02<?, ?it/s]\u001b[A\n",
      "feature_fraction_stage2, val_score: 0.597123:  17%|#6        | 1/6 [00:02<00:12,  2.59s/it]\u001b[A[I 2024-06-30 04:58:41,016] Trial 37 finished with value: 0.5971233121813109 and parameters: {'feature_fraction': 0.9799999999999999}. Best is trial 37 with value: 0.5971233121813109.\n",
      "\n",
      "feature_fraction_stage2, val_score: 0.597123:  17%|#6        | 1/6 [00:02<00:12,  2.59s/it]\u001b[A"
     ]
    },
    {
     "name": "stdout",
     "output_type": "stream",
     "text": [
      "Early stopping, best iteration is:\n",
      "[292]\tvalid_0's rmse: 0.48111\tvalid_1's rmse: 0.597123\n",
      "Training until validation scores don't improve for 100 rounds\n",
      "[100]\tvalid_0's rmse: 0.612694\tvalid_1's rmse: 0.685041\n",
      "[200]\tvalid_0's rmse: 0.510044\tvalid_1's rmse: 0.608102\n",
      "[300]\tvalid_0's rmse: 0.480065\tvalid_1's rmse: 0.600482\n"
     ]
    },
    {
     "name": "stderr",
     "output_type": "stream",
     "text": [
      "\n",
      "feature_fraction_stage2, val_score: 0.597123:  17%|#6        | 1/6 [00:04<00:12,  2.59s/it]\u001b[A\n",
      "feature_fraction_stage2, val_score: 0.597123:  33%|###3      | 2/6 [00:04<00:09,  2.37s/it]\u001b[A[I 2024-06-30 04:58:43,237] Trial 38 finished with value: 0.6003596469561332 and parameters: {'feature_fraction': 0.82}. Best is trial 37 with value: 0.5971233121813109.\n",
      "\n",
      "feature_fraction_stage2, val_score: 0.597123:  33%|###3      | 2/6 [00:04<00:09,  2.37s/it]\u001b[A"
     ]
    },
    {
     "name": "stdout",
     "output_type": "stream",
     "text": [
      "Early stopping, best iteration is:\n",
      "[271]\tvalid_0's rmse: 0.486262\tvalid_1's rmse: 0.60036\n",
      "Training until validation scores don't improve for 100 rounds\n",
      "[100]\tvalid_0's rmse: 0.612339\tvalid_1's rmse: 0.684746\n",
      "[200]\tvalid_0's rmse: 0.509756\tvalid_1's rmse: 0.606871\n",
      "[300]\tvalid_0's rmse: 0.479672\tvalid_1's rmse: 0.598462\n"
     ]
    },
    {
     "name": "stderr",
     "output_type": "stream",
     "text": [
      "\n",
      "feature_fraction_stage2, val_score: 0.597123:  33%|###3      | 2/6 [00:07<00:09,  2.37s/it]\u001b[A\n",
      "feature_fraction_stage2, val_score: 0.597123:  50%|#####     | 3/6 [00:07<00:07,  2.56s/it]\u001b[A[I 2024-06-30 04:58:46,026] Trial 39 finished with value: 0.5984120497107119 and parameters: {'feature_fraction': 0.9159999999999999}. Best is trial 37 with value: 0.5971233121813109.\n",
      "\n",
      "feature_fraction_stage2, val_score: 0.597123:  50%|#####     | 3/6 [00:07<00:07,  2.56s/it]\u001b[A"
     ]
    },
    {
     "name": "stdout",
     "output_type": "stream",
     "text": [
      "[400]\tvalid_0's rmse: 0.463795\tvalid_1's rmse: 0.601511\n",
      "Early stopping, best iteration is:\n",
      "[301]\tvalid_0's rmse: 0.479471\tvalid_1's rmse: 0.598412\n",
      "Training until validation scores don't improve for 100 rounds\n",
      "[100]\tvalid_0's rmse: 0.612606\tvalid_1's rmse: 0.685356\n",
      "[200]\tvalid_0's rmse: 0.509961\tvalid_1's rmse: 0.607919\n",
      "[300]\tvalid_0's rmse: 0.479918\tvalid_1's rmse: 0.599918\n"
     ]
    },
    {
     "name": "stderr",
     "output_type": "stream",
     "text": [
      "\n",
      "feature_fraction_stage2, val_score: 0.597123:  50%|#####     | 3/6 [00:12<00:07,  2.56s/it]\u001b[A\n",
      "feature_fraction_stage2, val_score: 0.597123:  67%|######6   | 4/6 [00:12<00:06,  3.33s/it]\u001b[A[I 2024-06-30 04:58:50,525] Trial 40 finished with value: 0.5998467144397872 and parameters: {'feature_fraction': 0.852}. Best is trial 37 with value: 0.5971233121813109.\n",
      "\n",
      "feature_fraction_stage2, val_score: 0.597123:  67%|######6   | 4/6 [00:12<00:06,  3.33s/it]\u001b[A"
     ]
    },
    {
     "name": "stdout",
     "output_type": "stream",
     "text": [
      "Early stopping, best iteration is:\n",
      "[278]\tvalid_0's rmse: 0.484457\tvalid_1's rmse: 0.599847\n",
      "Training until validation scores don't improve for 100 rounds\n",
      "[100]\tvalid_0's rmse: 0.612391\tvalid_1's rmse: 0.684381\n",
      "[200]\tvalid_0's rmse: 0.50974\tvalid_1's rmse: 0.606999\n",
      "[300]\tvalid_0's rmse: 0.479518\tvalid_1's rmse: 0.598937\n"
     ]
    },
    {
     "name": "stderr",
     "output_type": "stream",
     "text": [
      "\n",
      "feature_fraction_stage2, val_score: 0.597123:  67%|######6   | 4/6 [00:14<00:06,  3.33s/it]\u001b[A\n",
      "feature_fraction_stage2, val_score: 0.597123:  83%|########3 | 5/6 [00:14<00:02,  2.96s/it]\u001b[A[I 2024-06-30 04:58:52,848] Trial 41 finished with value: 0.5989367417560879 and parameters: {'feature_fraction': 0.8839999999999999}. Best is trial 37 with value: 0.5971233121813109.\n",
      "\n",
      "feature_fraction_stage2, val_score: 0.597123:  83%|########3 | 5/6 [00:14<00:02,  2.96s/it]\u001b[A"
     ]
    },
    {
     "name": "stdout",
     "output_type": "stream",
     "text": [
      "[400]\tvalid_0's rmse: 0.463402\tvalid_1's rmse: 0.601819\n",
      "Early stopping, best iteration is:\n",
      "[300]\tvalid_0's rmse: 0.479518\tvalid_1's rmse: 0.598937\n",
      "Training until validation scores don't improve for 100 rounds\n",
      "[100]\tvalid_0's rmse: 0.612332\tvalid_1's rmse: 0.684442\n",
      "[200]\tvalid_0's rmse: 0.509573\tvalid_1's rmse: 0.605769\n",
      "[300]\tvalid_0's rmse: 0.479504\tvalid_1's rmse: 0.597362\n"
     ]
    },
    {
     "name": "stderr",
     "output_type": "stream",
     "text": [
      "\n",
      "feature_fraction_stage2, val_score: 0.597123:  83%|########3 | 5/6 [00:17<00:02,  2.96s/it]\u001b[A\n",
      "feature_fraction_stage2, val_score: 0.597123: 100%|##########| 6/6 [00:17<00:00,  3.10s/it]\u001b[A[I 2024-06-30 04:58:56,204] Trial 42 finished with value: 0.5972576617679277 and parameters: {'feature_fraction': 0.948}. Best is trial 37 with value: 0.5971233121813109.\n",
      "feature_fraction_stage2, val_score: 0.597123: 100%|##########| 6/6 [00:17<00:00,  2.96s/it]\n"
     ]
    },
    {
     "name": "stdout",
     "output_type": "stream",
     "text": [
      "[400]\tvalid_0's rmse: 0.463602\tvalid_1's rmse: 0.600121\n",
      "Early stopping, best iteration is:\n",
      "[306]\tvalid_0's rmse: 0.478319\tvalid_1's rmse: 0.597258\n"
     ]
    },
    {
     "name": "stderr",
     "output_type": "stream",
     "text": [
      "\n",
      "  0%|          | 0/20 [00:00<?, ?it/s]\u001b[A\n",
      "regularization_factors, val_score: 0.597123:   0%|          | 0/20 [00:00<?, ?it/s]\u001b[A"
     ]
    },
    {
     "name": "stdout",
     "output_type": "stream",
     "text": [
      "Training until validation scores don't improve for 100 rounds\n",
      "[100]\tvalid_0's rmse: 0.611874\tvalid_1's rmse: 0.684806\n",
      "[200]\tvalid_0's rmse: 0.509043\tvalid_1's rmse: 0.605966\n",
      "[300]\tvalid_0's rmse: 0.478797\tvalid_1's rmse: 0.597333\n"
     ]
    },
    {
     "name": "stderr",
     "output_type": "stream",
     "text": [
      "\n",
      "regularization_factors, val_score: 0.597123:   0%|          | 0/20 [00:02<?, ?it/s]\u001b[A\n",
      "regularization_factors, val_score: 0.597123:   5%|5         | 1/20 [00:02<00:44,  2.32s/it]\u001b[A[I 2024-06-30 04:58:58,538] Trial 43 finished with value: 0.5971336590753699 and parameters: {'lambda_l1': 0.16404471255576333, 'lambda_l2': 0.0020509004786547383}. Best is trial 43 with value: 0.5971336590753699.\n",
      "\n",
      "regularization_factors, val_score: 0.597123:   5%|5         | 1/20 [00:02<00:44,  2.32s/it]\u001b[A"
     ]
    },
    {
     "name": "stdout",
     "output_type": "stream",
     "text": [
      "Early stopping, best iteration is:\n",
      "[293]\tvalid_0's rmse: 0.480193\tvalid_1's rmse: 0.597134\n",
      "Training until validation scores don't improve for 100 rounds\n",
      "[100]\tvalid_0's rmse: 0.612127\tvalid_1's rmse: 0.684798\n",
      "[200]\tvalid_0's rmse: 0.509425\tvalid_1's rmse: 0.605677\n",
      "[300]\tvalid_0's rmse: 0.47923\tvalid_1's rmse: 0.596768\n"
     ]
    },
    {
     "name": "stderr",
     "output_type": "stream",
     "text": [
      "\n",
      "regularization_factors, val_score: 0.596768:   5%|5         | 1/20 [00:04<00:44,  2.32s/it]\u001b[A\n",
      "regularization_factors, val_score: 0.596768:  10%|#         | 2/20 [00:04<00:42,  2.38s/it]\u001b[A[I 2024-06-30 04:59:00,957] Trial 44 finished with value: 0.5967682765539858 and parameters: {'lambda_l1': 0.4060949238418218, 'lambda_l2': 0.0022010253619633444}. Best is trial 44 with value: 0.5967682765539858.\n",
      "\n",
      "regularization_factors, val_score: 0.596768:  10%|#         | 2/20 [00:04<00:42,  2.38s/it]\u001b[A"
     ]
    },
    {
     "name": "stdout",
     "output_type": "stream",
     "text": [
      "[400]\tvalid_0's rmse: 0.463123\tvalid_1's rmse: 0.599606\n",
      "Early stopping, best iteration is:\n",
      "[300]\tvalid_0's rmse: 0.47923\tvalid_1's rmse: 0.596768\n",
      "Training until validation scores don't improve for 100 rounds\n",
      "[100]\tvalid_0's rmse: 0.611973\tvalid_1's rmse: 0.684688\n",
      "[200]\tvalid_0's rmse: 0.509216\tvalid_1's rmse: 0.606063\n",
      "[300]\tvalid_0's rmse: 0.478969\tvalid_1's rmse: 0.597682\n"
     ]
    },
    {
     "name": "stderr",
     "output_type": "stream",
     "text": [
      "\n",
      "regularization_factors, val_score: 0.596768:  10%|#         | 2/20 [00:12<00:42,  2.38s/it]\u001b[A\n",
      "regularization_factors, val_score: 0.596768:  15%|#5        | 3/20 [00:12<01:19,  4.65s/it]\u001b[A[I 2024-06-30 04:59:08,308] Trial 45 finished with value: 0.597551445925599 and parameters: {'lambda_l1': 0.35405163585183047, 'lambda_l2': 0.0038446773928333573}. Best is trial 44 with value: 0.5967682765539858.\n",
      "\n",
      "regularization_factors, val_score: 0.596768:  15%|#5        | 3/20 [00:12<01:19,  4.65s/it]\u001b[A"
     ]
    },
    {
     "name": "stdout",
     "output_type": "stream",
     "text": [
      "Early stopping, best iteration is:\n",
      "[290]\tvalid_0's rmse: 0.481015\tvalid_1's rmse: 0.597551\n",
      "Training until validation scores don't improve for 100 rounds\n",
      "[100]\tvalid_0's rmse: 0.612188\tvalid_1's rmse: 0.68454\n",
      "[200]\tvalid_0's rmse: 0.509465\tvalid_1's rmse: 0.606064\n",
      "[300]\tvalid_0's rmse: 0.479345\tvalid_1's rmse: 0.59721\n"
     ]
    },
    {
     "name": "stderr",
     "output_type": "stream",
     "text": [
      "\n",
      "regularization_factors, val_score: 0.596768:  15%|#5        | 3/20 [00:14<01:19,  4.65s/it]\u001b[A\n",
      "regularization_factors, val_score: 0.596768:  20%|##        | 4/20 [00:14<01:03,  3.96s/it]\u001b[A[I 2024-06-30 04:59:11,200] Trial 46 finished with value: 0.5971727491491012 and parameters: {'lambda_l1': 0.5028468419223114, 'lambda_l2': 0.0024063531726474224}. Best is trial 44 with value: 0.5967682765539858.\n",
      "\n",
      "regularization_factors, val_score: 0.596768:  20%|##        | 4/20 [00:14<01:03,  3.96s/it]\u001b[A"
     ]
    },
    {
     "name": "stdout",
     "output_type": "stream",
     "text": [
      "Early stopping, best iteration is:\n",
      "[299]\tvalid_0's rmse: 0.479537\tvalid_1's rmse: 0.597173\n",
      "Training until validation scores don't improve for 100 rounds\n",
      "[100]\tvalid_0's rmse: 0.612376\tvalid_1's rmse: 0.685191\n",
      "[200]\tvalid_0's rmse: 0.509703\tvalid_1's rmse: 0.606146\n",
      "[300]\tvalid_0's rmse: 0.479585\tvalid_1's rmse: 0.597271\n"
     ]
    },
    {
     "name": "stderr",
     "output_type": "stream",
     "text": [
      "\n",
      "regularization_factors, val_score: 0.596768:  20%|##        | 4/20 [00:30<01:03,  3.96s/it]\u001b[A\n",
      "regularization_factors, val_score: 0.596768:  25%|##5       | 5/20 [00:30<02:01,  8.08s/it]\u001b[A[I 2024-06-30 04:59:26,600] Trial 47 finished with value: 0.5972318377658726 and parameters: {'lambda_l1': 0.694837253895228, 'lambda_l2': 0.0014729771432324607}. Best is trial 44 with value: 0.5967682765539858.\n",
      "\n",
      "regularization_factors, val_score: 0.596768:  25%|##5       | 5/20 [00:30<02:01,  8.08s/it]\u001b[A"
     ]
    },
    {
     "name": "stdout",
     "output_type": "stream",
     "text": [
      "[400]\tvalid_0's rmse: 0.463641\tvalid_1's rmse: 0.600098\n",
      "Early stopping, best iteration is:\n",
      "[302]\tvalid_0's rmse: 0.479198\tvalid_1's rmse: 0.597232\n",
      "Training until validation scores don't improve for 100 rounds\n",
      "[100]\tvalid_0's rmse: 0.612191\tvalid_1's rmse: 0.684851\n",
      "[200]\tvalid_0's rmse: 0.509557\tvalid_1's rmse: 0.606047\n",
      "[300]\tvalid_0's rmse: 0.479462\tvalid_1's rmse: 0.597402\n"
     ]
    },
    {
     "name": "stderr",
     "output_type": "stream",
     "text": [
      "\n",
      "regularization_factors, val_score: 0.596768:  25%|##5       | 5/20 [00:33<02:01,  8.08s/it]\u001b[A\n",
      "regularization_factors, val_score: 0.596768:  30%|###       | 6/20 [00:33<01:27,  6.28s/it]\u001b[A[I 2024-06-30 04:59:29,390] Trial 48 finished with value: 0.5973964820612673 and parameters: {'lambda_l1': 0.5460618732721741, 'lambda_l2': 0.0019729042651290447}. Best is trial 44 with value: 0.5967682765539858.\n",
      "\n",
      "regularization_factors, val_score: 0.596768:  30%|###       | 6/20 [00:33<01:27,  6.28s/it]\u001b[A"
     ]
    },
    {
     "name": "stdout",
     "output_type": "stream",
     "text": [
      "Early stopping, best iteration is:\n",
      "[298]\tvalid_0's rmse: 0.479845\tvalid_1's rmse: 0.597396\n",
      "Training until validation scores don't improve for 100 rounds\n",
      "[100]\tvalid_0's rmse: 0.612191\tvalid_1's rmse: 0.685169\n",
      "[200]\tvalid_0's rmse: 0.509392\tvalid_1's rmse: 0.606214\n",
      "[300]\tvalid_0's rmse: 0.479215\tvalid_1's rmse: 0.596896\n"
     ]
    },
    {
     "name": "stderr",
     "output_type": "stream",
     "text": [
      "\n",
      "regularization_factors, val_score: 0.596768:  30%|###       | 6/20 [00:35<01:27,  6.28s/it]\u001b[A\n",
      "regularization_factors, val_score: 0.596768:  35%|###5      | 7/20 [00:35<01:06,  5.09s/it]\u001b[A[I 2024-06-30 04:59:32,021] Trial 49 finished with value: 0.5968647621808942 and parameters: {'lambda_l1': 0.4578097084390597, 'lambda_l2': 0.0016779489982836596}. Best is trial 44 with value: 0.5967682765539858.\n",
      "\n",
      "regularization_factors, val_score: 0.596768:  35%|###5      | 7/20 [00:35<01:06,  5.09s/it]\u001b[A"
     ]
    },
    {
     "name": "stdout",
     "output_type": "stream",
     "text": [
      "Early stopping, best iteration is:\n",
      "[299]\tvalid_0's rmse: 0.479409\tvalid_1's rmse: 0.596865\n",
      "Training until validation scores don't improve for 100 rounds\n",
      "[100]\tvalid_0's rmse: 0.611892\tvalid_1's rmse: 0.684611\n",
      "[200]\tvalid_0's rmse: 0.509209\tvalid_1's rmse: 0.605827\n",
      "[300]\tvalid_0's rmse: 0.479032\tvalid_1's rmse: 0.597572\n"
     ]
    },
    {
     "name": "stderr",
     "output_type": "stream",
     "text": [
      "\n",
      "regularization_factors, val_score: 0.596768:  35%|###5      | 7/20 [00:40<01:06,  5.09s/it]\u001b[A\n",
      "regularization_factors, val_score: 0.596768:  40%|####      | 8/20 [00:40<00:59,  4.94s/it]\u001b[A[I 2024-06-30 04:59:36,658] Trial 50 finished with value: 0.5975364890576305 and parameters: {'lambda_l1': 0.2924261751764563, 'lambda_l2': 0.002009866981143184}. Best is trial 44 with value: 0.5967682765539858.\n",
      "\n",
      "regularization_factors, val_score: 0.596768:  40%|####      | 8/20 [00:40<00:59,  4.94s/it]\u001b[A"
     ]
    },
    {
     "name": "stdout",
     "output_type": "stream",
     "text": [
      "Early stopping, best iteration is:\n",
      "[299]\tvalid_0's rmse: 0.479233\tvalid_1's rmse: 0.597536\n",
      "Training until validation scores don't improve for 100 rounds\n",
      "[100]\tvalid_0's rmse: 0.612649\tvalid_1's rmse: 0.685816\n",
      "[200]\tvalid_0's rmse: 0.510127\tvalid_1's rmse: 0.606405\n",
      "[300]\tvalid_0's rmse: 0.480206\tvalid_1's rmse: 0.597811\n"
     ]
    },
    {
     "name": "stderr",
     "output_type": "stream",
     "text": [
      "\n",
      "regularization_factors, val_score: 0.596768:  40%|####      | 8/20 [00:43<00:59,  4.94s/it]\u001b[A\n",
      "regularization_factors, val_score: 0.596768:  45%|####5     | 9/20 [00:43<00:47,  4.27s/it]\u001b[A[I 2024-06-30 04:59:39,457] Trial 51 finished with value: 0.5978021751354984 and parameters: {'lambda_l1': 1.0232454343945279, 'lambda_l2': 0.0015525203573007404}. Best is trial 44 with value: 0.5967682765539858.\n",
      "\n",
      "regularization_factors, val_score: 0.596768:  45%|####5     | 9/20 [00:43<00:47,  4.27s/it]\u001b[A"
     ]
    },
    {
     "name": "stdout",
     "output_type": "stream",
     "text": [
      "[400]\tvalid_0's rmse: 0.464374\tvalid_1's rmse: 0.600524\n",
      "Early stopping, best iteration is:\n",
      "[301]\tvalid_0's rmse: 0.480002\tvalid_1's rmse: 0.597802\n",
      "Training until validation scores don't improve for 100 rounds\n",
      "[100]\tvalid_0's rmse: 0.612016\tvalid_1's rmse: 0.684755\n",
      "[200]\tvalid_0's rmse: 0.509211\tvalid_1's rmse: 0.605876\n",
      "[300]\tvalid_0's rmse: 0.478955\tvalid_1's rmse: 0.596925\n"
     ]
    },
    {
     "name": "stderr",
     "output_type": "stream",
     "text": [
      "\n",
      "regularization_factors, val_score: 0.596768:  45%|####5     | 9/20 [00:46<00:47,  4.27s/it]\u001b[A\n",
      "regularization_factors, val_score: 0.596768:  50%|#####     | 10/20 [00:46<00:39,  3.90s/it]\u001b[A[I 2024-06-30 04:59:42,518] Trial 52 finished with value: 0.5968835954498783 and parameters: {'lambda_l1': 0.331701371894374, 'lambda_l2': 0.0013722642109967559}. Best is trial 44 with value: 0.5967682765539858.\n",
      "\n",
      "regularization_factors, val_score: 0.596768:  50%|#####     | 10/20 [00:46<00:39,  3.90s/it]\u001b[A"
     ]
    },
    {
     "name": "stdout",
     "output_type": "stream",
     "text": [
      "Early stopping, best iteration is:\n",
      "[289]\tvalid_0's rmse: 0.481241\tvalid_1's rmse: 0.596884\n",
      "Training until validation scores don't improve for 100 rounds\n",
      "[100]\tvalid_0's rmse: 0.611592\tvalid_1's rmse: 0.684633\n",
      "[200]\tvalid_0's rmse: 0.508762\tvalid_1's rmse: 0.606092\n",
      "[300]\tvalid_0's rmse: 0.47838\tvalid_1's rmse: 0.597548\n"
     ]
    },
    {
     "name": "stderr",
     "output_type": "stream",
     "text": [
      "\n",
      "regularization_factors, val_score: 0.596768:  50%|#####     | 10/20 [00:48<00:39,  3.90s/it]\u001b[A\n",
      "regularization_factors, val_score: 0.596768:  55%|#####5    | 11/20 [00:48<00:31,  3.47s/it]\u001b[A[I 2024-06-30 04:59:45,013] Trial 53 finished with value: 0.5975139501753801 and parameters: {'lambda_l1': 0.0018636278279242824, 'lambda_l2': 1.1100535201362528e-05}. Best is trial 44 with value: 0.5967682765539858.\n",
      "\n",
      "regularization_factors, val_score: 0.596768:  55%|#####5    | 11/20 [00:48<00:31,  3.47s/it]\u001b[A"
     ]
    },
    {
     "name": "stdout",
     "output_type": "stream",
     "text": [
      "Early stopping, best iteration is:\n",
      "[293]\tvalid_0's rmse: 0.479765\tvalid_1's rmse: 0.597514\n",
      "Training until validation scores don't improve for 100 rounds\n",
      "[100]\tvalid_0's rmse: 0.611892\tvalid_1's rmse: 0.684346\n",
      "[200]\tvalid_0's rmse: 0.509039\tvalid_1's rmse: 0.606256\n",
      "[300]\tvalid_0's rmse: 0.478701\tvalid_1's rmse: 0.597321\n"
     ]
    },
    {
     "name": "stderr",
     "output_type": "stream",
     "text": [
      "\n",
      "regularization_factors, val_score: 0.596768:  55%|#####5    | 11/20 [00:51<00:31,  3.47s/it]\u001b[A\n",
      "regularization_factors, val_score: 0.596768:  60%|######    | 12/20 [00:51<00:25,  3.14s/it]\u001b[A[I 2024-06-30 04:59:47,393] Trial 54 finished with value: 0.597320592093546 and parameters: {'lambda_l1': 0.009955200731621788, 'lambda_l2': 0.40180819620959046}. Best is trial 44 with value: 0.5967682765539858.\n",
      "\n",
      "regularization_factors, val_score: 0.596768:  60%|######    | 12/20 [00:51<00:25,  3.14s/it]\u001b[A"
     ]
    },
    {
     "name": "stdout",
     "output_type": "stream",
     "text": [
      "[400]\tvalid_0's rmse: 0.462644\tvalid_1's rmse: 0.599952\n",
      "Early stopping, best iteration is:\n",
      "[300]\tvalid_0's rmse: 0.478701\tvalid_1's rmse: 0.597321\n",
      "Training until validation scores don't improve for 100 rounds\n",
      "[100]\tvalid_0's rmse: 0.611682\tvalid_1's rmse: 0.684354\n",
      "[200]\tvalid_0's rmse: 0.508857\tvalid_1's rmse: 0.605503\n",
      "[300]\tvalid_0's rmse: 0.478674\tvalid_1's rmse: 0.596997\n"
     ]
    },
    {
     "name": "stderr",
     "output_type": "stream",
     "text": [
      "\n",
      "regularization_factors, val_score: 0.596768:  60%|######    | 12/20 [00:53<00:25,  3.14s/it]\u001b[A\n",
      "regularization_factors, val_score: 0.596768:  65%|######5   | 13/20 [00:53<00:20,  2.87s/it]\u001b[A[I 2024-06-30 04:59:49,647] Trial 55 finished with value: 0.596892231067515 and parameters: {'lambda_l1': 3.1739155387993545e-07, 'lambda_l2': 0.045967318342235684}. Best is trial 44 with value: 0.5967682765539858.\n",
      "\n",
      "regularization_factors, val_score: 0.596768:  65%|######5   | 13/20 [00:53<00:20,  2.87s/it]\u001b[A"
     ]
    },
    {
     "name": "stdout",
     "output_type": "stream",
     "text": [
      "Early stopping, best iteration is:\n",
      "[290]\tvalid_0's rmse: 0.480699\tvalid_1's rmse: 0.596892\n",
      "Training until validation scores don't improve for 100 rounds\n",
      "[100]\tvalid_0's rmse: 0.611699\tvalid_1's rmse: 0.684925\n",
      "[200]\tvalid_0's rmse: 0.508895\tvalid_1's rmse: 0.606204\n",
      "[300]\tvalid_0's rmse: 0.478523\tvalid_1's rmse: 0.598102\n"
     ]
    },
    {
     "name": "stderr",
     "output_type": "stream",
     "text": [
      "\n",
      "regularization_factors, val_score: 0.596768:  65%|######5   | 13/20 [00:55<00:20,  2.87s/it]\u001b[A\n",
      "regularization_factors, val_score: 0.596768:  70%|#######   | 14/20 [00:55<00:16,  2.69s/it]\u001b[A[I 2024-06-30 04:59:51,909] Trial 56 finished with value: 0.5978260728878403 and parameters: {'lambda_l1': 3.0507646742330744e-07, 'lambda_l2': 0.0627726174374816}. Best is trial 44 with value: 0.5967682765539858.\n",
      "\n",
      "regularization_factors, val_score: 0.596768:  70%|#######   | 14/20 [00:55<00:16,  2.69s/it]\u001b[A"
     ]
    },
    {
     "name": "stdout",
     "output_type": "stream",
     "text": [
      "Early stopping, best iteration is:\n",
      "[280]\tvalid_0's rmse: 0.482771\tvalid_1's rmse: 0.597826\n",
      "Training until validation scores don't improve for 100 rounds\n",
      "[100]\tvalid_0's rmse: 0.61169\tvalid_1's rmse: 0.684693\n",
      "[200]\tvalid_0's rmse: 0.50895\tvalid_1's rmse: 0.606682\n",
      "[300]\tvalid_0's rmse: 0.478561\tvalid_1's rmse: 0.598043\n"
     ]
    },
    {
     "name": "stderr",
     "output_type": "stream",
     "text": [
      "\n",
      "regularization_factors, val_score: 0.596768:  70%|#######   | 14/20 [00:58<00:16,  2.69s/it]\u001b[A\n",
      "regularization_factors, val_score: 0.596768:  75%|#######5  | 15/20 [00:58<00:13,  2.62s/it]\u001b[A[I 2024-06-30 04:59:54,386] Trial 57 finished with value: 0.597847759354893 and parameters: {'lambda_l1': 1.1759176229761852e-06, 'lambda_l2': 1.2441532911160516e-05}. Best is trial 44 with value: 0.5967682765539858.\n",
      "\n",
      "regularization_factors, val_score: 0.596768:  75%|#######5  | 15/20 [00:58<00:13,  2.62s/it]\u001b[A"
     ]
    },
    {
     "name": "stdout",
     "output_type": "stream",
     "text": [
      "Early stopping, best iteration is:\n",
      "[291]\tvalid_0's rmse: 0.480383\tvalid_1's rmse: 0.597848\n",
      "Training until validation scores don't improve for 100 rounds\n",
      "[100]\tvalid_0's rmse: 0.611765\tvalid_1's rmse: 0.684685\n",
      "[200]\tvalid_0's rmse: 0.508885\tvalid_1's rmse: 0.605833\n",
      "[300]\tvalid_0's rmse: 0.478582\tvalid_1's rmse: 0.597156\n"
     ]
    },
    {
     "name": "stderr",
     "output_type": "stream",
     "text": [
      "\n",
      "regularization_factors, val_score: 0.596768:  75%|#######5  | 15/20 [01:00<00:13,  2.62s/it]\u001b[A\n",
      "regularization_factors, val_score: 0.596768:  80%|########  | 16/20 [01:00<00:10,  2.63s/it]\u001b[A[I 2024-06-30 04:59:57,041] Trial 58 finished with value: 0.5969928792716466 and parameters: {'lambda_l1': 9.222114881522436e-06, 'lambda_l2': 0.07303486516092324}. Best is trial 44 with value: 0.5967682765539858.\n",
      "\n",
      "regularization_factors, val_score: 0.596768:  80%|########  | 16/20 [01:00<00:10,  2.63s/it]\u001b[A"
     ]
    },
    {
     "name": "stdout",
     "output_type": "stream",
     "text": [
      "Early stopping, best iteration is:\n",
      "[296]\tvalid_0's rmse: 0.479394\tvalid_1's rmse: 0.596993\n",
      "Training until validation scores don't improve for 100 rounds\n",
      "[100]\tvalid_0's rmse: 0.611713\tvalid_1's rmse: 0.684648\n",
      "[200]\tvalid_0's rmse: 0.508952\tvalid_1's rmse: 0.605873\n",
      "[300]\tvalid_0's rmse: 0.478616\tvalid_1's rmse: 0.597606\n"
     ]
    },
    {
     "name": "stderr",
     "output_type": "stream",
     "text": [
      "\n",
      "regularization_factors, val_score: 0.596768:  80%|########  | 16/20 [01:03<00:10,  2.63s/it]\u001b[A\n",
      "regularization_factors, val_score: 0.596768:  85%|########5 | 17/20 [01:03<00:08,  2.77s/it]\u001b[A[I 2024-06-30 05:00:00,125] Trial 59 finished with value: 0.597468335098433 and parameters: {'lambda_l1': 4.5631127612798215e-05, 'lambda_l2': 0.14049883989910672}. Best is trial 44 with value: 0.5967682765539858.\n",
      "\n",
      "regularization_factors, val_score: 0.596768:  85%|########5 | 17/20 [01:03<00:08,  2.77s/it]\u001b[A"
     ]
    },
    {
     "name": "stdout",
     "output_type": "stream",
     "text": [
      "Early stopping, best iteration is:\n",
      "[290]\tvalid_0's rmse: 0.480648\tvalid_1's rmse: 0.597468\n",
      "Training until validation scores don't improve for 100 rounds\n",
      "[100]\tvalid_0's rmse: 0.611679\tvalid_1's rmse: 0.684102\n",
      "[200]\tvalid_0's rmse: 0.509004\tvalid_1's rmse: 0.606343\n",
      "[300]\tvalid_0's rmse: 0.47865\tvalid_1's rmse: 0.597738\n"
     ]
    },
    {
     "name": "stderr",
     "output_type": "stream",
     "text": [
      "\n",
      "regularization_factors, val_score: 0.596768:  85%|########5 | 17/20 [01:13<00:08,  2.77s/it]\u001b[A\n",
      "regularization_factors, val_score: 0.596768:  90%|######### | 18/20 [01:13<00:09,  4.77s/it]\u001b[A[I 2024-06-30 05:00:09,550] Trial 60 finished with value: 0.5976921015440142 and parameters: {'lambda_l1': 9.453023686126873e-06, 'lambda_l2': 0.04091234978250454}. Best is trial 44 with value: 0.5967682765539858.\n",
      "\n",
      "regularization_factors, val_score: 0.596768:  90%|######### | 18/20 [01:13<00:09,  4.77s/it]\u001b[A"
     ]
    },
    {
     "name": "stdout",
     "output_type": "stream",
     "text": [
      "Early stopping, best iteration is:\n",
      "[289]\tvalid_0's rmse: 0.480901\tvalid_1's rmse: 0.597692\n",
      "Training until validation scores don't improve for 100 rounds\n",
      "[100]\tvalid_0's rmse: 0.615985\tvalid_1's rmse: 0.687968\n",
      "[200]\tvalid_0's rmse: 0.512472\tvalid_1's rmse: 0.606428\n",
      "[300]\tvalid_0's rmse: 0.482187\tvalid_1's rmse: 0.597527\n"
     ]
    },
    {
     "name": "stderr",
     "output_type": "stream",
     "text": [
      "\n",
      "regularization_factors, val_score: 0.596768:  90%|######### | 18/20 [01:23<00:09,  4.77s/it]\u001b[A\n",
      "regularization_factors, val_score: 0.596768:  95%|#########5| 19/20 [01:23<00:06,  6.25s/it]\u001b[A[I 2024-06-30 05:00:19,241] Trial 61 finished with value: 0.597397584190405 and parameters: {'lambda_l1': 3.015599995802778e-08, 'lambda_l2': 6.339506531629571}. Best is trial 44 with value: 0.5967682765539858.\n",
      "\n",
      "regularization_factors, val_score: 0.596768:  95%|#########5| 19/20 [01:23<00:06,  6.25s/it]\u001b[A"
     ]
    },
    {
     "name": "stdout",
     "output_type": "stream",
     "text": [
      "[400]\tvalid_0's rmse: 0.466463\tvalid_1's rmse: 0.599636\n",
      "Early stopping, best iteration is:\n",
      "[305]\tvalid_0's rmse: 0.481228\tvalid_1's rmse: 0.597398\n",
      "Training until validation scores don't improve for 100 rounds\n",
      "[100]\tvalid_0's rmse: 0.611645\tvalid_1's rmse: 0.684713\n",
      "[200]\tvalid_0's rmse: 0.508841\tvalid_1's rmse: 0.606088\n",
      "[300]\tvalid_0's rmse: 0.478571\tvalid_1's rmse: 0.597501\n"
     ]
    },
    {
     "name": "stderr",
     "output_type": "stream",
     "text": [
      "\n",
      "regularization_factors, val_score: 0.596768:  95%|#########5| 19/20 [01:27<00:06,  6.25s/it]\u001b[A\n",
      "regularization_factors, val_score: 0.596768: 100%|##########| 20/20 [01:27<00:00,  5.85s/it]\u001b[A[I 2024-06-30 05:00:24,151] Trial 62 finished with value: 0.5973105595934943 and parameters: {'lambda_l1': 0.01702897471378443, 'lambda_l2': 0.00013003509768275446}. Best is trial 44 with value: 0.5967682765539858.\n",
      "regularization_factors, val_score: 0.596768: 100%|##########| 20/20 [01:27<00:00,  4.40s/it]\n"
     ]
    },
    {
     "name": "stdout",
     "output_type": "stream",
     "text": [
      "Early stopping, best iteration is:\n",
      "[280]\tvalid_0's rmse: 0.482854\tvalid_1's rmse: 0.597311\n"
     ]
    },
    {
     "name": "stderr",
     "output_type": "stream",
     "text": [
      "\n",
      "  0%|          | 0/5 [00:00<?, ?it/s]\u001b[A\n",
      "min_child_samples, val_score: 0.596768:   0%|          | 0/5 [00:00<?, ?it/s]\u001b[A"
     ]
    },
    {
     "name": "stdout",
     "output_type": "stream",
     "text": [
      "Training until validation scores don't improve for 100 rounds\n",
      "[100]\tvalid_0's rmse: 0.612127\tvalid_1's rmse: 0.684798\n",
      "[200]\tvalid_0's rmse: 0.509425\tvalid_1's rmse: 0.605677\n",
      "[300]\tvalid_0's rmse: 0.47923\tvalid_1's rmse: 0.596768\n"
     ]
    },
    {
     "name": "stderr",
     "output_type": "stream",
     "text": [
      "\n",
      "min_child_samples, val_score: 0.596768:   0%|          | 0/5 [00:05<?, ?it/s]\u001b[A\n",
      "min_child_samples, val_score: 0.596768:  20%|##        | 1/5 [00:05<00:21,  5.35s/it]\u001b[A[I 2024-06-30 05:00:29,513] Trial 63 finished with value: 0.5967682765539858 and parameters: {'min_child_samples': 10}. Best is trial 63 with value: 0.5967682765539858.\n",
      "\n",
      "min_child_samples, val_score: 0.596768:  20%|##        | 1/5 [00:05<00:21,  5.35s/it]\u001b[A"
     ]
    },
    {
     "name": "stdout",
     "output_type": "stream",
     "text": [
      "[400]\tvalid_0's rmse: 0.463123\tvalid_1's rmse: 0.599606\n",
      "Early stopping, best iteration is:\n",
      "[300]\tvalid_0's rmse: 0.47923\tvalid_1's rmse: 0.596768\n",
      "Training until validation scores don't improve for 100 rounds\n",
      "[100]\tvalid_0's rmse: 0.613011\tvalid_1's rmse: 0.685073\n",
      "[200]\tvalid_0's rmse: 0.51128\tvalid_1's rmse: 0.606255\n",
      "[300]\tvalid_0's rmse: 0.482102\tvalid_1's rmse: 0.596972\n"
     ]
    },
    {
     "name": "stderr",
     "output_type": "stream",
     "text": [
      "\n",
      "min_child_samples, val_score: 0.596768:  20%|##        | 1/5 [00:13<00:21,  5.35s/it]\u001b[A\n",
      "min_child_samples, val_score: 0.596768:  40%|####      | 2/5 [00:13<00:21,  7.10s/it]\u001b[A[I 2024-06-30 05:00:37,841] Trial 64 finished with value: 0.5969498857382983 and parameters: {'min_child_samples': 50}. Best is trial 63 with value: 0.5967682765539858.\n",
      "\n",
      "min_child_samples, val_score: 0.596768:  40%|####      | 2/5 [00:13<00:21,  7.10s/it]\u001b[A"
     ]
    },
    {
     "name": "stdout",
     "output_type": "stream",
     "text": [
      "Early stopping, best iteration is:\n",
      "[299]\tvalid_0's rmse: 0.482292\tvalid_1's rmse: 0.59695\n",
      "Training until validation scores don't improve for 100 rounds\n",
      "[100]\tvalid_0's rmse: 0.612441\tvalid_1's rmse: 0.68489\n",
      "[200]\tvalid_0's rmse: 0.510313\tvalid_1's rmse: 0.605651\n",
      "[300]\tvalid_0's rmse: 0.480474\tvalid_1's rmse: 0.596535\n"
     ]
    },
    {
     "name": "stderr",
     "output_type": "stream",
     "text": [
      "\n",
      "min_child_samples, val_score: 0.596504:  40%|####      | 2/5 [00:17<00:21,  7.10s/it]\u001b[A\n",
      "min_child_samples, val_score: 0.596504:  60%|######    | 3/5 [00:17<00:10,  5.48s/it]\u001b[A[I 2024-06-30 05:00:41,399] Trial 65 finished with value: 0.5965039899688693 and parameters: {'min_child_samples': 25}. Best is trial 65 with value: 0.5965039899688693.\n",
      "\n",
      "min_child_samples, val_score: 0.596504:  60%|######    | 3/5 [00:17<00:10,  5.48s/it]\u001b[A"
     ]
    },
    {
     "name": "stdout",
     "output_type": "stream",
     "text": [
      "Early stopping, best iteration is:\n",
      "[298]\tvalid_0's rmse: 0.480867\tvalid_1's rmse: 0.596504\n",
      "Training until validation scores don't improve for 100 rounds\n",
      "[100]\tvalid_0's rmse: 0.611945\tvalid_1's rmse: 0.684908\n",
      "[200]\tvalid_0's rmse: 0.509098\tvalid_1's rmse: 0.606784\n",
      "[300]\tvalid_0's rmse: 0.478658\tvalid_1's rmse: 0.598122\n"
     ]
    },
    {
     "name": "stderr",
     "output_type": "stream",
     "text": [
      "\n",
      "min_child_samples, val_score: 0.596504:  60%|######    | 3/5 [00:19<00:10,  5.48s/it]\u001b[A\n",
      "min_child_samples, val_score: 0.596504:  80%|########  | 4/5 [00:19<00:04,  4.28s/it]\u001b[A[I 2024-06-30 05:00:43,837] Trial 66 finished with value: 0.5979981759243356 and parameters: {'min_child_samples': 5}. Best is trial 65 with value: 0.5965039899688693.\n",
      "\n",
      "min_child_samples, val_score: 0.596504:  80%|########  | 4/5 [00:19<00:04,  4.28s/it]\u001b[A"
     ]
    },
    {
     "name": "stdout",
     "output_type": "stream",
     "text": [
      "Early stopping, best iteration is:\n",
      "[298]\tvalid_0's rmse: 0.479064\tvalid_1's rmse: 0.597998\n",
      "Training until validation scores don't improve for 100 rounds\n",
      "[100]\tvalid_0's rmse: 0.613595\tvalid_1's rmse: 0.684729\n",
      "[200]\tvalid_0's rmse: 0.513307\tvalid_1's rmse: 0.606999\n",
      "[300]\tvalid_0's rmse: 0.484836\tvalid_1's rmse: 0.597878\n"
     ]
    },
    {
     "name": "stderr",
     "output_type": "stream",
     "text": [
      "\n",
      "min_child_samples, val_score: 0.596504:  80%|########  | 4/5 [00:22<00:04,  4.28s/it]\u001b[A\n",
      "min_child_samples, val_score: 0.596504: 100%|##########| 5/5 [00:22<00:00,  3.63s/it]\u001b[A[I 2024-06-30 05:00:46,306] Trial 67 finished with value: 0.5978354234842861 and parameters: {'min_child_samples': 100}. Best is trial 65 with value: 0.5965039899688693.\n",
      "min_child_samples, val_score: 0.596504: 100%|##########| 5/5 [00:22<00:00,  4.43s/it]"
     ]
    },
    {
     "name": "stdout",
     "output_type": "stream",
     "text": [
      "[400]\tvalid_0's rmse: 0.470202\tvalid_1's rmse: 0.601569\n",
      "Early stopping, best iteration is:\n",
      "[304]\tvalid_0's rmse: 0.484096\tvalid_1's rmse: 0.597835\n",
      "Best params: {'objective': 'regression', 'metric': 'rmse', 'max_depth': -1, 'num_leaves': 24, 'learning_rate': 0.01, 'bagging_freq': 7, 'feature_fraction': 0.9799999999999999, 'bagging_fraction': 0.9986293054420182, 'verbose': -1, 'seed': 42, 'lambda_l1': 0.4060949238418218, 'lambda_l2': 0.0022010253619633444, 'feature_pre_filter': False, 'min_child_samples': 25, 'num_iterations': 10000}\n"
     ]
    },
    {
     "name": "stderr",
     "output_type": "stream",
     "text": [
      "\n",
      "[I 2024-06-30 05:00:46,988] A new study created in memory with name: no-name-0449ecfa-2d27-4f1f-b7ef-b260ac178958\n"
     ]
    },
    {
     "name": "stdout",
     "output_type": "stream",
     "text": [
      "Start fold 1\n"
     ]
    },
    {
     "name": "stderr",
     "output_type": "stream",
     "text": [
      "\n",
      "  0%|          | 0/7 [00:00<?, ?it/s]\u001b[A\n",
      "feature_fraction, val_score: inf:   0%|          | 0/7 [00:00<?, ?it/s]\u001b[A"
     ]
    },
    {
     "name": "stdout",
     "output_type": "stream",
     "text": [
      "Training until validation scores don't improve for 100 rounds\n",
      "[100]\tvalid_0's rmse: 0.648211\tvalid_1's rmse: 0.597324\n",
      "[200]\tvalid_0's rmse: 0.542463\tvalid_1's rmse: 0.528517\n",
      "[300]\tvalid_0's rmse: 0.510374\tvalid_1's rmse: 0.51902\n",
      "[400]\tvalid_0's rmse: 0.493469\tvalid_1's rmse: 0.518474\n"
     ]
    },
    {
     "name": "stderr",
     "output_type": "stream",
     "text": [
      "\n",
      "feature_fraction, val_score: 0.518144:   0%|          | 0/7 [00:06<?, ?it/s]\u001b[A\n",
      "feature_fraction, val_score: 0.518144:  14%|#4        | 1/7 [00:06<00:40,  6.73s/it]\u001b[A[I 2024-06-30 05:00:53,726] Trial 0 finished with value: 0.5181443760964075 and parameters: {'feature_fraction': 0.8}. Best is trial 0 with value: 0.5181443760964075.\n",
      "\n",
      "feature_fraction, val_score: 0.518144:  14%|#4        | 1/7 [00:06<00:40,  6.73s/it]\u001b[A"
     ]
    },
    {
     "name": "stdout",
     "output_type": "stream",
     "text": [
      "Early stopping, best iteration is:\n",
      "[355]\tvalid_0's rmse: 0.500407\tvalid_1's rmse: 0.518144\n",
      "Training until validation scores don't improve for 100 rounds\n",
      "[100]\tvalid_0's rmse: 0.647437\tvalid_1's rmse: 0.597445\n",
      "[200]\tvalid_0's rmse: 0.541501\tvalid_1's rmse: 0.528135\n",
      "[300]\tvalid_0's rmse: 0.509937\tvalid_1's rmse: 0.51837\n",
      "[400]\tvalid_0's rmse: 0.493063\tvalid_1's rmse: 0.517833\n"
     ]
    },
    {
     "name": "stderr",
     "output_type": "stream",
     "text": [
      "\n",
      "feature_fraction, val_score: 0.517246:  14%|#4        | 1/7 [00:09<00:40,  6.73s/it]\u001b[A\n",
      "feature_fraction, val_score: 0.517246:  29%|##8       | 2/7 [00:09<00:23,  4.60s/it]\u001b[A[I 2024-06-30 05:00:56,839] Trial 1 finished with value: 0.5172463356197156 and parameters: {'feature_fraction': 1.0}. Best is trial 1 with value: 0.5172463356197156.\n",
      "\n",
      "feature_fraction, val_score: 0.517246:  29%|##8       | 2/7 [00:09<00:23,  4.60s/it]\u001b[A"
     ]
    },
    {
     "name": "stdout",
     "output_type": "stream",
     "text": [
      "Early stopping, best iteration is:\n",
      "[357]\tvalid_0's rmse: 0.49966\tvalid_1's rmse: 0.517246\n",
      "Training until validation scores don't improve for 100 rounds\n",
      "[100]\tvalid_0's rmse: 0.647972\tvalid_1's rmse: 0.597606\n",
      "[200]\tvalid_0's rmse: 0.541944\tvalid_1's rmse: 0.528121\n",
      "[300]\tvalid_0's rmse: 0.510148\tvalid_1's rmse: 0.518396\n",
      "[400]\tvalid_0's rmse: 0.493244\tvalid_1's rmse: 0.518047\n"
     ]
    },
    {
     "name": "stderr",
     "output_type": "stream",
     "text": [
      "\n",
      "feature_fraction, val_score: 0.517246:  29%|##8       | 2/7 [00:14<00:23,  4.60s/it]\u001b[A\n",
      "feature_fraction, val_score: 0.517246:  43%|####2     | 3/7 [00:14<00:19,  4.83s/it]\u001b[A[I 2024-06-30 05:01:01,944] Trial 2 finished with value: 0.5175527778972784 and parameters: {'feature_fraction': 0.8999999999999999}. Best is trial 1 with value: 0.5172463356197156.\n",
      "\n",
      "feature_fraction, val_score: 0.517246:  43%|####2     | 3/7 [00:14<00:19,  4.83s/it]\u001b[A"
     ]
    },
    {
     "name": "stdout",
     "output_type": "stream",
     "text": [
      "Early stopping, best iteration is:\n",
      "[361]\tvalid_0's rmse: 0.499137\tvalid_1's rmse: 0.517553\n",
      "Training until validation scores don't improve for 100 rounds\n",
      "[100]\tvalid_0's rmse: 0.650701\tvalid_1's rmse: 0.59855\n",
      "[200]\tvalid_0's rmse: 0.544738\tvalid_1's rmse: 0.530424\n",
      "[300]\tvalid_0's rmse: 0.512316\tvalid_1's rmse: 0.520013\n",
      "[400]\tvalid_0's rmse: 0.49544\tvalid_1's rmse: 0.519454\n"
     ]
    },
    {
     "name": "stderr",
     "output_type": "stream",
     "text": [
      "\n",
      "feature_fraction, val_score: 0.517246:  43%|####2     | 3/7 [00:17<00:19,  4.83s/it]\u001b[A\n",
      "feature_fraction, val_score: 0.517246:  57%|#####7    | 4/7 [00:17<00:11,  3.80s/it]\u001b[A[I 2024-06-30 05:01:04,161] Trial 3 finished with value: 0.5191474068020793 and parameters: {'feature_fraction': 0.6}. Best is trial 1 with value: 0.5172463356197156.\n",
      "\n",
      "feature_fraction, val_score: 0.517246:  57%|#####7    | 4/7 [00:17<00:11,  3.80s/it]\u001b[A"
     ]
    },
    {
     "name": "stdout",
     "output_type": "stream",
     "text": [
      "Early stopping, best iteration is:\n",
      "[358]\tvalid_0's rmse: 0.501726\tvalid_1's rmse: 0.519147\n",
      "Training until validation scores don't improve for 100 rounds\n",
      "[100]\tvalid_0's rmse: 0.655322\tvalid_1's rmse: 0.598839\n",
      "[200]\tvalid_0's rmse: 0.549636\tvalid_1's rmse: 0.531731\n",
      "[300]\tvalid_0's rmse: 0.517247\tvalid_1's rmse: 0.521468\n",
      "[400]\tvalid_0's rmse: 0.500028\tvalid_1's rmse: 0.520249\n",
      "[500]\tvalid_0's rmse: 0.487323\tvalid_1's rmse: 0.520259\n"
     ]
    },
    {
     "name": "stderr",
     "output_type": "stream",
     "text": [
      "\n",
      "feature_fraction, val_score: 0.517246:  57%|#####7    | 4/7 [00:19<00:11,  3.80s/it]\u001b[A\n",
      "feature_fraction, val_score: 0.517246:  71%|#######1  | 5/7 [00:19<00:06,  3.41s/it]\u001b[A[I 2024-06-30 05:01:06,889] Trial 4 finished with value: 0.5201407992677207 and parameters: {'feature_fraction': 0.4}. Best is trial 1 with value: 0.5172463356197156.\n",
      "\n",
      "feature_fraction, val_score: 0.517246:  71%|#######1  | 5/7 [00:19<00:06,  3.41s/it]\u001b[A"
     ]
    },
    {
     "name": "stdout",
     "output_type": "stream",
     "text": [
      "[600]\tvalid_0's rmse: 0.476641\tvalid_1's rmse: 0.520558\n",
      "Early stopping, best iteration is:\n",
      "[525]\tvalid_0's rmse: 0.484521\tvalid_1's rmse: 0.520141\n",
      "Training until validation scores don't improve for 100 rounds\n",
      "[100]\tvalid_0's rmse: 0.652802\tvalid_1's rmse: 0.598293\n",
      "[200]\tvalid_0's rmse: 0.547158\tvalid_1's rmse: 0.530936\n",
      "[300]\tvalid_0's rmse: 0.514717\tvalid_1's rmse: 0.52058\n",
      "[400]\tvalid_0's rmse: 0.497721\tvalid_1's rmse: 0.519731\n"
     ]
    },
    {
     "name": "stderr",
     "output_type": "stream",
     "text": [
      "\n",
      "feature_fraction, val_score: 0.517246:  71%|#######1  | 5/7 [00:22<00:06,  3.41s/it]\u001b[A\n",
      "feature_fraction, val_score: 0.517246:  86%|########5 | 6/7 [00:22<00:02,  2.98s/it]\u001b[A[I 2024-06-30 05:01:09,036] Trial 5 finished with value: 0.5196031230463253 and parameters: {'feature_fraction': 0.5}. Best is trial 1 with value: 0.5172463356197156.\n",
      "\n",
      "feature_fraction, val_score: 0.517246:  86%|########5 | 6/7 [00:22<00:02,  2.98s/it]\u001b[A"
     ]
    },
    {
     "name": "stdout",
     "output_type": "stream",
     "text": [
      "Early stopping, best iteration is:\n",
      "[359]\tvalid_0's rmse: 0.503891\tvalid_1's rmse: 0.519603\n",
      "Training until validation scores don't improve for 100 rounds\n",
      "[100]\tvalid_0's rmse: 0.649474\tvalid_1's rmse: 0.598241\n",
      "[200]\tvalid_0's rmse: 0.543165\tvalid_1's rmse: 0.52895\n",
      "[300]\tvalid_0's rmse: 0.510995\tvalid_1's rmse: 0.519256\n",
      "[400]\tvalid_0's rmse: 0.494159\tvalid_1's rmse: 0.518793\n"
     ]
    },
    {
     "name": "stderr",
     "output_type": "stream",
     "text": [
      "\n",
      "feature_fraction, val_score: 0.517246:  86%|########5 | 6/7 [00:31<00:02,  2.98s/it]\u001b[A\n",
      "feature_fraction, val_score: 0.517246: 100%|##########| 7/7 [00:31<00:00,  5.11s/it]\u001b[A[I 2024-06-30 05:01:18,534] Trial 6 finished with value: 0.5184530678559516 and parameters: {'feature_fraction': 0.7}. Best is trial 1 with value: 0.5172463356197156.\n",
      "feature_fraction, val_score: 0.517246: 100%|##########| 7/7 [00:31<00:00,  4.51s/it]\n"
     ]
    },
    {
     "name": "stdout",
     "output_type": "stream",
     "text": [
      "Early stopping, best iteration is:\n",
      "[351]\tvalid_0's rmse: 0.501599\tvalid_1's rmse: 0.518453\n"
     ]
    },
    {
     "name": "stderr",
     "output_type": "stream",
     "text": [
      "\n",
      "  0%|          | 0/20 [00:00<?, ?it/s]\u001b[A\n",
      "num_leaves, val_score: 0.517246:   0%|          | 0/20 [00:00<?, ?it/s]\u001b[A"
     ]
    },
    {
     "name": "stdout",
     "output_type": "stream",
     "text": [
      "Training until validation scores don't improve for 100 rounds\n",
      "[100]\tvalid_0's rmse: 0.60338\tvalid_1's rmse: 0.595962\n",
      "[200]\tvalid_0's rmse: 0.460549\tvalid_1's rmse: 0.528131\n",
      "[300]\tvalid_0's rmse: 0.400951\tvalid_1's rmse: 0.519497\n",
      "[400]\tvalid_0's rmse: 0.362012\tvalid_1's rmse: 0.518866\n"
     ]
    },
    {
     "name": "stderr",
     "output_type": "stream",
     "text": [
      "\n",
      "num_leaves, val_score: 0.517246:   0%|          | 0/20 [00:09<?, ?it/s]\u001b[A\n",
      "num_leaves, val_score: 0.517246:   5%|5         | 1/20 [00:09<02:53,  9.14s/it]\u001b[A[I 2024-06-30 05:01:27,687] Trial 7 finished with value: 0.518480983669958 and parameters: {'num_leaves': 123}. Best is trial 7 with value: 0.518480983669958.\n",
      "\n",
      "num_leaves, val_score: 0.517246:   5%|5         | 1/20 [00:09<02:53,  9.14s/it]\u001b[A"
     ]
    },
    {
     "name": "stdout",
     "output_type": "stream",
     "text": [
      "Early stopping, best iteration is:\n",
      "[360]\tvalid_0's rmse: 0.376377\tvalid_1's rmse: 0.518481\n",
      "Training until validation scores don't improve for 100 rounds\n",
      "[100]\tvalid_0's rmse: 0.624082\tvalid_1's rmse: 0.593889\n",
      "[200]\tvalid_0's rmse: 0.501359\tvalid_1's rmse: 0.525844\n",
      "[300]\tvalid_0's rmse: 0.457137\tvalid_1's rmse: 0.516685\n",
      "[400]\tvalid_0's rmse: 0.42964\tvalid_1's rmse: 0.516431\n"
     ]
    },
    {
     "name": "stderr",
     "output_type": "stream",
     "text": [
      "\n",
      "num_leaves, val_score: 0.516081:   5%|5         | 1/20 [00:17<02:53,  9.14s/it]\u001b[A\n",
      "num_leaves, val_score: 0.516081:  10%|#         | 2/20 [00:17<02:34,  8.60s/it]\u001b[A[I 2024-06-30 05:01:35,910] Trial 8 finished with value: 0.5160805038087719 and parameters: {'num_leaves': 63}. Best is trial 8 with value: 0.5160805038087719.\n",
      "\n",
      "num_leaves, val_score: 0.516081:  10%|#         | 2/20 [00:17<02:34,  8.60s/it]\u001b[A"
     ]
    },
    {
     "name": "stdout",
     "output_type": "stream",
     "text": [
      "Early stopping, best iteration is:\n",
      "[359]\tvalid_0's rmse: 0.440281\tvalid_1's rmse: 0.516081\n",
      "Training until validation scores don't improve for 100 rounds\n",
      "[100]\tvalid_0's rmse: 0.604973\tvalid_1's rmse: 0.595268\n",
      "[200]\tvalid_0's rmse: 0.463788\tvalid_1's rmse: 0.527495\n",
      "[300]\tvalid_0's rmse: 0.405814\tvalid_1's rmse: 0.518997\n",
      "[400]\tvalid_0's rmse: 0.367964\tvalid_1's rmse: 0.51916\n"
     ]
    },
    {
     "name": "stderr",
     "output_type": "stream",
     "text": [
      "\n",
      "num_leaves, val_score: 0.516081:  10%|#         | 2/20 [00:28<02:34,  8.60s/it]\u001b[A\n",
      "num_leaves, val_score: 0.516081:  15%|#5        | 3/20 [00:28<02:45,  9.76s/it]\u001b[A[I 2024-06-30 05:01:47,050] Trial 9 finished with value: 0.5187866908148577 and parameters: {'num_leaves': 117}. Best is trial 8 with value: 0.5160805038087719.\n",
      "\n",
      "num_leaves, val_score: 0.516081:  15%|#5        | 3/20 [00:28<02:45,  9.76s/it]\u001b[A"
     ]
    },
    {
     "name": "stdout",
     "output_type": "stream",
     "text": [
      "Early stopping, best iteration is:\n",
      "[357]\tvalid_0's rmse: 0.383\tvalid_1's rmse: 0.518787\n",
      "Training until validation scores don't improve for 100 rounds\n",
      "[100]\tvalid_0's rmse: 0.689253\tvalid_1's rmse: 0.623121\n",
      "[200]\tvalid_0's rmse: 0.590258\tvalid_1's rmse: 0.547081\n",
      "[300]\tvalid_0's rmse: 0.56276\tvalid_1's rmse: 0.532725\n",
      "[400]\tvalid_0's rmse: 0.551148\tvalid_1's rmse: 0.530247\n",
      "[500]\tvalid_0's rmse: 0.543905\tvalid_1's rmse: 0.52872\n",
      "[600]\tvalid_0's rmse: 0.538618\tvalid_1's rmse: 0.528032\n",
      "[700]\tvalid_0's rmse: 0.533999\tvalid_1's rmse: 0.527459\n",
      "[800]\tvalid_0's rmse: 0.530162\tvalid_1's rmse: 0.527275\n",
      "[900]\tvalid_0's rmse: 0.526726\tvalid_1's rmse: 0.526557\n",
      "[1000]\tvalid_0's rmse: 0.523654\tvalid_1's rmse: 0.526783\n",
      "Early stopping, best iteration is:\n",
      "[938]\tvalid_0's rmse: 0.525459\tvalid_1's rmse: 0.526439\n"
     ]
    },
    {
     "name": "stderr",
     "output_type": "stream",
     "text": [
      "\n",
      "num_leaves, val_score: 0.516081:  15%|#5        | 3/20 [00:33<02:45,  9.76s/it]\u001b[A\n",
      "num_leaves, val_score: 0.516081:  20%|##        | 4/20 [00:33<02:04,  7.78s/it]\u001b[A[I 2024-06-30 05:01:51,795] Trial 10 finished with value: 0.5264389068876659 and parameters: {'num_leaves': 5}. Best is trial 8 with value: 0.5160805038087719.\n",
      "\n",
      "num_leaves, val_score: 0.516081:  20%|##        | 4/20 [00:33<02:04,  7.78s/it]\u001b[A"
     ]
    },
    {
     "name": "stdout",
     "output_type": "stream",
     "text": [
      "Training until validation scores don't improve for 100 rounds\n",
      "[100]\tvalid_0's rmse: 0.633897\tvalid_1's rmse: 0.594608\n",
      "[200]\tvalid_0's rmse: 0.519202\tvalid_1's rmse: 0.526382\n",
      "[300]\tvalid_0's rmse: 0.480968\tvalid_1's rmse: 0.517869\n",
      "[400]\tvalid_0's rmse: 0.458678\tvalid_1's rmse: 0.517577\n"
     ]
    },
    {
     "name": "stderr",
     "output_type": "stream",
     "text": [
      "\n",
      "num_leaves, val_score: 0.516081:  20%|##        | 4/20 [00:42<02:04,  7.78s/it]\u001b[A\n",
      "num_leaves, val_score: 0.516081:  25%|##5       | 5/20 [00:42<02:05,  8.34s/it]\u001b[A[I 2024-06-30 05:02:01,138] Trial 11 finished with value: 0.5170285678494705 and parameters: {'num_leaves': 43}. Best is trial 8 with value: 0.5160805038087719.\n",
      "\n",
      "num_leaves, val_score: 0.516081:  25%|##5       | 5/20 [00:42<02:05,  8.34s/it]\u001b[A"
     ]
    },
    {
     "name": "stdout",
     "output_type": "stream",
     "text": [
      "Early stopping, best iteration is:\n",
      "[356]\tvalid_0's rmse: 0.467831\tvalid_1's rmse: 0.517029\n",
      "Training until validation scores don't improve for 100 rounds\n",
      "[100]\tvalid_0's rmse: 0.643149\tvalid_1's rmse: 0.595899\n",
      "[200]\tvalid_0's rmse: 0.534775\tvalid_1's rmse: 0.527197\n",
      "[300]\tvalid_0's rmse: 0.501222\tvalid_1's rmse: 0.518272\n",
      "[400]\tvalid_0's rmse: 0.482888\tvalid_1's rmse: 0.517788\n"
     ]
    },
    {
     "name": "stderr",
     "output_type": "stream",
     "text": [
      "\n",
      "num_leaves, val_score: 0.516081:  25%|##5       | 5/20 [00:45<02:05,  8.34s/it]\u001b[A\n",
      "num_leaves, val_score: 0.516081:  30%|###       | 6/20 [00:45<01:32,  6.59s/it]\u001b[A[I 2024-06-30 05:02:04,338] Trial 12 finished with value: 0.5174937725747987 and parameters: {'num_leaves': 29}. Best is trial 8 with value: 0.5160805038087719.\n",
      "\n",
      "num_leaves, val_score: 0.516081:  30%|###       | 6/20 [00:45<01:32,  6.59s/it]\u001b[A"
     ]
    },
    {
     "name": "stdout",
     "output_type": "stream",
     "text": [
      "Early stopping, best iteration is:\n",
      "[365]\tvalid_0's rmse: 0.488767\tvalid_1's rmse: 0.517494\n",
      "Training until validation scores don't improve for 100 rounds\n",
      "[100]\tvalid_0's rmse: 0.619026\tvalid_1's rmse: 0.594489\n",
      "[200]\tvalid_0's rmse: 0.491934\tvalid_1's rmse: 0.526692\n",
      "[300]\tvalid_0's rmse: 0.444319\tvalid_1's rmse: 0.517592\n",
      "[400]\tvalid_0's rmse: 0.414072\tvalid_1's rmse: 0.517169\n"
     ]
    },
    {
     "name": "stderr",
     "output_type": "stream",
     "text": [
      "\n",
      "num_leaves, val_score: 0.516081:  30%|###       | 6/20 [00:51<01:32,  6.59s/it]\u001b[A\n",
      "num_leaves, val_score: 0.516081:  35%|###5      | 7/20 [00:51<01:22,  6.38s/it]\u001b[A[I 2024-06-30 05:02:10,283] Trial 13 finished with value: 0.5167560425857258 and parameters: {'num_leaves': 75}. Best is trial 8 with value: 0.5160805038087719.\n",
      "\n",
      "num_leaves, val_score: 0.516081:  35%|###5      | 7/20 [00:51<01:22,  6.38s/it]\u001b[A"
     ]
    },
    {
     "name": "stdout",
     "output_type": "stream",
     "text": [
      "Early stopping, best iteration is:\n",
      "[365]\tvalid_0's rmse: 0.423994\tvalid_1's rmse: 0.516756\n",
      "Training until validation scores don't improve for 100 rounds\n",
      "[100]\tvalid_0's rmse: 0.583241\tvalid_1's rmse: 0.597033\n",
      "[200]\tvalid_0's rmse: 0.419379\tvalid_1's rmse: 0.52985\n",
      "[300]\tvalid_0's rmse: 0.345387\tvalid_1's rmse: 0.521707\n",
      "[400]\tvalid_0's rmse: 0.296554\tvalid_1's rmse: 0.521114\n",
      "[500]\tvalid_0's rmse: 0.257431\tvalid_1's rmse: 0.521456\n",
      "Early stopping, best iteration is:\n",
      "[402]\tvalid_0's rmse: 0.295688\tvalid_1's rmse: 0.521013\n"
     ]
    },
    {
     "name": "stderr",
     "output_type": "stream",
     "text": [
      "\n",
      "num_leaves, val_score: 0.516081:  35%|###5      | 7/20 [01:09<01:22,  6.38s/it]\u001b[A\n",
      "num_leaves, val_score: 0.516081:  40%|####      | 8/20 [01:09<02:01, 10.13s/it]\u001b[A[I 2024-06-30 05:02:28,446] Trial 14 finished with value: 0.5210125087706793 and parameters: {'num_leaves': 210}. Best is trial 8 with value: 0.5160805038087719.\n",
      "\n",
      "num_leaves, val_score: 0.516081:  40%|####      | 8/20 [01:09<02:01, 10.13s/it]\u001b[A"
     ]
    },
    {
     "name": "stdout",
     "output_type": "stream",
     "text": [
      "Training until validation scores don't improve for 100 rounds\n",
      "[100]\tvalid_0's rmse: 0.614687\tvalid_1's rmse: 0.595016\n",
      "[200]\tvalid_0's rmse: 0.483264\tvalid_1's rmse: 0.52692\n",
      "[300]\tvalid_0's rmse: 0.432189\tvalid_1's rmse: 0.518479\n"
     ]
    },
    {
     "name": "stderr",
     "output_type": "stream",
     "text": [
      "\n",
      "num_leaves, val_score: 0.516081:  40%|####      | 8/20 [01:27<02:01, 10.13s/it]\u001b[A\n",
      "num_leaves, val_score: 0.516081:  45%|####5     | 9/20 [01:27<02:15, 12.36s/it]\u001b[A[I 2024-06-30 05:02:45,701] Trial 15 finished with value: 0.5180162686117007 and parameters: {'num_leaves': 87}. Best is trial 8 with value: 0.5160805038087719.\n",
      "\n",
      "num_leaves, val_score: 0.516081:  45%|####5     | 9/20 [01:27<02:15, 12.36s/it]\u001b[A"
     ]
    },
    {
     "name": "stdout",
     "output_type": "stream",
     "text": [
      "[400]\tvalid_0's rmse: 0.399463\tvalid_1's rmse: 0.518202\n",
      "Early stopping, best iteration is:\n",
      "[310]\tvalid_0's rmse: 0.428513\tvalid_1's rmse: 0.518016\n",
      "Training until validation scores don't improve for 100 rounds\n",
      "[100]\tvalid_0's rmse: 0.585619\tvalid_1's rmse: 0.596818\n",
      "[200]\tvalid_0's rmse: 0.424306\tvalid_1's rmse: 0.529296\n",
      "[300]\tvalid_0's rmse: 0.35224\tvalid_1's rmse: 0.52073\n",
      "[400]\tvalid_0's rmse: 0.304468\tvalid_1's rmse: 0.520135\n"
     ]
    },
    {
     "name": "stderr",
     "output_type": "stream",
     "text": [
      "\n",
      "num_leaves, val_score: 0.516081:  45%|####5     | 9/20 [02:04<02:15, 12.36s/it]\u001b[A\n",
      "num_leaves, val_score: 0.516081:  50%|#####     | 10/20 [02:04<03:19, 19.99s/it]\u001b[A[I 2024-06-30 05:03:22,782] Trial 16 finished with value: 0.5201032196611386 and parameters: {'num_leaves': 197}. Best is trial 8 with value: 0.5160805038087719.\n",
      "\n",
      "num_leaves, val_score: 0.516081:  50%|#####     | 10/20 [02:04<03:19, 19.99s/it]\u001b[A"
     ]
    },
    {
     "name": "stdout",
     "output_type": "stream",
     "text": [
      "Early stopping, best iteration is:\n",
      "[397]\tvalid_0's rmse: 0.305789\tvalid_1's rmse: 0.520103\n",
      "Training until validation scores don't improve for 100 rounds\n",
      "[100]\tvalid_0's rmse: 0.619884\tvalid_1's rmse: 0.594398\n",
      "[200]\tvalid_0's rmse: 0.493477\tvalid_1's rmse: 0.526217\n",
      "[300]\tvalid_0's rmse: 0.446385\tvalid_1's rmse: 0.516964\n",
      "[400]\tvalid_0's rmse: 0.416986\tvalid_1's rmse: 0.516686\n"
     ]
    },
    {
     "name": "stderr",
     "output_type": "stream",
     "text": [
      "\n",
      "num_leaves, val_score: 0.516081:  50%|#####     | 10/20 [02:25<03:19, 19.99s/it]\u001b[A\n",
      "num_leaves, val_score: 0.516081:  55%|#####5    | 11/20 [02:25<03:02, 20.32s/it]\u001b[A[I 2024-06-30 05:03:43,840] Trial 17 finished with value: 0.5163076565742671 and parameters: {'num_leaves': 73}. Best is trial 8 with value: 0.5160805038087719.\n",
      "\n",
      "num_leaves, val_score: 0.516081:  55%|#####5    | 11/20 [02:25<03:02, 20.32s/it]\u001b[A"
     ]
    },
    {
     "name": "stdout",
     "output_type": "stream",
     "text": [
      "Early stopping, best iteration is:\n",
      "[378]\tvalid_0's rmse: 0.423104\tvalid_1's rmse: 0.516308\n",
      "Training until validation scores don't improve for 100 rounds\n",
      "[100]\tvalid_0's rmse: 0.592062\tvalid_1's rmse: 0.59634\n",
      "[200]\tvalid_0's rmse: 0.437765\tvalid_1's rmse: 0.528578\n",
      "[300]\tvalid_0's rmse: 0.370579\tvalid_1's rmse: 0.519838\n",
      "[400]\tvalid_0's rmse: 0.325795\tvalid_1's rmse: 0.519891\n"
     ]
    },
    {
     "name": "stderr",
     "output_type": "stream",
     "text": [
      "\n",
      "num_leaves, val_score: 0.516081:  55%|#####5    | 11/20 [02:35<03:02, 20.32s/it]\u001b[A\n",
      "num_leaves, val_score: 0.516081:  60%|######    | 12/20 [02:35<02:17, 17.19s/it]\u001b[A[I 2024-06-30 05:03:53,859] Trial 18 finished with value: 0.5193839692944682 and parameters: {'num_leaves': 166}. Best is trial 8 with value: 0.5160805038087719.\n",
      "\n",
      "num_leaves, val_score: 0.516081:  60%|######    | 12/20 [02:35<02:17, 17.19s/it]\u001b[A"
     ]
    },
    {
     "name": "stdout",
     "output_type": "stream",
     "text": [
      "Early stopping, best iteration is:\n",
      "[325]\tvalid_0's rmse: 0.358208\tvalid_1's rmse: 0.519384\n",
      "Training until validation scores don't improve for 100 rounds\n",
      "[100]\tvalid_0's rmse: 0.620281\tvalid_1's rmse: 0.594401\n",
      "[200]\tvalid_0's rmse: 0.494222\tvalid_1's rmse: 0.526231\n",
      "[300]\tvalid_0's rmse: 0.447338\tvalid_1's rmse: 0.516563\n",
      "[400]\tvalid_0's rmse: 0.417957\tvalid_1's rmse: 0.515893\n"
     ]
    },
    {
     "name": "stderr",
     "output_type": "stream",
     "text": [
      "\n",
      "num_leaves, val_score: 0.515736:  60%|######    | 12/20 [02:56<02:17, 17.19s/it]\u001b[A\n",
      "num_leaves, val_score: 0.515736:  65%|######5   | 13/20 [02:56<02:09, 18.55s/it]\u001b[A[I 2024-06-30 05:04:15,547] Trial 19 finished with value: 0.5157355210124217 and parameters: {'num_leaves': 72}. Best is trial 19 with value: 0.5157355210124217.\n",
      "\n",
      "num_leaves, val_score: 0.515736:  65%|######5   | 13/20 [02:57<02:09, 18.55s/it]\u001b[A"
     ]
    },
    {
     "name": "stdout",
     "output_type": "stream",
     "text": [
      "Early stopping, best iteration is:\n",
      "[363]\tvalid_0's rmse: 0.428083\tvalid_1's rmse: 0.515736\n",
      "Training until validation scores don't improve for 100 rounds\n",
      "[100]\tvalid_0's rmse: 0.595785\tvalid_1's rmse: 0.596598\n",
      "[200]\tvalid_0's rmse: 0.445496\tvalid_1's rmse: 0.529485\n",
      "[300]\tvalid_0's rmse: 0.380546\tvalid_1's rmse: 0.521168\n",
      "[400]\tvalid_0's rmse: 0.337565\tvalid_1's rmse: 0.521189\n"
     ]
    },
    {
     "name": "stderr",
     "output_type": "stream",
     "text": [
      "\n",
      "num_leaves, val_score: 0.515736:  65%|######5   | 13/20 [03:21<02:09, 18.55s/it]\u001b[A\n",
      "num_leaves, val_score: 0.515736:  70%|#######   | 14/20 [03:21<02:01, 20.24s/it]\u001b[A[I 2024-06-30 05:04:39,691] Trial 20 finished with value: 0.5208364787017352 and parameters: {'num_leaves': 151}. Best is trial 19 with value: 0.5157355210124217.\n",
      "\n",
      "num_leaves, val_score: 0.515736:  70%|#######   | 14/20 [03:21<02:01, 20.24s/it]\u001b[A"
     ]
    },
    {
     "name": "stdout",
     "output_type": "stream",
     "text": [
      "Early stopping, best iteration is:\n",
      "[329]\tvalid_0's rmse: 0.366916\tvalid_1's rmse: 0.520836\n",
      "Training until validation scores don't improve for 100 rounds\n",
      "[100]\tvalid_0's rmse: 0.620281\tvalid_1's rmse: 0.594401\n",
      "[200]\tvalid_0's rmse: 0.494222\tvalid_1's rmse: 0.526231\n",
      "[300]\tvalid_0's rmse: 0.447338\tvalid_1's rmse: 0.516563\n",
      "[400]\tvalid_0's rmse: 0.417957\tvalid_1's rmse: 0.515893\n"
     ]
    },
    {
     "name": "stderr",
     "output_type": "stream",
     "text": [
      "\n",
      "num_leaves, val_score: 0.515736:  70%|#######   | 14/20 [03:27<02:01, 20.24s/it]\u001b[A\n",
      "num_leaves, val_score: 0.515736:  75%|#######5  | 15/20 [03:27<01:20, 16.10s/it]\u001b[A[I 2024-06-30 05:04:46,187] Trial 21 finished with value: 0.5157355210124217 and parameters: {'num_leaves': 72}. Best is trial 19 with value: 0.5157355210124217.\n",
      "\n",
      "num_leaves, val_score: 0.515736:  75%|#######5  | 15/20 [03:27<01:20, 16.10s/it]\u001b[A"
     ]
    },
    {
     "name": "stdout",
     "output_type": "stream",
     "text": [
      "Early stopping, best iteration is:\n",
      "[363]\tvalid_0's rmse: 0.428083\tvalid_1's rmse: 0.515736\n",
      "Training until validation scores don't improve for 100 rounds\n",
      "[100]\tvalid_0's rmse: 0.62775\tvalid_1's rmse: 0.593891\n",
      "[200]\tvalid_0's rmse: 0.508221\tvalid_1's rmse: 0.525644\n",
      "[300]\tvalid_0's rmse: 0.466238\tvalid_1's rmse: 0.517248\n",
      "[400]\tvalid_0's rmse: 0.440806\tvalid_1's rmse: 0.516691\n"
     ]
    },
    {
     "name": "stderr",
     "output_type": "stream",
     "text": [
      "\n",
      "num_leaves, val_score: 0.515736:  75%|#######5  | 15/20 [03:39<01:20, 16.10s/it]\u001b[A\n",
      "num_leaves, val_score: 0.515736:  80%|########  | 16/20 [03:39<00:59, 14.93s/it]\u001b[A[I 2024-06-30 05:04:58,395] Trial 22 finished with value: 0.5164118262477232 and parameters: {'num_leaves': 55}. Best is trial 19 with value: 0.5157355210124217.\n",
      "\n",
      "num_leaves, val_score: 0.515736:  80%|########  | 16/20 [03:39<00:59, 14.93s/it]\u001b[A"
     ]
    },
    {
     "name": "stdout",
     "output_type": "stream",
     "text": [
      "Early stopping, best iteration is:\n",
      "[362]\tvalid_0's rmse: 0.449835\tvalid_1's rmse: 0.516412\n",
      "Training until validation scores don't improve for 100 rounds\n",
      "[100]\tvalid_0's rmse: 0.609141\tvalid_1's rmse: 0.595154\n",
      "[200]\tvalid_0's rmse: 0.472121\tvalid_1's rmse: 0.527408\n",
      "[300]\tvalid_0's rmse: 0.417141\tvalid_1's rmse: 0.519398\n",
      "[400]\tvalid_0's rmse: 0.381685\tvalid_1's rmse: 0.518467\n"
     ]
    },
    {
     "name": "stderr",
     "output_type": "stream",
     "text": [
      "\n",
      "num_leaves, val_score: 0.515736:  80%|########  | 16/20 [04:02<00:59, 14.93s/it]\u001b[A\n",
      "num_leaves, val_score: 0.515736:  85%|########5 | 17/20 [04:02<00:51, 17.16s/it]\u001b[A[I 2024-06-30 05:05:20,760] Trial 23 finished with value: 0.5182413488933042 and parameters: {'num_leaves': 103}. Best is trial 19 with value: 0.5157355210124217.\n",
      "\n",
      "num_leaves, val_score: 0.515736:  85%|########5 | 17/20 [04:02<00:51, 17.16s/it]\u001b[A"
     ]
    },
    {
     "name": "stdout",
     "output_type": "stream",
     "text": [
      "Early stopping, best iteration is:\n",
      "[370]\tvalid_0's rmse: 0.391623\tvalid_1's rmse: 0.518241\n",
      "Training until validation scores don't improve for 100 rounds\n",
      "[100]\tvalid_0's rmse: 0.658893\tvalid_1's rmse: 0.601881\n",
      "[200]\tvalid_0's rmse: 0.558518\tvalid_1's rmse: 0.531778\n",
      "[300]\tvalid_0's rmse: 0.530395\tvalid_1's rmse: 0.521636\n",
      "[400]\tvalid_0's rmse: 0.516632\tvalid_1's rmse: 0.520597\n"
     ]
    },
    {
     "name": "stderr",
     "output_type": "stream",
     "text": [
      "\n",
      "num_leaves, val_score: 0.515736:  85%|########5 | 17/20 [04:04<00:51, 17.16s/it]\u001b[A\n",
      "num_leaves, val_score: 0.515736:  90%|######### | 18/20 [04:04<00:25, 12.71s/it]\u001b[A[I 2024-06-30 05:05:23,117] Trial 24 finished with value: 0.5204227364881631 and parameters: {'num_leaves': 14}. Best is trial 19 with value: 0.5157355210124217.\n",
      "\n",
      "num_leaves, val_score: 0.515736:  90%|######### | 18/20 [04:04<00:25, 12.71s/it]\u001b[A"
     ]
    },
    {
     "name": "stdout",
     "output_type": "stream",
     "text": [
      "[500]\tvalid_0's rmse: 0.506768\tvalid_1's rmse: 0.520748\n",
      "Early stopping, best iteration is:\n",
      "[425]\tvalid_0's rmse: 0.513886\tvalid_1's rmse: 0.520423\n",
      "Training until validation scores don't improve for 100 rounds\n",
      "[100]\tvalid_0's rmse: 0.625922\tvalid_1's rmse: 0.594161\n",
      "[200]\tvalid_0's rmse: 0.504868\tvalid_1's rmse: 0.526329\n",
      "[300]\tvalid_0's rmse: 0.461617\tvalid_1's rmse: 0.516869\n",
      "[400]\tvalid_0's rmse: 0.435414\tvalid_1's rmse: 0.516204\n"
     ]
    },
    {
     "name": "stderr",
     "output_type": "stream",
     "text": [
      "\n",
      "num_leaves, val_score: 0.515736:  90%|######### | 18/20 [04:21<00:25, 12.71s/it]\u001b[A\n",
      "num_leaves, val_score: 0.515736:  95%|#########5| 19/20 [04:21<00:13, 13.95s/it]\u001b[A[I 2024-06-30 05:05:39,961] Trial 25 finished with value: 0.5159437908153303 and parameters: {'num_leaves': 59}. Best is trial 19 with value: 0.5157355210124217.\n",
      "\n",
      "num_leaves, val_score: 0.515736:  95%|#########5| 19/20 [04:21<00:13, 13.95s/it]\u001b[A"
     ]
    },
    {
     "name": "stdout",
     "output_type": "stream",
     "text": [
      "Early stopping, best iteration is:\n",
      "[380]\tvalid_0's rmse: 0.440374\tvalid_1's rmse: 0.515944\n",
      "Training until validation scores don't improve for 100 rounds\n",
      "[100]\tvalid_0's rmse: 0.57785\tvalid_1's rmse: 0.597177\n",
      "[200]\tvalid_0's rmse: 0.408136\tvalid_1's rmse: 0.529831\n",
      "[300]\tvalid_0's rmse: 0.330127\tvalid_1's rmse: 0.520471\n",
      "[400]\tvalid_0's rmse: 0.279009\tvalid_1's rmse: 0.519989\n"
     ]
    },
    {
     "name": "stderr",
     "output_type": "stream",
     "text": [
      "\n",
      "num_leaves, val_score: 0.515736:  95%|#########5| 19/20 [04:45<00:13, 13.95s/it]\u001b[A\n",
      "num_leaves, val_score: 0.515736: 100%|##########| 20/20 [04:45<00:00, 16.97s/it]\u001b[A[I 2024-06-30 05:06:03,957] Trial 26 finished with value: 0.5198227951692439 and parameters: {'num_leaves': 243}. Best is trial 19 with value: 0.5157355210124217.\n",
      "num_leaves, val_score: 0.515736: 100%|##########| 20/20 [04:45<00:00, 14.27s/it]\n"
     ]
    },
    {
     "name": "stdout",
     "output_type": "stream",
     "text": [
      "Early stopping, best iteration is:\n",
      "[344]\tvalid_0's rmse: 0.305717\tvalid_1's rmse: 0.519823\n"
     ]
    },
    {
     "name": "stderr",
     "output_type": "stream",
     "text": [
      "\n",
      "  0%|          | 0/10 [00:00<?, ?it/s]\u001b[A\n",
      "bagging, val_score: 0.515736:   0%|          | 0/10 [00:00<?, ?it/s]\u001b[A"
     ]
    },
    {
     "name": "stdout",
     "output_type": "stream",
     "text": [
      "Training until validation scores don't improve for 100 rounds\n",
      "[100]\tvalid_0's rmse: 0.621025\tvalid_1's rmse: 0.594853\n",
      "[200]\tvalid_0's rmse: 0.494514\tvalid_1's rmse: 0.526832\n",
      "[300]\tvalid_0's rmse: 0.448361\tvalid_1's rmse: 0.518458\n",
      "[400]\tvalid_0's rmse: 0.418698\tvalid_1's rmse: 0.518396\n"
     ]
    },
    {
     "name": "stderr",
     "output_type": "stream",
     "text": [
      "\n",
      "bagging, val_score: 0.515736:   0%|          | 0/10 [00:15<?, ?it/s]\u001b[A\n",
      "bagging, val_score: 0.515736:  10%|#         | 1/10 [00:15<02:17, 15.33s/it]\u001b[A[I 2024-06-30 05:06:19,306] Trial 27 finished with value: 0.5180434407714931 and parameters: {'bagging_fraction': 0.5529927682141479, 'bagging_freq': 4}. Best is trial 27 with value: 0.5180434407714931.\n",
      "\n",
      "bagging, val_score: 0.515736:  10%|#         | 1/10 [00:15<02:17, 15.33s/it]\u001b[A"
     ]
    },
    {
     "name": "stdout",
     "output_type": "stream",
     "text": [
      "Early stopping, best iteration is:\n",
      "[372]\tvalid_0's rmse: 0.426102\tvalid_1's rmse: 0.518043\n",
      "Training until validation scores don't improve for 100 rounds\n",
      "[100]\tvalid_0's rmse: 0.619136\tvalid_1's rmse: 0.594348\n",
      "[200]\tvalid_0's rmse: 0.492433\tvalid_1's rmse: 0.528082\n",
      "[300]\tvalid_0's rmse: 0.444979\tvalid_1's rmse: 0.519585\n",
      "[400]\tvalid_0's rmse: 0.414023\tvalid_1's rmse: 0.519519\n"
     ]
    },
    {
     "name": "stderr",
     "output_type": "stream",
     "text": [
      "\n",
      "bagging, val_score: 0.515736:  10%|#         | 1/10 [00:23<02:17, 15.33s/it]\u001b[A\n",
      "bagging, val_score: 0.515736:  20%|##        | 2/10 [00:23<01:30, 11.37s/it]\u001b[A[I 2024-06-30 05:06:27,898] Trial 28 finished with value: 0.519015306126179 and parameters: {'bagging_fraction': 0.9928378241164317, 'bagging_freq': 7}. Best is trial 27 with value: 0.5180434407714931.\n",
      "\n",
      "bagging, val_score: 0.515736:  20%|##        | 2/10 [00:23<01:30, 11.37s/it]\u001b[A"
     ]
    },
    {
     "name": "stdout",
     "output_type": "stream",
     "text": [
      "Early stopping, best iteration is:\n",
      "[354]\tvalid_0's rmse: 0.427355\tvalid_1's rmse: 0.519015\n",
      "Training until validation scores don't improve for 100 rounds\n",
      "[100]\tvalid_0's rmse: 0.618546\tvalid_1's rmse: 0.593343\n",
      "[200]\tvalid_0's rmse: 0.491512\tvalid_1's rmse: 0.52677\n",
      "[300]\tvalid_0's rmse: 0.443724\tvalid_1's rmse: 0.51759\n",
      "[400]\tvalid_0's rmse: 0.412835\tvalid_1's rmse: 0.517285\n"
     ]
    },
    {
     "name": "stderr",
     "output_type": "stream",
     "text": [
      "\n",
      "bagging, val_score: 0.515736:  20%|##        | 2/10 [00:41<01:30, 11.37s/it]\u001b[A\n",
      "bagging, val_score: 0.515736:  30%|###       | 3/10 [00:41<01:39, 14.22s/it]\u001b[A[I 2024-06-30 05:06:45,514] Trial 29 finished with value: 0.5170855504575665 and parameters: {'bagging_fraction': 0.8978593100533039, 'bagging_freq': 1}. Best is trial 29 with value: 0.5170855504575665.\n",
      "\n",
      "bagging, val_score: 0.515736:  30%|###       | 3/10 [00:41<01:39, 14.22s/it]\u001b[A"
     ]
    },
    {
     "name": "stdout",
     "output_type": "stream",
     "text": [
      "Early stopping, best iteration is:\n",
      "[378]\tvalid_0's rmse: 0.419004\tvalid_1's rmse: 0.517086\n",
      "Training until validation scores don't improve for 100 rounds\n",
      "[100]\tvalid_0's rmse: 0.621008\tvalid_1's rmse: 0.596161\n",
      "[200]\tvalid_0's rmse: 0.495687\tvalid_1's rmse: 0.528422\n",
      "[300]\tvalid_0's rmse: 0.449146\tvalid_1's rmse: 0.51749\n",
      "[400]\tvalid_0's rmse: 0.419691\tvalid_1's rmse: 0.517707\n"
     ]
    },
    {
     "name": "stderr",
     "output_type": "stream",
     "text": [
      "\n",
      "bagging, val_score: 0.515736:  30%|###       | 3/10 [00:47<01:39, 14.22s/it]\u001b[A\n",
      "bagging, val_score: 0.515736:  40%|####      | 4/10 [00:47<01:04, 10.81s/it]\u001b[A[I 2024-06-30 05:06:51,101] Trial 30 finished with value: 0.5170106458367905 and parameters: {'bagging_fraction': 0.5394056932378487, 'bagging_freq': 7}. Best is trial 30 with value: 0.5170106458367905.\n",
      "\n",
      "bagging, val_score: 0.515736:  40%|####      | 4/10 [00:47<01:04, 10.81s/it]\u001b[A"
     ]
    },
    {
     "name": "stdout",
     "output_type": "stream",
     "text": [
      "Early stopping, best iteration is:\n",
      "[339]\tvalid_0's rmse: 0.436589\tvalid_1's rmse: 0.517011\n",
      "Training until validation scores don't improve for 100 rounds\n",
      "[100]\tvalid_0's rmse: 0.618829\tvalid_1's rmse: 0.593298\n",
      "[200]\tvalid_0's rmse: 0.491565\tvalid_1's rmse: 0.527068\n",
      "[300]\tvalid_0's rmse: 0.443796\tvalid_1's rmse: 0.517735\n",
      "[400]\tvalid_0's rmse: 0.413343\tvalid_1's rmse: 0.517109\n"
     ]
    },
    {
     "name": "stderr",
     "output_type": "stream",
     "text": [
      "\n",
      "bagging, val_score: 0.515736:  40%|####      | 4/10 [00:53<01:04, 10.81s/it]\u001b[A\n",
      "bagging, val_score: 0.515736:  50%|#####     | 5/10 [00:53<00:45,  9.17s/it]\u001b[A[I 2024-06-30 05:06:57,344] Trial 31 finished with value: 0.5169422734429309 and parameters: {'bagging_fraction': 0.7358110135675244, 'bagging_freq': 1}. Best is trial 31 with value: 0.5169422734429309.\n",
      "\n",
      "bagging, val_score: 0.515736:  50%|#####     | 5/10 [00:53<00:45,  9.17s/it]\u001b[A"
     ]
    },
    {
     "name": "stdout",
     "output_type": "stream",
     "text": [
      "Early stopping, best iteration is:\n",
      "[362]\tvalid_0's rmse: 0.423998\tvalid_1's rmse: 0.516942\n",
      "Training until validation scores don't improve for 100 rounds\n",
      "[100]\tvalid_0's rmse: 0.62259\tvalid_1's rmse: 0.594236\n",
      "[200]\tvalid_0's rmse: 0.497157\tvalid_1's rmse: 0.526588\n",
      "[300]\tvalid_0's rmse: 0.451912\tvalid_1's rmse: 0.517854\n",
      "[400]\tvalid_0's rmse: 0.423478\tvalid_1's rmse: 0.517662\n"
     ]
    },
    {
     "name": "stderr",
     "output_type": "stream",
     "text": [
      "\n",
      "bagging, val_score: 0.515736:  50%|#####     | 5/10 [01:01<00:45,  9.17s/it]\u001b[A\n",
      "bagging, val_score: 0.515736:  60%|######    | 6/10 [01:01<00:35,  8.89s/it]\u001b[A[I 2024-06-30 05:07:05,692] Trial 32 finished with value: 0.5173832842203582 and parameters: {'bagging_fraction': 0.4042885219704703, 'bagging_freq': 4}. Best is trial 31 with value: 0.5169422734429309.\n",
      "\n",
      "bagging, val_score: 0.515736:  60%|######    | 6/10 [01:01<00:35,  8.89s/it]\u001b[A"
     ]
    },
    {
     "name": "stdout",
     "output_type": "stream",
     "text": [
      "Early stopping, best iteration is:\n",
      "[362]\tvalid_0's rmse: 0.433352\tvalid_1's rmse: 0.517383\n",
      "Training until validation scores don't improve for 100 rounds\n",
      "[100]\tvalid_0's rmse: 0.619242\tvalid_1's rmse: 0.594274\n",
      "[200]\tvalid_0's rmse: 0.491717\tvalid_1's rmse: 0.527548\n",
      "[300]\tvalid_0's rmse: 0.444354\tvalid_1's rmse: 0.519225\n",
      "[400]\tvalid_0's rmse: 0.414173\tvalid_1's rmse: 0.518865\n"
     ]
    },
    {
     "name": "stderr",
     "output_type": "stream",
     "text": [
      "\n",
      "bagging, val_score: 0.515736:  60%|######    | 6/10 [01:21<00:35,  8.89s/it]\u001b[A\n",
      "bagging, val_score: 0.515736:  70%|#######   | 7/10 [01:21<00:37, 12.37s/it]\u001b[A[I 2024-06-30 05:07:25,226] Trial 33 finished with value: 0.5187083737927846 and parameters: {'bagging_fraction': 0.789464224656464, 'bagging_freq': 3}. Best is trial 31 with value: 0.5169422734429309.\n",
      "\n",
      "bagging, val_score: 0.515736:  70%|#######   | 7/10 [01:21<00:37, 12.37s/it]\u001b[A"
     ]
    },
    {
     "name": "stdout",
     "output_type": "stream",
     "text": [
      "Early stopping, best iteration is:\n",
      "[388]\tvalid_0's rmse: 0.417501\tvalid_1's rmse: 0.518708\n",
      "Training until validation scores don't improve for 100 rounds\n",
      "[100]\tvalid_0's rmse: 0.620352\tvalid_1's rmse: 0.595367\n",
      "[200]\tvalid_0's rmse: 0.494926\tvalid_1's rmse: 0.527067\n",
      "[300]\tvalid_0's rmse: 0.447845\tvalid_1's rmse: 0.517431\n",
      "[400]\tvalid_0's rmse: 0.418385\tvalid_1's rmse: 0.517359\n"
     ]
    },
    {
     "name": "stderr",
     "output_type": "stream",
     "text": [
      "\n",
      "bagging, val_score: 0.515736:  70%|#######   | 7/10 [01:26<00:37, 12.37s/it]\u001b[A\n",
      "bagging, val_score: 0.515736:  80%|########  | 8/10 [01:26<00:20, 10.23s/it]\u001b[A[I 2024-06-30 05:07:30,893] Trial 34 finished with value: 0.5166620160357518 and parameters: {'bagging_fraction': 0.5972671704959468, 'bagging_freq': 6}. Best is trial 34 with value: 0.5166620160357518.\n",
      "\n",
      "bagging, val_score: 0.515736:  80%|########  | 8/10 [01:26<00:20, 10.23s/it]\u001b[A"
     ]
    },
    {
     "name": "stdout",
     "output_type": "stream",
     "text": [
      "Early stopping, best iteration is:\n",
      "[372]\tvalid_0's rmse: 0.426092\tvalid_1's rmse: 0.516662\n",
      "Training until validation scores don't improve for 100 rounds\n",
      "[100]\tvalid_0's rmse: 0.621039\tvalid_1's rmse: 0.593139\n",
      "[200]\tvalid_0's rmse: 0.495642\tvalid_1's rmse: 0.526172\n",
      "[300]\tvalid_0's rmse: 0.449556\tvalid_1's rmse: 0.517031\n",
      "[400]\tvalid_0's rmse: 0.420356\tvalid_1's rmse: 0.516292\n",
      "[500]\tvalid_0's rmse: 0.396687\tvalid_1's rmse: 0.516782\n"
     ]
    },
    {
     "name": "stderr",
     "output_type": "stream",
     "text": [
      "\n",
      "bagging, val_score: 0.515736:  80%|########  | 8/10 [01:33<00:20, 10.23s/it]\u001b[A\n",
      "bagging, val_score: 0.515736:  90%|######### | 9/10 [01:33<00:09,  9.14s/it]\u001b[A[I 2024-06-30 05:07:37,638] Trial 35 finished with value: 0.5159986307433418 and parameters: {'bagging_fraction': 0.44222989475798763, 'bagging_freq': 2}. Best is trial 35 with value: 0.5159986307433418.\n",
      "\n",
      "bagging, val_score: 0.515736:  90%|######### | 9/10 [01:33<00:09,  9.14s/it]\u001b[A"
     ]
    },
    {
     "name": "stdout",
     "output_type": "stream",
     "text": [
      "Early stopping, best iteration is:\n",
      "[434]\tvalid_0's rmse: 0.411833\tvalid_1's rmse: 0.515999\n",
      "Training until validation scores don't improve for 100 rounds\n",
      "[100]\tvalid_0's rmse: 0.621147\tvalid_1's rmse: 0.593269\n",
      "[200]\tvalid_0's rmse: 0.496202\tvalid_1's rmse: 0.527004\n",
      "[300]\tvalid_0's rmse: 0.450088\tvalid_1's rmse: 0.517282\n",
      "[400]\tvalid_0's rmse: 0.421013\tvalid_1's rmse: 0.517228\n"
     ]
    },
    {
     "name": "stderr",
     "output_type": "stream",
     "text": [
      "\n",
      "bagging, val_score: 0.515736:  90%|######### | 9/10 [01:49<00:09,  9.14s/it]\u001b[A\n",
      "bagging, val_score: 0.515736: 100%|##########| 10/10 [01:49<00:00, 11.16s/it]\u001b[A[I 2024-06-30 05:07:53,302] Trial 36 finished with value: 0.5164468473889504 and parameters: {'bagging_fraction': 0.4134335129173896, 'bagging_freq': 2}. Best is trial 35 with value: 0.5159986307433418.\n",
      "bagging, val_score: 0.515736: 100%|##########| 10/10 [01:49<00:00, 10.93s/it]\n"
     ]
    },
    {
     "name": "stdout",
     "output_type": "stream",
     "text": [
      "Early stopping, best iteration is:\n",
      "[338]\tvalid_0's rmse: 0.438145\tvalid_1's rmse: 0.516447\n"
     ]
    },
    {
     "name": "stderr",
     "output_type": "stream",
     "text": [
      "\n",
      "  0%|          | 0/3 [00:00<?, ?it/s]\u001b[A\n",
      "feature_fraction_stage2, val_score: 0.515736:   0%|          | 0/3 [00:00<?, ?it/s]\u001b[A"
     ]
    },
    {
     "name": "stdout",
     "output_type": "stream",
     "text": [
      "Training until validation scores don't improve for 100 rounds\n",
      "[100]\tvalid_0's rmse: 0.620587\tvalid_1's rmse: 0.594249\n",
      "[200]\tvalid_0's rmse: 0.494372\tvalid_1's rmse: 0.526382\n",
      "[300]\tvalid_0's rmse: 0.447387\tvalid_1's rmse: 0.518164\n",
      "[400]\tvalid_0's rmse: 0.418051\tvalid_1's rmse: 0.517224\n"
     ]
    },
    {
     "name": "stderr",
     "output_type": "stream",
     "text": [
      "\n",
      "feature_fraction_stage2, val_score: 0.515736:   0%|          | 0/3 [00:13<?, ?it/s]\u001b[A\n",
      "feature_fraction_stage2, val_score: 0.515736:  33%|###3      | 1/3 [00:13<00:27, 13.70s/it]\u001b[A[I 2024-06-30 05:08:07,017] Trial 37 finished with value: 0.5171338392365689 and parameters: {'feature_fraction': 0.9520000000000001}. Best is trial 37 with value: 0.5171338392365689.\n",
      "\n",
      "feature_fraction_stage2, val_score: 0.515736:  33%|###3      | 1/3 [00:13<00:27, 13.70s/it]\u001b[A"
     ]
    },
    {
     "name": "stdout",
     "output_type": "stream",
     "text": [
      "Early stopping, best iteration is:\n",
      "[390]\tvalid_0's rmse: 0.420742\tvalid_1's rmse: 0.517134\n",
      "Training until validation scores don't improve for 100 rounds\n",
      "[100]\tvalid_0's rmse: 0.620377\tvalid_1's rmse: 0.594574\n",
      "[200]\tvalid_0's rmse: 0.494416\tvalid_1's rmse: 0.525956\n",
      "[300]\tvalid_0's rmse: 0.447554\tvalid_1's rmse: 0.516896\n",
      "[400]\tvalid_0's rmse: 0.418252\tvalid_1's rmse: 0.516223\n"
     ]
    },
    {
     "name": "stderr",
     "output_type": "stream",
     "text": [
      "\n",
      "feature_fraction_stage2, val_score: 0.515736:  33%|###3      | 1/3 [00:27<00:27, 13.70s/it]\u001b[A\n",
      "feature_fraction_stage2, val_score: 0.515736:  67%|######6   | 2/3 [00:27<00:13, 13.95s/it]\u001b[A[I 2024-06-30 05:08:21,133] Trial 38 finished with value: 0.5159231959292616 and parameters: {'feature_fraction': 0.9840000000000001}. Best is trial 38 with value: 0.5159231959292616.\n",
      "\n",
      "feature_fraction_stage2, val_score: 0.515736:  67%|######6   | 2/3 [00:27<00:13, 13.95s/it]\u001b[A"
     ]
    },
    {
     "name": "stdout",
     "output_type": "stream",
     "text": [
      "Early stopping, best iteration is:\n",
      "[380]\tvalid_0's rmse: 0.423731\tvalid_1's rmse: 0.515923\n",
      "Training until validation scores don't improve for 100 rounds\n",
      "[100]\tvalid_0's rmse: 0.62069\tvalid_1's rmse: 0.59459\n",
      "[200]\tvalid_0's rmse: 0.49436\tvalid_1's rmse: 0.526151\n",
      "[300]\tvalid_0's rmse: 0.447242\tvalid_1's rmse: 0.517616\n",
      "[400]\tvalid_0's rmse: 0.417878\tvalid_1's rmse: 0.517232\n"
     ]
    },
    {
     "name": "stderr",
     "output_type": "stream",
     "text": [
      "\n",
      "feature_fraction_stage2, val_score: 0.515736:  67%|######6   | 2/3 [00:41<00:13, 13.95s/it]\u001b[A\n",
      "feature_fraction_stage2, val_score: 0.515736: 100%|##########| 3/3 [00:41<00:00, 13.68s/it]\u001b[A[I 2024-06-30 05:08:34,503] Trial 39 finished with value: 0.5170212290902957 and parameters: {'feature_fraction': 0.92}. Best is trial 38 with value: 0.5159231959292616.\n",
      "feature_fraction_stage2, val_score: 0.515736: 100%|##########| 3/3 [00:41<00:00, 13.73s/it]\n"
     ]
    },
    {
     "name": "stdout",
     "output_type": "stream",
     "text": [
      "Early stopping, best iteration is:\n",
      "[380]\tvalid_0's rmse: 0.423333\tvalid_1's rmse: 0.517021\n"
     ]
    },
    {
     "name": "stderr",
     "output_type": "stream",
     "text": [
      "\n",
      "  0%|          | 0/20 [00:00<?, ?it/s]\u001b[A\n",
      "regularization_factors, val_score: 0.515736:   0%|          | 0/20 [00:00<?, ?it/s]\u001b[A"
     ]
    },
    {
     "name": "stdout",
     "output_type": "stream",
     "text": [
      "Training until validation scores don't improve for 100 rounds\n",
      "[100]\tvalid_0's rmse: 0.618609\tvalid_1's rmse: 0.5932\n",
      "[200]\tvalid_0's rmse: 0.492667\tvalid_1's rmse: 0.525761\n",
      "[300]\tvalid_0's rmse: 0.445407\tvalid_1's rmse: 0.517614\n",
      "[400]\tvalid_0's rmse: 0.41556\tvalid_1's rmse: 0.517745\n"
     ]
    },
    {
     "name": "stderr",
     "output_type": "stream",
     "text": [
      "\n",
      "regularization_factors, val_score: 0.515736:   0%|          | 0/20 [00:08<?, ?it/s]\u001b[A\n",
      "regularization_factors, val_score: 0.515736:   5%|5         | 1/20 [00:08<02:41,  8.49s/it]\u001b[A[I 2024-06-30 05:08:43,005] Trial 40 finished with value: 0.5171556603826108 and parameters: {'lambda_l1': 0.016102478513095493, 'lambda_l2': 0.24427617456074693}. Best is trial 40 with value: 0.5171556603826108.\n",
      "\n",
      "regularization_factors, val_score: 0.515736:   5%|5         | 1/20 [00:08<02:41,  8.49s/it]\u001b[A"
     ]
    },
    {
     "name": "stdout",
     "output_type": "stream",
     "text": [
      "Early stopping, best iteration is:\n",
      "[357]\tvalid_0's rmse: 0.427625\tvalid_1's rmse: 0.517156\n",
      "Training until validation scores don't improve for 100 rounds\n",
      "[100]\tvalid_0's rmse: 0.617794\tvalid_1's rmse: 0.593012\n",
      "[200]\tvalid_0's rmse: 0.491748\tvalid_1's rmse: 0.52593\n",
      "[300]\tvalid_0's rmse: 0.444451\tvalid_1's rmse: 0.517127\n",
      "[400]\tvalid_0's rmse: 0.414677\tvalid_1's rmse: 0.517109\n"
     ]
    },
    {
     "name": "stderr",
     "output_type": "stream",
     "text": [
      "\n",
      "regularization_factors, val_score: 0.515736:   5%|5         | 1/20 [00:24<02:41,  8.49s/it]\u001b[A\n",
      "regularization_factors, val_score: 0.515736:  10%|#         | 2/20 [00:24<03:54, 13.05s/it]\u001b[A[I 2024-06-30 05:08:59,248] Trial 41 finished with value: 0.5167583365883979 and parameters: {'lambda_l1': 1.8687767746832728e-08, 'lambda_l2': 4.8272049657834615e-08}. Best is trial 41 with value: 0.5167583365883979.\n",
      "\n",
      "regularization_factors, val_score: 0.515736:  10%|#         | 2/20 [00:24<03:54, 13.05s/it]\u001b[A"
     ]
    },
    {
     "name": "stdout",
     "output_type": "stream",
     "text": [
      "Early stopping, best iteration is:\n",
      "[380]\tvalid_0's rmse: 0.420243\tvalid_1's rmse: 0.516758\n",
      "Training until validation scores don't improve for 100 rounds\n",
      "[100]\tvalid_0's rmse: 0.647766\tvalid_1's rmse: 0.60807\n",
      "[200]\tvalid_0's rmse: 0.532668\tvalid_1's rmse: 0.539833\n",
      "[300]\tvalid_0's rmse: 0.493146\tvalid_1's rmse: 0.527526\n",
      "[400]\tvalid_0's rmse: 0.470723\tvalid_1's rmse: 0.525275\n",
      "[500]\tvalid_0's rmse: 0.453528\tvalid_1's rmse: 0.524701\n",
      "[600]\tvalid_0's rmse: 0.439068\tvalid_1's rmse: 0.524737\n",
      "[700]\tvalid_0's rmse: 0.426009\tvalid_1's rmse: 0.524295\n",
      "[800]\tvalid_0's rmse: 0.414231\tvalid_1's rmse: 0.524338\n"
     ]
    },
    {
     "name": "stderr",
     "output_type": "stream",
     "text": [
      "\n",
      "regularization_factors, val_score: 0.515736:  10%|#         | 2/20 [00:37<03:54, 13.05s/it]\u001b[A\n",
      "regularization_factors, val_score: 0.515736:  15%|#5        | 3/20 [00:37<03:42, 13.10s/it]\u001b[A[I 2024-06-30 05:09:12,412] Trial 42 finished with value: 0.5241958581653183 and parameters: {'lambda_l1': 9.043106293012881, 'lambda_l2': 1.0721714450222894e-06}. Best is trial 41 with value: 0.5167583365883979.\n",
      "\n",
      "regularization_factors, val_score: 0.515736:  15%|#5        | 3/20 [00:37<03:42, 13.10s/it]\u001b[A"
     ]
    },
    {
     "name": "stdout",
     "output_type": "stream",
     "text": [
      "Early stopping, best iteration is:\n",
      "[755]\tvalid_0's rmse: 0.419225\tvalid_1's rmse: 0.524196\n",
      "Training until validation scores don't improve for 100 rounds\n",
      "[100]\tvalid_0's rmse: 0.63411\tvalid_1's rmse: 0.601347\n",
      "[200]\tvalid_0's rmse: 0.507407\tvalid_1's rmse: 0.530899\n",
      "[300]\tvalid_0's rmse: 0.459953\tvalid_1's rmse: 0.519841\n",
      "[400]\tvalid_0's rmse: 0.430979\tvalid_1's rmse: 0.518525\n"
     ]
    },
    {
     "name": "stderr",
     "output_type": "stream",
     "text": [
      "\n",
      "regularization_factors, val_score: 0.515736:  15%|#5        | 3/20 [00:43<03:42, 13.10s/it]\u001b[A\n",
      "regularization_factors, val_score: 0.515736:  20%|##        | 4/20 [00:43<02:41, 10.12s/it]\u001b[A[I 2024-06-30 05:09:17,946] Trial 43 finished with value: 0.5184476137931606 and parameters: {'lambda_l1': 9.735007060990753e-08, 'lambda_l2': 8.391038590711362}. Best is trial 41 with value: 0.5167583365883979.\n",
      "\n",
      "regularization_factors, val_score: 0.515736:  20%|##        | 4/20 [00:43<02:41, 10.12s/it]\u001b[A"
     ]
    },
    {
     "name": "stdout",
     "output_type": "stream",
     "text": [
      "Early stopping, best iteration is:\n",
      "[365]\tvalid_0's rmse: 0.440225\tvalid_1's rmse: 0.518448\n",
      "Training until validation scores don't improve for 100 rounds\n",
      "[100]\tvalid_0's rmse: 0.617787\tvalid_1's rmse: 0.592993\n",
      "[200]\tvalid_0's rmse: 0.49193\tvalid_1's rmse: 0.525734\n",
      "[300]\tvalid_0's rmse: 0.444575\tvalid_1's rmse: 0.518253\n",
      "[400]\tvalid_0's rmse: 0.41481\tvalid_1's rmse: 0.518437\n"
     ]
    },
    {
     "name": "stderr",
     "output_type": "stream",
     "text": [
      "\n",
      "regularization_factors, val_score: 0.515736:  20%|##        | 4/20 [00:55<02:41, 10.12s/it]\u001b[A\n",
      "regularization_factors, val_score: 0.515736:  25%|##5       | 5/20 [00:55<02:40, 10.70s/it]\u001b[A[I 2024-06-30 05:09:29,677] Trial 44 finished with value: 0.5179991793655079 and parameters: {'lambda_l1': 2.6551827949051275e-05, 'lambda_l2': 0.0007299604838381517}. Best is trial 41 with value: 0.5167583365883979.\n",
      "\n",
      "regularization_factors, val_score: 0.515736:  25%|##5       | 5/20 [00:55<02:40, 10.70s/it]\u001b[A"
     ]
    },
    {
     "name": "stdout",
     "output_type": "stream",
     "text": [
      "Early stopping, best iteration is:\n",
      "[325]\tvalid_0's rmse: 0.436289\tvalid_1's rmse: 0.517999\n",
      "Training until validation scores don't improve for 100 rounds\n",
      "[100]\tvalid_0's rmse: 0.617803\tvalid_1's rmse: 0.593028\n",
      "[200]\tvalid_0's rmse: 0.491758\tvalid_1's rmse: 0.526187\n",
      "[300]\tvalid_0's rmse: 0.44443\tvalid_1's rmse: 0.517605\n"
     ]
    },
    {
     "name": "stderr",
     "output_type": "stream",
     "text": [
      "\n",
      "regularization_factors, val_score: 0.515736:  25%|##5       | 5/20 [00:59<02:40, 10.70s/it]\u001b[A\n",
      "regularization_factors, val_score: 0.515736:  30%|###       | 6/20 [00:59<01:59,  8.54s/it]\u001b[A[I 2024-06-30 05:09:34,041] Trial 45 finished with value: 0.5173776255206154 and parameters: {'lambda_l1': 0.0017211282206500225, 'lambda_l2': 0.000534914545692552}. Best is trial 41 with value: 0.5167583365883979.\n",
      "\n",
      "regularization_factors, val_score: 0.515736:  30%|###       | 6/20 [00:59<01:59,  8.54s/it]\u001b[A"
     ]
    },
    {
     "name": "stdout",
     "output_type": "stream",
     "text": [
      "[400]\tvalid_0's rmse: 0.414542\tvalid_1's rmse: 0.51792\n",
      "Early stopping, best iteration is:\n",
      "[310]\tvalid_0's rmse: 0.44099\tvalid_1's rmse: 0.517378\n",
      "Training until validation scores don't improve for 100 rounds\n",
      "[100]\tvalid_0's rmse: 0.633924\tvalid_1's rmse: 0.600132\n",
      "[200]\tvalid_0's rmse: 0.513514\tvalid_1's rmse: 0.532091\n",
      "[300]\tvalid_0's rmse: 0.470482\tvalid_1's rmse: 0.520798\n",
      "[400]\tvalid_0's rmse: 0.444639\tvalid_1's rmse: 0.518985\n"
     ]
    },
    {
     "name": "stderr",
     "output_type": "stream",
     "text": [
      "\n",
      "regularization_factors, val_score: 0.515736:  30%|###       | 6/20 [01:06<01:59,  8.54s/it]\u001b[A\n",
      "regularization_factors, val_score: 0.515736:  35%|###5      | 7/20 [01:06<01:43,  7.97s/it]\u001b[A[I 2024-06-30 05:09:40,823] Trial 46 finished with value: 0.5188524818182986 and parameters: {'lambda_l1': 3.7592653181192874, 'lambda_l2': 4.282738015219217e-06}. Best is trial 41 with value: 0.5167583365883979.\n",
      "\n",
      "regularization_factors, val_score: 0.515736:  35%|###5      | 7/20 [01:06<01:43,  7.97s/it]\u001b[A"
     ]
    },
    {
     "name": "stdout",
     "output_type": "stream",
     "text": [
      "Early stopping, best iteration is:\n",
      "[384]\tvalid_0's rmse: 0.448435\tvalid_1's rmse: 0.518852\n",
      "Training until validation scores don't improve for 100 rounds\n",
      "[100]\tvalid_0's rmse: 0.617838\tvalid_1's rmse: 0.59302\n",
      "[200]\tvalid_0's rmse: 0.491931\tvalid_1's rmse: 0.525578\n",
      "[300]\tvalid_0's rmse: 0.444622\tvalid_1's rmse: 0.51727\n"
     ]
    },
    {
     "name": "stderr",
     "output_type": "stream",
     "text": [
      "\n",
      "regularization_factors, val_score: 0.515736:  35%|###5      | 7/20 [01:14<01:43,  7.97s/it]\u001b[A\n",
      "regularization_factors, val_score: 0.515736:  40%|####      | 8/20 [01:14<01:34,  7.89s/it]\u001b[A[I 2024-06-30 05:09:48,539] Trial 47 finished with value: 0.517031905869644 and parameters: {'lambda_l1': 4.952365960301482e-06, 'lambda_l2': 0.044989660629361876}. Best is trial 41 with value: 0.5167583365883979.\n",
      "\n",
      "regularization_factors, val_score: 0.515736:  40%|####      | 8/20 [01:14<01:34,  7.89s/it]\u001b[A"
     ]
    },
    {
     "name": "stdout",
     "output_type": "stream",
     "text": [
      "[400]\tvalid_0's rmse: 0.415018\tvalid_1's rmse: 0.517822\n",
      "Early stopping, best iteration is:\n",
      "[310]\tvalid_0's rmse: 0.441184\tvalid_1's rmse: 0.517032\n",
      "Training until validation scores don't improve for 100 rounds\n",
      "[100]\tvalid_0's rmse: 0.618142\tvalid_1's rmse: 0.593108\n",
      "[200]\tvalid_0's rmse: 0.492116\tvalid_1's rmse: 0.525839\n",
      "[300]\tvalid_0's rmse: 0.444805\tvalid_1's rmse: 0.517814\n",
      "[400]\tvalid_0's rmse: 0.415231\tvalid_1's rmse: 0.517572\n"
     ]
    },
    {
     "name": "stderr",
     "output_type": "stream",
     "text": [
      "\n",
      "regularization_factors, val_score: 0.515736:  40%|####      | 8/20 [01:19<01:34,  7.89s/it]\u001b[A\n",
      "regularization_factors, val_score: 0.515736:  45%|####5     | 9/20 [01:19<01:18,  7.18s/it]\u001b[A[I 2024-06-30 05:09:54,157] Trial 48 finished with value: 0.5173718027229756 and parameters: {'lambda_l1': 0.06551809898926414, 'lambda_l2': 1.0601581496023224e-08}. Best is trial 41 with value: 0.5167583365883979.\n",
      "\n",
      "regularization_factors, val_score: 0.515736:  45%|####5     | 9/20 [01:19<01:18,  7.18s/it]\u001b[A"
     ]
    },
    {
     "name": "stdout",
     "output_type": "stream",
     "text": [
      "Early stopping, best iteration is:\n",
      "[391]\tvalid_0's rmse: 0.417782\tvalid_1's rmse: 0.517372\n",
      "Training until validation scores don't improve for 100 rounds\n",
      "[100]\tvalid_0's rmse: 0.617794\tvalid_1's rmse: 0.593012\n",
      "[200]\tvalid_0's rmse: 0.491749\tvalid_1's rmse: 0.52593\n",
      "[300]\tvalid_0's rmse: 0.444419\tvalid_1's rmse: 0.517206\n"
     ]
    },
    {
     "name": "stderr",
     "output_type": "stream",
     "text": [
      "\n",
      "regularization_factors, val_score: 0.515736:  45%|####5     | 9/20 [01:23<01:18,  7.18s/it]\u001b[A\n",
      "regularization_factors, val_score: 0.515736:  50%|#####     | 10/20 [01:23<01:02,  6.22s/it]\u001b[A[I 2024-06-30 05:09:58,223] Trial 49 finished with value: 0.5169870697885512 and parameters: {'lambda_l1': 1.6480070700269828e-06, 'lambda_l2': 1.623311067520013e-05}. Best is trial 41 with value: 0.5167583365883979.\n",
      "\n",
      "regularization_factors, val_score: 0.515736:  50%|#####     | 10/20 [01:23<01:02,  6.22s/it]\u001b[A"
     ]
    },
    {
     "name": "stdout",
     "output_type": "stream",
     "text": [
      "[400]\tvalid_0's rmse: 0.41449\tvalid_1's rmse: 0.51725\n",
      "Early stopping, best iteration is:\n",
      "[310]\tvalid_0's rmse: 0.440987\tvalid_1's rmse: 0.516987\n",
      "Training until validation scores don't improve for 100 rounds\n",
      "[100]\tvalid_0's rmse: 0.617823\tvalid_1's rmse: 0.593099\n",
      "[200]\tvalid_0's rmse: 0.491735\tvalid_1's rmse: 0.525928\n",
      "[300]\tvalid_0's rmse: 0.444502\tvalid_1's rmse: 0.517783\n"
     ]
    },
    {
     "name": "stderr",
     "output_type": "stream",
     "text": [
      "\n",
      "regularization_factors, val_score: 0.515736:  50%|#####     | 10/20 [01:28<01:02,  6.22s/it]\u001b[A\n",
      "regularization_factors, val_score: 0.515736:  55%|#####5    | 11/20 [01:28<00:51,  5.73s/it]\u001b[A[I 2024-06-30 05:10:02,837] Trial 50 finished with value: 0.5174280988549326 and parameters: {'lambda_l1': 7.089931459195887e-05, 'lambda_l2': 0.010372874097469158}. Best is trial 41 with value: 0.5167583365883979.\n",
      "\n",
      "regularization_factors, val_score: 0.515736:  55%|#####5    | 11/20 [01:28<00:51,  5.73s/it]\u001b[A"
     ]
    },
    {
     "name": "stdout",
     "output_type": "stream",
     "text": [
      "[400]\tvalid_0's rmse: 0.414675\tvalid_1's rmse: 0.517839\n",
      "Early stopping, best iteration is:\n",
      "[309]\tvalid_0's rmse: 0.441446\tvalid_1's rmse: 0.517428\n",
      "Training until validation scores don't improve for 100 rounds\n",
      "[100]\tvalid_0's rmse: 0.623746\tvalid_1's rmse: 0.596439\n",
      "[200]\tvalid_0's rmse: 0.496975\tvalid_1's rmse: 0.527385\n",
      "[300]\tvalid_0's rmse: 0.449833\tvalid_1's rmse: 0.518726\n",
      "[400]\tvalid_0's rmse: 0.420452\tvalid_1's rmse: 0.518103\n"
     ]
    },
    {
     "name": "stderr",
     "output_type": "stream",
     "text": [
      "\n",
      "regularization_factors, val_score: 0.515736:  55%|#####5    | 11/20 [01:33<00:51,  5.73s/it]\u001b[A\n",
      "regularization_factors, val_score: 0.515736:  60%|######    | 12/20 [01:33<00:43,  5.48s/it]\u001b[A[I 2024-06-30 05:10:07,737] Trial 51 finished with value: 0.5178623162873407 and parameters: {'lambda_l1': 0.2028481180082197, 'lambda_l2': 2.1043575689582306}. Best is trial 41 with value: 0.5167583365883979.\n",
      "\n",
      "regularization_factors, val_score: 0.515736:  60%|######    | 12/20 [01:33<00:43,  5.48s/it]\u001b[A"
     ]
    },
    {
     "name": "stdout",
     "output_type": "stream",
     "text": [
      "Early stopping, best iteration is:\n",
      "[364]\tvalid_0's rmse: 0.430332\tvalid_1's rmse: 0.517862\n",
      "Training until validation scores don't improve for 100 rounds\n",
      "[100]\tvalid_0's rmse: 0.617802\tvalid_1's rmse: 0.593027\n",
      "[200]\tvalid_0's rmse: 0.492017\tvalid_1's rmse: 0.525977\n",
      "[300]\tvalid_0's rmse: 0.444789\tvalid_1's rmse: 0.517541\n",
      "[400]\tvalid_0's rmse: 0.415055\tvalid_1's rmse: 0.51762\n"
     ]
    },
    {
     "name": "stderr",
     "output_type": "stream",
     "text": [
      "\n",
      "regularization_factors, val_score: 0.515736:  60%|######    | 12/20 [01:38<00:43,  5.48s/it]\u001b[A\n",
      "regularization_factors, val_score: 0.515736:  65%|######5   | 13/20 [01:38<00:37,  5.35s/it]\u001b[A[I 2024-06-30 05:10:12,811] Trial 52 finished with value: 0.5169138775496603 and parameters: {'lambda_l1': 0.0018301562912418677, 'lambda_l2': 3.3959192410266164e-05}. Best is trial 41 with value: 0.5167583365883979.\n",
      "\n",
      "regularization_factors, val_score: 0.515736:  65%|######5   | 13/20 [01:38<00:37,  5.35s/it]\u001b[A"
     ]
    },
    {
     "name": "stdout",
     "output_type": "stream",
     "text": [
      "Early stopping, best iteration is:\n",
      "[362]\tvalid_0's rmse: 0.425591\tvalid_1's rmse: 0.516914\n",
      "Training until validation scores don't improve for 100 rounds\n",
      "[100]\tvalid_0's rmse: 0.617794\tvalid_1's rmse: 0.593012\n",
      "[200]\tvalid_0's rmse: 0.491748\tvalid_1's rmse: 0.52593\n",
      "[300]\tvalid_0's rmse: 0.444451\tvalid_1's rmse: 0.517127\n",
      "[400]\tvalid_0's rmse: 0.414677\tvalid_1's rmse: 0.517109\n"
     ]
    },
    {
     "name": "stderr",
     "output_type": "stream",
     "text": [
      "\n",
      "regularization_factors, val_score: 0.515736:  65%|######5   | 13/20 [01:47<00:37,  5.35s/it]\u001b[A\n",
      "regularization_factors, val_score: 0.515736:  70%|#######   | 14/20 [01:47<00:39,  6.55s/it]\u001b[A[I 2024-06-30 05:10:22,117] Trial 53 finished with value: 0.516758336514514 and parameters: {'lambda_l1': 1.9015672797289991e-07, 'lambda_l2': 2.4169583306416505e-07}. Best is trial 53 with value: 0.516758336514514.\n",
      "\n",
      "regularization_factors, val_score: 0.515736:  70%|#######   | 14/20 [01:47<00:39,  6.55s/it]\u001b[A"
     ]
    },
    {
     "name": "stdout",
     "output_type": "stream",
     "text": [
      "Early stopping, best iteration is:\n",
      "[380]\tvalid_0's rmse: 0.420243\tvalid_1's rmse: 0.516758\n",
      "Training until validation scores don't improve for 100 rounds\n",
      "[100]\tvalid_0's rmse: 0.619272\tvalid_1's rmse: 0.593965\n",
      "[200]\tvalid_0's rmse: 0.493509\tvalid_1's rmse: 0.526271\n",
      "[300]\tvalid_0's rmse: 0.446665\tvalid_1's rmse: 0.517075\n",
      "[400]\tvalid_0's rmse: 0.417392\tvalid_1's rmse: 0.516456\n"
     ]
    },
    {
     "name": "stderr",
     "output_type": "stream",
     "text": [
      "\n",
      "regularization_factors, val_score: 0.515736:  70%|#######   | 14/20 [01:57<00:39,  6.55s/it]\u001b[A\n",
      "regularization_factors, val_score: 0.515736:  75%|#######5  | 15/20 [01:57<00:38,  7.67s/it]\u001b[A[I 2024-06-30 05:10:32,395] Trial 54 finished with value: 0.5161395894844888 and parameters: {'lambda_l1': 0.43651389955725806, 'lambda_l2': 0.009217771226105882}. Best is trial 54 with value: 0.5161395894844888.\n",
      "\n",
      "regularization_factors, val_score: 0.515736:  75%|#######5  | 15/20 [01:57<00:38,  7.67s/it]\u001b[A"
     ]
    },
    {
     "name": "stdout",
     "output_type": "stream",
     "text": [
      "Early stopping, best iteration is:\n",
      "[380]\tvalid_0's rmse: 0.422925\tvalid_1's rmse: 0.51614\n",
      "Training until validation scores don't improve for 100 rounds\n",
      "[100]\tvalid_0's rmse: 0.617787\tvalid_1's rmse: 0.592993\n",
      "[200]\tvalid_0's rmse: 0.491843\tvalid_1's rmse: 0.525677\n",
      "[300]\tvalid_0's rmse: 0.444528\tvalid_1's rmse: 0.517748\n",
      "[400]\tvalid_0's rmse: 0.414556\tvalid_1's rmse: 0.517606\n"
     ]
    },
    {
     "name": "stderr",
     "output_type": "stream",
     "text": [
      "\n",
      "regularization_factors, val_score: 0.515736:  75%|#######5  | 15/20 [02:07<00:38,  7.67s/it]\u001b[A\n",
      "regularization_factors, val_score: 0.515736:  80%|########  | 16/20 [02:07<00:32,  8.11s/it]\u001b[A[I 2024-06-30 05:10:41,523] Trial 55 finished with value: 0.5173524608788194 and parameters: {'lambda_l1': 0.0004834774222997216, 'lambda_l2': 0.00013365381431550602}. Best is trial 54 with value: 0.5161395894844888.\n",
      "\n",
      "regularization_factors, val_score: 0.515736:  80%|########  | 16/20 [02:07<00:32,  8.11s/it]\u001b[A"
     ]
    },
    {
     "name": "stdout",
     "output_type": "stream",
     "text": [
      "Early stopping, best iteration is:\n",
      "[379]\tvalid_0's rmse: 0.420543\tvalid_1's rmse: 0.517352\n",
      "Training until validation scores don't improve for 100 rounds\n",
      "[100]\tvalid_0's rmse: 0.617902\tvalid_1's rmse: 0.593036\n",
      "[200]\tvalid_0's rmse: 0.492035\tvalid_1's rmse: 0.526137\n",
      "[300]\tvalid_0's rmse: 0.444808\tvalid_1's rmse: 0.517864\n",
      "[400]\tvalid_0's rmse: 0.414977\tvalid_1's rmse: 0.51763\n"
     ]
    },
    {
     "name": "stderr",
     "output_type": "stream",
     "text": [
      "\n",
      "regularization_factors, val_score: 0.515736:  80%|########  | 16/20 [02:14<00:32,  8.11s/it]\u001b[A\n",
      "regularization_factors, val_score: 0.515736:  85%|########5 | 17/20 [02:14<00:23,  7.90s/it]\u001b[A[I 2024-06-30 05:10:48,921] Trial 56 finished with value: 0.5173881980981072 and parameters: {'lambda_l1': 0.015802221885400133, 'lambda_l2': 0.002731344712700936}. Best is trial 54 with value: 0.5161395894844888.\n",
      "\n",
      "regularization_factors, val_score: 0.515736:  85%|########5 | 17/20 [02:14<00:23,  7.90s/it]\u001b[A"
     ]
    },
    {
     "name": "stdout",
     "output_type": "stream",
     "text": [
      "Early stopping, best iteration is:\n",
      "[380]\tvalid_0's rmse: 0.420581\tvalid_1's rmse: 0.517388\n",
      "Training until validation scores don't improve for 100 rounds\n",
      "[100]\tvalid_0's rmse: 0.61941\tvalid_1's rmse: 0.593383\n",
      "[200]\tvalid_0's rmse: 0.493049\tvalid_1's rmse: 0.525722\n",
      "[300]\tvalid_0's rmse: 0.445855\tvalid_1's rmse: 0.517032\n",
      "[400]\tvalid_0's rmse: 0.416237\tvalid_1's rmse: 0.516599\n"
     ]
    },
    {
     "name": "stderr",
     "output_type": "stream",
     "text": [
      "\n",
      "regularization_factors, val_score: 0.515736:  85%|########5 | 17/20 [02:33<00:23,  7.90s/it]\u001b[A\n",
      "regularization_factors, val_score: 0.515736:  90%|######### | 18/20 [02:33<00:22, 11.36s/it]\u001b[A[I 2024-06-30 05:11:08,329] Trial 57 finished with value: 0.5164848753017567 and parameters: {'lambda_l1': 2.1801364370589895e-06, 'lambda_l2': 0.5163667324558548}. Best is trial 54 with value: 0.5161395894844888.\n",
      "\n",
      "regularization_factors, val_score: 0.515736:  90%|######### | 18/20 [02:33<00:22, 11.36s/it]\u001b[A"
     ]
    },
    {
     "name": "stdout",
     "output_type": "stream",
     "text": [
      "Early stopping, best iteration is:\n",
      "[365]\tvalid_0's rmse: 0.425737\tvalid_1's rmse: 0.516485\n",
      "Training until validation scores don't improve for 100 rounds\n",
      "[100]\tvalid_0's rmse: 0.617794\tvalid_1's rmse: 0.593012\n",
      "[200]\tvalid_0's rmse: 0.491748\tvalid_1's rmse: 0.52593\n",
      "[300]\tvalid_0's rmse: 0.444451\tvalid_1's rmse: 0.517127\n",
      "[400]\tvalid_0's rmse: 0.41463\tvalid_1's rmse: 0.517156\n"
     ]
    },
    {
     "name": "stderr",
     "output_type": "stream",
     "text": [
      "\n",
      "regularization_factors, val_score: 0.515736:  90%|######### | 18/20 [02:55<00:22, 11.36s/it]\u001b[A\n",
      "regularization_factors, val_score: 0.515736:  95%|#########5| 19/20 [02:55<00:14, 14.38s/it]\u001b[A[I 2024-06-30 05:11:29,751] Trial 58 finished with value: 0.5168518236669725 and parameters: {'lambda_l1': 1.0959376823849094e-08, 'lambda_l2': 5.702015200267317e-07}. Best is trial 54 with value: 0.5161395894844888.\n",
      "\n",
      "regularization_factors, val_score: 0.515736:  95%|#########5| 19/20 [02:55<00:14, 14.38s/it]\u001b[A"
     ]
    },
    {
     "name": "stdout",
     "output_type": "stream",
     "text": [
      "Early stopping, best iteration is:\n",
      "[380]\tvalid_0's rmse: 0.420189\tvalid_1's rmse: 0.516852\n",
      "Training until validation scores don't improve for 100 rounds\n",
      "[100]\tvalid_0's rmse: 0.622332\tvalid_1's rmse: 0.59562\n",
      "[200]\tvalid_0's rmse: 0.497095\tvalid_1's rmse: 0.527897\n",
      "[300]\tvalid_0's rmse: 0.450988\tvalid_1's rmse: 0.518838\n",
      "[400]\tvalid_0's rmse: 0.422264\tvalid_1's rmse: 0.517553\n"
     ]
    },
    {
     "name": "stderr",
     "output_type": "stream",
     "text": [
      "\n",
      "regularization_factors, val_score: 0.515736:  95%|#########5| 19/20 [03:02<00:14, 14.38s/it]\u001b[A\n",
      "regularization_factors, val_score: 0.515736: 100%|##########| 20/20 [03:02<00:00, 12.17s/it]\u001b[A[I 2024-06-30 05:11:36,784] Trial 59 finished with value: 0.517501431734005 and parameters: {'lambda_l1': 1.1130429974638552, 'lambda_l2': 0.07837936820799847}. Best is trial 54 with value: 0.5161395894844888.\n",
      "regularization_factors, val_score: 0.515736: 100%|##########| 20/20 [03:02<00:00,  9.11s/it]\n"
     ]
    },
    {
     "name": "stdout",
     "output_type": "stream",
     "text": [
      "Early stopping, best iteration is:\n",
      "[390]\tvalid_0's rmse: 0.424979\tvalid_1's rmse: 0.517501\n"
     ]
    },
    {
     "name": "stderr",
     "output_type": "stream",
     "text": [
      "\n",
      "  0%|          | 0/5 [00:00<?, ?it/s]\u001b[A\n",
      "min_child_samples, val_score: 0.515736:   0%|          | 0/5 [00:00<?, ?it/s]\u001b[A"
     ]
    },
    {
     "name": "stdout",
     "output_type": "stream",
     "text": [
      "Training until validation scores don't improve for 100 rounds\n",
      "[100]\tvalid_0's rmse: 0.619745\tvalid_1's rmse: 0.594677\n",
      "[200]\tvalid_0's rmse: 0.492938\tvalid_1's rmse: 0.526572\n",
      "[300]\tvalid_0's rmse: 0.445656\tvalid_1's rmse: 0.517452\n",
      "[400]\tvalid_0's rmse: 0.416257\tvalid_1's rmse: 0.517145\n"
     ]
    },
    {
     "name": "stderr",
     "output_type": "stream",
     "text": [
      "\n",
      "min_child_samples, val_score: 0.515736:   0%|          | 0/5 [00:14<?, ?it/s]\u001b[A\n",
      "min_child_samples, val_score: 0.515736:  20%|##        | 1/5 [00:14<00:59, 14.75s/it]\u001b[A[I 2024-06-30 05:11:51,551] Trial 60 finished with value: 0.5168474643919221 and parameters: {'min_child_samples': 5}. Best is trial 60 with value: 0.5168474643919221.\n",
      "\n",
      "min_child_samples, val_score: 0.515736:  20%|##        | 1/5 [00:14<00:59, 14.75s/it]\u001b[A"
     ]
    },
    {
     "name": "stdout",
     "output_type": "stream",
     "text": [
      "Early stopping, best iteration is:\n",
      "[380]\tvalid_0's rmse: 0.421778\tvalid_1's rmse: 0.516847\n",
      "Training until validation scores don't improve for 100 rounds\n",
      "[100]\tvalid_0's rmse: 0.625019\tvalid_1's rmse: 0.594293\n",
      "[200]\tvalid_0's rmse: 0.503882\tvalid_1's rmse: 0.525874\n",
      "[300]\tvalid_0's rmse: 0.460703\tvalid_1's rmse: 0.517149\n",
      "[400]\tvalid_0's rmse: 0.433484\tvalid_1's rmse: 0.516754\n"
     ]
    },
    {
     "name": "stderr",
     "output_type": "stream",
     "text": [
      "\n",
      "min_child_samples, val_score: 0.515736:  20%|##        | 1/5 [00:20<00:59, 14.75s/it]\u001b[A\n",
      "min_child_samples, val_score: 0.515736:  40%|####      | 2/5 [00:20<00:27,  9.25s/it]\u001b[A[I 2024-06-30 05:11:56,952] Trial 61 finished with value: 0.51638083961777 and parameters: {'min_child_samples': 50}. Best is trial 61 with value: 0.51638083961777.\n",
      "\n",
      "min_child_samples, val_score: 0.515736:  40%|####      | 2/5 [00:20<00:27,  9.25s/it]\u001b[A"
     ]
    },
    {
     "name": "stdout",
     "output_type": "stream",
     "text": [
      "Early stopping, best iteration is:\n",
      "[360]\tvalid_0's rmse: 0.443565\tvalid_1's rmse: 0.516381\n",
      "Training until validation scores don't improve for 100 rounds\n",
      "[100]\tvalid_0's rmse: 0.635404\tvalid_1's rmse: 0.59339\n",
      "[200]\tvalid_0's rmse: 0.523142\tvalid_1's rmse: 0.525653\n",
      "[300]\tvalid_0's rmse: 0.486795\tvalid_1's rmse: 0.517077\n",
      "[400]\tvalid_0's rmse: 0.465401\tvalid_1's rmse: 0.516373\n"
     ]
    },
    {
     "name": "stderr",
     "output_type": "stream",
     "text": [
      "\n",
      "min_child_samples, val_score: 0.515736:  40%|####      | 2/5 [00:23<00:27,  9.25s/it]\u001b[A\n",
      "min_child_samples, val_score: 0.515736:  60%|######    | 3/5 [00:23<00:13,  6.67s/it]\u001b[A[I 2024-06-30 05:12:00,536] Trial 62 finished with value: 0.5161411381756879 and parameters: {'min_child_samples': 100}. Best is trial 62 with value: 0.5161411381756879.\n",
      "\n",
      "min_child_samples, val_score: 0.515736:  60%|######    | 3/5 [00:23<00:13,  6.67s/it]\u001b[A"
     ]
    },
    {
     "name": "stdout",
     "output_type": "stream",
     "text": [
      "Early stopping, best iteration is:\n",
      "[390]\tvalid_0's rmse: 0.467396\tvalid_1's rmse: 0.516141\n",
      "Training until validation scores don't improve for 100 rounds\n",
      "[100]\tvalid_0's rmse: 0.622021\tvalid_1's rmse: 0.594268\n",
      "[200]\tvalid_0's rmse: 0.497685\tvalid_1's rmse: 0.525583\n",
      "[300]\tvalid_0's rmse: 0.451848\tvalid_1's rmse: 0.51729\n",
      "[400]\tvalid_0's rmse: 0.423058\tvalid_1's rmse: 0.51626\n"
     ]
    },
    {
     "name": "stderr",
     "output_type": "stream",
     "text": [
      "\n",
      "min_child_samples, val_score: 0.515736:  60%|######    | 3/5 [00:30<00:13,  6.67s/it]\u001b[A\n",
      "min_child_samples, val_score: 0.515736:  80%|########  | 4/5 [00:30<00:06,  6.54s/it]\u001b[A[I 2024-06-30 05:12:06,896] Trial 63 finished with value: 0.5161749546600829 and parameters: {'min_child_samples': 25}. Best is trial 62 with value: 0.5161411381756879.\n",
      "\n",
      "min_child_samples, val_score: 0.515736:  80%|########  | 4/5 [00:30<00:06,  6.54s/it]\u001b[A"
     ]
    },
    {
     "name": "stdout",
     "output_type": "stream",
     "text": [
      "Early stopping, best iteration is:\n",
      "[380]\tvalid_0's rmse: 0.428575\tvalid_1's rmse: 0.516175\n",
      "Training until validation scores don't improve for 100 rounds\n",
      "[100]\tvalid_0's rmse: 0.620281\tvalid_1's rmse: 0.594401\n",
      "[200]\tvalid_0's rmse: 0.494222\tvalid_1's rmse: 0.526231\n",
      "[300]\tvalid_0's rmse: 0.447338\tvalid_1's rmse: 0.516563\n",
      "[400]\tvalid_0's rmse: 0.417957\tvalid_1's rmse: 0.515893\n"
     ]
    },
    {
     "name": "stderr",
     "output_type": "stream",
     "text": [
      "\n",
      "min_child_samples, val_score: 0.515736:  80%|########  | 4/5 [00:36<00:06,  6.54s/it]\u001b[A\n",
      "min_child_samples, val_score: 0.515736: 100%|##########| 5/5 [00:36<00:00,  6.58s/it]\u001b[A[I 2024-06-30 05:12:13,544] Trial 64 finished with value: 0.5157355210124217 and parameters: {'min_child_samples': 10}. Best is trial 64 with value: 0.5157355210124217.\n",
      "min_child_samples, val_score: 0.515736: 100%|##########| 5/5 [00:36<00:00,  7.35s/it]"
     ]
    },
    {
     "name": "stdout",
     "output_type": "stream",
     "text": [
      "Early stopping, best iteration is:\n",
      "[363]\tvalid_0's rmse: 0.428083\tvalid_1's rmse: 0.515736\n",
      "Best params: {'objective': 'regression', 'metric': 'rmse', 'max_depth': -1, 'num_leaves': 72, 'learning_rate': 0.01, 'bagging_freq': 5, 'feature_fraction': 1.0, 'bagging_fraction': 0.6, 'verbose': -1, 'seed': 42, 'lambda_l1': 0.4, 'lambda_l2': 0.4, 'feature_pre_filter': False, 'min_child_samples': 10, 'num_iterations': 10000}\n"
     ]
    },
    {
     "name": "stderr",
     "output_type": "stream",
     "text": [
      "\n",
      "[I 2024-06-30 05:12:13,987] A new study created in memory with name: no-name-40c9b680-0105-4703-a04d-8830444010dd\n"
     ]
    },
    {
     "name": "stdout",
     "output_type": "stream",
     "text": [
      "Start fold 2\n"
     ]
    },
    {
     "name": "stderr",
     "output_type": "stream",
     "text": [
      "\n",
      "  0%|          | 0/7 [00:00<?, ?it/s]\u001b[A\n",
      "feature_fraction, val_score: inf:   0%|          | 0/7 [00:00<?, ?it/s]\u001b[A"
     ]
    },
    {
     "name": "stdout",
     "output_type": "stream",
     "text": [
      "Training until validation scores don't improve for 100 rounds\n",
      "[100]\tvalid_0's rmse: 0.628836\tvalid_1's rmse: 0.670865\n",
      "[200]\tvalid_0's rmse: 0.534432\tvalid_1's rmse: 0.567211\n",
      "[300]\tvalid_0's rmse: 0.5056\tvalid_1's rmse: 0.547506\n",
      "[400]\tvalid_0's rmse: 0.490077\tvalid_1's rmse: 0.541785\n",
      "[500]\tvalid_0's rmse: 0.478028\tvalid_1's rmse: 0.53992\n",
      "[600]\tvalid_0's rmse: 0.468038\tvalid_1's rmse: 0.53986\n",
      "[700]\tvalid_0's rmse: 0.458887\tvalid_1's rmse: 0.539078\n"
     ]
    },
    {
     "name": "stderr",
     "output_type": "stream",
     "text": [
      "\n",
      "feature_fraction, val_score: 0.538902:   0%|          | 0/7 [00:04<?, ?it/s]\u001b[A\n",
      "feature_fraction, val_score: 0.538902:  14%|#4        | 1/7 [00:04<00:29,  4.84s/it]\u001b[A[I 2024-06-30 05:12:18,831] Trial 0 finished with value: 0.5389016679970209 and parameters: {'feature_fraction': 1.0}. Best is trial 0 with value: 0.5389016679970209.\n",
      "\n",
      "feature_fraction, val_score: 0.538902:  14%|#4        | 1/7 [00:04<00:29,  4.84s/it]\u001b[A"
     ]
    },
    {
     "name": "stdout",
     "output_type": "stream",
     "text": [
      "[800]\tvalid_0's rmse: 0.450303\tvalid_1's rmse: 0.539061\n",
      "Early stopping, best iteration is:\n",
      "[715]\tvalid_0's rmse: 0.457596\tvalid_1's rmse: 0.538902\n",
      "Training until validation scores don't improve for 100 rounds\n",
      "[100]\tvalid_0's rmse: 0.629464\tvalid_1's rmse: 0.672015\n",
      "[200]\tvalid_0's rmse: 0.535113\tvalid_1's rmse: 0.569749\n",
      "[300]\tvalid_0's rmse: 0.50646\tvalid_1's rmse: 0.549457\n",
      "[400]\tvalid_0's rmse: 0.490917\tvalid_1's rmse: 0.543367\n",
      "[500]\tvalid_0's rmse: 0.478729\tvalid_1's rmse: 0.54126\n",
      "[600]\tvalid_0's rmse: 0.4687\tvalid_1's rmse: 0.54032\n",
      "[700]\tvalid_0's rmse: 0.459759\tvalid_1's rmse: 0.539676\n",
      "[800]\tvalid_0's rmse: 0.450919\tvalid_1's rmse: 0.539311\n",
      "[900]\tvalid_0's rmse: 0.442974\tvalid_1's rmse: 0.539175\n",
      "[1000]\tvalid_0's rmse: 0.435039\tvalid_1's rmse: 0.539349\n",
      "[1100]\tvalid_0's rmse: 0.427503\tvalid_1's rmse: 0.53893\n"
     ]
    },
    {
     "name": "stderr",
     "output_type": "stream",
     "text": [
      "\n",
      "feature_fraction, val_score: 0.538723:  14%|#4        | 1/7 [00:18<00:29,  4.84s/it]\u001b[A\n",
      "feature_fraction, val_score: 0.538723:  29%|##8       | 2/7 [00:18<00:51, 10.28s/it]\u001b[A[I 2024-06-30 05:12:32,925] Trial 1 finished with value: 0.5387226604043799 and parameters: {'feature_fraction': 0.8}. Best is trial 1 with value: 0.5387226604043799.\n",
      "\n",
      "feature_fraction, val_score: 0.538723:  29%|##8       | 2/7 [00:18<00:51, 10.28s/it]\u001b[A"
     ]
    },
    {
     "name": "stdout",
     "output_type": "stream",
     "text": [
      "Early stopping, best iteration is:\n",
      "[1080]\tvalid_0's rmse: 0.429057\tvalid_1's rmse: 0.538723\n",
      "Training until validation scores don't improve for 100 rounds\n",
      "[100]\tvalid_0's rmse: 0.63377\tvalid_1's rmse: 0.677802\n",
      "[200]\tvalid_0's rmse: 0.539279\tvalid_1's rmse: 0.574855\n",
      "[300]\tvalid_0's rmse: 0.51024\tvalid_1's rmse: 0.552842\n",
      "[400]\tvalid_0's rmse: 0.494491\tvalid_1's rmse: 0.546333\n",
      "[500]\tvalid_0's rmse: 0.482636\tvalid_1's rmse: 0.544189\n",
      "[600]\tvalid_0's rmse: 0.472791\tvalid_1's rmse: 0.543497\n",
      "[700]\tvalid_0's rmse: 0.463873\tvalid_1's rmse: 0.542948\n",
      "[800]\tvalid_0's rmse: 0.455387\tvalid_1's rmse: 0.5426\n",
      "[900]\tvalid_0's rmse: 0.447408\tvalid_1's rmse: 0.542418\n"
     ]
    },
    {
     "name": "stderr",
     "output_type": "stream",
     "text": [
      "\n",
      "feature_fraction, val_score: 0.538723:  29%|##8       | 2/7 [00:28<00:51, 10.28s/it]\u001b[A\n",
      "feature_fraction, val_score: 0.538723:  43%|####2     | 3/7 [00:28<00:40, 10.00s/it]\u001b[A[I 2024-06-30 05:12:42,603] Trial 2 finished with value: 0.5422269342062491 and parameters: {'feature_fraction': 0.5}. Best is trial 1 with value: 0.5387226604043799.\n",
      "\n",
      "feature_fraction, val_score: 0.538723:  43%|####2     | 3/7 [00:28<00:40, 10.00s/it]\u001b[A"
     ]
    },
    {
     "name": "stdout",
     "output_type": "stream",
     "text": [
      "Early stopping, best iteration is:\n",
      "[889]\tvalid_0's rmse: 0.448244\tvalid_1's rmse: 0.542227\n",
      "Training until validation scores don't improve for 100 rounds\n",
      "[100]\tvalid_0's rmse: 0.629226\tvalid_1's rmse: 0.672587\n",
      "[200]\tvalid_0's rmse: 0.534582\tvalid_1's rmse: 0.568317\n",
      "[300]\tvalid_0's rmse: 0.505808\tvalid_1's rmse: 0.547811\n",
      "[400]\tvalid_0's rmse: 0.490355\tvalid_1's rmse: 0.541919\n",
      "[500]\tvalid_0's rmse: 0.478282\tvalid_1's rmse: 0.540011\n",
      "[600]\tvalid_0's rmse: 0.468209\tvalid_1's rmse: 0.539222\n",
      "[700]\tvalid_0's rmse: 0.459175\tvalid_1's rmse: 0.538127\n",
      "[800]\tvalid_0's rmse: 0.450495\tvalid_1's rmse: 0.537951\n",
      "[900]\tvalid_0's rmse: 0.442249\tvalid_1's rmse: 0.537852\n",
      "[1000]\tvalid_0's rmse: 0.434414\tvalid_1's rmse: 0.538146\n",
      "Early stopping, best iteration is:\n",
      "[945]\tvalid_0's rmse: 0.438694\tvalid_1's rmse: 0.537653\n"
     ]
    },
    {
     "name": "stderr",
     "output_type": "stream",
     "text": [
      "\n",
      "feature_fraction, val_score: 0.537653:  43%|####2     | 3/7 [00:34<00:40, 10.00s/it]\u001b[A\n",
      "feature_fraction, val_score: 0.537653:  57%|#####7    | 4/7 [00:34<00:24,  8.29s/it]\u001b[A[I 2024-06-30 05:12:48,260] Trial 3 finished with value: 0.5376534213300298 and parameters: {'feature_fraction': 0.8999999999999999}. Best is trial 3 with value: 0.5376534213300298.\n",
      "\n",
      "feature_fraction, val_score: 0.537653:  57%|#####7    | 4/7 [00:34<00:24,  8.29s/it]\u001b[A"
     ]
    },
    {
     "name": "stdout",
     "output_type": "stream",
     "text": [
      "Training until validation scores don't improve for 100 rounds\n",
      "[100]\tvalid_0's rmse: 0.630706\tvalid_1's rmse: 0.675034\n",
      "[200]\tvalid_0's rmse: 0.535953\tvalid_1's rmse: 0.571713\n",
      "[300]\tvalid_0's rmse: 0.507351\tvalid_1's rmse: 0.55059\n",
      "[400]\tvalid_0's rmse: 0.491738\tvalid_1's rmse: 0.544592\n",
      "[500]\tvalid_0's rmse: 0.47961\tvalid_1's rmse: 0.542334\n",
      "[600]\tvalid_0's rmse: 0.469512\tvalid_1's rmse: 0.54156\n",
      "[700]\tvalid_0's rmse: 0.460613\tvalid_1's rmse: 0.540776\n",
      "[800]\tvalid_0's rmse: 0.451905\tvalid_1's rmse: 0.540751\n",
      "Early stopping, best iteration is:\n",
      "[739]\tvalid_0's rmse: 0.457127\tvalid_1's rmse: 0.540605\n"
     ]
    },
    {
     "name": "stderr",
     "output_type": "stream",
     "text": [
      "\n",
      "feature_fraction, val_score: 0.537653:  57%|#####7    | 4/7 [00:38<00:24,  8.29s/it]\u001b[A\n",
      "feature_fraction, val_score: 0.537653:  71%|#######1  | 5/7 [00:38<00:13,  6.88s/it]\u001b[A[I 2024-06-30 05:12:52,644] Trial 4 finished with value: 0.5406052961825929 and parameters: {'feature_fraction': 0.7}. Best is trial 3 with value: 0.5376534213300298.\n",
      "\n",
      "feature_fraction, val_score: 0.537653:  71%|#######1  | 5/7 [00:38<00:13,  6.88s/it]\u001b[A"
     ]
    },
    {
     "name": "stdout",
     "output_type": "stream",
     "text": [
      "Training until validation scores don't improve for 100 rounds\n",
      "[100]\tvalid_0's rmse: 0.636081\tvalid_1's rmse: 0.68135\n",
      "[200]\tvalid_0's rmse: 0.541317\tvalid_1's rmse: 0.578069\n",
      "[300]\tvalid_0's rmse: 0.512307\tvalid_1's rmse: 0.555749\n",
      "[400]\tvalid_0's rmse: 0.496426\tvalid_1's rmse: 0.549339\n",
      "[500]\tvalid_0's rmse: 0.484595\tvalid_1's rmse: 0.546688\n",
      "[600]\tvalid_0's rmse: 0.474713\tvalid_1's rmse: 0.545945\n",
      "[700]\tvalid_0's rmse: 0.465863\tvalid_1's rmse: 0.545069\n"
     ]
    },
    {
     "name": "stderr",
     "output_type": "stream",
     "text": [
      "\n",
      "feature_fraction, val_score: 0.537653:  71%|#######1  | 5/7 [00:44<00:13,  6.88s/it]\u001b[A\n",
      "feature_fraction, val_score: 0.537653:  86%|########5 | 6/7 [00:44<00:06,  6.49s/it]\u001b[A[I 2024-06-30 05:12:58,387] Trial 5 finished with value: 0.5449021669782413 and parameters: {'feature_fraction': 0.4}. Best is trial 3 with value: 0.5376534213300298.\n",
      "\n",
      "feature_fraction, val_score: 0.537653:  86%|########5 | 6/7 [00:44<00:06,  6.49s/it]\u001b[A"
     ]
    },
    {
     "name": "stdout",
     "output_type": "stream",
     "text": [
      "[800]\tvalid_0's rmse: 0.45758\tvalid_1's rmse: 0.545063\n",
      "Early stopping, best iteration is:\n",
      "[724]\tvalid_0's rmse: 0.463844\tvalid_1's rmse: 0.544902\n",
      "Training until validation scores don't improve for 100 rounds\n",
      "[100]\tvalid_0's rmse: 0.631696\tvalid_1's rmse: 0.675323\n",
      "[200]\tvalid_0's rmse: 0.537275\tvalid_1's rmse: 0.572654\n",
      "[300]\tvalid_0's rmse: 0.508416\tvalid_1's rmse: 0.551398\n",
      "[400]\tvalid_0's rmse: 0.492808\tvalid_1's rmse: 0.545116\n",
      "[500]\tvalid_0's rmse: 0.480896\tvalid_1's rmse: 0.542892\n",
      "[600]\tvalid_0's rmse: 0.470823\tvalid_1's rmse: 0.542401\n",
      "[700]\tvalid_0's rmse: 0.461879\tvalid_1's rmse: 0.541497\n",
      "[800]\tvalid_0's rmse: 0.45323\tvalid_1's rmse: 0.541148\n",
      "[900]\tvalid_0's rmse: 0.445187\tvalid_1's rmse: 0.540971\n"
     ]
    },
    {
     "name": "stderr",
     "output_type": "stream",
     "text": [
      "\n",
      "feature_fraction, val_score: 0.537653:  86%|########5 | 6/7 [00:51<00:06,  6.49s/it]\u001b[A\n",
      "feature_fraction, val_score: 0.537653: 100%|##########| 7/7 [00:51<00:00,  6.70s/it]\u001b[A[I 2024-06-30 05:13:05,518] Trial 6 finished with value: 0.5408213900967802 and parameters: {'feature_fraction': 0.6}. Best is trial 3 with value: 0.5376534213300298.\n",
      "feature_fraction, val_score: 0.537653: 100%|##########| 7/7 [00:51<00:00,  7.36s/it]\n"
     ]
    },
    {
     "name": "stdout",
     "output_type": "stream",
     "text": [
      "Early stopping, best iteration is:\n",
      "[889]\tvalid_0's rmse: 0.446029\tvalid_1's rmse: 0.540821\n"
     ]
    },
    {
     "name": "stderr",
     "output_type": "stream",
     "text": [
      "\n",
      "  0%|          | 0/20 [00:00<?, ?it/s]\u001b[A\n",
      "num_leaves, val_score: 0.537653:   0%|          | 0/20 [00:00<?, ?it/s]\u001b[A"
     ]
    },
    {
     "name": "stdout",
     "output_type": "stream",
     "text": [
      "Training until validation scores don't improve for 100 rounds\n",
      "[100]\tvalid_0's rmse: 0.569594\tvalid_1's rmse: 0.667758\n",
      "[200]\tvalid_0's rmse: 0.422443\tvalid_1's rmse: 0.564435\n",
      "[300]\tvalid_0's rmse: 0.354825\tvalid_1's rmse: 0.544442\n",
      "[400]\tvalid_0's rmse: 0.308471\tvalid_1's rmse: 0.539837\n",
      "[500]\tvalid_0's rmse: 0.271164\tvalid_1's rmse: 0.538135\n",
      "[600]\tvalid_0's rmse: 0.239446\tvalid_1's rmse: 0.53841\n",
      "Early stopping, best iteration is:\n",
      "[508]\tvalid_0's rmse: 0.268474\tvalid_1's rmse: 0.538028\n"
     ]
    },
    {
     "name": "stderr",
     "output_type": "stream",
     "text": [
      "\n",
      "num_leaves, val_score: 0.537653:   0%|          | 0/20 [00:19<?, ?it/s]\u001b[A\n",
      "num_leaves, val_score: 0.537653:   5%|5         | 1/20 [00:19<06:07, 19.36s/it]\u001b[A[I 2024-06-30 05:13:24,892] Trial 7 finished with value: 0.5380283328806273 and parameters: {'num_leaves': 192}. Best is trial 7 with value: 0.5380283328806273.\n",
      "\n",
      "num_leaves, val_score: 0.537653:   5%|5         | 1/20 [00:19<06:07, 19.36s/it]\u001b[A"
     ]
    },
    {
     "name": "stdout",
     "output_type": "stream",
     "text": [
      "Training until validation scores don't improve for 100 rounds\n",
      "[100]\tvalid_0's rmse: 0.587578\tvalid_1's rmse: 0.667435\n",
      "[200]\tvalid_0's rmse: 0.458674\tvalid_1's rmse: 0.563703\n",
      "[300]\tvalid_0's rmse: 0.404229\tvalid_1's rmse: 0.543649\n",
      "[400]\tvalid_0's rmse: 0.36715\tvalid_1's rmse: 0.539294\n",
      "[500]\tvalid_0's rmse: 0.336537\tvalid_1's rmse: 0.537923\n",
      "[600]\tvalid_0's rmse: 0.309801\tvalid_1's rmse: 0.538093\n"
     ]
    },
    {
     "name": "stderr",
     "output_type": "stream",
     "text": [
      "\n",
      "num_leaves, val_score: 0.537653:   5%|5         | 1/20 [00:35<06:07, 19.36s/it]\u001b[A\n",
      "num_leaves, val_score: 0.537653:  10%|#         | 2/20 [00:35<05:18, 17.71s/it]\u001b[A[I 2024-06-30 05:13:41,448] Trial 8 finished with value: 0.5377018232308696 and parameters: {'num_leaves': 118}. Best is trial 8 with value: 0.5377018232308696.\n",
      "\n",
      "num_leaves, val_score: 0.537653:  10%|#         | 2/20 [00:35<05:18, 17.71s/it]\u001b[A"
     ]
    },
    {
     "name": "stdout",
     "output_type": "stream",
     "text": [
      "Early stopping, best iteration is:\n",
      "[524]\tvalid_0's rmse: 0.329825\tvalid_1's rmse: 0.537702\n",
      "Training until validation scores don't improve for 100 rounds\n",
      "[100]\tvalid_0's rmse: 0.561808\tvalid_1's rmse: 0.667942\n",
      "[200]\tvalid_0's rmse: 0.40661\tvalid_1's rmse: 0.564445\n",
      "[300]\tvalid_0's rmse: 0.333909\tvalid_1's rmse: 0.544415\n",
      "[400]\tvalid_0's rmse: 0.284157\tvalid_1's rmse: 0.53959\n",
      "[500]\tvalid_0's rmse: 0.24497\tvalid_1's rmse: 0.538212\n",
      "[600]\tvalid_0's rmse: 0.212383\tvalid_1's rmse: 0.538045\n"
     ]
    },
    {
     "name": "stderr",
     "output_type": "stream",
     "text": [
      "\n",
      "num_leaves, val_score: 0.537653:  10%|#         | 2/20 [01:02<05:18, 17.71s/it]\u001b[A\n",
      "num_leaves, val_score: 0.537653:  15%|#5        | 3/20 [01:02<06:06, 21.58s/it]\u001b[A"
     ]
    },
    {
     "name": "stdout",
     "output_type": "stream",
     "text": [
      "Early stopping, best iteration is:\n",
      "[569]\tvalid_0's rmse: 0.221859\tvalid_1's rmse: 0.537924\n"
     ]
    },
    {
     "name": "stderr",
     "output_type": "stream",
     "text": [
      "[I 2024-06-30 05:14:07,641] Trial 9 finished with value: 0.5379241064918191 and parameters: {'num_leaves': 234}. Best is trial 8 with value: 0.5377018232308696.\n",
      "\n",
      "num_leaves, val_score: 0.537653:  15%|#5        | 3/20 [01:02<06:06, 21.58s/it]\u001b[A"
     ]
    },
    {
     "name": "stdout",
     "output_type": "stream",
     "text": [
      "Training until validation scores don't improve for 100 rounds\n",
      "[100]\tvalid_0's rmse: 0.65326\tvalid_1's rmse: 0.687816\n",
      "[200]\tvalid_0's rmse: 0.565404\tvalid_1's rmse: 0.582772\n",
      "[300]\tvalid_0's rmse: 0.541088\tvalid_1's rmse: 0.560393\n",
      "[400]\tvalid_0's rmse: 0.529875\tvalid_1's rmse: 0.552318\n",
      "[500]\tvalid_0's rmse: 0.522451\tvalid_1's rmse: 0.54909\n",
      "[600]\tvalid_0's rmse: 0.516709\tvalid_1's rmse: 0.547431\n",
      "[700]\tvalid_0's rmse: 0.512155\tvalid_1's rmse: 0.54602\n",
      "[800]\tvalid_0's rmse: 0.507913\tvalid_1's rmse: 0.545733\n",
      "[900]\tvalid_0's rmse: 0.504164\tvalid_1's rmse: 0.545434\n",
      "[1000]\tvalid_0's rmse: 0.500792\tvalid_1's rmse: 0.544656\n",
      "[1100]\tvalid_0's rmse: 0.497528\tvalid_1's rmse: 0.544045\n"
     ]
    },
    {
     "name": "stderr",
     "output_type": "stream",
     "text": [
      "\n",
      "num_leaves, val_score: 0.537653:  15%|#5        | 3/20 [01:15<06:06, 21.58s/it]\u001b[A\n",
      "num_leaves, val_score: 0.537653:  20%|##        | 4/20 [01:15<04:51, 18.20s/it]\u001b[A[I 2024-06-30 05:14:20,647] Trial 10 finished with value: 0.543706829987175 and parameters: {'num_leaves': 8}. Best is trial 8 with value: 0.5377018232308696.\n",
      "\n",
      "num_leaves, val_score: 0.537653:  20%|##        | 4/20 [01:15<04:51, 18.20s/it]\u001b[A"
     ]
    },
    {
     "name": "stdout",
     "output_type": "stream",
     "text": [
      "[1200]\tvalid_0's rmse: 0.49439\tvalid_1's rmse: 0.544289\n",
      "Early stopping, best iteration is:\n",
      "[1126]\tvalid_0's rmse: 0.496764\tvalid_1's rmse: 0.543707\n",
      "Training until validation scores don't improve for 100 rounds\n",
      "[100]\tvalid_0's rmse: 0.597576\tvalid_1's rmse: 0.667994\n",
      "[200]\tvalid_0's rmse: 0.478125\tvalid_1's rmse: 0.563681\n",
      "[300]\tvalid_0's rmse: 0.431117\tvalid_1's rmse: 0.54394\n",
      "[400]\tvalid_0's rmse: 0.399372\tvalid_1's rmse: 0.539064\n",
      "[500]\tvalid_0's rmse: 0.373121\tvalid_1's rmse: 0.537767\n"
     ]
    },
    {
     "name": "stderr",
     "output_type": "stream",
     "text": [
      "\n",
      "num_leaves, val_score: 0.537653:  20%|##        | 4/20 [01:34<04:51, 18.20s/it]\u001b[A\n",
      "num_leaves, val_score: 0.537653:  25%|##5       | 5/20 [01:34<04:40, 18.69s/it]\u001b[A[I 2024-06-30 05:14:40,203] Trial 11 finished with value: 0.5376772464167935 and parameters: {'num_leaves': 87}. Best is trial 11 with value: 0.5376772464167935.\n",
      "\n",
      "num_leaves, val_score: 0.537653:  25%|##5       | 5/20 [01:34<04:40, 18.69s/it]\u001b[A"
     ]
    },
    {
     "name": "stdout",
     "output_type": "stream",
     "text": [
      "[600]\tvalid_0's rmse: 0.35015\tvalid_1's rmse: 0.537876\n",
      "Early stopping, best iteration is:\n",
      "[510]\tvalid_0's rmse: 0.370689\tvalid_1's rmse: 0.537677\n",
      "Training until validation scores don't improve for 100 rounds\n",
      "[100]\tvalid_0's rmse: 0.602646\tvalid_1's rmse: 0.667693\n",
      "[200]\tvalid_0's rmse: 0.48829\tvalid_1's rmse: 0.563565\n",
      "[300]\tvalid_0's rmse: 0.444605\tvalid_1's rmse: 0.543823\n",
      "[400]\tvalid_0's rmse: 0.41576\tvalid_1's rmse: 0.538549\n",
      "[500]\tvalid_0's rmse: 0.392061\tvalid_1's rmse: 0.537404\n"
     ]
    },
    {
     "name": "stderr",
     "output_type": "stream",
     "text": [
      "\n",
      "num_leaves, val_score: 0.537154:  25%|##5       | 5/20 [01:41<04:40, 18.69s/it]\u001b[A\n",
      "num_leaves, val_score: 0.537154:  30%|###       | 6/20 [01:41<03:27, 14.79s/it]\u001b[A[I 2024-06-30 05:14:47,415] Trial 12 finished with value: 0.5371543646191933 and parameters: {'num_leaves': 73}. Best is trial 12 with value: 0.5371543646191933.\n",
      "\n",
      "num_leaves, val_score: 0.537154:  30%|###       | 6/20 [01:41<03:27, 14.79s/it]\u001b[A"
     ]
    },
    {
     "name": "stdout",
     "output_type": "stream",
     "text": [
      "Early stopping, best iteration is:\n",
      "[470]\tvalid_0's rmse: 0.398794\tvalid_1's rmse: 0.537154\n",
      "Training until validation scores don't improve for 100 rounds\n",
      "[100]\tvalid_0's rmse: 0.62087\tvalid_1's rmse: 0.670013\n",
      "[200]\tvalid_0's rmse: 0.521573\tvalid_1's rmse: 0.565632\n",
      "[300]\tvalid_0's rmse: 0.489456\tvalid_1's rmse: 0.545424\n",
      "[400]\tvalid_0's rmse: 0.470729\tvalid_1's rmse: 0.53997\n",
      "[500]\tvalid_0's rmse: 0.45534\tvalid_1's rmse: 0.538343\n",
      "[600]\tvalid_0's rmse: 0.442374\tvalid_1's rmse: 0.538247\n",
      "[700]\tvalid_0's rmse: 0.43075\tvalid_1's rmse: 0.537507\n"
     ]
    },
    {
     "name": "stderr",
     "output_type": "stream",
     "text": [
      "\n",
      "num_leaves, val_score: 0.537154:  30%|###       | 6/20 [01:50<03:27, 14.79s/it]\u001b[A\n",
      "num_leaves, val_score: 0.537154:  35%|###5      | 7/20 [01:50<02:44, 12.65s/it]\u001b[A[I 2024-06-30 05:14:55,655] Trial 13 finished with value: 0.5374592950771359 and parameters: {'num_leaves': 35}. Best is trial 12 with value: 0.5371543646191933.\n",
      "\n",
      "num_leaves, val_score: 0.537154:  35%|###5      | 7/20 [01:50<02:44, 12.65s/it]\u001b[A"
     ]
    },
    {
     "name": "stdout",
     "output_type": "stream",
     "text": [
      "[800]\tvalid_0's rmse: 0.419389\tvalid_1's rmse: 0.537799\n",
      "Early stopping, best iteration is:\n",
      "[708]\tvalid_0's rmse: 0.429829\tvalid_1's rmse: 0.537459\n",
      "Training until validation scores don't improve for 100 rounds\n",
      "[100]\tvalid_0's rmse: 0.623562\tvalid_1's rmse: 0.670691\n",
      "[200]\tvalid_0's rmse: 0.52592\tvalid_1's rmse: 0.56692\n",
      "[300]\tvalid_0's rmse: 0.495025\tvalid_1's rmse: 0.546453\n",
      "[400]\tvalid_0's rmse: 0.477227\tvalid_1's rmse: 0.540867\n",
      "[500]\tvalid_0's rmse: 0.462962\tvalid_1's rmse: 0.538724\n",
      "[600]\tvalid_0's rmse: 0.451028\tvalid_1's rmse: 0.538482\n",
      "[700]\tvalid_0's rmse: 0.440341\tvalid_1's rmse: 0.537935\n"
     ]
    },
    {
     "name": "stderr",
     "output_type": "stream",
     "text": [
      "\n",
      "num_leaves, val_score: 0.537154:  35%|###5      | 7/20 [01:55<02:44, 12.65s/it]\u001b[A\n",
      "num_leaves, val_score: 0.537154:  40%|####      | 8/20 [01:55<02:02, 10.17s/it]\u001b[A[I 2024-06-30 05:15:00,536] Trial 14 finished with value: 0.5378874537535638 and parameters: {'num_leaves': 31}. Best is trial 12 with value: 0.5371543646191933.\n",
      "\n",
      "num_leaves, val_score: 0.537154:  40%|####      | 8/20 [01:55<02:02, 10.17s/it]\u001b[A"
     ]
    },
    {
     "name": "stdout",
     "output_type": "stream",
     "text": [
      "Early stopping, best iteration is:\n",
      "[695]\tvalid_0's rmse: 0.440765\tvalid_1's rmse: 0.537887\n",
      "Training until validation scores don't improve for 100 rounds\n",
      "[100]\tvalid_0's rmse: 0.604166\tvalid_1's rmse: 0.668117\n",
      "[200]\tvalid_0's rmse: 0.491038\tvalid_1's rmse: 0.563419\n",
      "[300]\tvalid_0's rmse: 0.448503\tvalid_1's rmse: 0.5437\n",
      "[400]\tvalid_0's rmse: 0.420583\tvalid_1's rmse: 0.53899\n",
      "[500]\tvalid_0's rmse: 0.397653\tvalid_1's rmse: 0.537983\n",
      "[600]\tvalid_0's rmse: 0.377656\tvalid_1's rmse: 0.538174\n",
      "Early stopping, best iteration is:\n",
      "[515]\tvalid_0's rmse: 0.394583\tvalid_1's rmse: 0.537677\n"
     ]
    },
    {
     "name": "stderr",
     "output_type": "stream",
     "text": [
      "\n",
      "num_leaves, val_score: 0.537154:  40%|####      | 8/20 [02:11<02:02, 10.17s/it]\u001b[A\n",
      "num_leaves, val_score: 0.537154:  45%|####5     | 9/20 [02:11<02:15, 12.29s/it]\u001b[A[I 2024-06-30 05:15:17,486] Trial 15 finished with value: 0.5376766025620887 and parameters: {'num_leaves': 69}. Best is trial 12 with value: 0.5371543646191933.\n",
      "\n",
      "num_leaves, val_score: 0.537154:  45%|####5     | 9/20 [02:11<02:15, 12.29s/it]\u001b[A"
     ]
    },
    {
     "name": "stdout",
     "output_type": "stream",
     "text": [
      "Training until validation scores don't improve for 100 rounds\n",
      "[100]\tvalid_0's rmse: 0.605858\tvalid_1's rmse: 0.667871\n",
      "[200]\tvalid_0's rmse: 0.494456\tvalid_1's rmse: 0.563297\n",
      "[300]\tvalid_0's rmse: 0.453135\tvalid_1's rmse: 0.543505\n",
      "[400]\tvalid_0's rmse: 0.426117\tvalid_1's rmse: 0.53856\n",
      "[500]\tvalid_0's rmse: 0.404076\tvalid_1's rmse: 0.536992\n",
      "[600]\tvalid_0's rmse: 0.384825\tvalid_1's rmse: 0.537388\n"
     ]
    },
    {
     "name": "stderr",
     "output_type": "stream",
     "text": [
      "\n",
      "num_leaves, val_score: 0.536725:  45%|####5     | 9/20 [02:19<02:15, 12.29s/it]\u001b[A\n",
      "num_leaves, val_score: 0.536725:  50%|#####     | 10/20 [02:19<01:47, 10.77s/it]\u001b[A[I 2024-06-30 05:15:24,834] Trial 16 finished with value: 0.536725389192692 and parameters: {'num_leaves': 65}. Best is trial 16 with value: 0.536725389192692.\n",
      "\n",
      "num_leaves, val_score: 0.536725:  50%|#####     | 10/20 [02:19<01:47, 10.77s/it]\u001b[A"
     ]
    },
    {
     "name": "stdout",
     "output_type": "stream",
     "text": [
      "Early stopping, best iteration is:\n",
      "[520]\tvalid_0's rmse: 0.400125\tvalid_1's rmse: 0.536725\n",
      "Training until validation scores don't improve for 100 rounds\n",
      "[100]\tvalid_0's rmse: 0.578313\tvalid_1's rmse: 0.667613\n",
      "[200]\tvalid_0's rmse: 0.439982\tvalid_1's rmse: 0.564475\n",
      "[300]\tvalid_0's rmse: 0.378755\tvalid_1's rmse: 0.544279\n",
      "[400]\tvalid_0's rmse: 0.336798\tvalid_1's rmse: 0.539466\n",
      "[500]\tvalid_0's rmse: 0.302443\tvalid_1's rmse: 0.538472\n",
      "[600]\tvalid_0's rmse: 0.272881\tvalid_1's rmse: 0.538522\n"
     ]
    },
    {
     "name": "stderr",
     "output_type": "stream",
     "text": [
      "\n",
      "num_leaves, val_score: 0.536725:  50%|#####     | 10/20 [02:46<01:47, 10.77s/it]\u001b[A\n",
      "num_leaves, val_score: 0.536725:  55%|#####5    | 11/20 [02:46<02:21, 15.71s/it]\u001b[A[I 2024-06-30 05:15:51,742] Trial 17 finished with value: 0.5383449090166301 and parameters: {'num_leaves': 153}. Best is trial 16 with value: 0.536725389192692.\n",
      "\n",
      "num_leaves, val_score: 0.536725:  55%|#####5    | 11/20 [02:46<02:21, 15.71s/it]\u001b[A"
     ]
    },
    {
     "name": "stdout",
     "output_type": "stream",
     "text": [
      "Early stopping, best iteration is:\n",
      "[521]\tvalid_0's rmse: 0.295939\tvalid_1's rmse: 0.538345\n",
      "Training until validation scores don't improve for 100 rounds\n",
      "[100]\tvalid_0's rmse: 0.600656\tvalid_1's rmse: 0.66778\n",
      "[200]\tvalid_0's rmse: 0.484291\tvalid_1's rmse: 0.563161\n",
      "[300]\tvalid_0's rmse: 0.439335\tvalid_1's rmse: 0.542974\n",
      "[400]\tvalid_0's rmse: 0.40956\tvalid_1's rmse: 0.538471\n",
      "[500]\tvalid_0's rmse: 0.38497\tvalid_1's rmse: 0.53668\n",
      "[600]\tvalid_0's rmse: 0.363632\tvalid_1's rmse: 0.537344\n"
     ]
    },
    {
     "name": "stderr",
     "output_type": "stream",
     "text": [
      "\n",
      "num_leaves, val_score: 0.536608:  55%|#####5    | 11/20 [03:04<02:21, 15.71s/it]\u001b[A\n",
      "num_leaves, val_score: 0.536608:  60%|######    | 12/20 [03:04<02:12, 16.61s/it]\u001b[A[I 2024-06-30 05:16:10,406] Trial 18 finished with value: 0.5366082549839172 and parameters: {'num_leaves': 78}. Best is trial 18 with value: 0.5366082549839172.\n",
      "\n",
      "num_leaves, val_score: 0.536608:  60%|######    | 12/20 [03:04<02:12, 16.61s/it]\u001b[A"
     ]
    },
    {
     "name": "stdout",
     "output_type": "stream",
     "text": [
      "Early stopping, best iteration is:\n",
      "[510]\tvalid_0's rmse: 0.382658\tvalid_1's rmse: 0.536608\n",
      "Training until validation scores don't improve for 100 rounds\n",
      "[100]\tvalid_0's rmse: 0.585693\tvalid_1's rmse: 0.667628\n",
      "[200]\tvalid_0's rmse: 0.454721\tvalid_1's rmse: 0.563896\n",
      "[300]\tvalid_0's rmse: 0.398903\tvalid_1's rmse: 0.544175\n",
      "[400]\tvalid_0's rmse: 0.360714\tvalid_1's rmse: 0.53896\n",
      "[500]\tvalid_0's rmse: 0.329099\tvalid_1's rmse: 0.537451\n",
      "[600]\tvalid_0's rmse: 0.301692\tvalid_1's rmse: 0.537191\n",
      "[700]\tvalid_0's rmse: 0.277174\tvalid_1's rmse: 0.536876\n",
      "[800]\tvalid_0's rmse: 0.254926\tvalid_1's rmse: 0.536858\n"
     ]
    },
    {
     "name": "stderr",
     "output_type": "stream",
     "text": [
      "\n",
      "num_leaves, val_score: 0.536608:  60%|######    | 12/20 [03:48<02:12, 16.61s/it]\u001b[A\n",
      "num_leaves, val_score: 0.536608:  65%|######5   | 13/20 [03:48<02:53, 24.84s/it]\u001b[A[I 2024-06-30 05:16:54,209] Trial 19 finished with value: 0.5366308998013694 and parameters: {'num_leaves': 125}. Best is trial 18 with value: 0.5366082549839172.\n",
      "\n",
      "num_leaves, val_score: 0.536608:  65%|######5   | 13/20 [03:48<02:53, 24.84s/it]\u001b[A"
     ]
    },
    {
     "name": "stdout",
     "output_type": "stream",
     "text": [
      "Early stopping, best iteration is:\n",
      "[717]\tvalid_0's rmse: 0.273223\tvalid_1's rmse: 0.536631\n",
      "Training until validation scores don't improve for 100 rounds\n",
      "[100]\tvalid_0's rmse: 0.58326\tvalid_1's rmse: 0.66775\n",
      "[200]\tvalid_0's rmse: 0.449933\tvalid_1's rmse: 0.564583\n",
      "[300]\tvalid_0's rmse: 0.392061\tvalid_1's rmse: 0.544471\n",
      "[400]\tvalid_0's rmse: 0.352525\tvalid_1's rmse: 0.540036\n",
      "[500]\tvalid_0's rmse: 0.320154\tvalid_1's rmse: 0.538826\n"
     ]
    },
    {
     "name": "stderr",
     "output_type": "stream",
     "text": [
      "\n",
      "num_leaves, val_score: 0.536608:  65%|######5   | 13/20 [04:11<02:53, 24.84s/it]\u001b[A\n",
      "num_leaves, val_score: 0.536608:  70%|#######   | 14/20 [04:11<02:24, 24.16s/it]\u001b[A[I 2024-06-30 05:17:16,781] Trial 20 finished with value: 0.538721690881833 and parameters: {'num_leaves': 134}. Best is trial 18 with value: 0.5366082549839172.\n",
      "\n",
      "num_leaves, val_score: 0.536608:  70%|#######   | 14/20 [04:11<02:24, 24.16s/it]\u001b[A"
     ]
    },
    {
     "name": "stdout",
     "output_type": "stream",
     "text": [
      "Early stopping, best iteration is:\n",
      "[470]\tvalid_0's rmse: 0.329445\tvalid_1's rmse: 0.538722\n",
      "Training until validation scores don't improve for 100 rounds\n",
      "[100]\tvalid_0's rmse: 0.594981\tvalid_1's rmse: 0.668046\n",
      "[200]\tvalid_0's rmse: 0.472964\tvalid_1's rmse: 0.564197\n",
      "[300]\tvalid_0's rmse: 0.42333\tvalid_1's rmse: 0.544171\n",
      "[400]\tvalid_0's rmse: 0.390305\tvalid_1's rmse: 0.539169\n",
      "[500]\tvalid_0's rmse: 0.362985\tvalid_1's rmse: 0.538008\n",
      "[600]\tvalid_0's rmse: 0.33885\tvalid_1's rmse: 0.538469\n",
      "Early stopping, best iteration is:\n",
      "[510]\tvalid_0's rmse: 0.360484\tvalid_1's rmse: 0.53787\n"
     ]
    },
    {
     "name": "stderr",
     "output_type": "stream",
     "text": [
      "\n",
      "num_leaves, val_score: 0.536608:  70%|#######   | 14/20 [04:22<02:24, 24.16s/it]\u001b[A\n",
      "num_leaves, val_score: 0.536608:  75%|#######5  | 15/20 [04:22<01:40, 20.15s/it]\u001b[A[I 2024-06-30 05:17:27,625] Trial 21 finished with value: 0.5378698624705865 and parameters: {'num_leaves': 95}. Best is trial 18 with value: 0.5366082549839172.\n",
      "\n",
      "num_leaves, val_score: 0.536608:  75%|#######5  | 15/20 [04:22<01:40, 20.15s/it]\u001b[A"
     ]
    },
    {
     "name": "stdout",
     "output_type": "stream",
     "text": [
      "Training until validation scores don't improve for 100 rounds\n",
      "[100]\tvalid_0's rmse: 0.573769\tvalid_1's rmse: 0.668178\n",
      "[200]\tvalid_0's rmse: 0.431107\tvalid_1's rmse: 0.565387\n",
      "[300]\tvalid_0's rmse: 0.366753\tvalid_1's rmse: 0.545664\n",
      "[400]\tvalid_0's rmse: 0.322213\tvalid_1's rmse: 0.541471\n",
      "[500]\tvalid_0's rmse: 0.286245\tvalid_1's rmse: 0.53999\n",
      "[600]\tvalid_0's rmse: 0.255429\tvalid_1's rmse: 0.540062\n"
     ]
    },
    {
     "name": "stderr",
     "output_type": "stream",
     "text": [
      "\n",
      "num_leaves, val_score: 0.536608:  75%|#######5  | 15/20 [04:42<01:40, 20.15s/it]\u001b[A\n",
      "num_leaves, val_score: 0.536608:  80%|########  | 16/20 [04:42<01:21, 20.35s/it]\u001b[A[I 2024-06-30 05:17:48,445] Trial 22 finished with value: 0.5399100717872397 and parameters: {'num_leaves': 172}. Best is trial 18 with value: 0.5366082549839172.\n",
      "\n",
      "num_leaves, val_score: 0.536608:  80%|########  | 16/20 [04:42<01:21, 20.35s/it]\u001b[A"
     ]
    },
    {
     "name": "stdout",
     "output_type": "stream",
     "text": [
      "Early stopping, best iteration is:\n",
      "[520]\tvalid_0's rmse: 0.279818\tvalid_1's rmse: 0.53991\n",
      "Training until validation scores don't improve for 100 rounds\n",
      "[100]\tvalid_0's rmse: 0.58912\tvalid_1's rmse: 0.667475\n",
      "[200]\tvalid_0's rmse: 0.461517\tvalid_1's rmse: 0.563925\n",
      "[300]\tvalid_0's rmse: 0.408238\tvalid_1's rmse: 0.54362\n",
      "[400]\tvalid_0's rmse: 0.371865\tvalid_1's rmse: 0.539562\n",
      "[500]\tvalid_0's rmse: 0.341886\tvalid_1's rmse: 0.538394\n",
      "[600]\tvalid_0's rmse: 0.315751\tvalid_1's rmse: 0.538636\n"
     ]
    },
    {
     "name": "stderr",
     "output_type": "stream",
     "text": [
      "\n",
      "num_leaves, val_score: 0.536608:  80%|########  | 16/20 [05:02<01:21, 20.35s/it]\u001b[A\n",
      "num_leaves, val_score: 0.536608:  85%|########5 | 17/20 [05:02<01:00, 20.08s/it]\u001b[A[I 2024-06-30 05:18:07,915] Trial 23 finished with value: 0.5382094981059258 and parameters: {'num_leaves': 113}. Best is trial 18 with value: 0.5366082549839172.\n",
      "\n",
      "num_leaves, val_score: 0.536608:  85%|########5 | 17/20 [05:02<01:00, 20.08s/it]\u001b[A"
     ]
    },
    {
     "name": "stdout",
     "output_type": "stream",
     "text": [
      "Early stopping, best iteration is:\n",
      "[517]\tvalid_0's rmse: 0.337279\tvalid_1's rmse: 0.538209\n",
      "Training until validation scores don't improve for 100 rounds\n",
      "[100]\tvalid_0's rmse: 0.611594\tvalid_1's rmse: 0.668925\n",
      "[200]\tvalid_0's rmse: 0.505138\tvalid_1's rmse: 0.565069\n",
      "[300]\tvalid_0's rmse: 0.467846\tvalid_1's rmse: 0.54506\n",
      "[400]\tvalid_0's rmse: 0.444074\tvalid_1's rmse: 0.539937\n",
      "[500]\tvalid_0's rmse: 0.42467\tvalid_1's rmse: 0.538693\n"
     ]
    },
    {
     "name": "stderr",
     "output_type": "stream",
     "text": [
      "\n",
      "num_leaves, val_score: 0.536608:  85%|########5 | 17/20 [05:25<01:00, 20.08s/it]\u001b[A\n",
      "num_leaves, val_score: 0.536608:  90%|######### | 18/20 [05:25<00:41, 20.93s/it]\u001b[A[I 2024-06-30 05:18:30,800] Trial 24 finished with value: 0.5384598165982746 and parameters: {'num_leaves': 52}. Best is trial 18 with value: 0.5366082549839172.\n",
      "\n",
      "num_leaves, val_score: 0.536608:  90%|######### | 18/20 [05:25<00:41, 20.93s/it]\u001b[A"
     ]
    },
    {
     "name": "stdout",
     "output_type": "stream",
     "text": [
      "[600]\tvalid_0's rmse: 0.407701\tvalid_1's rmse: 0.538666\n",
      "Early stopping, best iteration is:\n",
      "[512]\tvalid_0's rmse: 0.422578\tvalid_1's rmse: 0.53846\n",
      "Training until validation scores don't improve for 100 rounds\n",
      "[100]\tvalid_0's rmse: 0.593674\tvalid_1's rmse: 0.667416\n",
      "[200]\tvalid_0's rmse: 0.470298\tvalid_1's rmse: 0.563406\n",
      "[300]\tvalid_0's rmse: 0.420045\tvalid_1's rmse: 0.543706\n",
      "[400]\tvalid_0's rmse: 0.38597\tvalid_1's rmse: 0.539334\n",
      "[500]\tvalid_0's rmse: 0.357818\tvalid_1's rmse: 0.537862\n"
     ]
    },
    {
     "name": "stderr",
     "output_type": "stream",
     "text": [
      "\n",
      "num_leaves, val_score: 0.536608:  90%|######### | 18/20 [05:35<00:41, 20.93s/it]\u001b[A\n",
      "num_leaves, val_score: 0.536608:  95%|#########5| 19/20 [05:35<00:17, 17.69s/it]\u001b[A[I 2024-06-30 05:18:40,956] Trial 25 finished with value: 0.5377461409050208 and parameters: {'num_leaves': 99}. Best is trial 18 with value: 0.5366082549839172.\n",
      "\n",
      "num_leaves, val_score: 0.536608:  95%|#########5| 19/20 [05:35<00:17, 17.69s/it]\u001b[A"
     ]
    },
    {
     "name": "stdout",
     "output_type": "stream",
     "text": [
      "[600]\tvalid_0's rmse: 0.333483\tvalid_1's rmse: 0.538019\n",
      "Early stopping, best iteration is:\n",
      "[505]\tvalid_0's rmse: 0.356496\tvalid_1's rmse: 0.537746\n",
      "Training until validation scores don't improve for 100 rounds\n",
      "[100]\tvalid_0's rmse: 0.582046\tvalid_1's rmse: 0.66788\n",
      "[200]\tvalid_0's rmse: 0.447463\tvalid_1's rmse: 0.564394\n",
      "[300]\tvalid_0's rmse: 0.388797\tvalid_1's rmse: 0.544583\n",
      "[400]\tvalid_0's rmse: 0.348481\tvalid_1's rmse: 0.539275\n",
      "[500]\tvalid_0's rmse: 0.315537\tvalid_1's rmse: 0.538211\n"
     ]
    },
    {
     "name": "stderr",
     "output_type": "stream",
     "text": [
      "\n",
      "num_leaves, val_score: 0.536608:  95%|#########5| 19/20 [05:54<00:17, 17.69s/it]\u001b[A\n",
      "num_leaves, val_score: 0.536608: 100%|##########| 20/20 [05:54<00:00, 18.11s/it]\u001b[A[I 2024-06-30 05:19:00,049] Trial 26 finished with value: 0.5379391825250923 and parameters: {'num_leaves': 138}. Best is trial 18 with value: 0.5366082549839172.\n",
      "num_leaves, val_score: 0.536608: 100%|##########| 20/20 [05:54<00:00, 17.73s/it]\n"
     ]
    },
    {
     "name": "stdout",
     "output_type": "stream",
     "text": [
      "Early stopping, best iteration is:\n",
      "[470]\tvalid_0's rmse: 0.324929\tvalid_1's rmse: 0.537939\n"
     ]
    },
    {
     "name": "stderr",
     "output_type": "stream",
     "text": [
      "\n",
      "  0%|          | 0/10 [00:00<?, ?it/s]\u001b[A\n",
      "bagging, val_score: 0.536608:   0%|          | 0/10 [00:00<?, ?it/s]\u001b[A"
     ]
    },
    {
     "name": "stdout",
     "output_type": "stream",
     "text": [
      "Training until validation scores don't improve for 100 rounds\n",
      "[100]\tvalid_0's rmse: 0.599241\tvalid_1's rmse: 0.666372\n",
      "[200]\tvalid_0's rmse: 0.48268\tvalid_1's rmse: 0.56521\n",
      "[300]\tvalid_0's rmse: 0.437316\tvalid_1's rmse: 0.544499\n",
      "[400]\tvalid_0's rmse: 0.407392\tvalid_1's rmse: 0.539258\n",
      "[500]\tvalid_0's rmse: 0.382131\tvalid_1's rmse: 0.538204\n",
      "[600]\tvalid_0's rmse: 0.360405\tvalid_1's rmse: 0.538134\n"
     ]
    },
    {
     "name": "stderr",
     "output_type": "stream",
     "text": [
      "\n",
      "bagging, val_score: 0.536608:   0%|          | 0/10 [00:17<?, ?it/s]\u001b[A\n",
      "bagging, val_score: 0.536608:  10%|#         | 1/10 [00:17<02:33, 17.05s/it]\u001b[A[I 2024-06-30 05:19:17,111] Trial 27 finished with value: 0.537957660129782 and parameters: {'bagging_fraction': 0.8226344880460007, 'bagging_freq': 7}. Best is trial 27 with value: 0.537957660129782.\n",
      "\n",
      "bagging, val_score: 0.536608:  10%|#         | 1/10 [00:17<02:33, 17.05s/it]\u001b[A"
     ]
    },
    {
     "name": "stdout",
     "output_type": "stream",
     "text": [
      "Early stopping, best iteration is:\n",
      "[571]\tvalid_0's rmse: 0.366287\tvalid_1's rmse: 0.537958\n",
      "Training until validation scores don't improve for 100 rounds\n",
      "[100]\tvalid_0's rmse: 0.60194\tvalid_1's rmse: 0.665432\n",
      "[200]\tvalid_0's rmse: 0.48626\tvalid_1's rmse: 0.564537\n",
      "[300]\tvalid_0's rmse: 0.441834\tvalid_1's rmse: 0.543633\n",
      "[400]\tvalid_0's rmse: 0.413248\tvalid_1's rmse: 0.538735\n",
      "[500]\tvalid_0's rmse: 0.389399\tvalid_1's rmse: 0.537319\n",
      "[600]\tvalid_0's rmse: 0.367924\tvalid_1's rmse: 0.537537\n"
     ]
    },
    {
     "name": "stderr",
     "output_type": "stream",
     "text": [
      "\n",
      "bagging, val_score: 0.536608:  10%|#         | 1/10 [00:28<02:33, 17.05s/it]\u001b[A\n",
      "bagging, val_score: 0.536608:  20%|##        | 2/10 [00:28<01:51, 13.96s/it]\u001b[A[I 2024-06-30 05:19:28,911] Trial 28 finished with value: 0.5371227100189142 and parameters: {'bagging_fraction': 0.4430912147418859, 'bagging_freq': 1}. Best is trial 28 with value: 0.5371227100189142.\n",
      "\n",
      "bagging, val_score: 0.536608:  20%|##        | 2/10 [00:28<01:51, 13.96s/it]\u001b[A"
     ]
    },
    {
     "name": "stdout",
     "output_type": "stream",
     "text": [
      "Early stopping, best iteration is:\n",
      "[519]\tvalid_0's rmse: 0.385112\tvalid_1's rmse: 0.537123\n",
      "Training until validation scores don't improve for 100 rounds\n",
      "[100]\tvalid_0's rmse: 0.59892\tvalid_1's rmse: 0.666261\n",
      "[200]\tvalid_0's rmse: 0.481975\tvalid_1's rmse: 0.565818\n",
      "[300]\tvalid_0's rmse: 0.436346\tvalid_1's rmse: 0.544454\n",
      "[400]\tvalid_0's rmse: 0.40595\tvalid_1's rmse: 0.539649\n",
      "[500]\tvalid_0's rmse: 0.381052\tvalid_1's rmse: 0.538691\n",
      "[600]\tvalid_0's rmse: 0.359638\tvalid_1's rmse: 0.538546\n",
      "[700]\tvalid_0's rmse: 0.340815\tvalid_1's rmse: 0.53832\n"
     ]
    },
    {
     "name": "stderr",
     "output_type": "stream",
     "text": [
      "\n",
      "bagging, val_score: 0.536608:  20%|##        | 2/10 [00:46<01:51, 13.96s/it]\u001b[A\n",
      "bagging, val_score: 0.536608:  30%|###       | 3/10 [00:46<01:49, 15.63s/it]\u001b[A[I 2024-06-30 05:19:46,513] Trial 29 finished with value: 0.5382419573820284 and parameters: {'bagging_fraction': 0.9648331686635209, 'bagging_freq': 4}. Best is trial 28 with value: 0.5371227100189142.\n",
      "\n",
      "bagging, val_score: 0.536608:  30%|###       | 3/10 [00:46<01:49, 15.63s/it]\u001b[A"
     ]
    },
    {
     "name": "stdout",
     "output_type": "stream",
     "text": [
      "Early stopping, best iteration is:\n",
      "[645]\tvalid_0's rmse: 0.351043\tvalid_1's rmse: 0.538242\n",
      "Training until validation scores don't improve for 100 rounds\n",
      "[100]\tvalid_0's rmse: 0.602437\tvalid_1's rmse: 0.669014\n",
      "[200]\tvalid_0's rmse: 0.487901\tvalid_1's rmse: 0.568677\n",
      "[300]\tvalid_0's rmse: 0.443382\tvalid_1's rmse: 0.546122\n",
      "[400]\tvalid_0's rmse: 0.414154\tvalid_1's rmse: 0.541522\n",
      "[500]\tvalid_0's rmse: 0.390165\tvalid_1's rmse: 0.541247\n",
      "[600]\tvalid_0's rmse: 0.368364\tvalid_1's rmse: 0.5401\n",
      "[700]\tvalid_0's rmse: 0.349028\tvalid_1's rmse: 0.539592\n",
      "[800]\tvalid_0's rmse: 0.330862\tvalid_1's rmse: 0.539919\n"
     ]
    },
    {
     "name": "stderr",
     "output_type": "stream",
     "text": [
      "\n",
      "bagging, val_score: 0.536608:  30%|###       | 3/10 [00:57<01:49, 15.63s/it]\u001b[A\n",
      "bagging, val_score: 0.536608:  40%|####      | 4/10 [00:57<01:22, 13.70s/it]\u001b[A[I 2024-06-30 05:19:57,273] Trial 30 finished with value: 0.5394439546541727 and parameters: {'bagging_fraction': 0.48070579489884835, 'bagging_freq': 7}. Best is trial 28 with value: 0.5371227100189142.\n",
      "\n",
      "bagging, val_score: 0.536608:  40%|####      | 4/10 [00:57<01:22, 13.70s/it]\u001b[A"
     ]
    },
    {
     "name": "stdout",
     "output_type": "stream",
     "text": [
      "Early stopping, best iteration is:\n",
      "[726]\tvalid_0's rmse: 0.34407\tvalid_1's rmse: 0.539444\n",
      "Training until validation scores don't improve for 100 rounds\n",
      "[100]\tvalid_0's rmse: 0.602697\tvalid_1's rmse: 0.666198\n",
      "[200]\tvalid_0's rmse: 0.487168\tvalid_1's rmse: 0.565385\n",
      "[300]\tvalid_0's rmse: 0.443106\tvalid_1's rmse: 0.544043\n",
      "[400]\tvalid_0's rmse: 0.414269\tvalid_1's rmse: 0.538934\n",
      "[500]\tvalid_0's rmse: 0.390574\tvalid_1's rmse: 0.537663\n",
      "[600]\tvalid_0's rmse: 0.368972\tvalid_1's rmse: 0.536997\n"
     ]
    },
    {
     "name": "stderr",
     "output_type": "stream",
     "text": [
      "\n",
      "bagging, val_score: 0.536608:  40%|####      | 4/10 [01:05<01:22, 13.70s/it]\u001b[A\n",
      "bagging, val_score: 0.536608:  50%|#####     | 5/10 [01:05<00:59, 11.89s/it]\u001b[A[I 2024-06-30 05:20:05,959] Trial 31 finished with value: 0.5368095329354263 and parameters: {'bagging_fraction': 0.4125087087470482, 'bagging_freq': 1}. Best is trial 31 with value: 0.5368095329354263.\n",
      "\n",
      "bagging, val_score: 0.536608:  50%|#####     | 5/10 [01:05<00:59, 11.89s/it]\u001b[A"
     ]
    },
    {
     "name": "stdout",
     "output_type": "stream",
     "text": [
      "Early stopping, best iteration is:\n",
      "[591]\tvalid_0's rmse: 0.370872\tvalid_1's rmse: 0.53681\n",
      "Training until validation scores don't improve for 100 rounds\n",
      "[100]\tvalid_0's rmse: 0.599467\tvalid_1's rmse: 0.664864\n",
      "[200]\tvalid_0's rmse: 0.48265\tvalid_1's rmse: 0.563617\n",
      "[300]\tvalid_0's rmse: 0.437639\tvalid_1's rmse: 0.542886\n",
      "[400]\tvalid_0's rmse: 0.408003\tvalid_1's rmse: 0.537917\n",
      "[500]\tvalid_0's rmse: 0.383363\tvalid_1's rmse: 0.536412\n",
      "[600]\tvalid_0's rmse: 0.361498\tvalid_1's rmse: 0.536263\n"
     ]
    },
    {
     "name": "stderr",
     "output_type": "stream",
     "text": [
      "\n",
      "bagging, val_score: 0.536081:  50%|#####     | 5/10 [01:14<00:59, 11.89s/it]\u001b[A\n",
      "bagging, val_score: 0.536081:  60%|######    | 6/10 [01:14<00:43, 10.79s/it]\u001b[A[I 2024-06-30 05:20:14,593] Trial 32 finished with value: 0.5360814947200979 and parameters: {'bagging_fraction': 0.6467117436141725, 'bagging_freq': 1}. Best is trial 32 with value: 0.5360814947200979.\n",
      "\n",
      "bagging, val_score: 0.536081:  60%|######    | 6/10 [01:14<00:43, 10.79s/it]\u001b[A"
     ]
    },
    {
     "name": "stdout",
     "output_type": "stream",
     "text": [
      "Early stopping, best iteration is:\n",
      "[523]\tvalid_0's rmse: 0.378164\tvalid_1's rmse: 0.536081\n",
      "Training until validation scores don't improve for 100 rounds\n",
      "[100]\tvalid_0's rmse: 0.599729\tvalid_1's rmse: 0.667551\n",
      "[200]\tvalid_0's rmse: 0.482934\tvalid_1's rmse: 0.565165\n",
      "[300]\tvalid_0's rmse: 0.437667\tvalid_1's rmse: 0.54488\n",
      "[400]\tvalid_0's rmse: 0.407758\tvalid_1's rmse: 0.539652\n",
      "[500]\tvalid_0's rmse: 0.383157\tvalid_1's rmse: 0.538065\n",
      "[600]\tvalid_0's rmse: 0.361276\tvalid_1's rmse: 0.53808\n"
     ]
    },
    {
     "name": "stderr",
     "output_type": "stream",
     "text": [
      "\n",
      "bagging, val_score: 0.536081:  60%|######    | 6/10 [01:22<00:43, 10.79s/it]\u001b[A\n",
      "bagging, val_score: 0.536081:  70%|#######   | 7/10 [01:22<00:29,  9.95s/it]\u001b[A[I 2024-06-30 05:20:22,835] Trial 33 finished with value: 0.5379995362672614 and parameters: {'bagging_fraction': 0.6762842044082378, 'bagging_freq': 3}. Best is trial 32 with value: 0.5360814947200979.\n",
      "\n",
      "bagging, val_score: 0.536081:  70%|#######   | 7/10 [01:22<00:29,  9.95s/it]\u001b[A"
     ]
    },
    {
     "name": "stdout",
     "output_type": "stream",
     "text": [
      "Early stopping, best iteration is:\n",
      "[534]\tvalid_0's rmse: 0.375429\tvalid_1's rmse: 0.538\n",
      "Training until validation scores don't improve for 100 rounds\n",
      "[100]\tvalid_0's rmse: 0.6003\tvalid_1's rmse: 0.666058\n",
      "[200]\tvalid_0's rmse: 0.483834\tvalid_1's rmse: 0.564255\n",
      "[300]\tvalid_0's rmse: 0.438626\tvalid_1's rmse: 0.543822\n",
      "[400]\tvalid_0's rmse: 0.408966\tvalid_1's rmse: 0.538433\n",
      "[500]\tvalid_0's rmse: 0.384549\tvalid_1's rmse: 0.537934\n",
      "[600]\tvalid_0's rmse: 0.362734\tvalid_1's rmse: 0.537748\n",
      "[700]\tvalid_0's rmse: 0.343344\tvalid_1's rmse: 0.536978\n"
     ]
    },
    {
     "name": "stderr",
     "output_type": "stream",
     "text": [
      "\n",
      "bagging, val_score: 0.536081:  70%|#######   | 7/10 [01:34<00:29,  9.95s/it]\u001b[A\n",
      "bagging, val_score: 0.536081:  80%|########  | 8/10 [01:34<00:20, 10.40s/it]\u001b[A[I 2024-06-30 05:20:34,184] Trial 34 finished with value: 0.5368759499271413 and parameters: {'bagging_fraction': 0.6337806862588304, 'bagging_freq': 3}. Best is trial 32 with value: 0.5360814947200979.\n",
      "\n",
      "bagging, val_score: 0.536081:  80%|########  | 8/10 [01:34<00:20, 10.40s/it]\u001b[A"
     ]
    },
    {
     "name": "stdout",
     "output_type": "stream",
     "text": [
      "[800]\tvalid_0's rmse: 0.325408\tvalid_1's rmse: 0.537173\n",
      "Early stopping, best iteration is:\n",
      "[708]\tvalid_0's rmse: 0.341851\tvalid_1's rmse: 0.536876\n",
      "Training until validation scores don't improve for 100 rounds\n",
      "[100]\tvalid_0's rmse: 0.599176\tvalid_1's rmse: 0.668359\n",
      "[200]\tvalid_0's rmse: 0.482352\tvalid_1's rmse: 0.56516\n",
      "[300]\tvalid_0's rmse: 0.436864\tvalid_1's rmse: 0.543991\n",
      "[400]\tvalid_0's rmse: 0.406739\tvalid_1's rmse: 0.539481\n",
      "[500]\tvalid_0's rmse: 0.381795\tvalid_1's rmse: 0.538716\n",
      "[600]\tvalid_0's rmse: 0.360237\tvalid_1's rmse: 0.538476\n",
      "[700]\tvalid_0's rmse: 0.340809\tvalid_1's rmse: 0.538631\n"
     ]
    },
    {
     "name": "stderr",
     "output_type": "stream",
     "text": [
      "\n",
      "bagging, val_score: 0.536081:  80%|########  | 8/10 [01:48<00:20, 10.40s/it]\u001b[A\n",
      "bagging, val_score: 0.536081:  90%|######### | 9/10 [01:48<00:11, 11.79s/it]\u001b[A[I 2024-06-30 05:20:49,043] Trial 35 finished with value: 0.5384188768617763 and parameters: {'bagging_fraction': 0.8088411110724837, 'bagging_freq': 5}. Best is trial 32 with value: 0.5360814947200979.\n",
      "\n",
      "bagging, val_score: 0.536081:  90%|######### | 9/10 [01:48<00:11, 11.79s/it]\u001b[A"
     ]
    },
    {
     "name": "stdout",
     "output_type": "stream",
     "text": [
      "Early stopping, best iteration is:\n",
      "[639]\tvalid_0's rmse: 0.352374\tvalid_1's rmse: 0.538419\n",
      "Training until validation scores don't improve for 100 rounds\n",
      "[100]\tvalid_0's rmse: 0.600268\tvalid_1's rmse: 0.665887\n",
      "[200]\tvalid_0's rmse: 0.483777\tvalid_1's rmse: 0.565647\n",
      "[300]\tvalid_0's rmse: 0.438393\tvalid_1's rmse: 0.544569\n",
      "[400]\tvalid_0's rmse: 0.408946\tvalid_1's rmse: 0.539555\n",
      "[500]\tvalid_0's rmse: 0.384784\tvalid_1's rmse: 0.538553\n",
      "[600]\tvalid_0's rmse: 0.363034\tvalid_1's rmse: 0.538016\n"
     ]
    },
    {
     "name": "stderr",
     "output_type": "stream",
     "text": [
      "\n",
      "bagging, val_score: 0.536081:  90%|######### | 9/10 [01:57<00:11, 11.79s/it]\u001b[A\n",
      "bagging, val_score: 0.536081: 100%|##########| 10/10 [01:57<00:00, 10.86s/it]\u001b[A[I 2024-06-30 05:20:57,801] Trial 36 finished with value: 0.5379274036568543 and parameters: {'bagging_fraction': 0.5810701243613986, 'bagging_freq': 2}. Best is trial 32 with value: 0.5360814947200979.\n",
      "bagging, val_score: 0.536081: 100%|##########| 10/10 [01:57<00:00, 11.77s/it]\n"
     ]
    },
    {
     "name": "stdout",
     "output_type": "stream",
     "text": [
      "Early stopping, best iteration is:\n",
      "[580]\tvalid_0's rmse: 0.36729\tvalid_1's rmse: 0.537927\n"
     ]
    },
    {
     "name": "stderr",
     "output_type": "stream",
     "text": [
      "\n",
      "  0%|          | 0/6 [00:00<?, ?it/s]\u001b[A\n",
      "feature_fraction_stage2, val_score: 0.536081:   0%|          | 0/6 [00:00<?, ?it/s]\u001b[A"
     ]
    },
    {
     "name": "stdout",
     "output_type": "stream",
     "text": [
      "Training until validation scores don't improve for 100 rounds\n",
      "[100]\tvalid_0's rmse: 0.599037\tvalid_1's rmse: 0.664901\n",
      "[200]\tvalid_0's rmse: 0.482182\tvalid_1's rmse: 0.563703\n",
      "[300]\tvalid_0's rmse: 0.436992\tvalid_1's rmse: 0.542491\n",
      "[400]\tvalid_0's rmse: 0.40707\tvalid_1's rmse: 0.538235\n",
      "[500]\tvalid_0's rmse: 0.38227\tvalid_1's rmse: 0.536927\n",
      "[600]\tvalid_0's rmse: 0.360549\tvalid_1's rmse: 0.536849\n"
     ]
    },
    {
     "name": "stderr",
     "output_type": "stream",
     "text": [
      "\n",
      "feature_fraction_stage2, val_score: 0.536081:   0%|          | 0/6 [00:09<?, ?it/s]\u001b[A\n",
      "feature_fraction_stage2, val_score: 0.536081:  17%|#6        | 1/6 [00:09<00:47,  9.54s/it]\u001b[A[I 2024-06-30 05:21:07,354] Trial 37 finished with value: 0.536785530751215 and parameters: {'feature_fraction': 0.948}. Best is trial 37 with value: 0.536785530751215.\n",
      "\n",
      "feature_fraction_stage2, val_score: 0.536081:  17%|#6        | 1/6 [00:09<00:47,  9.54s/it]\u001b[A"
     ]
    },
    {
     "name": "stdout",
     "output_type": "stream",
     "text": [
      "Early stopping, best iteration is:\n",
      "[519]\tvalid_0's rmse: 0.378006\tvalid_1's rmse: 0.536786\n",
      "Training until validation scores don't improve for 100 rounds\n",
      "[100]\tvalid_0's rmse: 0.59911\tvalid_1's rmse: 0.665285\n",
      "[200]\tvalid_0's rmse: 0.482223\tvalid_1's rmse: 0.564664\n",
      "[300]\tvalid_0's rmse: 0.436839\tvalid_1's rmse: 0.54346\n",
      "[400]\tvalid_0's rmse: 0.406914\tvalid_1's rmse: 0.539125\n",
      "[500]\tvalid_0's rmse: 0.382282\tvalid_1's rmse: 0.537878\n",
      "[600]\tvalid_0's rmse: 0.360299\tvalid_1's rmse: 0.537665\n",
      "[700]\tvalid_0's rmse: 0.340426\tvalid_1's rmse: 0.537296\n",
      "[800]\tvalid_0's rmse: 0.322152\tvalid_1's rmse: 0.537446\n"
     ]
    },
    {
     "name": "stderr",
     "output_type": "stream",
     "text": [
      "\n",
      "feature_fraction_stage2, val_score: 0.536081:  17%|#6        | 1/6 [00:41<00:47,  9.54s/it]\u001b[A\n",
      "feature_fraction_stage2, val_score: 0.536081:  33%|###3      | 2/6 [00:41<01:30, 22.73s/it]\u001b[A[I 2024-06-30 05:21:39,314] Trial 38 finished with value: 0.537129921228808 and parameters: {'feature_fraction': 0.9799999999999999}. Best is trial 37 with value: 0.536785530751215.\n",
      "\n",
      "feature_fraction_stage2, val_score: 0.536081:  33%|###3      | 2/6 [00:41<01:30, 22.73s/it]\u001b[A"
     ]
    },
    {
     "name": "stdout",
     "output_type": "stream",
     "text": [
      "Early stopping, best iteration is:\n",
      "[760]\tvalid_0's rmse: 0.329368\tvalid_1's rmse: 0.53713\n",
      "Training until validation scores don't improve for 100 rounds\n",
      "[100]\tvalid_0's rmse: 0.599436\tvalid_1's rmse: 0.664861\n",
      "[200]\tvalid_0's rmse: 0.482512\tvalid_1's rmse: 0.563712\n",
      "[300]\tvalid_0's rmse: 0.437405\tvalid_1's rmse: 0.542559\n",
      "[400]\tvalid_0's rmse: 0.407476\tvalid_1's rmse: 0.537653\n",
      "[500]\tvalid_0's rmse: 0.382826\tvalid_1's rmse: 0.536176\n",
      "[600]\tvalid_0's rmse: 0.360944\tvalid_1's rmse: 0.535483\n"
     ]
    },
    {
     "name": "stderr",
     "output_type": "stream",
     "text": [
      "\n",
      "feature_fraction_stage2, val_score: 0.535383:  33%|###3      | 2/6 [00:57<01:30, 22.73s/it]\u001b[A\n",
      "feature_fraction_stage2, val_score: 0.535383:  50%|#####     | 3/6 [00:57<00:59, 19.76s/it]\u001b[A[I 2024-06-30 05:21:55,537] Trial 39 finished with value: 0.5353830025306848 and parameters: {'feature_fraction': 0.9159999999999999}. Best is trial 39 with value: 0.5353830025306848.\n",
      "\n",
      "feature_fraction_stage2, val_score: 0.535383:  50%|#####     | 3/6 [00:57<00:59, 19.76s/it]\u001b[A"
     ]
    },
    {
     "name": "stdout",
     "output_type": "stream",
     "text": [
      "Early stopping, best iteration is:\n",
      "[584]\tvalid_0's rmse: 0.364272\tvalid_1's rmse: 0.535383\n",
      "Training until validation scores don't improve for 100 rounds\n",
      "[100]\tvalid_0's rmse: 0.59955\tvalid_1's rmse: 0.665403\n",
      "[200]\tvalid_0's rmse: 0.482803\tvalid_1's rmse: 0.564103\n",
      "[300]\tvalid_0's rmse: 0.43787\tvalid_1's rmse: 0.543001\n",
      "[400]\tvalid_0's rmse: 0.408194\tvalid_1's rmse: 0.537986\n",
      "[500]\tvalid_0's rmse: 0.383473\tvalid_1's rmse: 0.536545\n",
      "[600]\tvalid_0's rmse: 0.36168\tvalid_1's rmse: 0.536535\n",
      "Early stopping, best iteration is:\n",
      "[519]\tvalid_0's rmse: 0.379172\tvalid_1's rmse: 0.536268\n"
     ]
    },
    {
     "name": "stderr",
     "output_type": "stream",
     "text": [
      "\n",
      "feature_fraction_stage2, val_score: 0.535383:  50%|#####     | 3/6 [01:04<00:59, 19.76s/it]\u001b[A\n",
      "feature_fraction_stage2, val_score: 0.535383:  67%|######6   | 4/6 [01:04<00:29, 14.71s/it]\u001b[A[I 2024-06-30 05:22:02,510] Trial 40 finished with value: 0.5362684272577989 and parameters: {'feature_fraction': 0.8839999999999999}. Best is trial 39 with value: 0.5353830025306848.\n",
      "\n",
      "feature_fraction_stage2, val_score: 0.535383:  67%|######6   | 4/6 [01:04<00:29, 14.71s/it]\u001b[A"
     ]
    },
    {
     "name": "stdout",
     "output_type": "stream",
     "text": [
      "Training until validation scores don't improve for 100 rounds\n",
      "[100]\tvalid_0's rmse: 0.600102\tvalid_1's rmse: 0.664893\n",
      "[200]\tvalid_0's rmse: 0.48391\tvalid_1's rmse: 0.564442\n",
      "[300]\tvalid_0's rmse: 0.439096\tvalid_1's rmse: 0.543908\n",
      "[400]\tvalid_0's rmse: 0.409376\tvalid_1's rmse: 0.539289\n",
      "[500]\tvalid_0's rmse: 0.384795\tvalid_1's rmse: 0.538194\n",
      "[600]\tvalid_0's rmse: 0.363298\tvalid_1's rmse: 0.537652\n"
     ]
    },
    {
     "name": "stderr",
     "output_type": "stream",
     "text": [
      "\n",
      "feature_fraction_stage2, val_score: 0.535383:  67%|######6   | 4/6 [01:11<00:29, 14.71s/it]\u001b[A\n",
      "feature_fraction_stage2, val_score: 0.535383:  83%|########3 | 5/6 [01:11<00:11, 11.93s/it]\u001b[A[I 2024-06-30 05:22:09,521] Trial 41 finished with value: 0.5376052867366964 and parameters: {'feature_fraction': 0.82}. Best is trial 39 with value: 0.5353830025306848.\n",
      "\n",
      "feature_fraction_stage2, val_score: 0.535383:  83%|########3 | 5/6 [01:11<00:11, 11.93s/it]\u001b[A"
     ]
    },
    {
     "name": "stdout",
     "output_type": "stream",
     "text": [
      "Early stopping, best iteration is:\n",
      "[593]\tvalid_0's rmse: 0.364758\tvalid_1's rmse: 0.537605\n",
      "Training until validation scores don't improve for 100 rounds\n",
      "[100]\tvalid_0's rmse: 0.599768\tvalid_1's rmse: 0.664548\n",
      "[200]\tvalid_0's rmse: 0.483329\tvalid_1's rmse: 0.564081\n",
      "[300]\tvalid_0's rmse: 0.438399\tvalid_1's rmse: 0.543234\n",
      "[400]\tvalid_0's rmse: 0.408675\tvalid_1's rmse: 0.538407\n",
      "[500]\tvalid_0's rmse: 0.384128\tvalid_1's rmse: 0.536687\n",
      "[600]\tvalid_0's rmse: 0.362586\tvalid_1's rmse: 0.5365\n",
      "[700]\tvalid_0's rmse: 0.342756\tvalid_1's rmse: 0.536432\n"
     ]
    },
    {
     "name": "stderr",
     "output_type": "stream",
     "text": [
      "\n",
      "feature_fraction_stage2, val_score: 0.535383:  83%|########3 | 5/6 [01:45<00:11, 11.93s/it]\u001b[A\n",
      "feature_fraction_stage2, val_score: 0.535383: 100%|##########| 6/6 [01:45<00:00, 19.20s/it]\u001b[A[I 2024-06-30 05:22:42,821] Trial 42 finished with value: 0.536371105349076 and parameters: {'feature_fraction': 0.852}. Best is trial 39 with value: 0.5353830025306848.\n",
      "feature_fraction_stage2, val_score: 0.535383: 100%|##########| 6/6 [01:45<00:00, 17.50s/it]\n"
     ]
    },
    {
     "name": "stdout",
     "output_type": "stream",
     "text": [
      "Early stopping, best iteration is:\n",
      "[697]\tvalid_0's rmse: 0.343347\tvalid_1's rmse: 0.536371\n"
     ]
    },
    {
     "name": "stderr",
     "output_type": "stream",
     "text": [
      "\n",
      "  0%|          | 0/20 [00:00<?, ?it/s]\u001b[A\n",
      "regularization_factors, val_score: 0.535383:   0%|          | 0/20 [00:00<?, ?it/s]\u001b[A"
     ]
    },
    {
     "name": "stdout",
     "output_type": "stream",
     "text": [
      "Training until validation scores don't improve for 100 rounds\n",
      "[100]\tvalid_0's rmse: 0.596385\tvalid_1's rmse: 0.663616\n",
      "[200]\tvalid_0's rmse: 0.479161\tvalid_1's rmse: 0.563251\n",
      "[300]\tvalid_0's rmse: 0.433713\tvalid_1's rmse: 0.543287\n",
      "[400]\tvalid_0's rmse: 0.403259\tvalid_1's rmse: 0.538598\n",
      "[500]\tvalid_0's rmse: 0.378104\tvalid_1's rmse: 0.536932\n",
      "[600]\tvalid_0's rmse: 0.356192\tvalid_1's rmse: 0.536415\n",
      "[700]\tvalid_0's rmse: 0.336176\tvalid_1's rmse: 0.536488\n",
      "Early stopping, best iteration is:\n",
      "[615]\tvalid_0's rmse: 0.353079\tvalid_1's rmse: 0.536278\n"
     ]
    },
    {
     "name": "stderr",
     "output_type": "stream",
     "text": [
      "\n",
      "regularization_factors, val_score: 0.535383:   0%|          | 0/20 [00:12<?, ?it/s]\u001b[A\n",
      "regularization_factors, val_score: 0.535383:   5%|5         | 1/20 [00:12<04:01, 12.71s/it]\u001b[A[I 2024-06-30 05:22:55,544] Trial 43 finished with value: 0.5362781576802321 and parameters: {'lambda_l1': 4.563772241271458e-06, 'lambda_l2': 4.077564541107899e-05}. Best is trial 43 with value: 0.5362781576802321.\n",
      "\n",
      "regularization_factors, val_score: 0.535383:   5%|5         | 1/20 [00:12<04:01, 12.71s/it]\u001b[A"
     ]
    },
    {
     "name": "stdout",
     "output_type": "stream",
     "text": [
      "Training until validation scores don't improve for 100 rounds\n",
      "[100]\tvalid_0's rmse: 0.596385\tvalid_1's rmse: 0.663616\n",
      "[200]\tvalid_0's rmse: 0.479161\tvalid_1's rmse: 0.563251\n",
      "[300]\tvalid_0's rmse: 0.433713\tvalid_1's rmse: 0.543287\n",
      "[400]\tvalid_0's rmse: 0.403258\tvalid_1's rmse: 0.538598\n",
      "[500]\tvalid_0's rmse: 0.378104\tvalid_1's rmse: 0.536932\n",
      "[600]\tvalid_0's rmse: 0.356191\tvalid_1's rmse: 0.536415\n",
      "[700]\tvalid_0's rmse: 0.336203\tvalid_1's rmse: 0.536848\n",
      "Early stopping, best iteration is:\n",
      "[615]\tvalid_0's rmse: 0.353076\tvalid_1's rmse: 0.5363\n"
     ]
    },
    {
     "name": "stderr",
     "output_type": "stream",
     "text": [
      "\n",
      "regularization_factors, val_score: 0.535383:   5%|5         | 1/20 [00:32<04:01, 12.71s/it]\u001b[A\n",
      "regularization_factors, val_score: 0.535383:  10%|#         | 2/20 [00:32<05:06, 17.03s/it]\u001b[A[I 2024-06-30 05:23:15,596] Trial 44 finished with value: 0.5363004333701639 and parameters: {'lambda_l1': 2.1596605649889312e-06, 'lambda_l2': 8.60865763837386e-06}. Best is trial 43 with value: 0.5362781576802321.\n",
      "\n",
      "regularization_factors, val_score: 0.535383:  10%|#         | 2/20 [00:32<05:06, 17.03s/it]\u001b[A"
     ]
    },
    {
     "name": "stdout",
     "output_type": "stream",
     "text": [
      "Training until validation scores don't improve for 100 rounds\n",
      "[100]\tvalid_0's rmse: 0.596385\tvalid_1's rmse: 0.663616\n",
      "[200]\tvalid_0's rmse: 0.479161\tvalid_1's rmse: 0.563251\n",
      "[300]\tvalid_0's rmse: 0.433713\tvalid_1's rmse: 0.543287\n",
      "[400]\tvalid_0's rmse: 0.403258\tvalid_1's rmse: 0.538598\n",
      "[500]\tvalid_0's rmse: 0.378104\tvalid_1's rmse: 0.536932\n",
      "[600]\tvalid_0's rmse: 0.356191\tvalid_1's rmse: 0.536415\n",
      "[700]\tvalid_0's rmse: 0.336203\tvalid_1's rmse: 0.536847\n"
     ]
    },
    {
     "name": "stderr",
     "output_type": "stream",
     "text": [
      "\n",
      "regularization_factors, val_score: 0.535383:  10%|#         | 2/20 [00:46<05:06, 17.03s/it]\u001b[A\n",
      "regularization_factors, val_score: 0.535383:  15%|#5        | 3/20 [00:46<04:23, 15.50s/it]\u001b[A[I 2024-06-30 05:23:29,279] Trial 45 finished with value: 0.5363004345864428 and parameters: {'lambda_l1': 2.568759094306041e-06, 'lambda_l2': 1.5006931825650619e-05}. Best is trial 43 with value: 0.5362781576802321.\n",
      "\n",
      "regularization_factors, val_score: 0.535383:  15%|#5        | 3/20 [00:46<04:23, 15.50s/it]\u001b[A"
     ]
    },
    {
     "name": "stdout",
     "output_type": "stream",
     "text": [
      "Early stopping, best iteration is:\n",
      "[615]\tvalid_0's rmse: 0.353076\tvalid_1's rmse: 0.5363\n",
      "Training until validation scores don't improve for 100 rounds\n",
      "[100]\tvalid_0's rmse: 0.596385\tvalid_1's rmse: 0.663616\n",
      "[200]\tvalid_0's rmse: 0.479161\tvalid_1's rmse: 0.563251\n",
      "[300]\tvalid_0's rmse: 0.433713\tvalid_1's rmse: 0.543287\n",
      "[400]\tvalid_0's rmse: 0.403258\tvalid_1's rmse: 0.538598\n",
      "[500]\tvalid_0's rmse: 0.378104\tvalid_1's rmse: 0.536932\n",
      "[600]\tvalid_0's rmse: 0.356191\tvalid_1's rmse: 0.536415\n",
      "[700]\tvalid_0's rmse: 0.336203\tvalid_1's rmse: 0.536848\n"
     ]
    },
    {
     "name": "stderr",
     "output_type": "stream",
     "text": [
      "\n",
      "regularization_factors, val_score: 0.535383:  15%|#5        | 3/20 [01:06<04:23, 15.50s/it]\u001b[A\n",
      "regularization_factors, val_score: 0.535383:  20%|##        | 4/20 [01:06<04:35, 17.21s/it]\u001b[A[I 2024-06-30 05:23:49,122] Trial 46 finished with value: 0.5363004159733447 and parameters: {'lambda_l1': 2.141165302059006e-06, 'lambda_l2': 1.9125671508973722e-05}. Best is trial 43 with value: 0.5362781576802321.\n",
      "\n",
      "regularization_factors, val_score: 0.535383:  20%|##        | 4/20 [01:06<04:35, 17.21s/it]\u001b[A"
     ]
    },
    {
     "name": "stdout",
     "output_type": "stream",
     "text": [
      "Early stopping, best iteration is:\n",
      "[615]\tvalid_0's rmse: 0.353076\tvalid_1's rmse: 0.5363\n",
      "Training until validation scores don't improve for 100 rounds\n",
      "[100]\tvalid_0's rmse: 0.596677\tvalid_1's rmse: 0.664223\n",
      "[200]\tvalid_0's rmse: 0.479373\tvalid_1's rmse: 0.563503\n",
      "[300]\tvalid_0's rmse: 0.43398\tvalid_1's rmse: 0.542957\n",
      "[400]\tvalid_0's rmse: 0.403744\tvalid_1's rmse: 0.538093\n",
      "[500]\tvalid_0's rmse: 0.37868\tvalid_1's rmse: 0.536524\n",
      "[600]\tvalid_0's rmse: 0.356689\tvalid_1's rmse: 0.536024\n",
      "[700]\tvalid_0's rmse: 0.33669\tvalid_1's rmse: 0.536053\n"
     ]
    },
    {
     "name": "stderr",
     "output_type": "stream",
     "text": [
      "\n",
      "regularization_factors, val_score: 0.535383:  20%|##        | 4/20 [01:20<04:35, 17.21s/it]\u001b[A\n",
      "regularization_factors, val_score: 0.535383:  25%|##5       | 5/20 [01:20<04:04, 16.30s/it]\u001b[A[I 2024-06-30 05:24:03,792] Trial 47 finished with value: 0.5359058083709279 and parameters: {'lambda_l1': 0.009425867441358156, 'lambda_l2': 0.06322479351547787}. Best is trial 47 with value: 0.5359058083709279.\n",
      "\n",
      "regularization_factors, val_score: 0.535383:  25%|##5       | 5/20 [01:20<04:04, 16.30s/it]\u001b[A"
     ]
    },
    {
     "name": "stdout",
     "output_type": "stream",
     "text": [
      "Early stopping, best iteration is:\n",
      "[624]\tvalid_0's rmse: 0.351698\tvalid_1's rmse: 0.535906\n",
      "Training until validation scores don't improve for 100 rounds\n",
      "[100]\tvalid_0's rmse: 0.608653\tvalid_1's rmse: 0.669434\n",
      "[200]\tvalid_0's rmse: 0.491562\tvalid_1's rmse: 0.56595\n",
      "[300]\tvalid_0's rmse: 0.446322\tvalid_1's rmse: 0.54345\n",
      "[400]\tvalid_0's rmse: 0.417175\tvalid_1's rmse: 0.538099\n",
      "[500]\tvalid_0's rmse: 0.393063\tvalid_1's rmse: 0.536525\n",
      "[600]\tvalid_0's rmse: 0.371714\tvalid_1's rmse: 0.535915\n",
      "[700]\tvalid_0's rmse: 0.352279\tvalid_1's rmse: 0.535816\n"
     ]
    },
    {
     "name": "stderr",
     "output_type": "stream",
     "text": [
      "\n",
      "regularization_factors, val_score: 0.535383:  25%|##5       | 5/20 [01:43<04:04, 16.30s/it]\u001b[A\n",
      "regularization_factors, val_score: 0.535383:  30%|###       | 6/20 [01:43<04:19, 18.57s/it]\u001b[A[I 2024-06-30 05:24:26,759] Trial 48 finished with value: 0.5357781423652257 and parameters: {'lambda_l1': 0.20489750524321512, 'lambda_l2': 4.948353468505991}. Best is trial 48 with value: 0.5357781423652257.\n",
      "\n",
      "regularization_factors, val_score: 0.535383:  30%|###       | 6/20 [01:43<04:19, 18.57s/it]\u001b[A"
     ]
    },
    {
     "name": "stdout",
     "output_type": "stream",
     "text": [
      "[800]\tvalid_0's rmse: 0.334555\tvalid_1's rmse: 0.535957\n",
      "Early stopping, best iteration is:\n",
      "[709]\tvalid_0's rmse: 0.350655\tvalid_1's rmse: 0.535778\n",
      "Training until validation scores don't improve for 100 rounds\n",
      "[100]\tvalid_0's rmse: 0.608376\tvalid_1's rmse: 0.669125\n",
      "[200]\tvalid_0's rmse: 0.49179\tvalid_1's rmse: 0.56592\n",
      "[300]\tvalid_0's rmse: 0.446797\tvalid_1's rmse: 0.543626\n",
      "[400]\tvalid_0's rmse: 0.417848\tvalid_1's rmse: 0.538285\n",
      "[500]\tvalid_0's rmse: 0.393762\tvalid_1's rmse: 0.53681\n",
      "[600]\tvalid_0's rmse: 0.372652\tvalid_1's rmse: 0.53577\n",
      "[700]\tvalid_0's rmse: 0.353372\tvalid_1's rmse: 0.535489\n",
      "[800]\tvalid_0's rmse: 0.335548\tvalid_1's rmse: 0.535484\n"
     ]
    },
    {
     "name": "stderr",
     "output_type": "stream",
     "text": [
      "\n",
      "regularization_factors, val_score: 0.535215:  30%|###       | 6/20 [02:09<04:19, 18.57s/it]\u001b[A\n",
      "regularization_factors, val_score: 0.535215:  35%|###5      | 7/20 [02:09<04:29, 20.74s/it]\u001b[A[I 2024-06-30 05:24:51,991] Trial 49 finished with value: 0.5352146932532971 and parameters: {'lambda_l1': 0.4897913127921953, 'lambda_l2': 4.207892844613314}. Best is trial 49 with value: 0.5352146932532971.\n",
      "\n",
      "regularization_factors, val_score: 0.535215:  35%|###5      | 7/20 [02:09<04:29, 20.74s/it]\u001b[A"
     ]
    },
    {
     "name": "stdout",
     "output_type": "stream",
     "text": [
      "Early stopping, best iteration is:\n",
      "[761]\tvalid_0's rmse: 0.342329\tvalid_1's rmse: 0.535215\n",
      "Training until validation scores don't improve for 100 rounds\n",
      "[100]\tvalid_0's rmse: 0.606189\tvalid_1's rmse: 0.668071\n",
      "[200]\tvalid_0's rmse: 0.489547\tvalid_1's rmse: 0.565506\n",
      "[300]\tvalid_0's rmse: 0.444554\tvalid_1's rmse: 0.543049\n",
      "[400]\tvalid_0's rmse: 0.415464\tvalid_1's rmse: 0.537661\n",
      "[500]\tvalid_0's rmse: 0.391312\tvalid_1's rmse: 0.536435\n",
      "[600]\tvalid_0's rmse: 0.37002\tvalid_1's rmse: 0.536067\n",
      "[700]\tvalid_0's rmse: 0.350637\tvalid_1's rmse: 0.535503\n",
      "[800]\tvalid_0's rmse: 0.332775\tvalid_1's rmse: 0.535614\n"
     ]
    },
    {
     "name": "stderr",
     "output_type": "stream",
     "text": [
      "\n",
      "regularization_factors, val_score: 0.535215:  35%|###5      | 7/20 [02:31<04:29, 20.74s/it]\u001b[A\n",
      "regularization_factors, val_score: 0.535215:  40%|####      | 8/20 [02:31<04:13, 21.11s/it]\u001b[A[I 2024-06-30 05:25:13,891] Trial 50 finished with value: 0.5354111375936761 and parameters: {'lambda_l1': 0.49085211894670183, 'lambda_l2': 3.0240797162117348}. Best is trial 49 with value: 0.5352146932532971.\n",
      "\n",
      "regularization_factors, val_score: 0.535215:  40%|####      | 8/20 [02:31<04:13, 21.11s/it]\u001b[A"
     ]
    },
    {
     "name": "stdout",
     "output_type": "stream",
     "text": [
      "Early stopping, best iteration is:\n",
      "[767]\tvalid_0's rmse: 0.338606\tvalid_1's rmse: 0.535411\n",
      "Training until validation scores don't improve for 100 rounds\n",
      "[100]\tvalid_0's rmse: 0.611536\tvalid_1's rmse: 0.671228\n",
      "[200]\tvalid_0's rmse: 0.49516\tvalid_1's rmse: 0.567632\n",
      "[300]\tvalid_0's rmse: 0.450082\tvalid_1's rmse: 0.544415\n",
      "[400]\tvalid_0's rmse: 0.421163\tvalid_1's rmse: 0.538917\n",
      "[500]\tvalid_0's rmse: 0.397463\tvalid_1's rmse: 0.537166\n",
      "[600]\tvalid_0's rmse: 0.376424\tvalid_1's rmse: 0.536531\n",
      "[700]\tvalid_0's rmse: 0.357264\tvalid_1's rmse: 0.536291\n",
      "[800]\tvalid_0's rmse: 0.339713\tvalid_1's rmse: 0.536126\n",
      "[900]\tvalid_0's rmse: 0.323457\tvalid_1's rmse: 0.536098\n"
     ]
    },
    {
     "name": "stderr",
     "output_type": "stream",
     "text": [
      "\n",
      "regularization_factors, val_score: 0.535215:  40%|####      | 8/20 [02:49<04:13, 21.11s/it]\u001b[A\n",
      "regularization_factors, val_score: 0.535215:  45%|####5     | 9/20 [02:49<03:42, 20.21s/it]\u001b[A[I 2024-06-30 05:25:32,118] Trial 51 finished with value: 0.5358777899537591 and parameters: {'lambda_l1': 0.4706511133628072, 'lambda_l2': 6.258643534563568}. Best is trial 49 with value: 0.5352146932532971.\n",
      "\n",
      "regularization_factors, val_score: 0.535215:  45%|####5     | 9/20 [02:49<03:42, 20.21s/it]\u001b[A"
     ]
    },
    {
     "name": "stdout",
     "output_type": "stream",
     "text": [
      "Early stopping, best iteration is:\n",
      "[846]\tvalid_0's rmse: 0.33215\tvalid_1's rmse: 0.535878\n",
      "Training until validation scores don't improve for 100 rounds\n",
      "[100]\tvalid_0's rmse: 0.611731\tvalid_1's rmse: 0.671447\n",
      "[200]\tvalid_0's rmse: 0.495484\tvalid_1's rmse: 0.567856\n",
      "[300]\tvalid_0's rmse: 0.450507\tvalid_1's rmse: 0.544899\n",
      "[400]\tvalid_0's rmse: 0.42161\tvalid_1's rmse: 0.539441\n",
      "[500]\tvalid_0's rmse: 0.397838\tvalid_1's rmse: 0.537563\n",
      "[600]\tvalid_0's rmse: 0.376811\tvalid_1's rmse: 0.536699\n",
      "[700]\tvalid_0's rmse: 0.357717\tvalid_1's rmse: 0.536055\n",
      "[800]\tvalid_0's rmse: 0.340083\tvalid_1's rmse: 0.53589\n",
      "[900]\tvalid_0's rmse: 0.323702\tvalid_1's rmse: 0.535974\n"
     ]
    },
    {
     "name": "stderr",
     "output_type": "stream",
     "text": [
      "\n",
      "regularization_factors, val_score: 0.535215:  45%|####5     | 9/20 [03:07<03:42, 20.21s/it]\u001b[A\n",
      "regularization_factors, val_score: 0.535215:  50%|#####     | 10/20 [03:07<03:15, 19.51s/it]\u001b[A[I 2024-06-30 05:25:50,062] Trial 52 finished with value: 0.5358220608486126 and parameters: {'lambda_l1': 0.5049720949318722, 'lambda_l2': 6.306019904814846}. Best is trial 49 with value: 0.5352146932532971.\n",
      "\n",
      "regularization_factors, val_score: 0.535215:  50%|#####     | 10/20 [03:07<03:15, 19.51s/it]\u001b[A"
     ]
    },
    {
     "name": "stdout",
     "output_type": "stream",
     "text": [
      "Early stopping, best iteration is:\n",
      "[826]\tvalid_0's rmse: 0.33576\tvalid_1's rmse: 0.535822\n",
      "Training until validation scores don't improve for 100 rounds\n",
      "[100]\tvalid_0's rmse: 0.62492\tvalid_1's rmse: 0.679496\n",
      "[200]\tvalid_0's rmse: 0.515685\tvalid_1's rmse: 0.574281\n",
      "[300]\tvalid_0's rmse: 0.474974\tvalid_1's rmse: 0.549846\n",
      "[400]\tvalid_0's rmse: 0.449909\tvalid_1's rmse: 0.54292\n",
      "[500]\tvalid_0's rmse: 0.430064\tvalid_1's rmse: 0.540589\n",
      "[600]\tvalid_0's rmse: 0.412947\tvalid_1's rmse: 0.539727\n",
      "[700]\tvalid_0's rmse: 0.397541\tvalid_1's rmse: 0.538943\n",
      "[800]\tvalid_0's rmse: 0.383212\tvalid_1's rmse: 0.538678\n",
      "[900]\tvalid_0's rmse: 0.370136\tvalid_1's rmse: 0.538618\n",
      "[1000]\tvalid_0's rmse: 0.357653\tvalid_1's rmse: 0.538195\n",
      "[1100]\tvalid_0's rmse: 0.346062\tvalid_1's rmse: 0.538082\n",
      "[1200]\tvalid_0's rmse: 0.335152\tvalid_1's rmse: 0.538198\n"
     ]
    },
    {
     "name": "stderr",
     "output_type": "stream",
     "text": [
      "\n",
      "regularization_factors, val_score: 0.535215:  50%|#####     | 10/20 [03:53<03:15, 19.51s/it]\u001b[A\n",
      "regularization_factors, val_score: 0.535215:  55%|#####5    | 11/20 [03:53<04:10, 27.79s/it]\u001b[A[I 2024-06-30 05:26:36,620] Trial 53 finished with value: 0.5380203167201756 and parameters: {'lambda_l1': 4.5454416008799905, 'lambda_l2': 7.822403725121163}. Best is trial 49 with value: 0.5352146932532971.\n",
      "\n",
      "regularization_factors, val_score: 0.535215:  55%|#####5    | 11/20 [03:53<04:10, 27.79s/it]\u001b[A"
     ]
    },
    {
     "name": "stdout",
     "output_type": "stream",
     "text": [
      "Early stopping, best iteration is:\n",
      "[1104]\tvalid_0's rmse: 0.345627\tvalid_1's rmse: 0.53802\n",
      "Training until validation scores don't improve for 100 rounds\n",
      "[100]\tvalid_0's rmse: 0.615124\tvalid_1's rmse: 0.674474\n",
      "[200]\tvalid_0's rmse: 0.499402\tvalid_1's rmse: 0.5694\n",
      "[300]\tvalid_0's rmse: 0.454549\tvalid_1's rmse: 0.545366\n",
      "[400]\tvalid_0's rmse: 0.425923\tvalid_1's rmse: 0.539255\n",
      "[500]\tvalid_0's rmse: 0.402392\tvalid_1's rmse: 0.537442\n",
      "[600]\tvalid_0's rmse: 0.381731\tvalid_1's rmse: 0.536954\n",
      "[700]\tvalid_0's rmse: 0.363074\tvalid_1's rmse: 0.53685\n",
      "[800]\tvalid_0's rmse: 0.34559\tvalid_1's rmse: 0.536942\n"
     ]
    },
    {
     "name": "stderr",
     "output_type": "stream",
     "text": [
      "\n",
      "regularization_factors, val_score: 0.535215:  55%|#####5    | 11/20 [04:14<04:10, 27.79s/it]\u001b[A\n",
      "regularization_factors, val_score: 0.535215:  60%|######    | 12/20 [04:14<03:25, 25.72s/it]\u001b[A[I 2024-06-30 05:26:57,608] Trial 54 finished with value: 0.5367443692655138 and parameters: {'lambda_l1': 0.608466784599591, 'lambda_l2': 8.618641974874267}. Best is trial 49 with value: 0.5352146932532971.\n",
      "\n",
      "regularization_factors, val_score: 0.535215:  60%|######    | 12/20 [04:14<03:25, 25.72s/it]\u001b[A"
     ]
    },
    {
     "name": "stdout",
     "output_type": "stream",
     "text": [
      "Early stopping, best iteration is:\n",
      "[755]\tvalid_0's rmse: 0.353319\tvalid_1's rmse: 0.536744\n",
      "Training until validation scores don't improve for 100 rounds\n",
      "[100]\tvalid_0's rmse: 0.598745\tvalid_1's rmse: 0.664735\n",
      "[200]\tvalid_0's rmse: 0.481256\tvalid_1's rmse: 0.563546\n",
      "[300]\tvalid_0's rmse: 0.436008\tvalid_1's rmse: 0.542824\n",
      "[400]\tvalid_0's rmse: 0.406056\tvalid_1's rmse: 0.538268\n",
      "[500]\tvalid_0's rmse: 0.381105\tvalid_1's rmse: 0.536896\n",
      "[600]\tvalid_0's rmse: 0.359338\tvalid_1's rmse: 0.536379\n"
     ]
    },
    {
     "name": "stderr",
     "output_type": "stream",
     "text": [
      "\n",
      "regularization_factors, val_score: 0.535215:  60%|######    | 12/20 [04:34<03:25, 25.72s/it]\u001b[A\n",
      "regularization_factors, val_score: 0.535215:  65%|######5   | 13/20 [04:34<02:47, 23.98s/it]\u001b[A[I 2024-06-30 05:27:17,591] Trial 55 finished with value: 0.536321229916382 and parameters: {'lambda_l1': 0.07854735515910742, 'lambda_l2': 0.6172050907108984}. Best is trial 49 with value: 0.5352146932532971.\n",
      "\n",
      "regularization_factors, val_score: 0.535215:  65%|######5   | 13/20 [04:34<02:47, 23.98s/it]\u001b[A"
     ]
    },
    {
     "name": "stdout",
     "output_type": "stream",
     "text": [
      "[700]\tvalid_0's rmse: 0.339557\tvalid_1's rmse: 0.536579\n",
      "Early stopping, best iteration is:\n",
      "[607]\tvalid_0's rmse: 0.357931\tvalid_1's rmse: 0.536321\n",
      "Training until validation scores don't improve for 100 rounds\n",
      "[100]\tvalid_0's rmse: 0.597633\tvalid_1's rmse: 0.663829\n",
      "[200]\tvalid_0's rmse: 0.480524\tvalid_1's rmse: 0.562917\n",
      "[300]\tvalid_0's rmse: 0.435301\tvalid_1's rmse: 0.542492\n",
      "[400]\tvalid_0's rmse: 0.405257\tvalid_1's rmse: 0.537904\n",
      "[500]\tvalid_0's rmse: 0.380396\tvalid_1's rmse: 0.536423\n",
      "[600]\tvalid_0's rmse: 0.358516\tvalid_1's rmse: 0.536389\n"
     ]
    },
    {
     "name": "stderr",
     "output_type": "stream",
     "text": [
      "\n",
      "regularization_factors, val_score: 0.535215:  65%|######5   | 13/20 [04:48<02:47, 23.98s/it]\u001b[A\n",
      "regularization_factors, val_score: 0.535215:  70%|#######   | 14/20 [04:48<02:04, 20.81s/it]\u001b[A[I 2024-06-30 05:27:31,085] Trial 56 finished with value: 0.5361863189224503 and parameters: {'lambda_l1': 0.13618704882743662, 'lambda_l2': 0.20805354858448488}. Best is trial 49 with value: 0.5352146932532971.\n",
      "\n",
      "regularization_factors, val_score: 0.535215:  70%|#######   | 14/20 [04:48<02:04, 20.81s/it]\u001b[A"
     ]
    },
    {
     "name": "stdout",
     "output_type": "stream",
     "text": [
      "Early stopping, best iteration is:\n",
      "[530]\tvalid_0's rmse: 0.373638\tvalid_1's rmse: 0.536186\n",
      "Training until validation scores don't improve for 100 rounds\n",
      "[100]\tvalid_0's rmse: 0.631526\tvalid_1's rmse: 0.684085\n",
      "[200]\tvalid_0's rmse: 0.525625\tvalid_1's rmse: 0.578761\n",
      "[300]\tvalid_0's rmse: 0.487012\tvalid_1's rmse: 0.552906\n",
      "[400]\tvalid_0's rmse: 0.463898\tvalid_1's rmse: 0.545193\n",
      "[500]\tvalid_0's rmse: 0.446028\tvalid_1's rmse: 0.542351\n",
      "[600]\tvalid_0's rmse: 0.430639\tvalid_1's rmse: 0.541078\n",
      "[700]\tvalid_0's rmse: 0.416902\tvalid_1's rmse: 0.540106\n",
      "[800]\tvalid_0's rmse: 0.404274\tvalid_1's rmse: 0.539468\n",
      "[900]\tvalid_0's rmse: 0.392696\tvalid_1's rmse: 0.53937\n"
     ]
    },
    {
     "name": "stderr",
     "output_type": "stream",
     "text": [
      "\n",
      "regularization_factors, val_score: 0.535215:  70%|#######   | 14/20 [05:09<02:04, 20.81s/it]\u001b[A\n",
      "regularization_factors, val_score: 0.535215:  75%|#######5  | 15/20 [05:09<01:43, 20.79s/it]\u001b[A[I 2024-06-30 05:27:51,837] Trial 57 finished with value: 0.5392961717032755 and parameters: {'lambda_l1': 7.291140524909203, 'lambda_l2': 9.710038072251539}. Best is trial 49 with value: 0.5352146932532971.\n",
      "\n",
      "regularization_factors, val_score: 0.535215:  75%|#######5  | 15/20 [05:09<01:43, 20.79s/it]\u001b[A"
     ]
    },
    {
     "name": "stdout",
     "output_type": "stream",
     "text": [
      "Early stopping, best iteration is:\n",
      "[824]\tvalid_0's rmse: 0.401391\tvalid_1's rmse: 0.539296\n",
      "Training until validation scores don't improve for 100 rounds\n",
      "[100]\tvalid_0's rmse: 0.596565\tvalid_1's rmse: 0.664165\n",
      "[200]\tvalid_0's rmse: 0.479543\tvalid_1's rmse: 0.563346\n",
      "[300]\tvalid_0's rmse: 0.434042\tvalid_1's rmse: 0.543229\n",
      "[400]\tvalid_0's rmse: 0.403769\tvalid_1's rmse: 0.538493\n",
      "[500]\tvalid_0's rmse: 0.378692\tvalid_1's rmse: 0.537129\n",
      "[600]\tvalid_0's rmse: 0.356749\tvalid_1's rmse: 0.537376\n",
      "Early stopping, best iteration is:\n",
      "[511]\tvalid_0's rmse: 0.376123\tvalid_1's rmse: 0.536946\n"
     ]
    },
    {
     "name": "stderr",
     "output_type": "stream",
     "text": [
      "\n",
      "regularization_factors, val_score: 0.535215:  75%|#######5  | 15/20 [05:26<01:43, 20.79s/it]\u001b[A\n",
      "regularization_factors, val_score: 0.535215:  80%|########  | 16/20 [05:26<01:18, 19.73s/it]\u001b[A[I 2024-06-30 05:28:09,102] Trial 58 finished with value: 0.536945609737284 and parameters: {'lambda_l1': 0.023062471852684827, 'lambda_l2': 2.4534203081154946e-08}. Best is trial 49 with value: 0.5352146932532971.\n",
      "\n",
      "regularization_factors, val_score: 0.535215:  80%|########  | 16/20 [05:26<01:18, 19.73s/it]\u001b[A"
     ]
    },
    {
     "name": "stdout",
     "output_type": "stream",
     "text": [
      "Training until validation scores don't improve for 100 rounds\n",
      "[100]\tvalid_0's rmse: 0.600732\tvalid_1's rmse: 0.665322\n",
      "[200]\tvalid_0's rmse: 0.484103\tvalid_1's rmse: 0.563683\n",
      "[300]\tvalid_0's rmse: 0.439312\tvalid_1's rmse: 0.542888\n",
      "[400]\tvalid_0's rmse: 0.409757\tvalid_1's rmse: 0.538447\n",
      "[500]\tvalid_0's rmse: 0.385266\tvalid_1's rmse: 0.536923\n",
      "[600]\tvalid_0's rmse: 0.363718\tvalid_1's rmse: 0.536682\n",
      "[700]\tvalid_0's rmse: 0.344062\tvalid_1's rmse: 0.536395\n",
      "[800]\tvalid_0's rmse: 0.325893\tvalid_1's rmse: 0.536368\n"
     ]
    },
    {
     "name": "stderr",
     "output_type": "stream",
     "text": [
      "\n",
      "regularization_factors, val_score: 0.535215:  80%|########  | 16/20 [05:40<01:18, 19.73s/it]\u001b[A\n",
      "regularization_factors, val_score: 0.535215:  85%|########5 | 17/20 [05:40<00:54, 18.19s/it]\u001b[A[I 2024-06-30 05:28:23,718] Trial 59 finished with value: 0.5361949843735137 and parameters: {'lambda_l1': 0.6074270403748041, 'lambda_l2': 0.5477240391539882}. Best is trial 49 with value: 0.5352146932532971.\n",
      "\n",
      "regularization_factors, val_score: 0.535215:  85%|########5 | 17/20 [05:40<00:54, 18.19s/it]\u001b[A"
     ]
    },
    {
     "name": "stdout",
     "output_type": "stream",
     "text": [
      "Early stopping, best iteration is:\n",
      "[762]\tvalid_0's rmse: 0.332692\tvalid_1's rmse: 0.536195\n",
      "Training until validation scores don't improve for 100 rounds\n",
      "[100]\tvalid_0's rmse: 0.599795\tvalid_1's rmse: 0.665108\n",
      "[200]\tvalid_0's rmse: 0.482386\tvalid_1's rmse: 0.563276\n",
      "[300]\tvalid_0's rmse: 0.436956\tvalid_1's rmse: 0.542414\n",
      "[400]\tvalid_0's rmse: 0.406909\tvalid_1's rmse: 0.537521\n",
      "[500]\tvalid_0's rmse: 0.382285\tvalid_1's rmse: 0.535945\n",
      "[600]\tvalid_0's rmse: 0.360539\tvalid_1's rmse: 0.535639\n",
      "[700]\tvalid_0's rmse: 0.340796\tvalid_1's rmse: 0.535831\n"
     ]
    },
    {
     "name": "stderr",
     "output_type": "stream",
     "text": [
      "\n",
      "regularization_factors, val_score: 0.535215:  85%|########5 | 17/20 [05:56<00:54, 18.19s/it]\u001b[A\n",
      "regularization_factors, val_score: 0.535215:  90%|######### | 18/20 [05:56<00:35, 17.53s/it]\u001b[A[I 2024-06-30 05:28:39,688] Trial 60 finished with value: 0.5355877901236611 and parameters: {'lambda_l1': 0.0006992336189555155, 'lambda_l2': 1.0800215430247846}. Best is trial 49 with value: 0.5352146932532971.\n",
      "\n",
      "regularization_factors, val_score: 0.535215:  90%|######### | 18/20 [05:56<00:35, 17.53s/it]\u001b[A"
     ]
    },
    {
     "name": "stdout",
     "output_type": "stream",
     "text": [
      "Early stopping, best iteration is:\n",
      "[626]\tvalid_0's rmse: 0.355297\tvalid_1's rmse: 0.535588\n",
      "Training until validation scores don't improve for 100 rounds\n",
      "[100]\tvalid_0's rmse: 0.600165\tvalid_1's rmse: 0.665228\n",
      "[200]\tvalid_0's rmse: 0.482768\tvalid_1's rmse: 0.563826\n",
      "[300]\tvalid_0's rmse: 0.437458\tvalid_1's rmse: 0.543075\n",
      "[400]\tvalid_0's rmse: 0.407487\tvalid_1's rmse: 0.53824\n",
      "[500]\tvalid_0's rmse: 0.382752\tvalid_1's rmse: 0.536675\n",
      "[600]\tvalid_0's rmse: 0.360992\tvalid_1's rmse: 0.536593\n",
      "Early stopping, best iteration is:\n",
      "[511]\tvalid_0's rmse: 0.380222\tvalid_1's rmse: 0.536492\n"
     ]
    },
    {
     "name": "stderr",
     "output_type": "stream",
     "text": [
      "\n",
      "regularization_factors, val_score: 0.535215:  90%|######### | 18/20 [06:10<00:35, 17.53s/it]\u001b[A\n",
      "regularization_factors, val_score: 0.535215:  95%|#########5| 19/20 [06:10<00:16, 16.23s/it]\u001b[A[I 2024-06-30 05:28:52,915] Trial 61 finished with value: 0.5364921070318418 and parameters: {'lambda_l1': 0.0022292357726306365, 'lambda_l2': 1.2573945803917879}. Best is trial 49 with value: 0.5352146932532971.\n",
      "\n",
      "regularization_factors, val_score: 0.535215:  95%|#########5| 19/20 [06:10<00:16, 16.23s/it]\u001b[A"
     ]
    },
    {
     "name": "stdout",
     "output_type": "stream",
     "text": [
      "Training until validation scores don't improve for 100 rounds\n",
      "[100]\tvalid_0's rmse: 0.596436\tvalid_1's rmse: 0.663827\n",
      "[200]\tvalid_0's rmse: 0.479243\tvalid_1's rmse: 0.563122\n",
      "[300]\tvalid_0's rmse: 0.43368\tvalid_1's rmse: 0.542999\n",
      "[400]\tvalid_0's rmse: 0.403344\tvalid_1's rmse: 0.538255\n",
      "[500]\tvalid_0's rmse: 0.378243\tvalid_1's rmse: 0.536892\n"
     ]
    },
    {
     "name": "stderr",
     "output_type": "stream",
     "text": [
      "\n",
      "regularization_factors, val_score: 0.535215:  95%|#########5| 19/20 [06:17<00:16, 16.23s/it]\u001b[A\n",
      "regularization_factors, val_score: 0.535215: 100%|##########| 20/20 [06:17<00:00, 13.62s/it]\u001b[A[I 2024-06-30 05:29:00,447] Trial 62 finished with value: 0.5367257713748101 and parameters: {'lambda_l1': 0.00013654466771549495, 'lambda_l2': 0.007524272446969291}. Best is trial 49 with value: 0.5352146932532971.\n",
      "regularization_factors, val_score: 0.535215: 100%|##########| 20/20 [06:17<00:00, 18.88s/it]\n"
     ]
    },
    {
     "name": "stdout",
     "output_type": "stream",
     "text": [
      "[600]\tvalid_0's rmse: 0.356387\tvalid_1's rmse: 0.537271\n",
      "Early stopping, best iteration is:\n",
      "[509]\tvalid_0's rmse: 0.376134\tvalid_1's rmse: 0.536726\n"
     ]
    },
    {
     "name": "stderr",
     "output_type": "stream",
     "text": [
      "\n",
      "  0%|          | 0/5 [00:00<?, ?it/s]\u001b[A\n",
      "min_child_samples, val_score: 0.535215:   0%|          | 0/5 [00:00<?, ?it/s]\u001b[A"
     ]
    },
    {
     "name": "stdout",
     "output_type": "stream",
     "text": [
      "Training until validation scores don't improve for 100 rounds\n",
      "[100]\tvalid_0's rmse: 0.610031\tvalid_1's rmse: 0.669324\n",
      "[200]\tvalid_0's rmse: 0.494771\tvalid_1's rmse: 0.565439\n",
      "[300]\tvalid_0's rmse: 0.450481\tvalid_1's rmse: 0.542868\n",
      "[400]\tvalid_0's rmse: 0.42178\tvalid_1's rmse: 0.537263\n",
      "[500]\tvalid_0's rmse: 0.398025\tvalid_1's rmse: 0.535922\n",
      "[600]\tvalid_0's rmse: 0.376929\tvalid_1's rmse: 0.535466\n",
      "[700]\tvalid_0's rmse: 0.357765\tvalid_1's rmse: 0.535356\n",
      "[800]\tvalid_0's rmse: 0.34\tvalid_1's rmse: 0.535424\n",
      "[900]\tvalid_0's rmse: 0.323713\tvalid_1's rmse: 0.53509\n",
      "[1000]\tvalid_0's rmse: 0.308359\tvalid_1's rmse: 0.53493\n",
      "[1100]\tvalid_0's rmse: 0.294007\tvalid_1's rmse: 0.534857\n"
     ]
    },
    {
     "name": "stderr",
     "output_type": "stream",
     "text": [
      "\n",
      "min_child_samples, val_score: 0.534698:   0%|          | 0/5 [00:16<?, ?it/s]\u001b[A\n",
      "min_child_samples, val_score: 0.534698:  20%|##        | 1/5 [00:16<01:04, 16.18s/it]\u001b[A[I 2024-06-30 05:29:16,646] Trial 63 finished with value: 0.5346975214694574 and parameters: {'min_child_samples': 25}. Best is trial 63 with value: 0.5346975214694574.\n",
      "\n",
      "min_child_samples, val_score: 0.534698:  20%|##        | 1/5 [00:16<01:04, 16.18s/it]\u001b[A"
     ]
    },
    {
     "name": "stdout",
     "output_type": "stream",
     "text": [
      "Early stopping, best iteration is:\n",
      "[1065]\tvalid_0's rmse: 0.298931\tvalid_1's rmse: 0.534698\n",
      "Training until validation scores don't improve for 100 rounds\n",
      "[100]\tvalid_0's rmse: 0.622816\tvalid_1's rmse: 0.670343\n",
      "[200]\tvalid_0's rmse: 0.519332\tvalid_1's rmse: 0.565833\n",
      "[300]\tvalid_0's rmse: 0.483863\tvalid_1's rmse: 0.543105\n",
      "[400]\tvalid_0's rmse: 0.462752\tvalid_1's rmse: 0.537206\n",
      "[500]\tvalid_0's rmse: 0.44525\tvalid_1's rmse: 0.535863\n",
      "[600]\tvalid_0's rmse: 0.429593\tvalid_1's rmse: 0.535434\n",
      "[700]\tvalid_0's rmse: 0.415237\tvalid_1's rmse: 0.535281\n",
      "[800]\tvalid_0's rmse: 0.401744\tvalid_1's rmse: 0.535198\n"
     ]
    },
    {
     "name": "stderr",
     "output_type": "stream",
     "text": [
      "\n",
      "min_child_samples, val_score: 0.534698:  20%|##        | 1/5 [00:30<01:04, 16.18s/it]\u001b[A\n",
      "min_child_samples, val_score: 0.534698:  40%|####      | 2/5 [00:30<00:44, 14.90s/it]\u001b[A[I 2024-06-30 05:29:30,640] Trial 64 finished with value: 0.5349954572015105 and parameters: {'min_child_samples': 100}. Best is trial 63 with value: 0.5346975214694574.\n",
      "\n",
      "min_child_samples, val_score: 0.534698:  40%|####      | 2/5 [00:30<00:44, 14.90s/it]\u001b[A"
     ]
    },
    {
     "name": "stdout",
     "output_type": "stream",
     "text": [
      "Early stopping, best iteration is:\n",
      "[777]\tvalid_0's rmse: 0.40481\tvalid_1's rmse: 0.534995\n",
      "Training until validation scores don't improve for 100 rounds\n",
      "[100]\tvalid_0's rmse: 0.607818\tvalid_1's rmse: 0.669439\n",
      "[200]\tvalid_0's rmse: 0.4911\tvalid_1's rmse: 0.56626\n",
      "[300]\tvalid_0's rmse: 0.446017\tvalid_1's rmse: 0.544229\n",
      "[400]\tvalid_0's rmse: 0.417029\tvalid_1's rmse: 0.539081\n",
      "[500]\tvalid_0's rmse: 0.392959\tvalid_1's rmse: 0.537339\n",
      "[600]\tvalid_0's rmse: 0.371907\tvalid_1's rmse: 0.53651\n",
      "[700]\tvalid_0's rmse: 0.352546\tvalid_1's rmse: 0.536354\n",
      "[800]\tvalid_0's rmse: 0.3347\tvalid_1's rmse: 0.536394\n"
     ]
    },
    {
     "name": "stderr",
     "output_type": "stream",
     "text": [
      "\n",
      "min_child_samples, val_score: 0.534698:  40%|####      | 2/5 [00:49<00:44, 14.90s/it]\u001b[A\n",
      "min_child_samples, val_score: 0.534698:  60%|######    | 3/5 [00:49<00:34, 17.12s/it]\u001b[A[I 2024-06-30 05:29:50,412] Trial 65 finished with value: 0.5361508855857123 and parameters: {'min_child_samples': 5}. Best is trial 63 with value: 0.5346975214694574.\n",
      "\n",
      "min_child_samples, val_score: 0.534698:  60%|######    | 3/5 [00:49<00:34, 17.12s/it]\u001b[A"
     ]
    },
    {
     "name": "stdout",
     "output_type": "stream",
     "text": [
      "Early stopping, best iteration is:\n",
      "[776]\tvalid_0's rmse: 0.338907\tvalid_1's rmse: 0.536151\n",
      "Training until validation scores don't improve for 100 rounds\n",
      "[100]\tvalid_0's rmse: 0.613539\tvalid_1's rmse: 0.669411\n",
      "[200]\tvalid_0's rmse: 0.500771\tvalid_1's rmse: 0.565352\n",
      "[300]\tvalid_0's rmse: 0.458251\tvalid_1's rmse: 0.5427\n",
      "[400]\tvalid_0's rmse: 0.430898\tvalid_1's rmse: 0.53756\n",
      "[500]\tvalid_0's rmse: 0.408098\tvalid_1's rmse: 0.536151\n",
      "[600]\tvalid_0's rmse: 0.387676\tvalid_1's rmse: 0.535625\n",
      "[700]\tvalid_0's rmse: 0.368997\tvalid_1's rmse: 0.535389\n",
      "[800]\tvalid_0's rmse: 0.351589\tvalid_1's rmse: 0.535391\n"
     ]
    },
    {
     "name": "stderr",
     "output_type": "stream",
     "text": [
      "\n",
      "min_child_samples, val_score: 0.534698:  60%|######    | 3/5 [01:07<00:34, 17.12s/it]\u001b[A\n",
      "min_child_samples, val_score: 0.534698:  80%|########  | 4/5 [01:07<00:17, 17.17s/it]\u001b[A[I 2024-06-30 05:30:07,663] Trial 66 finished with value: 0.5351612583284909 and parameters: {'min_child_samples': 50}. Best is trial 63 with value: 0.5346975214694574.\n",
      "\n",
      "min_child_samples, val_score: 0.534698:  80%|########  | 4/5 [01:07<00:17, 17.17s/it]\u001b[A"
     ]
    },
    {
     "name": "stdout",
     "output_type": "stream",
     "text": [
      "Early stopping, best iteration is:\n",
      "[729]\tvalid_0's rmse: 0.363871\tvalid_1's rmse: 0.535161\n",
      "Training until validation scores don't improve for 100 rounds\n",
      "[100]\tvalid_0's rmse: 0.608376\tvalid_1's rmse: 0.669125\n",
      "[200]\tvalid_0's rmse: 0.49179\tvalid_1's rmse: 0.56592\n",
      "[300]\tvalid_0's rmse: 0.446797\tvalid_1's rmse: 0.543626\n",
      "[400]\tvalid_0's rmse: 0.417848\tvalid_1's rmse: 0.538285\n",
      "[500]\tvalid_0's rmse: 0.393762\tvalid_1's rmse: 0.53681\n",
      "[600]\tvalid_0's rmse: 0.372652\tvalid_1's rmse: 0.53577\n",
      "[700]\tvalid_0's rmse: 0.353372\tvalid_1's rmse: 0.535489\n",
      "[800]\tvalid_0's rmse: 0.335548\tvalid_1's rmse: 0.535484\n"
     ]
    },
    {
     "name": "stderr",
     "output_type": "stream",
     "text": [
      "\n",
      "min_child_samples, val_score: 0.534698:  80%|########  | 4/5 [01:19<00:17, 17.17s/it]\u001b[A\n",
      "min_child_samples, val_score: 0.534698: 100%|##########| 5/5 [01:19<00:00, 15.31s/it]\u001b[A[I 2024-06-30 05:30:19,669] Trial 67 finished with value: 0.5352146932532971 and parameters: {'min_child_samples': 10}. Best is trial 63 with value: 0.5346975214694574.\n",
      "min_child_samples, val_score: 0.534698: 100%|##########| 5/5 [01:19<00:00, 15.84s/it]"
     ]
    },
    {
     "name": "stdout",
     "output_type": "stream",
     "text": [
      "Early stopping, best iteration is:\n",
      "[761]\tvalid_0's rmse: 0.342329\tvalid_1's rmse: 0.535215\n",
      "Best params: {'objective': 'regression', 'metric': 'rmse', 'max_depth': -1, 'num_leaves': 78, 'learning_rate': 0.01, 'bagging_freq': 1, 'feature_fraction': 0.9159999999999999, 'bagging_fraction': 0.6467117436141725, 'verbose': -1, 'seed': 42, 'lambda_l1': 0.4897913127921953, 'lambda_l2': 4.207892844613314, 'feature_pre_filter': False, 'min_child_samples': 25, 'num_iterations': 10000}\n"
     ]
    },
    {
     "name": "stderr",
     "output_type": "stream",
     "text": [
      "\n"
     ]
    }
   ],
   "source": [
    "models = []\n",
    "oofs = []\n",
    "\n",
    "# Cross Validationによる学習の実施\n",
    "for fold in range(N_FOLD):\n",
    "    print(f\"Start fold {fold}\")\n",
    "\n",
    "    # foldごとにtrainとvalidに分ける\n",
    "    train_fold = train.filter(pl.col(\"fold\") != fold)\n",
    "    valid_fold = train.filter(pl.col(\"fold\") == fold)\n",
    "\n",
    "    # X(説明変数)とy(目的変数)に分ける\n",
    "    X_train = train_fold.select(USE_COL)\n",
    "    X_valid = valid_fold.select(USE_COL)\n",
    "    y_train = train_fold.select(TARGET_COL)\n",
    "    y_valid = valid_fold.select(TARGET_COL)\n",
    "\n",
    "    # LightGBMが認識可能な形にデータセットを変換\n",
    "    # polars.DataFrame から pandas.DataFrame への変更を行っている\n",
    "    lgb_train = lgb.Dataset(X_train.to_pandas(), y_train.to_pandas())\n",
    "    lgb_eval = lgb.Dataset(\n",
    "        X_valid.to_pandas(), y_valid.to_pandas(), reference=lgb_train\n",
    "    )\n",
    "\n",
    "    # モデルの学習\n",
    "    model = lgb.train(\n",
    "        params,\n",
    "        lgb_train,\n",
    "        num_boost_round=10000,  # 学習のiteration回数\n",
    "        valid_sets=[lgb_train, lgb_eval],\n",
    "        callbacks=[\n",
    "            early_stopping(\n",
    "                stopping_rounds=100\n",
    "            ),  # Early stopingの回数、binary_loglossが改善しないiterationが100回続いたら学習を止める\n",
    "            log_evaluation(100),  # 指定したiteration回数ごとにlogを出力する\n",
    "            # wandb_callback()\n",
    "        ],\n",
    "    )\n",
    "\n",
    "    # tuningした結果を表示\n",
    "    best_params = model.params\n",
    "    print(\"Best params:\", best_params)\n",
    "    \n",
    "    # W&Bに特徴量重要度図をログし、モデルのチェックポイントをアップロード\n",
    "    log_summary(model, save_model_checkpoint=True)\n",
    "    \n",
    "    with open(f\"{MODEL_OUTPUT_PATH}/model_{fold}.pkl\", \"wb\") as f:\n",
    "        pickle.dump(model, f)\n",
    "\n",
    "    # モデルを保存\n",
    "    models.append([fold, model])\n",
    "\n",
    "    # valid データに対する推論\n",
    "    y_valid_pred = model.predict(X_valid.to_pandas())\n",
    "\n",
    "    # OOF に推論結果を保存\n",
    "    oof_per_fold = valid_fold.select(\"score\").with_columns(\n",
    "        pl.Series(y_valid_pred).alias(\"valid_pred\")\n",
    "    )\n",
    "    oofs.append(oof_per_fold)\n",
    "\n",
    "oof = pl.concat(oofs)"
   ]
  },
  {
   "cell_type": "code",
   "execution_count": 90,
   "metadata": {
    "tags": []
   },
   "outputs": [
    {
     "name": "stdout",
     "output_type": "stream",
     "text": [
      "0 {'objective': 'regression', 'metric': 'rmse', 'max_depth': -1, 'num_leaves': 24, 'learning_rate': 0.01, 'bagging_freq': 7, 'feature_fraction': 0.9799999999999999, 'bagging_fraction': 0.9986293054420182, 'verbose': -1, 'seed': 42, 'lambda_l1': 0.4060949238418218, 'lambda_l2': 0.0022010253619633444, 'feature_pre_filter': False, 'min_child_samples': 25, 'num_iterations': 10000}\n",
      "1 {'objective': 'regression', 'metric': 'rmse', 'max_depth': -1, 'num_leaves': 72, 'learning_rate': 0.01, 'bagging_freq': 5, 'feature_fraction': 1.0, 'bagging_fraction': 0.6, 'verbose': -1, 'seed': 42, 'lambda_l1': 0.4, 'lambda_l2': 0.4, 'feature_pre_filter': False, 'min_child_samples': 10, 'num_iterations': 10000}\n",
      "2 {'objective': 'regression', 'metric': 'rmse', 'max_depth': -1, 'num_leaves': 78, 'learning_rate': 0.01, 'bagging_freq': 1, 'feature_fraction': 0.9159999999999999, 'bagging_fraction': 0.6467117436141725, 'verbose': -1, 'seed': 42, 'lambda_l1': 0.4897913127921953, 'lambda_l2': 4.207892844613314, 'feature_pre_filter': False, 'min_child_samples': 25, 'num_iterations': 10000}\n"
     ]
    }
   ],
   "source": [
    "for i in range(N_FOLD):\n",
    "    print(i, models[i][1].params)"
   ]
  },
  {
   "cell_type": "markdown",
   "metadata": {},
   "source": [
    "# 特徴量重要度の計算"
   ]
  },
  {
   "cell_type": "code",
   "execution_count": 91,
   "metadata": {},
   "outputs": [
    {
     "name": "stderr",
     "output_type": "stream",
     "text": [
      "/usr/local/lib/python3.11/dist-packages/wandb/sdk/wandb_run.py:2265: UserWarning: Run (eln7vaff) is finished. The call to `_console_raw_callback` will be ignored. Please make sure that you are using an active run.\n",
      "  lambda data: self._console_raw_callback(\"stderr\", data),\n",
      "regularization_factors, val_score: 0.597154:   0%|          | 0/20 [40:41<?, ?it/s]\n"
     ]
    },
    {
     "data": {
      "image/png": "[encoded data removed]",
      "text/plain": [
       "<Figure size 800x2000 with 1 Axes>"
      ]
     },
     "metadata": {},
     "output_type": "display_data"
    }
   ],
   "source": [
    "import pandas as pd\n",
    "import matplotlib.pyplot as plt\n",
    "import seaborn as sns\n",
    "\n",
    "# 特徴量重要度を列にもつDataFrameを作成\n",
    "feature_importances = [\n",
    "    model.feature_importance(importance_type=\"gain\") for _, model in models\n",
    "]\n",
    "feature_importances_df = pd.DataFrame(feature_importances, columns=USE_COL)\n",
    "\n",
    "# 表示する順番を指定、特徴量重要度の平均が大きい順に並ぶよう計算\n",
    "order = feature_importances_df.mean().sort_values(ascending=False).index.tolist()\n",
    "\n",
    "# 表示\n",
    "# fold毎の特徴量重要度のばらつきを見るために、箱ひげ図を利用\n",
    "plt.figure(figsize=(8, 20))\n",
    "sns.boxplot(data=feature_importances_df, orient=\"h\", order=order)\n",
    "plt.savefig(f\"{MODEL_OUTPUT_PATH}/feature_importance.png\")"
   ]
  },
  {
   "cell_type": "markdown",
   "metadata": {},
   "source": [
    "# CVの計算"
   ]
  },
  {
   "cell_type": "code",
   "execution_count": 92,
   "metadata": {},
   "outputs": [
    {
     "name": "stdout",
     "output_type": "stream",
     "text": [
      "OOF CV Score by round: 0.7994319293711503\n"
     ]
    }
   ],
   "source": [
    "cv_score = cohen_kappa_score(\n",
    "    oof[\"score\"],\n",
    "    np.clip(oof[\"valid_pred\"], 1, 6).round(),\n",
    "    weights=\"quadratic\",\n",
    ")\n",
    "print(f\"OOF CV Score by round: {cv_score}\")"
   ]
  },
  {
   "cell_type": "code",
   "execution_count": 93,
   "metadata": {},
   "outputs": [],
   "source": [
    "# https://qiita.com/kaggle_grandmaster-arai-san/items/d59b2fb7142ec7e270a5#optimizedrounder\n",
    "class OptimizedRounder:\n",
    "    def __init__(self):\n",
    "        self.coef_ = 0\n",
    "\n",
    "    def _kappa_loss(self, coef, X, y):\n",
    "        X_p = np.copy(X)\n",
    "        for i, pred in enumerate(X_p):\n",
    "            if pred < coef[0]:\n",
    "                X_p[i] = 1\n",
    "            elif pred >= coef[0] and pred < coef[1]:\n",
    "                X_p[i] = 2\n",
    "            elif pred >= coef[1] and pred < coef[2]:\n",
    "                X_p[i] = 3\n",
    "            elif pred >= coef[2] and pred < coef[3]:\n",
    "                X_p[i] = 4\n",
    "            elif pred >= coef[3] and pred < coef[4]:\n",
    "                X_p[i] = 5\n",
    "            else:\n",
    "                X_p[i] = 6\n",
    "\n",
    "        ll = cohen_kappa_score(y, X_p, weights=\"quadratic\")\n",
    "        return -ll\n",
    "\n",
    "    def fit(self, X, y):\n",
    "        loss_partial = partial(self._kappa_loss, X=X, y=y)\n",
    "        initial_coef = [1.5, 2.5, 3.5, 4.5, 5.5]\n",
    "        self.coef_ = sp.optimize.minimize(\n",
    "            loss_partial, initial_coef, method=\"nelder-mead\"\n",
    "        )\n",
    "\n",
    "    def predict(self, X, coef):\n",
    "        X_p = np.copy(X)\n",
    "        for i, pred in enumerate(X_p):\n",
    "            if pred < coef[0]:\n",
    "                X_p[i] = 1\n",
    "            elif pred >= coef[0] and pred < coef[1]:\n",
    "                X_p[i] = 2\n",
    "            elif pred >= coef[1] and pred < coef[2]:\n",
    "                X_p[i] = 3\n",
    "            elif pred >= coef[2] and pred < coef[3]:\n",
    "                X_p[i] = 4\n",
    "            elif pred >= coef[3] and pred < coef[4]:\n",
    "                X_p[i] = 5\n",
    "            else:\n",
    "                X_p[i] = 6\n",
    "        return X_p\n",
    "\n",
    "    @property\n",
    "    def coefficients(self):\n",
    "        return self.coef_[\"x\"]"
   ]
  },
  {
   "cell_type": "code",
   "execution_count": 94,
   "metadata": {},
   "outputs": [
    {
     "name": "stdout",
     "output_type": "stream",
     "text": [
      "[1.71756207 2.53409747 3.39177149 4.23233654 4.93872488]\n",
      "OOF CV Score by NelderMead: 0.8187249180348785\n"
     ]
    }
   ],
   "source": [
    "optR = OptimizedRounder()\n",
    "optR.fit(oof[\"valid_pred\"], oof[\"score\"])\n",
    "print(optR.coefficients)\n",
    "\n",
    "optimized_valid_pred = optR.predict(oof[\"valid_pred\"], optR.coefficients)\n",
    "np.save(f\"{MODEL_OUTPUT_PATH}/opt_thr.npy\", optR.coefficients)\n",
    "\n",
    "cv_score = cohen_kappa_score(oof[\"score\"], optimized_valid_pred, weights=\"quadratic\")\n",
    "\n",
    "print(f\"OOF CV Score by NelderMead: {cv_score}\")\n",
    "\n",
    "# output_textを保存\n",
    "with open(f\"{MODEL_OUTPUT_PATH}/cv_score.txt\", \"w\") as f:\n",
    "    f.write(str(cv_score))"
   ]
  },
  {
   "cell_type": "markdown",
   "metadata": {},
   "source": [
    "# 混同行列の計算"
   ]
  },
  {
   "cell_type": "code",
   "execution_count": 77,
   "metadata": {},
   "outputs": [
    {
     "data": {
      "image/png": "[encoded data removed]",
      "text/plain": [
       "<Figure size 640x480 with 2 Axes>"
      ]
     },
     "metadata": {},
     "output_type": "display_data"
    }
   ],
   "source": [
    "import matplotlib.pyplot as plt\n",
    "from sklearn.metrics import confusion_matrix, ConfusionMatrixDisplay\n",
    "\n",
    "cm = confusion_matrix(\n",
    "    oof[\"score\"],\n",
    "    optimized_valid_pred,\n",
    "    labels=[x for x in range(1, 7)],\n",
    ")\n",
    "\n",
    "draw_cm = ConfusionMatrixDisplay(\n",
    "    confusion_matrix=cm, display_labels=[x for x in range(1, 7)]\n",
    ")\n",
    "\n",
    "draw_cm.plot()\n",
    "plt.savefig(f\"{MODEL_OUTPUT_PATH}/confusion_matrix.png\")\n",
    "plt.show()"
   ]
  },
  {
   "cell_type": "markdown",
   "metadata": {},
   "source": [
    "# Kaggleへのアップロード"
   ]
  },
  {
   "cell_type": "code",
   "execution_count": 78,
   "metadata": {},
   "outputs": [
    {
     "name": "stdout",
     "output_type": "stream",
     "text": [
      "Create Dataset name:e107-s-sl-g-p-optuna-lightgbm, output_dir:../../trained_models/e107-s-sl-g-p-optuna\n",
      "Starting upload for file cv_score.txt\n"
     ]
    },
    {
     "name": "stderr",
     "output_type": "stream",
     "text": [
      "\n",
      "100%|██████████| 18.0/18.0 [00:00<00:00, 56.6B/s]\n"
     ]
    },
    {
     "name": "stdout",
     "output_type": "stream",
     "text": [
      "Upload successful: cv_score.txt (18B)\n",
      "Starting upload for file model_1.pkl\n"
     ]
    },
    {
     "name": "stderr",
     "output_type": "stream",
     "text": [
      "\n",
      "  0%|          | 0.00/2.32M [00:00<?, ?B/s]\u001b[A\n",
      "100%|██████████| 2.32M/2.32M [00:00<00:00, 6.18MB/s][A\n"
     ]
    },
    {
     "name": "stdout",
     "output_type": "stream",
     "text": [
      "Upload successful: model_1.pkl (2MB)\n",
      "Starting upload for file feature_importance.png\n"
     ]
    },
    {
     "name": "stderr",
     "output_type": "stream",
     "text": [
      "\n",
      "100%|██████████| 228k/228k [00:00<00:00, 678kB/s]\n"
     ]
    },
    {
     "name": "stdout",
     "output_type": "stream",
     "text": [
      "Upload successful: feature_importance.png (228KB)\n",
      "Starting upload for file model_2.pkl\n"
     ]
    },
    {
     "name": "stderr",
     "output_type": "stream",
     "text": [
      "\n",
      "  0%|          | 0.00/7.14M [00:00<?, ?B/s]\u001b[A\n",
      "  3%|▎         | 224k/7.14M [00:00<00:03, 2.18MB/s]\u001b[A\n",
      "100%|██████████| 7.14M/7.14M [00:00<00:00, 15.6MB/s]\u001b[A\n"
     ]
    },
    {
     "name": "stdout",
     "output_type": "stream",
     "text": [
      "Upload successful: model_2.pkl (7MB)\n",
      "Starting upload for file confusion_matrix.png\n"
     ]
    },
    {
     "name": "stderr",
     "output_type": "stream",
     "text": [
      "\n",
      "100%|██████████| 32.4k/32.4k [00:00<00:00, 95.2kB/s]\n"
     ]
    },
    {
     "name": "stdout",
     "output_type": "stream",
     "text": [
      "Upload successful: confusion_matrix.png (32KB)\n",
      "Starting upload for file opt_thr.npy\n"
     ]
    },
    {
     "name": "stderr",
     "output_type": "stream",
     "text": [
      "\n",
      "100%|██████████| 168/168 [00:00<00:00, 457B/s]\n"
     ]
    },
    {
     "name": "stdout",
     "output_type": "stream",
     "text": [
      "Upload successful: opt_thr.npy (168B)\n",
      "Starting upload for file model_0.pkl\n"
     ]
    },
    {
     "name": "stderr",
     "output_type": "stream",
     "text": [
      "\n",
      "  0%|          | 0.00/679k [00:00<?, ?B/s]\u001b[A\n",
      "100%|██████████| 679k/679k [00:00<00:00, 1.98MB/s]\u001b[A\n"
     ]
    },
    {
     "name": "stdout",
     "output_type": "stream",
     "text": [
      "Upload successful: model_0.pkl (679KB)\n"
     ]
    }
   ],
   "source": [
    "if UPLOAD_DATA_TO_KAGGLE:\n",
    "    import os\n",
    "    import json\n",
    "\n",
    "    from kaggle.api.kaggle_api_extended import KaggleApi\n",
    "\n",
    "    def dataset_create_new(dataset_name: str, upload_dir: str):\n",
    "        # if \"_\" in dataset_name:\n",
    "        #     raise ValueError(\"datasetの名称に_の使用は禁止です\")\n",
    "        dataset_metadata = {}\n",
    "        dataset_metadata[\"id\"] = f\"sinchir0/{dataset_name}\"\n",
    "        dataset_metadata[\"licenses\"] = [{\"name\": \"CC0-1.0\"}]\n",
    "        dataset_metadata[\"title\"] = dataset_name\n",
    "        with open(os.path.join(upload_dir, \"dataset-metadata.json\"), \"w\") as f:\n",
    "            json.dump(dataset_metadata, f, indent=4)\n",
    "        api = KaggleApi()\n",
    "        api.authenticate()\n",
    "        api.dataset_create_new(folder=upload_dir, convert_to_csv=False, dir_mode=\"tar\")\n",
    "\n",
    "    print(f\"Create Dataset name:{DATASET_NAME}, output_dir:{MODEL_OUTPUT_PATH}\")\n",
    "    dataset_create_new(dataset_name=DATASET_NAME, upload_dir=MODEL_OUTPUT_PATH)"
   ]
  },
  {
   "cell_type": "code",
   "execution_count": 95,
   "metadata": {
    "tags": []
   },
   "outputs": [
    {
     "data": {
      "application/vnd.jupyter.widget-view+json": {
       "model_id": "",
       "version_major": 2,
       "version_minor": 0
      },
      "text/plain": [
       "VBox(children=(Label(value='10.137 MB of 10.137 MB uploaded\\r'), FloatProgress(value=1.0, max=1.0)))"
      ]
     },
     "metadata": {},
     "output_type": "display_data"
    },
    {
     "data": {
      "text/html": [
       "<style>\n",
       "    table.wandb td:nth-child(1) { padding: 0 10px; text-align: left ; width: auto;} td:nth-child(2) {text-align: left ; width: 100%}\n",
       "    .wandb-row { display: flex; flex-direction: row; flex-wrap: wrap; justify-content: flex-start; width: 100% }\n",
       "    .wandb-col { display: flex; flex-direction: column; flex-basis: 100%; flex: 1; padding: 10px; }\n",
       "    </style>\n",
       "<div class=\"wandb-row\"><div class=\"wandb-col\"><h3>Run summary:</h3><br/><table class=\"wandb\"><tr><td>best_iteration</td><td>1065</td></tr></table><br/></div></div>"
      ],
      "text/plain": [
       "<IPython.core.display.HTML object>"
      ]
     },
     "metadata": {},
     "output_type": "display_data"
    },
    {
     "data": {
      "text/html": [
       " View run <strong style=\"color:#cdcd00\">e107-s-sl-g-p-optuna</strong> at: <a href='https://wandb.ai/sinchir0/automated_essay_scoring/runs/wyjah980' target=\"_blank\">https://wandb.ai/sinchir0/automated_essay_scoring/runs/wyjah980</a><br/> View project at: <a href='https://wandb.ai/sinchir0/automated_essay_scoring' target=\"_blank\">https://wandb.ai/sinchir0/automated_essay_scoring</a><br/>Synced 5 W&B file(s), 3 media file(s), 8 artifact file(s) and 3 other file(s)"
      ],
      "text/plain": [
       "<IPython.core.display.HTML object>"
      ]
     },
     "metadata": {},
     "output_type": "display_data"
    },
    {
     "data": {
      "text/html": [
       "Find logs at: <code>./wandb/run-20240630_045349-wyjah980/logs</code>"
      ],
      "text/plain": [
       "<IPython.core.display.HTML object>"
      ]
     },
     "metadata": {},
     "output_type": "display_data"
    }
   ],
   "source": [
    "if WANDB:\n",
    "    wandb.finish()"
   ]
  },
  {
   "cell_type": "code",
   "execution_count": null,
   "metadata": {},
   "outputs": [],
   "source": []
  }
 ],
 "metadata": {
  "kernelspec": {
   "display_name": "Python 3 (ipykernel)",
   "language": "python",
   "name": "python3"
  },
  "language_info": {
   "codemirror_mode": {
    "name": "ipython",
    "version": 3
   },
   "file_extension": ".py",
   "mimetype": "text/x-python",
   "name": "python",
   "nbconvert_exporter": "python",
   "pygments_lexer": "ipython3",
   "version": "3.11.7"
  }
 },
 "nbformat": 4,
 "nbformat_minor": 4
}
