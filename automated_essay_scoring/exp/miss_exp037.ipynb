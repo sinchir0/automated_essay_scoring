{
 "cells": [
  {
   "cell_type": "markdown",
   "metadata": {},
   "source": [
    "#  目的\n",
    "LSTM"
   ]
  },
  {
   "cell_type": "code",
   "execution_count": 35,
   "metadata": {
    "tags": []
   },
   "outputs": [],
   "source": [
    "# path setting\n",
    "EXP_NAME = \"e037-lstm\"\n",
    "MODEL_NAME = \"microsoft/deberta-v3-xsmall\"\n",
    "COMPETITION_NAME = \"automated_essay_scoring\"\n",
    "\n",
    "DATA_PATH = \"data\"\n",
    "DATASET_NAME = f\"{EXP_NAME}-{MODEL_NAME.split('/')[-1]}\"\n",
    "MODEL_OUTPUT_PATH = f\"trained_models/{EXP_NAME}\"\n",
    "\n",
    "# experiment parameter\n",
    "DEBUG = False\n",
    "TRAINING = True\n",
    "UPLOAD_DATA_TO_S3 = True\n",
    "UPLOAD_DATA_TO_KAGGLE = True\n",
    "WANDB = False\n",
    "\n",
    "# model parameter\n",
    "# TRAINING_MAX_LENGTH= 512\n",
    "TRAINING_MAX_LENGTH = 1024\n",
    "INFERENCE_MAX_LENGTH = 1536\n",
    "SEED = 42\n",
    "EPOCH = 4\n",
    "LR = 2e-05\n",
    "TRAIN_BS = 8\n",
    "GRAD_ACC_NUM = 16\n",
    "EVAL_BS = 8\n",
    "SAVE_STEP = 0.1\n",
    "EVAL_STEP = 0.1\n",
    "LR_SCHE_TYPE = \"linear\"\n",
    "\n",
    "IS_BIDIRECTIONAL = True\n",
    "\n",
    "# TRAINED_MODEL_PATH = (\n",
    "#     \"/notebooks/\" + \"automated_essay_scoring/trained_models/e016-not-use-dropout\"\n",
    "# )"
   ]
  },
  {
   "cell_type": "code",
<<<<<<< HEAD
   "execution_count": 2,
   "metadata": {},
=======
   "execution_count": 36,
   "metadata": {
    "execution": {
     "iopub.execute_input": "2024-05-25T15:48:26.555451Z",
     "iopub.status.busy": "2024-05-25T15:48:26.555042Z",
     "iopub.status.idle": "2024-05-25T15:48:26.968847Z",
     "shell.execute_reply": "2024-05-25T15:48:26.968082Z"
    }
   },
>>>>>>> 25e86886bb69352442a0b36826cc4565555db555
   "outputs": [
    {
     "name": "stdout",
     "output_type": "stream",
     "text": [
<<<<<<< HEAD
      "Tue Jun  4 13:39:24 2024       \n",
=======
      "535.65s - pydevd: Sending message related to process being replaced timed-out after 5 seconds\n",
      "Tue Jun  4 22:20:08 2024       \n",
>>>>>>> 25e86886bb69352442a0b36826cc4565555db555
      "+-----------------------------------------------------------------------------+\n",
      "| NVIDIA-SMI 525.116.04   Driver Version: 525.116.04   CUDA Version: 12.0     |\n",
      "|-------------------------------+----------------------+----------------------+\n",
      "| GPU  Name        Persistence-M| Bus-Id        Disp.A | Volatile Uncorr. ECC |\n",
      "| Fan  Temp  Perf  Pwr:Usage/Cap|         Memory-Usage | GPU-Util  Compute M. |\n",
      "|                               |                      |               MIG M. |\n",
      "|===============================+======================+======================|\n",
<<<<<<< HEAD
      "|   0  Quadro P5000        Off  | 00000000:00:05.0 Off |                  Off |\n",
      "| 26%   30C    P8     6W / 180W |      2MiB / 16384MiB |      0%      Default |\n",
=======
      "|   0  NVIDIA RTX A6000    On   | 00000000:00:05.0 Off |                  Off |\n",
      "| 68%   85C    P2   281W / 300W |   8861MiB / 49140MiB |    100%      Default |\n",
>>>>>>> 25e86886bb69352442a0b36826cc4565555db555
      "|                               |                      |                  N/A |\n",
      "+-------------------------------+----------------------+----------------------+\n",
      "                                                                               \n",
      "+-----------------------------------------------------------------------------+\n",
      "| Processes:                                                                  |\n",
      "|  GPU   GI   CI        PID   Type   Process name                  GPU Memory |\n",
      "|        ID   ID                                                   Usage      |\n",
      "|=============================================================================|\n",
      "+-----------------------------------------------------------------------------+\n"
     ]
    }
   ],
   "source": [
    "!nvidia-smi"
   ]
  },
  {
   "cell_type": "code",
<<<<<<< HEAD
   "execution_count": 3,
   "metadata": {},
=======
   "execution_count": 37,
   "metadata": {
    "execution": {
     "iopub.execute_input": "2024-05-25T15:48:26.971426Z",
     "iopub.status.busy": "2024-05-25T15:48:26.971231Z",
     "iopub.status.idle": "2024-05-25T15:48:27.085231Z",
     "shell.execute_reply": "2024-05-25T15:48:27.084453Z"
    }
   },
>>>>>>> 25e86886bb69352442a0b36826cc4565555db555
   "outputs": [
    {
     "name": "stdout",
     "output_type": "stream",
     "text": [
      "541.34s - pydevd: Sending message related to process being replaced timed-out after 5 seconds\n",
      "Python 3.11.7\n"
     ]
    }
   ],
   "source": [
    "!python --version"
   ]
  },
  {
   "cell_type": "code",
   "execution_count": 38,
   "metadata": {
    "tags": []
   },
   "outputs": [
    {
     "name": "stdout",
     "output_type": "stream",
     "text": [
      "/notebooks/automated_essay_scoring/automated_essay_scoring/exp\n",
      "Jupyter Lab!\n",
      "../../data\n",
      "/notebooks/automated_essay_scoring/automated_essay_scoring/exp\n",
      "Jupyter Lab!\n",
      "../../trained_models/e037-lstm\n"
     ]
    }
   ],
   "source": [
    "def resolve_path(base_path: str) -> str:\n",
    "    import os\n",
    "\n",
    "    cwd = os.getcwd()\n",
    "    print(cwd)\n",
    "    if cwd == f\"/notebooks\":\n",
    "        print(\"Jupyter Kernel By VSCode!\")\n",
    "        return f\"/notebooks/{COMPETITION_NAME}/{base_path}\"\n",
    "    elif cwd == f\"/notebooks/{COMPETITION_NAME}\":\n",
    "        print(\"nohup!\")\n",
    "        return base_path\n",
    "    elif cwd == f\"/notebooks/{COMPETITION_NAME}/{COMPETITION_NAME}/exp\":\n",
    "        print(\"Jupyter Lab!\")\n",
    "        return f\"../../{base_path}\"\n",
    "    else:\n",
    "        raise Exception(\"Unknown environment\")\n",
    "\n",
    "\n",
    "DATA_PATH = resolve_path(DATA_PATH)\n",
    "print(DATA_PATH)\n",
    "MODEL_OUTPUT_PATH = resolve_path(MODEL_OUTPUT_PATH)\n",
    "print(MODEL_OUTPUT_PATH)"
   ]
  },
  {
   "cell_type": "code",
<<<<<<< HEAD
   "execution_count": 5,
   "metadata": {},
=======
   "execution_count": 39,
   "metadata": {
    "execution": {
     "iopub.execute_input": "2024-05-25T15:48:27.093966Z",
     "iopub.status.busy": "2024-05-25T15:48:27.093818Z",
     "iopub.status.idle": "2024-05-25T15:48:27.096680Z",
     "shell.execute_reply": "2024-05-25T15:48:27.096186Z"
    }
   },
>>>>>>> 25e86886bb69352442a0b36826cc4565555db555
   "outputs": [],
   "source": [
    "def validate_dataset_name(dataset_name: str) -> None:\n",
    "    if len(dataset_name) < 6 or len(dataset_name) > 50:\n",
    "        raise Exception(\n",
    "            f\"データセットの文字列は6~50文字にしてください。現在{len(DATASET_NAME)}文字\"\n",
    "        )\n",
    "    if \"_\" in dataset_name:\n",
    "        raise Exception(\"datasetの名称に_の使用は禁止です\")\n",
    "\n",
    "\n",
    "validate_dataset_name(DATASET_NAME)"
   ]
  },
  {
   "cell_type": "markdown",
   "metadata": {},
   "source": [
    "# install"
   ]
  },
  {
   "cell_type": "code",
<<<<<<< HEAD
   "execution_count": 6,
   "metadata": {},
=======
   "execution_count": 40,
   "metadata": {
    "execution": {
     "iopub.execute_input": "2024-05-25T15:48:27.098416Z",
     "iopub.status.busy": "2024-05-25T15:48:27.098228Z",
     "iopub.status.idle": "2024-05-25T15:48:51.026689Z",
     "shell.execute_reply": "2024-05-25T15:48:51.026154Z"
    }
   },
>>>>>>> 25e86886bb69352442a0b36826cc4565555db555
   "outputs": [
    {
     "name": "stdout",
     "output_type": "stream",
     "text": [
      "547.24s - pydevd: Sending message related to process being replaced timed-out after 5 seconds\n",
      "Note: you may need to restart the kernel to use updated packages.\n",
      "554.71s - pydevd: Sending message related to process being replaced timed-out after 5 seconds\n",
      "Note: you may need to restart the kernel to use updated packages.\n",
      "562.52s - pydevd: Sending message related to process being replaced timed-out after 5 seconds\n",
      "Note: you may need to restart the kernel to use updated packages.\n",
      "570.33s - pydevd: Sending message related to process being replaced timed-out after 5 seconds\n",
      "Note: you may need to restart the kernel to use updated packages.\n",
      "578.21s - pydevd: Sending message related to process being replaced timed-out after 5 seconds\n",
      "Note: you may need to restart the kernel to use updated packages.\n",
      "585.79s - pydevd: Sending message related to process being replaced timed-out after 5 seconds\n",
      "Note: you may need to restart the kernel to use updated packages.\n",
      "593.50s - pydevd: Sending message related to process being replaced timed-out after 5 seconds\n",
      "Note: you may need to restart the kernel to use updated packages.\n",
      "600.98s - pydevd: Sending message related to process being replaced timed-out after 5 seconds\n",
      "Note: you may need to restart the kernel to use updated packages.\n",
      "608.68s - pydevd: Sending message related to process being replaced timed-out after 5 seconds\n",
      "Note: you may need to restart the kernel to use updated packages.\n",
      "616.21s - pydevd: Sending message related to process being replaced timed-out after 5 seconds\n",
      "Note: you may need to restart the kernel to use updated packages.\n"
     ]
    }
   ],
   "source": [
    "%pip install -qq polars==0.20.23\n",
    "%pip install -qq transformers==4.40.1\n",
    "%pip install -qq datasets==2.19.0\n",
    "%pip install -qq evaluate==0.4.2\n",
    "%pip install -qq seqeval==1.2.2\n",
    "%pip install -qq accelerate==0.30.0\n",
    "%pip install -qq python-dotenv==1.0.1\n",
    "%pip install -qq wandb==0.16.6\n",
    "\n",
    "# formatter\n",
    "%pip install -qq black isort\n",
    "\n",
    "%pip install -qq kaggle"
   ]
  },
  {
   "cell_type": "markdown",
   "metadata": {
    "vscode": {
     "languageId": "plaintext"
    }
   },
   "source": [
    "# import"
   ]
  },
  {
   "cell_type": "code",
<<<<<<< HEAD
   "execution_count": 7,
   "metadata": {},
   "outputs": [
    {
     "name": "stderr",
     "output_type": "stream",
     "text": [
      "2024-06-04 13:40:41.241655: E external/local_xla/xla/stream_executor/cuda/cuda_dnn.cc:9261] Unable to register cuDNN factory: Attempting to register factory for plugin cuDNN when one has already been registered\n",
      "2024-06-04 13:40:41.241892: E external/local_xla/xla/stream_executor/cuda/cuda_fft.cc:607] Unable to register cuFFT factory: Attempting to register factory for plugin cuFFT when one has already been registered\n",
      "2024-06-04 13:40:41.347734: E external/local_xla/xla/stream_executor/cuda/cuda_blas.cc:1515] Unable to register cuBLAS factory: Attempting to register factory for plugin cuBLAS when one has already been registered\n",
      "2024-06-04 13:40:41.573799: I tensorflow/core/platform/cpu_feature_guard.cc:182] This TensorFlow binary is optimized to use available CPU instructions in performance-critical operations.\n",
      "To enable the following instructions: AVX2 FMA, in other operations, rebuild TensorFlow with the appropriate compiler flags.\n",
      "2024-06-04 13:40:43.881138: W tensorflow/compiler/tf2tensorrt/utils/py_utils.cc:38] TF-TRT Warning: Could not find TensorRT\n"
     ]
    }
   ],
=======
   "execution_count": 41,
   "metadata": {
    "execution": {
     "iopub.execute_input": "2024-05-25T15:48:51.028820Z",
     "iopub.status.busy": "2024-05-25T15:48:51.028637Z",
     "iopub.status.idle": "2024-05-25T15:48:58.209945Z",
     "shell.execute_reply": "2024-05-25T15:48:58.209287Z"
    }
   },
   "outputs": [],
>>>>>>> 25e86886bb69352442a0b36826cc4565555db555
   "source": [
    "import json\n",
    "import os\n",
    "import random\n",
    "from typing import Optional, Tuple, Union\n",
    "\n",
    "import numpy as np\n",
    "import torch\n",
    "import torch.nn as nn\n",
    "from torch.nn import BCEWithLogitsLoss, CrossEntropyLoss, MSELoss\n",
    "import wandb\n",
    "from datasets import DatasetDict, Value, concatenate_datasets, load_dataset\n",
    "from sklearn.metrics import cohen_kappa_score\n",
    "from tokenizers import AddedToken\n",
    "from tqdm.auto import tqdm\n",
    "from transformers import (\n",
    "    AutoConfig,\n",
    "    AutoModel,\n",
    "    AutoModelForSequenceClassification,\n",
    "    AutoTokenizer,\n",
    "    DataCollatorWithPadding,\n",
    "    DebertaV2PreTrainedModel,\n",
    "    Trainer,\n",
    "    TrainingArguments,\n",
    ")\n",
    "from transformers.modeling_outputs import SequenceClassifierOutput\n",
    "from transformers.models.deberta_v2.modeling_deberta_v2 import (\n",
    "    ContextPooler,\n",
    "    StableDropout,\n",
    "    DebertaV2Model,\n",
    ")"
   ]
  },
  {
   "cell_type": "code",
<<<<<<< HEAD
   "execution_count": 8,
   "metadata": {},
=======
   "execution_count": 42,
   "metadata": {
    "execution": {
     "iopub.execute_input": "2024-05-25T15:48:58.212599Z",
     "iopub.status.busy": "2024-05-25T15:48:58.212029Z",
     "iopub.status.idle": "2024-05-25T15:48:58.215373Z",
     "shell.execute_reply": "2024-05-25T15:48:58.214784Z"
    }
   },
>>>>>>> 25e86886bb69352442a0b36826cc4565555db555
   "outputs": [],
   "source": [
    "os.environ[\"TOKENIZERS_PARALLELISM\"] = \"true\"\n",
    "NUM_PROC = os.cpu_count()"
   ]
  },
  {
   "cell_type": "code",
<<<<<<< HEAD
   "execution_count": 9,
   "metadata": {},
=======
   "execution_count": 43,
   "metadata": {
    "execution": {
     "iopub.execute_input": "2024-05-25T15:48:58.217062Z",
     "iopub.status.busy": "2024-05-25T15:48:58.216910Z",
     "iopub.status.idle": "2024-05-25T15:48:58.251279Z",
     "shell.execute_reply": "2024-05-25T15:48:58.250747Z"
    }
   },
>>>>>>> 25e86886bb69352442a0b36826cc4565555db555
   "outputs": [],
   "source": [
    "import transformers\n",
    "import datasets\n",
    "import evaluate\n",
    "\n",
    "assert transformers.__version__ == \"4.40.1\"\n",
    "assert datasets.__version__ == \"2.19.0\"\n",
    "assert evaluate.__version__ == \"0.4.2\""
   ]
  },
  {
   "cell_type": "code",
<<<<<<< HEAD
   "execution_count": 10,
   "metadata": {},
=======
   "execution_count": 44,
   "metadata": {
    "execution": {
     "iopub.execute_input": "2024-05-25T15:48:58.253407Z",
     "iopub.status.busy": "2024-05-25T15:48:58.252938Z",
     "iopub.status.idle": "2024-05-25T15:48:58.256296Z",
     "shell.execute_reply": "2024-05-25T15:48:58.255806Z"
    }
   },
>>>>>>> 25e86886bb69352442a0b36826cc4565555db555
   "outputs": [],
   "source": [
    "# Seed the same seed to all\n",
    "def seed_everything(seed: int):\n",
    "    random.seed(seed)\n",
    "    os.environ[\"PYTHONHASHSEED\"] = str(seed)\n",
    "    np.random.seed(seed)\n",
    "    torch.manual_seed(seed)\n",
    "    torch.cuda.manual_seed(seed)\n",
    "    torch.backends.cudnn.deterministic = True\n",
    "    torch.backends.cudnn.benchmark = True\n",
    "\n",
    "\n",
    "seed_everything(SEED)"
   ]
  },
  {
   "cell_type": "code",
   "execution_count": 45,
   "metadata": {
    "autoscroll": "auto",
    "collapsed": false,
    "jupyter": {
     "outputs_hidden": false
    }
   },
   "outputs": [
    {
     "data": {
      "text/plain": [
       "True"
      ]
     },
     "execution_count": 45,
     "metadata": {},
     "output_type": "execute_result"
    }
   ],
   "source": [
    "from dotenv import load_dotenv\n",
    "\n",
    "load_dotenv(f\"{DATA_PATH}/.env\")"
   ]
  },
  {
   "cell_type": "markdown",
   "metadata": {},
   "source": [
    "# Wandb"
   ]
  },
  {
   "cell_type": "code",
   "execution_count": 46,
   "metadata": {
    "autoscroll": "auto",
    "collapsed": false,
    "jupyter": {
     "outputs_hidden": false
    },
    "tags": []
   },
   "outputs": [
    {
<<<<<<< HEAD
     "name": "stderr",
     "output_type": "stream",
     "text": [
      "\u001b[34m\u001b[1mwandb\u001b[0m: Currently logged in as: \u001b[33msinchir0\u001b[0m. Use \u001b[1m`wandb login --relogin`\u001b[0m to force relogin\n",
      "\u001b[34m\u001b[1mwandb\u001b[0m: \u001b[33mWARNING\u001b[0m If you're specifying your api key in code, ensure this code is not shared publicly.\n",
      "\u001b[34m\u001b[1mwandb\u001b[0m: \u001b[33mWARNING\u001b[0m Consider setting the WANDB_API_KEY environment variable, or running `wandb login` from the command line.\n",
      "\u001b[34m\u001b[1mwandb\u001b[0m: Appending key for api.wandb.ai to your netrc file: /root/.netrc\n"
     ]
    },
    {
     "data": {
      "text/html": [
       "wandb version 0.17.0 is available!  To upgrade, please run:\n",
       " $ pip install wandb --upgrade"
      ],
      "text/plain": [
       "<IPython.core.display.HTML object>"
      ]
     },
     "metadata": {},
     "output_type": "display_data"
    },
    {
     "data": {
      "text/html": [
       "Tracking run with wandb version 0.16.6"
      ],
      "text/plain": [
       "<IPython.core.display.HTML object>"
      ]
     },
     "metadata": {},
     "output_type": "display_data"
    },
    {
     "data": {
      "text/html": [
       "Run data is saved locally in <code>/notebooks/automated_essay_scoring/automated_essay_scoring/exp/wandb/run-20240604_134057-kqhfanub</code>"
      ],
      "text/plain": [
       "<IPython.core.display.HTML object>"
      ]
     },
     "metadata": {},
     "output_type": "display_data"
    },
    {
     "data": {
      "text/html": [
       "Syncing run <strong><a href='https://wandb.ai/sinchir0/automated_essay_scoring/runs/kqhfanub' target=\"_blank\">e037-lstm</a></strong> to <a href='https://wandb.ai/sinchir0/automated_essay_scoring' target=\"_blank\">Weights & Biases</a> (<a href='https://wandb.me/run' target=\"_blank\">docs</a>)<br/>"
      ],
      "text/plain": [
       "<IPython.core.display.HTML object>"
      ]
     },
     "metadata": {},
     "output_type": "display_data"
    },
    {
     "data": {
      "text/html": [
       " View project at <a href='https://wandb.ai/sinchir0/automated_essay_scoring' target=\"_blank\">https://wandb.ai/sinchir0/automated_essay_scoring</a>"
      ],
      "text/plain": [
       "<IPython.core.display.HTML object>"
      ]
     },
     "metadata": {},
     "output_type": "display_data"
    },
    {
     "data": {
      "text/html": [
       " View run at <a href='https://wandb.ai/sinchir0/automated_essay_scoring/runs/kqhfanub' target=\"_blank\">https://wandb.ai/sinchir0/automated_essay_scoring/runs/kqhfanub</a>"
      ],
      "text/plain": [
       "<IPython.core.display.HTML object>"
      ]
     },
     "metadata": {},
     "output_type": "display_data"
    },
    {
=======
>>>>>>> 25e86886bb69352442a0b36826cc4565555db555
     "data": {
      "text/plain": [
       "'none'"
      ]
     },
     "execution_count": 46,
     "metadata": {},
     "output_type": "execute_result"
    }
   ],
   "source": [
    "if WANDB:\n",
    "    wandb.login(key=os.environ[\"WANDB_API_KEY\"])\n",
    "    wandb.init(project=\"automated_essay_scoring\", name=EXP_NAME)\n",
    "    REPORT_TO = \"wandb\"\n",
    "else:\n",
    "    REPORT_TO = \"none\"\n",
    "\n",
    "REPORT_TO"
   ]
  },
  {
   "cell_type": "markdown",
   "metadata": {},
   "source": [
    "# Data Import"
   ]
  },
  {
   "cell_type": "code",
   "execution_count": 47,
   "metadata": {
    "autoscroll": "auto",
    "collapsed": false,
    "jupyter": {
     "outputs_hidden": false
    },
    "tags": []
   },
   "outputs": [
    {
     "data": {
<<<<<<< HEAD
      "application/vnd.jupyter.widget-view+json": {
       "model_id": "bdaeece10bb54c149a368126908c5149",
       "version_major": 2,
       "version_minor": 0
      },
      "text/plain": [
       "Generating train split: 0 examples [00:00, ? examples/s]"
      ]
     },
     "metadata": {},
     "output_type": "display_data"
    },
    {
     "data": {
      "application/vnd.jupyter.widget-view+json": {
       "model_id": "fe845b573dbb463da521a9f4efc6cc88",
       "version_major": 2,
       "version_minor": 0
      },
      "text/plain": [
       "Map:   0%|          | 0/17307 [00:00<?, ? examples/s]"
      ]
     },
     "metadata": {},
     "output_type": "display_data"
    },
    {
     "data": {
=======
>>>>>>> 25e86886bb69352442a0b36826cc4565555db555
      "text/plain": [
       "Dataset({\n",
       "    features: ['essay_id', 'full_text', 'score', 'flag'],\n",
       "    num_rows: 17307\n",
       "})"
      ]
     },
     "execution_count": 47,
     "metadata": {},
     "output_type": "execute_result"
    }
   ],
   "source": [
    "train_dataset = load_dataset(\n",
    "    \"csv\",\n",
    "    data_files=f\"{DATA_PATH}/train.csv\",\n",
    "    split=\"train\",\n",
    ").map(lambda example: {\"flag\": \"original\"})\n",
    "\n",
    "train_dataset"
   ]
  },
  {
   "cell_type": "code",
   "execution_count": 48,
   "metadata": {
    "autoscroll": "auto",
    "collapsed": false,
    "jupyter": {
     "outputs_hidden": false
    },
    "tags": []
   },
   "outputs": [
    {
<<<<<<< HEAD
     "data": {
      "application/vnd.jupyter.widget-view+json": {
       "model_id": "90324c35433946c5922b843d5a65d386",
       "version_major": 2,
       "version_minor": 0
      },
      "text/plain": [
       "Generating train split: 0 examples [00:00, ? examples/s]"
      ]
     },
     "metadata": {},
     "output_type": "display_data"
    },
    {
=======
>>>>>>> 25e86886bb69352442a0b36826cc4565555db555
     "name": "stderr",
     "output_type": "stream",
     "text": [
      "Setting TOKENIZERS_PARALLELISM=false for forked processes.\n"
     ]
    },
    {
     "data": {
<<<<<<< HEAD
      "application/vnd.jupyter.widget-view+json": {
       "model_id": "c921e712842a494ba012481148ee48fc",
       "version_major": 2,
       "version_minor": 0
      },
      "text/plain": [
       "Filter (num_proc=8):   0%|          | 0/25996 [00:00<?, ? examples/s]"
      ]
     },
     "metadata": {},
     "output_type": "display_data"
    },
    {
     "data": {
      "application/vnd.jupyter.widget-view+json": {
       "model_id": "ee42c40d9086430a835a4d416df92ff9",
       "version_major": 2,
       "version_minor": 0
      },
      "text/plain": [
       "Map:   0%|          | 0/13125 [00:00<?, ? examples/s]"
      ]
     },
     "metadata": {},
     "output_type": "display_data"
    },
    {
     "data": {
=======
>>>>>>> 25e86886bb69352442a0b36826cc4565555db555
      "text/plain": [
       "Dataset({\n",
       "    features: ['essay_id', 'full_text', 'score', 'flag'],\n",
       "    num_rows: 13125\n",
       "})"
      ]
     },
     "execution_count": 48,
     "metadata": {},
     "output_type": "execute_result"
    }
   ],
   "source": [
    "# 追加データ\n",
    "persuade_dataset = (\n",
    "    load_dataset(\n",
    "        \"csv\",\n",
    "        data_files={\"train\": f\"{DATA_PATH}/persuade_w_is_tr_con_as_num.csv\"},\n",
    "        split=\"train\",\n",
    "    )\n",
    "    .filter(lambda x: not x[\"is_train_contains\"], num_proc=NUM_PROC)\n",
    "    .select_columns([\"essay_id_comp\", \"full_text\", \"holistic_essay_score\"])\n",
    "    .rename_columns({\"essay_id_comp\": \"essay_id\", \"holistic_essay_score\": \"score\"})\n",
    "    .map(lambda example: {\"flag\": \"persuade\"})\n",
    ")\n",
    "\n",
    "persuade_dataset"
   ]
  },
  {
   "cell_type": "code",
   "execution_count": 49,
   "metadata": {
    "tags": []
   },
   "outputs": [],
   "source": [
    "# データの結合\n",
    "# train_dataset = concatenate_datasets([train_dataset, persuade_dataset])"
   ]
  },
  {
   "cell_type": "code",
   "execution_count": 50,
   "metadata": {
    "tags": []
   },
   "outputs": [],
   "source": [
    "if DEBUG:\n",
    "    train_dataset = train_dataset.shuffle(seed=SEED)\n",
    "    train_dataset = train_dataset.select(range(100))\n",
    "    EPOCH = 1\n",
    "    SAVE_STEP = 0.5\n",
    "    EVAL_STEP = 0.5"
   ]
  },
  {
   "cell_type": "code",
   "execution_count": 51,
   "metadata": {
    "autoscroll": "auto",
    "collapsed": false,
    "jupyter": {
     "outputs_hidden": false
    },
    "tags": []
   },
   "outputs": [
    {
     "name": "stderr",
     "output_type": "stream",
     "text": [
      "/usr/local/lib/python3.11/dist-packages/huggingface_hub/file_download.py:1132: FutureWarning: `resume_download` is deprecated and will be removed in version 1.0.0. Downloads always resume when possible. If you want to force a new download, use `force_download=True`.\n",
<<<<<<< HEAD
      "  warnings.warn(\n"
     ]
    },
    {
     "data": {
      "application/vnd.jupyter.widget-view+json": {
       "model_id": "4e6e2660c4314970957a1ba10bdcb09d",
       "version_major": 2,
       "version_minor": 0
      },
      "text/plain": [
       "tokenizer_config.json:   0%|          | 0.00/52.0 [00:00<?, ?B/s]"
      ]
     },
     "metadata": {},
     "output_type": "display_data"
    },
    {
     "data": {
      "application/vnd.jupyter.widget-view+json": {
       "model_id": "cad73fac4f314cebaf9f71374c11ad21",
       "version_major": 2,
       "version_minor": 0
      },
      "text/plain": [
       "config.json:   0%|          | 0.00/578 [00:00<?, ?B/s]"
      ]
     },
     "metadata": {},
     "output_type": "display_data"
    },
    {
     "data": {
      "application/vnd.jupyter.widget-view+json": {
       "model_id": "f1513b400c884ef89dd94bb4db65335f",
       "version_major": 2,
       "version_minor": 0
      },
      "text/plain": [
       "spm.model:   0%|          | 0.00/2.46M [00:00<?, ?B/s]"
      ]
     },
     "metadata": {},
     "output_type": "display_data"
    },
    {
     "name": "stderr",
     "output_type": "stream",
     "text": [
=======
      "  warnings.warn(\n",
>>>>>>> 25e86886bb69352442a0b36826cc4565555db555
      "/usr/local/lib/python3.11/dist-packages/transformers/convert_slow_tokenizer.py:560: UserWarning: The sentencepiece tokenizer that you are converting to a fast tokenizer uses the byte fallback option which is not implemented in the fast tokenizers. In practice this means that the fast version of the tokenizer can produce unknown tokens whereas the sentencepiece version would have converted these unknown tokens into a sequence of byte tokens matching the original piece of text.\n",
      "  warnings.warn(\n"
     ]
    },
    {
     "data": {
      "text/plain": [
       "1"
      ]
     },
     "execution_count": 51,
     "metadata": {},
     "output_type": "execute_result"
    }
   ],
   "source": [
    "tokenizer = AutoTokenizer.from_pretrained(MODEL_NAME)\n",
    "tokenizer.add_tokens(AddedToken(\"\\n\", normalized=False))"
   ]
  },
  {
   "cell_type": "code",
   "execution_count": 52,
   "metadata": {
    "autoscroll": "auto",
    "collapsed": false,
    "jupyter": {
     "outputs_hidden": false
    },
    "tags": []
   },
<<<<<<< HEAD
   "outputs": [
    {
     "name": "stderr",
     "output_type": "stream",
     "text": [
      "Setting TOKENIZERS_PARALLELISM=false for forked processes.\n"
     ]
    },
    {
     "data": {
      "application/vnd.jupyter.widget-view+json": {
       "model_id": "ac9c9e52e14d48ab8b45f59d8ec339dc",
       "version_major": 2,
       "version_minor": 0
      },
      "text/plain": [
       "Map (num_proc=8):   0%|          | 0/17307 [00:00<?, ? examples/s]"
      ]
     },
     "metadata": {},
     "output_type": "display_data"
    }
   ],
=======
   "outputs": [],
>>>>>>> 25e86886bb69352442a0b36826cc4565555db555
   "source": [
    "def preprocess_function(examples, max_token_length: int):\n",
    "    return tokenizer(\n",
    "        examples[\"full_text\"],\n",
    "        max_length=max_token_length,\n",
    "        truncation=True,\n",
    "        padding=\"max_length\",\n",
    "    )\n",
    "\n",
    "\n",
    "train_dataset = train_dataset.map(\n",
    "    preprocess_function,\n",
    "    batched=True,\n",
    "    fn_kwargs={\"max_token_length\": TRAINING_MAX_LENGTH},\n",
    "    num_proc=NUM_PROC,\n",
    ")"
   ]
  },
  {
   "cell_type": "code",
   "execution_count": 53,
   "metadata": {
    "tags": []
   },
   "outputs": [],
   "source": [
    "train_dataset = train_dataset.rename_column(\"score\", \"labels\")"
   ]
  },
  {
   "cell_type": "code",
   "execution_count": 54,
   "metadata": {
    "autoscroll": "auto",
    "collapsed": false,
    "jupyter": {
     "outputs_hidden": false
    },
    "tags": []
   },
   "outputs": [
    {
     "data": {
      "text/plain": [
       "{1, 2, 3, 4, 5, 6}"
      ]
     },
     "execution_count": 54,
     "metadata": {},
     "output_type": "execute_result"
    }
   ],
   "source": [
    "set(train_dataset[\"labels\"])"
   ]
  },
  {
   "cell_type": "code",
   "execution_count": 55,
   "metadata": {
    "tags": []
   },
   "outputs": [],
   "source": [
    "with open(f\"{DATA_PATH}/essay_id_fold_dict.json\") as f:\n",
    "    essay_id_fold_dict = json.load(f)"
   ]
  },
  {
   "cell_type": "code",
   "execution_count": 56,
   "metadata": {
    "autoscroll": "auto",
    "collapsed": false,
    "jupyter": {
     "outputs_hidden": false
    },
    "tags": []
   },
   "outputs": [
    {
     "data": {
      "text/plain": [
       "Dataset({\n",
       "    features: ['essay_id', 'full_text', 'labels', 'flag', 'input_ids', 'token_type_ids', 'attention_mask'],\n",
       "    num_rows: 17307\n",
       "})"
      ]
     },
     "execution_count": 56,
     "metadata": {},
     "output_type": "execute_result"
    }
   ],
   "source": [
    "train_dataset"
   ]
  },
  {
   "cell_type": "code",
   "execution_count": 70,
   "metadata": {
    "autoscroll": "auto",
    "collapsed": false,
    "jupyter": {
     "outputs_hidden": false
    },
    "tags": []
   },
<<<<<<< HEAD
   "outputs": [
    {
     "name": "stderr",
     "output_type": "stream",
     "text": [
      "Setting TOKENIZERS_PARALLELISM=false for forked processes.\n"
     ]
    },
    {
     "data": {
      "application/vnd.jupyter.widget-view+json": {
       "model_id": "a83ffe348c994eb3a0f96d894e0e2dd9",
       "version_major": 2,
       "version_minor": 0
      },
      "text/plain": [
       "Map (num_proc=8):   0%|          | 0/17307 [00:00<?, ? examples/s]"
      ]
     },
     "metadata": {},
     "output_type": "display_data"
    },
    {
     "name": "stderr",
     "output_type": "stream",
     "text": [
      "Setting TOKENIZERS_PARALLELISM=false for forked processes.\n"
     ]
    },
    {
     "data": {
      "application/vnd.jupyter.widget-view+json": {
       "model_id": "9467232a4afb41188d83b67b3958760a",
       "version_major": 2,
       "version_minor": 0
      },
      "text/plain": [
       "Filter (num_proc=8):   0%|          | 0/17307 [00:00<?, ? examples/s]"
      ]
     },
     "metadata": {},
     "output_type": "display_data"
    },
    {
     "name": "stderr",
     "output_type": "stream",
     "text": [
      "Setting TOKENIZERS_PARALLELISM=false for forked processes.\n"
     ]
    },
    {
     "data": {
      "application/vnd.jupyter.widget-view+json": {
       "model_id": "6dd000f3085e4081911a58f63788708f",
       "version_major": 2,
       "version_minor": 0
      },
      "text/plain": [
       "Filter (num_proc=8):   0%|          | 0/17307 [00:00<?, ? examples/s]"
      ]
     },
     "metadata": {},
     "output_type": "display_data"
    }
   ],
=======
   "outputs": [],
>>>>>>> 25e86886bb69352442a0b36826cc4565555db555
   "source": [
    "# 外部データなし\n",
    "def get_train_test_split_dataset(train_dataset):\n",
    "    train_dataset = train_dataset.map(\n",
    "        lambda x: {\"fold\": essay_id_fold_dict[x[\"essay_id\"]]}, num_proc=NUM_PROC\n",
    "    )\n",
    "\n",
    "    return DatasetDict(\n",
    "        {\n",
    "            \"train\": train_dataset.filter(lambda x: x[\"fold\"] != 2, num_proc=NUM_PROC),\n",
    "            \"valid\": train_dataset.filter(lambda x: x[\"fold\"] == 2, num_proc=NUM_PROC),\n",
    "        }\n",
    "    )\n",
    "\n",
    "\n",
    "train_test_split_dataset = get_train_test_split_dataset(train_dataset)\n",
    "\n",
    "\n",
    "# 外部データあり\n",
    "# def get_train_test_split_dataset_w_external(train_dataset):\n",
    "#     original_dataset = train_dataset.filter(\n",
    "#         lambda x: x[\"flag\"] == \"original\", num_proc=NUM_PROC\n",
    "#     )\n",
    "\n",
    "#     external_train_dataset = train_dataset.filter(\n",
    "#         lambda x: x[\"flag\"] != \"original\", num_proc=NUM_PROC\n",
    "#     )\n",
    "\n",
    "#     original_dataset = original_dataset.map(\n",
    "#         lambda x: {\"fold\": essay_id_fold_dict[x[\"essay_id\"]]}, num_proc=NUM_PROC\n",
    "#     )\n",
    "\n",
    "#     original_train_dataset = original_dataset.filter(\n",
    "#         lambda x: x[\"fold\"] != 2, num_proc=NUM_PROC\n",
    "#     )\n",
    "#     original_valid_dataset = original_dataset.filter(\n",
    "#         lambda x: x[\"fold\"] == 2, num_proc=NUM_PROC\n",
    "#     )\n",
    "\n",
    "#     train_test_split_dataset = DatasetDict(\n",
    "#         {\n",
    "#             \"train\": concatenate_datasets(\n",
    "#                 [original_train_dataset, external_train_dataset]\n",
    "#             ),\n",
    "#             \"valid\": original_valid_dataset,\n",
    "#         }\n",
    "#     )\n",
    "\n",
    "#     return train_test_split_dataset\n",
    "\n",
    "\n",
    "# train_test_split_dataset = get_train_test_split_dataset_w_external(train_dataset)\n",
    "\n",
    "# Check\n",
    "# assert set(train_test_split_dataset[\"train\"][\"fold\"]) == {0, 1}\n",
    "assert set(train_test_split_dataset[\"valid\"][\"fold\"]) == {2}\n",
    "\n",
    "if not DEBUG:\n",
    "    essay_id_fold_2 = {key for key, value in essay_id_fold_dict.items() if value == 2}\n",
    "    assert set(train_test_split_dataset[\"valid\"][\"essay_id\"]) == essay_id_fold_2\n",
    "    assert len(set(train_test_split_dataset[\"valid\"][\"essay_id\"])) == 5769"
   ]
  },
  {
   "cell_type": "code",
   "execution_count": 71,
   "metadata": {
    "tags": []
   },
   "outputs": [],
   "source": [
    "data_collator = DataCollatorWithPadding(tokenizer=tokenizer, pad_to_multiple_of=16)"
   ]
  },
  {
   "cell_type": "code",
<<<<<<< HEAD
   "execution_count": 25,
   "metadata": {},
=======
   "execution_count": 72,
   "metadata": {
    "execution": {
     "iopub.execute_input": "2024-05-25T15:49:01.348559Z",
     "iopub.status.busy": "2024-05-25T15:49:01.348392Z",
     "iopub.status.idle": "2024-05-25T15:49:01.354756Z",
     "shell.execute_reply": "2024-05-25T15:49:01.354227Z"
    }
   },
>>>>>>> 25e86886bb69352442a0b36826cc4565555db555
   "outputs": [],
   "source": [
    "import numpy as np\n",
    "import scipy as sp\n",
    "from functools import partial\n",
    "\n",
    "\n",
    "# https://qiita.com/kaggle_grandmaster-arai-san/items/d59b2fb7142ec7e270a5#optimizedrounder\n",
    "class OptimizedRounder:\n",
    "    def __init__(self):\n",
    "        self.coef_ = 0\n",
    "\n",
    "    def _kappa_loss(self, coef, X, y):\n",
    "        X_p = np.copy(X)\n",
    "        for i, pred in enumerate(X_p):\n",
    "            if pred < coef[0]:\n",
    "                X_p[i] = 1\n",
    "            elif pred >= coef[0] and pred < coef[1]:\n",
    "                X_p[i] = 2\n",
    "            elif pred >= coef[1] and pred < coef[2]:\n",
    "                X_p[i] = 3\n",
    "            elif pred >= coef[2] and pred < coef[3]:\n",
    "                X_p[i] = 4\n",
    "            elif pred >= coef[3] and pred < coef[4]:\n",
    "                X_p[i] = 5\n",
    "            else:\n",
    "                X_p[i] = 6\n",
    "\n",
    "        ll = cohen_kappa_score(y, X_p, weights=\"quadratic\")\n",
    "        return -ll\n",
    "\n",
    "    def fit(self, X, y):\n",
    "        loss_partial = partial(self._kappa_loss, X=X, y=y)\n",
    "        initial_coef = [1.5, 2.5, 3.5, 4.5, 5.5]\n",
    "        self.coef_ = sp.optimize.minimize(\n",
    "            loss_partial, initial_coef, method=\"nelder-mead\"\n",
    "        )\n",
    "\n",
    "    def predict(self, X, coef):\n",
    "        X_p = np.copy(X)\n",
    "        for i, pred in enumerate(X_p):\n",
    "            if pred < coef[0]:\n",
    "                X_p[i] = 1\n",
    "            elif pred >= coef[0] and pred < coef[1]:\n",
    "                X_p[i] = 2\n",
    "            elif pred >= coef[1] and pred < coef[2]:\n",
    "                X_p[i] = 3\n",
    "            elif pred >= coef[2] and pred < coef[3]:\n",
    "                X_p[i] = 4\n",
    "            elif pred >= coef[3] and pred < coef[4]:\n",
    "                X_p[i] = 5\n",
    "            else:\n",
    "                X_p[i] = 6\n",
    "        return X_p\n",
    "\n",
    "    @property\n",
    "    def coefficients(self):\n",
    "        return self.coef_[\"x\"]\n",
    "\n",
    "\n",
    "# optR = OptimizedRounder()\n",
    "# optR.fit(valid_pred, valid_dataset[\"labels\"])\n",
    "# print(optR.coefficients)\n",
    "\n",
    "# optimized = optR.predict(valid_pred, optR.coefficients)"
   ]
  },
  {
   "cell_type": "code",
   "execution_count": 73,
   "metadata": {
    "tags": []
   },
   "outputs": [],
   "source": [
    "# https://www.kaggle.com/code/cdeotte/deberta-v3-small-starter-cv-0-820-lb-0-800\n",
    "# def compute_metrics_for_classification(eval_pred):\n",
    "\n",
    "#     predictions, labels = eval_pred\n",
    "#     qwk = cohen_kappa_score(labels, predictions.argmax(-1), weights=\"quadratic\")\n",
    "#     results = {\"qwk\": qwk}\n",
    "#     return results\n",
    "\n",
    "\n",
    "# def compute_metrics_for_regression(eval_pred):\n",
    "#     predictions, labels = eval_pred\n",
    "#     mse = mean_squared_error(labels, predictions)\n",
    "#     return {\"mse\": mse}\n",
    "\n",
    "\n",
    "def compute_metrics_for_regression_opt(eval_pred):\n",
    "    predictions, labels = eval_pred\n",
    "\n",
    "    optR = OptimizedRounder()\n",
    "    optR.fit(predictions, labels)\n",
    "    optimized = optR.predict(predictions, optR.coefficients)\n",
    "    print(optR.coefficients)\n",
    "\n",
    "    qwk = cohen_kappa_score(labels, optimized, weights=\"quadratic\")\n",
    "    return {\"qwk\": qwk}"
   ]
  },
  {
   "cell_type": "code",
<<<<<<< HEAD
   "execution_count": 27,
   "metadata": {},
=======
   "execution_count": 74,
   "metadata": {
    "execution": {
     "iopub.execute_input": "2024-05-25T15:49:01.363320Z",
     "iopub.status.busy": "2024-05-25T15:49:01.363045Z",
     "iopub.status.idle": "2024-05-25T15:49:01.366164Z",
     "shell.execute_reply": "2024-05-25T15:49:01.365636Z"
    }
   },
>>>>>>> 25e86886bb69352442a0b36826cc4565555db555
   "outputs": [],
   "source": [
    "# # https://www.kaggle.com/code/seoyunje/aes-2-custom-deberta-with-different-header\n",
    "# class MaxPooling(ContextPooler):\n",
    "#     def __init__(self, config):\n",
    "#         super().__init__(config)\n",
    "\n",
    "#     def forward(self, last_hidden_state, attention_mask):\n",
    "#         max_embeddings, _ = last_hidden_state.max(1)\n",
    "#         return max_embeddings\n",
    "\n",
    "\n",
    "# class MeanPooling(ContextPooler):\n",
    "#     def __init__(self, config):\n",
    "#         super().__init__(config)\n",
    "\n",
    "#     def forward(self, last_hidden_state, attention_mask):\n",
    "#         input_mask_expanded = (\n",
    "#             attention_mask.unsqueeze(-1).expand(last_hidden_state.size()).float()\n",
    "#         )\n",
    "#         sum_embeddings = torch.sum(last_hidden_state * input_mask_expanded, 1)\n",
    "#         sum_mask = input_mask_expanded.sum(1)\n",
    "#         sum_mask = torch.clamp(sum_mask, min=1e-9)  # ゼロ除算を防ぐ\n",
    "#         mean_embeddings = sum_embeddings / sum_mask\n",
    "#         return mean_embeddings\n",
    "\n",
    "\n",
    "# class MeanMaxPooling(ContextPooler):\n",
    "#     def __init__(self, config):\n",
    "#         super().__init__(config)\n",
    "#         self.mean_pooler = MeanPooling(config)\n",
    "#         self.max_pooler = MaxPooling(config)\n",
    "\n",
    "#     def forward(self, last_hidden_state, attention_mask):\n",
    "#         mean_pooling_embeddings = self.mean_pooler(last_hidden_state, attention_mask)\n",
    "#         max_pooling_embeddings = self.max_pooler(last_hidden_state, attention_mask)\n",
    "\n",
    "#         mean_max_embeddings = torch.cat(\n",
    "#             (mean_pooling_embeddings, max_pooling_embeddings), 1\n",
    "#         )\n",
    "\n",
    "#         return mean_max_embeddings\n",
    "\n",
    "#     @property\n",
    "#     def output_dim(self):\n",
    "#         return self.config.hidden_size * 2\n",
    "\n",
    "\n",
    "# # https://www.kaggle.com/competitions/feedback-prize-english-language-learning/discussion/361678\n",
    "# class AttentionPooling(ContextPooler):\n",
    "#     \"\"\"\n",
    "#     mean poolingはそれぞれのtokenを等しく足し合わせる。\n",
    "#     Attention Poolingは、それぞれのtokenに対する重みの層を新たに学習することで、\n",
    "#     tokenに対する重み付けをより詳細に行うことができる。\n",
    "#     \"\"\"\n",
    "\n",
    "#     def __init__(self, config):\n",
    "#         super().__init__(config)\n",
    "#         in_dim = config.hidden_size\n",
    "#         self.attention = nn.Sequential(\n",
    "#             nn.Linear(in_dim, in_dim),\n",
    "#             nn.LayerNorm(in_dim),\n",
    "#             nn.GELU(),\n",
    "#             nn.Linear(in_dim, 1),\n",
    "#         )\n",
    "\n",
    "#     def forward(self, last_hidden_state, attention_mask):\n",
    "#         w = self.attention(last_hidden_state).float()\n",
    "#         w[attention_mask == 0] = float(\"-inf\")\n",
    "#         w = torch.softmax(w, 1)\n",
    "#         attention_embeddings = torch.sum(w * last_hidden_state, dim=1)\n",
    "#         return attention_embeddings\n",
    "\n",
    "\n",
    "# # TODO: 1D-Conv,LSTM\n",
    "# # https://www.ai-shift.co.jp/techblog/2145"
   ]
  },
  {
   "cell_type": "code",
   "execution_count": 86,
   "metadata": {
    "tags": []
   },
   "outputs": [],
   "source": [
    "# # https://dev.classmethod.jp/articles/huggingface-usage-custom-model/\n",
    "# # https://github.com/huggingface/transformers/blob/94b3f544a1f5e04b78d87a2ae32a7ac252e22e31/src/transformers/models/deberta_v2/modeling_deberta_v2.py#L1313\n",
    "# class CustomDebertaSequenceClassification(DebertaV2PreTrainedModel):\n",
    "#     def __init__(self, config):\n",
    "#         super().__init__(config)\n",
    "\n",
    "#         num_labels = getattr(config, \"num_labels\", 2)\n",
    "#         self.num_labels = num_labels\n",
    "\n",
    "#         self.deberta = DebertaV2Model(config)\n",
    "#         # self.pooler = ContextPooler(config)\n",
    "#         # self.pooler = MaxPooling(config)\n",
    "#         # self.pooler = MeanPooling(config)\n",
    "#         # self.pooler = MeanMaxPooling(config)\n",
    "#         self.pooler = AttentionPooling(config)\n",
    "#         output_dim = self.pooler.output_dim\n",
    "\n",
    "#         self.classifier = nn.Linear(output_dim, num_labels)\n",
    "#         drop_out = getattr(config, \"cls_dropout\", None)\n",
    "#         drop_out = self.config.hidden_dropout_prob if drop_out is None else drop_out\n",
    "#         self.dropout = StableDropout(drop_out)\n",
    "\n",
    "#         # Initialize weights and apply final processing\n",
    "#         self.post_init()\n",
    "\n",
    "#     def get_input_embeddings(self):\n",
    "#         return self.deberta.get_input_embeddings()\n",
    "\n",
    "#     def set_input_embeddings(self, new_embeddings):\n",
    "#         self.deberta.set_input_embeddings(new_embeddings)\n",
    "\n",
    "#     def forward(\n",
    "#         self,\n",
    "#         input_ids: Optional[torch.Tensor] = None,\n",
    "#         attention_mask: Optional[torch.Tensor] = None,\n",
    "#         token_type_ids: Optional[torch.Tensor] = None,\n",
    "#         inputs_embeds: Optional[torch.Tensor] = None,\n",
    "#         labels: Optional[torch.Tensor] = None,\n",
    "#         return_dict: Optional[bool] = None,\n",
    "#     ) -> Union[Tuple, SequenceClassifierOutput]:\n",
    "#         return_dict = (\n",
    "#             return_dict if return_dict is not None else self.config.use_return_dict\n",
    "#         )\n",
    "\n",
    "#         outputs = self.deberta(\n",
    "#             input_ids,\n",
    "#             token_type_ids=token_type_ids,\n",
    "#             attention_mask=attention_mask,\n",
    "#             inputs_embeds=inputs_embeds,\n",
    "#             return_dict=return_dict,\n",
    "#         )\n",
    "\n",
    "#         # CLSのみを利用する\n",
    "#         # encoder_layer = outputs[0]\n",
    "#         # pooled_output = self.pooler(encoder_layer) # torch.Size([8, 384])\n",
    "\n",
    "#         pooled_output = self.pooler(outputs[\"last_hidden_state\"], attention_mask)\n",
    "\n",
    "#         pooled_output = self.dropout(pooled_output)\n",
    "#         logits = self.classifier(pooled_output)\n",
    "\n",
    "#         loss = None\n",
    "#         if labels is not None:\n",
    "#             loss_fn = nn.MSELoss()\n",
    "#             logits = logits.view(-1).to(labels.dtype)\n",
    "#             loss = loss_fn(logits, labels.view(-1))\n",
    "\n",
    "#         return SequenceClassifierOutput(\n",
    "#             loss=loss,\n",
    "#             logits=logits,\n",
    "#         )"
   ]
  },
  {
   "cell_type": "code",
<<<<<<< HEAD
   "execution_count": 29,
   "metadata": {},
=======
   "execution_count": 93,
   "metadata": {
    "execution": {
     "iopub.execute_input": "2024-05-25T15:49:01.372677Z",
     "iopub.status.busy": "2024-05-25T15:49:01.372246Z",
     "iopub.status.idle": "2024-05-25T15:49:01.378662Z",
     "shell.execute_reply": "2024-05-25T15:49:01.378181Z"
    }
   },
>>>>>>> 25e86886bb69352442a0b36826cc4565555db555
   "outputs": [],
   "source": [
    "import torch.nn as nn\n",
    "import torch.nn.functional as F\n",
    "\n",
    "\n",
    "class CustomDebertaSequenceClassification(DebertaV2PreTrainedModel):\n",
    "    def __init__(self, config):\n",
    "        super().__init__(config)\n",
    "\n",
    "        num_labels = getattr(config, \"num_labels\", 2)\n",
    "        self.num_labels = num_labels\n",
    "\n",
    "        self.deberta = DebertaV2Model(config)\n",
    "        # self.pooler = AttentionPooling(config)\n",
    "        # output_dim = self.pooler.output_dim\n",
    "\n",
    "        # self.classifier = nn.Linear(output_dim, num_labels)\n",
    "\n",
    "        # self.cnn1 = nn.Conv1d(self.config.hidden_size, 256, kernel_size=2, padding=1)\n",
    "        # self.cnn2 = nn.Conv1d(256, 1, kernel_size=2, padding=1)\n",
    "        # self.lstm = nn.LSTM(\n",
    "        #     self.config.hidden_size, self.config.hidden_size, batch_first=True\n",
    "        # ) # -> この方法だと、CVが0.02程度で学習が進まない\n",
    "\n",
    "        self.lstm = nn.LSTM(\n",
    "            self.config.hidden_size,\n",
<<<<<<< HEAD
    "            self.config.hidden_size,\n",
    "            batch_first=True,\n",
    "            dropout=self.deberta.config.hidden_dropout_prob,  # 追加\n",
    "            bidirectional=IS_BIDIRECTIONAL,  # 追加\n",
    "        )\n",
    "\n",
    "        # self.classifier = nn.Linear(self.config.hidden_size, num_labels)\n",
    "        # IS_BIDIRECTIONALがTrueなら、nn.Linerのinput_sizeはself.config.hidden_size * 2にする\n",
    "        self.classifier = nn.Linear(\n",
    "            (\n",
    "                self.config.hidden_size * 2\n",
    "                if IS_BIDIRECTIONAL\n",
    "                else self.config.hidden_size\n",
    "            ),\n",
    "            num_labels,\n",
    "        )\n",
=======
    "            # self.config.hidden_size,\n",
    "            1,\n",
    "            batch_first=True,\n",
    "            dropout=self.deberta.config.hidden_dropout_prob,  # 追加\n",
    "            # bidirectional=IS_BIDIRECTIONAL,  # 追加\n",
    "        )\n",
    "\n",
    "        # self.classifier = nn.Linear(self.config.hidden_size, num_labels)\n",
    "        # IS_BIDIRECTIONALがTrueなら、nn.Linerのinput_sizeはself.config.hidden_size * 2にする\n",
    "        # self.classifier = nn.Linear(\n",
    "        #     (\n",
    "        #         self.config.hidden_size * 2\n",
    "        #         if IS_BIDIRECTIONAL\n",
    "        #         else self.config.hidden_size\n",
    "        #     ),\n",
    "        #     num_labels,\n",
    "        # )\n",
>>>>>>> 25e86886bb69352442a0b36826cc4565555db555
    "\n",
    "        drop_out = getattr(config, \"cls_dropout\", None)\n",
    "        drop_out = self.config.hidden_dropout_prob if drop_out is None else drop_out\n",
    "        self.dropout = StableDropout(drop_out)\n",
    "\n",
    "        # Initialize weights and apply final processing\n",
    "        self.post_init()\n",
    "\n",
    "        self._init_weights(self.lstm)\n",
    "        # self._init_weights(self.classifier)\n",
    "\n",
    "    def _init_weights(self, module):\n",
    "        if isinstance(module, nn.LSTM):\n",
    "            for name, param in module.named_parameters():\n",
    "                if \"weight\" in name:\n",
    "                    param.data.normal_(mean=0.0, std=self.config.initializer_range)\n",
    "                elif \"bias\" in name:\n",
    "                    param.data.zero_()\n",
    "        elif isinstance(module, nn.Linear):\n",
    "            module.weight.data.normal_(mean=0.0, std=self.config.initializer_range)\n",
    "            if module.bias is not None:\n",
    "                module.bias.data.zero_()\n",
    "\n",
    "    def get_input_embeddings(self):\n",
    "        return self.deberta.get_input_embeddings()\n",
    "\n",
    "    def set_input_embeddings(self, new_embeddings):\n",
    "        self.deberta.set_input_embeddings(new_embeddings)\n",
    "\n",
    "    def forward(\n",
    "        self,\n",
    "        input_ids: Optional[torch.Tensor] = None,\n",
    "        attention_mask: Optional[torch.Tensor] = None,\n",
    "        token_type_ids: Optional[torch.Tensor] = None,\n",
    "        inputs_embeds: Optional[torch.Tensor] = None,\n",
    "        labels: Optional[torch.Tensor] = None,\n",
    "        return_dict: Optional[bool] = None,\n",
    "    ) -> Union[Tuple, SequenceClassifierOutput]:\n",
    "        return_dict = (\n",
    "            return_dict if return_dict is not None else self.config.use_return_dict\n",
    "        )\n",
    "\n",
    "        outputs = self.deberta(\n",
    "            input_ids,\n",
    "            token_type_ids=token_type_ids,\n",
    "            attention_mask=attention_mask,\n",
    "            inputs_embeds=inputs_embeds,\n",
    "            return_dict=return_dict,\n",
    "        )\n",
    "\n",
    "        # pooled_output = self.pooler(outputs[\"last_hidden_state\"], attention_mask)\n",
    "        # last_hidden_state = outputs[\"last_hidden_state\"].permute(0, 2, 1)\n",
    "        # cnn_embeddings = F.relu(self.cnn1(last_hidden_state))\n",
    "        # cnn_embeddings = self.cnn2(cnn_embeddings)\n",
    "        # logits, _ = torch.max(cnn_embeddings, 2)\n",
    "\n",
    "        lstm_out, _ = self.lstm(outputs[\"last_hidden_state\"], None)\n",
    "        logits, _ = torch.max(lstm_out, 1)  # max以外にも方法はある？\n",
    "\n",
    "        # sequence_output = out[\n",
    "        #     :, -1, :\n",
    "        # ]  # 一番最後をとる、ここをどうPoolingするかも色々できそう、LSTMが有効なのであれば\n",
    "        # logits = self.classifier(sequence_output)\n",
    "\n",
    "        # pooled_output = self.dropout(pooled_output)\n",
    "        # logits = self.classifier(pooled_output)\n",
    "\n",
    "        loss = None\n",
    "        if labels is not None:\n",
    "            loss_fn = nn.MSELoss()\n",
    "            logits = logits.view(-1).to(labels.dtype)\n",
    "            loss = loss_fn(logits, labels.view(-1))\n",
    "\n",
    "        return SequenceClassifierOutput(\n",
    "            loss=loss,\n",
    "            logits=logits,\n",
    "        )"
   ]
  },
  {
   "cell_type": "code",
<<<<<<< HEAD
   "execution_count": 30,
=======
   "execution_count": 94,
>>>>>>> 25e86886bb69352442a0b36826cc4565555db555
   "metadata": {
    "autoscroll": "auto",
    "collapsed": false,
    "jupyter": {
     "outputs_hidden": false
    },
    "tags": []
   },
   "outputs": [
    {
     "name": "stderr",
     "output_type": "stream",
     "text": [
      "/usr/local/lib/python3.11/dist-packages/huggingface_hub/file_download.py:1132: FutureWarning: `resume_download` is deprecated and will be removed in version 1.0.0. Downloads always resume when possible. If you want to force a new download, use `force_download=True`.\n",
<<<<<<< HEAD
      "  warnings.warn(\n"
     ]
    },
    {
     "data": {
      "application/vnd.jupyter.widget-view+json": {
       "model_id": "36001e27384244ab999229a937b000c4",
       "version_major": 2,
       "version_minor": 0
      },
      "text/plain": [
       "pytorch_model.bin:   0%|          | 0.00/241M [00:00<?, ?B/s]"
      ]
     },
     "metadata": {},
     "output_type": "display_data"
    },
    {
     "name": "stderr",
     "output_type": "stream",
     "text": [
      "/usr/local/lib/python3.11/dist-packages/torch/_utils.py:831: UserWarning: TypedStorage is deprecated. It will be removed in the future and UntypedStorage will be the only storage class. This should only matter to you if you are using storages directly.  To access UntypedStorage directly, use tensor.untyped_storage() instead of tensor.storage()\n",
      "  return self.fget.__get__(instance, owner)()\n",
      "Some weights of CustomDebertaSequenceClassification were not initialized from the model checkpoint at microsoft/deberta-v3-xsmall and are newly initialized: ['classifier.bias', 'classifier.weight', 'lstm.bias_hh_l0', 'lstm.bias_hh_l0_reverse', 'lstm.bias_ih_l0', 'lstm.bias_ih_l0_reverse', 'lstm.weight_hh_l0', 'lstm.weight_hh_l0_reverse', 'lstm.weight_ih_l0', 'lstm.weight_ih_l0_reverse']\n",
=======
      "  warnings.warn(\n",
      "Some weights of CustomDebertaSequenceClassification were not initialized from the model checkpoint at microsoft/deberta-v3-xsmall and are newly initialized: ['lstm.bias_hh_l0', 'lstm.bias_ih_l0', 'lstm.weight_hh_l0', 'lstm.weight_ih_l0']\n",
>>>>>>> 25e86886bb69352442a0b36826cc4565555db555
      "You should probably TRAIN this model on a down-stream task to be able to use it for predictions and inference.\n"
     ]
    },
    {
     "data": {
      "application/vnd.jupyter.widget-view+json": {
<<<<<<< HEAD
       "model_id": "69a563b66b5b444a8f6be87428765434",
=======
       "model_id": "9e3fe1581dba4ac1af4a2825af1dfb83",
>>>>>>> 25e86886bb69352442a0b36826cc4565555db555
       "version_major": 2,
       "version_minor": 0
      },
      "text/plain": [
       "Casting the dataset:   0%|          | 0/11538 [00:00<?, ? examples/s]"
      ]
     },
     "metadata": {},
     "output_type": "display_data"
    },
    {
     "data": {
      "application/vnd.jupyter.widget-view+json": {
<<<<<<< HEAD
       "model_id": "9191c0b009d246378479c8f846a82f2b",
=======
       "model_id": "09225d626a76426fa0b504a9084634ce",
>>>>>>> 25e86886bb69352442a0b36826cc4565555db555
       "version_major": 2,
       "version_minor": 0
      },
      "text/plain": [
       "Casting the dataset:   0%|          | 0/5769 [00:00<?, ? examples/s]"
      ]
     },
     "metadata": {},
     "output_type": "display_data"
    },
    {
     "name": "stdout",
     "output_type": "stream",
     "text": [
      "DatasetDict({\n",
      "    train: Dataset({\n",
      "        features: ['essay_id', 'full_text', 'labels', 'flag', 'input_ids', 'token_type_ids', 'attention_mask', 'fold'],\n",
      "        num_rows: 11538\n",
      "    })\n",
      "    valid: Dataset({\n",
      "        features: ['essay_id', 'full_text', 'labels', 'flag', 'input_ids', 'token_type_ids', 'attention_mask', 'fold'],\n",
      "        num_rows: 5769\n",
      "    })\n",
      "})\n"
     ]
    }
   ],
   "source": [
    "# not use dropout\n",
    "# https://www.kaggle.com/competitions/learning-agency-lab-automated-essay-scoring-2/discussion/497832\n",
    "config = AutoConfig.from_pretrained(MODEL_NAME)\n",
    "config.attention_probs_dropout_prob = 0.0\n",
    "config.hidden_dropout_prob = 0.0\n",
    "config.num_labels = 1  # REGRESSION\n",
    "\n",
    "# regression\n",
    "# https://discuss.huggingface.co/t/how-to-set-up-trainer-for-a-regression/12994\n",
    "# model = AutoModelForSequenceClassification.from_pretrained(\n",
    "#     MODEL_NAME,\n",
    "#     # num_labels=1,\n",
    "#     config=config,\n",
    "# )\n",
    "\n",
    "# model = CustomModel.from_pretrained(MODEL_NAME, config=config)\n",
    "# model = CustomDebertaSequenceClassification(config)\n",
    "model = CustomDebertaSequenceClassification.from_pretrained(MODEL_NAME, config=config)\n",
    "\n",
    "# model.deberta.resize_token_embeddings(len(tokenizer), pad_to_multiple_of=16)\n",
    "model.resize_token_embeddings(len(tokenizer), pad_to_multiple_of=16)\n",
    "\n",
    "# cast labels to float for regression\n",
    "train_test_split_dataset = DatasetDict(\n",
    "    {\n",
    "        \"train\": train_test_split_dataset[\"train\"].cast_column(\n",
    "            \"labels\", Value(dtype=\"float\")\n",
    "        ),\n",
    "        \"valid\": train_test_split_dataset[\"valid\"].cast_column(\n",
    "            \"labels\", Value(dtype=\"float\")\n",
    "        ),\n",
    "    }\n",
    ")\n",
    "print(train_test_split_dataset)"
   ]
  },
  {
   "cell_type": "code",
<<<<<<< HEAD
   "execution_count": 31,
   "metadata": {},
=======
   "execution_count": 95,
   "metadata": {
    "execution": {
     "iopub.execute_input": "2024-05-25T15:49:02.870836Z",
     "iopub.status.busy": "2024-05-25T15:49:02.870281Z",
     "iopub.status.idle": "2024-05-25T15:49:02.872826Z",
     "shell.execute_reply": "2024-05-25T15:49:02.872330Z"
    }
   },
>>>>>>> 25e86886bb69352442a0b36826cc4565555db555
   "outputs": [],
   "source": [
    "# if not DEBUG:\n",
    "#     assert len(set(train_test_split_dataset[\"train\"][\"labels\"])) == NUM_LABELS\n",
    "#     assert len(set(train_test_split_dataset[\"valid\"][\"labels\"])) == NUM_LABELS"
   ]
  },
  {
   "cell_type": "code",
<<<<<<< HEAD
   "execution_count": 32,
   "metadata": {},
=======
   "execution_count": 96,
   "metadata": {
    "execution": {
     "iopub.execute_input": "2024-05-25T15:49:02.874489Z",
     "iopub.status.busy": "2024-05-25T15:49:02.874203Z",
     "iopub.status.idle": "2024-05-25T15:49:02.876628Z",
     "shell.execute_reply": "2024-05-25T15:49:02.876094Z"
    }
   },
>>>>>>> 25e86886bb69352442a0b36826cc4565555db555
   "outputs": [],
   "source": [
    "# import torch.nn as nn\n",
    "# from transformers import Trainer\n",
    "\n",
    "\n",
    "# class CustomTrainer(Trainer):\n",
    "#     def compute_loss(self, model, inputs, return_outputs=False):\n",
    "#         labels = inputs.pop(\"labels\").float()  # ラベルを float 型に変換\n",
    "#         outputs = model(**inputs)\n",
    "#         logits = outputs[0]\n",
    "\n",
    "#         # MSE損失を計算\n",
    "#         loss_fct = nn.MSELoss()\n",
    "#         loss = loss_fct(logits.view(-1), labels.view(-1))\n",
    "\n",
    "#         return (loss, outputs) if return_outputs else loss"
   ]
  },
  {
   "cell_type": "code",
   "execution_count": 97,
   "metadata": {
    "tags": []
   },
   "outputs": [],
   "source": [
    "training_args = TrainingArguments(\n",
    "    output_dir=MODEL_OUTPUT_PATH,\n",
    "    learning_rate=LR,\n",
    "    per_device_train_batch_size=TRAIN_BS,\n",
    "    gradient_accumulation_steps=GRAD_ACC_NUM,\n",
    "    eval_accumulation_steps=GRAD_ACC_NUM,\n",
    "    per_device_eval_batch_size=EVAL_BS,\n",
    "    num_train_epochs=EPOCH,\n",
    "    weight_decay=0.01,\n",
    "    evaluation_strategy=\"steps\",\n",
    "    eval_steps=EVAL_STEP,\n",
    "    save_strategy=\"steps\",\n",
    "    save_steps=SAVE_STEP,\n",
    "    save_total_limit=1,\n",
    "    seed=SEED,\n",
    "    metric_for_best_model=\"qwk\",\n",
    "    # metric_for_best_model=\"mse\",\n",
    "    warmup_ratio=0.1,\n",
    "    lr_scheduler_type=LR_SCHE_TYPE,\n",
    "    report_to=REPORT_TO,\n",
    "    run_name=EXP_NAME,\n",
    "    load_best_model_at_end=True,\n",
    "    fp16=True,\n",
    "    fp16_full_eval=True,\n",
    "    gradient_checkpointing=True,\n",
    "    greater_is_better=True,\n",
    ")\n",
    "\n",
    "\n",
    "trainer = Trainer(\n",
    "    model=model,\n",
    "    args=training_args,\n",
    "    train_dataset=train_test_split_dataset[\"train\"],\n",
    "    eval_dataset=train_test_split_dataset[\"valid\"],\n",
    "    tokenizer=tokenizer,\n",
    "    data_collator=data_collator,\n",
    "    # compute_metrics=compute_metrics_for_regression,\n",
    "    compute_metrics=compute_metrics_for_regression_opt,\n",
    ")"
   ]
  },
  {
   "cell_type": "code",
   "execution_count": 98,
   "metadata": {
    "autoscroll": "auto",
    "collapsed": false,
    "jupyter": {
     "outputs_hidden": false
    },
    "tags": []
   },
   "outputs": [
    {
     "name": "stderr",
     "output_type": "stream",
     "text": [
      "/usr/local/lib/python3.11/dist-packages/torch/utils/checkpoint.py:429: UserWarning: torch.utils.checkpoint: please pass in use_reentrant=True or use_reentrant=False explicitly. The default value of use_reentrant will be updated to be False in the future. To maintain current behavior, pass use_reentrant=True. It is recommended that you use use_reentrant=False. Refer to docs for more details on the differences between the two variants.\n",
      "  warnings.warn(\n"
     ]
    },
    {
     "data": {
      "text/html": [
       "\n",
       "    <div>\n",
       "      \n",
<<<<<<< HEAD
       "      <progress value='360' max='360' style='width:300px; height:20px; vertical-align: middle;'></progress>\n",
       "      [360/360 3:20:19, Epoch 3/4]\n",
=======
       "      <progress value='15' max='360' style='width:300px; height:20px; vertical-align: middle;'></progress>\n",
       "      [ 15/360 02:16 < 1:00:34, 0.09 it/s, Epoch 0.16/4]\n",
>>>>>>> 25e86886bb69352442a0b36826cc4565555db555
       "    </div>\n",
       "    <table border=\"1\" class=\"dataframe\">\n",
       "  <thead>\n",
       " <tr style=\"text-align: left;\">\n",
       "      <th>Step</th>\n",
       "      <th>Training Loss</th>\n",
       "      <th>Validation Loss</th>\n",
       "    </tr>\n",
       "  </thead>\n",
       "  <tbody>\n",
<<<<<<< HEAD
       "    <tr>\n",
       "      <td>36</td>\n",
       "      <td>No log</td>\n",
       "      <td>3.759068</td>\n",
       "      <td>0.000000</td>\n",
       "    </tr>\n",
       "    <tr>\n",
       "      <td>72</td>\n",
       "      <td>No log</td>\n",
       "      <td>1.144012</td>\n",
       "      <td>-0.026867</td>\n",
       "    </tr>\n",
       "    <tr>\n",
       "      <td>108</td>\n",
       "      <td>No log</td>\n",
       "      <td>1.103063</td>\n",
       "      <td>0.000300</td>\n",
       "    </tr>\n",
       "    <tr>\n",
       "      <td>144</td>\n",
       "      <td>No log</td>\n",
       "      <td>1.086119</td>\n",
       "      <td>0.000000</td>\n",
       "    </tr>\n",
       "    <tr>\n",
       "      <td>180</td>\n",
       "      <td>No log</td>\n",
       "      <td>1.077700</td>\n",
       "      <td>0.027431</td>\n",
       "    </tr>\n",
       "    <tr>\n",
       "      <td>216</td>\n",
       "      <td>No log</td>\n",
       "      <td>1.077313</td>\n",
       "      <td>0.026826</td>\n",
       "    </tr>\n",
       "    <tr>\n",
       "      <td>252</td>\n",
       "      <td>No log</td>\n",
       "      <td>1.081566</td>\n",
       "      <td>0.026826</td>\n",
       "    </tr>\n",
       "    <tr>\n",
       "      <td>288</td>\n",
       "      <td>No log</td>\n",
       "      <td>1.072279</td>\n",
       "      <td>0.026826</td>\n",
       "    </tr>\n",
       "    <tr>\n",
       "      <td>324</td>\n",
       "      <td>No log</td>\n",
       "      <td>1.070844</td>\n",
       "      <td>0.026826</td>\n",
       "    </tr>\n",
       "    <tr>\n",
       "      <td>360</td>\n",
       "      <td>No log</td>\n",
       "      <td>1.070705</td>\n",
       "      <td>0.026826</td>\n",
       "    </tr>\n",
=======
>>>>>>> 25e86886bb69352442a0b36826cc4565555db555
       "  </tbody>\n",
       "</table><p>"
      ],
      "text/plain": [
       "<IPython.core.display.HTML object>"
      ]
     },
     "metadata": {},
     "output_type": "display_data"
    },
    {
     "ename": "KeyboardInterrupt",
     "evalue": "",
     "output_type": "error",
     "traceback": [
      "\u001b[0;31m---------------------------------------------------------------------------\u001b[0m",
      "\u001b[0;31mKeyboardInterrupt\u001b[0m                         Traceback (most recent call last)",
      "Cell \u001b[0;32mIn[98], line 3\u001b[0m\n\u001b[1;32m      1\u001b[0m \u001b[38;5;28;01mif\u001b[39;00m TRAINING:\n\u001b[1;32m      2\u001b[0m     \u001b[38;5;66;03m# モデルの学習\u001b[39;00m\n\u001b[0;32m----> 3\u001b[0m     \u001b[43mtrainer\u001b[49m\u001b[38;5;241;43m.\u001b[39;49m\u001b[43mtrain\u001b[49m\u001b[43m(\u001b[49m\u001b[43m)\u001b[49m\n\u001b[1;32m      4\u001b[0m     \u001b[38;5;66;03m# ログの保存に利用したストレージを削除\u001b[39;00m\n\u001b[1;32m      5\u001b[0m     os\u001b[38;5;241m.\u001b[39msystem(\u001b[38;5;124mf\u001b[39m\u001b[38;5;124m\"\u001b[39m\u001b[38;5;124mrm -rf \u001b[39m\u001b[38;5;132;01m{\u001b[39;00mMODEL_OUTPUT_PATH\u001b[38;5;132;01m}\u001b[39;00m\u001b[38;5;124m/checkpoint-*\u001b[39m\u001b[38;5;124m\"\u001b[39m)\n",
      "File \u001b[0;32m/usr/local/lib/python3.11/dist-packages/transformers/trainer.py:1859\u001b[0m, in \u001b[0;36mTrainer.train\u001b[0;34m(self, resume_from_checkpoint, trial, ignore_keys_for_eval, **kwargs)\u001b[0m\n\u001b[1;32m   1857\u001b[0m         hf_hub_utils\u001b[38;5;241m.\u001b[39menable_progress_bars()\n\u001b[1;32m   1858\u001b[0m \u001b[38;5;28;01melse\u001b[39;00m:\n\u001b[0;32m-> 1859\u001b[0m     \u001b[38;5;28;01mreturn\u001b[39;00m \u001b[43minner_training_loop\u001b[49m\u001b[43m(\u001b[49m\n\u001b[1;32m   1860\u001b[0m \u001b[43m        \u001b[49m\u001b[43margs\u001b[49m\u001b[38;5;241;43m=\u001b[39;49m\u001b[43margs\u001b[49m\u001b[43m,\u001b[49m\n\u001b[1;32m   1861\u001b[0m \u001b[43m        \u001b[49m\u001b[43mresume_from_checkpoint\u001b[49m\u001b[38;5;241;43m=\u001b[39;49m\u001b[43mresume_from_checkpoint\u001b[49m\u001b[43m,\u001b[49m\n\u001b[1;32m   1862\u001b[0m \u001b[43m        \u001b[49m\u001b[43mtrial\u001b[49m\u001b[38;5;241;43m=\u001b[39;49m\u001b[43mtrial\u001b[49m\u001b[43m,\u001b[49m\n\u001b[1;32m   1863\u001b[0m \u001b[43m        \u001b[49m\u001b[43mignore_keys_for_eval\u001b[49m\u001b[38;5;241;43m=\u001b[39;49m\u001b[43mignore_keys_for_eval\u001b[49m\u001b[43m,\u001b[49m\n\u001b[1;32m   1864\u001b[0m \u001b[43m    \u001b[49m\u001b[43m)\u001b[49m\n",
      "File \u001b[0;32m/usr/local/lib/python3.11/dist-packages/transformers/trainer.py:2208\u001b[0m, in \u001b[0;36mTrainer._inner_training_loop\u001b[0;34m(self, batch_size, args, resume_from_checkpoint, trial, ignore_keys_for_eval)\u001b[0m\n\u001b[1;32m   2202\u001b[0m \u001b[38;5;28;01mwith\u001b[39;00m \u001b[38;5;28mself\u001b[39m\u001b[38;5;241m.\u001b[39maccelerator\u001b[38;5;241m.\u001b[39maccumulate(model):\n\u001b[1;32m   2203\u001b[0m     tr_loss_step \u001b[38;5;241m=\u001b[39m \u001b[38;5;28mself\u001b[39m\u001b[38;5;241m.\u001b[39mtraining_step(model, inputs)\n\u001b[1;32m   2205\u001b[0m \u001b[38;5;28;01mif\u001b[39;00m (\n\u001b[1;32m   2206\u001b[0m     args\u001b[38;5;241m.\u001b[39mlogging_nan_inf_filter\n\u001b[1;32m   2207\u001b[0m     \u001b[38;5;129;01mand\u001b[39;00m \u001b[38;5;129;01mnot\u001b[39;00m is_torch_xla_available()\n\u001b[0;32m-> 2208\u001b[0m     \u001b[38;5;129;01mand\u001b[39;00m (torch\u001b[38;5;241m.\u001b[39misnan(tr_loss_step) \u001b[38;5;129;01mor\u001b[39;00m \u001b[43mtorch\u001b[49m\u001b[38;5;241;43m.\u001b[39;49m\u001b[43misinf\u001b[49m\u001b[43m(\u001b[49m\u001b[43mtr_loss_step\u001b[49m\u001b[43m)\u001b[49m)\n\u001b[1;32m   2209\u001b[0m ):\n\u001b[1;32m   2210\u001b[0m     \u001b[38;5;66;03m# if loss is nan or inf simply add the average of previous logged losses\u001b[39;00m\n\u001b[1;32m   2211\u001b[0m     tr_loss \u001b[38;5;241m+\u001b[39m\u001b[38;5;241m=\u001b[39m tr_loss \u001b[38;5;241m/\u001b[39m (\u001b[38;5;241m1\u001b[39m \u001b[38;5;241m+\u001b[39m \u001b[38;5;28mself\u001b[39m\u001b[38;5;241m.\u001b[39mstate\u001b[38;5;241m.\u001b[39mglobal_step \u001b[38;5;241m-\u001b[39m \u001b[38;5;28mself\u001b[39m\u001b[38;5;241m.\u001b[39m_globalstep_last_logged)\n\u001b[1;32m   2212\u001b[0m \u001b[38;5;28;01melse\u001b[39;00m:\n",
      "\u001b[0;31mKeyboardInterrupt\u001b[0m: "
     ]
    },
    {
     "name": "stderr",
     "output_type": "stream",
     "text": [
      "/usr/local/lib/python3.11/dist-packages/torch/utils/checkpoint.py:429: UserWarning: torch.utils.checkpoint: please pass in use_reentrant=True or use_reentrant=False explicitly. The default value of use_reentrant will be updated to be False in the future. To maintain current behavior, pass use_reentrant=True. It is recommended that you use use_reentrant=False. Refer to docs for more details on the differences between the two variants.\n",
      "  warnings.warn(\n"
     ]
    },
    {
     "name": "stdout",
     "output_type": "stream",
     "text": [
      "[1.5 2.5 3.5 4.5 5.5]\n"
     ]
    },
    {
     "name": "stderr",
     "output_type": "stream",
     "text": [
      "/usr/local/lib/python3.11/dist-packages/torch/utils/checkpoint.py:429: UserWarning: torch.utils.checkpoint: please pass in use_reentrant=True or use_reentrant=False explicitly. The default value of use_reentrant will be updated to be False in the future. To maintain current behavior, pass use_reentrant=True. It is recommended that you use use_reentrant=False. Refer to docs for more details on the differences between the two variants.\n",
      "  warnings.warn(\n"
     ]
    },
    {
     "name": "stdout",
     "output_type": "stream",
     "text": [
      "[1.5   2.625 3.5   4.5   5.5  ]\n"
     ]
    },
    {
     "name": "stderr",
     "output_type": "stream",
     "text": [
      "/usr/local/lib/python3.11/dist-packages/torch/utils/checkpoint.py:429: UserWarning: torch.utils.checkpoint: please pass in use_reentrant=True or use_reentrant=False explicitly. The default value of use_reentrant will be updated to be False in the future. To maintain current behavior, pass use_reentrant=True. It is recommended that you use use_reentrant=False. Refer to docs for more details on the differences between the two variants.\n",
      "  warnings.warn(\n"
     ]
    },
    {
     "name": "stdout",
     "output_type": "stream",
     "text": [
      "[1.5 2.5 3.5 4.5 5.5]\n"
     ]
    },
    {
     "name": "stderr",
     "output_type": "stream",
     "text": [
      "/usr/local/lib/python3.11/dist-packages/torch/utils/checkpoint.py:429: UserWarning: torch.utils.checkpoint: please pass in use_reentrant=True or use_reentrant=False explicitly. The default value of use_reentrant will be updated to be False in the future. To maintain current behavior, pass use_reentrant=True. It is recommended that you use use_reentrant=False. Refer to docs for more details on the differences between the two variants.\n",
      "  warnings.warn(\n"
     ]
    },
    {
     "name": "stdout",
     "output_type": "stream",
     "text": [
      "[1.501875 2.503125 3.521875 4.505625 5.506875]\n"
     ]
    },
    {
     "name": "stderr",
     "output_type": "stream",
     "text": [
      "/usr/local/lib/python3.11/dist-packages/torch/utils/checkpoint.py:429: UserWarning: torch.utils.checkpoint: please pass in use_reentrant=True or use_reentrant=False explicitly. The default value of use_reentrant will be updated to be False in the future. To maintain current behavior, pass use_reentrant=True. It is recommended that you use use_reentrant=False. Refer to docs for more details on the differences between the two variants.\n",
      "  warnings.warn(\n"
     ]
    },
    {
     "name": "stdout",
     "output_type": "stream",
     "text": [
      "[1.5 2.5 3.5 4.5 5.5]\n"
     ]
    },
    {
     "name": "stderr",
     "output_type": "stream",
     "text": [
      "/usr/local/lib/python3.11/dist-packages/torch/utils/checkpoint.py:429: UserWarning: torch.utils.checkpoint: please pass in use_reentrant=True or use_reentrant=False explicitly. The default value of use_reentrant will be updated to be False in the future. To maintain current behavior, pass use_reentrant=True. It is recommended that you use use_reentrant=False. Refer to docs for more details on the differences between the two variants.\n",
      "  warnings.warn(\n"
     ]
    },
    {
     "name": "stdout",
     "output_type": "stream",
     "text": [
      "[1.5 2.5 3.5 4.5 5.5]\n"
     ]
    },
    {
     "name": "stderr",
     "output_type": "stream",
     "text": [
      "/usr/local/lib/python3.11/dist-packages/torch/utils/checkpoint.py:429: UserWarning: torch.utils.checkpoint: please pass in use_reentrant=True or use_reentrant=False explicitly. The default value of use_reentrant will be updated to be False in the future. To maintain current behavior, pass use_reentrant=True. It is recommended that you use use_reentrant=False. Refer to docs for more details on the differences between the two variants.\n",
      "  warnings.warn(\n"
     ]
    },
    {
     "name": "stdout",
     "output_type": "stream",
     "text": [
      "[1.5 2.5 3.5 4.5 5.5]\n"
     ]
    },
    {
     "name": "stderr",
     "output_type": "stream",
     "text": [
      "/usr/local/lib/python3.11/dist-packages/torch/utils/checkpoint.py:429: UserWarning: torch.utils.checkpoint: please pass in use_reentrant=True or use_reentrant=False explicitly. The default value of use_reentrant will be updated to be False in the future. To maintain current behavior, pass use_reentrant=True. It is recommended that you use use_reentrant=False. Refer to docs for more details on the differences between the two variants.\n",
      "  warnings.warn(\n"
     ]
    },
    {
     "name": "stdout",
     "output_type": "stream",
     "text": [
      "[1.5 2.5 3.5 4.5 5.5]\n"
     ]
    },
    {
     "name": "stderr",
     "output_type": "stream",
     "text": [
      "/usr/local/lib/python3.11/dist-packages/torch/utils/checkpoint.py:429: UserWarning: torch.utils.checkpoint: please pass in use_reentrant=True or use_reentrant=False explicitly. The default value of use_reentrant will be updated to be False in the future. To maintain current behavior, pass use_reentrant=True. It is recommended that you use use_reentrant=False. Refer to docs for more details on the differences between the two variants.\n",
      "  warnings.warn(\n"
     ]
    },
    {
     "name": "stdout",
     "output_type": "stream",
     "text": [
      "[1.5 2.5 3.5 4.5 5.5]\n"
     ]
    }
   ],
   "source": [
    "if TRAINING:\n",
    "    # モデルの学習\n",
    "    trainer.train()\n",
    "    # ログの保存に利用したストレージを削除\n",
    "    os.system(f\"rm -rf {MODEL_OUTPUT_PATH}/checkpoint-*\")\n",
    "    # モデルの保存\n",
    "    trainer.save_model(MODEL_OUTPUT_PATH)\n",
    "else:\n",
    "    # TRAINED_MODEL_PATHを用いて、学習済のモデルを読み込む\n",
    "    model = AutoModelForSequenceClassification.from_pretrained(\n",
    "        TRAINED_MODEL_PATH,\n",
    "        num_labels=1,\n",
    "        problem_type=\"regression\",\n",
    "    )\n",
    "\n",
    "    args = TrainingArguments(\n",
    "        \".\",\n",
    "        per_device_eval_batch_size=4,\n",
    "        report_to=\"none\",\n",
    "        fp16=True,\n",
    "    )\n",
    "\n",
    "    trainer = Trainer(\n",
    "        model=model,\n",
    "        args=args,\n",
    "        data_collator=data_collator,\n",
    "        tokenizer=tokenizer,\n",
    "    )"
   ]
  },
  {
   "cell_type": "markdown",
   "metadata": {},
   "source": [
    "# valid_datasetの作成・保存"
   ]
  },
  {
   "cell_type": "code",
   "execution_count": null,
   "metadata": {
    "autoscroll": "auto",
    "collapsed": false,
    "jupyter": {
     "outputs_hidden": false
    },
    "tags": []
   },
<<<<<<< HEAD
   "outputs": [
    {
     "name": "stderr",
     "output_type": "stream",
     "text": [
      "Setting TOKENIZERS_PARALLELISM=false for forked processes.\n"
     ]
    },
    {
     "data": {
      "application/vnd.jupyter.widget-view+json": {
       "model_id": "b6097138b48c4493811170b0b4b30969",
       "version_major": 2,
       "version_minor": 0
      },
      "text/plain": [
       "Filter (num_proc=8):   0%|          | 0/17307 [00:00<?, ? examples/s]"
      ]
     },
     "metadata": {},
     "output_type": "display_data"
    },
    {
     "data": {
      "application/vnd.jupyter.widget-view+json": {
       "model_id": "463d23b11ceb4dafb0b9baa86eafa86f",
       "version_major": 2,
       "version_minor": 0
      },
      "text/plain": [
       "Casting the dataset:   0%|          | 0/5769 [00:00<?, ? examples/s]"
      ]
     },
     "metadata": {},
     "output_type": "display_data"
    },
    {
     "name": "stderr",
     "output_type": "stream",
     "text": [
      "Setting TOKENIZERS_PARALLELISM=false for forked processes.\n"
     ]
    },
    {
     "data": {
      "application/vnd.jupyter.widget-view+json": {
       "model_id": "ecc0ce3de90d4276b14d20f11416d950",
       "version_major": 2,
       "version_minor": 0
      },
      "text/plain": [
       "Map (num_proc=8):   0%|          | 0/5769 [00:00<?, ? examples/s]"
      ]
     },
     "metadata": {},
     "output_type": "display_data"
    },
    {
     "data": {
      "text/html": [],
      "text/plain": [
       "<IPython.core.display.HTML object>"
      ]
     },
     "metadata": {},
     "output_type": "display_data"
    },
    {
     "name": "stdout",
     "output_type": "stream",
     "text": [
      "[1.50375 2.50625 3.54375 4.51125 5.51375]\n"
     ]
    },
    {
     "data": {
      "application/vnd.jupyter.widget-view+json": {
       "model_id": "96c442e47212426295f50500f2e48065",
       "version_major": 2,
       "version_minor": 0
      },
      "text/plain": [
       "Map:   0%|          | 0/5769 [00:00<?, ? examples/s]"
      ]
     },
     "metadata": {},
     "output_type": "display_data"
    }
   ],
=======
   "outputs": [],
>>>>>>> 25e86886bb69352442a0b36826cc4565555db555
   "source": [
    "# valid_dataset = train_test_split_dataset[\"valid\"]\n",
    "# TRAININGをINFERRENCEでMAX_TOKENを変えるために、validを作り直す\n",
    "valid_dataset = train_dataset.filter(\n",
    "    lambda example: example[\"essay_id\"]\n",
    "    in train_test_split_dataset[\"valid\"][\"essay_id\"],\n",
    "    num_proc=NUM_PROC,\n",
    ")\n",
    "\n",
    "# labelsはfloatにする\n",
    "valid_dataset = valid_dataset.cast_column(\"labels\", Value(dtype=\"float\"))\n",
    "\n",
    "valid_dataset = valid_dataset.map(\n",
    "    preprocess_function,\n",
    "    batched=True,\n",
    "    fn_kwargs={\"max_token_length\": INFERENCE_MAX_LENGTH},\n",
    "    num_proc=NUM_PROC,\n",
    ")\n",
    "\n",
    "\n",
    "def add_valid_pred(example, idx, valid_pred):\n",
    "    example[\"valid_pred\"] = valid_pred[idx]\n",
    "    return example\n",
    "\n",
    "\n",
    "valid_pred = trainer.predict(valid_dataset).predictions.flatten()\n",
    "\n",
    "np.save(f\"{MODEL_OUTPUT_PATH}/valid_prediction.npy\", valid_pred)\n",
    "\n",
    "valid_dataset = valid_dataset.map(\n",
    "    add_valid_pred, with_indices=True, fn_kwargs={\"valid_pred\": valid_pred}\n",
    ")"
   ]
  },
  {
   "cell_type": "code",
   "execution_count": null,
   "metadata": {
    "autoscroll": "auto",
    "collapsed": false,
    "jupyter": {
     "outputs_hidden": false
    },
    "tags": []
   },
<<<<<<< HEAD
   "outputs": [
    {
     "data": {
      "application/vnd.jupyter.widget-view+json": {
       "model_id": "aed2d5b2243343e7900eb1632e2bed4c",
       "version_major": 2,
       "version_minor": 0
      },
      "text/plain": [
       "Saving the dataset (0/1 shards):   0%|          | 0/5769 [00:00<?, ? examples/s]"
      ]
     },
     "metadata": {},
     "output_type": "display_data"
    }
   ],
=======
   "outputs": [],
>>>>>>> 25e86886bb69352442a0b36826cc4565555db555
   "source": [
    "valid_dataset.save_to_disk(f\"{MODEL_OUTPUT_PATH}/valid_dataset\")"
   ]
  },
  {
   "cell_type": "markdown",
   "metadata": {},
   "source": [
    "# CVの計算"
   ]
  },
  {
   "cell_type": "code",
   "execution_count": null,
   "metadata": {
    "autoscroll": "auto",
    "collapsed": false,
    "jupyter": {
     "outputs_hidden": false
    },
    "tags": []
   },
<<<<<<< HEAD
   "outputs": [
    {
     "data": {
      "application/vnd.jupyter.widget-view+json": {
       "model_id": "c7179608694040398dbe5515c4b7b435",
       "version_major": 2,
       "version_minor": 0
      },
      "text/plain": [
       "Map:   0%|          | 0/5769 [00:00<?, ? examples/s]"
      ]
     },
     "metadata": {},
     "output_type": "display_data"
    },
    {
     "name": "stdout",
     "output_type": "stream",
     "text": [
      "CV Score by round: 0.0009975361088490065\n"
     ]
    }
   ],
=======
   "outputs": [],
>>>>>>> 25e86886bb69352442a0b36826cc4565555db555
   "source": [
    "# for regression\n",
    "def clip_valid_pred(example):\n",
    "    # 四捨五入を実施\n",
    "    example[\"valid_pred\"] = np.clip(example[\"valid_pred\"], 1, 6).round()\n",
    "    return example\n",
    "\n",
    "\n",
    "valid_dataset = valid_dataset.map(clip_valid_pred)\n",
    "\n",
    "cv_score = cohen_kappa_score(\n",
    "    valid_dataset[\"labels\"], valid_dataset[\"valid_pred\"], weights=\"quadratic\"\n",
    ")\n",
    "\n",
    "print(f\"CV Score by round: {cv_score}\")"
   ]
  },
  {
   "cell_type": "code",
   "execution_count": null,
   "metadata": {
    "autoscroll": "auto",
    "collapsed": false,
    "jupyter": {
     "outputs_hidden": false
    },
    "tags": []
   },
<<<<<<< HEAD
   "outputs": [
    {
     "name": "stdout",
     "output_type": "stream",
     "text": [
      "[1.50375 2.50625 3.54375 4.51125 5.51375]\n"
     ]
    }
   ],
=======
   "outputs": [],
>>>>>>> 25e86886bb69352442a0b36826cc4565555db555
   "source": [
    "optR = OptimizedRounder()\n",
    "optR.fit(valid_pred, valid_dataset[\"labels\"])\n",
    "print(optR.coefficients)\n",
    "\n",
    "optimized = optR.predict(valid_pred, optR.coefficients)"
   ]
  },
  {
   "cell_type": "code",
   "execution_count": null,
   "metadata": {
    "tags": []
   },
   "outputs": [],
   "source": [
    "np.save(f\"{MODEL_OUTPUT_PATH}/opt_thr.npy\", optR.coefficients)"
   ]
  },
  {
   "cell_type": "code",
   "execution_count": null,
   "metadata": {
    "autoscroll": "auto",
    "collapsed": false,
    "jupyter": {
     "outputs_hidden": false
    },
    "tags": []
   },
<<<<<<< HEAD
   "outputs": [
    {
     "name": "stdout",
     "output_type": "stream",
     "text": [
      "CV Score by NelderMead: 0.0012981312029248793\n"
     ]
    }
   ],
=======
   "outputs": [],
>>>>>>> 25e86886bb69352442a0b36826cc4565555db555
   "source": [
    "cv_score = cohen_kappa_score(valid_dataset[\"labels\"], optimized, weights=\"quadratic\")\n",
    "\n",
    "print(f\"CV Score by NelderMead: {cv_score}\")"
   ]
  },
  {
   "cell_type": "code",
   "execution_count": null,
   "metadata": {
    "tags": []
   },
   "outputs": [],
   "source": [
    "# output_textを保存\n",
    "with open(f\"{MODEL_OUTPUT_PATH}/cv_score.txt\", \"w\") as f:\n",
    "    f.write(str(cv_score))"
   ]
  },
  {
   "cell_type": "markdown",
   "metadata": {},
   "source": [
    "# 混同行列の計算"
   ]
  },
  {
   "cell_type": "code",
   "execution_count": null,
   "metadata": {
    "autoscroll": "auto",
    "collapsed": false,
    "jupyter": {
     "outputs_hidden": false
    }
   },
<<<<<<< HEAD
   "outputs": [
    {
     "data": {
      "image/png": "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",
      "text/plain": [
       "<Figure size 640x480 with 2 Axes>"
      ]
     },
     "metadata": {},
     "output_type": "display_data"
    }
   ],
=======
   "outputs": [],
>>>>>>> 25e86886bb69352442a0b36826cc4565555db555
   "source": [
    "import matplotlib.pyplot as plt\n",
    "from sklearn.metrics import confusion_matrix, ConfusionMatrixDisplay\n",
    "\n",
    "cm = confusion_matrix(\n",
    "    valid_dataset[\"labels\"],\n",
    "    valid_dataset[\"valid_pred\"],\n",
    "    labels=[x for x in range(1, 7)],\n",
    ")\n",
    "\n",
    "draw_cm = ConfusionMatrixDisplay(\n",
    "    confusion_matrix=cm, display_labels=[x for x in range(1, 7)]\n",
    ")\n",
    "\n",
    "draw_cm.plot()\n",
    "plt.savefig(f\"{MODEL_OUTPUT_PATH}/confusion_matrix.png\")\n",
    "plt.show()"
   ]
  },
  {
   "cell_type": "markdown",
   "metadata": {},
   "source": [
    "# AWSへのアップロード"
   ]
  },
  {
   "cell_type": "code",
<<<<<<< HEAD
   "execution_count": 43,
   "metadata": {},
   "outputs": [
    {
     "name": "stdout",
     "output_type": "stream",
     "text": [
      "  % Total    % Received % Xferd  Average Speed   Time    Time     Time  Current\n",
      "                                 Dload  Upload   Total   Spent    Left  Speed\n",
      "100 57.9M  100 57.9M    0     0   150M      0 --:--:-- --:--:-- --:--:--  150M\n",
      "You can now run: /usr/local/bin/aws --version\n",
      "upload: ../../trained_models/e037-lstm/cv_score.txt to s3://automated-essay-scoring/trained_model/e037-lstm/cv_score.txt\n",
      "upload: ../../trained_models/e037-lstm/config.json to s3://automated-essay-scoring/trained_model/e037-lstm/config.json\n",
      "upload: ../../trained_models/e037-lstm/opt_thr.npy to s3://automated-essay-scoring/trained_model/e037-lstm/opt_thr.npy\n",
      "upload: ../../trained_models/e037-lstm/special_tokens_map.json to s3://automated-essay-scoring/trained_model/e037-lstm/special_tokens_map.json\n",
      "upload: ../../trained_models/e037-lstm/added_tokens.json to s3://automated-essay-scoring/trained_model/e037-lstm/added_tokens.json\n",
      "upload: ../../trained_models/e037-lstm/confusion_matrix.png to s3://automated-essay-scoring/trained_model/e037-lstm/confusion_matrix.png\n",
      "upload: ../../trained_models/e037-lstm/tokenizer_config.json to s3://automated-essay-scoring/trained_model/e037-lstm/tokenizer_config.json\n",
      "upload: ../../trained_models/e037-lstm/training_args.bin to s3://automated-essay-scoring/trained_model/e037-lstm/training_args.bin\n",
      "upload: ../../trained_models/e037-lstm/valid_dataset/dataset_info.json to s3://automated-essay-scoring/trained_model/e037-lstm/valid_dataset/dataset_info.json\n",
      "upload: ../../trained_models/e037-lstm/valid_dataset/state.json to s3://automated-essay-scoring/trained_model/e037-lstm/valid_dataset/state.json\n",
      "upload: ../../trained_models/e037-lstm/valid_prediction.npy to s3://automated-essay-scoring/trained_model/e037-lstm/valid_prediction.npy\n",
      "upload: ../../trained_models/e037-lstm/spm.model to s3://automated-essay-scoring/trained_model/e037-lstm/spm.model\n",
      "upload: ../../trained_models/e037-lstm/tokenizer.json to s3://automated-essay-scoring/trained_model/e037-lstm/tokenizer.json\n",
      "upload: ../../trained_models/e037-lstm/valid_dataset/data-00000-of-00001.arrow to s3://automated-essay-scoring/trained_model/e037-lstm/valid_dataset/data-00000-of-00001.arrow\n",
      "upload: ../../trained_models/e037-lstm/model.safetensors to s3://automated-essay-scoring/trained_model/e037-lstm/model.safetensors\n"
     ]
=======
   "execution_count": null,
   "metadata": {
    "execution": {
     "iopub.execute_input": "2024-05-24T00:37:02.553221Z",
     "iopub.status.busy": "2024-05-24T00:37:02.551680Z",
     "iopub.status.idle": "2024-05-24T00:37:26.774596Z",
     "shell.execute_reply": "2024-05-24T00:37:26.773307Z"
>>>>>>> 25e86886bb69352442a0b36826cc4565555db555
    }
   ],
   "source": [
    "# S3へのアップロード\n",
    "if not DEBUG and UPLOAD_DATA_TO_S3:\n",
    "    # uninstall\n",
    "    !sudo rm /usr/bin/aws\n",
    "    !sudo rm /usr/bin/aws_completer\n",
    "    !sudo rm -rf /usr/local/aws-cli\n",
    "\n",
    "    # install\n",
    "    !curl \"https://awscli.amazonaws.com/awscli-exe-linux-x86_64.zip\" -o \"awscliv2.zip\"\n",
    "    !unzip -o -qq awscliv2.zip\n",
    "    !sudo ./aws/install --update\n",
    "\n",
    "    # upload\n",
    "    output_name = MODEL_OUTPUT_PATH.split(\"/\")[-1]\n",
    "    os.system(\n",
    "        f\"aws s3 cp --recursive {MODEL_OUTPUT_PATH} s3://automated-essay-scoring/trained_model/{output_name}\"\n",
    "    )"
   ]
  },
  {
   "cell_type": "code",
<<<<<<< HEAD
   "execution_count": 44,
   "metadata": {},
=======
   "execution_count": null,
   "metadata": {
    "execution": {
     "iopub.execute_input": "2024-05-24T00:37:26.778462Z",
     "iopub.status.busy": "2024-05-24T00:37:26.777489Z",
     "iopub.status.idle": "2024-05-24T00:37:26.781797Z",
     "shell.execute_reply": "2024-05-24T00:37:26.780918Z"
    }
   },
>>>>>>> 25e86886bb69352442a0b36826cc4565555db555
   "outputs": [],
   "source": [
    "# ダウンロード（参考）\n",
    "# !sudo rm /usr/bin/aws\n",
    "# !sudo rm /usr/bin/aws_completer\n",
    "# !sudo rm -rf /usr/local/aws-cli\n",
    "\n",
    "# !curl \"https://awscli.amazonaws.com/awscli-exe-linux-x86_64.zip\" -o \"awscliv2.zip\"\n",
    "# !unzip -o -qq awscliv2.zip\n",
    "# !sudo ./aws/install --update\n",
    "\n",
    "# !aws s3 cp --recursive s3://automated-essay-scoring/trained_model/e005-regression /notebooks/automated_essay_scoring/trained_models/e005-regression"
   ]
  },
  {
   "cell_type": "markdown",
   "metadata": {},
   "source": [
    "# Kaggle Datasetへのupload"
   ]
  },
  {
   "cell_type": "code",
   "execution_count": null,
   "metadata": {
    "autoscroll": "auto",
    "collapsed": false,
    "jupyter": {
     "outputs_hidden": false
    },
    "tags": []
   },
   "outputs": [
    {
     "name": "stdout",
     "output_type": "stream",
     "text": [
      "Create Dataset name:e037-lstm-deberta-v3-xsmall, output_dir:../../trained_models/e037-lstm\n",
      "Starting upload for file cv_score.txt\n"
     ]
    },
    {
     "name": "stderr",
     "output_type": "stream",
     "text": [
      "100%|██████████| 21.0/21.0 [00:00<00:00, 57.7B/s]\n"
     ]
    },
    {
     "name": "stdout",
     "output_type": "stream",
     "text": [
      "Upload successful: cv_score.txt (21B)\n",
      "Starting upload for file training_args.bin\n"
     ]
    },
    {
     "name": "stderr",
     "output_type": "stream",
     "text": [
      "100%|██████████| 4.93k/4.93k [00:00<00:00, 14.2kB/s]\n"
     ]
    },
    {
     "name": "stdout",
     "output_type": "stream",
     "text": [
      "Upload successful: training_args.bin (5KB)\n",
      "Starting upload for file tokenizer.json\n"
     ]
    },
    {
     "name": "stderr",
     "output_type": "stream",
     "text": [
      "100%|██████████| 8.26M/8.26M [00:00<00:00, 16.1MB/s]\n"
     ]
    },
    {
     "name": "stdout",
     "output_type": "stream",
     "text": [
      "Upload successful: tokenizer.json (8MB)\n",
      "Starting upload for file valid_prediction.npy\n"
     ]
    },
    {
     "name": "stderr",
     "output_type": "stream",
     "text": [
      "100%|██████████| 22.7k/22.7k [00:00<00:00, 61.0kB/s]\n"
     ]
    },
    {
     "name": "stdout",
     "output_type": "stream",
     "text": [
      "Upload successful: valid_prediction.npy (23KB)\n",
      "Starting upload for file confusion_matrix.png\n"
     ]
    },
    {
     "name": "stderr",
     "output_type": "stream",
     "text": [
      "100%|██████████| 23.5k/23.5k [00:00<00:00, 63.0kB/s]\n"
     ]
    },
    {
     "name": "stdout",
     "output_type": "stream",
     "text": [
      "Upload successful: confusion_matrix.png (23KB)\n",
      "Starting upload for file opt_thr.npy\n"
     ]
    },
    {
     "name": "stderr",
     "output_type": "stream",
     "text": [
      "100%|██████████| 168/168 [00:00<00:00, 504B/s]  \n"
     ]
    },
    {
     "name": "stdout",
     "output_type": "stream",
     "text": [
      "Upload successful: opt_thr.npy (168B)\n",
      "Starting upload for file config.json\n"
     ]
    },
    {
     "name": "stderr",
     "output_type": "stream",
     "text": [
      "100%|██████████| 960/960 [00:00<00:00, 2.50kB/s]\n"
     ]
    },
    {
     "name": "stdout",
     "output_type": "stream",
     "text": [
      "Upload successful: config.json (960B)\n",
      "Starting upload for file valid_dataset.tar\n"
     ]
    },
    {
     "name": "stderr",
     "output_type": "stream",
     "text": [
      "100%|██████████| 62.4M/62.4M [00:00<00:00, 66.7MB/s]\n"
     ]
    },
    {
     "name": "stdout",
     "output_type": "stream",
     "text": [
      "Upload successful: valid_dataset.tar (62MB)\n",
      "Starting upload for file added_tokens.json\n"
     ]
    },
    {
     "name": "stderr",
     "output_type": "stream",
     "text": [
      "100%|██████████| 39.0/39.0 [00:00<00:00, 110B/s]\n"
     ]
    },
    {
     "name": "stdout",
     "output_type": "stream",
     "text": [
      "Upload successful: added_tokens.json (39B)\n",
      "Starting upload for file tokenizer_config.json\n"
     ]
    },
    {
     "name": "stderr",
     "output_type": "stream",
     "text": [
      "100%|██████████| 1.42k/1.42k [00:00<00:00, 3.98kB/s]\n"
     ]
    },
    {
     "name": "stdout",
     "output_type": "stream",
     "text": [
      "Upload successful: tokenizer_config.json (1KB)\n",
      "Starting upload for file model.safetensors\n"
     ]
    },
    {
     "name": "stderr",
     "output_type": "stream",
     "text": [
      "100%|██████████| 279M/279M [00:02<00:00, 118MB/s]  \n"
     ]
    },
    {
     "name": "stdout",
     "output_type": "stream",
     "text": [
      "Upload successful: model.safetensors (279MB)\n",
      "Starting upload for file special_tokens_map.json\n"
     ]
    },
    {
     "name": "stderr",
     "output_type": "stream",
     "text": [
      "100%|██████████| 286/286 [00:00<00:00, 775B/s]  \n"
     ]
    },
    {
     "name": "stdout",
     "output_type": "stream",
     "text": [
      "Upload successful: special_tokens_map.json (286B)\n",
      "Starting upload for file spm.model\n"
     ]
    },
    {
     "name": "stderr",
     "output_type": "stream",
     "text": [
      "100%|██████████| 2.35M/2.35M [00:00<00:00, 5.45MB/s]"
     ]
    },
    {
     "name": "stdout",
     "output_type": "stream",
     "text": [
      "Upload successful: spm.model (2MB)\n"
     ]
    },
    {
     "name": "stderr",
     "output_type": "stream",
     "text": [
      "\n"
     ]
    }
   ],
   "source": [
    "if not DEBUG and UPLOAD_DATA_TO_KAGGLE:\n",
    "    import os\n",
    "    import json\n",
    "\n",
    "    from kaggle.api.kaggle_api_extended import KaggleApi\n",
    "\n",
    "    def dataset_create_new(dataset_name: str, upload_dir: str):\n",
    "        # if \"_\" in dataset_name:\n",
    "        #     raise ValueError(\"datasetの名称に_の使用は禁止です\")\n",
    "        dataset_metadata = {}\n",
    "        dataset_metadata[\"id\"] = f\"sinchir0/{dataset_name}\"\n",
    "        dataset_metadata[\"licenses\"] = [{\"name\": \"CC0-1.0\"}]\n",
    "        dataset_metadata[\"title\"] = dataset_name\n",
    "        with open(os.path.join(upload_dir, \"dataset-metadata.json\"), \"w\") as f:\n",
    "            json.dump(dataset_metadata, f, indent=4)\n",
    "        api = KaggleApi()\n",
    "        api.authenticate()\n",
    "        api.dataset_create_new(folder=upload_dir, convert_to_csv=False, dir_mode=\"tar\")\n",
    "\n",
    "    print(f\"Create Dataset name:{DATASET_NAME}, output_dir:{MODEL_OUTPUT_PATH}\")\n",
    "    dataset_create_new(dataset_name=DATASET_NAME, upload_dir=MODEL_OUTPUT_PATH)"
   ]
  },
  {
   "cell_type": "markdown",
   "metadata": {},
   "source": [
    "# ローカルからのデータの削除"
   ]
  },
  {
   "cell_type": "code",
<<<<<<< HEAD
   "execution_count": 46,
   "metadata": {},
=======
   "execution_count": null,
   "metadata": {
    "execution": {
     "iopub.execute_input": "2024-05-24T00:37:42.444656Z",
     "iopub.status.busy": "2024-05-24T00:37:42.444218Z",
     "iopub.status.idle": "2024-05-24T00:37:42.487276Z",
     "shell.execute_reply": "2024-05-24T00:37:42.486667Z"
    }
   },
>>>>>>> 25e86886bb69352442a0b36826cc4565555db555
   "outputs": [],
   "source": [
    "if not DEBUG and (UPLOAD_DATA_TO_S3 or UPLOAD_DATA_TO_KAGGLE):\n",
    "    # ローカルからは削除\n",
    "    os.system(f\"rm -rf {MODEL_OUTPUT_PATH}\")"
   ]
  },
  {
   "cell_type": "code",
   "execution_count": null,
   "metadata": {
    "autoscroll": "auto",
    "collapsed": false,
    "jupyter": {
     "outputs_hidden": false
    },
    "tags": []
   },
<<<<<<< HEAD
   "outputs": [
    {
     "data": {
      "application/vnd.jupyter.widget-view+json": {
       "model_id": "",
       "version_major": 2,
       "version_minor": 0
      },
      "text/plain": [
       "VBox(children=(Label(value='0.002 MB of 0.002 MB uploaded\\r'), FloatProgress(value=1.0, max=1.0)))"
      ]
     },
     "metadata": {},
     "output_type": "display_data"
    },
    {
     "data": {
      "text/html": [
       "W&B sync reduced upload amount by 9.4%             "
      ],
      "text/plain": [
       "<IPython.core.display.HTML object>"
      ]
     },
     "metadata": {},
     "output_type": "display_data"
    },
    {
     "data": {
      "text/html": [
       "<style>\n",
       "    table.wandb td:nth-child(1) { padding: 0 10px; text-align: left ; width: auto;} td:nth-child(2) {text-align: left ; width: 100%}\n",
       "    .wandb-row { display: flex; flex-direction: row; flex-wrap: wrap; justify-content: flex-start; width: 100% }\n",
       "    .wandb-col { display: flex; flex-direction: column; flex-basis: 100%; flex: 1; padding: 10px; }\n",
       "    </style>\n",
       "<div class=\"wandb-row\"><div class=\"wandb-col\"><h3>Run history:</h3><br/><table class=\"wandb\"><tr><td>eval/loss</td><td>█▁▁▁▁▁▁▁▁▁</td></tr><tr><td>eval/qwk</td><td>▄▁▅▄██████</td></tr><tr><td>eval/runtime</td><td>▅▆▇██▆▁█▄▃</td></tr><tr><td>eval/samples_per_second</td><td>▄▄▂▁▁▃█▁▅▆</td></tr><tr><td>eval/steps_per_second</td><td>▄▄▁▁▁▃█▁▅▆</td></tr><tr><td>train/epoch</td><td>▁▂▃▃▄▅▆▆▇██</td></tr><tr><td>train/global_step</td><td>▁▂▃▃▄▅▆▆▇██</td></tr></table><br/></div><div class=\"wandb-col\"><h3>Run summary:</h3><br/><table class=\"wandb\"><tr><td>eval/loss</td><td>1.0707</td></tr><tr><td>eval/qwk</td><td>0.02683</td></tr><tr><td>eval/runtime</td><td>332.7232</td></tr><tr><td>eval/samples_per_second</td><td>17.339</td></tr><tr><td>eval/steps_per_second</td><td>2.17</td></tr><tr><td>total_flos</td><td>6696268181950464.0</td></tr><tr><td>train/epoch</td><td>3.99168</td></tr><tr><td>train/global_step</td><td>360</td></tr><tr><td>train_loss</td><td>1.77946</td></tr><tr><td>train_runtime</td><td>12043.9676</td></tr><tr><td>train_samples_per_second</td><td>3.832</td></tr><tr><td>train_steps_per_second</td><td>0.03</td></tr></table><br/></div></div>"
      ],
      "text/plain": [
       "<IPython.core.display.HTML object>"
      ]
     },
     "metadata": {},
     "output_type": "display_data"
    },
    {
     "data": {
      "text/html": [
       " View run <strong style=\"color:#cdcd00\">e037-lstm</strong> at: <a href='https://wandb.ai/sinchir0/automated_essay_scoring/runs/kqhfanub' target=\"_blank\">https://wandb.ai/sinchir0/automated_essay_scoring/runs/kqhfanub</a><br/> View project at: <a href='https://wandb.ai/sinchir0/automated_essay_scoring' target=\"_blank\">https://wandb.ai/sinchir0/automated_essay_scoring</a><br/>Synced 5 W&B file(s), 0 media file(s), 2 artifact file(s) and 0 other file(s)"
      ],
      "text/plain": [
       "<IPython.core.display.HTML object>"
      ]
     },
     "metadata": {},
     "output_type": "display_data"
    },
    {
     "data": {
      "text/html": [
       "Find logs at: <code>./wandb/run-20240604_134057-kqhfanub/logs</code>"
      ],
      "text/plain": [
       "<IPython.core.display.HTML object>"
      ]
     },
     "metadata": {},
     "output_type": "display_data"
    }
   ],
=======
   "outputs": [],
>>>>>>> 25e86886bb69352442a0b36826cc4565555db555
   "source": [
    "if WANDB:\n",
    "    wandb.finish()"
   ]
  },
  {
   "cell_type": "code",
   "execution_count": null,
   "metadata": {
    "autoscroll": "auto",
    "collapsed": false,
    "jupyter": {
     "outputs_hidden": false
    },
    "tags": []
   },
   "outputs": [],
   "source": [
    "print(\"finish Notebook!\")"
   ]
  },
  {
   "cell_type": "code",
   "execution_count": null,
   "metadata": {},
   "outputs": [],
   "source": []
  }
 ],
 "metadata": {
  "kernelspec": {
   "display_name": "Python 3 (ipykernel)",
   "language": "python",
   "name": "python3"
  },
  "language_info": {
   "codemirror_mode": {
    "name": "ipython",
    "version": 3
   },
   "file_extension": ".py",
   "mimetype": "text/x-python",
   "name": "python",
   "nbconvert_exporter": "python",
   "pygments_lexer": "ipython3",
   "version": "3.11.7"
  },
  "widgets": {
   "application/vnd.jupyter.widget-state+json": {
    "state": {
     "0748278886034fbfb03e29496140ba2e": {
      "model_module": "@jupyter-widgets/controls",
      "model_module_version": "2.0.0",
      "model_name": "HTMLStyleModel",
      "state": {
       "_model_module": "@jupyter-widgets/controls",
       "_model_module_version": "2.0.0",
       "_model_name": "HTMLStyleModel",
       "_view_count": null,
       "_view_module": "@jupyter-widgets/base",
       "_view_module_version": "2.0.0",
       "_view_name": "StyleView",
       "background": null,
       "description_width": "",
       "font_size": null,
       "text_color": null
      }
     },
     "078394dc833d495784980088e0590dc0": {
      "model_module": "@jupyter-widgets/controls",
      "model_module_version": "2.0.0",
      "model_name": "HTMLModel",
      "state": {
       "_dom_classes": [],
       "_model_module": "@jupyter-widgets/controls",
       "_model_module_version": "2.0.0",
       "_model_name": "HTMLModel",
       "_view_count": null,
       "_view_module": "@jupyter-widgets/controls",
       "_view_module_version": "2.0.0",
       "_view_name": "HTMLView",
       "description": "",
       "description_allow_html": false,
       "layout": "IPY_MODEL_07909620e1de4004a4838bf1c098531b",
       "placeholder": "​",
       "style": "IPY_MODEL_6885670b58744bbd8fa036baaf2446b9",
       "tabbable": null,
       "tooltip": null,
       "value": " 5769/5769 [00:00&lt;00:00, 103369.94 examples/s]"
      }
     },
     "07909620e1de4004a4838bf1c098531b": {
      "model_module": "@jupyter-widgets/base",
      "model_module_version": "2.0.0",
      "model_name": "LayoutModel",
      "state": {
       "_model_module": "@jupyter-widgets/base",
       "_model_module_version": "2.0.0",
       "_model_name": "LayoutModel",
       "_view_count": null,
       "_view_module": "@jupyter-widgets/base",
       "_view_module_version": "2.0.0",
       "_view_name": "LayoutView",
       "align_content": null,
       "align_items": null,
       "align_self": null,
       "border_bottom": null,
       "border_left": null,
       "border_right": null,
       "border_top": null,
       "bottom": null,
       "display": null,
       "flex": null,
       "flex_flow": null,
       "grid_area": null,
       "grid_auto_columns": null,
       "grid_auto_flow": null,
       "grid_auto_rows": null,
       "grid_column": null,
       "grid_gap": null,
       "grid_row": null,
       "grid_template_areas": null,
       "grid_template_columns": null,
       "grid_template_rows": null,
       "height": null,
       "justify_content": null,
       "justify_items": null,
       "left": null,
       "margin": null,
       "max_height": null,
       "max_width": null,
       "min_height": null,
       "min_width": null,
       "object_fit": null,
       "object_position": null,
       "order": null,
       "overflow": null,
       "padding": null,
       "right": null,
       "top": null,
       "visibility": null,
       "width": null
      }
     },
     "0cf0ed002026422e839c1108eb81ad90": {
      "model_module": "@jupyter-widgets/base",
      "model_module_version": "2.0.0",
      "model_name": "LayoutModel",
      "state": {
       "_model_module": "@jupyter-widgets/base",
       "_model_module_version": "2.0.0",
       "_model_name": "LayoutModel",
       "_view_count": null,
       "_view_module": "@jupyter-widgets/base",
       "_view_module_version": "2.0.0",
       "_view_name": "LayoutView",
       "align_content": null,
       "align_items": null,
       "align_self": null,
       "border_bottom": null,
       "border_left": null,
       "border_right": null,
       "border_top": null,
       "bottom": null,
       "display": null,
       "flex": null,
       "flex_flow": null,
       "grid_area": null,
       "grid_auto_columns": null,
       "grid_auto_flow": null,
       "grid_auto_rows": null,
       "grid_column": null,
       "grid_gap": null,
       "grid_row": null,
       "grid_template_areas": null,
       "grid_template_columns": null,
       "grid_template_rows": null,
       "height": null,
       "justify_content": null,
       "justify_items": null,
       "left": null,
       "margin": null,
       "max_height": null,
       "max_width": null,
       "min_height": null,
       "min_width": null,
       "object_fit": null,
       "object_position": null,
       "order": null,
       "overflow": null,
       "padding": null,
       "right": null,
       "top": null,
       "visibility": null,
       "width": null
      }
     },
     "0d51dcb5de2f4b1b92c63edabf129b38": {
      "model_module": "@jupyter-widgets/base",
      "model_module_version": "2.0.0",
      "model_name": "LayoutModel",
      "state": {
       "_model_module": "@jupyter-widgets/base",
       "_model_module_version": "2.0.0",
       "_model_name": "LayoutModel",
       "_view_count": null,
       "_view_module": "@jupyter-widgets/base",
       "_view_module_version": "2.0.0",
       "_view_name": "LayoutView",
       "align_content": null,
       "align_items": null,
       "align_self": null,
       "border_bottom": null,
       "border_left": null,
       "border_right": null,
       "border_top": null,
       "bottom": null,
       "display": null,
       "flex": null,
       "flex_flow": null,
       "grid_area": null,
       "grid_auto_columns": null,
       "grid_auto_flow": null,
       "grid_auto_rows": null,
       "grid_column": null,
       "grid_gap": null,
       "grid_row": null,
       "grid_template_areas": null,
       "grid_template_columns": null,
       "grid_template_rows": null,
       "height": null,
       "justify_content": null,
       "justify_items": null,
       "left": null,
       "margin": null,
       "max_height": null,
       "max_width": null,
       "min_height": null,
       "min_width": null,
       "object_fit": null,
       "object_position": null,
       "order": null,
       "overflow": null,
       "padding": null,
       "right": null,
       "top": null,
       "visibility": null,
       "width": null
      }
     },
     "0ed786ad16124af4add4bac8d004e226": {
      "model_module": "@jupyter-widgets/base",
      "model_module_version": "2.0.0",
      "model_name": "LayoutModel",
      "state": {
       "_model_module": "@jupyter-widgets/base",
       "_model_module_version": "2.0.0",
       "_model_name": "LayoutModel",
       "_view_count": null,
       "_view_module": "@jupyter-widgets/base",
       "_view_module_version": "2.0.0",
       "_view_name": "LayoutView",
       "align_content": null,
       "align_items": null,
       "align_self": null,
       "border_bottom": null,
       "border_left": null,
       "border_right": null,
       "border_top": null,
       "bottom": null,
       "display": null,
       "flex": null,
       "flex_flow": null,
       "grid_area": null,
       "grid_auto_columns": null,
       "grid_auto_flow": null,
       "grid_auto_rows": null,
       "grid_column": null,
       "grid_gap": null,
       "grid_row": null,
       "grid_template_areas": null,
       "grid_template_columns": null,
       "grid_template_rows": null,
       "height": null,
       "justify_content": null,
       "justify_items": null,
       "left": null,
       "margin": null,
       "max_height": null,
       "max_width": null,
       "min_height": null,
       "min_width": null,
       "object_fit": null,
       "object_position": null,
       "order": null,
       "overflow": null,
       "padding": null,
       "right": null,
       "top": null,
       "visibility": null,
       "width": null
      }
     },
     "135f7190785647509f18c8ceba4bf751": {
      "model_module": "@jupyter-widgets/base",
      "model_module_version": "2.0.0",
      "model_name": "LayoutModel",
      "state": {
       "_model_module": "@jupyter-widgets/base",
       "_model_module_version": "2.0.0",
       "_model_name": "LayoutModel",
       "_view_count": null,
       "_view_module": "@jupyter-widgets/base",
       "_view_module_version": "2.0.0",
       "_view_name": "LayoutView",
       "align_content": null,
       "align_items": null,
       "align_self": null,
       "border_bottom": null,
       "border_left": null,
       "border_right": null,
       "border_top": null,
       "bottom": null,
       "display": null,
       "flex": null,
       "flex_flow": null,
       "grid_area": null,
       "grid_auto_columns": null,
       "grid_auto_flow": null,
       "grid_auto_rows": null,
       "grid_column": null,
       "grid_gap": null,
       "grid_row": null,
       "grid_template_areas": null,
       "grid_template_columns": null,
       "grid_template_rows": null,
       "height": null,
       "justify_content": null,
       "justify_items": null,
       "left": null,
       "margin": null,
       "max_height": null,
       "max_width": null,
       "min_height": null,
       "min_width": null,
       "object_fit": null,
       "object_position": null,
       "order": null,
       "overflow": null,
       "padding": null,
       "right": null,
       "top": null,
       "visibility": null,
       "width": null
      }
     },
     "146efda91d094dfba37df8d694baed4e": {
      "model_module": "@jupyter-widgets/controls",
      "model_module_version": "2.0.0",
      "model_name": "HTMLModel",
      "state": {
       "_dom_classes": [],
       "_model_module": "@jupyter-widgets/controls",
       "_model_module_version": "2.0.0",
       "_model_name": "HTMLModel",
       "_view_count": null,
       "_view_module": "@jupyter-widgets/controls",
       "_view_module_version": "2.0.0",
       "_view_name": "HTMLView",
       "description": "",
       "description_allow_html": false,
       "layout": "IPY_MODEL_70d36e130b1f41e8bce3a6af1463ad9b",
       "placeholder": "​",
       "style": "IPY_MODEL_9150e746ba994896b4e91779b1c3d371",
       "tabbable": null,
       "tooltip": null,
       "value": " 5769/5769 [00:00&lt;00:00, 10901.71 examples/s]"
      }
     },
     "18a3e78a8a3b4d078043563c845f6ebc": {
      "model_module": "@jupyter-widgets/controls",
      "model_module_version": "2.0.0",
      "model_name": "HBoxModel",
      "state": {
       "_dom_classes": [],
       "_model_module": "@jupyter-widgets/controls",
       "_model_module_version": "2.0.0",
       "_model_name": "HBoxModel",
       "_view_count": null,
       "_view_module": "@jupyter-widgets/controls",
       "_view_module_version": "2.0.0",
       "_view_name": "HBoxView",
       "box_style": "",
       "children": [
        "IPY_MODEL_296580682a2647cd9ed7f49d00754a64",
        "IPY_MODEL_1ddd63b3f1254c38bfe26249a63fddf5",
        "IPY_MODEL_e2c276df85ba492a9a7cc9df902014ff"
       ],
       "layout": "IPY_MODEL_135f7190785647509f18c8ceba4bf751",
       "tabbable": null,
       "tooltip": null
      }
     },
     "1a266dcbd5b64f819d38e5477e2e667c": {
      "model_module": "@jupyter-widgets/controls",
      "model_module_version": "2.0.0",
      "model_name": "HTMLModel",
      "state": {
       "_dom_classes": [],
       "_model_module": "@jupyter-widgets/controls",
       "_model_module_version": "2.0.0",
       "_model_name": "HTMLModel",
       "_view_count": null,
       "_view_module": "@jupyter-widgets/controls",
       "_view_module_version": "2.0.0",
       "_view_name": "HTMLView",
       "description": "",
       "description_allow_html": false,
       "layout": "IPY_MODEL_0cf0ed002026422e839c1108eb81ad90",
       "placeholder": "​",
       "style": "IPY_MODEL_39194b7c76b1450f92c89bd1a8ad849b",
       "tabbable": null,
       "tooltip": null,
       "value": "Map (num_proc=8): 100%"
      }
     },
     "1bbd503147e5412e9f42697d336bb99a": {
      "model_module": "@jupyter-widgets/base",
      "model_module_version": "2.0.0",
      "model_name": "LayoutModel",
      "state": {
       "_model_module": "@jupyter-widgets/base",
       "_model_module_version": "2.0.0",
       "_model_name": "LayoutModel",
       "_view_count": null,
       "_view_module": "@jupyter-widgets/base",
       "_view_module_version": "2.0.0",
       "_view_name": "LayoutView",
       "align_content": null,
       "align_items": null,
       "align_self": null,
       "border_bottom": null,
       "border_left": null,
       "border_right": null,
       "border_top": null,
       "bottom": null,
       "display": null,
       "flex": null,
       "flex_flow": null,
       "grid_area": null,
       "grid_auto_columns": null,
       "grid_auto_flow": null,
       "grid_auto_rows": null,
       "grid_column": null,
       "grid_gap": null,
       "grid_row": null,
       "grid_template_areas": null,
       "grid_template_columns": null,
       "grid_template_rows": null,
       "height": null,
       "justify_content": null,
       "justify_items": null,
       "left": null,
       "margin": null,
       "max_height": null,
       "max_width": null,
       "min_height": null,
       "min_width": null,
       "object_fit": null,
       "object_position": null,
       "order": null,
       "overflow": null,
       "padding": null,
       "right": null,
       "top": null,
       "visibility": null,
       "width": null
      }
     },
     "1ddd63b3f1254c38bfe26249a63fddf5": {
      "model_module": "@jupyter-widgets/controls",
      "model_module_version": "2.0.0",
      "model_name": "FloatProgressModel",
      "state": {
       "_dom_classes": [],
       "_model_module": "@jupyter-widgets/controls",
       "_model_module_version": "2.0.0",
       "_model_name": "FloatProgressModel",
       "_view_count": null,
       "_view_module": "@jupyter-widgets/controls",
       "_view_module_version": "2.0.0",
       "_view_name": "ProgressView",
       "bar_style": "success",
       "description": "",
       "description_allow_html": false,
       "layout": "IPY_MODEL_4bddbde25b0a40cca327bbed81d5076a",
       "max": 17307,
       "min": 0,
       "orientation": "horizontal",
       "style": "IPY_MODEL_376ac0de306e4d4bb0b7ef145eb726e4",
       "tabbable": null,
       "tooltip": null,
       "value": 17307
      }
     },
     "2608f459d4ab40f18d84dc544e255956": {
      "model_module": "@jupyter-widgets/controls",
      "model_module_version": "2.0.0",
      "model_name": "HTMLStyleModel",
      "state": {
       "_model_module": "@jupyter-widgets/controls",
       "_model_module_version": "2.0.0",
       "_model_name": "HTMLStyleModel",
       "_view_count": null,
       "_view_module": "@jupyter-widgets/base",
       "_view_module_version": "2.0.0",
       "_view_name": "StyleView",
       "background": null,
       "description_width": "",
       "font_size": null,
       "text_color": null
      }
     },
     "296580682a2647cd9ed7f49d00754a64": {
      "model_module": "@jupyter-widgets/controls",
      "model_module_version": "2.0.0",
      "model_name": "HTMLModel",
      "state": {
       "_dom_classes": [],
       "_model_module": "@jupyter-widgets/controls",
       "_model_module_version": "2.0.0",
       "_model_name": "HTMLModel",
       "_view_count": null,
       "_view_module": "@jupyter-widgets/controls",
       "_view_module_version": "2.0.0",
       "_view_name": "HTMLView",
       "description": "",
       "description_allow_html": false,
       "layout": "IPY_MODEL_ad5eecb6f3da410e86e56fc411037c63",
       "placeholder": "​",
       "style": "IPY_MODEL_f1accbf505944293b7da7599b5ffda5a",
       "tabbable": null,
       "tooltip": null,
       "value": "Filter (num_proc=8): 100%"
      }
     },
     "376ac0de306e4d4bb0b7ef145eb726e4": {
      "model_module": "@jupyter-widgets/controls",
      "model_module_version": "2.0.0",
      "model_name": "ProgressStyleModel",
      "state": {
       "_model_module": "@jupyter-widgets/controls",
       "_model_module_version": "2.0.0",
       "_model_name": "ProgressStyleModel",
       "_view_count": null,
       "_view_module": "@jupyter-widgets/base",
       "_view_module_version": "2.0.0",
       "_view_name": "StyleView",
       "bar_color": null,
       "description_width": ""
      }
     },
     "39194b7c76b1450f92c89bd1a8ad849b": {
      "model_module": "@jupyter-widgets/controls",
      "model_module_version": "2.0.0",
      "model_name": "HTMLStyleModel",
      "state": {
       "_model_module": "@jupyter-widgets/controls",
       "_model_module_version": "2.0.0",
       "_model_name": "HTMLStyleModel",
       "_view_count": null,
       "_view_module": "@jupyter-widgets/base",
       "_view_module_version": "2.0.0",
       "_view_name": "StyleView",
       "background": null,
       "description_width": "",
       "font_size": null,
       "text_color": null
      }
     },
     "404e7db0fd92488ba7a090b2a76e53ef": {
      "model_module": "@jupyter-widgets/controls",
      "model_module_version": "2.0.0",
      "model_name": "HBoxModel",
      "state": {
       "_dom_classes": [],
       "_model_module": "@jupyter-widgets/controls",
       "_model_module_version": "2.0.0",
       "_model_name": "HBoxModel",
       "_view_count": null,
       "_view_module": "@jupyter-widgets/controls",
       "_view_module_version": "2.0.0",
       "_view_name": "HBoxView",
       "box_style": "",
       "children": [
        "IPY_MODEL_f08323e2bef740808aa0bc37a145131b",
        "IPY_MODEL_f2f7759e087e47f2934346f459cb2357",
        "IPY_MODEL_146efda91d094dfba37df8d694baed4e"
       ],
       "layout": "IPY_MODEL_73669beeb7a1403ca9e23d533980dd03",
       "tabbable": null,
       "tooltip": null
      }
     },
     "4125d40358e641cebcf8868f0fd16f9e": {
      "model_module": "@jupyter-widgets/base",
      "model_module_version": "2.0.0",
      "model_name": "LayoutModel",
      "state": {
       "_model_module": "@jupyter-widgets/base",
       "_model_module_version": "2.0.0",
       "_model_name": "LayoutModel",
       "_view_count": null,
       "_view_module": "@jupyter-widgets/base",
       "_view_module_version": "2.0.0",
       "_view_name": "LayoutView",
       "align_content": null,
       "align_items": null,
       "align_self": null,
       "border_bottom": null,
       "border_left": null,
       "border_right": null,
       "border_top": null,
       "bottom": null,
       "display": null,
       "flex": null,
       "flex_flow": null,
       "grid_area": null,
       "grid_auto_columns": null,
       "grid_auto_flow": null,
       "grid_auto_rows": null,
       "grid_column": null,
       "grid_gap": null,
       "grid_row": null,
       "grid_template_areas": null,
       "grid_template_columns": null,
       "grid_template_rows": null,
       "height": null,
       "justify_content": null,
       "justify_items": null,
       "left": null,
       "margin": null,
       "max_height": null,
       "max_width": null,
       "min_height": null,
       "min_width": null,
       "object_fit": null,
       "object_position": null,
       "order": null,
       "overflow": null,
       "padding": null,
       "right": null,
       "top": null,
       "visibility": null,
       "width": null
      }
     },
     "413f3a145ff74465a392022df2b2eb5d": {
      "model_module": "@jupyter-widgets/base",
      "model_module_version": "2.0.0",
      "model_name": "LayoutModel",
      "state": {
       "_model_module": "@jupyter-widgets/base",
       "_model_module_version": "2.0.0",
       "_model_name": "LayoutModel",
       "_view_count": null,
       "_view_module": "@jupyter-widgets/base",
       "_view_module_version": "2.0.0",
       "_view_name": "LayoutView",
       "align_content": null,
       "align_items": null,
       "align_self": null,
       "border_bottom": null,
       "border_left": null,
       "border_right": null,
       "border_top": null,
       "bottom": null,
       "display": null,
       "flex": null,
       "flex_flow": null,
       "grid_area": null,
       "grid_auto_columns": null,
       "grid_auto_flow": null,
       "grid_auto_rows": null,
       "grid_column": null,
       "grid_gap": null,
       "grid_row": null,
       "grid_template_areas": null,
       "grid_template_columns": null,
       "grid_template_rows": null,
       "height": null,
       "justify_content": null,
       "justify_items": null,
       "left": null,
       "margin": null,
       "max_height": null,
       "max_width": null,
       "min_height": null,
       "min_width": null,
       "object_fit": null,
       "object_position": null,
       "order": null,
       "overflow": null,
       "padding": null,
       "right": null,
       "top": null,
       "visibility": null,
       "width": null
      }
     },
     "41f5f07b1a28452899bf3f565674ed2f": {
      "model_module": "@jupyter-widgets/controls",
      "model_module_version": "2.0.0",
      "model_name": "ProgressStyleModel",
      "state": {
       "_model_module": "@jupyter-widgets/controls",
       "_model_module_version": "2.0.0",
       "_model_name": "ProgressStyleModel",
       "_view_count": null,
       "_view_module": "@jupyter-widgets/base",
       "_view_module_version": "2.0.0",
       "_view_name": "StyleView",
       "bar_color": null,
       "description_width": ""
      }
     },
     "453d967d80474a9b9b3635509df12267": {
      "model_module": "@jupyter-widgets/base",
      "model_module_version": "2.0.0",
      "model_name": "LayoutModel",
      "state": {
       "_model_module": "@jupyter-widgets/base",
       "_model_module_version": "2.0.0",
       "_model_name": "LayoutModel",
       "_view_count": null,
       "_view_module": "@jupyter-widgets/base",
       "_view_module_version": "2.0.0",
       "_view_name": "LayoutView",
       "align_content": null,
       "align_items": null,
       "align_self": null,
       "border_bottom": null,
       "border_left": null,
       "border_right": null,
       "border_top": null,
       "bottom": null,
       "display": null,
       "flex": null,
       "flex_flow": null,
       "grid_area": null,
       "grid_auto_columns": null,
       "grid_auto_flow": null,
       "grid_auto_rows": null,
       "grid_column": null,
       "grid_gap": null,
       "grid_row": null,
       "grid_template_areas": null,
       "grid_template_columns": null,
       "grid_template_rows": null,
       "height": null,
       "justify_content": null,
       "justify_items": null,
       "left": null,
       "margin": null,
       "max_height": null,
       "max_width": null,
       "min_height": null,
       "min_width": null,
       "object_fit": null,
       "object_position": null,
       "order": null,
       "overflow": null,
       "padding": null,
       "right": null,
       "top": null,
       "visibility": null,
       "width": null
      }
     },
     "4ad31957a5d74280b68d7bcf465e3f20": {
      "model_module": "@jupyter-widgets/base",
      "model_module_version": "2.0.0",
      "model_name": "LayoutModel",
      "state": {
       "_model_module": "@jupyter-widgets/base",
       "_model_module_version": "2.0.0",
       "_model_name": "LayoutModel",
       "_view_count": null,
       "_view_module": "@jupyter-widgets/base",
       "_view_module_version": "2.0.0",
       "_view_name": "LayoutView",
       "align_content": null,
       "align_items": null,
       "align_self": null,
       "border_bottom": null,
       "border_left": null,
       "border_right": null,
       "border_top": null,
       "bottom": null,
       "display": null,
       "flex": null,
       "flex_flow": null,
       "grid_area": null,
       "grid_auto_columns": null,
       "grid_auto_flow": null,
       "grid_auto_rows": null,
       "grid_column": null,
       "grid_gap": null,
       "grid_row": null,
       "grid_template_areas": null,
       "grid_template_columns": null,
       "grid_template_rows": null,
       "height": null,
       "justify_content": null,
       "justify_items": null,
       "left": null,
       "margin": null,
       "max_height": null,
       "max_width": null,
       "min_height": null,
       "min_width": null,
       "object_fit": null,
       "object_position": null,
       "order": null,
       "overflow": null,
       "padding": null,
       "right": null,
       "top": null,
       "visibility": null,
       "width": null
      }
     },
     "4bddbde25b0a40cca327bbed81d5076a": {
      "model_module": "@jupyter-widgets/base",
      "model_module_version": "2.0.0",
      "model_name": "LayoutModel",
      "state": {
       "_model_module": "@jupyter-widgets/base",
       "_model_module_version": "2.0.0",
       "_model_name": "LayoutModel",
       "_view_count": null,
       "_view_module": "@jupyter-widgets/base",
       "_view_module_version": "2.0.0",
       "_view_name": "LayoutView",
       "align_content": null,
       "align_items": null,
       "align_self": null,
       "border_bottom": null,
       "border_left": null,
       "border_right": null,
       "border_top": null,
       "bottom": null,
       "display": null,
       "flex": null,
       "flex_flow": null,
       "grid_area": null,
       "grid_auto_columns": null,
       "grid_auto_flow": null,
       "grid_auto_rows": null,
       "grid_column": null,
       "grid_gap": null,
       "grid_row": null,
       "grid_template_areas": null,
       "grid_template_columns": null,
       "grid_template_rows": null,
       "height": null,
       "justify_content": null,
       "justify_items": null,
       "left": null,
       "margin": null,
       "max_height": null,
       "max_width": null,
       "min_height": null,
       "min_width": null,
       "object_fit": null,
       "object_position": null,
       "order": null,
       "overflow": null,
       "padding": null,
       "right": null,
       "top": null,
       "visibility": null,
       "width": null
      }
     },
     "518cd741ac1646d0ac5457f9eacc5f9b": {
      "model_module": "@jupyter-widgets/controls",
      "model_module_version": "2.0.0",
      "model_name": "HBoxModel",
      "state": {
       "_dom_classes": [],
       "_model_module": "@jupyter-widgets/controls",
       "_model_module_version": "2.0.0",
       "_model_name": "HBoxModel",
       "_view_count": null,
       "_view_module": "@jupyter-widgets/controls",
       "_view_module_version": "2.0.0",
       "_view_name": "HBoxView",
       "box_style": "",
       "children": [
        "IPY_MODEL_d3e823981c9f44678eaf4dd50c548ba2",
        "IPY_MODEL_9a4c014a0a5d486599fa8c71b67cc62b",
        "IPY_MODEL_078394dc833d495784980088e0590dc0"
       ],
       "layout": "IPY_MODEL_951baaa944ff40cc86b9d389619d021a",
       "tabbable": null,
       "tooltip": null
      }
     },
     "5408635765d6452dbc095497d1b2d706": {
      "model_module": "@jupyter-widgets/controls",
      "model_module_version": "2.0.0",
      "model_name": "HBoxModel",
      "state": {
       "_dom_classes": [],
       "_model_module": "@jupyter-widgets/controls",
       "_model_module_version": "2.0.0",
       "_model_name": "HBoxModel",
       "_view_count": null,
       "_view_module": "@jupyter-widgets/controls",
       "_view_module_version": "2.0.0",
       "_view_name": "HBoxView",
       "box_style": "",
       "children": [
        "IPY_MODEL_a6fec58df0e84252bc94668c2214c75b",
        "IPY_MODEL_6032122ab1f4490f84a3dadb6d96ff5f",
        "IPY_MODEL_cd4c33eb202a402d8a3e562211a300a8"
       ],
       "layout": "IPY_MODEL_fd2a685d04fe4e80a6cc3dd917e493b3",
       "tabbable": null,
       "tooltip": null
      }
     },
     "556c9cf42d8842e7b4b560d108b9bfa4": {
      "model_module": "@jupyter-widgets/base",
      "model_module_version": "2.0.0",
      "model_name": "LayoutModel",
      "state": {
       "_model_module": "@jupyter-widgets/base",
       "_model_module_version": "2.0.0",
       "_model_name": "LayoutModel",
       "_view_count": null,
       "_view_module": "@jupyter-widgets/base",
       "_view_module_version": "2.0.0",
       "_view_name": "LayoutView",
       "align_content": null,
       "align_items": null,
       "align_self": null,
       "border_bottom": null,
       "border_left": null,
       "border_right": null,
       "border_top": null,
       "bottom": null,
       "display": null,
       "flex": null,
       "flex_flow": null,
       "grid_area": null,
       "grid_auto_columns": null,
       "grid_auto_flow": null,
       "grid_auto_rows": null,
       "grid_column": null,
       "grid_gap": null,
       "grid_row": null,
       "grid_template_areas": null,
       "grid_template_columns": null,
       "grid_template_rows": null,
       "height": null,
       "justify_content": null,
       "justify_items": null,
       "left": null,
       "margin": null,
       "max_height": null,
       "max_width": null,
       "min_height": null,
       "min_width": null,
       "object_fit": null,
       "object_position": null,
       "order": null,
       "overflow": null,
       "padding": null,
       "right": null,
       "top": null,
       "visibility": null,
       "width": null
      }
     },
     "58d23bde5cab4f3fb6368c0de2fd9895": {
      "model_module": "@jupyter-widgets/controls",
      "model_module_version": "2.0.0",
      "model_name": "HTMLModel",
      "state": {
       "_dom_classes": [],
       "_model_module": "@jupyter-widgets/controls",
       "_model_module_version": "2.0.0",
       "_model_name": "HTMLModel",
       "_view_count": null,
       "_view_module": "@jupyter-widgets/controls",
       "_view_module_version": "2.0.0",
       "_view_name": "HTMLView",
       "description": "",
       "description_allow_html": false,
       "layout": "IPY_MODEL_bd21f005367e4509bafcac9cfa1b4982",
       "placeholder": "​",
       "style": "IPY_MODEL_0748278886034fbfb03e29496140ba2e",
       "tabbable": null,
       "tooltip": null,
       "value": "Map: 100%"
      }
     },
     "6032122ab1f4490f84a3dadb6d96ff5f": {
      "model_module": "@jupyter-widgets/controls",
      "model_module_version": "2.0.0",
      "model_name": "FloatProgressModel",
      "state": {
       "_dom_classes": [],
       "_model_module": "@jupyter-widgets/controls",
       "_model_module_version": "2.0.0",
       "_model_name": "FloatProgressModel",
       "_view_count": null,
       "_view_module": "@jupyter-widgets/controls",
       "_view_module_version": "2.0.0",
       "_view_name": "ProgressView",
       "bar_style": "success",
       "description": "",
       "description_allow_html": false,
       "layout": "IPY_MODEL_4ad31957a5d74280b68d7bcf465e3f20",
       "max": 5769,
       "min": 0,
       "orientation": "horizontal",
       "style": "IPY_MODEL_ccf9c36c0f1e45d78787e9659ad05524",
       "tabbable": null,
       "tooltip": null,
       "value": 5769
      }
     },
     "62f06303895249eca15ecadfe05dfb9a": {
      "model_module": "@jupyter-widgets/controls",
      "model_module_version": "2.0.0",
      "model_name": "HBoxModel",
      "state": {
       "_dom_classes": [],
       "_model_module": "@jupyter-widgets/controls",
       "_model_module_version": "2.0.0",
       "_model_name": "HBoxModel",
       "_view_count": null,
       "_view_module": "@jupyter-widgets/controls",
       "_view_module_version": "2.0.0",
       "_view_name": "HBoxView",
       "box_style": "",
       "children": [
        "IPY_MODEL_58d23bde5cab4f3fb6368c0de2fd9895",
        "IPY_MODEL_7fe31cebf9a74023a6572317eb65e4ca",
        "IPY_MODEL_85e79610deac43168bc110e69740da8c"
       ],
       "layout": "IPY_MODEL_413f3a145ff74465a392022df2b2eb5d",
       "tabbable": null,
       "tooltip": null
      }
     },
     "6885670b58744bbd8fa036baaf2446b9": {
      "model_module": "@jupyter-widgets/controls",
      "model_module_version": "2.0.0",
      "model_name": "HTMLStyleModel",
      "state": {
       "_model_module": "@jupyter-widgets/controls",
       "_model_module_version": "2.0.0",
       "_model_name": "HTMLStyleModel",
       "_view_count": null,
       "_view_module": "@jupyter-widgets/base",
       "_view_module_version": "2.0.0",
       "_view_name": "StyleView",
       "background": null,
       "description_width": "",
       "font_size": null,
       "text_color": null
      }
     },
     "707e1aa98eea4ab5b8671f05a33bc35a": {
      "model_module": "@jupyter-widgets/controls",
      "model_module_version": "2.0.0",
      "model_name": "FloatProgressModel",
      "state": {
       "_dom_classes": [],
       "_model_module": "@jupyter-widgets/controls",
       "_model_module_version": "2.0.0",
       "_model_name": "FloatProgressModel",
       "_view_count": null,
       "_view_module": "@jupyter-widgets/controls",
       "_view_module_version": "2.0.0",
       "_view_name": "ProgressView",
       "bar_style": "success",
       "description": "",
       "description_allow_html": false,
       "layout": "IPY_MODEL_556c9cf42d8842e7b4b560d108b9bfa4",
       "max": 5769,
       "min": 0,
       "orientation": "horizontal",
       "style": "IPY_MODEL_8bb215d9c0c04a0aae30bf4ee205e2e7",
       "tabbable": null,
       "tooltip": null,
       "value": 5769
      }
     },
     "70d36e130b1f41e8bce3a6af1463ad9b": {
      "model_module": "@jupyter-widgets/base",
      "model_module_version": "2.0.0",
      "model_name": "LayoutModel",
      "state": {
       "_model_module": "@jupyter-widgets/base",
       "_model_module_version": "2.0.0",
       "_model_name": "LayoutModel",
       "_view_count": null,
       "_view_module": "@jupyter-widgets/base",
       "_view_module_version": "2.0.0",
       "_view_name": "LayoutView",
       "align_content": null,
       "align_items": null,
       "align_self": null,
       "border_bottom": null,
       "border_left": null,
       "border_right": null,
       "border_top": null,
       "bottom": null,
       "display": null,
       "flex": null,
       "flex_flow": null,
       "grid_area": null,
       "grid_auto_columns": null,
       "grid_auto_flow": null,
       "grid_auto_rows": null,
       "grid_column": null,
       "grid_gap": null,
       "grid_row": null,
       "grid_template_areas": null,
       "grid_template_columns": null,
       "grid_template_rows": null,
       "height": null,
       "justify_content": null,
       "justify_items": null,
       "left": null,
       "margin": null,
       "max_height": null,
       "max_width": null,
       "min_height": null,
       "min_width": null,
       "object_fit": null,
       "object_position": null,
       "order": null,
       "overflow": null,
       "padding": null,
       "right": null,
       "top": null,
       "visibility": null,
       "width": null
      }
     },
     "73669beeb7a1403ca9e23d533980dd03": {
      "model_module": "@jupyter-widgets/base",
      "model_module_version": "2.0.0",
      "model_name": "LayoutModel",
      "state": {
       "_model_module": "@jupyter-widgets/base",
       "_model_module_version": "2.0.0",
       "_model_name": "LayoutModel",
       "_view_count": null,
       "_view_module": "@jupyter-widgets/base",
       "_view_module_version": "2.0.0",
       "_view_name": "LayoutView",
       "align_content": null,
       "align_items": null,
       "align_self": null,
       "border_bottom": null,
       "border_left": null,
       "border_right": null,
       "border_top": null,
       "bottom": null,
       "display": null,
       "flex": null,
       "flex_flow": null,
       "grid_area": null,
       "grid_auto_columns": null,
       "grid_auto_flow": null,
       "grid_auto_rows": null,
       "grid_column": null,
       "grid_gap": null,
       "grid_row": null,
       "grid_template_areas": null,
       "grid_template_columns": null,
       "grid_template_rows": null,
       "height": null,
       "justify_content": null,
       "justify_items": null,
       "left": null,
       "margin": null,
       "max_height": null,
       "max_width": null,
       "min_height": null,
       "min_width": null,
       "object_fit": null,
       "object_position": null,
       "order": null,
       "overflow": null,
       "padding": null,
       "right": null,
       "top": null,
       "visibility": null,
       "width": null
      }
     },
     "74940e296ae24d94b9c1ca48cb3bd2d4": {
      "model_module": "@jupyter-widgets/controls",
      "model_module_version": "2.0.0",
      "model_name": "ProgressStyleModel",
      "state": {
       "_model_module": "@jupyter-widgets/controls",
       "_model_module_version": "2.0.0",
       "_model_name": "ProgressStyleModel",
       "_view_count": null,
       "_view_module": "@jupyter-widgets/base",
       "_view_module_version": "2.0.0",
       "_view_name": "StyleView",
       "bar_color": null,
       "description_width": ""
      }
     },
     "7fe31cebf9a74023a6572317eb65e4ca": {
      "model_module": "@jupyter-widgets/controls",
      "model_module_version": "2.0.0",
      "model_name": "FloatProgressModel",
      "state": {
       "_dom_classes": [],
       "_model_module": "@jupyter-widgets/controls",
       "_model_module_version": "2.0.0",
       "_model_name": "FloatProgressModel",
       "_view_count": null,
       "_view_module": "@jupyter-widgets/controls",
       "_view_module_version": "2.0.0",
       "_view_name": "ProgressView",
       "bar_style": "success",
       "description": "",
       "description_allow_html": false,
       "layout": "IPY_MODEL_0ed786ad16124af4add4bac8d004e226",
       "max": 5769,
       "min": 0,
       "orientation": "horizontal",
       "style": "IPY_MODEL_8872a04a519e46f79ab071c43cf32fdd",
       "tabbable": null,
       "tooltip": null,
       "value": 5769
      }
     },
     "85e79610deac43168bc110e69740da8c": {
      "model_module": "@jupyter-widgets/controls",
      "model_module_version": "2.0.0",
      "model_name": "HTMLModel",
      "state": {
       "_dom_classes": [],
       "_model_module": "@jupyter-widgets/controls",
       "_model_module_version": "2.0.0",
       "_model_name": "HTMLModel",
       "_view_count": null,
       "_view_module": "@jupyter-widgets/controls",
       "_view_module_version": "2.0.0",
       "_view_name": "HTMLView",
       "description": "",
       "description_allow_html": false,
       "layout": "IPY_MODEL_86d61882c40d4176b2b7d618be9fc46e",
       "placeholder": "​",
       "style": "IPY_MODEL_9b12384916ff4acc848ce28a090842ec",
       "tabbable": null,
       "tooltip": null,
       "value": " 5769/5769 [00:00&lt;00:00, 11134.21 examples/s]"
      }
     },
     "86d61882c40d4176b2b7d618be9fc46e": {
      "model_module": "@jupyter-widgets/base",
      "model_module_version": "2.0.0",
      "model_name": "LayoutModel",
      "state": {
       "_model_module": "@jupyter-widgets/base",
       "_model_module_version": "2.0.0",
       "_model_name": "LayoutModel",
       "_view_count": null,
       "_view_module": "@jupyter-widgets/base",
       "_view_module_version": "2.0.0",
       "_view_name": "LayoutView",
       "align_content": null,
       "align_items": null,
       "align_self": null,
       "border_bottom": null,
       "border_left": null,
       "border_right": null,
       "border_top": null,
       "bottom": null,
       "display": null,
       "flex": null,
       "flex_flow": null,
       "grid_area": null,
       "grid_auto_columns": null,
       "grid_auto_flow": null,
       "grid_auto_rows": null,
       "grid_column": null,
       "grid_gap": null,
       "grid_row": null,
       "grid_template_areas": null,
       "grid_template_columns": null,
       "grid_template_rows": null,
       "height": null,
       "justify_content": null,
       "justify_items": null,
       "left": null,
       "margin": null,
       "max_height": null,
       "max_width": null,
       "min_height": null,
       "min_width": null,
       "object_fit": null,
       "object_position": null,
       "order": null,
       "overflow": null,
       "padding": null,
       "right": null,
       "top": null,
       "visibility": null,
       "width": null
      }
     },
     "8872a04a519e46f79ab071c43cf32fdd": {
      "model_module": "@jupyter-widgets/controls",
      "model_module_version": "2.0.0",
      "model_name": "ProgressStyleModel",
      "state": {
       "_model_module": "@jupyter-widgets/controls",
       "_model_module_version": "2.0.0",
       "_model_name": "ProgressStyleModel",
       "_view_count": null,
       "_view_module": "@jupyter-widgets/base",
       "_view_module_version": "2.0.0",
       "_view_name": "StyleView",
       "bar_color": null,
       "description_width": ""
      }
     },
     "8ad9b5301b924f2c8a2c78755bff0767": {
      "model_module": "@jupyter-widgets/base",
      "model_module_version": "2.0.0",
      "model_name": "LayoutModel",
      "state": {
       "_model_module": "@jupyter-widgets/base",
       "_model_module_version": "2.0.0",
       "_model_name": "LayoutModel",
       "_view_count": null,
       "_view_module": "@jupyter-widgets/base",
       "_view_module_version": "2.0.0",
       "_view_name": "LayoutView",
       "align_content": null,
       "align_items": null,
       "align_self": null,
       "border_bottom": null,
       "border_left": null,
       "border_right": null,
       "border_top": null,
       "bottom": null,
       "display": null,
       "flex": null,
       "flex_flow": null,
       "grid_area": null,
       "grid_auto_columns": null,
       "grid_auto_flow": null,
       "grid_auto_rows": null,
       "grid_column": null,
       "grid_gap": null,
       "grid_row": null,
       "grid_template_areas": null,
       "grid_template_columns": null,
       "grid_template_rows": null,
       "height": null,
       "justify_content": null,
       "justify_items": null,
       "left": null,
       "margin": null,
       "max_height": null,
       "max_width": null,
       "min_height": null,
       "min_width": null,
       "object_fit": null,
       "object_position": null,
       "order": null,
       "overflow": null,
       "padding": null,
       "right": null,
       "top": null,
       "visibility": null,
       "width": null
      }
     },
     "8bb215d9c0c04a0aae30bf4ee205e2e7": {
      "model_module": "@jupyter-widgets/controls",
      "model_module_version": "2.0.0",
      "model_name": "ProgressStyleModel",
      "state": {
       "_model_module": "@jupyter-widgets/controls",
       "_model_module_version": "2.0.0",
       "_model_name": "ProgressStyleModel",
       "_view_count": null,
       "_view_module": "@jupyter-widgets/base",
       "_view_module_version": "2.0.0",
       "_view_name": "StyleView",
       "bar_color": null,
       "description_width": ""
      }
     },
     "9150e746ba994896b4e91779b1c3d371": {
      "model_module": "@jupyter-widgets/controls",
      "model_module_version": "2.0.0",
      "model_name": "HTMLStyleModel",
      "state": {
       "_model_module": "@jupyter-widgets/controls",
       "_model_module_version": "2.0.0",
       "_model_name": "HTMLStyleModel",
       "_view_count": null,
       "_view_module": "@jupyter-widgets/base",
       "_view_module_version": "2.0.0",
       "_view_name": "StyleView",
       "background": null,
       "description_width": "",
       "font_size": null,
       "text_color": null
      }
     },
     "932ad06e3540493d8a2e1c3c2e8bfcf6": {
      "model_module": "@jupyter-widgets/controls",
      "model_module_version": "2.0.0",
      "model_name": "HTMLStyleModel",
      "state": {
       "_model_module": "@jupyter-widgets/controls",
       "_model_module_version": "2.0.0",
       "_model_name": "HTMLStyleModel",
       "_view_count": null,
       "_view_module": "@jupyter-widgets/base",
       "_view_module_version": "2.0.0",
       "_view_name": "StyleView",
       "background": null,
       "description_width": "",
       "font_size": null,
       "text_color": null
      }
     },
     "951baaa944ff40cc86b9d389619d021a": {
      "model_module": "@jupyter-widgets/base",
      "model_module_version": "2.0.0",
      "model_name": "LayoutModel",
      "state": {
       "_model_module": "@jupyter-widgets/base",
       "_model_module_version": "2.0.0",
       "_model_name": "LayoutModel",
       "_view_count": null,
       "_view_module": "@jupyter-widgets/base",
       "_view_module_version": "2.0.0",
       "_view_name": "LayoutView",
       "align_content": null,
       "align_items": null,
       "align_self": null,
       "border_bottom": null,
       "border_left": null,
       "border_right": null,
       "border_top": null,
       "bottom": null,
       "display": null,
       "flex": null,
       "flex_flow": null,
       "grid_area": null,
       "grid_auto_columns": null,
       "grid_auto_flow": null,
       "grid_auto_rows": null,
       "grid_column": null,
       "grid_gap": null,
       "grid_row": null,
       "grid_template_areas": null,
       "grid_template_columns": null,
       "grid_template_rows": null,
       "height": null,
       "justify_content": null,
       "justify_items": null,
       "left": null,
       "margin": null,
       "max_height": null,
       "max_width": null,
       "min_height": null,
       "min_width": null,
       "object_fit": null,
       "object_position": null,
       "order": null,
       "overflow": null,
       "padding": null,
       "right": null,
       "top": null,
       "visibility": null,
       "width": null
      }
     },
     "9a4c014a0a5d486599fa8c71b67cc62b": {
      "model_module": "@jupyter-widgets/controls",
      "model_module_version": "2.0.0",
      "model_name": "FloatProgressModel",
      "state": {
       "_dom_classes": [],
       "_model_module": "@jupyter-widgets/controls",
       "_model_module_version": "2.0.0",
       "_model_name": "FloatProgressModel",
       "_view_count": null,
       "_view_module": "@jupyter-widgets/controls",
       "_view_module_version": "2.0.0",
       "_view_name": "ProgressView",
       "bar_style": "success",
       "description": "",
       "description_allow_html": false,
       "layout": "IPY_MODEL_8ad9b5301b924f2c8a2c78755bff0767",
       "max": 5769,
       "min": 0,
       "orientation": "horizontal",
       "style": "IPY_MODEL_41f5f07b1a28452899bf3f565674ed2f",
       "tabbable": null,
       "tooltip": null,
       "value": 5769
      }
     },
     "9b12384916ff4acc848ce28a090842ec": {
      "model_module": "@jupyter-widgets/controls",
      "model_module_version": "2.0.0",
      "model_name": "HTMLStyleModel",
      "state": {
       "_model_module": "@jupyter-widgets/controls",
       "_model_module_version": "2.0.0",
       "_model_name": "HTMLStyleModel",
       "_view_count": null,
       "_view_module": "@jupyter-widgets/base",
       "_view_module_version": "2.0.0",
       "_view_name": "StyleView",
       "background": null,
       "description_width": "",
       "font_size": null,
       "text_color": null
      }
     },
     "a562e6d2a2b04380b0190e07dfe7bfe0": {
      "model_module": "@jupyter-widgets/controls",
      "model_module_version": "2.0.0",
      "model_name": "HTMLStyleModel",
      "state": {
       "_model_module": "@jupyter-widgets/controls",
       "_model_module_version": "2.0.0",
       "_model_name": "HTMLStyleModel",
       "_view_count": null,
       "_view_module": "@jupyter-widgets/base",
       "_view_module_version": "2.0.0",
       "_view_name": "StyleView",
       "background": null,
       "description_width": "",
       "font_size": null,
       "text_color": null
      }
     },
     "a6fec58df0e84252bc94668c2214c75b": {
      "model_module": "@jupyter-widgets/controls",
      "model_module_version": "2.0.0",
      "model_name": "HTMLModel",
      "state": {
       "_dom_classes": [],
       "_model_module": "@jupyter-widgets/controls",
       "_model_module_version": "2.0.0",
       "_model_name": "HTMLModel",
       "_view_count": null,
       "_view_module": "@jupyter-widgets/controls",
       "_view_module_version": "2.0.0",
       "_view_name": "HTMLView",
       "description": "",
       "description_allow_html": false,
       "layout": "IPY_MODEL_e53fdd6cbde6404394b4fd9a4e3b6a3b",
       "placeholder": "​",
       "style": "IPY_MODEL_bfa8147f517a4339b0790de9bd0cd7ba",
       "tabbable": null,
       "tooltip": null,
       "value": "Map: 100%"
      }
     },
     "ac31ae6be0f842a5a56ed8ba7e6a52f5": {
      "model_module": "@jupyter-widgets/base",
      "model_module_version": "2.0.0",
      "model_name": "LayoutModel",
      "state": {
       "_model_module": "@jupyter-widgets/base",
       "_model_module_version": "2.0.0",
       "_model_name": "LayoutModel",
       "_view_count": null,
       "_view_module": "@jupyter-widgets/base",
       "_view_module_version": "2.0.0",
       "_view_name": "LayoutView",
       "align_content": null,
       "align_items": null,
       "align_self": null,
       "border_bottom": null,
       "border_left": null,
       "border_right": null,
       "border_top": null,
       "bottom": null,
       "display": null,
       "flex": null,
       "flex_flow": null,
       "grid_area": null,
       "grid_auto_columns": null,
       "grid_auto_flow": null,
       "grid_auto_rows": null,
       "grid_column": null,
       "grid_gap": null,
       "grid_row": null,
       "grid_template_areas": null,
       "grid_template_columns": null,
       "grid_template_rows": null,
       "height": null,
       "justify_content": null,
       "justify_items": null,
       "left": null,
       "margin": null,
       "max_height": null,
       "max_width": null,
       "min_height": null,
       "min_width": null,
       "object_fit": null,
       "object_position": null,
       "order": null,
       "overflow": null,
       "padding": null,
       "right": null,
       "top": null,
       "visibility": null,
       "width": null
      }
     },
     "ad5eecb6f3da410e86e56fc411037c63": {
      "model_module": "@jupyter-widgets/base",
      "model_module_version": "2.0.0",
      "model_name": "LayoutModel",
      "state": {
       "_model_module": "@jupyter-widgets/base",
       "_model_module_version": "2.0.0",
       "_model_name": "LayoutModel",
       "_view_count": null,
       "_view_module": "@jupyter-widgets/base",
       "_view_module_version": "2.0.0",
       "_view_name": "LayoutView",
       "align_content": null,
       "align_items": null,
       "align_self": null,
       "border_bottom": null,
       "border_left": null,
       "border_right": null,
       "border_top": null,
       "bottom": null,
       "display": null,
       "flex": null,
       "flex_flow": null,
       "grid_area": null,
       "grid_auto_columns": null,
       "grid_auto_flow": null,
       "grid_auto_rows": null,
       "grid_column": null,
       "grid_gap": null,
       "grid_row": null,
       "grid_template_areas": null,
       "grid_template_columns": null,
       "grid_template_rows": null,
       "height": null,
       "justify_content": null,
       "justify_items": null,
       "left": null,
       "margin": null,
       "max_height": null,
       "max_width": null,
       "min_height": null,
       "min_width": null,
       "object_fit": null,
       "object_position": null,
       "order": null,
       "overflow": null,
       "padding": null,
       "right": null,
       "top": null,
       "visibility": null,
       "width": null
      }
     },
     "bd21f005367e4509bafcac9cfa1b4982": {
      "model_module": "@jupyter-widgets/base",
      "model_module_version": "2.0.0",
      "model_name": "LayoutModel",
      "state": {
       "_model_module": "@jupyter-widgets/base",
       "_model_module_version": "2.0.0",
       "_model_name": "LayoutModel",
       "_view_count": null,
       "_view_module": "@jupyter-widgets/base",
       "_view_module_version": "2.0.0",
       "_view_name": "LayoutView",
       "align_content": null,
       "align_items": null,
       "align_self": null,
       "border_bottom": null,
       "border_left": null,
       "border_right": null,
       "border_top": null,
       "bottom": null,
       "display": null,
       "flex": null,
       "flex_flow": null,
       "grid_area": null,
       "grid_auto_columns": null,
       "grid_auto_flow": null,
       "grid_auto_rows": null,
       "grid_column": null,
       "grid_gap": null,
       "grid_row": null,
       "grid_template_areas": null,
       "grid_template_columns": null,
       "grid_template_rows": null,
       "height": null,
       "justify_content": null,
       "justify_items": null,
       "left": null,
       "margin": null,
       "max_height": null,
       "max_width": null,
       "min_height": null,
       "min_width": null,
       "object_fit": null,
       "object_position": null,
       "order": null,
       "overflow": null,
       "padding": null,
       "right": null,
       "top": null,
       "visibility": null,
       "width": null
      }
     },
     "bfa8147f517a4339b0790de9bd0cd7ba": {
      "model_module": "@jupyter-widgets/controls",
      "model_module_version": "2.0.0",
      "model_name": "HTMLStyleModel",
      "state": {
       "_model_module": "@jupyter-widgets/controls",
       "_model_module_version": "2.0.0",
       "_model_name": "HTMLStyleModel",
       "_view_count": null,
       "_view_module": "@jupyter-widgets/base",
       "_view_module_version": "2.0.0",
       "_view_name": "StyleView",
       "background": null,
       "description_width": "",
       "font_size": null,
       "text_color": null
      }
     },
     "ccf9c36c0f1e45d78787e9659ad05524": {
      "model_module": "@jupyter-widgets/controls",
      "model_module_version": "2.0.0",
      "model_name": "ProgressStyleModel",
      "state": {
       "_model_module": "@jupyter-widgets/controls",
       "_model_module_version": "2.0.0",
       "_model_name": "ProgressStyleModel",
       "_view_count": null,
       "_view_module": "@jupyter-widgets/base",
       "_view_module_version": "2.0.0",
       "_view_name": "StyleView",
       "bar_color": null,
       "description_width": ""
      }
     },
     "cd4c33eb202a402d8a3e562211a300a8": {
      "model_module": "@jupyter-widgets/controls",
      "model_module_version": "2.0.0",
      "model_name": "HTMLModel",
      "state": {
       "_dom_classes": [],
       "_model_module": "@jupyter-widgets/controls",
       "_model_module_version": "2.0.0",
       "_model_name": "HTMLModel",
       "_view_count": null,
       "_view_module": "@jupyter-widgets/controls",
       "_view_module_version": "2.0.0",
       "_view_name": "HTMLView",
       "description": "",
       "description_allow_html": false,
       "layout": "IPY_MODEL_e883c3697e7145fc90f69705e3b0895e",
       "placeholder": "​",
       "style": "IPY_MODEL_f6b7bbc2767949afa42cc770edb6c796",
       "tabbable": null,
       "tooltip": null,
       "value": " 5769/5769 [00:00&lt;00:00, 8945.88 examples/s]"
      }
     },
     "d29897be9c4744eea574438e6890a774": {
      "model_module": "@jupyter-widgets/controls",
      "model_module_version": "2.0.0",
      "model_name": "HBoxModel",
      "state": {
       "_dom_classes": [],
       "_model_module": "@jupyter-widgets/controls",
       "_model_module_version": "2.0.0",
       "_model_name": "HBoxModel",
       "_view_count": null,
       "_view_module": "@jupyter-widgets/controls",
       "_view_module_version": "2.0.0",
       "_view_name": "HBoxView",
       "box_style": "",
       "children": [
        "IPY_MODEL_1a266dcbd5b64f819d38e5477e2e667c",
        "IPY_MODEL_707e1aa98eea4ab5b8671f05a33bc35a",
        "IPY_MODEL_e3f5183736a0454db679d24e085aaefd"
       ],
       "layout": "IPY_MODEL_0d51dcb5de2f4b1b92c63edabf129b38",
       "tabbable": null,
       "tooltip": null
      }
     },
     "d3e823981c9f44678eaf4dd50c548ba2": {
      "model_module": "@jupyter-widgets/controls",
      "model_module_version": "2.0.0",
      "model_name": "HTMLModel",
      "state": {
       "_dom_classes": [],
       "_model_module": "@jupyter-widgets/controls",
       "_model_module_version": "2.0.0",
       "_model_name": "HTMLModel",
       "_view_count": null,
       "_view_module": "@jupyter-widgets/controls",
       "_view_module_version": "2.0.0",
       "_view_name": "HTMLView",
       "description": "",
       "description_allow_html": false,
       "layout": "IPY_MODEL_ac31ae6be0f842a5a56ed8ba7e6a52f5",
       "placeholder": "​",
       "style": "IPY_MODEL_932ad06e3540493d8a2e1c3c2e8bfcf6",
       "tabbable": null,
       "tooltip": null,
       "value": "Saving the dataset (1/1 shards): 100%"
      }
     },
     "e2c276df85ba492a9a7cc9df902014ff": {
      "model_module": "@jupyter-widgets/controls",
      "model_module_version": "2.0.0",
      "model_name": "HTMLModel",
      "state": {
       "_dom_classes": [],
       "_model_module": "@jupyter-widgets/controls",
       "_model_module_version": "2.0.0",
       "_model_name": "HTMLModel",
       "_view_count": null,
       "_view_module": "@jupyter-widgets/controls",
       "_view_module_version": "2.0.0",
       "_view_name": "HTMLView",
       "description": "",
       "description_allow_html": false,
       "layout": "IPY_MODEL_ff7dc8ec16694a7a9ff44f61fb10535e",
       "placeholder": "​",
       "style": "IPY_MODEL_a562e6d2a2b04380b0190e07dfe7bfe0",
       "tabbable": null,
       "tooltip": null,
       "value": " 17307/17307 [00:13&lt;00:00, 3305.59 examples/s]"
      }
     },
     "e3f5183736a0454db679d24e085aaefd": {
      "model_module": "@jupyter-widgets/controls",
      "model_module_version": "2.0.0",
      "model_name": "HTMLModel",
      "state": {
       "_dom_classes": [],
       "_model_module": "@jupyter-widgets/controls",
       "_model_module_version": "2.0.0",
       "_model_name": "HTMLModel",
       "_view_count": null,
       "_view_module": "@jupyter-widgets/controls",
       "_view_module_version": "2.0.0",
       "_view_name": "HTMLView",
       "description": "",
       "description_allow_html": false,
       "layout": "IPY_MODEL_453d967d80474a9b9b3635509df12267",
       "placeholder": "​",
       "style": "IPY_MODEL_2608f459d4ab40f18d84dc544e255956",
       "tabbable": null,
       "tooltip": null,
       "value": " 5769/5769 [00:01&lt;00:00, 3467.25 examples/s]"
      }
     },
     "e53fdd6cbde6404394b4fd9a4e3b6a3b": {
      "model_module": "@jupyter-widgets/base",
      "model_module_version": "2.0.0",
      "model_name": "LayoutModel",
      "state": {
       "_model_module": "@jupyter-widgets/base",
       "_model_module_version": "2.0.0",
       "_model_name": "LayoutModel",
       "_view_count": null,
       "_view_module": "@jupyter-widgets/base",
       "_view_module_version": "2.0.0",
       "_view_name": "LayoutView",
       "align_content": null,
       "align_items": null,
       "align_self": null,
       "border_bottom": null,
       "border_left": null,
       "border_right": null,
       "border_top": null,
       "bottom": null,
       "display": null,
       "flex": null,
       "flex_flow": null,
       "grid_area": null,
       "grid_auto_columns": null,
       "grid_auto_flow": null,
       "grid_auto_rows": null,
       "grid_column": null,
       "grid_gap": null,
       "grid_row": null,
       "grid_template_areas": null,
       "grid_template_columns": null,
       "grid_template_rows": null,
       "height": null,
       "justify_content": null,
       "justify_items": null,
       "left": null,
       "margin": null,
       "max_height": null,
       "max_width": null,
       "min_height": null,
       "min_width": null,
       "object_fit": null,
       "object_position": null,
       "order": null,
       "overflow": null,
       "padding": null,
       "right": null,
       "top": null,
       "visibility": null,
       "width": null
      }
     },
     "e883c3697e7145fc90f69705e3b0895e": {
      "model_module": "@jupyter-widgets/base",
      "model_module_version": "2.0.0",
      "model_name": "LayoutModel",
      "state": {
       "_model_module": "@jupyter-widgets/base",
       "_model_module_version": "2.0.0",
       "_model_name": "LayoutModel",
       "_view_count": null,
       "_view_module": "@jupyter-widgets/base",
       "_view_module_version": "2.0.0",
       "_view_name": "LayoutView",
       "align_content": null,
       "align_items": null,
       "align_self": null,
       "border_bottom": null,
       "border_left": null,
       "border_right": null,
       "border_top": null,
       "bottom": null,
       "display": null,
       "flex": null,
       "flex_flow": null,
       "grid_area": null,
       "grid_auto_columns": null,
       "grid_auto_flow": null,
       "grid_auto_rows": null,
       "grid_column": null,
       "grid_gap": null,
       "grid_row": null,
       "grid_template_areas": null,
       "grid_template_columns": null,
       "grid_template_rows": null,
       "height": null,
       "justify_content": null,
       "justify_items": null,
       "left": null,
       "margin": null,
       "max_height": null,
       "max_width": null,
       "min_height": null,
       "min_width": null,
       "object_fit": null,
       "object_position": null,
       "order": null,
       "overflow": null,
       "padding": null,
       "right": null,
       "top": null,
       "visibility": null,
       "width": null
      }
     },
     "f08323e2bef740808aa0bc37a145131b": {
      "model_module": "@jupyter-widgets/controls",
      "model_module_version": "2.0.0",
      "model_name": "HTMLModel",
      "state": {
       "_dom_classes": [],
       "_model_module": "@jupyter-widgets/controls",
       "_model_module_version": "2.0.0",
       "_model_name": "HTMLModel",
       "_view_count": null,
       "_view_module": "@jupyter-widgets/controls",
       "_view_module_version": "2.0.0",
       "_view_name": "HTMLView",
       "description": "",
       "description_allow_html": false,
       "layout": "IPY_MODEL_4125d40358e641cebcf8868f0fd16f9e",
       "placeholder": "​",
       "style": "IPY_MODEL_fd4d72d6d73641bfa5fa56fd46a4bcc2",
       "tabbable": null,
       "tooltip": null,
       "value": "Casting the dataset: 100%"
      }
     },
     "f1accbf505944293b7da7599b5ffda5a": {
      "model_module": "@jupyter-widgets/controls",
      "model_module_version": "2.0.0",
      "model_name": "HTMLStyleModel",
      "state": {
       "_model_module": "@jupyter-widgets/controls",
       "_model_module_version": "2.0.0",
       "_model_name": "HTMLStyleModel",
       "_view_count": null,
       "_view_module": "@jupyter-widgets/base",
       "_view_module_version": "2.0.0",
       "_view_name": "StyleView",
       "background": null,
       "description_width": "",
       "font_size": null,
       "text_color": null
      }
     },
     "f2f7759e087e47f2934346f459cb2357": {
      "model_module": "@jupyter-widgets/controls",
      "model_module_version": "2.0.0",
      "model_name": "FloatProgressModel",
      "state": {
       "_dom_classes": [],
       "_model_module": "@jupyter-widgets/controls",
       "_model_module_version": "2.0.0",
       "_model_name": "FloatProgressModel",
       "_view_count": null,
       "_view_module": "@jupyter-widgets/controls",
       "_view_module_version": "2.0.0",
       "_view_name": "ProgressView",
       "bar_style": "success",
       "description": "",
       "description_allow_html": false,
       "layout": "IPY_MODEL_1bbd503147e5412e9f42697d336bb99a",
       "max": 5769,
       "min": 0,
       "orientation": "horizontal",
       "style": "IPY_MODEL_74940e296ae24d94b9c1ca48cb3bd2d4",
       "tabbable": null,
       "tooltip": null,
       "value": 5769
      }
     },
     "f6b7bbc2767949afa42cc770edb6c796": {
      "model_module": "@jupyter-widgets/controls",
      "model_module_version": "2.0.0",
      "model_name": "HTMLStyleModel",
      "state": {
       "_model_module": "@jupyter-widgets/controls",
       "_model_module_version": "2.0.0",
       "_model_name": "HTMLStyleModel",
       "_view_count": null,
       "_view_module": "@jupyter-widgets/base",
       "_view_module_version": "2.0.0",
       "_view_name": "StyleView",
       "background": null,
       "description_width": "",
       "font_size": null,
       "text_color": null
      }
     },
     "fd2a685d04fe4e80a6cc3dd917e493b3": {
      "model_module": "@jupyter-widgets/base",
      "model_module_version": "2.0.0",
      "model_name": "LayoutModel",
      "state": {
       "_model_module": "@jupyter-widgets/base",
       "_model_module_version": "2.0.0",
       "_model_name": "LayoutModel",
       "_view_count": null,
       "_view_module": "@jupyter-widgets/base",
       "_view_module_version": "2.0.0",
       "_view_name": "LayoutView",
       "align_content": null,
       "align_items": null,
       "align_self": null,
       "border_bottom": null,
       "border_left": null,
       "border_right": null,
       "border_top": null,
       "bottom": null,
       "display": null,
       "flex": null,
       "flex_flow": null,
       "grid_area": null,
       "grid_auto_columns": null,
       "grid_auto_flow": null,
       "grid_auto_rows": null,
       "grid_column": null,
       "grid_gap": null,
       "grid_row": null,
       "grid_template_areas": null,
       "grid_template_columns": null,
       "grid_template_rows": null,
       "height": null,
       "justify_content": null,
       "justify_items": null,
       "left": null,
       "margin": null,
       "max_height": null,
       "max_width": null,
       "min_height": null,
       "min_width": null,
       "object_fit": null,
       "object_position": null,
       "order": null,
       "overflow": null,
       "padding": null,
       "right": null,
       "top": null,
       "visibility": null,
       "width": null
      }
     },
     "fd4d72d6d73641bfa5fa56fd46a4bcc2": {
      "model_module": "@jupyter-widgets/controls",
      "model_module_version": "2.0.0",
      "model_name": "HTMLStyleModel",
      "state": {
       "_model_module": "@jupyter-widgets/controls",
       "_model_module_version": "2.0.0",
       "_model_name": "HTMLStyleModel",
       "_view_count": null,
       "_view_module": "@jupyter-widgets/base",
       "_view_module_version": "2.0.0",
       "_view_name": "StyleView",
       "background": null,
       "description_width": "",
       "font_size": null,
       "text_color": null
      }
     },
     "ff7dc8ec16694a7a9ff44f61fb10535e": {
      "model_module": "@jupyter-widgets/base",
      "model_module_version": "2.0.0",
      "model_name": "LayoutModel",
      "state": {
       "_model_module": "@jupyter-widgets/base",
       "_model_module_version": "2.0.0",
       "_model_name": "LayoutModel",
       "_view_count": null,
       "_view_module": "@jupyter-widgets/base",
       "_view_module_version": "2.0.0",
       "_view_name": "LayoutView",
       "align_content": null,
       "align_items": null,
       "align_self": null,
       "border_bottom": null,
       "border_left": null,
       "border_right": null,
       "border_top": null,
       "bottom": null,
       "display": null,
       "flex": null,
       "flex_flow": null,
       "grid_area": null,
       "grid_auto_columns": null,
       "grid_auto_flow": null,
       "grid_auto_rows": null,
       "grid_column": null,
       "grid_gap": null,
       "grid_row": null,
       "grid_template_areas": null,
       "grid_template_columns": null,
       "grid_template_rows": null,
       "height": null,
       "justify_content": null,
       "justify_items": null,
       "left": null,
       "margin": null,
       "max_height": null,
       "max_width": null,
       "min_height": null,
       "min_width": null,
       "object_fit": null,
       "object_position": null,
       "order": null,
       "overflow": null,
       "padding": null,
       "right": null,
       "top": null,
       "visibility": null,
       "width": null
      }
     }
    },
    "version_major": 2,
    "version_minor": 0
   }
  }
 },
 "nbformat": 4,
 "nbformat_minor": 4
}
