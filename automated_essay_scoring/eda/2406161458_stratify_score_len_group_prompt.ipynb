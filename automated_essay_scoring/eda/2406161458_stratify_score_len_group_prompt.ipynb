{
 "cells": [
  {
   "cell_type": "code",
   "execution_count": 1,
   "metadata": {},
   "outputs": [],
   "source": [
    "import polars as pl\n",
    "\n",
    "DATA_PATH = \"../../data/\"\n",
    "\n",
    "train = pl.read_csv(DATA_PATH + \"train.csv\")\n",
    "predicted_prompt = pl.read_csv(DATA_PATH + \"predicted_prompt.csv\")"
   ]
  },
  {
   "cell_type": "code",
   "execution_count": 2,
   "metadata": {},
   "outputs": [
    {
     "data": {
      "text/html": [
       "<div><style>\n",
       ".dataframe > thead > tr,\n",
       ".dataframe > tbody > tr {\n",
       "  text-align: right;\n",
       "  white-space: pre-wrap;\n",
       "}\n",
       "</style>\n",
       "<small>shape: (17_307, 3)</small><table border=\"1\" class=\"dataframe\"><thead><tr><th>essay_id</th><th>full_text</th><th>score</th></tr><tr><td>str</td><td>str</td><td>i64</td></tr></thead><tbody><tr><td>&quot;000d118&quot;</td><td>&quot;Many people have car where the…</td><td>3</td></tr><tr><td>&quot;000fe60&quot;</td><td>&quot;I am a scientist at NASA that …</td><td>3</td></tr><tr><td>&quot;001ab80&quot;</td><td>&quot;People always wish they had th…</td><td>4</td></tr><tr><td>&quot;001bdc0&quot;</td><td>&quot;We all heard about Venus, the …</td><td>4</td></tr><tr><td>&quot;002ba53&quot;</td><td>&quot;Dear, State Senator\n",
       "\n",
       "This is a…</td><td>3</td></tr><tr><td>&hellip;</td><td>&hellip;</td><td>&hellip;</td></tr><tr><td>&quot;ffd378d&quot;</td><td>&quot;the story &quot; The Challenge of E…</td><td>2</td></tr><tr><td>&quot;ffddf1f&quot;</td><td>&quot;Technology has changed a lot o…</td><td>4</td></tr><tr><td>&quot;fff016d&quot;</td><td>&quot;If you don&#x27;t like sitting arou…</td><td>2</td></tr><tr><td>&quot;fffb49b&quot;</td><td>&quot;In &quot;The Challenge of Exporing …</td><td>1</td></tr><tr><td>&quot;fffed3e&quot;</td><td>&quot;Venus is worthy place to study…</td><td>2</td></tr></tbody></table></div>"
      ],
      "text/plain": [
       "shape: (17_307, 3)\n",
       "┌──────────┬─────────────────────────────────┬───────┐\n",
       "│ essay_id ┆ full_text                       ┆ score │\n",
       "│ ---      ┆ ---                             ┆ ---   │\n",
       "│ str      ┆ str                             ┆ i64   │\n",
       "╞══════════╪═════════════════════════════════╪═══════╡\n",
       "│ 000d118  ┆ Many people have car where the… ┆ 3     │\n",
       "│ 000fe60  ┆ I am a scientist at NASA that … ┆ 3     │\n",
       "│ 001ab80  ┆ People always wish they had th… ┆ 4     │\n",
       "│ 001bdc0  ┆ We all heard about Venus, the … ┆ 4     │\n",
       "│ 002ba53  ┆ Dear, State Senator             ┆ 3     │\n",
       "│          ┆                                 ┆       │\n",
       "│          ┆ This is a…                      ┆       │\n",
       "│ …        ┆ …                               ┆ …     │\n",
       "│ ffd378d  ┆ the story \" The Challenge of E… ┆ 2     │\n",
       "│ ffddf1f  ┆ Technology has changed a lot o… ┆ 4     │\n",
       "│ fff016d  ┆ If you don't like sitting arou… ┆ 2     │\n",
       "│ fffb49b  ┆ In \"The Challenge of Exporing … ┆ 1     │\n",
       "│ fffed3e  ┆ Venus is worthy place to study… ┆ 2     │\n",
       "└──────────┴─────────────────────────────────┴───────┘"
      ]
     },
     "execution_count": 2,
     "metadata": {},
     "output_type": "execute_result"
    }
   ],
   "source": [
    "train"
   ]
  },
  {
   "cell_type": "code",
   "execution_count": 3,
   "metadata": {},
   "outputs": [],
   "source": [
    "train = train.join(  # prompt_nameを付与する\n",
    "    predicted_prompt.select(pl.col([\"essay_id\", \"prompt_name\"])),\n",
    "    how=\"left\",\n",
    "    on=\"essay_id\",\n",
    ")"
   ]
  },
  {
   "cell_type": "code",
   "execution_count": 4,
   "metadata": {},
   "outputs": [
    {
     "name": "stderr",
     "output_type": "stream",
     "text": [
      "/Users/shinichiro.saito/automated_essay_scoring/.venv/lib/python3.11/site-packages/tqdm/auto.py:21: TqdmWarning: IProgress not found. Please update jupyter and ipywidgets. See https://ipywidgets.readthedocs.io/en/stable/user_install.html\n",
      "  from .autonotebook import tqdm as notebook_tqdm\n"
     ]
    }
   ],
   "source": [
    "from datasets import load_dataset\n",
    "\n",
    "# 追加データ\n",
    "persuade_dataset = (\n",
    "    load_dataset(\n",
    "        \"csv\",\n",
    "        data_files={\"train\": f\"{DATA_PATH}/persuade_w_is_tr_con_as_num.csv\"},\n",
    "        split=\"train\",\n",
    "    )\n",
    "    .filter(lambda x: not x[\"is_train_contains\"])\n",
    "    .select_columns(\n",
    "        [\"essay_id_comp\", \"full_text\", \"holistic_essay_score\", \"prompt_name\"]\n",
    "    )\n",
    "    .rename_columns({\"essay_id_comp\": \"essay_id\", \"holistic_essay_score\": \"score\"})\n",
    ")\n",
    "\n",
    "persuade_df = pl.DataFrame(persuade_dataset.to_pandas())"
   ]
  },
  {
   "cell_type": "code",
   "execution_count": 5,
   "metadata": {},
   "outputs": [],
   "source": [
    "train = pl.concat([train, persuade_df])"
   ]
  },
  {
   "cell_type": "code",
   "execution_count": 6,
   "metadata": {},
   "outputs": [],
   "source": [
    "train = train.with_columns(  # prompt_nameをlabel encodingする\n",
    "    pl.col(\"prompt_name\").cast(pl.Categorical).to_physical().alias(\"prompt_id\")\n",
    ")"
   ]
  },
  {
   "cell_type": "code",
   "execution_count": 7,
   "metadata": {},
   "outputs": [],
   "source": [
    "train = train.with_columns(\n",
    "    pl.col(\"full_text\")\n",
    "    .map_elements(lambda x: len(x.split()), return_dtype=pl.Int64)\n",
    "    .alias(\"word_length\"),\n",
    ")"
   ]
  },
  {
   "cell_type": "code",
   "execution_count": 8,
   "metadata": {},
   "outputs": [],
   "source": [
    "train = train.with_columns(\n",
    "    pl.when(pl.col(\"word_length\") <= 200)\n",
    "    .then(pl.lit(\"x<=200\"))\n",
    "    .when(pl.col(\"word_length\") <= 400)\n",
    "    .then(pl.lit(\"200<x<=400\"))\n",
    "    .when(pl.col(\"word_length\") <= 600)\n",
    "    .then(pl.lit(\"400<x<=600\"))\n",
    "    .when(pl.col(\"word_length\") <= 800)\n",
    "    .then(pl.lit(\"600<x<=800\"))\n",
    "    .when(pl.col(\"word_length\") <= 1000)\n",
    "    .then(pl.lit(\"800<x<=1000\"))\n",
    "    .when(pl.col(\"word_length\") <= 1200)\n",
    "    .then(pl.lit(\"1000<x<=1200\"))\n",
    "    .when(pl.col(\"word_length\") > 1200)\n",
    "    .then(pl.lit(\"x>1200\"))\n",
    "    .alias(\"word_length_cat\"),\n",
    ")"
   ]
  },
  {
   "cell_type": "code",
   "execution_count": 9,
   "metadata": {},
   "outputs": [],
   "source": [
    "train = train.with_columns(\n",
    "    pl.concat_str(\n",
    "        pl.col(\"score\"),\n",
    "        pl.col(\"word_length_cat\"),\n",
    "        separator=\"_\",\n",
    "    ).alias(\"score_word_length_cat\")\n",
    ")\n",
    "# ).with_columns(\n",
    "#     pl.concat_str(\n",
    "#         pl.col(\"score_word_length_cat\"),\n",
    "#         pl.col(\"prompt_id\"),\n",
    "#         separator=\"_\",\n",
    "#     ).alias(\"concat_score_word_length_prompt_id\")\n",
    "# )"
   ]
  },
  {
   "cell_type": "code",
   "execution_count": 10,
   "metadata": {},
   "outputs": [
    {
     "data": {
      "text/html": [
       "<div><style>\n",
       ".dataframe > thead > tr,\n",
       ".dataframe > tbody > tr {\n",
       "  text-align: right;\n",
       "  white-space: pre-wrap;\n",
       "}\n",
       "</style>\n",
       "<small>shape: (10, 8)</small><table border=\"1\" class=\"dataframe\"><thead><tr><th>essay_id</th><th>full_text</th><th>score</th><th>prompt_name</th><th>prompt_id</th><th>word_length</th><th>word_length_cat</th><th>score_word_length_cat</th></tr><tr><td>str</td><td>str</td><td>i64</td><td>str</td><td>u32</td><td>i64</td><td>str</td><td>str</td></tr></thead><tbody><tr><td>&quot;000d118&quot;</td><td>&quot;Many people have car where the…</td><td>3</td><td>&quot;Car-free cities&quot;</td><td>0</td><td>498</td><td>&quot;400&lt;x&lt;=600&quot;</td><td>&quot;3_400&lt;x&lt;=600&quot;</td></tr><tr><td>&quot;000fe60&quot;</td><td>&quot;I am a scientist at NASA that …</td><td>3</td><td>&quot;The Face on Mars&quot;</td><td>1</td><td>332</td><td>&quot;200&lt;x&lt;=400&quot;</td><td>&quot;3_200&lt;x&lt;=400&quot;</td></tr><tr><td>&quot;001ab80&quot;</td><td>&quot;People always wish they had th…</td><td>4</td><td>&quot;Driverless cars&quot;</td><td>2</td><td>550</td><td>&quot;400&lt;x&lt;=600&quot;</td><td>&quot;4_400&lt;x&lt;=600&quot;</td></tr><tr><td>&quot;001bdc0&quot;</td><td>&quot;We all heard about Venus, the …</td><td>4</td><td>&quot;Exploring Venus&quot;</td><td>3</td><td>451</td><td>&quot;400&lt;x&lt;=600&quot;</td><td>&quot;4_400&lt;x&lt;=600&quot;</td></tr><tr><td>&quot;002ba53&quot;</td><td>&quot;Dear, State Senator\n",
       "\n",
       "This is a…</td><td>3</td><td>&quot;Does the electoral college wor…</td><td>4</td><td>373</td><td>&quot;200&lt;x&lt;=400&quot;</td><td>&quot;3_200&lt;x&lt;=400&quot;</td></tr><tr><td>&quot;0030e86&quot;</td><td>&quot;If I were to choose between ke…</td><td>4</td><td>&quot;Does the electoral college wor…</td><td>4</td><td>400</td><td>&quot;200&lt;x&lt;=400&quot;</td><td>&quot;4_200&lt;x&lt;=400&quot;</td></tr><tr><td>&quot;0033037&quot;</td><td>&quot;The posibilty of a face reconi…</td><td>2</td><td>&quot;Facial action coding system&quot;</td><td>5</td><td>179</td><td>&quot;x&lt;=200&quot;</td><td>&quot;2_x&lt;=200&quot;</td></tr><tr><td>&quot;0033bf4&quot;</td><td>&quot;What is the Seagoing Cowboys p…</td><td>3</td><td>&quot;&quot;A Cowboy Who Rode the Waves&quot;&quot;</td><td>6</td><td>353</td><td>&quot;200&lt;x&lt;=400&quot;</td><td>&quot;3_200&lt;x&lt;=400&quot;</td></tr><tr><td>&quot;0036253&quot;</td><td>&quot;The challenge of exploring Ven…</td><td>2</td><td>&quot;Exploring Venus&quot;</td><td>3</td><td>310</td><td>&quot;200&lt;x&lt;=400&quot;</td><td>&quot;2_200&lt;x&lt;=400&quot;</td></tr><tr><td>&quot;0040e27&quot;</td><td>&quot;There are many reasons why you…</td><td>3</td><td>&quot;&quot;A Cowboy Who Rode the Waves&quot;&quot;</td><td>6</td><td>280</td><td>&quot;200&lt;x&lt;=400&quot;</td><td>&quot;3_200&lt;x&lt;=400&quot;</td></tr></tbody></table></div>"
      ],
      "text/plain": [
       "shape: (10, 8)\n",
       "┌──────────┬─────────────┬───────┬─────────────┬───────────┬─────────────┬────────────┬────────────┐\n",
       "│ essay_id ┆ full_text   ┆ score ┆ prompt_name ┆ prompt_id ┆ word_length ┆ word_lengt ┆ score_word │\n",
       "│ ---      ┆ ---         ┆ ---   ┆ ---         ┆ ---       ┆ ---         ┆ h_cat      ┆ _length_ca │\n",
       "│ str      ┆ str         ┆ i64   ┆ str         ┆ u32       ┆ i64         ┆ ---        ┆ t          │\n",
       "│          ┆             ┆       ┆             ┆           ┆             ┆ str        ┆ ---        │\n",
       "│          ┆             ┆       ┆             ┆           ┆             ┆            ┆ str        │\n",
       "╞══════════╪═════════════╪═══════╪═════════════╪═══════════╪═════════════╪════════════╪════════════╡\n",
       "│ 000d118  ┆ Many people ┆ 3     ┆ Car-free    ┆ 0         ┆ 498         ┆ 400<x<=600 ┆ 3_400<x<=6 │\n",
       "│          ┆ have car    ┆       ┆ cities      ┆           ┆             ┆            ┆ 00         │\n",
       "│          ┆ where the…  ┆       ┆             ┆           ┆             ┆            ┆            │\n",
       "│ 000fe60  ┆ I am a      ┆ 3     ┆ The Face on ┆ 1         ┆ 332         ┆ 200<x<=400 ┆ 3_200<x<=4 │\n",
       "│          ┆ scientist   ┆       ┆ Mars        ┆           ┆             ┆            ┆ 00         │\n",
       "│          ┆ at NASA     ┆       ┆             ┆           ┆             ┆            ┆            │\n",
       "│          ┆ that …      ┆       ┆             ┆           ┆             ┆            ┆            │\n",
       "│ 001ab80  ┆ People      ┆ 4     ┆ Driverless  ┆ 2         ┆ 550         ┆ 400<x<=600 ┆ 4_400<x<=6 │\n",
       "│          ┆ always wish ┆       ┆ cars        ┆           ┆             ┆            ┆ 00         │\n",
       "│          ┆ they had    ┆       ┆             ┆           ┆             ┆            ┆            │\n",
       "│          ┆ th…         ┆       ┆             ┆           ┆             ┆            ┆            │\n",
       "│ 001bdc0  ┆ We all      ┆ 4     ┆ Exploring   ┆ 3         ┆ 451         ┆ 400<x<=600 ┆ 4_400<x<=6 │\n",
       "│          ┆ heard about ┆       ┆ Venus       ┆           ┆             ┆            ┆ 00         │\n",
       "│          ┆ Venus, the  ┆       ┆             ┆           ┆             ┆            ┆            │\n",
       "│          ┆ …           ┆       ┆             ┆           ┆             ┆            ┆            │\n",
       "│ 002ba53  ┆ Dear, State ┆ 3     ┆ Does the    ┆ 4         ┆ 373         ┆ 200<x<=400 ┆ 3_200<x<=4 │\n",
       "│          ┆ Senator     ┆       ┆ electoral   ┆           ┆             ┆            ┆ 00         │\n",
       "│          ┆             ┆       ┆ college     ┆           ┆             ┆            ┆            │\n",
       "│          ┆ This is a…  ┆       ┆ wor…        ┆           ┆             ┆            ┆            │\n",
       "│ 0030e86  ┆ If I were   ┆ 4     ┆ Does the    ┆ 4         ┆ 400         ┆ 200<x<=400 ┆ 4_200<x<=4 │\n",
       "│          ┆ to choose   ┆       ┆ electoral   ┆           ┆             ┆            ┆ 00         │\n",
       "│          ┆ between ke… ┆       ┆ college     ┆           ┆             ┆            ┆            │\n",
       "│          ┆             ┆       ┆ wor…        ┆           ┆             ┆            ┆            │\n",
       "│ 0033037  ┆ The         ┆ 2     ┆ Facial      ┆ 5         ┆ 179         ┆ x<=200     ┆ 2_x<=200   │\n",
       "│          ┆ posibilty   ┆       ┆ action      ┆           ┆             ┆            ┆            │\n",
       "│          ┆ of a face   ┆       ┆ coding      ┆           ┆             ┆            ┆            │\n",
       "│          ┆ reconi…     ┆       ┆ system      ┆           ┆             ┆            ┆            │\n",
       "│ 0033bf4  ┆ What is the ┆ 3     ┆ \"A Cowboy   ┆ 6         ┆ 353         ┆ 200<x<=400 ┆ 3_200<x<=4 │\n",
       "│          ┆ Seagoing    ┆       ┆ Who Rode    ┆           ┆             ┆            ┆ 00         │\n",
       "│          ┆ Cowboys p…  ┆       ┆ the Waves\"  ┆           ┆             ┆            ┆            │\n",
       "│ 0036253  ┆ The         ┆ 2     ┆ Exploring   ┆ 3         ┆ 310         ┆ 200<x<=400 ┆ 2_200<x<=4 │\n",
       "│          ┆ challenge   ┆       ┆ Venus       ┆           ┆             ┆            ┆ 00         │\n",
       "│          ┆ of          ┆       ┆             ┆           ┆             ┆            ┆            │\n",
       "│          ┆ exploring   ┆       ┆             ┆           ┆             ┆            ┆            │\n",
       "│          ┆ Ven…        ┆       ┆             ┆           ┆             ┆            ┆            │\n",
       "│ 0040e27  ┆ There are   ┆ 3     ┆ \"A Cowboy   ┆ 6         ┆ 280         ┆ 200<x<=400 ┆ 3_200<x<=4 │\n",
       "│          ┆ many        ┆       ┆ Who Rode    ┆           ┆             ┆            ┆ 00         │\n",
       "│          ┆ reasons why ┆       ┆ the Waves\"  ┆           ┆             ┆            ┆            │\n",
       "│          ┆ you…        ┆       ┆             ┆           ┆             ┆            ┆            │\n",
       "└──────────┴─────────────┴───────┴─────────────┴───────────┴─────────────┴────────────┴────────────┘"
      ]
     },
     "execution_count": 10,
     "metadata": {},
     "output_type": "execute_result"
    }
   ],
   "source": [
    "train.head(10)"
   ]
  },
  {
   "cell_type": "code",
   "execution_count": 11,
   "metadata": {},
   "outputs": [],
   "source": [
    "# (\n",
    "#     train.select(\n",
    "#         pl.col(\"concat_score_word_length_prompt_id\").value_counts(),\n",
    "#     )\n",
    "#     .unnest(\"concat_score_word_length_prompt_id\")\n",
    "#     .with_columns((pl.col(\"count\") / train.height).alias(\"percentage\"))\n",
    "#     .sort(\"count\", descending=True)\n",
    "# )"
   ]
  },
  {
   "cell_type": "code",
   "execution_count": 12,
   "metadata": {},
   "outputs": [
    {
     "name": "stderr",
     "output_type": "stream",
     "text": [
      "/Users/shinichiro.saito/automated_essay_scoring/.venv/lib/python3.11/site-packages/sklearn/model_selection/_split.py:950: UserWarning: The least populated class in y has only 1 members, which is less than n_splits=3.\n",
      "  warnings.warn(\n"
     ]
    }
   ],
   "source": [
    "import numpy as np\n",
    "from sklearn.model_selection import StratifiedGroupKFold\n",
    "\n",
    "fold_arr = np.zeros(train.height)\n",
    "sgkf = StratifiedGroupKFold(n_splits=3, random_state=42, shuffle=True)\n",
    "\n",
    "for idx, (_, val_idx) in enumerate(\n",
    "    sgkf.split(train, train[\"score_word_length_cat\"], train[\"prompt_id\"])\n",
    "):\n",
    "    fold_arr[val_idx] = idx\n",
    "\n",
    "train = train.with_columns(pl.Series(fold_arr).cast(pl.Int64).alias(\"fold\"))"
   ]
  },
  {
   "cell_type": "code",
   "execution_count": 13,
   "metadata": {},
   "outputs": [
    {
     "data": {
      "text/html": [
       "<div><style>\n",
       ".dataframe > thead > tr,\n",
       ".dataframe > tbody > tr {\n",
       "  text-align: right;\n",
       "  white-space: pre-wrap;\n",
       "}\n",
       "</style>\n",
       "<small>shape: (10, 9)</small><table border=\"1\" class=\"dataframe\"><thead><tr><th>essay_id</th><th>full_text</th><th>score</th><th>prompt_name</th><th>prompt_id</th><th>word_length</th><th>word_length_cat</th><th>score_word_length_cat</th><th>fold</th></tr><tr><td>str</td><td>str</td><td>i64</td><td>str</td><td>u32</td><td>i64</td><td>str</td><td>str</td><td>i64</td></tr></thead><tbody><tr><td>&quot;000d118&quot;</td><td>&quot;Many people have car where the…</td><td>3</td><td>&quot;Car-free cities&quot;</td><td>0</td><td>498</td><td>&quot;400&lt;x&lt;=600&quot;</td><td>&quot;3_400&lt;x&lt;=600&quot;</td><td>0</td></tr><tr><td>&quot;000fe60&quot;</td><td>&quot;I am a scientist at NASA that …</td><td>3</td><td>&quot;The Face on Mars&quot;</td><td>1</td><td>332</td><td>&quot;200&lt;x&lt;=400&quot;</td><td>&quot;3_200&lt;x&lt;=400&quot;</td><td>0</td></tr><tr><td>&quot;001ab80&quot;</td><td>&quot;People always wish they had th…</td><td>4</td><td>&quot;Driverless cars&quot;</td><td>2</td><td>550</td><td>&quot;400&lt;x&lt;=600&quot;</td><td>&quot;4_400&lt;x&lt;=600&quot;</td><td>0</td></tr><tr><td>&quot;001bdc0&quot;</td><td>&quot;We all heard about Venus, the …</td><td>4</td><td>&quot;Exploring Venus&quot;</td><td>3</td><td>451</td><td>&quot;400&lt;x&lt;=600&quot;</td><td>&quot;4_400&lt;x&lt;=600&quot;</td><td>1</td></tr><tr><td>&quot;002ba53&quot;</td><td>&quot;Dear, State Senator\n",
       "\n",
       "This is a…</td><td>3</td><td>&quot;Does the electoral college wor…</td><td>4</td><td>373</td><td>&quot;200&lt;x&lt;=400&quot;</td><td>&quot;3_200&lt;x&lt;=400&quot;</td><td>1</td></tr><tr><td>&quot;0030e86&quot;</td><td>&quot;If I were to choose between ke…</td><td>4</td><td>&quot;Does the electoral college wor…</td><td>4</td><td>400</td><td>&quot;200&lt;x&lt;=400&quot;</td><td>&quot;4_200&lt;x&lt;=400&quot;</td><td>1</td></tr><tr><td>&quot;0033037&quot;</td><td>&quot;The posibilty of a face reconi…</td><td>2</td><td>&quot;Facial action coding system&quot;</td><td>5</td><td>179</td><td>&quot;x&lt;=200&quot;</td><td>&quot;2_x&lt;=200&quot;</td><td>2</td></tr><tr><td>&quot;0033bf4&quot;</td><td>&quot;What is the Seagoing Cowboys p…</td><td>3</td><td>&quot;&quot;A Cowboy Who Rode the Waves&quot;&quot;</td><td>6</td><td>353</td><td>&quot;200&lt;x&lt;=400&quot;</td><td>&quot;3_200&lt;x&lt;=400&quot;</td><td>0</td></tr><tr><td>&quot;0036253&quot;</td><td>&quot;The challenge of exploring Ven…</td><td>2</td><td>&quot;Exploring Venus&quot;</td><td>3</td><td>310</td><td>&quot;200&lt;x&lt;=400&quot;</td><td>&quot;2_200&lt;x&lt;=400&quot;</td><td>1</td></tr><tr><td>&quot;0040e27&quot;</td><td>&quot;There are many reasons why you…</td><td>3</td><td>&quot;&quot;A Cowboy Who Rode the Waves&quot;&quot;</td><td>6</td><td>280</td><td>&quot;200&lt;x&lt;=400&quot;</td><td>&quot;3_200&lt;x&lt;=400&quot;</td><td>0</td></tr></tbody></table></div>"
      ],
      "text/plain": [
       "shape: (10, 9)\n",
       "┌──────────┬─────────────┬───────┬─────────────┬───┬─────────────┬─────────────┬────────────┬──────┐\n",
       "│ essay_id ┆ full_text   ┆ score ┆ prompt_name ┆ … ┆ word_length ┆ word_length ┆ score_word ┆ fold │\n",
       "│ ---      ┆ ---         ┆ ---   ┆ ---         ┆   ┆ ---         ┆ _cat        ┆ _length_ca ┆ ---  │\n",
       "│ str      ┆ str         ┆ i64   ┆ str         ┆   ┆ i64         ┆ ---         ┆ t          ┆ i64  │\n",
       "│          ┆             ┆       ┆             ┆   ┆             ┆ str         ┆ ---        ┆      │\n",
       "│          ┆             ┆       ┆             ┆   ┆             ┆             ┆ str        ┆      │\n",
       "╞══════════╪═════════════╪═══════╪═════════════╪═══╪═════════════╪═════════════╪════════════╪══════╡\n",
       "│ 000d118  ┆ Many people ┆ 3     ┆ Car-free    ┆ … ┆ 498         ┆ 400<x<=600  ┆ 3_400<x<=6 ┆ 0    │\n",
       "│          ┆ have car    ┆       ┆ cities      ┆   ┆             ┆             ┆ 00         ┆      │\n",
       "│          ┆ where the…  ┆       ┆             ┆   ┆             ┆             ┆            ┆      │\n",
       "│ 000fe60  ┆ I am a      ┆ 3     ┆ The Face on ┆ … ┆ 332         ┆ 200<x<=400  ┆ 3_200<x<=4 ┆ 0    │\n",
       "│          ┆ scientist   ┆       ┆ Mars        ┆   ┆             ┆             ┆ 00         ┆      │\n",
       "│          ┆ at NASA     ┆       ┆             ┆   ┆             ┆             ┆            ┆      │\n",
       "│          ┆ that …      ┆       ┆             ┆   ┆             ┆             ┆            ┆      │\n",
       "│ 001ab80  ┆ People      ┆ 4     ┆ Driverless  ┆ … ┆ 550         ┆ 400<x<=600  ┆ 4_400<x<=6 ┆ 0    │\n",
       "│          ┆ always wish ┆       ┆ cars        ┆   ┆             ┆             ┆ 00         ┆      │\n",
       "│          ┆ they had    ┆       ┆             ┆   ┆             ┆             ┆            ┆      │\n",
       "│          ┆ th…         ┆       ┆             ┆   ┆             ┆             ┆            ┆      │\n",
       "│ 001bdc0  ┆ We all      ┆ 4     ┆ Exploring   ┆ … ┆ 451         ┆ 400<x<=600  ┆ 4_400<x<=6 ┆ 1    │\n",
       "│          ┆ heard about ┆       ┆ Venus       ┆   ┆             ┆             ┆ 00         ┆      │\n",
       "│          ┆ Venus, the  ┆       ┆             ┆   ┆             ┆             ┆            ┆      │\n",
       "│          ┆ …           ┆       ┆             ┆   ┆             ┆             ┆            ┆      │\n",
       "│ 002ba53  ┆ Dear, State ┆ 3     ┆ Does the    ┆ … ┆ 373         ┆ 200<x<=400  ┆ 3_200<x<=4 ┆ 1    │\n",
       "│          ┆ Senator     ┆       ┆ electoral   ┆   ┆             ┆             ┆ 00         ┆      │\n",
       "│          ┆             ┆       ┆ college     ┆   ┆             ┆             ┆            ┆      │\n",
       "│          ┆ This is a…  ┆       ┆ wor…        ┆   ┆             ┆             ┆            ┆      │\n",
       "│ 0030e86  ┆ If I were   ┆ 4     ┆ Does the    ┆ … ┆ 400         ┆ 200<x<=400  ┆ 4_200<x<=4 ┆ 1    │\n",
       "│          ┆ to choose   ┆       ┆ electoral   ┆   ┆             ┆             ┆ 00         ┆      │\n",
       "│          ┆ between ke… ┆       ┆ college     ┆   ┆             ┆             ┆            ┆      │\n",
       "│          ┆             ┆       ┆ wor…        ┆   ┆             ┆             ┆            ┆      │\n",
       "│ 0033037  ┆ The         ┆ 2     ┆ Facial      ┆ … ┆ 179         ┆ x<=200      ┆ 2_x<=200   ┆ 2    │\n",
       "│          ┆ posibilty   ┆       ┆ action      ┆   ┆             ┆             ┆            ┆      │\n",
       "│          ┆ of a face   ┆       ┆ coding      ┆   ┆             ┆             ┆            ┆      │\n",
       "│          ┆ reconi…     ┆       ┆ system      ┆   ┆             ┆             ┆            ┆      │\n",
       "│ 0033bf4  ┆ What is the ┆ 3     ┆ \"A Cowboy   ┆ … ┆ 353         ┆ 200<x<=400  ┆ 3_200<x<=4 ┆ 0    │\n",
       "│          ┆ Seagoing    ┆       ┆ Who Rode    ┆   ┆             ┆             ┆ 00         ┆      │\n",
       "│          ┆ Cowboys p…  ┆       ┆ the Waves\"  ┆   ┆             ┆             ┆            ┆      │\n",
       "│ 0036253  ┆ The         ┆ 2     ┆ Exploring   ┆ … ┆ 310         ┆ 200<x<=400  ┆ 2_200<x<=4 ┆ 1    │\n",
       "│          ┆ challenge   ┆       ┆ Venus       ┆   ┆             ┆             ┆ 00         ┆      │\n",
       "│          ┆ of          ┆       ┆             ┆   ┆             ┆             ┆            ┆      │\n",
       "│          ┆ exploring   ┆       ┆             ┆   ┆             ┆             ┆            ┆      │\n",
       "│          ┆ Ven…        ┆       ┆             ┆   ┆             ┆             ┆            ┆      │\n",
       "│ 0040e27  ┆ There are   ┆ 3     ┆ \"A Cowboy   ┆ … ┆ 280         ┆ 200<x<=400  ┆ 3_200<x<=4 ┆ 0    │\n",
       "│          ┆ many        ┆       ┆ Who Rode    ┆   ┆             ┆             ┆ 00         ┆      │\n",
       "│          ┆ reasons why ┆       ┆ the Waves\"  ┆   ┆             ┆             ┆            ┆      │\n",
       "│          ┆ you…        ┆       ┆             ┆   ┆             ┆             ┆            ┆      │\n",
       "└──────────┴─────────────┴───────┴─────────────┴───┴─────────────┴─────────────┴────────────┴──────┘"
      ]
     },
     "execution_count": 13,
     "metadata": {},
     "output_type": "execute_result"
    }
   ],
   "source": [
    "train.head(10)"
   ]
  },
  {
   "cell_type": "code",
   "execution_count": 14,
   "metadata": {},
   "outputs": [],
   "source": [
    "essay_id_fold_dict = dict(zip(train[\"essay_id\"], train[\"fold\"]))\n",
    "\n",
    "import json\n",
    "\n",
    "with open(\"essay_id_fold_by_s_sl_g_p_dict.json\", \"w\") as f:\n",
    "    json.dump(essay_id_fold_dict, f)"
   ]
  },
  {
   "cell_type": "markdown",
   "metadata": {},
   "source": [
    "# Check"
   ]
  },
  {
   "cell_type": "code",
   "execution_count": 15,
   "metadata": {},
   "outputs": [
    {
     "data": {
      "text/html": [
       "<div><style>\n",
       ".dataframe > thead > tr,\n",
       ".dataframe > tbody > tr {\n",
       "  text-align: right;\n",
       "  white-space: pre-wrap;\n",
       "}\n",
       "</style>\n",
       "<small>shape: (10, 3)</small><table border=\"1\" class=\"dataframe\"><thead><tr><th>score_word_length_cat</th><th>count</th><th>percentage</th></tr><tr><td>str</td><td>u32</td><td>f64</td></tr></thead><tbody><tr><td>&quot;3_200&lt;x&lt;=400&quot;</td><td>2743</td><td>0.090135</td></tr><tr><td>&quot;4_400&lt;x&lt;=600&quot;</td><td>1717</td><td>0.056421</td></tr><tr><td>&quot;2_200&lt;x&lt;=400&quot;</td><td>1670</td><td>0.054876</td></tr><tr><td>&quot;3_400&lt;x&lt;=600&quot;</td><td>897</td><td>0.029476</td></tr><tr><td>&quot;4_200&lt;x&lt;=400&quot;</td><td>731</td><td>0.024021</td></tr><tr><td>&quot;2_x&lt;=200&quot;</td><td>699</td><td>0.022969</td></tr><tr><td>&quot;5_400&lt;x&lt;=600&quot;</td><td>310</td><td>0.010187</td></tr><tr><td>&quot;5_600&lt;x&lt;=800&quot;</td><td>307</td><td>0.010088</td></tr><tr><td>&quot;1_200&lt;x&lt;=400&quot;</td><td>288</td><td>0.009464</td></tr><tr><td>&quot;4_600&lt;x&lt;=800&quot;</td><td>251</td><td>0.008248</td></tr></tbody></table></div>"
      ],
      "text/plain": [
       "shape: (10, 3)\n",
       "┌───────────────────────┬───────┬────────────┐\n",
       "│ score_word_length_cat ┆ count ┆ percentage │\n",
       "│ ---                   ┆ ---   ┆ ---        │\n",
       "│ str                   ┆ u32   ┆ f64        │\n",
       "╞═══════════════════════╪═══════╪════════════╡\n",
       "│ 3_200<x<=400          ┆ 2743  ┆ 0.090135   │\n",
       "│ 4_400<x<=600          ┆ 1717  ┆ 0.056421   │\n",
       "│ 2_200<x<=400          ┆ 1670  ┆ 0.054876   │\n",
       "│ 3_400<x<=600          ┆ 897   ┆ 0.029476   │\n",
       "│ 4_200<x<=400          ┆ 731   ┆ 0.024021   │\n",
       "│ 2_x<=200              ┆ 699   ┆ 0.022969   │\n",
       "│ 5_400<x<=600          ┆ 310   ┆ 0.010187   │\n",
       "│ 5_600<x<=800          ┆ 307   ┆ 0.010088   │\n",
       "│ 1_200<x<=400          ┆ 288   ┆ 0.009464   │\n",
       "│ 4_600<x<=800          ┆ 251   ┆ 0.008248   │\n",
       "└───────────────────────┴───────┴────────────┘"
      ]
     },
     "execution_count": 15,
     "metadata": {},
     "output_type": "execute_result"
    }
   ],
   "source": [
    "(\n",
    "    train.filter(pl.col(\"fold\") == 0)\n",
    "    .select(\n",
    "        pl.col(\"score_word_length_cat\").value_counts(),\n",
    "    )\n",
    "    .unnest(\"score_word_length_cat\")\n",
    "    .with_columns((pl.col(\"count\") / train.height).alias(\"percentage\"))\n",
    "    .sort(\"count\", descending=True)\n",
    "    .head(10)\n",
    ")"
   ]
  },
  {
   "cell_type": "code",
   "execution_count": 16,
   "metadata": {},
   "outputs": [
    {
     "data": {
      "text/html": [
       "<div><style>\n",
       ".dataframe > thead > tr,\n",
       ".dataframe > tbody > tr {\n",
       "  text-align: right;\n",
       "  white-space: pre-wrap;\n",
       "}\n",
       "</style>\n",
       "<small>shape: (10, 3)</small><table border=\"1\" class=\"dataframe\"><thead><tr><th>score_word_length_cat</th><th>count</th><th>percentage</th></tr><tr><td>str</td><td>u32</td><td>f64</td></tr></thead><tbody><tr><td>&quot;3_200&lt;x&lt;=400&quot;</td><td>2499</td><td>0.082118</td></tr><tr><td>&quot;2_200&lt;x&lt;=400&quot;</td><td>1578</td><td>0.051853</td></tr><tr><td>&quot;4_400&lt;x&lt;=600&quot;</td><td>1397</td><td>0.045906</td></tr><tr><td>&quot;2_x&lt;=200&quot;</td><td>861</td><td>0.028293</td></tr><tr><td>&quot;4_200&lt;x&lt;=400&quot;</td><td>772</td><td>0.025368</td></tr><tr><td>&quot;3_400&lt;x&lt;=600&quot;</td><td>647</td><td>0.021261</td></tr><tr><td>&quot;1_200&lt;x&lt;=400&quot;</td><td>340</td><td>0.011172</td></tr><tr><td>&quot;5_400&lt;x&lt;=600&quot;</td><td>336</td><td>0.011041</td></tr><tr><td>&quot;5_600&lt;x&lt;=800&quot;</td><td>269</td><td>0.008839</td></tr><tr><td>&quot;4_600&lt;x&lt;=800&quot;</td><td>240</td><td>0.007886</td></tr></tbody></table></div>"
      ],
      "text/plain": [
       "shape: (10, 3)\n",
       "┌───────────────────────┬───────┬────────────┐\n",
       "│ score_word_length_cat ┆ count ┆ percentage │\n",
       "│ ---                   ┆ ---   ┆ ---        │\n",
       "│ str                   ┆ u32   ┆ f64        │\n",
       "╞═══════════════════════╪═══════╪════════════╡\n",
       "│ 3_200<x<=400          ┆ 2499  ┆ 0.082118   │\n",
       "│ 2_200<x<=400          ┆ 1578  ┆ 0.051853   │\n",
       "│ 4_400<x<=600          ┆ 1397  ┆ 0.045906   │\n",
       "│ 2_x<=200              ┆ 861   ┆ 0.028293   │\n",
       "│ 4_200<x<=400          ┆ 772   ┆ 0.025368   │\n",
       "│ 3_400<x<=600          ┆ 647   ┆ 0.021261   │\n",
       "│ 1_200<x<=400          ┆ 340   ┆ 0.011172   │\n",
       "│ 5_400<x<=600          ┆ 336   ┆ 0.011041   │\n",
       "│ 5_600<x<=800          ┆ 269   ┆ 0.008839   │\n",
       "│ 4_600<x<=800          ┆ 240   ┆ 0.007886   │\n",
       "└───────────────────────┴───────┴────────────┘"
      ]
     },
     "execution_count": 16,
     "metadata": {},
     "output_type": "execute_result"
    }
   ],
   "source": [
    "(\n",
    "    train.filter(pl.col(\"fold\") == 1)\n",
    "    .select(\n",
    "        pl.col(\"score_word_length_cat\").value_counts(),\n",
    "    )\n",
    "    .unnest(\"score_word_length_cat\")\n",
    "    .with_columns((pl.col(\"count\") / train.height).alias(\"percentage\"))\n",
    "    .sort(\"count\", descending=True)\n",
    "    .head(10)\n",
    ")"
   ]
  },
  {
   "cell_type": "code",
   "execution_count": 17,
   "metadata": {},
   "outputs": [
    {
     "data": {
      "text/html": [
       "<div><style>\n",
       ".dataframe > thead > tr,\n",
       ".dataframe > tbody > tr {\n",
       "  text-align: right;\n",
       "  white-space: pre-wrap;\n",
       "}\n",
       "</style>\n",
       "<small>shape: (5, 3)</small><table border=\"1\" class=\"dataframe\"><thead><tr><th>prompt_id</th><th>count</th><th>percentage</th></tr><tr><td>u32</td><td>u32</td><td>f64</td></tr></thead><tbody><tr><td>2</td><td>3497</td><td>0.114912</td></tr><tr><td>1</td><td>2093</td><td>0.068776</td></tr><tr><td>0</td><td>1966</td><td>0.064603</td></tr><tr><td>6</td><td>1650</td><td>0.054219</td></tr><tr><td>7</td><td>1168</td><td>0.038381</td></tr></tbody></table></div>"
      ],
      "text/plain": [
       "shape: (5, 3)\n",
       "┌───────────┬───────┬────────────┐\n",
       "│ prompt_id ┆ count ┆ percentage │\n",
       "│ ---       ┆ ---   ┆ ---        │\n",
       "│ u32       ┆ u32   ┆ f64        │\n",
       "╞═══════════╪═══════╪════════════╡\n",
       "│ 2         ┆ 3497  ┆ 0.114912   │\n",
       "│ 1         ┆ 2093  ┆ 0.068776   │\n",
       "│ 0         ┆ 1966  ┆ 0.064603   │\n",
       "│ 6         ┆ 1650  ┆ 0.054219   │\n",
       "│ 7         ┆ 1168  ┆ 0.038381   │\n",
       "└───────────┴───────┴────────────┘"
      ]
     },
     "execution_count": 17,
     "metadata": {},
     "output_type": "execute_result"
    }
   ],
   "source": [
    "(\n",
    "    train.filter(pl.col(\"fold\") == 0)\n",
    "    .select(\n",
    "        pl.col(\"prompt_id\").value_counts(),\n",
    "    )\n",
    "    .unnest(\"prompt_id\")\n",
    "    .with_columns((pl.col(\"count\") / train.height).alias(\"percentage\"))\n",
    "    .sort(\"count\", descending=True)\n",
    ")"
   ]
  },
  {
   "cell_type": "code",
   "execution_count": 18,
   "metadata": {},
   "outputs": [
    {
     "data": {
      "text/html": [
       "<div><style>\n",
       ".dataframe > thead > tr,\n",
       ".dataframe > tbody > tr {\n",
       "  text-align: right;\n",
       "  white-space: pre-wrap;\n",
       "}\n",
       "</style>\n",
       "<small>shape: (5, 3)</small><table border=\"1\" class=\"dataframe\"><thead><tr><th>prompt_id</th><th>count</th><th>percentage</th></tr><tr><td>u32</td><td>u32</td><td>f64</td></tr></thead><tbody><tr><td>3</td><td>3016</td><td>0.099106</td></tr><tr><td>4</td><td>2046</td><td>0.067232</td></tr><tr><td>11</td><td>1626</td><td>0.053431</td></tr><tr><td>14</td><td>1552</td><td>0.050999</td></tr><tr><td>10</td><td>1542</td><td>0.05067</td></tr></tbody></table></div>"
      ],
      "text/plain": [
       "shape: (5, 3)\n",
       "┌───────────┬───────┬────────────┐\n",
       "│ prompt_id ┆ count ┆ percentage │\n",
       "│ ---       ┆ ---   ┆ ---        │\n",
       "│ u32       ┆ u32   ┆ f64        │\n",
       "╞═══════════╪═══════╪════════════╡\n",
       "│ 3         ┆ 3016  ┆ 0.099106   │\n",
       "│ 4         ┆ 2046  ┆ 0.067232   │\n",
       "│ 11        ┆ 1626  ┆ 0.053431   │\n",
       "│ 14        ┆ 1552  ┆ 0.050999   │\n",
       "│ 10        ┆ 1542  ┆ 0.05067    │\n",
       "└───────────┴───────┴────────────┘"
      ]
     },
     "execution_count": 18,
     "metadata": {},
     "output_type": "execute_result"
    }
   ],
   "source": [
    "(\n",
    "    train.filter(pl.col(\"fold\") == 1)\n",
    "    .select(\n",
    "        pl.col(\"prompt_id\").value_counts(),\n",
    "    )\n",
    "    .unnest(\"prompt_id\")\n",
    "    .with_columns((pl.col(\"count\") / train.height).alias(\"percentage\"))\n",
    "    .sort(\"count\", descending=True)\n",
    ")"
   ]
  },
  {
   "cell_type": "code",
   "execution_count": 19,
   "metadata": {},
   "outputs": [
    {
     "data": {
      "text/html": [
       "<div><style>\n",
       ".dataframe > thead > tr,\n",
       ".dataframe > tbody > tr {\n",
       "  text-align: right;\n",
       "  white-space: pre-wrap;\n",
       "}\n",
       "</style>\n",
       "<small>shape: (5, 3)</small><table border=\"1\" class=\"dataframe\"><thead><tr><th>prompt_id</th><th>count</th><th>percentage</th></tr><tr><td>u32</td><td>u32</td><td>f64</td></tr></thead><tbody><tr><td>5</td><td>3043</td><td>0.099993</td></tr><tr><td>13</td><td>2157</td><td>0.070879</td></tr><tr><td>8</td><td>1750</td><td>0.057505</td></tr><tr><td>9</td><td>1670</td><td>0.054876</td></tr><tr><td>12</td><td>1656</td><td>0.054416</td></tr></tbody></table></div>"
      ],
      "text/plain": [
       "shape: (5, 3)\n",
       "┌───────────┬───────┬────────────┐\n",
       "│ prompt_id ┆ count ┆ percentage │\n",
       "│ ---       ┆ ---   ┆ ---        │\n",
       "│ u32       ┆ u32   ┆ f64        │\n",
       "╞═══════════╪═══════╪════════════╡\n",
       "│ 5         ┆ 3043  ┆ 0.099993   │\n",
       "│ 13        ┆ 2157  ┆ 0.070879   │\n",
       "│ 8         ┆ 1750  ┆ 0.057505   │\n",
       "│ 9         ┆ 1670  ┆ 0.054876   │\n",
       "│ 12        ┆ 1656  ┆ 0.054416   │\n",
       "└───────────┴───────┴────────────┘"
      ]
     },
     "execution_count": 19,
     "metadata": {},
     "output_type": "execute_result"
    }
   ],
   "source": [
    "(\n",
    "    train.filter(pl.col(\"fold\") == 2)\n",
    "    .select(\n",
    "        pl.col(\"prompt_id\").value_counts(),\n",
    "    )\n",
    "    .unnest(\"prompt_id\")\n",
    "    .with_columns((pl.col(\"count\") / train.height).alias(\"percentage\"))\n",
    "    .sort(\"count\", descending=True)\n",
    ")"
   ]
  }
 ],
 "metadata": {
  "kernelspec": {
   "display_name": ".venv",
   "language": "python",
   "name": "python3"
  },
  "language_info": {
   "codemirror_mode": {
    "name": "ipython",
    "version": 3
   },
   "file_extension": ".py",
   "mimetype": "text/x-python",
   "name": "python",
   "nbconvert_exporter": "python",
   "pygments_lexer": "ipython3",
   "version": "3.11.7"
  }
 },
 "nbformat": 4,
 "nbformat_minor": 2
}
