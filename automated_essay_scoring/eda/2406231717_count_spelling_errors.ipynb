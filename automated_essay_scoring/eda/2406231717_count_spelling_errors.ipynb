{
 "cells": [
  {
   "cell_type": "code",
   "execution_count": 8,
   "metadata": {},
   "outputs": [],
   "source": [
    "import polars as pl\n",
    "import spacy"
   ]
  },
  {
   "cell_type": "code",
   "execution_count": 9,
   "metadata": {},
   "outputs": [],
   "source": [
    "DATA_PATH = \"../../data\""
   ]
  },
  {
   "cell_type": "code",
   "execution_count": 10,
   "metadata": {},
   "outputs": [],
   "source": [
    "nlp = spacy.load(\"en_core_web_sm\")\n",
    "with open(f\"{DATA_PATH}/english-word-hx/words.txt\", \"r\") as file:\n",
    "    english_vocab = set(word.strip().lower() for word in file)"
   ]
  },
  {
   "cell_type": "code",
   "execution_count": 11,
   "metadata": {},
   "outputs": [],
   "source": [
    "train = pl.read_csv(f\"{DATA_PATH}/train.csv\")"
   ]
  },
  {
   "cell_type": "code",
   "execution_count": 12,
   "metadata": {},
   "outputs": [],
   "source": [
    "from spellchecker import SpellChecker\n",
    "import re\n",
    "\n",
    "spellchecker = SpellChecker()\n",
    "NUM_SYMBOL_PARTTERN = re.compile(r\"^[0-9,./]+$\")\n",
    "\n",
    "\n",
    "def _count_spelling_errors(text):\n",
    "    doc = nlp(text)\n",
    "    lemmatized_tokens = [token.lemma_.lower() for token in doc]\n",
    "    misspelled = spellchecker.unknown(lemmatized_tokens)\n",
    "\n",
    "    misspelled = [\n",
    "        text\n",
    "        for text in misspelled\n",
    "        if (text not in [\"\\n\\n\", \"'s\", \"’s\"])\n",
    "        and (not text.isspace())\n",
    "        and not NUM_SYMBOL_PARTTERN.match(text)\n",
    "    ]\n",
    "\n",
    "    return len(misspelled)\n",
    "\n",
    "\n",
    "def count_spelling_errors() -> pl.Expr:\n",
    "    return (\n",
    "        pl.col(\"full_text\")\n",
    "        .map_elements(lambda x: _count_spelling_errors(x), return_dtype=pl.Int64)\n",
    "        .alias(\"spelling_errors_cnt\")\n",
    "    )\n",
    "\n",
    "\n",
    "train = train.with_columns(count_spelling_errors())"
   ]
  },
  {
   "cell_type": "code",
   "execution_count": 13,
   "metadata": {},
   "outputs": [
    {
     "data": {
      "text/html": [
       "<div><style>\n",
       ".dataframe > thead > tr,\n",
       ".dataframe > tbody > tr {\n",
       "  text-align: right;\n",
       "  white-space: pre-wrap;\n",
       "}\n",
       "</style>\n",
       "<small>shape: (17_307, 4)</small><table border=\"1\" class=\"dataframe\"><thead><tr><th>essay_id</th><th>full_text</th><th>score</th><th>spelling_errors_cnt</th></tr><tr><td>str</td><td>str</td><td>i64</td><td>i64</td></tr></thead><tbody><tr><td>&quot;000d118&quot;</td><td>&quot;Many people have car where the…</td><td>3</td><td>22</td></tr><tr><td>&quot;000fe60&quot;</td><td>&quot;I am a scientist at NASA that …</td><td>3</td><td>5</td></tr><tr><td>&quot;001ab80&quot;</td><td>&quot;People always wish they had th…</td><td>4</td><td>7</td></tr><tr><td>&quot;001bdc0&quot;</td><td>&quot;We all heard about Venus, the …</td><td>4</td><td>6</td></tr><tr><td>&quot;002ba53&quot;</td><td>&quot;Dear, State Senator\n",
       "\n",
       "This is a…</td><td>3</td><td>10</td></tr><tr><td>&hellip;</td><td>&hellip;</td><td>&hellip;</td><td>&hellip;</td></tr><tr><td>&quot;ffd378d&quot;</td><td>&quot;the story &quot; The Challenge of E…</td><td>2</td><td>12</td></tr><tr><td>&quot;ffddf1f&quot;</td><td>&quot;Technology has changed a lot o…</td><td>4</td><td>19</td></tr><tr><td>&quot;fff016d&quot;</td><td>&quot;If you don&#x27;t like sitting arou…</td><td>2</td><td>3</td></tr><tr><td>&quot;fffb49b&quot;</td><td>&quot;In &quot;The Challenge of Exporing …</td><td>1</td><td>6</td></tr><tr><td>&quot;fffed3e&quot;</td><td>&quot;Venus is worthy place to study…</td><td>2</td><td>8</td></tr></tbody></table></div>"
      ],
      "text/plain": [
       "shape: (17_307, 4)\n",
       "┌──────────┬─────────────────────────────────┬───────┬─────────────────────┐\n",
       "│ essay_id ┆ full_text                       ┆ score ┆ spelling_errors_cnt │\n",
       "│ ---      ┆ ---                             ┆ ---   ┆ ---                 │\n",
       "│ str      ┆ str                             ┆ i64   ┆ i64                 │\n",
       "╞══════════╪═════════════════════════════════╪═══════╪═════════════════════╡\n",
       "│ 000d118  ┆ Many people have car where the… ┆ 3     ┆ 22                  │\n",
       "│ 000fe60  ┆ I am a scientist at NASA that … ┆ 3     ┆ 5                   │\n",
       "│ 001ab80  ┆ People always wish they had th… ┆ 4     ┆ 7                   │\n",
       "│ 001bdc0  ┆ We all heard about Venus, the … ┆ 4     ┆ 6                   │\n",
       "│ 002ba53  ┆ Dear, State Senator             ┆ 3     ┆ 10                  │\n",
       "│          ┆                                 ┆       ┆                     │\n",
       "│          ┆ This is a…                      ┆       ┆                     │\n",
       "│ …        ┆ …                               ┆ …     ┆ …                   │\n",
       "│ ffd378d  ┆ the story \" The Challenge of E… ┆ 2     ┆ 12                  │\n",
       "│ ffddf1f  ┆ Technology has changed a lot o… ┆ 4     ┆ 19                  │\n",
       "│ fff016d  ┆ If you don't like sitting arou… ┆ 2     ┆ 3                   │\n",
       "│ fffb49b  ┆ In \"The Challenge of Exporing … ┆ 1     ┆ 6                   │\n",
       "│ fffed3e  ┆ Venus is worthy place to study… ┆ 2     ┆ 8                   │\n",
       "└──────────┴─────────────────────────────────┴───────┴─────────────────────┘"
      ]
     },
     "execution_count": 13,
     "metadata": {},
     "output_type": "execute_result"
    }
   ],
   "source": [
    "train"
   ]
  },
  {
   "cell_type": "code",
   "execution_count": 14,
   "metadata": {},
   "outputs": [],
   "source": [
    "import json\n",
    "\n",
    "with open(\"../../data/essay_id_spelling_errors_cnt_pyspell.json\", \"w\") as f:\n",
    "    json.dump(dict(zip(train[\"essay_id\"], train[\"spelling_errors_cnt\"])), f)"
   ]
  },
  {
   "cell_type": "code",
   "execution_count": null,
   "metadata": {},
   "outputs": [],
   "source": []
  }
 ],
 "metadata": {
  "kernelspec": {
   "display_name": ".venv",
   "language": "python",
   "name": "python3"
  },
  "language_info": {
   "codemirror_mode": {
    "name": "ipython",
    "version": 3
   },
   "file_extension": ".py",
   "mimetype": "text/x-python",
   "name": "python",
   "nbconvert_exporter": "python",
   "pygments_lexer": "ipython3",
   "version": "3.11.7"
  }
 },
 "nbformat": 4,
 "nbformat_minor": 2
}
