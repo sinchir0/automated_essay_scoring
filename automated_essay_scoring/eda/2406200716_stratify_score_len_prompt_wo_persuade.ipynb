{
 "cells": [
  {
   "cell_type": "code",
   "execution_count": 1,
   "metadata": {},
   "outputs": [],
   "source": [
    "import polars as pl\n",
    "\n",
    "DATA_PATH = \"../../data/\"\n",
    "\n",
    "train = pl.read_csv(DATA_PATH + \"train.csv\")\n",
    "predicted_prompt = pl.read_csv(DATA_PATH + \"predicted_prompt.csv\")"
   ]
  },
  {
   "cell_type": "code",
   "execution_count": 2,
   "metadata": {},
   "outputs": [
    {
     "data": {
      "text/html": [
       "<div><style>\n",
       ".dataframe > thead > tr,\n",
       ".dataframe > tbody > tr {\n",
       "  text-align: right;\n",
       "  white-space: pre-wrap;\n",
       "}\n",
       "</style>\n",
       "<small>shape: (17_307, 3)</small><table border=\"1\" class=\"dataframe\"><thead><tr><th>essay_id</th><th>full_text</th><th>score</th></tr><tr><td>str</td><td>str</td><td>i64</td></tr></thead><tbody><tr><td>&quot;000d118&quot;</td><td>&quot;Many people have car where the…</td><td>3</td></tr><tr><td>&quot;000fe60&quot;</td><td>&quot;I am a scientist at NASA that …</td><td>3</td></tr><tr><td>&quot;001ab80&quot;</td><td>&quot;People always wish they had th…</td><td>4</td></tr><tr><td>&quot;001bdc0&quot;</td><td>&quot;We all heard about Venus, the …</td><td>4</td></tr><tr><td>&quot;002ba53&quot;</td><td>&quot;Dear, State Senator\n",
       "\n",
       "This is a…</td><td>3</td></tr><tr><td>&hellip;</td><td>&hellip;</td><td>&hellip;</td></tr><tr><td>&quot;ffd378d&quot;</td><td>&quot;the story &quot; The Challenge of E…</td><td>2</td></tr><tr><td>&quot;ffddf1f&quot;</td><td>&quot;Technology has changed a lot o…</td><td>4</td></tr><tr><td>&quot;fff016d&quot;</td><td>&quot;If you don&#x27;t like sitting arou…</td><td>2</td></tr><tr><td>&quot;fffb49b&quot;</td><td>&quot;In &quot;The Challenge of Exporing …</td><td>1</td></tr><tr><td>&quot;fffed3e&quot;</td><td>&quot;Venus is worthy place to study…</td><td>2</td></tr></tbody></table></div>"
      ],
      "text/plain": [
       "shape: (17_307, 3)\n",
       "┌──────────┬─────────────────────────────────┬───────┐\n",
       "│ essay_id ┆ full_text                       ┆ score │\n",
       "│ ---      ┆ ---                             ┆ ---   │\n",
       "│ str      ┆ str                             ┆ i64   │\n",
       "╞══════════╪═════════════════════════════════╪═══════╡\n",
       "│ 000d118  ┆ Many people have car where the… ┆ 3     │\n",
       "│ 000fe60  ┆ I am a scientist at NASA that … ┆ 3     │\n",
       "│ 001ab80  ┆ People always wish they had th… ┆ 4     │\n",
       "│ 001bdc0  ┆ We all heard about Venus, the … ┆ 4     │\n",
       "│ 002ba53  ┆ Dear, State Senator             ┆ 3     │\n",
       "│          ┆                                 ┆       │\n",
       "│          ┆ This is a…                      ┆       │\n",
       "│ …        ┆ …                               ┆ …     │\n",
       "│ ffd378d  ┆ the story \" The Challenge of E… ┆ 2     │\n",
       "│ ffddf1f  ┆ Technology has changed a lot o… ┆ 4     │\n",
       "│ fff016d  ┆ If you don't like sitting arou… ┆ 2     │\n",
       "│ fffb49b  ┆ In \"The Challenge of Exporing … ┆ 1     │\n",
       "│ fffed3e  ┆ Venus is worthy place to study… ┆ 2     │\n",
       "└──────────┴─────────────────────────────────┴───────┘"
      ]
     },
     "execution_count": 2,
     "metadata": {},
     "output_type": "execute_result"
    }
   ],
   "source": [
    "train"
   ]
  },
  {
   "cell_type": "code",
   "execution_count": 3,
   "metadata": {},
   "outputs": [],
   "source": [
    "train = train.join(  # prompt_nameを付与する\n",
    "    predicted_prompt.select(pl.col([\"essay_id\", \"prompt_name\"])),\n",
    "    how=\"left\",\n",
    "    on=\"essay_id\",\n",
    ")"
   ]
  },
  {
   "cell_type": "code",
   "execution_count": 4,
   "metadata": {},
   "outputs": [
    {
     "name": "stderr",
     "output_type": "stream",
     "text": [
      "/Users/shinichiro.saito/automated_essay_scoring/.venv/lib/python3.11/site-packages/tqdm/auto.py:21: TqdmWarning: IProgress not found. Please update jupyter and ipywidgets. See https://ipywidgets.readthedocs.io/en/stable/user_install.html\n",
      "  from .autonotebook import tqdm as notebook_tqdm\n"
     ]
    }
   ],
   "source": [
    "from datasets import load_dataset\n",
    "\n",
    "# 追加データ\n",
    "persuade_dataset = (\n",
    "    load_dataset(\n",
    "        \"csv\",\n",
    "        data_files={\"train\": f\"{DATA_PATH}/persuade_w_is_tr_con_as_num.csv\"},\n",
    "        split=\"train\",\n",
    "    )\n",
    "    .filter(lambda x: not x[\"is_train_contains\"])\n",
    "    .select_columns(\n",
    "        [\"essay_id_comp\", \"full_text\", \"holistic_essay_score\", \"prompt_name\"]\n",
    "    )\n",
    "    .rename_columns({\"essay_id_comp\": \"essay_id\", \"holistic_essay_score\": \"score\"})\n",
    ")\n",
    "\n",
    "persuade_df = pl.DataFrame(persuade_dataset.to_pandas())"
   ]
  },
  {
   "cell_type": "code",
   "execution_count": 5,
   "metadata": {},
   "outputs": [],
   "source": [
    "# train = pl.concat([train, persuade_df])\n",
    "\n",
    "train = train.with_columns(  # prompt_nameをlabel encodingする\n",
    "    pl.col(\"prompt_name\").cast(pl.Categorical).to_physical().alias(\"prompt_id\")\n",
    ")\n",
    "persuade_df = persuade_df.with_columns(  # prompt_nameをlabel encodingする\n",
    "    pl.col(\"prompt_name\").cast(pl.Categorical).to_physical().alias(\"prompt_id\")\n",
    ")"
   ]
  },
  {
   "cell_type": "code",
   "execution_count": 6,
   "metadata": {},
   "outputs": [
    {
     "data": {
      "text/plain": [
       "polars.config.Config"
      ]
     },
     "execution_count": 6,
     "metadata": {},
     "output_type": "execute_result"
    }
   ],
   "source": [
    "pl.Config.set_tbl_rows(100)"
   ]
  },
  {
   "cell_type": "code",
   "execution_count": 7,
   "metadata": {},
   "outputs": [],
   "source": [
    "train = train.with_columns(\n",
    "    pl.col(\"full_text\")\n",
    "    .map_elements(lambda x: len(x.split()), return_dtype=pl.Int64)\n",
    "    .alias(\"word_length\"),\n",
    ")\n",
    "\n",
    "persuade_df = persuade_df.with_columns(\n",
    "    pl.col(\"full_text\")\n",
    "    .map_elements(lambda x: len(x.split()), return_dtype=pl.Int64)\n",
    "    .alias(\"word_length\"),\n",
    ")"
   ]
  },
  {
   "cell_type": "code",
   "execution_count": 8,
   "metadata": {},
   "outputs": [],
   "source": [
    "train = train.with_columns(\n",
    "    pl.when(pl.col(\"word_length\") <= 200)\n",
    "    .then(pl.lit(\"x<=200\"))\n",
    "    .when(pl.col(\"word_length\") <= 400)\n",
    "    .then(pl.lit(\"200<x<=400\"))\n",
    "    .when(pl.col(\"word_length\") <= 600)\n",
    "    .then(pl.lit(\"400<x<=600\"))\n",
    "    .when(pl.col(\"word_length\") <= 800)\n",
    "    .then(pl.lit(\"600<x<=800\"))\n",
    "    .when(pl.col(\"word_length\") <= 1000)\n",
    "    .then(pl.lit(\"800<x<=1000\"))\n",
    "    .when(pl.col(\"word_length\") <= 1200)\n",
    "    .then(pl.lit(\"1000<x<=1200\"))\n",
    "    .when(pl.col(\"word_length\") > 1200)\n",
    "    .then(pl.lit(\"x>1200\"))\n",
    "    .alias(\"word_length_cat\"),\n",
    ")\n",
    "\n",
    "persuade_df = persuade_df.with_columns(\n",
    "    pl.when(pl.col(\"word_length\") <= 200)\n",
    "    .then(pl.lit(\"x<=200\"))\n",
    "    .when(pl.col(\"word_length\") <= 400)\n",
    "    .then(pl.lit(\"200<x<=400\"))\n",
    "    .when(pl.col(\"word_length\") <= 600)\n",
    "    .then(pl.lit(\"400<x<=600\"))\n",
    "    .when(pl.col(\"word_length\") <= 800)\n",
    "    .then(pl.lit(\"600<x<=800\"))\n",
    "    .when(pl.col(\"word_length\") <= 1000)\n",
    "    .then(pl.lit(\"800<x<=1000\"))\n",
    "    .when(pl.col(\"word_length\") <= 1200)\n",
    "    .then(pl.lit(\"1000<x<=1200\"))\n",
    "    .when(pl.col(\"word_length\") > 1200)\n",
    "    .then(pl.lit(\"x>1200\"))\n",
    "    .alias(\"word_length_cat\"),\n",
    ")"
   ]
  },
  {
   "cell_type": "code",
   "execution_count": 9,
   "metadata": {},
   "outputs": [],
   "source": [
    "train = train.with_columns(\n",
    "    pl.concat_str(\n",
    "        pl.col(\"score\"),\n",
    "        pl.col(\"word_length_cat\"),\n",
    "        separator=\"_\",\n",
    "    ).alias(\"score_word_length_cat\")\n",
    ").with_columns(\n",
    "    pl.concat_str(\n",
    "        pl.col(\"score_word_length_cat\"),\n",
    "        pl.col(\"prompt_id\"),\n",
    "        separator=\"_\",\n",
    "    ).alias(\"concat_score_word_length_prompt_id\")\n",
    ")\n",
    "\n",
    "persuade_df = persuade_df.with_columns(\n",
    "    pl.concat_str(\n",
    "        pl.col(\"score\"),\n",
    "        pl.col(\"word_length_cat\"),\n",
    "        separator=\"_\",\n",
    "    ).alias(\"score_word_length_cat\")\n",
    ").with_columns(\n",
    "    pl.concat_str(\n",
    "        pl.col(\"score_word_length_cat\"),\n",
    "        pl.col(\"prompt_id\"),\n",
    "        separator=\"_\",\n",
    "    ).alias(\"concat_score_word_length_prompt_id\")\n",
    ")"
   ]
  },
  {
   "cell_type": "code",
   "execution_count": 10,
   "metadata": {},
   "outputs": [
    {
     "data": {
      "text/html": [
       "<div><style>\n",
       ".dataframe > thead > tr,\n",
       ".dataframe > tbody > tr {\n",
       "  text-align: right;\n",
       "  white-space: pre-wrap;\n",
       "}\n",
       "</style>\n",
       "<small>shape: (5, 9)</small><table border=\"1\" class=\"dataframe\"><thead><tr><th>essay_id</th><th>full_text</th><th>score</th><th>prompt_name</th><th>prompt_id</th><th>word_length</th><th>word_length_cat</th><th>score_word_length_cat</th><th>concat_score_word_length_prompt_id</th></tr><tr><td>str</td><td>str</td><td>i64</td><td>str</td><td>u32</td><td>i64</td><td>str</td><td>str</td><td>str</td></tr></thead><tbody><tr><td>&quot;000d118&quot;</td><td>&quot;Many people have car where the…</td><td>3</td><td>&quot;Car-free cities&quot;</td><td>0</td><td>498</td><td>&quot;400&lt;x&lt;=600&quot;</td><td>&quot;3_400&lt;x&lt;=600&quot;</td><td>&quot;3_400&lt;x&lt;=600_0&quot;</td></tr><tr><td>&quot;000fe60&quot;</td><td>&quot;I am a scientist at NASA that …</td><td>3</td><td>&quot;The Face on Mars&quot;</td><td>1</td><td>332</td><td>&quot;200&lt;x&lt;=400&quot;</td><td>&quot;3_200&lt;x&lt;=400&quot;</td><td>&quot;3_200&lt;x&lt;=400_1&quot;</td></tr><tr><td>&quot;001ab80&quot;</td><td>&quot;People always wish they had th…</td><td>4</td><td>&quot;Driverless cars&quot;</td><td>2</td><td>550</td><td>&quot;400&lt;x&lt;=600&quot;</td><td>&quot;4_400&lt;x&lt;=600&quot;</td><td>&quot;4_400&lt;x&lt;=600_2&quot;</td></tr><tr><td>&quot;001bdc0&quot;</td><td>&quot;We all heard about Venus, the …</td><td>4</td><td>&quot;Exploring Venus&quot;</td><td>3</td><td>451</td><td>&quot;400&lt;x&lt;=600&quot;</td><td>&quot;4_400&lt;x&lt;=600&quot;</td><td>&quot;4_400&lt;x&lt;=600_3&quot;</td></tr><tr><td>&quot;002ba53&quot;</td><td>&quot;Dear, State Senator\n",
       "\n",
       "This is a…</td><td>3</td><td>&quot;Does the electoral college wor…</td><td>4</td><td>373</td><td>&quot;200&lt;x&lt;=400&quot;</td><td>&quot;3_200&lt;x&lt;=400&quot;</td><td>&quot;3_200&lt;x&lt;=400_4&quot;</td></tr></tbody></table></div>"
      ],
      "text/plain": [
       "shape: (5, 9)\n",
       "┌──────────┬────────────┬───────┬────────────┬───┬────────────┬────────────┬───────────┬───────────┐\n",
       "│ essay_id ┆ full_text  ┆ score ┆ prompt_nam ┆ … ┆ word_lengt ┆ word_lengt ┆ score_wor ┆ concat_sc │\n",
       "│ ---      ┆ ---        ┆ ---   ┆ e          ┆   ┆ h          ┆ h_cat      ┆ d_length_ ┆ ore_word_ │\n",
       "│ str      ┆ str        ┆ i64   ┆ ---        ┆   ┆ ---        ┆ ---        ┆ cat       ┆ length_pr │\n",
       "│          ┆            ┆       ┆ str        ┆   ┆ i64        ┆ str        ┆ ---       ┆ omp…      │\n",
       "│          ┆            ┆       ┆            ┆   ┆            ┆            ┆ str       ┆ ---       │\n",
       "│          ┆            ┆       ┆            ┆   ┆            ┆            ┆           ┆ str       │\n",
       "╞══════════╪════════════╪═══════╪════════════╪═══╪════════════╪════════════╪═══════════╪═══════════╡\n",
       "│ 000d118  ┆ Many       ┆ 3     ┆ Car-free   ┆ … ┆ 498        ┆ 400<x<=600 ┆ 3_400<x<= ┆ 3_400<x<= │\n",
       "│          ┆ people     ┆       ┆ cities     ┆   ┆            ┆            ┆ 600       ┆ 600_0     │\n",
       "│          ┆ have car   ┆       ┆            ┆   ┆            ┆            ┆           ┆           │\n",
       "│          ┆ where the… ┆       ┆            ┆   ┆            ┆            ┆           ┆           │\n",
       "│ 000fe60  ┆ I am a     ┆ 3     ┆ The Face   ┆ … ┆ 332        ┆ 200<x<=400 ┆ 3_200<x<= ┆ 3_200<x<= │\n",
       "│          ┆ scientist  ┆       ┆ on Mars    ┆   ┆            ┆            ┆ 400       ┆ 400_1     │\n",
       "│          ┆ at NASA    ┆       ┆            ┆   ┆            ┆            ┆           ┆           │\n",
       "│          ┆ that …     ┆       ┆            ┆   ┆            ┆            ┆           ┆           │\n",
       "│ 001ab80  ┆ People     ┆ 4     ┆ Driverless ┆ … ┆ 550        ┆ 400<x<=600 ┆ 4_400<x<= ┆ 4_400<x<= │\n",
       "│          ┆ always     ┆       ┆ cars       ┆   ┆            ┆            ┆ 600       ┆ 600_2     │\n",
       "│          ┆ wish they  ┆       ┆            ┆   ┆            ┆            ┆           ┆           │\n",
       "│          ┆ had th…    ┆       ┆            ┆   ┆            ┆            ┆           ┆           │\n",
       "│ 001bdc0  ┆ We all     ┆ 4     ┆ Exploring  ┆ … ┆ 451        ┆ 400<x<=600 ┆ 4_400<x<= ┆ 4_400<x<= │\n",
       "│          ┆ heard      ┆       ┆ Venus      ┆   ┆            ┆            ┆ 600       ┆ 600_3     │\n",
       "│          ┆ about      ┆       ┆            ┆   ┆            ┆            ┆           ┆           │\n",
       "│          ┆ Venus, the ┆       ┆            ┆   ┆            ┆            ┆           ┆           │\n",
       "│          ┆ …          ┆       ┆            ┆   ┆            ┆            ┆           ┆           │\n",
       "│ 002ba53  ┆ Dear,      ┆ 3     ┆ Does the   ┆ … ┆ 373        ┆ 200<x<=400 ┆ 3_200<x<= ┆ 3_200<x<= │\n",
       "│          ┆ State      ┆       ┆ electoral  ┆   ┆            ┆            ┆ 400       ┆ 400_4     │\n",
       "│          ┆ Senator    ┆       ┆ college    ┆   ┆            ┆            ┆           ┆           │\n",
       "│          ┆            ┆       ┆ wor…       ┆   ┆            ┆            ┆           ┆           │\n",
       "│          ┆ This is a… ┆       ┆            ┆   ┆            ┆            ┆           ┆           │\n",
       "└──────────┴────────────┴───────┴────────────┴───┴────────────┴────────────┴───────────┴───────────┘"
      ]
     },
     "execution_count": 10,
     "metadata": {},
     "output_type": "execute_result"
    }
   ],
   "source": [
    "train.head()"
   ]
  },
  {
   "cell_type": "code",
   "execution_count": 11,
   "metadata": {},
   "outputs": [
    {
     "data": {
      "text/html": [
       "<div><style>\n",
       ".dataframe > thead > tr,\n",
       ".dataframe > tbody > tr {\n",
       "  text-align: right;\n",
       "  white-space: pre-wrap;\n",
       "}\n",
       "</style>\n",
       "<small>shape: (5, 9)</small><table border=\"1\" class=\"dataframe\"><thead><tr><th>essay_id</th><th>full_text</th><th>score</th><th>prompt_name</th><th>prompt_id</th><th>word_length</th><th>word_length_cat</th><th>score_word_length_cat</th><th>concat_score_word_length_prompt_id</th></tr><tr><td>str</td><td>str</td><td>i64</td><td>str</td><td>u32</td><td>i64</td><td>str</td><td>str</td><td>str</td></tr></thead><tbody><tr><td>&quot;423A1CA112E2&quot;</td><td>&quot;Phones\n",
       "\n",
       "Modern humans today ar…</td><td>3</td><td>&quot;Phones and driving&quot;</td><td>0</td><td>379</td><td>&quot;200&lt;x&lt;=400&quot;</td><td>&quot;3_200&lt;x&lt;=400&quot;</td><td>&quot;3_200&lt;x&lt;=400_0&quot;</td></tr><tr><td>&quot;BC75783F96E3&quot;</td><td>&quot;This essay will explain if dri…</td><td>4</td><td>&quot;Phones and driving&quot;</td><td>0</td><td>366</td><td>&quot;200&lt;x&lt;=400&quot;</td><td>&quot;4_200&lt;x&lt;=400&quot;</td><td>&quot;4_200&lt;x&lt;=400_0&quot;</td></tr><tr><td>&quot;74C8BC7417DE&quot;</td><td>&quot;Driving while the use of cellu…</td><td>2</td><td>&quot;Phones and driving&quot;</td><td>0</td><td>178</td><td>&quot;x&lt;=200&quot;</td><td>&quot;2_x&lt;=200&quot;</td><td>&quot;2_x&lt;=200_0&quot;</td></tr><tr><td>&quot;A8445CABFECE&quot;</td><td>&quot;Phones &amp; Driving\n",
       "\n",
       "Drivers shou…</td><td>3</td><td>&quot;Phones and driving&quot;</td><td>0</td><td>212</td><td>&quot;200&lt;x&lt;=400&quot;</td><td>&quot;3_200&lt;x&lt;=400&quot;</td><td>&quot;3_200&lt;x&lt;=400_0&quot;</td></tr><tr><td>&quot;6B4F7A0165B9&quot;</td><td>&quot;Cell Phone Operation While Dri…</td><td>4</td><td>&quot;Phones and driving&quot;</td><td>0</td><td>332</td><td>&quot;200&lt;x&lt;=400&quot;</td><td>&quot;4_200&lt;x&lt;=400&quot;</td><td>&quot;4_200&lt;x&lt;=400_0&quot;</td></tr></tbody></table></div>"
      ],
      "text/plain": [
       "shape: (5, 9)\n",
       "┌────────────┬────────────┬───────┬────────────┬───┬───────────┬───────────┬───────────┬───────────┐\n",
       "│ essay_id   ┆ full_text  ┆ score ┆ prompt_nam ┆ … ┆ word_leng ┆ word_leng ┆ score_wor ┆ concat_sc │\n",
       "│ ---        ┆ ---        ┆ ---   ┆ e          ┆   ┆ th        ┆ th_cat    ┆ d_length_ ┆ ore_word_ │\n",
       "│ str        ┆ str        ┆ i64   ┆ ---        ┆   ┆ ---       ┆ ---       ┆ cat       ┆ length_pr │\n",
       "│            ┆            ┆       ┆ str        ┆   ┆ i64       ┆ str       ┆ ---       ┆ omp…      │\n",
       "│            ┆            ┆       ┆            ┆   ┆           ┆           ┆ str       ┆ ---       │\n",
       "│            ┆            ┆       ┆            ┆   ┆           ┆           ┆           ┆ str       │\n",
       "╞════════════╪════════════╪═══════╪════════════╪═══╪═══════════╪═══════════╪═══════════╪═══════════╡\n",
       "│ 423A1CA112 ┆ Phones     ┆ 3     ┆ Phones and ┆ … ┆ 379       ┆ 200<x<=40 ┆ 3_200<x<= ┆ 3_200<x<= │\n",
       "│ E2         ┆            ┆       ┆ driving    ┆   ┆           ┆ 0         ┆ 400       ┆ 400_0     │\n",
       "│            ┆ Modern     ┆       ┆            ┆   ┆           ┆           ┆           ┆           │\n",
       "│            ┆ humans     ┆       ┆            ┆   ┆           ┆           ┆           ┆           │\n",
       "│            ┆ today ar…  ┆       ┆            ┆   ┆           ┆           ┆           ┆           │\n",
       "│ BC75783F96 ┆ This essay ┆ 4     ┆ Phones and ┆ … ┆ 366       ┆ 200<x<=40 ┆ 4_200<x<= ┆ 4_200<x<= │\n",
       "│ E3         ┆ will       ┆       ┆ driving    ┆   ┆           ┆ 0         ┆ 400       ┆ 400_0     │\n",
       "│            ┆ explain if ┆       ┆            ┆   ┆           ┆           ┆           ┆           │\n",
       "│            ┆ dri…       ┆       ┆            ┆   ┆           ┆           ┆           ┆           │\n",
       "│ 74C8BC7417 ┆ Driving    ┆ 2     ┆ Phones and ┆ … ┆ 178       ┆ x<=200    ┆ 2_x<=200  ┆ 2_x<=200_ │\n",
       "│ DE         ┆ while the  ┆       ┆ driving    ┆   ┆           ┆           ┆           ┆ 0         │\n",
       "│            ┆ use of     ┆       ┆            ┆   ┆           ┆           ┆           ┆           │\n",
       "│            ┆ cellu…     ┆       ┆            ┆   ┆           ┆           ┆           ┆           │\n",
       "│ A8445CABFE ┆ Phones &   ┆ 3     ┆ Phones and ┆ … ┆ 212       ┆ 200<x<=40 ┆ 3_200<x<= ┆ 3_200<x<= │\n",
       "│ CE         ┆ Driving    ┆       ┆ driving    ┆   ┆           ┆ 0         ┆ 400       ┆ 400_0     │\n",
       "│            ┆            ┆       ┆            ┆   ┆           ┆           ┆           ┆           │\n",
       "│            ┆ Drivers    ┆       ┆            ┆   ┆           ┆           ┆           ┆           │\n",
       "│            ┆ shou…      ┆       ┆            ┆   ┆           ┆           ┆           ┆           │\n",
       "│ 6B4F7A0165 ┆ Cell Phone ┆ 4     ┆ Phones and ┆ … ┆ 332       ┆ 200<x<=40 ┆ 4_200<x<= ┆ 4_200<x<= │\n",
       "│ B9         ┆ Operation  ┆       ┆ driving    ┆   ┆           ┆ 0         ┆ 400       ┆ 400_0     │\n",
       "│            ┆ While Dri… ┆       ┆            ┆   ┆           ┆           ┆           ┆           │\n",
       "└────────────┴────────────┴───────┴────────────┴───┴───────────┴───────────┴───────────┴───────────┘"
      ]
     },
     "execution_count": 11,
     "metadata": {},
     "output_type": "execute_result"
    }
   ],
   "source": [
    "persuade_df.head()"
   ]
  },
  {
   "cell_type": "code",
   "execution_count": 12,
   "metadata": {},
   "outputs": [
    {
     "data": {
      "text/html": [
       "<div><style>\n",
       ".dataframe > thead > tr,\n",
       ".dataframe > tbody > tr {\n",
       "  text-align: right;\n",
       "  white-space: pre-wrap;\n",
       "}\n",
       "</style>\n",
       "<small>shape: (177, 3)</small><table border=\"1\" class=\"dataframe\"><thead><tr><th>concat_score_word_length_prompt_id</th><th>count</th><th>percentage</th></tr><tr><td>str</td><td>u32</td><td>f64</td></tr></thead><tbody><tr><td>&quot;3_200&lt;x&lt;=400_2&quot;</td><td>954</td><td>0.055122</td></tr><tr><td>&quot;3_200&lt;x&lt;=400_5&quot;</td><td>910</td><td>0.05258</td></tr><tr><td>&quot;4_400&lt;x&lt;=600_2&quot;</td><td>779</td><td>0.045011</td></tr><tr><td>&quot;3_200&lt;x&lt;=400_3&quot;</td><td>737</td><td>0.042584</td></tr><tr><td>&quot;3_200&lt;x&lt;=400_1&quot;</td><td>617</td><td>0.03565</td></tr><tr><td>&quot;2_200&lt;x&lt;=400_3&quot;</td><td>576</td><td>0.033281</td></tr><tr><td>&quot;3_200&lt;x&lt;=400_6&quot;</td><td>512</td><td>0.029583</td></tr><tr><td>&quot;2_200&lt;x&lt;=400_2&quot;</td><td>511</td><td>0.029526</td></tr><tr><td>&quot;2_200&lt;x&lt;=400_5&quot;</td><td>504</td><td>0.029121</td></tr><tr><td>&quot;2_200&lt;x&lt;=400_6&quot;</td><td>439</td><td>0.025365</td></tr><tr><td>&quot;3_200&lt;x&lt;=400_4&quot;</td><td>436</td><td>0.025192</td></tr><tr><td>&quot;2_200&lt;x&lt;=400_1&quot;</td><td>434</td><td>0.025077</td></tr><tr><td>&quot;4_400&lt;x&lt;=600_5&quot;</td><td>383</td><td>0.02213</td></tr><tr><td>&quot;3_400&lt;x&lt;=600_2&quot;</td><td>369</td><td>0.021321</td></tr><tr><td>&quot;4_400&lt;x&lt;=600_3&quot;</td><td>366</td><td>0.021148</td></tr><tr><td>&quot;3_200&lt;x&lt;=400_0&quot;</td><td>356</td><td>0.02057</td></tr><tr><td>&quot;2_200&lt;x&lt;=400_4&quot;</td><td>346</td><td>0.019992</td></tr><tr><td>&quot;4_400&lt;x&lt;=600_0&quot;</td><td>344</td><td>0.019876</td></tr><tr><td>&quot;4_400&lt;x&lt;=600_4&quot;</td><td>303</td><td>0.017507</td></tr><tr><td>&quot;2_x&lt;=200_5&quot;</td><td>290</td><td>0.016756</td></tr><tr><td>&quot;3_400&lt;x&lt;=600_0&quot;</td><td>288</td><td>0.016641</td></tr><tr><td>&quot;4_200&lt;x&lt;=400_2&quot;</td><td>266</td><td>0.01537</td></tr><tr><td>&quot;2_200&lt;x&lt;=400_0&quot;</td><td>259</td><td>0.014965</td></tr><tr><td>&quot;2_x&lt;=200_6&quot;</td><td>247</td><td>0.014272</td></tr><tr><td>&quot;3_400&lt;x&lt;=600_3&quot;</td><td>247</td><td>0.014272</td></tr><tr><td>&quot;2_x&lt;=200_3&quot;</td><td>243</td><td>0.014041</td></tr><tr><td>&quot;4_400&lt;x&lt;=600_1&quot;</td><td>238</td><td>0.013752</td></tr><tr><td>&quot;2_x&lt;=200_1&quot;</td><td>211</td><td>0.012192</td></tr><tr><td>&quot;3_400&lt;x&lt;=600_4&quot;</td><td>204</td><td>0.011787</td></tr><tr><td>&quot;1_200&lt;x&lt;=400_3&quot;</td><td>202</td><td>0.011672</td></tr><tr><td>&quot;3_400&lt;x&lt;=600_5&quot;</td><td>200</td><td>0.011556</td></tr><tr><td>&quot;4_200&lt;x&lt;=400_5&quot;</td><td>197</td><td>0.011383</td></tr><tr><td>&quot;4_200&lt;x&lt;=400_3&quot;</td><td>167</td><td>0.009649</td></tr><tr><td>&quot;2_x&lt;=200_2&quot;</td><td>160</td><td>0.009245</td></tr><tr><td>&quot;3_400&lt;x&lt;=600_1&quot;</td><td>139</td><td>0.008031</td></tr><tr><td>&quot;1_x&lt;=200_3&quot;</td><td>138</td><td>0.007974</td></tr><tr><td>&quot;4_200&lt;x&lt;=400_1&quot;</td><td>132</td><td>0.007627</td></tr><tr><td>&quot;5_600&lt;x&lt;=800_2&quot;</td><td>121</td><td>0.006991</td></tr><tr><td>&quot;1_200&lt;x&lt;=400_5&quot;</td><td>115</td><td>0.006645</td></tr><tr><td>&quot;1_200&lt;x&lt;=400_4&quot;</td><td>113</td><td>0.006529</td></tr><tr><td>&quot;4_200&lt;x&lt;=400_4&quot;</td><td>107</td><td>0.006182</td></tr><tr><td>&quot;2_x&lt;=200_4&quot;</td><td>105</td><td>0.006067</td></tr><tr><td>&quot;4_600&lt;x&lt;=800_0&quot;</td><td>103</td><td>0.005951</td></tr><tr><td>&quot;1_200&lt;x&lt;=400_6&quot;</td><td>103</td><td>0.005951</td></tr><tr><td>&quot;5_400&lt;x&lt;=600_5&quot;</td><td>102</td><td>0.005894</td></tr><tr><td>&quot;4_600&lt;x&lt;=800_2&quot;</td><td>96</td><td>0.005547</td></tr><tr><td>&quot;5_400&lt;x&lt;=600_3&quot;</td><td>92</td><td>0.005316</td></tr><tr><td>&quot;1_200&lt;x&lt;=400_0&quot;</td><td>88</td><td>0.005085</td></tr><tr><td>&quot;4_200&lt;x&lt;=400_6&quot;</td><td>83</td><td>0.004796</td></tr><tr><td>&quot;5_400&lt;x&lt;=600_2&quot;</td><td>81</td><td>0.00468</td></tr><tr><td>&hellip;</td><td>&hellip;</td><td>&hellip;</td></tr><tr><td>&quot;6_800&lt;x&lt;=1000_3&quot;</td><td>4</td><td>0.000231</td></tr><tr><td>&quot;6_800&lt;x&lt;=1000_2&quot;</td><td>4</td><td>0.000231</td></tr><tr><td>&quot;5_x&gt;1200_0&quot;</td><td>4</td><td>0.000231</td></tr><tr><td>&quot;4_800&lt;x&lt;=1000_5&quot;</td><td>4</td><td>0.000231</td></tr><tr><td>&quot;5_1000&lt;x&lt;=1200_0&quot;</td><td>4</td><td>0.000231</td></tr><tr><td>&quot;6_1000&lt;x&lt;=1200_4&quot;</td><td>4</td><td>0.000231</td></tr><tr><td>&quot;2_600&lt;x&lt;=800_5&quot;</td><td>3</td><td>0.000173</td></tr><tr><td>&quot;2_600&lt;x&lt;=800_4&quot;</td><td>3</td><td>0.000173</td></tr><tr><td>&quot;5_200&lt;x&lt;=400_3&quot;</td><td>3</td><td>0.000173</td></tr><tr><td>&quot;4_600&lt;x&lt;=800_6&quot;</td><td>3</td><td>0.000173</td></tr><tr><td>&quot;5_200&lt;x&lt;=400_5&quot;</td><td>2</td><td>0.000116</td></tr><tr><td>&quot;5_1000&lt;x&lt;=1200_4&quot;</td><td>2</td><td>0.000116</td></tr><tr><td>&quot;4_800&lt;x&lt;=1000_1&quot;</td><td>2</td><td>0.000116</td></tr><tr><td>&quot;1_800&lt;x&lt;=1000_4&quot;</td><td>2</td><td>0.000116</td></tr><tr><td>&quot;4_800&lt;x&lt;=1000_3&quot;</td><td>2</td><td>0.000116</td></tr><tr><td>&quot;2_1000&lt;x&lt;=1200_0&quot;</td><td>2</td><td>0.000116</td></tr><tr><td>&quot;6_x&gt;1200_5&quot;</td><td>2</td><td>0.000116</td></tr><tr><td>&quot;3_800&lt;x&lt;=1000_5&quot;</td><td>2</td><td>0.000116</td></tr><tr><td>&quot;4_800&lt;x&lt;=1000_2&quot;</td><td>2</td><td>0.000116</td></tr><tr><td>&quot;6_600&lt;x&lt;=800_0&quot;</td><td>2</td><td>0.000116</td></tr><tr><td>&quot;5_600&lt;x&lt;=800_6&quot;</td><td>2</td><td>0.000116</td></tr><tr><td>&quot;3_800&lt;x&lt;=1000_2&quot;</td><td>2</td><td>0.000116</td></tr><tr><td>&quot;6_x&gt;1200_4&quot;</td><td>2</td><td>0.000116</td></tr><tr><td>&quot;4_1000&lt;x&lt;=1200_5&quot;</td><td>1</td><td>0.000058</td></tr><tr><td>&quot;2_800&lt;x&lt;=1000_2&quot;</td><td>1</td><td>0.000058</td></tr><tr><td>&quot;6_400&lt;x&lt;=600_2&quot;</td><td>1</td><td>0.000058</td></tr><tr><td>&quot;5_200&lt;x&lt;=400_6&quot;</td><td>1</td><td>0.000058</td></tr><tr><td>&quot;3_800&lt;x&lt;=1000_4&quot;</td><td>1</td><td>0.000058</td></tr><tr><td>&quot;3_x&gt;1200_3&quot;</td><td>1</td><td>0.000058</td></tr><tr><td>&quot;6_x&gt;1200_0&quot;</td><td>1</td><td>0.000058</td></tr><tr><td>&quot;3_800&lt;x&lt;=1000_3&quot;</td><td>1</td><td>0.000058</td></tr><tr><td>&quot;6_1000&lt;x&lt;=1200_3&quot;</td><td>1</td><td>0.000058</td></tr><tr><td>&quot;2_800&lt;x&lt;=1000_0&quot;</td><td>1</td><td>0.000058</td></tr><tr><td>&quot;3_1000&lt;x&lt;=1200_5&quot;</td><td>1</td><td>0.000058</td></tr><tr><td>&quot;2_600&lt;x&lt;=800_6&quot;</td><td>1</td><td>0.000058</td></tr><tr><td>&quot;4_1000&lt;x&lt;=1200_2&quot;</td><td>1</td><td>0.000058</td></tr><tr><td>&quot;6_400&lt;x&lt;=600_1&quot;</td><td>1</td><td>0.000058</td></tr><tr><td>&quot;2_600&lt;x&lt;=800_2&quot;</td><td>1</td><td>0.000058</td></tr><tr><td>&quot;2_1000&lt;x&lt;=1200_2&quot;</td><td>1</td><td>0.000058</td></tr><tr><td>&quot;6_400&lt;x&lt;=600_0&quot;</td><td>1</td><td>0.000058</td></tr><tr><td>&quot;5_1000&lt;x&lt;=1200_5&quot;</td><td>1</td><td>0.000058</td></tr><tr><td>&quot;3_x&gt;1200_0&quot;</td><td>1</td><td>0.000058</td></tr><tr><td>&quot;4_1000&lt;x&lt;=1200_4&quot;</td><td>1</td><td>0.000058</td></tr><tr><td>&quot;2_800&lt;x&lt;=1000_4&quot;</td><td>1</td><td>0.000058</td></tr><tr><td>&quot;4_x&gt;1200_0&quot;</td><td>1</td><td>0.000058</td></tr><tr><td>&quot;2_800&lt;x&lt;=1000_6&quot;</td><td>1</td><td>0.000058</td></tr><tr><td>&quot;3_1000&lt;x&lt;=1200_0&quot;</td><td>1</td><td>0.000058</td></tr><tr><td>&quot;3_x&lt;=200_0&quot;</td><td>1</td><td>0.000058</td></tr><tr><td>&quot;2_x&gt;1200_6&quot;</td><td>1</td><td>0.000058</td></tr><tr><td>&quot;5_200&lt;x&lt;=400_2&quot;</td><td>1</td><td>0.000058</td></tr></tbody></table></div>"
      ],
      "text/plain": [
       "shape: (177, 3)\n",
       "┌─────────────────────────────────┬───────┬────────────┐\n",
       "│ concat_score_word_length_promp… ┆ count ┆ percentage │\n",
       "│ ---                             ┆ ---   ┆ ---        │\n",
       "│ str                             ┆ u32   ┆ f64        │\n",
       "╞═════════════════════════════════╪═══════╪════════════╡\n",
       "│ 3_200<x<=400_2                  ┆ 954   ┆ 0.055122   │\n",
       "│ 3_200<x<=400_5                  ┆ 910   ┆ 0.05258    │\n",
       "│ 4_400<x<=600_2                  ┆ 779   ┆ 0.045011   │\n",
       "│ 3_200<x<=400_3                  ┆ 737   ┆ 0.042584   │\n",
       "│ 3_200<x<=400_1                  ┆ 617   ┆ 0.03565    │\n",
       "│ 2_200<x<=400_3                  ┆ 576   ┆ 0.033281   │\n",
       "│ 3_200<x<=400_6                  ┆ 512   ┆ 0.029583   │\n",
       "│ 2_200<x<=400_2                  ┆ 511   ┆ 0.029526   │\n",
       "│ 2_200<x<=400_5                  ┆ 504   ┆ 0.029121   │\n",
       "│ 2_200<x<=400_6                  ┆ 439   ┆ 0.025365   │\n",
       "│ 3_200<x<=400_4                  ┆ 436   ┆ 0.025192   │\n",
       "│ 2_200<x<=400_1                  ┆ 434   ┆ 0.025077   │\n",
       "│ 4_400<x<=600_5                  ┆ 383   ┆ 0.02213    │\n",
       "│ 3_400<x<=600_2                  ┆ 369   ┆ 0.021321   │\n",
       "│ 4_400<x<=600_3                  ┆ 366   ┆ 0.021148   │\n",
       "│ 3_200<x<=400_0                  ┆ 356   ┆ 0.02057    │\n",
       "│ 2_200<x<=400_4                  ┆ 346   ┆ 0.019992   │\n",
       "│ 4_400<x<=600_0                  ┆ 344   ┆ 0.019876   │\n",
       "│ 4_400<x<=600_4                  ┆ 303   ┆ 0.017507   │\n",
       "│ 2_x<=200_5                      ┆ 290   ┆ 0.016756   │\n",
       "│ 3_400<x<=600_0                  ┆ 288   ┆ 0.016641   │\n",
       "│ 4_200<x<=400_2                  ┆ 266   ┆ 0.01537    │\n",
       "│ 2_200<x<=400_0                  ┆ 259   ┆ 0.014965   │\n",
       "│ 2_x<=200_6                      ┆ 247   ┆ 0.014272   │\n",
       "│ 3_400<x<=600_3                  ┆ 247   ┆ 0.014272   │\n",
       "│ 2_x<=200_3                      ┆ 243   ┆ 0.014041   │\n",
       "│ 4_400<x<=600_1                  ┆ 238   ┆ 0.013752   │\n",
       "│ 2_x<=200_1                      ┆ 211   ┆ 0.012192   │\n",
       "│ 3_400<x<=600_4                  ┆ 204   ┆ 0.011787   │\n",
       "│ 1_200<x<=400_3                  ┆ 202   ┆ 0.011672   │\n",
       "│ 3_400<x<=600_5                  ┆ 200   ┆ 0.011556   │\n",
       "│ 4_200<x<=400_5                  ┆ 197   ┆ 0.011383   │\n",
       "│ 4_200<x<=400_3                  ┆ 167   ┆ 0.009649   │\n",
       "│ 2_x<=200_2                      ┆ 160   ┆ 0.009245   │\n",
       "│ 3_400<x<=600_1                  ┆ 139   ┆ 0.008031   │\n",
       "│ 1_x<=200_3                      ┆ 138   ┆ 0.007974   │\n",
       "│ 4_200<x<=400_1                  ┆ 132   ┆ 0.007627   │\n",
       "│ 5_600<x<=800_2                  ┆ 121   ┆ 0.006991   │\n",
       "│ 1_200<x<=400_5                  ┆ 115   ┆ 0.006645   │\n",
       "│ 1_200<x<=400_4                  ┆ 113   ┆ 0.006529   │\n",
       "│ 4_200<x<=400_4                  ┆ 107   ┆ 0.006182   │\n",
       "│ 2_x<=200_4                      ┆ 105   ┆ 0.006067   │\n",
       "│ 4_600<x<=800_0                  ┆ 103   ┆ 0.005951   │\n",
       "│ 1_200<x<=400_6                  ┆ 103   ┆ 0.005951   │\n",
       "│ 5_400<x<=600_5                  ┆ 102   ┆ 0.005894   │\n",
       "│ 4_600<x<=800_2                  ┆ 96    ┆ 0.005547   │\n",
       "│ 5_400<x<=600_3                  ┆ 92    ┆ 0.005316   │\n",
       "│ 1_200<x<=400_0                  ┆ 88    ┆ 0.005085   │\n",
       "│ 4_200<x<=400_6                  ┆ 83    ┆ 0.004796   │\n",
       "│ 5_400<x<=600_2                  ┆ 81    ┆ 0.00468    │\n",
       "│ …                               ┆ …     ┆ …          │\n",
       "│ 6_800<x<=1000_3                 ┆ 4     ┆ 0.000231   │\n",
       "│ 6_800<x<=1000_2                 ┆ 4     ┆ 0.000231   │\n",
       "│ 5_x>1200_0                      ┆ 4     ┆ 0.000231   │\n",
       "│ 4_800<x<=1000_5                 ┆ 4     ┆ 0.000231   │\n",
       "│ 5_1000<x<=1200_0                ┆ 4     ┆ 0.000231   │\n",
       "│ 6_1000<x<=1200_4                ┆ 4     ┆ 0.000231   │\n",
       "│ 2_600<x<=800_5                  ┆ 3     ┆ 0.000173   │\n",
       "│ 2_600<x<=800_4                  ┆ 3     ┆ 0.000173   │\n",
       "│ 5_200<x<=400_3                  ┆ 3     ┆ 0.000173   │\n",
       "│ 4_600<x<=800_6                  ┆ 3     ┆ 0.000173   │\n",
       "│ 5_200<x<=400_5                  ┆ 2     ┆ 0.000116   │\n",
       "│ 5_1000<x<=1200_4                ┆ 2     ┆ 0.000116   │\n",
       "│ 4_800<x<=1000_1                 ┆ 2     ┆ 0.000116   │\n",
       "│ 1_800<x<=1000_4                 ┆ 2     ┆ 0.000116   │\n",
       "│ 4_800<x<=1000_3                 ┆ 2     ┆ 0.000116   │\n",
       "│ 2_1000<x<=1200_0                ┆ 2     ┆ 0.000116   │\n",
       "│ 6_x>1200_5                      ┆ 2     ┆ 0.000116   │\n",
       "│ 3_800<x<=1000_5                 ┆ 2     ┆ 0.000116   │\n",
       "│ 4_800<x<=1000_2                 ┆ 2     ┆ 0.000116   │\n",
       "│ 6_600<x<=800_0                  ┆ 2     ┆ 0.000116   │\n",
       "│ 5_600<x<=800_6                  ┆ 2     ┆ 0.000116   │\n",
       "│ 3_800<x<=1000_2                 ┆ 2     ┆ 0.000116   │\n",
       "│ 6_x>1200_4                      ┆ 2     ┆ 0.000116   │\n",
       "│ 4_1000<x<=1200_5                ┆ 1     ┆ 0.000058   │\n",
       "│ 2_800<x<=1000_2                 ┆ 1     ┆ 0.000058   │\n",
       "│ 6_400<x<=600_2                  ┆ 1     ┆ 0.000058   │\n",
       "│ 5_200<x<=400_6                  ┆ 1     ┆ 0.000058   │\n",
       "│ 3_800<x<=1000_4                 ┆ 1     ┆ 0.000058   │\n",
       "│ 3_x>1200_3                      ┆ 1     ┆ 0.000058   │\n",
       "│ 6_x>1200_0                      ┆ 1     ┆ 0.000058   │\n",
       "│ 3_800<x<=1000_3                 ┆ 1     ┆ 0.000058   │\n",
       "│ 6_1000<x<=1200_3                ┆ 1     ┆ 0.000058   │\n",
       "│ 2_800<x<=1000_0                 ┆ 1     ┆ 0.000058   │\n",
       "│ 3_1000<x<=1200_5                ┆ 1     ┆ 0.000058   │\n",
       "│ 2_600<x<=800_6                  ┆ 1     ┆ 0.000058   │\n",
       "│ 4_1000<x<=1200_2                ┆ 1     ┆ 0.000058   │\n",
       "│ 6_400<x<=600_1                  ┆ 1     ┆ 0.000058   │\n",
       "│ 2_600<x<=800_2                  ┆ 1     ┆ 0.000058   │\n",
       "│ 2_1000<x<=1200_2                ┆ 1     ┆ 0.000058   │\n",
       "│ 6_400<x<=600_0                  ┆ 1     ┆ 0.000058   │\n",
       "│ 5_1000<x<=1200_5                ┆ 1     ┆ 0.000058   │\n",
       "│ 3_x>1200_0                      ┆ 1     ┆ 0.000058   │\n",
       "│ 4_1000<x<=1200_4                ┆ 1     ┆ 0.000058   │\n",
       "│ 2_800<x<=1000_4                 ┆ 1     ┆ 0.000058   │\n",
       "│ 4_x>1200_0                      ┆ 1     ┆ 0.000058   │\n",
       "│ 2_800<x<=1000_6                 ┆ 1     ┆ 0.000058   │\n",
       "│ 3_1000<x<=1200_0                ┆ 1     ┆ 0.000058   │\n",
       "│ 3_x<=200_0                      ┆ 1     ┆ 0.000058   │\n",
       "│ 2_x>1200_6                      ┆ 1     ┆ 0.000058   │\n",
       "│ 5_200<x<=400_2                  ┆ 1     ┆ 0.000058   │\n",
       "└─────────────────────────────────┴───────┴────────────┘"
      ]
     },
     "execution_count": 12,
     "metadata": {},
     "output_type": "execute_result"
    }
   ],
   "source": [
    "(\n",
    "    train.select(\n",
    "        pl.col(\"concat_score_word_length_prompt_id\").value_counts(),\n",
    "    )\n",
    "    .unnest(\"concat_score_word_length_prompt_id\")\n",
    "    .with_columns((pl.col(\"count\") / train.height).alias(\"percentage\"))\n",
    "    .sort(\"count\", descending=True)\n",
    ")"
   ]
  },
  {
   "cell_type": "code",
   "execution_count": 13,
   "metadata": {},
   "outputs": [
    {
     "data": {
      "text/html": [
       "<div><style>\n",
       ".dataframe > thead > tr,\n",
       ".dataframe > tbody > tr {\n",
       "  text-align: right;\n",
       "  white-space: pre-wrap;\n",
       "}\n",
       "</style>\n",
       "<small>shape: (197, 3)</small><table border=\"1\" class=\"dataframe\"><thead><tr><th>concat_score_word_length_prompt_id</th><th>count</th><th>percentage</th></tr><tr><td>str</td><td>u32</td><td>f64</td></tr></thead><tbody><tr><td>&quot;3_200&lt;x&lt;=400_6&quot;</td><td>667</td><td>0.038539</td></tr><tr><td>&quot;3_200&lt;x&lt;=400_5&quot;</td><td>550</td><td>0.031779</td></tr><tr><td>&quot;3_200&lt;x&lt;=400_4&quot;</td><td>528</td><td>0.030508</td></tr><tr><td>&quot;4_400&lt;x&lt;=600_8&quot;</td><td>466</td><td>0.026926</td></tr><tr><td>&quot;4_400&lt;x&lt;=600_7&quot;</td><td>425</td><td>0.024557</td></tr><tr><td>&quot;4_400&lt;x&lt;=600_3&quot;</td><td>424</td><td>0.024499</td></tr><tr><td>&quot;4_400&lt;x&lt;=600_2&quot;</td><td>345</td><td>0.019934</td></tr><tr><td>&quot;5_600&lt;x&lt;=800_7&quot;</td><td>335</td><td>0.019356</td></tr><tr><td>&quot;5_600&lt;x&lt;=800_2&quot;</td><td>333</td><td>0.019241</td></tr><tr><td>&quot;3_200&lt;x&lt;=400_0&quot;</td><td>303</td><td>0.017507</td></tr><tr><td>&quot;2_200&lt;x&lt;=400_4&quot;</td><td>296</td><td>0.017103</td></tr><tr><td>&quot;4_400&lt;x&lt;=600_0&quot;</td><td>292</td><td>0.016872</td></tr><tr><td>&quot;2_200&lt;x&lt;=400_5&quot;</td><td>291</td><td>0.016814</td></tr><tr><td>&quot;3_200&lt;x&lt;=400_3&quot;</td><td>284</td><td>0.01641</td></tr><tr><td>&quot;3_200&lt;x&lt;=400_8&quot;</td><td>248</td><td>0.014329</td></tr><tr><td>&quot;2_x&lt;=200_5&quot;</td><td>247</td><td>0.014272</td></tr><tr><td>&quot;5_400&lt;x&lt;=600_7&quot;</td><td>246</td><td>0.014214</td></tr><tr><td>&quot;3_200&lt;x&lt;=400_7&quot;</td><td>229</td><td>0.013232</td></tr><tr><td>&quot;2_x&lt;=200_6&quot;</td><td>228</td><td>0.013174</td></tr><tr><td>&quot;2_x&lt;=200_4&quot;</td><td>227</td><td>0.013116</td></tr><tr><td>&quot;5_400&lt;x&lt;=600_2&quot;</td><td>220</td><td>0.012712</td></tr><tr><td>&quot;2_200&lt;x&lt;=400_6&quot;</td><td>199</td><td>0.011498</td></tr><tr><td>&quot;4_200&lt;x&lt;=400_5&quot;</td><td>192</td><td>0.011094</td></tr><tr><td>&quot;4_200&lt;x&lt;=400_6&quot;</td><td>191</td><td>0.011036</td></tr><tr><td>&quot;4_200&lt;x&lt;=400_4&quot;</td><td>189</td><td>0.01092</td></tr><tr><td>&quot;4_200&lt;x&lt;=400_0&quot;</td><td>183</td><td>0.010574</td></tr><tr><td>&quot;5_600&lt;x&lt;=800_3&quot;</td><td>162</td><td>0.00936</td></tr><tr><td>&quot;6_800&lt;x&lt;=1000_7&quot;</td><td>161</td><td>0.009303</td></tr><tr><td>&quot;4_200&lt;x&lt;=400_3&quot;</td><td>154</td><td>0.008898</td></tr><tr><td>&quot;4_400&lt;x&lt;=600_5&quot;</td><td>150</td><td>0.008667</td></tr><tr><td>&quot;4_400&lt;x&lt;=600_6&quot;</td><td>146</td><td>0.008436</td></tr><tr><td>&quot;5_400&lt;x&lt;=600_3&quot;</td><td>142</td><td>0.008205</td></tr><tr><td>&quot;5_600&lt;x&lt;=800_8&quot;</td><td>134</td><td>0.007743</td></tr><tr><td>&quot;4_200&lt;x&lt;=400_7&quot;</td><td>134</td><td>0.007743</td></tr><tr><td>&quot;6_800&lt;x&lt;=1000_2&quot;</td><td>133</td><td>0.007685</td></tr><tr><td>&quot;6_600&lt;x&lt;=800_7&quot;</td><td>128</td><td>0.007396</td></tr><tr><td>&quot;5_400&lt;x&lt;=600_0&quot;</td><td>123</td><td>0.007107</td></tr><tr><td>&quot;3_200&lt;x&lt;=400_2&quot;</td><td>123</td><td>0.007107</td></tr><tr><td>&quot;3_400&lt;x&lt;=600_7&quot;</td><td>119</td><td>0.006876</td></tr><tr><td>&quot;4_200&lt;x&lt;=400_8&quot;</td><td>117</td><td>0.00676</td></tr><tr><td>&quot;4_600&lt;x&lt;=800_8&quot;</td><td>116</td><td>0.006702</td></tr><tr><td>&quot;4_400&lt;x&lt;=600_4&quot;</td><td>112</td><td>0.006471</td></tr><tr><td>&quot;2_200&lt;x&lt;=400_3&quot;</td><td>103</td><td>0.005951</td></tr><tr><td>&quot;4_200&lt;x&lt;=400_2&quot;</td><td>103</td><td>0.005951</td></tr><tr><td>&quot;5_800&lt;x&lt;=1000_2&quot;</td><td>100</td><td>0.005778</td></tr><tr><td>&quot;3_400&lt;x&lt;=600_8&quot;</td><td>100</td><td>0.005778</td></tr><tr><td>&quot;3_400&lt;x&lt;=600_3&quot;</td><td>93</td><td>0.005374</td></tr><tr><td>&quot;4_600&lt;x&lt;=800_2&quot;</td><td>85</td><td>0.004911</td></tr><tr><td>&quot;6_600&lt;x&lt;=800_2&quot;</td><td>84</td><td>0.004854</td></tr><tr><td>&quot;5_800&lt;x&lt;=1000_7&quot;</td><td>81</td><td>0.00468</td></tr><tr><td>&hellip;</td><td>&hellip;</td><td>&hellip;</td></tr><tr><td>&quot;2_600&lt;x&lt;=800_3&quot;</td><td>3</td><td>0.000173</td></tr><tr><td>&quot;5_x&gt;1200_0&quot;</td><td>3</td><td>0.000173</td></tr><tr><td>&quot;3_x&lt;=200_8&quot;</td><td>2</td><td>0.000116</td></tr><tr><td>&quot;2_600&lt;x&lt;=800_2&quot;</td><td>2</td><td>0.000116</td></tr><tr><td>&quot;4_1000&lt;x&lt;=1200_3&quot;</td><td>2</td><td>0.000116</td></tr><tr><td>&quot;1_400&lt;x&lt;=600_7&quot;</td><td>2</td><td>0.000116</td></tr><tr><td>&quot;3_600&lt;x&lt;=800_5&quot;</td><td>2</td><td>0.000116</td></tr><tr><td>&quot;3_600&lt;x&lt;=800_6&quot;</td><td>2</td><td>0.000116</td></tr><tr><td>&quot;1_x&lt;=200_3&quot;</td><td>2</td><td>0.000116</td></tr><tr><td>&quot;6_x&gt;1200_0&quot;</td><td>2</td><td>0.000116</td></tr><tr><td>&quot;6_400&lt;x&lt;=600_4&quot;</td><td>2</td><td>0.000116</td></tr><tr><td>&quot;6_600&lt;x&lt;=800_5&quot;</td><td>2</td><td>0.000116</td></tr><tr><td>&quot;2_600&lt;x&lt;=800_8&quot;</td><td>2</td><td>0.000116</td></tr><tr><td>&quot;2_800&lt;x&lt;=1000_7&quot;</td><td>2</td><td>0.000116</td></tr><tr><td>&quot;3_800&lt;x&lt;=1000_3&quot;</td><td>2</td><td>0.000116</td></tr><tr><td>&quot;6_400&lt;x&lt;=600_0&quot;</td><td>2</td><td>0.000116</td></tr><tr><td>&quot;2_800&lt;x&lt;=1000_2&quot;</td><td>2</td><td>0.000116</td></tr><tr><td>&quot;3_1000&lt;x&lt;=1200_2&quot;</td><td>2</td><td>0.000116</td></tr><tr><td>&quot;5_800&lt;x&lt;=1000_5&quot;</td><td>2</td><td>0.000116</td></tr><tr><td>&quot;5_200&lt;x&lt;=400_8&quot;</td><td>2</td><td>0.000116</td></tr><tr><td>&quot;5_200&lt;x&lt;=400_7&quot;</td><td>2</td><td>0.000116</td></tr><tr><td>&quot;2_600&lt;x&lt;=800_0&quot;</td><td>2</td><td>0.000116</td></tr><tr><td>&quot;2_800&lt;x&lt;=1000_8&quot;</td><td>1</td><td>0.000058</td></tr><tr><td>&quot;3_800&lt;x&lt;=1000_8&quot;</td><td>1</td><td>0.000058</td></tr><tr><td>&quot;3_x&lt;=200_2&quot;</td><td>1</td><td>0.000058</td></tr><tr><td>&quot;1_x&lt;=200_1&quot;</td><td>1</td><td>0.000058</td></tr><tr><td>&quot;1_200&lt;x&lt;=400_8&quot;</td><td>1</td><td>0.000058</td></tr><tr><td>&quot;3_600&lt;x&lt;=800_1&quot;</td><td>1</td><td>0.000058</td></tr><tr><td>&quot;1_400&lt;x&lt;=600_4&quot;</td><td>1</td><td>0.000058</td></tr><tr><td>&quot;1_x&lt;=200_7&quot;</td><td>1</td><td>0.000058</td></tr><tr><td>&quot;1_200&lt;x&lt;=400_0&quot;</td><td>1</td><td>0.000058</td></tr><tr><td>&quot;2_200&lt;x&lt;=400_1&quot;</td><td>1</td><td>0.000058</td></tr><tr><td>&quot;3_200&lt;x&lt;=400_1&quot;</td><td>1</td><td>0.000058</td></tr><tr><td>&quot;1_200&lt;x&lt;=400_2&quot;</td><td>1</td><td>0.000058</td></tr><tr><td>&quot;2_800&lt;x&lt;=1000_3&quot;</td><td>1</td><td>0.000058</td></tr><tr><td>&quot;3_800&lt;x&lt;=1000_5&quot;</td><td>1</td><td>0.000058</td></tr><tr><td>&quot;3_x&gt;1200_8&quot;</td><td>1</td><td>0.000058</td></tr><tr><td>&quot;3_1000&lt;x&lt;=1200_8&quot;</td><td>1</td><td>0.000058</td></tr><tr><td>&quot;5_1000&lt;x&lt;=1200_5&quot;</td><td>1</td><td>0.000058</td></tr><tr><td>&quot;1_400&lt;x&lt;=600_8&quot;</td><td>1</td><td>0.000058</td></tr><tr><td>&quot;5_200&lt;x&lt;=400_0&quot;</td><td>1</td><td>0.000058</td></tr><tr><td>&quot;1_600&lt;x&lt;=800_5&quot;</td><td>1</td><td>0.000058</td></tr><tr><td>&quot;1_400&lt;x&lt;=600_2&quot;</td><td>1</td><td>0.000058</td></tr><tr><td>&quot;1_400&lt;x&lt;=600_3&quot;</td><td>1</td><td>0.000058</td></tr><tr><td>&quot;1_800&lt;x&lt;=1000_7&quot;</td><td>1</td><td>0.000058</td></tr><tr><td>&quot;4_x&gt;1200_0&quot;</td><td>1</td><td>0.000058</td></tr><tr><td>&quot;6_400&lt;x&lt;=600_6&quot;</td><td>1</td><td>0.000058</td></tr><tr><td>&quot;3_600&lt;x&lt;=800_4&quot;</td><td>1</td><td>0.000058</td></tr><tr><td>&quot;1_x&lt;=200_8&quot;</td><td>1</td><td>0.000058</td></tr><tr><td>&quot;2_1000&lt;x&lt;=1200_8&quot;</td><td>1</td><td>0.000058</td></tr></tbody></table></div>"
      ],
      "text/plain": [
       "shape: (197, 3)\n",
       "┌─────────────────────────────────┬───────┬────────────┐\n",
       "│ concat_score_word_length_promp… ┆ count ┆ percentage │\n",
       "│ ---                             ┆ ---   ┆ ---        │\n",
       "│ str                             ┆ u32   ┆ f64        │\n",
       "╞═════════════════════════════════╪═══════╪════════════╡\n",
       "│ 3_200<x<=400_6                  ┆ 667   ┆ 0.038539   │\n",
       "│ 3_200<x<=400_5                  ┆ 550   ┆ 0.031779   │\n",
       "│ 3_200<x<=400_4                  ┆ 528   ┆ 0.030508   │\n",
       "│ 4_400<x<=600_8                  ┆ 466   ┆ 0.026926   │\n",
       "│ 4_400<x<=600_7                  ┆ 425   ┆ 0.024557   │\n",
       "│ 4_400<x<=600_3                  ┆ 424   ┆ 0.024499   │\n",
       "│ 4_400<x<=600_2                  ┆ 345   ┆ 0.019934   │\n",
       "│ 5_600<x<=800_7                  ┆ 335   ┆ 0.019356   │\n",
       "│ 5_600<x<=800_2                  ┆ 333   ┆ 0.019241   │\n",
       "│ 3_200<x<=400_0                  ┆ 303   ┆ 0.017507   │\n",
       "│ 2_200<x<=400_4                  ┆ 296   ┆ 0.017103   │\n",
       "│ 4_400<x<=600_0                  ┆ 292   ┆ 0.016872   │\n",
       "│ 2_200<x<=400_5                  ┆ 291   ┆ 0.016814   │\n",
       "│ 3_200<x<=400_3                  ┆ 284   ┆ 0.01641    │\n",
       "│ 3_200<x<=400_8                  ┆ 248   ┆ 0.014329   │\n",
       "│ 2_x<=200_5                      ┆ 247   ┆ 0.014272   │\n",
       "│ 5_400<x<=600_7                  ┆ 246   ┆ 0.014214   │\n",
       "│ 3_200<x<=400_7                  ┆ 229   ┆ 0.013232   │\n",
       "│ 2_x<=200_6                      ┆ 228   ┆ 0.013174   │\n",
       "│ 2_x<=200_4                      ┆ 227   ┆ 0.013116   │\n",
       "│ 5_400<x<=600_2                  ┆ 220   ┆ 0.012712   │\n",
       "│ 2_200<x<=400_6                  ┆ 199   ┆ 0.011498   │\n",
       "│ 4_200<x<=400_5                  ┆ 192   ┆ 0.011094   │\n",
       "│ 4_200<x<=400_6                  ┆ 191   ┆ 0.011036   │\n",
       "│ 4_200<x<=400_4                  ┆ 189   ┆ 0.01092    │\n",
       "│ 4_200<x<=400_0                  ┆ 183   ┆ 0.010574   │\n",
       "│ 5_600<x<=800_3                  ┆ 162   ┆ 0.00936    │\n",
       "│ 6_800<x<=1000_7                 ┆ 161   ┆ 0.009303   │\n",
       "│ 4_200<x<=400_3                  ┆ 154   ┆ 0.008898   │\n",
       "│ 4_400<x<=600_5                  ┆ 150   ┆ 0.008667   │\n",
       "│ 4_400<x<=600_6                  ┆ 146   ┆ 0.008436   │\n",
       "│ 5_400<x<=600_3                  ┆ 142   ┆ 0.008205   │\n",
       "│ 5_600<x<=800_8                  ┆ 134   ┆ 0.007743   │\n",
       "│ 4_200<x<=400_7                  ┆ 134   ┆ 0.007743   │\n",
       "│ 6_800<x<=1000_2                 ┆ 133   ┆ 0.007685   │\n",
       "│ 6_600<x<=800_7                  ┆ 128   ┆ 0.007396   │\n",
       "│ 5_400<x<=600_0                  ┆ 123   ┆ 0.007107   │\n",
       "│ 3_200<x<=400_2                  ┆ 123   ┆ 0.007107   │\n",
       "│ 3_400<x<=600_7                  ┆ 119   ┆ 0.006876   │\n",
       "│ 4_200<x<=400_8                  ┆ 117   ┆ 0.00676    │\n",
       "│ 4_600<x<=800_8                  ┆ 116   ┆ 0.006702   │\n",
       "│ 4_400<x<=600_4                  ┆ 112   ┆ 0.006471   │\n",
       "│ 2_200<x<=400_3                  ┆ 103   ┆ 0.005951   │\n",
       "│ 4_200<x<=400_2                  ┆ 103   ┆ 0.005951   │\n",
       "│ 5_800<x<=1000_2                 ┆ 100   ┆ 0.005778   │\n",
       "│ 3_400<x<=600_8                  ┆ 100   ┆ 0.005778   │\n",
       "│ 3_400<x<=600_3                  ┆ 93    ┆ 0.005374   │\n",
       "│ 4_600<x<=800_2                  ┆ 85    ┆ 0.004911   │\n",
       "│ 6_600<x<=800_2                  ┆ 84    ┆ 0.004854   │\n",
       "│ 5_800<x<=1000_7                 ┆ 81    ┆ 0.00468    │\n",
       "│ …                               ┆ …     ┆ …          │\n",
       "│ 2_600<x<=800_3                  ┆ 3     ┆ 0.000173   │\n",
       "│ 5_x>1200_0                      ┆ 3     ┆ 0.000173   │\n",
       "│ 3_x<=200_8                      ┆ 2     ┆ 0.000116   │\n",
       "│ 2_600<x<=800_2                  ┆ 2     ┆ 0.000116   │\n",
       "│ 4_1000<x<=1200_3                ┆ 2     ┆ 0.000116   │\n",
       "│ 1_400<x<=600_7                  ┆ 2     ┆ 0.000116   │\n",
       "│ 3_600<x<=800_5                  ┆ 2     ┆ 0.000116   │\n",
       "│ 3_600<x<=800_6                  ┆ 2     ┆ 0.000116   │\n",
       "│ 1_x<=200_3                      ┆ 2     ┆ 0.000116   │\n",
       "│ 6_x>1200_0                      ┆ 2     ┆ 0.000116   │\n",
       "│ 6_400<x<=600_4                  ┆ 2     ┆ 0.000116   │\n",
       "│ 6_600<x<=800_5                  ┆ 2     ┆ 0.000116   │\n",
       "│ 2_600<x<=800_8                  ┆ 2     ┆ 0.000116   │\n",
       "│ 2_800<x<=1000_7                 ┆ 2     ┆ 0.000116   │\n",
       "│ 3_800<x<=1000_3                 ┆ 2     ┆ 0.000116   │\n",
       "│ 6_400<x<=600_0                  ┆ 2     ┆ 0.000116   │\n",
       "│ 2_800<x<=1000_2                 ┆ 2     ┆ 0.000116   │\n",
       "│ 3_1000<x<=1200_2                ┆ 2     ┆ 0.000116   │\n",
       "│ 5_800<x<=1000_5                 ┆ 2     ┆ 0.000116   │\n",
       "│ 5_200<x<=400_8                  ┆ 2     ┆ 0.000116   │\n",
       "│ 5_200<x<=400_7                  ┆ 2     ┆ 0.000116   │\n",
       "│ 2_600<x<=800_0                  ┆ 2     ┆ 0.000116   │\n",
       "│ 2_800<x<=1000_8                 ┆ 1     ┆ 0.000058   │\n",
       "│ 3_800<x<=1000_8                 ┆ 1     ┆ 0.000058   │\n",
       "│ 3_x<=200_2                      ┆ 1     ┆ 0.000058   │\n",
       "│ 1_x<=200_1                      ┆ 1     ┆ 0.000058   │\n",
       "│ 1_200<x<=400_8                  ┆ 1     ┆ 0.000058   │\n",
       "│ 3_600<x<=800_1                  ┆ 1     ┆ 0.000058   │\n",
       "│ 1_400<x<=600_4                  ┆ 1     ┆ 0.000058   │\n",
       "│ 1_x<=200_7                      ┆ 1     ┆ 0.000058   │\n",
       "│ 1_200<x<=400_0                  ┆ 1     ┆ 0.000058   │\n",
       "│ 2_200<x<=400_1                  ┆ 1     ┆ 0.000058   │\n",
       "│ 3_200<x<=400_1                  ┆ 1     ┆ 0.000058   │\n",
       "│ 1_200<x<=400_2                  ┆ 1     ┆ 0.000058   │\n",
       "│ 2_800<x<=1000_3                 ┆ 1     ┆ 0.000058   │\n",
       "│ 3_800<x<=1000_5                 ┆ 1     ┆ 0.000058   │\n",
       "│ 3_x>1200_8                      ┆ 1     ┆ 0.000058   │\n",
       "│ 3_1000<x<=1200_8                ┆ 1     ┆ 0.000058   │\n",
       "│ 5_1000<x<=1200_5                ┆ 1     ┆ 0.000058   │\n",
       "│ 1_400<x<=600_8                  ┆ 1     ┆ 0.000058   │\n",
       "│ 5_200<x<=400_0                  ┆ 1     ┆ 0.000058   │\n",
       "│ 1_600<x<=800_5                  ┆ 1     ┆ 0.000058   │\n",
       "│ 1_400<x<=600_2                  ┆ 1     ┆ 0.000058   │\n",
       "│ 1_400<x<=600_3                  ┆ 1     ┆ 0.000058   │\n",
       "│ 1_800<x<=1000_7                 ┆ 1     ┆ 0.000058   │\n",
       "│ 4_x>1200_0                      ┆ 1     ┆ 0.000058   │\n",
       "│ 6_400<x<=600_6                  ┆ 1     ┆ 0.000058   │\n",
       "│ 3_600<x<=800_4                  ┆ 1     ┆ 0.000058   │\n",
       "│ 1_x<=200_8                      ┆ 1     ┆ 0.000058   │\n",
       "│ 2_1000<x<=1200_8                ┆ 1     ┆ 0.000058   │\n",
       "└─────────────────────────────────┴───────┴────────────┘"
      ]
     },
     "execution_count": 13,
     "metadata": {},
     "output_type": "execute_result"
    }
   ],
   "source": [
    "(\n",
    "    persuade_df.select(\n",
    "        pl.col(\"concat_score_word_length_prompt_id\").value_counts(),\n",
    "    )\n",
    "    .unnest(\"concat_score_word_length_prompt_id\")\n",
    "    .with_columns((pl.col(\"count\") / train.height).alias(\"percentage\"))\n",
    "    .sort(\"count\", descending=True)\n",
    ")"
   ]
  },
  {
   "cell_type": "code",
   "execution_count": 14,
   "metadata": {},
   "outputs": [
    {
     "name": "stderr",
     "output_type": "stream",
     "text": [
      "/Users/shinichiro.saito/automated_essay_scoring/.venv/lib/python3.11/site-packages/sklearn/model_selection/_split.py:737: UserWarning: The least populated class in y has only 1 members, which is less than n_splits=3.\n",
      "  warnings.warn(\n"
     ]
    }
   ],
   "source": [
    "import numpy as np\n",
    "from sklearn.model_selection import StratifiedKFold\n",
    "\n",
    "fold_arr = np.zeros(train.height)\n",
    "sgkf = StratifiedKFold(n_splits=3, random_state=42, shuffle=True)\n",
    "\n",
    "for idx, (_, val_idx) in enumerate(\n",
    "    sgkf.split(train, train[\"concat_score_word_length_prompt_id\"])\n",
    "):\n",
    "    fold_arr[val_idx] = idx\n",
    "\n",
    "train = train.with_columns(pl.Series(fold_arr).cast(pl.Int64).alias(\"fold\"))"
   ]
  },
  {
   "cell_type": "code",
   "execution_count": 15,
   "metadata": {},
   "outputs": [
    {
     "name": "stderr",
     "output_type": "stream",
     "text": [
      "/Users/shinichiro.saito/automated_essay_scoring/.venv/lib/python3.11/site-packages/sklearn/model_selection/_split.py:737: UserWarning: The least populated class in y has only 1 members, which is less than n_splits=3.\n",
      "  warnings.warn(\n"
     ]
    }
   ],
   "source": [
    "import numpy as np\n",
    "from sklearn.model_selection import StratifiedKFold\n",
    "\n",
    "fold_arr = np.zeros(persuade_df.height)\n",
    "sgkf = StratifiedKFold(n_splits=3, random_state=42, shuffle=True)\n",
    "\n",
    "for idx, (_, val_idx) in enumerate(\n",
    "    sgkf.split(persuade_df, persuade_df[\"concat_score_word_length_prompt_id\"])\n",
    "):\n",
    "    fold_arr[val_idx] = idx\n",
    "\n",
    "fold_arr += 3  # trainのfoldと被らないようにずらす\n",
    "persuade_df = persuade_df.with_columns(pl.Series(fold_arr).cast(pl.Int64).alias(\"fold\"))"
   ]
  },
  {
   "cell_type": "code",
   "execution_count": 16,
   "metadata": {},
   "outputs": [
    {
     "data": {
      "text/html": [
       "<div><style>\n",
       ".dataframe > thead > tr,\n",
       ".dataframe > tbody > tr {\n",
       "  text-align: right;\n",
       "  white-space: pre-wrap;\n",
       "}\n",
       "</style>\n",
       "<small>shape: (10, 10)</small><table border=\"1\" class=\"dataframe\"><thead><tr><th>essay_id</th><th>full_text</th><th>score</th><th>prompt_name</th><th>prompt_id</th><th>word_length</th><th>word_length_cat</th><th>score_word_length_cat</th><th>concat_score_word_length_prompt_id</th><th>fold</th></tr><tr><td>str</td><td>str</td><td>i64</td><td>str</td><td>u32</td><td>i64</td><td>str</td><td>str</td><td>str</td><td>i64</td></tr></thead><tbody><tr><td>&quot;423A1CA112E2&quot;</td><td>&quot;Phones\n",
       "\n",
       "Modern humans today ar…</td><td>3</td><td>&quot;Phones and driving&quot;</td><td>0</td><td>379</td><td>&quot;200&lt;x&lt;=400&quot;</td><td>&quot;3_200&lt;x&lt;=400&quot;</td><td>&quot;3_200&lt;x&lt;=400_0&quot;</td><td>4</td></tr><tr><td>&quot;BC75783F96E3&quot;</td><td>&quot;This essay will explain if dri…</td><td>4</td><td>&quot;Phones and driving&quot;</td><td>0</td><td>366</td><td>&quot;200&lt;x&lt;=400&quot;</td><td>&quot;4_200&lt;x&lt;=400&quot;</td><td>&quot;4_200&lt;x&lt;=400_0&quot;</td><td>4</td></tr><tr><td>&quot;74C8BC7417DE&quot;</td><td>&quot;Driving while the use of cellu…</td><td>2</td><td>&quot;Phones and driving&quot;</td><td>0</td><td>178</td><td>&quot;x&lt;=200&quot;</td><td>&quot;2_x&lt;=200&quot;</td><td>&quot;2_x&lt;=200_0&quot;</td><td>5</td></tr><tr><td>&quot;A8445CABFECE&quot;</td><td>&quot;Phones &amp; Driving\n",
       "\n",
       "Drivers shou…</td><td>3</td><td>&quot;Phones and driving&quot;</td><td>0</td><td>212</td><td>&quot;200&lt;x&lt;=400&quot;</td><td>&quot;3_200&lt;x&lt;=400&quot;</td><td>&quot;3_200&lt;x&lt;=400_0&quot;</td><td>5</td></tr><tr><td>&quot;6B4F7A0165B9&quot;</td><td>&quot;Cell Phone Operation While Dri…</td><td>4</td><td>&quot;Phones and driving&quot;</td><td>0</td><td>332</td><td>&quot;200&lt;x&lt;=400&quot;</td><td>&quot;4_200&lt;x&lt;=400&quot;</td><td>&quot;4_200&lt;x&lt;=400_0&quot;</td><td>4</td></tr><tr><td>&quot;97C1CFD04E4B&quot;</td><td>&quot;Cell phone use should not be l…</td><td>4</td><td>&quot;Phones and driving&quot;</td><td>0</td><td>492</td><td>&quot;400&lt;x&lt;=600&quot;</td><td>&quot;4_400&lt;x&lt;=600&quot;</td><td>&quot;4_400&lt;x&lt;=600_0&quot;</td><td>5</td></tr><tr><td>&quot;2CE1FE38D0E7&quot;</td><td>&quot;Phones and Driving\n",
       "\n",
       "Driving is…</td><td>5</td><td>&quot;Phones and driving&quot;</td><td>0</td><td>604</td><td>&quot;600&lt;x&lt;=800&quot;</td><td>&quot;5_600&lt;x&lt;=800&quot;</td><td>&quot;5_600&lt;x&lt;=800_0&quot;</td><td>3</td></tr><tr><td>&quot;30A8FB981469&quot;</td><td>&quot;PHONES AND DRIVING\n",
       "\n",
       "In this wo…</td><td>4</td><td>&quot;Phones and driving&quot;</td><td>0</td><td>469</td><td>&quot;400&lt;x&lt;=600&quot;</td><td>&quot;4_400&lt;x&lt;=600&quot;</td><td>&quot;4_400&lt;x&lt;=600_0&quot;</td><td>4</td></tr><tr><td>&quot;E05C7F5C1156&quot;</td><td>&quot;People are debating whether if…</td><td>4</td><td>&quot;Phones and driving&quot;</td><td>0</td><td>592</td><td>&quot;400&lt;x&lt;=600&quot;</td><td>&quot;4_400&lt;x&lt;=600&quot;</td><td>&quot;4_400&lt;x&lt;=600_0&quot;</td><td>4</td></tr><tr><td>&quot;50B3435E475B&quot;</td><td>&quot;Texting and driving\n",
       "\n",
       "Over half…</td><td>4</td><td>&quot;Phones and driving&quot;</td><td>0</td><td>353</td><td>&quot;200&lt;x&lt;=400&quot;</td><td>&quot;4_200&lt;x&lt;=400&quot;</td><td>&quot;4_200&lt;x&lt;=400_0&quot;</td><td>3</td></tr></tbody></table></div>"
      ],
      "text/plain": [
       "shape: (10, 10)\n",
       "┌─────────────┬─────────────┬───────┬────────────┬───┬────────────┬────────────┬────────────┬──────┐\n",
       "│ essay_id    ┆ full_text   ┆ score ┆ prompt_nam ┆ … ┆ word_lengt ┆ score_word ┆ concat_sco ┆ fold │\n",
       "│ ---         ┆ ---         ┆ ---   ┆ e          ┆   ┆ h_cat      ┆ _length_ca ┆ re_word_le ┆ ---  │\n",
       "│ str         ┆ str         ┆ i64   ┆ ---        ┆   ┆ ---        ┆ t          ┆ ngth_promp ┆ i64  │\n",
       "│             ┆             ┆       ┆ str        ┆   ┆ str        ┆ ---        ┆ …          ┆      │\n",
       "│             ┆             ┆       ┆            ┆   ┆            ┆ str        ┆ ---        ┆      │\n",
       "│             ┆             ┆       ┆            ┆   ┆            ┆            ┆ str        ┆      │\n",
       "╞═════════════╪═════════════╪═══════╪════════════╪═══╪════════════╪════════════╪════════════╪══════╡\n",
       "│ 423A1CA112E ┆ Phones      ┆ 3     ┆ Phones and ┆ … ┆ 200<x<=400 ┆ 3_200<x<=4 ┆ 3_200<x<=4 ┆ 4    │\n",
       "│ 2           ┆             ┆       ┆ driving    ┆   ┆            ┆ 00         ┆ 00_0       ┆      │\n",
       "│             ┆ Modern      ┆       ┆            ┆   ┆            ┆            ┆            ┆      │\n",
       "│             ┆ humans      ┆       ┆            ┆   ┆            ┆            ┆            ┆      │\n",
       "│             ┆ today ar…   ┆       ┆            ┆   ┆            ┆            ┆            ┆      │\n",
       "│ BC75783F96E ┆ This essay  ┆ 4     ┆ Phones and ┆ … ┆ 200<x<=400 ┆ 4_200<x<=4 ┆ 4_200<x<=4 ┆ 4    │\n",
       "│ 3           ┆ will        ┆       ┆ driving    ┆   ┆            ┆ 00         ┆ 00_0       ┆      │\n",
       "│             ┆ explain if  ┆       ┆            ┆   ┆            ┆            ┆            ┆      │\n",
       "│             ┆ dri…        ┆       ┆            ┆   ┆            ┆            ┆            ┆      │\n",
       "│ 74C8BC7417D ┆ Driving     ┆ 2     ┆ Phones and ┆ … ┆ x<=200     ┆ 2_x<=200   ┆ 2_x<=200_0 ┆ 5    │\n",
       "│ E           ┆ while the   ┆       ┆ driving    ┆   ┆            ┆            ┆            ┆      │\n",
       "│             ┆ use of      ┆       ┆            ┆   ┆            ┆            ┆            ┆      │\n",
       "│             ┆ cellu…      ┆       ┆            ┆   ┆            ┆            ┆            ┆      │\n",
       "│ A8445CABFEC ┆ Phones &    ┆ 3     ┆ Phones and ┆ … ┆ 200<x<=400 ┆ 3_200<x<=4 ┆ 3_200<x<=4 ┆ 5    │\n",
       "│ E           ┆ Driving     ┆       ┆ driving    ┆   ┆            ┆ 00         ┆ 00_0       ┆      │\n",
       "│             ┆             ┆       ┆            ┆   ┆            ┆            ┆            ┆      │\n",
       "│             ┆ Drivers     ┆       ┆            ┆   ┆            ┆            ┆            ┆      │\n",
       "│             ┆ shou…       ┆       ┆            ┆   ┆            ┆            ┆            ┆      │\n",
       "│ 6B4F7A0165B ┆ Cell Phone  ┆ 4     ┆ Phones and ┆ … ┆ 200<x<=400 ┆ 4_200<x<=4 ┆ 4_200<x<=4 ┆ 4    │\n",
       "│ 9           ┆ Operation   ┆       ┆ driving    ┆   ┆            ┆ 00         ┆ 00_0       ┆      │\n",
       "│             ┆ While Dri…  ┆       ┆            ┆   ┆            ┆            ┆            ┆      │\n",
       "│ 97C1CFD04E4 ┆ Cell phone  ┆ 4     ┆ Phones and ┆ … ┆ 400<x<=600 ┆ 4_400<x<=6 ┆ 4_400<x<=6 ┆ 5    │\n",
       "│ B           ┆ use should  ┆       ┆ driving    ┆   ┆            ┆ 00         ┆ 00_0       ┆      │\n",
       "│             ┆ not be l…   ┆       ┆            ┆   ┆            ┆            ┆            ┆      │\n",
       "│ 2CE1FE38D0E ┆ Phones and  ┆ 5     ┆ Phones and ┆ … ┆ 600<x<=800 ┆ 5_600<x<=8 ┆ 5_600<x<=8 ┆ 3    │\n",
       "│ 7           ┆ Driving     ┆       ┆ driving    ┆   ┆            ┆ 00         ┆ 00_0       ┆      │\n",
       "│             ┆             ┆       ┆            ┆   ┆            ┆            ┆            ┆      │\n",
       "│             ┆ Driving is… ┆       ┆            ┆   ┆            ┆            ┆            ┆      │\n",
       "│ 30A8FB98146 ┆ PHONES AND  ┆ 4     ┆ Phones and ┆ … ┆ 400<x<=600 ┆ 4_400<x<=6 ┆ 4_400<x<=6 ┆ 4    │\n",
       "│ 9           ┆ DRIVING     ┆       ┆ driving    ┆   ┆            ┆ 00         ┆ 00_0       ┆      │\n",
       "│             ┆             ┆       ┆            ┆   ┆            ┆            ┆            ┆      │\n",
       "│             ┆ In this wo… ┆       ┆            ┆   ┆            ┆            ┆            ┆      │\n",
       "│ E05C7F5C115 ┆ People are  ┆ 4     ┆ Phones and ┆ … ┆ 400<x<=600 ┆ 4_400<x<=6 ┆ 4_400<x<=6 ┆ 4    │\n",
       "│ 6           ┆ debating    ┆       ┆ driving    ┆   ┆            ┆ 00         ┆ 00_0       ┆      │\n",
       "│             ┆ whether if… ┆       ┆            ┆   ┆            ┆            ┆            ┆      │\n",
       "│ 50B3435E475 ┆ Texting and ┆ 4     ┆ Phones and ┆ … ┆ 200<x<=400 ┆ 4_200<x<=4 ┆ 4_200<x<=4 ┆ 3    │\n",
       "│ B           ┆ driving     ┆       ┆ driving    ┆   ┆            ┆ 00         ┆ 00_0       ┆      │\n",
       "│             ┆             ┆       ┆            ┆   ┆            ┆            ┆            ┆      │\n",
       "│             ┆ Over half…  ┆       ┆            ┆   ┆            ┆            ┆            ┆      │\n",
       "└─────────────┴─────────────┴───────┴────────────┴───┴────────────┴────────────┴────────────┴──────┘"
      ]
     },
     "execution_count": 16,
     "metadata": {},
     "output_type": "execute_result"
    }
   ],
   "source": [
    "persuade_df.head(10)"
   ]
  },
  {
   "cell_type": "code",
   "execution_count": 17,
   "metadata": {},
   "outputs": [],
   "source": [
    "essay_id_fold_dict = dict(zip(train[\"essay_id\"], train[\"fold\"]))\n",
    "\n",
    "import json\n",
    "\n",
    "with open(\"essay_id_fold_by_slp_only_tr_dict.json\", \"w\") as f:\n",
    "    # slt = score length topic\n",
    "    json.dump(essay_id_fold_dict, f)"
   ]
  },
  {
   "cell_type": "code",
   "execution_count": 18,
   "metadata": {},
   "outputs": [],
   "source": [
    "essay_id_fold_dict = dict(zip(persuade_df[\"essay_id\"], persuade_df[\"fold\"]))\n",
    "\n",
    "import json\n",
    "\n",
    "with open(\"essay_id_fold_by_slp_only_persuade_dict.json\", \"w\") as f:\n",
    "    # slt = score length topic\n",
    "    json.dump(essay_id_fold_dict, f)"
   ]
  },
  {
   "cell_type": "markdown",
   "metadata": {},
   "source": [
    "# Check"
   ]
  },
  {
   "cell_type": "code",
   "execution_count": 19,
   "metadata": {},
   "outputs": [
    {
     "data": {
      "text/html": [
       "<div><style>\n",
       ".dataframe > thead > tr,\n",
       ".dataframe > tbody > tr {\n",
       "  text-align: right;\n",
       "  white-space: pre-wrap;\n",
       "}\n",
       "</style>\n",
       "<small>shape: (10, 3)</small><table border=\"1\" class=\"dataframe\"><thead><tr><th>concat_score_word_length_prompt_id</th><th>count</th><th>percentage</th></tr><tr><td>str</td><td>u32</td><td>f64</td></tr></thead><tbody><tr><td>&quot;3_200&lt;x&lt;=400_2&quot;</td><td>318</td><td>0.018374</td></tr><tr><td>&quot;3_200&lt;x&lt;=400_5&quot;</td><td>304</td><td>0.017565</td></tr><tr><td>&quot;4_400&lt;x&lt;=600_2&quot;</td><td>260</td><td>0.015023</td></tr><tr><td>&quot;3_200&lt;x&lt;=400_3&quot;</td><td>246</td><td>0.014214</td></tr><tr><td>&quot;3_200&lt;x&lt;=400_1&quot;</td><td>206</td><td>0.011903</td></tr><tr><td>&quot;2_200&lt;x&lt;=400_3&quot;</td><td>192</td><td>0.011094</td></tr><tr><td>&quot;3_200&lt;x&lt;=400_6&quot;</td><td>171</td><td>0.00988</td></tr><tr><td>&quot;2_200&lt;x&lt;=400_2&quot;</td><td>170</td><td>0.009823</td></tr><tr><td>&quot;2_200&lt;x&lt;=400_5&quot;</td><td>168</td><td>0.009707</td></tr><tr><td>&quot;2_200&lt;x&lt;=400_6&quot;</td><td>147</td><td>0.008494</td></tr></tbody></table></div>"
      ],
      "text/plain": [
       "shape: (10, 3)\n",
       "┌─────────────────────────────────┬───────┬────────────┐\n",
       "│ concat_score_word_length_promp… ┆ count ┆ percentage │\n",
       "│ ---                             ┆ ---   ┆ ---        │\n",
       "│ str                             ┆ u32   ┆ f64        │\n",
       "╞═════════════════════════════════╪═══════╪════════════╡\n",
       "│ 3_200<x<=400_2                  ┆ 318   ┆ 0.018374   │\n",
       "│ 3_200<x<=400_5                  ┆ 304   ┆ 0.017565   │\n",
       "│ 4_400<x<=600_2                  ┆ 260   ┆ 0.015023   │\n",
       "│ 3_200<x<=400_3                  ┆ 246   ┆ 0.014214   │\n",
       "│ 3_200<x<=400_1                  ┆ 206   ┆ 0.011903   │\n",
       "│ 2_200<x<=400_3                  ┆ 192   ┆ 0.011094   │\n",
       "│ 3_200<x<=400_6                  ┆ 171   ┆ 0.00988    │\n",
       "│ 2_200<x<=400_2                  ┆ 170   ┆ 0.009823   │\n",
       "│ 2_200<x<=400_5                  ┆ 168   ┆ 0.009707   │\n",
       "│ 2_200<x<=400_6                  ┆ 147   ┆ 0.008494   │\n",
       "└─────────────────────────────────┴───────┴────────────┘"
      ]
     },
     "execution_count": 19,
     "metadata": {},
     "output_type": "execute_result"
    }
   ],
   "source": [
    "(\n",
    "    train.filter(pl.col(\"fold\") == 0)\n",
    "    .select(\n",
    "        pl.col(\"concat_score_word_length_prompt_id\").value_counts(),\n",
    "    )\n",
    "    .unnest(\"concat_score_word_length_prompt_id\")\n",
    "    .with_columns((pl.col(\"count\") / train.height).alias(\"percentage\"))\n",
    "    .sort(\"count\", descending=True)\n",
    "    .head(10)\n",
    ")"
   ]
  },
  {
   "cell_type": "code",
   "execution_count": 20,
   "metadata": {},
   "outputs": [
    {
     "data": {
      "text/html": [
       "<div><style>\n",
       ".dataframe > thead > tr,\n",
       ".dataframe > tbody > tr {\n",
       "  text-align: right;\n",
       "  white-space: pre-wrap;\n",
       "}\n",
       "</style>\n",
       "<small>shape: (10, 3)</small><table border=\"1\" class=\"dataframe\"><thead><tr><th>concat_score_word_length_prompt_id</th><th>count</th><th>percentage</th></tr><tr><td>str</td><td>u32</td><td>f64</td></tr></thead><tbody><tr><td>&quot;3_200&lt;x&lt;=400_2&quot;</td><td>318</td><td>0.018374</td></tr><tr><td>&quot;3_200&lt;x&lt;=400_5&quot;</td><td>303</td><td>0.017507</td></tr><tr><td>&quot;4_400&lt;x&lt;=600_2&quot;</td><td>259</td><td>0.014965</td></tr><tr><td>&quot;3_200&lt;x&lt;=400_3&quot;</td><td>246</td><td>0.014214</td></tr><tr><td>&quot;3_200&lt;x&lt;=400_1&quot;</td><td>206</td><td>0.011903</td></tr><tr><td>&quot;2_200&lt;x&lt;=400_3&quot;</td><td>192</td><td>0.011094</td></tr><tr><td>&quot;3_200&lt;x&lt;=400_6&quot;</td><td>171</td><td>0.00988</td></tr><tr><td>&quot;2_200&lt;x&lt;=400_2&quot;</td><td>170</td><td>0.009823</td></tr><tr><td>&quot;2_200&lt;x&lt;=400_5&quot;</td><td>168</td><td>0.009707</td></tr><tr><td>&quot;3_200&lt;x&lt;=400_4&quot;</td><td>146</td><td>0.008436</td></tr></tbody></table></div>"
      ],
      "text/plain": [
       "shape: (10, 3)\n",
       "┌─────────────────────────────────┬───────┬────────────┐\n",
       "│ concat_score_word_length_promp… ┆ count ┆ percentage │\n",
       "│ ---                             ┆ ---   ┆ ---        │\n",
       "│ str                             ┆ u32   ┆ f64        │\n",
       "╞═════════════════════════════════╪═══════╪════════════╡\n",
       "│ 3_200<x<=400_2                  ┆ 318   ┆ 0.018374   │\n",
       "│ 3_200<x<=400_5                  ┆ 303   ┆ 0.017507   │\n",
       "│ 4_400<x<=600_2                  ┆ 259   ┆ 0.014965   │\n",
       "│ 3_200<x<=400_3                  ┆ 246   ┆ 0.014214   │\n",
       "│ 3_200<x<=400_1                  ┆ 206   ┆ 0.011903   │\n",
       "│ 2_200<x<=400_3                  ┆ 192   ┆ 0.011094   │\n",
       "│ 3_200<x<=400_6                  ┆ 171   ┆ 0.00988    │\n",
       "│ 2_200<x<=400_2                  ┆ 170   ┆ 0.009823   │\n",
       "│ 2_200<x<=400_5                  ┆ 168   ┆ 0.009707   │\n",
       "│ 3_200<x<=400_4                  ┆ 146   ┆ 0.008436   │\n",
       "└─────────────────────────────────┴───────┴────────────┘"
      ]
     },
     "execution_count": 20,
     "metadata": {},
     "output_type": "execute_result"
    }
   ],
   "source": [
    "(\n",
    "    train.filter(pl.col(\"fold\") == 1)\n",
    "    .select(\n",
    "        pl.col(\"concat_score_word_length_prompt_id\").value_counts(),\n",
    "    )\n",
    "    .unnest(\"concat_score_word_length_prompt_id\")\n",
    "    .with_columns((pl.col(\"count\") / train.height).alias(\"percentage\"))\n",
    "    .sort(\"count\", descending=True)\n",
    "    .head(10)\n",
    ")"
   ]
  },
  {
   "cell_type": "code",
   "execution_count": 29,
   "metadata": {},
   "outputs": [
    {
     "data": {
      "text/html": [
       "<div><style>\n",
       ".dataframe > thead > tr,\n",
       ".dataframe > tbody > tr {\n",
       "  text-align: right;\n",
       "  white-space: pre-wrap;\n",
       "}\n",
       "</style>\n",
       "<small>shape: (10, 3)</small><table border=\"1\" class=\"dataframe\"><thead><tr><th>concat_score_word_length_prompt_id</th><th>count</th><th>percentage</th></tr><tr><td>str</td><td>u32</td><td>f64</td></tr></thead><tbody><tr><td>&quot;3_200&lt;x&lt;=400_6&quot;</td><td>222</td><td>0.016914</td></tr><tr><td>&quot;3_200&lt;x&lt;=400_5&quot;</td><td>184</td><td>0.014019</td></tr><tr><td>&quot;3_200&lt;x&lt;=400_4&quot;</td><td>176</td><td>0.01341</td></tr><tr><td>&quot;4_400&lt;x&lt;=600_8&quot;</td><td>155</td><td>0.01181</td></tr><tr><td>&quot;4_400&lt;x&lt;=600_7&quot;</td><td>142</td><td>0.010819</td></tr><tr><td>&quot;4_400&lt;x&lt;=600_3&quot;</td><td>141</td><td>0.010743</td></tr><tr><td>&quot;4_400&lt;x&lt;=600_2&quot;</td><td>115</td><td>0.008762</td></tr><tr><td>&quot;5_600&lt;x&lt;=800_7&quot;</td><td>112</td><td>0.008533</td></tr><tr><td>&quot;5_600&lt;x&lt;=800_2&quot;</td><td>111</td><td>0.008457</td></tr><tr><td>&quot;3_200&lt;x&lt;=400_0&quot;</td><td>101</td><td>0.007695</td></tr></tbody></table></div>"
      ],
      "text/plain": [
       "shape: (10, 3)\n",
       "┌─────────────────────────────────┬───────┬────────────┐\n",
       "│ concat_score_word_length_promp… ┆ count ┆ percentage │\n",
       "│ ---                             ┆ ---   ┆ ---        │\n",
       "│ str                             ┆ u32   ┆ f64        │\n",
       "╞═════════════════════════════════╪═══════╪════════════╡\n",
       "│ 3_200<x<=400_6                  ┆ 222   ┆ 0.016914   │\n",
       "│ 3_200<x<=400_5                  ┆ 184   ┆ 0.014019   │\n",
       "│ 3_200<x<=400_4                  ┆ 176   ┆ 0.01341    │\n",
       "│ 4_400<x<=600_8                  ┆ 155   ┆ 0.01181    │\n",
       "│ 4_400<x<=600_7                  ┆ 142   ┆ 0.010819   │\n",
       "│ 4_400<x<=600_3                  ┆ 141   ┆ 0.010743   │\n",
       "│ 4_400<x<=600_2                  ┆ 115   ┆ 0.008762   │\n",
       "│ 5_600<x<=800_7                  ┆ 112   ┆ 0.008533   │\n",
       "│ 5_600<x<=800_2                  ┆ 111   ┆ 0.008457   │\n",
       "│ 3_200<x<=400_0                  ┆ 101   ┆ 0.007695   │\n",
       "└─────────────────────────────────┴───────┴────────────┘"
      ]
     },
     "execution_count": 29,
     "metadata": {},
     "output_type": "execute_result"
    }
   ],
   "source": [
    "(\n",
    "    persuade_df.filter(pl.col(\"fold\") == 3)\n",
    "    .select(\n",
    "        pl.col(\"concat_score_word_length_prompt_id\").value_counts(),\n",
    "    )\n",
    "    .unnest(\"concat_score_word_length_prompt_id\")\n",
    "    .with_columns((pl.col(\"count\") / persuade_df.height).alias(\"percentage\"))\n",
    "    .sort(\"count\", descending=True)\n",
    "    .head(10)\n",
    ")"
   ]
  },
  {
   "cell_type": "code",
   "execution_count": 28,
   "metadata": {},
   "outputs": [
    {
     "data": {
      "text/html": [
       "<div><style>\n",
       ".dataframe > thead > tr,\n",
       ".dataframe > tbody > tr {\n",
       "  text-align: right;\n",
       "  white-space: pre-wrap;\n",
       "}\n",
       "</style>\n",
       "<small>shape: (10, 3)</small><table border=\"1\" class=\"dataframe\"><thead><tr><th>concat_score_word_length_prompt_id</th><th>count</th><th>percentage</th></tr><tr><td>str</td><td>u32</td><td>f64</td></tr></thead><tbody><tr><td>&quot;3_200&lt;x&lt;=400_6&quot;</td><td>222</td><td>0.016914</td></tr><tr><td>&quot;3_200&lt;x&lt;=400_5&quot;</td><td>183</td><td>0.013943</td></tr><tr><td>&quot;3_200&lt;x&lt;=400_4&quot;</td><td>176</td><td>0.01341</td></tr><tr><td>&quot;4_400&lt;x&lt;=600_8&quot;</td><td>155</td><td>0.01181</td></tr><tr><td>&quot;4_400&lt;x&lt;=600_3&quot;</td><td>142</td><td>0.010819</td></tr><tr><td>&quot;4_400&lt;x&lt;=600_7&quot;</td><td>141</td><td>0.010743</td></tr><tr><td>&quot;4_400&lt;x&lt;=600_2&quot;</td><td>115</td><td>0.008762</td></tr><tr><td>&quot;5_600&lt;x&lt;=800_7&quot;</td><td>111</td><td>0.008457</td></tr><tr><td>&quot;5_600&lt;x&lt;=800_2&quot;</td><td>111</td><td>0.008457</td></tr><tr><td>&quot;3_200&lt;x&lt;=400_0&quot;</td><td>101</td><td>0.007695</td></tr></tbody></table></div>"
      ],
      "text/plain": [
       "shape: (10, 3)\n",
       "┌─────────────────────────────────┬───────┬────────────┐\n",
       "│ concat_score_word_length_promp… ┆ count ┆ percentage │\n",
       "│ ---                             ┆ ---   ┆ ---        │\n",
       "│ str                             ┆ u32   ┆ f64        │\n",
       "╞═════════════════════════════════╪═══════╪════════════╡\n",
       "│ 3_200<x<=400_6                  ┆ 222   ┆ 0.016914   │\n",
       "│ 3_200<x<=400_5                  ┆ 183   ┆ 0.013943   │\n",
       "│ 3_200<x<=400_4                  ┆ 176   ┆ 0.01341    │\n",
       "│ 4_400<x<=600_8                  ┆ 155   ┆ 0.01181    │\n",
       "│ 4_400<x<=600_3                  ┆ 142   ┆ 0.010819   │\n",
       "│ 4_400<x<=600_7                  ┆ 141   ┆ 0.010743   │\n",
       "│ 4_400<x<=600_2                  ┆ 115   ┆ 0.008762   │\n",
       "│ 5_600<x<=800_7                  ┆ 111   ┆ 0.008457   │\n",
       "│ 5_600<x<=800_2                  ┆ 111   ┆ 0.008457   │\n",
       "│ 3_200<x<=400_0                  ┆ 101   ┆ 0.007695   │\n",
       "└─────────────────────────────────┴───────┴────────────┘"
      ]
     },
     "execution_count": 28,
     "metadata": {},
     "output_type": "execute_result"
    }
   ],
   "source": [
    "(\n",
    "    persuade_df.filter(pl.col(\"fold\") == 4)\n",
    "    .select(\n",
    "        pl.col(\"concat_score_word_length_prompt_id\").value_counts(),\n",
    "    )\n",
    "    .unnest(\"concat_score_word_length_prompt_id\")\n",
    "    .with_columns((pl.col(\"count\") / persuade_df.height).alias(\"percentage\"))\n",
    "    .sort(\"count\", descending=True)\n",
    "    .head(10)\n",
    ")"
   ]
  },
  {
   "cell_type": "code",
   "execution_count": 23,
   "metadata": {},
   "outputs": [],
   "source": [
    "# (\n",
    "#     train.filter(pl.col(\"fold\") == 0)\n",
    "#     .select(\n",
    "#         pl.col(\"score\").value_counts(),\n",
    "#     )\n",
    "#     .unnest(\"score\")\n",
    "#     .with_columns((pl.col(\"count\") / train.height).alias(\"percentage\"))\n",
    "#     .sort(\"count\", descending=True)\n",
    "# )"
   ]
  },
  {
   "cell_type": "code",
   "execution_count": 24,
   "metadata": {},
   "outputs": [],
   "source": [
    "# (\n",
    "#     train.filter(pl.col(\"fold\") == 0)\n",
    "#     .select(\n",
    "#         pl.col(\"word_length_cat\").value_counts(),\n",
    "#     )\n",
    "#     .unnest(\"word_length_cat\")\n",
    "#     .with_columns((pl.col(\"count\") / train.height).alias(\"percentage\"))\n",
    "#     .sort(\"count\", descending=True)\n",
    "# )"
   ]
  },
  {
   "cell_type": "code",
   "execution_count": 25,
   "metadata": {},
   "outputs": [],
   "source": [
    "# (\n",
    "#     train.filter(pl.col(\"fold\") == 1)\n",
    "#     .select(\n",
    "#         pl.col(\"word_length_cat\").value_counts(),\n",
    "#     )\n",
    "#     .unnest(\"word_length_cat\")\n",
    "#     .with_columns((pl.col(\"count\") / train.height).alias(\"percentage\"))\n",
    "#     .sort(\"count\", descending=True)\n",
    "# )"
   ]
  },
  {
   "cell_type": "code",
   "execution_count": null,
   "metadata": {},
   "outputs": [],
   "source": []
  }
 ],
 "metadata": {
  "kernelspec": {
   "display_name": ".venv",
   "language": "python",
   "name": "python3"
  },
  "language_info": {
   "codemirror_mode": {
    "name": "ipython",
    "version": 3
   },
   "file_extension": ".py",
   "mimetype": "text/x-python",
   "name": "python",
   "nbconvert_exporter": "python",
   "pygments_lexer": "ipython3",
   "version": "3.11.7"
  }
 },
 "nbformat": 4,
 "nbformat_minor": 2
}
