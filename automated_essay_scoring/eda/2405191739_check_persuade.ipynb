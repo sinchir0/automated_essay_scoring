{
 "cells": [
  {
   "cell_type": "code",
   "execution_count": 1,
   "metadata": {},
   "outputs": [],
   "source": [
    "import polars as pl\n",
    "\n",
    "train_data = pl.read_csv(\n",
    "    \"/Users/shinichiro.saito/automated_essay_scoring/data/train.csv\"\n",
    ")\n",
    "\n",
    "persuade_data = pl.read_csv(\n",
    "    \"/Users/shinichiro.saito/automated_essay_scoring/data/persuade_2.0_human_scores_demo_id_github.csv\"\n",
    ")"
   ]
  },
  {
   "cell_type": "code",
   "execution_count": 3,
   "metadata": {},
   "outputs": [
    {
     "data": {
      "text/plain": [
       "{'Your principal has decided that all students must participate in at least one extracurricular activity. For example, students could participate in sports, work on the yearbook, or serve on the student council. Do you agree or disagree with this decision? Use specific details and examples to convince others to support your position. ': 0,\n",
       " 'Some schools offer distance learning as an option for students to attend classes from home by way of online or video conferencing. Do you think students would benefit from being able to attend classes from home? Take a position on this issue. Support your response with reasons and examples.': 1,\n",
       " 'Some schools require students to complete summer projects to assure they continue learning during their break. Should these summer projects be teacher-designed or student-designed? Take a position on this question. Support your response with reasons and specific examples.': 2,\n",
       " \"You have read the article 'Unmasking the Face on Mars.' Imagine you are a scientist at NASA discussing the Face with someone who thinks it was created by aliens. Using information in the article, write an argumentative essay to convince someone that the Face is just a natural landform.Be sure to include: claims to support your argument that the Face is a natural landform; evidence from the article to support your claims; an introduction, a body, and a conclusion to your argumentative essay.\": 3,\n",
       " \"Your principal is considering changing school policy so that students may not participate in sports or other activities unless they have at least a grade B average. Many students have a grade C average. \\nShe would like to hear the students' views on this possible policy change. Write a letter to your principal arguing for or against requiring at least a grade B average to participate in sports or other activities. Be sure to support your arguments with specific reasons.\": 4,\n",
       " 'In the article “Driverless Cars are Coming,” the author presents both positive and negative aspects of driverless cars. Using details from the article, create an argument for or against the development of these cars.  Be sure to include: your position on driverless cars; appropriate details from the article that support your position; an introduction, a body, and a conclusion to your argumentative essay.': 5,\n",
       " \"Your principal is reconsidering the school's cell phone policy. She is considering two possible policies: \\nPolicy 1: Allow students to bring phones to school and use them during lunch periods and other free times, as long as the phones are turned off during class time. \\nPolicy 2: Do not allow students to have phones at school at all.\\nWrite a letter to your principal convincing her which policy you believe is better. Support your position with specific reasons.\": 6,\n",
       " 'When people ask for advice, they sometimes talk to more than one person. Explain why seeking multiple opinions can help someone make a better choice. Use specific details and examples in your response.': 7,\n",
       " 'Today the majority of humans own and operate cell phones on a daily basis. In essay form, explain if drivers should or should not be able to use cell phones in any capacity while operating a vehicle.': 8,\n",
       " 'Write an explanatory essay to inform fellow citizens about the advantages of limiting car usage. Your essay must be based on ideas and information that can be found in the passage set. Manage your time carefully so that you can read the passages; plan your response; write your response; and revise and edit your response. Be sure to use evidence from multiple sources; and avoid overly relying on one source. Your response should be in the form of a multiparagraph essay. Write your essay in the space provided.': 9,\n",
       " 'In \"The Challenge of Exploring Venus,\" the author suggests studying Venus is a worthy pursuit despite the dangers it presents. Using details from the article, write an essay evaluating how well the author supports this idea. Be sure to include: a claim that evaluates how well the author supports the idea that studying Venus is a worthy pursuit despite the dangers; an explanation of the evidence from the article that supports your claim; an introduction, a body, and a conclusion to your essay.': 10,\n",
       " 'In the article \"Making Mona Lisa Smile,\" the author describes how a new technology called the Facial Action Coding System enables computers to identify human emotions. Using details from the article, write an essay arguing whether the use of this technology to read the emotional expressions of students in a classroom is valuable.': 11,\n",
       " \"You have just read the article, 'A Cowboy Who Rode the Waves.' Luke's participation in the Seagoing Cowboys program allowed him to experience adventures and visit many unique places. Using information from the article, write an argument from Luke's point of view convincing others to participate in the Seagoing Cowboys program. Be sure to include: reasons to join the program; details from the article to support Luke's claims; an introduction, a body, and a conclusion to your essay.\": 12,\n",
       " 'Some of your friends perform community service. For example, some tutor elementary school children and others clean up litter. They think helping the community is very important. But other friends of yours think community service takes too much time away from what they need or want to do. \\nYour principal is deciding whether to require all students to perform community service. \\nWrite a letter to your principal in which you take a position on whether students should be required to perform community service. Support your position with examples.': 13,\n",
       " 'Write a letter to your state senator in which you argue in favor of keeping the Electoral College or changing to election by popular vote for the president of the United States. Use the information from the texts in your essay. Manage your time carefully so that you can read the passages; plan your response; write your response; and revise and edit your response. Be sure to include a claim; address counterclaims; use evidence from multiple sources; and avoid overly relying on one source. Your response should be in the form of a multiparagraph essay. Write your response in the space provided.': 14}"
      ]
     },
     "execution_count": 3,
     "metadata": {},
     "output_type": "execute_result"
    }
   ],
   "source": [
    "assignment_list = list(set(persuade_data[\"assignment\"]))\n",
    "num_list = list(range(15))\n",
    "assignment_num_dict = dict(zip(assignment_list, num_list))\n",
    "assignment_num_dict"
   ]
  },
  {
   "cell_type": "code",
   "execution_count": 4,
   "metadata": {},
   "outputs": [
    {
     "data": {
      "text/html": [
       "<div><style>\n",
       ".dataframe > thead > tr,\n",
       ".dataframe > tbody > tr {\n",
       "  text-align: right;\n",
       "  white-space: pre-wrap;\n",
       "}\n",
       "</style>\n",
       "<small>shape: (17_307, 3)</small><table border=\"1\" class=\"dataframe\"><thead><tr><th>essay_id</th><th>full_text</th><th>score</th></tr><tr><td>str</td><td>str</td><td>i64</td></tr></thead><tbody><tr><td>&quot;000d118&quot;</td><td>&quot;Many people have car where the…</td><td>3</td></tr><tr><td>&quot;000fe60&quot;</td><td>&quot;I am a scientist at NASA that …</td><td>3</td></tr><tr><td>&quot;001ab80&quot;</td><td>&quot;People always wish they had th…</td><td>4</td></tr><tr><td>&quot;001bdc0&quot;</td><td>&quot;We all heard about Venus, the …</td><td>4</td></tr><tr><td>&quot;002ba53&quot;</td><td>&quot;Dear, State Senator\n",
       "\n",
       "This is a…</td><td>3</td></tr><tr><td>&hellip;</td><td>&hellip;</td><td>&hellip;</td></tr><tr><td>&quot;ffd378d&quot;</td><td>&quot;the story &quot; The Challenge of E…</td><td>2</td></tr><tr><td>&quot;ffddf1f&quot;</td><td>&quot;Technology has changed a lot o…</td><td>4</td></tr><tr><td>&quot;fff016d&quot;</td><td>&quot;If you don&#x27;t like sitting arou…</td><td>2</td></tr><tr><td>&quot;fffb49b&quot;</td><td>&quot;In &quot;The Challenge of Exporing …</td><td>1</td></tr><tr><td>&quot;fffed3e&quot;</td><td>&quot;Venus is worthy place to study…</td><td>2</td></tr></tbody></table></div>"
      ],
      "text/plain": [
       "shape: (17_307, 3)\n",
       "┌──────────┬─────────────────────────────────┬───────┐\n",
       "│ essay_id ┆ full_text                       ┆ score │\n",
       "│ ---      ┆ ---                             ┆ ---   │\n",
       "│ str      ┆ str                             ┆ i64   │\n",
       "╞══════════╪═════════════════════════════════╪═══════╡\n",
       "│ 000d118  ┆ Many people have car where the… ┆ 3     │\n",
       "│ 000fe60  ┆ I am a scientist at NASA that … ┆ 3     │\n",
       "│ 001ab80  ┆ People always wish they had th… ┆ 4     │\n",
       "│ 001bdc0  ┆ We all heard about Venus, the … ┆ 4     │\n",
       "│ 002ba53  ┆ Dear, State Senator             ┆ 3     │\n",
       "│          ┆                                 ┆       │\n",
       "│          ┆ This is a…                      ┆       │\n",
       "│ …        ┆ …                               ┆ …     │\n",
       "│ ffd378d  ┆ the story \" The Challenge of E… ┆ 2     │\n",
       "│ ffddf1f  ┆ Technology has changed a lot o… ┆ 4     │\n",
       "│ fff016d  ┆ If you don't like sitting arou… ┆ 2     │\n",
       "│ fffb49b  ┆ In \"The Challenge of Exporing … ┆ 1     │\n",
       "│ fffed3e  ┆ Venus is worthy place to study… ┆ 2     │\n",
       "└──────────┴─────────────────────────────────┴───────┘"
      ]
     },
     "execution_count": 4,
     "metadata": {},
     "output_type": "execute_result"
    }
   ],
   "source": [
    "train_data"
   ]
  },
  {
   "cell_type": "code",
   "execution_count": 5,
   "metadata": {},
   "outputs": [
    {
     "data": {
      "text/plain": [
       "12871"
      ]
     },
     "execution_count": 5,
     "metadata": {},
     "output_type": "execute_result"
    }
   ],
   "source": [
    "len(set(persuade_data[\"full_text\"]) & set(train_data[\"full_text\"]))"
   ]
  },
  {
   "cell_type": "code",
   "execution_count": 6,
   "metadata": {},
   "outputs": [],
   "source": [
    "# 学習データに含まれているかどうかをbool値を付与する\n",
    "persuade_data = persuade_data.with_columns(\n",
    "    pl.col(\"full_text\").is_in(list(train_data[\"full_text\"])).alias(\"is_train_contains\")\n",
    ")"
   ]
  },
  {
   "cell_type": "code",
   "execution_count": 7,
   "metadata": {},
   "outputs": [
    {
     "data": {
      "text/plain": [
       "{'In \"The Challenge of Exploring Venus,\" the author suggests studying Venus is a worthy pursuit despite the dangers it presents. Using details from the article, write an essay evaluating how well the author supports this idea. Be sure to include: a claim that evaluates how well the author supports the idea that studying Venus is a worthy pursuit despite the dangers; an explanation of the evidence from the article that supports your claim; an introduction, a body, and a conclusion to your essay.',\n",
       " 'In the article \"Making Mona Lisa Smile,\" the author describes how a new technology called the Facial Action Coding System enables computers to identify human emotions. Using details from the article, write an essay arguing whether the use of this technology to read the emotional expressions of students in a classroom is valuable.',\n",
       " 'In the article “Driverless Cars are Coming,” the author presents both positive and negative aspects of driverless cars. Using details from the article, create an argument for or against the development of these cars.  Be sure to include: your position on driverless cars; appropriate details from the article that support your position; an introduction, a body, and a conclusion to your argumentative essay.',\n",
       " 'Write a letter to your state senator in which you argue in favor of keeping the Electoral College or changing to election by popular vote for the president of the United States. Use the information from the texts in your essay. Manage your time carefully so that you can read the passages; plan your response; write your response; and revise and edit your response. Be sure to include a claim; address counterclaims; use evidence from multiple sources; and avoid overly relying on one source. Your response should be in the form of a multiparagraph essay. Write your response in the space provided.',\n",
       " 'Write an explanatory essay to inform fellow citizens about the advantages of limiting car usage. Your essay must be based on ideas and information that can be found in the passage set. Manage your time carefully so that you can read the passages; plan your response; write your response; and revise and edit your response. Be sure to use evidence from multiple sources; and avoid overly relying on one source. Your response should be in the form of a multiparagraph essay. Write your essay in the space provided.',\n",
       " \"You have just read the article, 'A Cowboy Who Rode the Waves.' Luke's participation in the Seagoing Cowboys program allowed him to experience adventures and visit many unique places. Using information from the article, write an argument from Luke's point of view convincing others to participate in the Seagoing Cowboys program. Be sure to include: reasons to join the program; details from the article to support Luke's claims; an introduction, a body, and a conclusion to your essay.\",\n",
       " \"You have read the article 'Unmasking the Face on Mars.' Imagine you are a scientist at NASA discussing the Face with someone who thinks it was created by aliens. Using information in the article, write an argumentative essay to convince someone that the Face is just a natural landform.Be sure to include: claims to support your argument that the Face is a natural landform; evidence from the article to support your claims; an introduction, a body, and a conclusion to your argumentative essay.\"}"
      ]
     },
     "execution_count": 7,
     "metadata": {},
     "output_type": "execute_result"
    }
   ],
   "source": [
    "# Kaggleデータにも存在するpromptを出力\n",
    "set(persuade_data.filter(pl.col(\"is_train_contains\")).get_column(\"assignment\"))"
   ]
  },
  {
   "cell_type": "code",
   "execution_count": 8,
   "metadata": {},
   "outputs": [],
   "source": [
    "# assignment_num_dictを用いて、assignmentに数値に変換する\n",
    "persuade_data = persuade_data.with_columns(\n",
    "    pl.col(\"assignment\").replace(assignment_num_dict).alias(\"assignment_num\")\n",
    ")"
   ]
  },
  {
   "cell_type": "code",
   "execution_count": 18,
   "metadata": {},
   "outputs": [
    {
     "data": {
      "text/plain": [
       "7"
      ]
     },
     "execution_count": 18,
     "metadata": {},
     "output_type": "execute_result"
    }
   ],
   "source": [
    "persuade_data.filter(pl.col(\"is_train_contains\"))[\"prompt_name\"].n_unique()"
   ]
  },
  {
   "cell_type": "code",
   "execution_count": 19,
   "metadata": {},
   "outputs": [
    {
     "data": {
      "text/plain": [
       "12871"
      ]
     },
     "execution_count": 19,
     "metadata": {},
     "output_type": "execute_result"
    }
   ],
   "source": [
    "persuade_data.filter(pl.col(\"is_train_contains\")).height"
   ]
  },
  {
   "cell_type": "code",
   "execution_count": 20,
   "metadata": {},
   "outputs": [
    {
     "data": {
      "text/plain": [
       "9"
      ]
     },
     "execution_count": 20,
     "metadata": {},
     "output_type": "execute_result"
    }
   ],
   "source": [
    "persuade_data.filter(~pl.col(\"is_train_contains\"))[\"prompt_name\"].n_unique()"
   ]
  },
  {
   "cell_type": "code",
   "execution_count": 21,
   "metadata": {},
   "outputs": [
    {
     "data": {
      "text/html": [
       "<div><style>\n",
       ".dataframe > thead > tr,\n",
       ".dataframe > tbody > tr {\n",
       "  text-align: right;\n",
       "  white-space: pre-wrap;\n",
       "}\n",
       "</style>\n",
       "<small>shape: (9, 2)</small><table border=\"1\" class=\"dataframe\"><thead><tr><th>prompt_name</th><th>count</th></tr><tr><td>str</td><td>u32</td></tr></thead><tbody><tr><td>&quot;Distance learning&quot;</td><td>2157</td></tr><tr><td>&quot;Summer projects&quot;</td><td>1750</td></tr><tr><td>&quot;Grades for extracurricular act…</td><td>1626</td></tr><tr><td>&quot;Cell phones at school&quot;</td><td>1656</td></tr><tr><td>&quot;Phones and driving&quot;</td><td>1168</td></tr><tr><td>&quot;Mandatory extracurricular acti…</td><td>1670</td></tr><tr><td>&quot;Seeking multiple opinions&quot;</td><td>1552</td></tr><tr><td>&quot;Community service&quot;</td><td>1542</td></tr><tr><td>&quot;Car-free cities&quot;</td><td>4</td></tr></tbody></table></div>"
      ],
      "text/plain": [
       "shape: (9, 2)\n",
       "┌─────────────────────────────────┬───────┐\n",
       "│ prompt_name                     ┆ count │\n",
       "│ ---                             ┆ ---   │\n",
       "│ str                             ┆ u32   │\n",
       "╞═════════════════════════════════╪═══════╡\n",
       "│ Distance learning               ┆ 2157  │\n",
       "│ Summer projects                 ┆ 1750  │\n",
       "│ Grades for extracurricular act… ┆ 1626  │\n",
       "│ Cell phones at school           ┆ 1656  │\n",
       "│ Phones and driving              ┆ 1168  │\n",
       "│ Mandatory extracurricular acti… ┆ 1670  │\n",
       "│ Seeking multiple opinions       ┆ 1552  │\n",
       "│ Community service               ┆ 1542  │\n",
       "│ Car-free cities                 ┆ 4     │\n",
       "└─────────────────────────────────┴───────┘"
      ]
     },
     "execution_count": 21,
     "metadata": {},
     "output_type": "execute_result"
    }
   ],
   "source": [
    "persuade_data.filter(~pl.col(\"is_train_contains\"))[\"prompt_name\"].value_counts()"
   ]
  },
  {
   "cell_type": "code",
   "execution_count": 10,
   "metadata": {},
   "outputs": [
    {
     "data": {
      "text/html": [
       "<div><style>\n",
       ".dataframe > thead > tr,\n",
       ".dataframe > tbody > tr {\n",
       "  text-align: right;\n",
       "  white-space: pre-wrap;\n",
       "}\n",
       "</style>\n",
       "<small>shape: (15, 2)</small><table border=\"1\" class=\"dataframe\"><thead><tr><th>prompt_name</th><th>count</th></tr><tr><td>str</td><td>u32</td></tr></thead><tbody><tr><td>&quot;Cell phones at school&quot;</td><td>1656</td></tr><tr><td>&quot;Distance learning&quot;</td><td>2157</td></tr><tr><td>&quot;Facial action coding system&quot;</td><td>2167</td></tr><tr><td>&quot;Grades for extracurricular act…</td><td>1626</td></tr><tr><td>&quot;Community service&quot;</td><td>1542</td></tr><tr><td>&hellip;</td><td>&hellip;</td></tr><tr><td>&quot;&quot;A Cowboy Who Rode the Waves&quot;&quot;</td><td>1372</td></tr><tr><td>&quot;Seeking multiple opinions&quot;</td><td>1552</td></tr><tr><td>&quot;Car-free cities&quot;</td><td>1959</td></tr><tr><td>&quot;The Face on Mars&quot;</td><td>1583</td></tr><tr><td>&quot;Does the electoral college wor…</td><td>2046</td></tr></tbody></table></div>"
      ],
      "text/plain": [
       "shape: (15, 2)\n",
       "┌─────────────────────────────────┬───────┐\n",
       "│ prompt_name                     ┆ count │\n",
       "│ ---                             ┆ ---   │\n",
       "│ str                             ┆ u32   │\n",
       "╞═════════════════════════════════╪═══════╡\n",
       "│ Cell phones at school           ┆ 1656  │\n",
       "│ Distance learning               ┆ 2157  │\n",
       "│ Facial action coding system     ┆ 2167  │\n",
       "│ Grades for extracurricular act… ┆ 1626  │\n",
       "│ Community service               ┆ 1542  │\n",
       "│ …                               ┆ …     │\n",
       "│ \"A Cowboy Who Rode the Waves\"   ┆ 1372  │\n",
       "│ Seeking multiple opinions       ┆ 1552  │\n",
       "│ Car-free cities                 ┆ 1959  │\n",
       "│ The Face on Mars                ┆ 1583  │\n",
       "│ Does the electoral college wor… ┆ 2046  │\n",
       "└─────────────────────────────────┴───────┘"
      ]
     },
     "execution_count": 10,
     "metadata": {},
     "output_type": "execute_result"
    }
   ],
   "source": [
    "persuade_data[\"prompt_name\"].value_counts()"
   ]
  },
  {
   "cell_type": "code",
   "execution_count": null,
   "metadata": {},
   "outputs": [],
   "source": []
  },
  {
   "cell_type": "code",
   "execution_count": 53,
   "metadata": {},
   "outputs": [],
   "source": [
    "persuade_data.write_csv(\n",
    "    \"/Users/shinichiro.saito/automated_essay_scoring/data/persuade_w_is_tr_con_as_num.csv\"\n",
    ")"
   ]
  },
  {
   "cell_type": "code",
   "execution_count": 55,
   "metadata": {},
   "outputs": [
    {
     "data": {
      "text/html": [
       "<div><style>\n",
       ".dataframe > thead > tr,\n",
       ".dataframe > tbody > tr {\n",
       "  text-align: right;\n",
       "  white-space: pre-wrap;\n",
       "}\n",
       "</style>\n",
       "<small>shape: (5, 16)</small><table border=\"1\" class=\"dataframe\"><thead><tr><th>essay_id_comp</th><th>full_text</th><th>holistic_essay_score</th><th>word_count</th><th>prompt_name</th><th>task</th><th>assignment</th><th>source_text</th><th>gender</th><th>grade_level</th><th>ell_status</th><th>race_ethnicity</th><th>economically_disadvantaged</th><th>student_disability_status</th><th>is_train_contains</th><th>assignment_num</th></tr><tr><td>str</td><td>str</td><td>i64</td><td>i64</td><td>str</td><td>str</td><td>str</td><td>str</td><td>str</td><td>str</td><td>str</td><td>str</td><td>str</td><td>str</td><td>bool</td><td>str</td></tr></thead><tbody><tr><td>&quot;423A1CA112E2&quot;</td><td>&quot;Phones\n",
       "\n",
       "Modern humans today ar…</td><td>3</td><td>378</td><td>&quot;Phones and driving&quot;</td><td>&quot;Independent&quot;</td><td>&quot;Today the majority of humans o…</td><td>null</td><td>&quot;M&quot;</td><td>null</td><td>null</td><td>&quot;Black/African American&quot;</td><td>null</td><td>null</td><td>false</td><td>&quot;11&quot;</td></tr><tr><td>&quot;BC75783F96E3&quot;</td><td>&quot;This essay will explain if dri…</td><td>4</td><td>432</td><td>&quot;Phones and driving&quot;</td><td>&quot;Independent&quot;</td><td>&quot;Today the majority of humans o…</td><td>null</td><td>&quot;M&quot;</td><td>null</td><td>null</td><td>&quot;Black/African American&quot;</td><td>null</td><td>null</td><td>false</td><td>&quot;11&quot;</td></tr><tr><td>&quot;74C8BC7417DE&quot;</td><td>&quot;Driving while the use of cellu…</td><td>2</td><td>179</td><td>&quot;Phones and driving&quot;</td><td>&quot;Independent&quot;</td><td>&quot;Today the majority of humans o…</td><td>null</td><td>&quot;F&quot;</td><td>null</td><td>null</td><td>&quot;White&quot;</td><td>null</td><td>null</td><td>false</td><td>&quot;11&quot;</td></tr><tr><td>&quot;A8445CABFECE&quot;</td><td>&quot;Phones &amp; Driving\n",
       "\n",
       "Drivers shou…</td><td>3</td><td>221</td><td>&quot;Phones and driving&quot;</td><td>&quot;Independent&quot;</td><td>&quot;Today the majority of humans o…</td><td>null</td><td>&quot;M&quot;</td><td>null</td><td>null</td><td>&quot;Black/African American&quot;</td><td>null</td><td>null</td><td>false</td><td>&quot;11&quot;</td></tr><tr><td>&quot;6B4F7A0165B9&quot;</td><td>&quot;Cell Phone Operation While Dri…</td><td>4</td><td>334</td><td>&quot;Phones and driving&quot;</td><td>&quot;Independent&quot;</td><td>&quot;Today the majority of humans o…</td><td>null</td><td>&quot;M&quot;</td><td>null</td><td>null</td><td>&quot;White&quot;</td><td>null</td><td>null</td><td>false</td><td>&quot;11&quot;</td></tr></tbody></table></div>"
      ],
      "text/plain": [
       "shape: (5, 16)\n",
       "┌───────────┬───────────┬───────────┬───────────┬───┬───────────┬───────────┬───────────┬──────────┐\n",
       "│ essay_id_ ┆ full_text ┆ holistic_ ┆ word_coun ┆ … ┆ economica ┆ student_d ┆ is_train_ ┆ assignme │\n",
       "│ comp      ┆ ---       ┆ essay_sco ┆ t         ┆   ┆ lly_disad ┆ isability ┆ contains  ┆ nt_num   │\n",
       "│ ---       ┆ str       ┆ re        ┆ ---       ┆   ┆ vantaged  ┆ _status   ┆ ---       ┆ ---      │\n",
       "│ str       ┆           ┆ ---       ┆ i64       ┆   ┆ ---       ┆ ---       ┆ bool      ┆ str      │\n",
       "│           ┆           ┆ i64       ┆           ┆   ┆ str       ┆ str       ┆           ┆          │\n",
       "╞═══════════╪═══════════╪═══════════╪═══════════╪═══╪═══════════╪═══════════╪═══════════╪══════════╡\n",
       "│ 423A1CA11 ┆ Phones    ┆ 3         ┆ 378       ┆ … ┆ null      ┆ null      ┆ false     ┆ 11       │\n",
       "│ 2E2       ┆           ┆           ┆           ┆   ┆           ┆           ┆           ┆          │\n",
       "│           ┆ Modern    ┆           ┆           ┆   ┆           ┆           ┆           ┆          │\n",
       "│           ┆ humans    ┆           ┆           ┆   ┆           ┆           ┆           ┆          │\n",
       "│           ┆ today ar… ┆           ┆           ┆   ┆           ┆           ┆           ┆          │\n",
       "│ BC75783F9 ┆ This      ┆ 4         ┆ 432       ┆ … ┆ null      ┆ null      ┆ false     ┆ 11       │\n",
       "│ 6E3       ┆ essay     ┆           ┆           ┆   ┆           ┆           ┆           ┆          │\n",
       "│           ┆ will      ┆           ┆           ┆   ┆           ┆           ┆           ┆          │\n",
       "│           ┆ explain   ┆           ┆           ┆   ┆           ┆           ┆           ┆          │\n",
       "│           ┆ if dri…   ┆           ┆           ┆   ┆           ┆           ┆           ┆          │\n",
       "│ 74C8BC741 ┆ Driving   ┆ 2         ┆ 179       ┆ … ┆ null      ┆ null      ┆ false     ┆ 11       │\n",
       "│ 7DE       ┆ while the ┆           ┆           ┆   ┆           ┆           ┆           ┆          │\n",
       "│           ┆ use of    ┆           ┆           ┆   ┆           ┆           ┆           ┆          │\n",
       "│           ┆ cellu…    ┆           ┆           ┆   ┆           ┆           ┆           ┆          │\n",
       "│ A8445CABF ┆ Phones &  ┆ 3         ┆ 221       ┆ … ┆ null      ┆ null      ┆ false     ┆ 11       │\n",
       "│ ECE       ┆ Driving   ┆           ┆           ┆   ┆           ┆           ┆           ┆          │\n",
       "│           ┆           ┆           ┆           ┆   ┆           ┆           ┆           ┆          │\n",
       "│           ┆ Drivers   ┆           ┆           ┆   ┆           ┆           ┆           ┆          │\n",
       "│           ┆ shou…     ┆           ┆           ┆   ┆           ┆           ┆           ┆          │\n",
       "│ 6B4F7A016 ┆ Cell      ┆ 4         ┆ 334       ┆ … ┆ null      ┆ null      ┆ false     ┆ 11       │\n",
       "│ 5B9       ┆ Phone     ┆           ┆           ┆   ┆           ┆           ┆           ┆          │\n",
       "│           ┆ Operation ┆           ┆           ┆   ┆           ┆           ┆           ┆          │\n",
       "│           ┆ While     ┆           ┆           ┆   ┆           ┆           ┆           ┆          │\n",
       "│           ┆ Dri…      ┆           ┆           ┆   ┆           ┆           ┆           ┆          │\n",
       "└───────────┴───────────┴───────────┴───────────┴───┴───────────┴───────────┴───────────┴──────────┘"
      ]
     },
     "execution_count": 55,
     "metadata": {},
     "output_type": "execute_result"
    }
   ],
   "source": [
    "persuade_data.head()"
   ]
  },
  {
   "cell_type": "code",
   "execution_count": 59,
   "metadata": {},
   "outputs": [
    {
     "data": {
      "text/plain": [
       "Counter({'4': 2167,\n",
       "         '8': 2046,\n",
       "         '5': 1955,\n",
       "         '2': 1886,\n",
       "         '9': 1862,\n",
       "         '0': 1583,\n",
       "         '10': 1372})"
      ]
     },
     "execution_count": 59,
     "metadata": {},
     "output_type": "execute_result"
    }
   ],
   "source": [
    "from collections import Counter\n",
    "\n",
    "Counter(list(persuade_data.filter(pl.col(\"is_train_contains\"))[\"assignment_num\"]))"
   ]
  },
  {
   "cell_type": "code",
   "execution_count": null,
   "metadata": {},
   "outputs": [],
   "source": []
  }
 ],
 "metadata": {
  "kernelspec": {
   "display_name": ".venv",
   "language": "python",
   "name": "python3"
  },
  "language_info": {
   "codemirror_mode": {
    "name": "ipython",
    "version": 3
   },
   "file_extension": ".py",
   "mimetype": "text/x-python",
   "name": "python",
   "nbconvert_exporter": "python",
   "pygments_lexer": "ipython3",
   "version": "3.11.7"
  }
 },
 "nbformat": 4,
 "nbformat_minor": 2
}
