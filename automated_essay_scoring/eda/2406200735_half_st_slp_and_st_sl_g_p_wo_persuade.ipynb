{
 "cells": [
  {
   "cell_type": "code",
   "execution_count": 1,
   "metadata": {},
   "outputs": [],
   "source": [
    "import polars as pl\n",
    "\n",
    "DATA_PATH = \"../../data/\"\n",
    "\n",
    "train = pl.read_csv(DATA_PATH + \"train.csv\")\n",
    "predicted_prompt = pl.read_csv(DATA_PATH + \"predicted_prompt.csv\")"
   ]
  },
  {
   "cell_type": "code",
   "execution_count": 2,
   "metadata": {},
   "outputs": [
    {
     "data": {
      "text/html": [
       "<div><style>\n",
       ".dataframe > thead > tr,\n",
       ".dataframe > tbody > tr {\n",
       "  text-align: right;\n",
       "  white-space: pre-wrap;\n",
       "}\n",
       "</style>\n",
       "<small>shape: (17_307, 3)</small><table border=\"1\" class=\"dataframe\"><thead><tr><th>essay_id</th><th>full_text</th><th>score</th></tr><tr><td>str</td><td>str</td><td>i64</td></tr></thead><tbody><tr><td>&quot;000d118&quot;</td><td>&quot;Many people have car where the…</td><td>3</td></tr><tr><td>&quot;000fe60&quot;</td><td>&quot;I am a scientist at NASA that …</td><td>3</td></tr><tr><td>&quot;001ab80&quot;</td><td>&quot;People always wish they had th…</td><td>4</td></tr><tr><td>&quot;001bdc0&quot;</td><td>&quot;We all heard about Venus, the …</td><td>4</td></tr><tr><td>&quot;002ba53&quot;</td><td>&quot;Dear, State Senator\n",
       "\n",
       "This is a…</td><td>3</td></tr><tr><td>&hellip;</td><td>&hellip;</td><td>&hellip;</td></tr><tr><td>&quot;ffd378d&quot;</td><td>&quot;the story &quot; The Challenge of E…</td><td>2</td></tr><tr><td>&quot;ffddf1f&quot;</td><td>&quot;Technology has changed a lot o…</td><td>4</td></tr><tr><td>&quot;fff016d&quot;</td><td>&quot;If you don&#x27;t like sitting arou…</td><td>2</td></tr><tr><td>&quot;fffb49b&quot;</td><td>&quot;In &quot;The Challenge of Exporing …</td><td>1</td></tr><tr><td>&quot;fffed3e&quot;</td><td>&quot;Venus is worthy place to study…</td><td>2</td></tr></tbody></table></div>"
      ],
      "text/plain": [
       "shape: (17_307, 3)\n",
       "┌──────────┬─────────────────────────────────┬───────┐\n",
       "│ essay_id ┆ full_text                       ┆ score │\n",
       "│ ---      ┆ ---                             ┆ ---   │\n",
       "│ str      ┆ str                             ┆ i64   │\n",
       "╞══════════╪═════════════════════════════════╪═══════╡\n",
       "│ 000d118  ┆ Many people have car where the… ┆ 3     │\n",
       "│ 000fe60  ┆ I am a scientist at NASA that … ┆ 3     │\n",
       "│ 001ab80  ┆ People always wish they had th… ┆ 4     │\n",
       "│ 001bdc0  ┆ We all heard about Venus, the … ┆ 4     │\n",
       "│ 002ba53  ┆ Dear, State Senator             ┆ 3     │\n",
       "│          ┆                                 ┆       │\n",
       "│          ┆ This is a…                      ┆       │\n",
       "│ …        ┆ …                               ┆ …     │\n",
       "│ ffd378d  ┆ the story \" The Challenge of E… ┆ 2     │\n",
       "│ ffddf1f  ┆ Technology has changed a lot o… ┆ 4     │\n",
       "│ fff016d  ┆ If you don't like sitting arou… ┆ 2     │\n",
       "│ fffb49b  ┆ In \"The Challenge of Exporing … ┆ 1     │\n",
       "│ fffed3e  ┆ Venus is worthy place to study… ┆ 2     │\n",
       "└──────────┴─────────────────────────────────┴───────┘"
      ]
     },
     "execution_count": 2,
     "metadata": {},
     "output_type": "execute_result"
    }
   ],
   "source": [
    "train"
   ]
  },
  {
   "cell_type": "code",
   "execution_count": 3,
   "metadata": {},
   "outputs": [],
   "source": [
    "train = train.join(  # prompt_nameを付与する\n",
    "    predicted_prompt.select(pl.col([\"essay_id\", \"prompt_name\"])),\n",
    "    how=\"left\",\n",
    "    on=\"essay_id\",\n",
    ")"
   ]
  },
  {
   "cell_type": "code",
   "execution_count": 4,
   "metadata": {},
   "outputs": [
    {
     "name": "stderr",
     "output_type": "stream",
     "text": [
      "/Users/shinichiro.saito/automated_essay_scoring/.venv/lib/python3.11/site-packages/tqdm/auto.py:21: TqdmWarning: IProgress not found. Please update jupyter and ipywidgets. See https://ipywidgets.readthedocs.io/en/stable/user_install.html\n",
      "  from .autonotebook import tqdm as notebook_tqdm\n"
     ]
    }
   ],
   "source": [
    "from datasets import load_dataset\n",
    "\n",
    "# 追加データ\n",
    "persuade_dataset = (\n",
    "    load_dataset(\n",
    "        \"csv\",\n",
    "        data_files={\"train\": f\"{DATA_PATH}/persuade_w_is_tr_con_as_num.csv\"},\n",
    "        split=\"train\",\n",
    "    )\n",
    "    .filter(lambda x: not x[\"is_train_contains\"])\n",
    "    .select_columns(\n",
    "        [\"essay_id_comp\", \"full_text\", \"holistic_essay_score\", \"prompt_name\"]\n",
    "    )\n",
    "    .rename_columns({\"essay_id_comp\": \"essay_id\", \"holistic_essay_score\": \"score\"})\n",
    ")\n",
    "\n",
    "persuade_df = pl.DataFrame(persuade_dataset.to_pandas())"
   ]
  },
  {
   "cell_type": "code",
   "execution_count": 5,
   "metadata": {},
   "outputs": [],
   "source": [
    "# train = pl.concat([train, persuade_df])"
   ]
  },
  {
   "cell_type": "code",
   "execution_count": 6,
   "metadata": {},
   "outputs": [],
   "source": [
    "train = train.with_columns(  # prompt_nameをlabel encodingする\n",
    "    pl.col(\"prompt_name\").cast(pl.Categorical).to_physical().alias(\"prompt_id\")\n",
    ")\n",
    "\n",
    "persuade_df = persuade_df.with_columns(  # prompt_nameをlabel encodingする\n",
    "    pl.col(\"prompt_name\").cast(pl.Categorical).to_physical().alias(\"prompt_id\")\n",
    ")"
   ]
  },
  {
   "cell_type": "code",
   "execution_count": 7,
   "metadata": {},
   "outputs": [],
   "source": [
    "train = train.with_columns(\n",
    "    pl.col(\"full_text\")\n",
    "    .map_elements(lambda x: len(x.split()), return_dtype=pl.Int64)\n",
    "    .alias(\"word_length\"),\n",
    ")\n",
    "\n",
    "persuade_df = persuade_df.with_columns(\n",
    "    pl.col(\"full_text\")\n",
    "    .map_elements(lambda x: len(x.split()), return_dtype=pl.Int64)\n",
    "    .alias(\"word_length\"),\n",
    ")"
   ]
  },
  {
   "cell_type": "code",
   "execution_count": 8,
   "metadata": {},
   "outputs": [],
   "source": [
    "train = train.with_columns(\n",
    "    pl.when(pl.col(\"word_length\") <= 200)\n",
    "    .then(pl.lit(\"x<=200\"))\n",
    "    .when(pl.col(\"word_length\") <= 400)\n",
    "    .then(pl.lit(\"200<x<=400\"))\n",
    "    .when(pl.col(\"word_length\") <= 600)\n",
    "    .then(pl.lit(\"400<x<=600\"))\n",
    "    .when(pl.col(\"word_length\") <= 800)\n",
    "    .then(pl.lit(\"600<x<=800\"))\n",
    "    .when(pl.col(\"word_length\") <= 1000)\n",
    "    .then(pl.lit(\"800<x<=1000\"))\n",
    "    .when(pl.col(\"word_length\") <= 1200)\n",
    "    .then(pl.lit(\"1000<x<=1200\"))\n",
    "    .when(pl.col(\"word_length\") > 1200)\n",
    "    .then(pl.lit(\"x>1200\"))\n",
    "    .alias(\"word_length_cat\"),\n",
    ")\n",
    "\n",
    "persuade_df = persuade_df.with_columns(\n",
    "    pl.when(pl.col(\"word_length\") <= 200)\n",
    "    .then(pl.lit(\"x<=200\"))\n",
    "    .when(pl.col(\"word_length\") <= 400)\n",
    "    .then(pl.lit(\"200<x<=400\"))\n",
    "    .when(pl.col(\"word_length\") <= 600)\n",
    "    .then(pl.lit(\"400<x<=600\"))\n",
    "    .when(pl.col(\"word_length\") <= 800)\n",
    "    .then(pl.lit(\"600<x<=800\"))\n",
    "    .when(pl.col(\"word_length\") <= 1000)\n",
    "    .then(pl.lit(\"800<x<=1000\"))\n",
    "    .when(pl.col(\"word_length\") <= 1200)\n",
    "    .then(pl.lit(\"1000<x<=1200\"))\n",
    "    .when(pl.col(\"word_length\") > 1200)\n",
    "    .then(pl.lit(\"x>1200\"))\n",
    "    .alias(\"word_length_cat\"),\n",
    ")"
   ]
  },
  {
   "cell_type": "code",
   "execution_count": 9,
   "metadata": {},
   "outputs": [],
   "source": [
    "train = train.with_columns(\n",
    "    pl.concat_str(\n",
    "        pl.col(\"score\"),\n",
    "        pl.col(\"word_length_cat\"),\n",
    "        separator=\"_\",\n",
    "    ).alias(\"score_word_length_cat\")\n",
    ").with_columns(\n",
    "    pl.concat_str(\n",
    "        pl.col(\"score_word_length_cat\"),\n",
    "        pl.col(\"prompt_id\"),\n",
    "        separator=\"_\",\n",
    "    ).alias(\"concat_score_word_length_prompt_id\")\n",
    ")\n",
    "\n",
    "persuade_df = persuade_df.with_columns(\n",
    "    pl.concat_str(\n",
    "        pl.col(\"score\"),\n",
    "        pl.col(\"word_length_cat\"),\n",
    "        separator=\"_\",\n",
    "    ).alias(\"score_word_length_cat\")\n",
    ").with_columns(\n",
    "    pl.concat_str(\n",
    "        pl.col(\"score_word_length_cat\"),\n",
    "        pl.col(\"prompt_id\"),\n",
    "        separator=\"_\",\n",
    "    ).alias(\"concat_score_word_length_prompt_id\")\n",
    ")"
   ]
  },
  {
   "cell_type": "code",
   "execution_count": 11,
   "metadata": {},
   "outputs": [
    {
     "data": {
      "text/html": [
       "<div><style>\n",
       ".dataframe > thead > tr,\n",
       ".dataframe > tbody > tr {\n",
       "  text-align: right;\n",
       "  white-space: pre-wrap;\n",
       "}\n",
       "</style>\n",
       "<small>shape: (3, 9)</small><table border=\"1\" class=\"dataframe\"><thead><tr><th>essay_id</th><th>full_text</th><th>score</th><th>prompt_name</th><th>prompt_id</th><th>word_length</th><th>word_length_cat</th><th>score_word_length_cat</th><th>concat_score_word_length_prompt_id</th></tr><tr><td>str</td><td>str</td><td>i64</td><td>str</td><td>u32</td><td>i64</td><td>str</td><td>str</td><td>str</td></tr></thead><tbody><tr><td>&quot;000d118&quot;</td><td>&quot;Many people have car where the…</td><td>3</td><td>&quot;Car-free cities&quot;</td><td>0</td><td>498</td><td>&quot;400&lt;x&lt;=600&quot;</td><td>&quot;3_400&lt;x&lt;=600&quot;</td><td>&quot;3_400&lt;x&lt;=600_0&quot;</td></tr><tr><td>&quot;000fe60&quot;</td><td>&quot;I am a scientist at NASA that …</td><td>3</td><td>&quot;The Face on Mars&quot;</td><td>1</td><td>332</td><td>&quot;200&lt;x&lt;=400&quot;</td><td>&quot;3_200&lt;x&lt;=400&quot;</td><td>&quot;3_200&lt;x&lt;=400_1&quot;</td></tr><tr><td>&quot;001ab80&quot;</td><td>&quot;People always wish they had th…</td><td>4</td><td>&quot;Driverless cars&quot;</td><td>2</td><td>550</td><td>&quot;400&lt;x&lt;=600&quot;</td><td>&quot;4_400&lt;x&lt;=600&quot;</td><td>&quot;4_400&lt;x&lt;=600_2&quot;</td></tr></tbody></table></div>"
      ],
      "text/plain": [
       "shape: (3, 9)\n",
       "┌──────────┬────────────┬───────┬────────────┬───┬────────────┬────────────┬───────────┬───────────┐\n",
       "│ essay_id ┆ full_text  ┆ score ┆ prompt_nam ┆ … ┆ word_lengt ┆ word_lengt ┆ score_wor ┆ concat_sc │\n",
       "│ ---      ┆ ---        ┆ ---   ┆ e          ┆   ┆ h          ┆ h_cat      ┆ d_length_ ┆ ore_word_ │\n",
       "│ str      ┆ str        ┆ i64   ┆ ---        ┆   ┆ ---        ┆ ---        ┆ cat       ┆ length_pr │\n",
       "│          ┆            ┆       ┆ str        ┆   ┆ i64        ┆ str        ┆ ---       ┆ omp…      │\n",
       "│          ┆            ┆       ┆            ┆   ┆            ┆            ┆ str       ┆ ---       │\n",
       "│          ┆            ┆       ┆            ┆   ┆            ┆            ┆           ┆ str       │\n",
       "╞══════════╪════════════╪═══════╪════════════╪═══╪════════════╪════════════╪═══════════╪═══════════╡\n",
       "│ 000d118  ┆ Many       ┆ 3     ┆ Car-free   ┆ … ┆ 498        ┆ 400<x<=600 ┆ 3_400<x<= ┆ 3_400<x<= │\n",
       "│          ┆ people     ┆       ┆ cities     ┆   ┆            ┆            ┆ 600       ┆ 600_0     │\n",
       "│          ┆ have car   ┆       ┆            ┆   ┆            ┆            ┆           ┆           │\n",
       "│          ┆ where the… ┆       ┆            ┆   ┆            ┆            ┆           ┆           │\n",
       "│ 000fe60  ┆ I am a     ┆ 3     ┆ The Face   ┆ … ┆ 332        ┆ 200<x<=400 ┆ 3_200<x<= ┆ 3_200<x<= │\n",
       "│          ┆ scientist  ┆       ┆ on Mars    ┆   ┆            ┆            ┆ 400       ┆ 400_1     │\n",
       "│          ┆ at NASA    ┆       ┆            ┆   ┆            ┆            ┆           ┆           │\n",
       "│          ┆ that …     ┆       ┆            ┆   ┆            ┆            ┆           ┆           │\n",
       "│ 001ab80  ┆ People     ┆ 4     ┆ Driverless ┆ … ┆ 550        ┆ 400<x<=600 ┆ 4_400<x<= ┆ 4_400<x<= │\n",
       "│          ┆ always     ┆       ┆ cars       ┆   ┆            ┆            ┆ 600       ┆ 600_2     │\n",
       "│          ┆ wish they  ┆       ┆            ┆   ┆            ┆            ┆           ┆           │\n",
       "│          ┆ had th…    ┆       ┆            ┆   ┆            ┆            ┆           ┆           │\n",
       "└──────────┴────────────┴───────┴────────────┴───┴────────────┴────────────┴───────────┴───────────┘"
      ]
     },
     "execution_count": 11,
     "metadata": {},
     "output_type": "execute_result"
    }
   ],
   "source": [
    "train.head(3)"
   ]
  },
  {
   "cell_type": "code",
   "execution_count": 11,
   "metadata": {},
   "outputs": [],
   "source": [
    "# (\n",
    "#     train.select(\n",
    "#         pl.col(\"concat_score_word_length_prompt_id\").value_counts(),\n",
    "#     )\n",
    "#     .unnest(\"concat_score_word_length_prompt_id\")\n",
    "#     .with_columns((pl.col(\"count\") / train.height).alias(\"percentage\"))\n",
    "#     .sort(\"count\", descending=True)\n",
    "# )"
   ]
  },
  {
   "cell_type": "code",
   "execution_count": 13,
   "metadata": {},
   "outputs": [],
   "source": [
    "# promptを用いてstratifyを行なって、分割する\n",
    "from sklearn.model_selection import train_test_split\n",
    "\n",
    "SPLIT_SIZE = 0.5\n",
    "\n",
    "train_1, train_2 = train_test_split(\n",
    "    train, test_size=SPLIT_SIZE, random_state=42, stratify=train[\"prompt_id\"]\n",
    ")\n",
    "\n",
    "persuade_1, persuade_2 = train_test_split(\n",
    "    persuade_df,\n",
    "    test_size=SPLIT_SIZE,\n",
    "    random_state=42,\n",
    "    stratify=persuade_df[\"prompt_id\"],\n",
    ")"
   ]
  },
  {
   "cell_type": "code",
   "execution_count": 21,
   "metadata": {},
   "outputs": [
    {
     "name": "stderr",
     "output_type": "stream",
     "text": [
      "/Users/shinichiro.saito/automated_essay_scoring/.venv/lib/python3.11/site-packages/sklearn/model_selection/_split.py:737: UserWarning: The least populated class in y has only 1 members, which is less than n_splits=3.\n",
      "  warnings.warn(\n",
      "/Users/shinichiro.saito/automated_essay_scoring/.venv/lib/python3.11/site-packages/sklearn/model_selection/_split.py:737: UserWarning: The least populated class in y has only 1 members, which is less than n_splits=3.\n",
      "  warnings.warn(\n"
     ]
    }
   ],
   "source": [
    "def get_st_slp(data):\n",
    "    import numpy as np\n",
    "    from sklearn.model_selection import StratifiedKFold\n",
    "\n",
    "    fold_arr = np.zeros(data.height)\n",
    "    sgkf = StratifiedKFold(n_splits=3, random_state=42, shuffle=True)\n",
    "\n",
    "    for idx, (_, val_idx) in enumerate(\n",
    "        sgkf.split(data, data[\"concat_score_word_length_prompt_id\"])\n",
    "    ):\n",
    "        fold_arr[val_idx] = idx\n",
    "\n",
    "    return data.with_columns(pl.Series(fold_arr).cast(pl.Int64).alias(\"fold\"))\n",
    "\n",
    "\n",
    "train_1 = get_st_slp(train_1)\n",
    "persuade_1 = get_st_slp(persuade_1).with_columns(pl.col(\"fold\") + 3)"
   ]
  },
  {
   "cell_type": "code",
   "execution_count": 22,
   "metadata": {},
   "outputs": [
    {
     "name": "stderr",
     "output_type": "stream",
     "text": [
      "/Users/shinichiro.saito/automated_essay_scoring/.venv/lib/python3.11/site-packages/sklearn/model_selection/_split.py:950: UserWarning: The least populated class in y has only 1 members, which is less than n_splits=3.\n",
      "  warnings.warn(\n",
      "/Users/shinichiro.saito/automated_essay_scoring/.venv/lib/python3.11/site-packages/sklearn/model_selection/_split.py:950: UserWarning: The least populated class in y has only 1 members, which is less than n_splits=3.\n",
      "  warnings.warn(\n"
     ]
    }
   ],
   "source": [
    "def get_st_sl_g_p(data):\n",
    "    import numpy as np\n",
    "    from sklearn.model_selection import StratifiedGroupKFold\n",
    "\n",
    "    fold_arr = np.zeros(data.height)\n",
    "    sgkf = StratifiedGroupKFold(n_splits=3, random_state=42, shuffle=True)\n",
    "\n",
    "    for idx, (_, val_idx) in enumerate(\n",
    "        sgkf.split(data, data[\"score_word_length_cat\"], data[\"prompt_id\"])\n",
    "    ):\n",
    "        fold_arr[val_idx] = idx\n",
    "\n",
    "    return data.with_columns(pl.Series(fold_arr).cast(pl.Int64).alias(\"fold\"))\n",
    "\n",
    "\n",
    "train_2 = get_st_sl_g_p(train_2)\n",
    "persuade_2 = get_st_sl_g_p(persuade_2).with_columns(pl.col(\"fold\") + 3)"
   ]
  },
  {
   "cell_type": "code",
   "execution_count": 23,
   "metadata": {},
   "outputs": [],
   "source": [
    "train = pl.concat([train_1, train_2])\n",
    "persuade_df = pl.concat([persuade_1, persuade_2])"
   ]
  },
  {
   "cell_type": "code",
   "execution_count": 24,
   "metadata": {},
   "outputs": [
    {
     "data": {
      "text/html": [
       "<div><style>\n",
       ".dataframe > thead > tr,\n",
       ".dataframe > tbody > tr {\n",
       "  text-align: right;\n",
       "  white-space: pre-wrap;\n",
       "}\n",
       "</style>\n",
       "<small>shape: (3, 10)</small><table border=\"1\" class=\"dataframe\"><thead><tr><th>essay_id</th><th>full_text</th><th>score</th><th>prompt_name</th><th>prompt_id</th><th>word_length</th><th>word_length_cat</th><th>score_word_length_cat</th><th>concat_score_word_length_prompt_id</th><th>fold</th></tr><tr><td>str</td><td>str</td><td>i64</td><td>str</td><td>u32</td><td>i64</td><td>str</td><td>str</td><td>str</td><td>i64</td></tr></thead><tbody><tr><td>&quot;d4a8b29&quot;</td><td>&quot;I am for driverless cars, but …</td><td>3</td><td>&quot;Driverless cars&quot;</td><td>2</td><td>324</td><td>&quot;200&lt;x&lt;=400&quot;</td><td>&quot;3_200&lt;x&lt;=400&quot;</td><td>&quot;3_200&lt;x&lt;=400_2&quot;</td><td>2</td></tr><tr><td>&quot;f2e66b1&quot;</td><td>&quot;I think the author did a good …</td><td>3</td><td>&quot;Exploring Venus&quot;</td><td>3</td><td>271</td><td>&quot;200&lt;x&lt;=400&quot;</td><td>&quot;3_200&lt;x&lt;=400&quot;</td><td>&quot;3_200&lt;x&lt;=400_3&quot;</td><td>1</td></tr><tr><td>&quot;7e0cc6b&quot;</td><td>&quot;Can you detect a happy person …</td><td>3</td><td>&quot;Facial action coding system&quot;</td><td>5</td><td>319</td><td>&quot;200&lt;x&lt;=400&quot;</td><td>&quot;3_200&lt;x&lt;=400&quot;</td><td>&quot;3_200&lt;x&lt;=400_5&quot;</td><td>0</td></tr></tbody></table></div>"
      ],
      "text/plain": [
       "shape: (3, 10)\n",
       "┌──────────┬─────────────┬───────┬─────────────┬───┬─────────────┬─────────────┬────────────┬──────┐\n",
       "│ essay_id ┆ full_text   ┆ score ┆ prompt_name ┆ … ┆ word_length ┆ score_word_ ┆ concat_sco ┆ fold │\n",
       "│ ---      ┆ ---         ┆ ---   ┆ ---         ┆   ┆ _cat        ┆ length_cat  ┆ re_word_le ┆ ---  │\n",
       "│ str      ┆ str         ┆ i64   ┆ str         ┆   ┆ ---         ┆ ---         ┆ ngth_promp ┆ i64  │\n",
       "│          ┆             ┆       ┆             ┆   ┆ str         ┆ str         ┆ …          ┆      │\n",
       "│          ┆             ┆       ┆             ┆   ┆             ┆             ┆ ---        ┆      │\n",
       "│          ┆             ┆       ┆             ┆   ┆             ┆             ┆ str        ┆      │\n",
       "╞══════════╪═════════════╪═══════╪═════════════╪═══╪═════════════╪═════════════╪════════════╪══════╡\n",
       "│ d4a8b29  ┆ I am for    ┆ 3     ┆ Driverless  ┆ … ┆ 200<x<=400  ┆ 3_200<x<=40 ┆ 3_200<x<=4 ┆ 2    │\n",
       "│          ┆ driverless  ┆       ┆ cars        ┆   ┆             ┆ 0           ┆ 00_2       ┆      │\n",
       "│          ┆ cars, but … ┆       ┆             ┆   ┆             ┆             ┆            ┆      │\n",
       "│ f2e66b1  ┆ I think the ┆ 3     ┆ Exploring   ┆ … ┆ 200<x<=400  ┆ 3_200<x<=40 ┆ 3_200<x<=4 ┆ 1    │\n",
       "│          ┆ author did  ┆       ┆ Venus       ┆   ┆             ┆ 0           ┆ 00_3       ┆      │\n",
       "│          ┆ a good …    ┆       ┆             ┆   ┆             ┆             ┆            ┆      │\n",
       "│ 7e0cc6b  ┆ Can you     ┆ 3     ┆ Facial      ┆ … ┆ 200<x<=400  ┆ 3_200<x<=40 ┆ 3_200<x<=4 ┆ 0    │\n",
       "│          ┆ detect a    ┆       ┆ action      ┆   ┆             ┆ 0           ┆ 00_5       ┆      │\n",
       "│          ┆ happy       ┆       ┆ coding      ┆   ┆             ┆             ┆            ┆      │\n",
       "│          ┆ person …    ┆       ┆ system      ┆   ┆             ┆             ┆            ┆      │\n",
       "└──────────┴─────────────┴───────┴─────────────┴───┴─────────────┴─────────────┴────────────┴──────┘"
      ]
     },
     "execution_count": 24,
     "metadata": {},
     "output_type": "execute_result"
    }
   ],
   "source": [
    "train.head(3)"
   ]
  },
  {
   "cell_type": "code",
   "execution_count": 25,
   "metadata": {},
   "outputs": [
    {
     "data": {
      "text/html": [
       "<div><style>\n",
       ".dataframe > thead > tr,\n",
       ".dataframe > tbody > tr {\n",
       "  text-align: right;\n",
       "  white-space: pre-wrap;\n",
       "}\n",
       "</style>\n",
       "<small>shape: (3, 10)</small><table border=\"1\" class=\"dataframe\"><thead><tr><th>essay_id</th><th>full_text</th><th>score</th><th>prompt_name</th><th>prompt_id</th><th>word_length</th><th>word_length_cat</th><th>score_word_length_cat</th><th>concat_score_word_length_prompt_id</th><th>fold</th></tr><tr><td>str</td><td>str</td><td>i64</td><td>str</td><td>u32</td><td>i64</td><td>str</td><td>str</td><td>str</td><td>i64</td></tr></thead><tbody><tr><td>&quot;2D23892ACDA0&quot;</td><td>&quot;Dear principal,\n",
       "\n",
       "I think that …</td><td>4</td><td>&quot;Community service&quot;</td><td>4</td><td>463</td><td>&quot;400&lt;x&lt;=600&quot;</td><td>&quot;4_400&lt;x&lt;=600&quot;</td><td>&quot;4_400&lt;x&lt;=600_4&quot;</td><td>3</td></tr><tr><td>&quot;5E8B50F6DF84&quot;</td><td>&quot;Going to school everyday can b…</td><td>5</td><td>&quot;Distance learning&quot;</td><td>7</td><td>844</td><td>&quot;800&lt;x&lt;=1000&quot;</td><td>&quot;5_800&lt;x&lt;=1000&quot;</td><td>&quot;5_800&lt;x&lt;=1000_7&quot;</td><td>4</td></tr><tr><td>&quot;D9C9F849DC3E&quot;</td><td>&quot;Dear principle,\n",
       "\n",
       "I think that …</td><td>3</td><td>&quot;Grades for extracurricular act…</td><td>5</td><td>532</td><td>&quot;400&lt;x&lt;=600&quot;</td><td>&quot;3_400&lt;x&lt;=600&quot;</td><td>&quot;3_400&lt;x&lt;=600_5&quot;</td><td>4</td></tr></tbody></table></div>"
      ],
      "text/plain": [
       "shape: (3, 10)\n",
       "┌─────────────┬─────────────┬───────┬────────────┬───┬────────────┬────────────┬────────────┬──────┐\n",
       "│ essay_id    ┆ full_text   ┆ score ┆ prompt_nam ┆ … ┆ word_lengt ┆ score_word ┆ concat_sco ┆ fold │\n",
       "│ ---         ┆ ---         ┆ ---   ┆ e          ┆   ┆ h_cat      ┆ _length_ca ┆ re_word_le ┆ ---  │\n",
       "│ str         ┆ str         ┆ i64   ┆ ---        ┆   ┆ ---        ┆ t          ┆ ngth_promp ┆ i64  │\n",
       "│             ┆             ┆       ┆ str        ┆   ┆ str        ┆ ---        ┆ …          ┆      │\n",
       "│             ┆             ┆       ┆            ┆   ┆            ┆ str        ┆ ---        ┆      │\n",
       "│             ┆             ┆       ┆            ┆   ┆            ┆            ┆ str        ┆      │\n",
       "╞═════════════╪═════════════╪═══════╪════════════╪═══╪════════════╪════════════╪════════════╪══════╡\n",
       "│ 2D23892ACDA ┆ Dear        ┆ 4     ┆ Community  ┆ … ┆ 400<x<=600 ┆ 4_400<x<=6 ┆ 4_400<x<=6 ┆ 3    │\n",
       "│ 0           ┆ principal,  ┆       ┆ service    ┆   ┆            ┆ 00         ┆ 00_4       ┆      │\n",
       "│             ┆             ┆       ┆            ┆   ┆            ┆            ┆            ┆      │\n",
       "│             ┆ I think     ┆       ┆            ┆   ┆            ┆            ┆            ┆      │\n",
       "│             ┆ that …      ┆       ┆            ┆   ┆            ┆            ┆            ┆      │\n",
       "│ 5E8B50F6DF8 ┆ Going to    ┆ 5     ┆ Distance   ┆ … ┆ 800<x<=100 ┆ 5_800<x<=1 ┆ 5_800<x<=1 ┆ 4    │\n",
       "│ 4           ┆ school      ┆       ┆ learning   ┆   ┆ 0          ┆ 000        ┆ 000_7      ┆      │\n",
       "│             ┆ everyday    ┆       ┆            ┆   ┆            ┆            ┆            ┆      │\n",
       "│             ┆ can b…      ┆       ┆            ┆   ┆            ┆            ┆            ┆      │\n",
       "│ D9C9F849DC3 ┆ Dear        ┆ 3     ┆ Grades for ┆ … ┆ 400<x<=600 ┆ 3_400<x<=6 ┆ 3_400<x<=6 ┆ 4    │\n",
       "│ E           ┆ principle,  ┆       ┆ extracurri ┆   ┆            ┆ 00         ┆ 00_5       ┆      │\n",
       "│             ┆             ┆       ┆ cular act… ┆   ┆            ┆            ┆            ┆      │\n",
       "│             ┆ I think     ┆       ┆            ┆   ┆            ┆            ┆            ┆      │\n",
       "│             ┆ that …      ┆       ┆            ┆   ┆            ┆            ┆            ┆      │\n",
       "└─────────────┴─────────────┴───────┴────────────┴───┴────────────┴────────────┴────────────┴──────┘"
      ]
     },
     "execution_count": 25,
     "metadata": {},
     "output_type": "execute_result"
    }
   ],
   "source": [
    "persuade_df.head(3)"
   ]
  },
  {
   "cell_type": "code",
   "execution_count": 26,
   "metadata": {},
   "outputs": [],
   "source": [
    "essay_id_fold_dict = dict(zip(train[\"essay_id\"], train[\"fold\"]))\n",
    "\n",
    "import json\n",
    "\n",
    "with open(\"essay_id_fold_by_half_st_slp_and_st_sl_g_p_only_train.json\", \"w\") as f:\n",
    "    json.dump(essay_id_fold_dict, f)"
   ]
  },
  {
   "cell_type": "code",
   "execution_count": 27,
   "metadata": {},
   "outputs": [],
   "source": [
    "essay_id_fold_dict = dict(zip(persuade_df[\"essay_id\"], persuade_df[\"fold\"]))\n",
    "\n",
    "import json\n",
    "\n",
    "with open(\"essay_id_fold_by_half_st_slp_and_st_sl_g_p_only_persuade.json\", \"w\") as f:\n",
    "    json.dump(essay_id_fold_dict, f)"
   ]
  },
  {
   "cell_type": "markdown",
   "metadata": {},
   "source": [
    "# Check"
   ]
  },
  {
   "cell_type": "code",
   "execution_count": 28,
   "metadata": {},
   "outputs": [
    {
     "data": {
      "text/html": [
       "<div><style>\n",
       ".dataframe > thead > tr,\n",
       ".dataframe > tbody > tr {\n",
       "  text-align: right;\n",
       "  white-space: pre-wrap;\n",
       "}\n",
       "</style>\n",
       "<small>shape: (10, 3)</small><table border=\"1\" class=\"dataframe\"><thead><tr><th>score_word_length_cat</th><th>count</th><th>percentage</th></tr><tr><td>str</td><td>u32</td><td>f64</td></tr></thead><tbody><tr><td>&quot;3_200&lt;x&lt;=400&quot;</td><td>750</td><td>0.043335</td></tr><tr><td>&quot;2_200&lt;x&lt;=400&quot;</td><td>502</td><td>0.029006</td></tr><tr><td>&quot;4_400&lt;x&lt;=600&quot;</td><td>420</td><td>0.024268</td></tr><tr><td>&quot;3_400&lt;x&lt;=600&quot;</td><td>258</td><td>0.014907</td></tr><tr><td>&quot;2_x&lt;=200&quot;</td><td>225</td><td>0.013001</td></tr><tr><td>&quot;4_200&lt;x&lt;=400&quot;</td><td>178</td><td>0.010285</td></tr><tr><td>&quot;1_200&lt;x&lt;=400&quot;</td><td>124</td><td>0.007165</td></tr><tr><td>&quot;5_400&lt;x&lt;=600&quot;</td><td>74</td><td>0.004276</td></tr><tr><td>&quot;1_x&lt;=200&quot;</td><td>67</td><td>0.003871</td></tr><tr><td>&quot;5_600&lt;x&lt;=800&quot;</td><td>66</td><td>0.003813</td></tr></tbody></table></div>"
      ],
      "text/plain": [
       "shape: (10, 3)\n",
       "┌───────────────────────┬───────┬────────────┐\n",
       "│ score_word_length_cat ┆ count ┆ percentage │\n",
       "│ ---                   ┆ ---   ┆ ---        │\n",
       "│ str                   ┆ u32   ┆ f64        │\n",
       "╞═══════════════════════╪═══════╪════════════╡\n",
       "│ 3_200<x<=400          ┆ 750   ┆ 0.043335   │\n",
       "│ 2_200<x<=400          ┆ 502   ┆ 0.029006   │\n",
       "│ 4_400<x<=600          ┆ 420   ┆ 0.024268   │\n",
       "│ 3_400<x<=600          ┆ 258   ┆ 0.014907   │\n",
       "│ 2_x<=200              ┆ 225   ┆ 0.013001   │\n",
       "│ 4_200<x<=400          ┆ 178   ┆ 0.010285   │\n",
       "│ 1_200<x<=400          ┆ 124   ┆ 0.007165   │\n",
       "│ 5_400<x<=600          ┆ 74    ┆ 0.004276   │\n",
       "│ 1_x<=200              ┆ 67    ┆ 0.003871   │\n",
       "│ 5_600<x<=800          ┆ 66    ┆ 0.003813   │\n",
       "└───────────────────────┴───────┴────────────┘"
      ]
     },
     "execution_count": 28,
     "metadata": {},
     "output_type": "execute_result"
    }
   ],
   "source": [
    "(\n",
    "    train_1.filter(pl.col(\"fold\") == 0)\n",
    "    .select(\n",
    "        pl.col(\"score_word_length_cat\").value_counts(),\n",
    "    )\n",
    "    .unnest(\"score_word_length_cat\")\n",
    "    .with_columns((pl.col(\"count\") / train.height).alias(\"percentage\"))\n",
    "    .sort(\"count\", descending=True)\n",
    "    .head(10)\n",
    ")"
   ]
  },
  {
   "cell_type": "code",
   "execution_count": 29,
   "metadata": {},
   "outputs": [
    {
     "data": {
      "text/html": [
       "<div><style>\n",
       ".dataframe > thead > tr,\n",
       ".dataframe > tbody > tr {\n",
       "  text-align: right;\n",
       "  white-space: pre-wrap;\n",
       "}\n",
       "</style>\n",
       "<small>shape: (10, 3)</small><table border=\"1\" class=\"dataframe\"><thead><tr><th>score_word_length_cat</th><th>count</th><th>percentage</th></tr><tr><td>str</td><td>u32</td><td>f64</td></tr></thead><tbody><tr><td>&quot;3_200&lt;x&lt;=400&quot;</td><td>749</td><td>0.043277</td></tr><tr><td>&quot;2_200&lt;x&lt;=400&quot;</td><td>499</td><td>0.028832</td></tr><tr><td>&quot;4_400&lt;x&lt;=600&quot;</td><td>421</td><td>0.024325</td></tr><tr><td>&quot;3_400&lt;x&lt;=600&quot;</td><td>258</td><td>0.014907</td></tr><tr><td>&quot;2_x&lt;=200&quot;</td><td>229</td><td>0.013232</td></tr><tr><td>&quot;4_200&lt;x&lt;=400&quot;</td><td>179</td><td>0.010343</td></tr><tr><td>&quot;1_200&lt;x&lt;=400&quot;</td><td>124</td><td>0.007165</td></tr><tr><td>&quot;5_400&lt;x&lt;=600&quot;</td><td>73</td><td>0.004218</td></tr><tr><td>&quot;5_600&lt;x&lt;=800&quot;</td><td>68</td><td>0.003929</td></tr><tr><td>&quot;1_x&lt;=200&quot;</td><td>66</td><td>0.003813</td></tr></tbody></table></div>"
      ],
      "text/plain": [
       "shape: (10, 3)\n",
       "┌───────────────────────┬───────┬────────────┐\n",
       "│ score_word_length_cat ┆ count ┆ percentage │\n",
       "│ ---                   ┆ ---   ┆ ---        │\n",
       "│ str                   ┆ u32   ┆ f64        │\n",
       "╞═══════════════════════╪═══════╪════════════╡\n",
       "│ 3_200<x<=400          ┆ 749   ┆ 0.043277   │\n",
       "│ 2_200<x<=400          ┆ 499   ┆ 0.028832   │\n",
       "│ 4_400<x<=600          ┆ 421   ┆ 0.024325   │\n",
       "│ 3_400<x<=600          ┆ 258   ┆ 0.014907   │\n",
       "│ 2_x<=200              ┆ 229   ┆ 0.013232   │\n",
       "│ 4_200<x<=400          ┆ 179   ┆ 0.010343   │\n",
       "│ 1_200<x<=400          ┆ 124   ┆ 0.007165   │\n",
       "│ 5_400<x<=600          ┆ 73    ┆ 0.004218   │\n",
       "│ 5_600<x<=800          ┆ 68    ┆ 0.003929   │\n",
       "│ 1_x<=200              ┆ 66    ┆ 0.003813   │\n",
       "└───────────────────────┴───────┴────────────┘"
      ]
     },
     "execution_count": 29,
     "metadata": {},
     "output_type": "execute_result"
    }
   ],
   "source": [
    "(\n",
    "    train_1.filter(pl.col(\"fold\") == 1)\n",
    "    .select(\n",
    "        pl.col(\"score_word_length_cat\").value_counts(),\n",
    "    )\n",
    "    .unnest(\"score_word_length_cat\")\n",
    "    .with_columns((pl.col(\"count\") / train.height).alias(\"percentage\"))\n",
    "    .sort(\"count\", descending=True)\n",
    "    .head(10)\n",
    ")"
   ]
  },
  {
   "cell_type": "code",
   "execution_count": 30,
   "metadata": {},
   "outputs": [
    {
     "data": {
      "text/html": [
       "<div><style>\n",
       ".dataframe > thead > tr,\n",
       ".dataframe > tbody > tr {\n",
       "  text-align: right;\n",
       "  white-space: pre-wrap;\n",
       "}\n",
       "</style>\n",
       "<small>shape: (7, 3)</small><table border=\"1\" class=\"dataframe\"><thead><tr><th>prompt_id</th><th>count</th><th>percentage</th></tr><tr><td>u32</td><td>u32</td><td>f64</td></tr></thead><tbody><tr><td>2</td><td>583</td><td>0.067375</td></tr><tr><td>5</td><td>506</td><td>0.058477</td></tr><tr><td>3</td><td>506</td><td>0.058477</td></tr><tr><td>1</td><td>347</td><td>0.040102</td></tr><tr><td>4</td><td>340</td><td>0.039293</td></tr><tr><td>0</td><td>327</td><td>0.03779</td></tr><tr><td>6</td><td>276</td><td>0.031896</td></tr></tbody></table></div>"
      ],
      "text/plain": [
       "shape: (7, 3)\n",
       "┌───────────┬───────┬────────────┐\n",
       "│ prompt_id ┆ count ┆ percentage │\n",
       "│ ---       ┆ ---   ┆ ---        │\n",
       "│ u32       ┆ u32   ┆ f64        │\n",
       "╞═══════════╪═══════╪════════════╡\n",
       "│ 2         ┆ 583   ┆ 0.067375   │\n",
       "│ 5         ┆ 506   ┆ 0.058477   │\n",
       "│ 3         ┆ 506   ┆ 0.058477   │\n",
       "│ 1         ┆ 347   ┆ 0.040102   │\n",
       "│ 4         ┆ 340   ┆ 0.039293   │\n",
       "│ 0         ┆ 327   ┆ 0.03779    │\n",
       "│ 6         ┆ 276   ┆ 0.031896   │\n",
       "└───────────┴───────┴────────────┘"
      ]
     },
     "execution_count": 30,
     "metadata": {},
     "output_type": "execute_result"
    }
   ],
   "source": [
    "(\n",
    "    train_1.filter(pl.col(\"fold\") == 0)\n",
    "    .select(\n",
    "        pl.col(\"prompt_id\").value_counts(),\n",
    "    )\n",
    "    .unnest(\"prompt_id\")\n",
    "    .with_columns((pl.col(\"count\") / train_1.height).alias(\"percentage\"))\n",
    "    .sort(\"count\", descending=True)\n",
    ")"
   ]
  },
  {
   "cell_type": "code",
   "execution_count": 31,
   "metadata": {},
   "outputs": [
    {
     "data": {
      "text/html": [
       "<div><style>\n",
       ".dataframe > thead > tr,\n",
       ".dataframe > tbody > tr {\n",
       "  text-align: right;\n",
       "  white-space: pre-wrap;\n",
       "}\n",
       "</style>\n",
       "<small>shape: (7, 3)</small><table border=\"1\" class=\"dataframe\"><thead><tr><th>prompt_id</th><th>count</th><th>percentage</th></tr><tr><td>u32</td><td>u32</td><td>f64</td></tr></thead><tbody><tr><td>2</td><td>581</td><td>0.067144</td></tr><tr><td>5</td><td>507</td><td>0.058592</td></tr><tr><td>3</td><td>502</td><td>0.058015</td></tr><tr><td>1</td><td>352</td><td>0.04068</td></tr><tr><td>4</td><td>340</td><td>0.039293</td></tr><tr><td>0</td><td>326</td><td>0.037675</td></tr><tr><td>6</td><td>276</td><td>0.031896</td></tr></tbody></table></div>"
      ],
      "text/plain": [
       "shape: (7, 3)\n",
       "┌───────────┬───────┬────────────┐\n",
       "│ prompt_id ┆ count ┆ percentage │\n",
       "│ ---       ┆ ---   ┆ ---        │\n",
       "│ u32       ┆ u32   ┆ f64        │\n",
       "╞═══════════╪═══════╪════════════╡\n",
       "│ 2         ┆ 581   ┆ 0.067144   │\n",
       "│ 5         ┆ 507   ┆ 0.058592   │\n",
       "│ 3         ┆ 502   ┆ 0.058015   │\n",
       "│ 1         ┆ 352   ┆ 0.04068    │\n",
       "│ 4         ┆ 340   ┆ 0.039293   │\n",
       "│ 0         ┆ 326   ┆ 0.037675   │\n",
       "│ 6         ┆ 276   ┆ 0.031896   │\n",
       "└───────────┴───────┴────────────┘"
      ]
     },
     "execution_count": 31,
     "metadata": {},
     "output_type": "execute_result"
    }
   ],
   "source": [
    "(\n",
    "    train_1.filter(pl.col(\"fold\") == 1)\n",
    "    .select(\n",
    "        pl.col(\"prompt_id\").value_counts(),\n",
    "    )\n",
    "    .unnest(\"prompt_id\")\n",
    "    .with_columns((pl.col(\"count\") / train_1.height).alias(\"percentage\"))\n",
    "    .sort(\"count\", descending=True)\n",
    ")"
   ]
  },
  {
   "cell_type": "code",
   "execution_count": 32,
   "metadata": {},
   "outputs": [
    {
     "data": {
      "text/html": [
       "<div><style>\n",
       ".dataframe > thead > tr,\n",
       ".dataframe > tbody > tr {\n",
       "  text-align: right;\n",
       "  white-space: pre-wrap;\n",
       "}\n",
       "</style>\n",
       "<small>shape: (3, 3)</small><table border=\"1\" class=\"dataframe\"><thead><tr><th>prompt_id</th><th>count</th><th>percentage</th></tr><tr><td>u32</td><td>u32</td><td>f64</td></tr></thead><tbody><tr><td>3</td><td>1508</td><td>0.174255</td></tr><tr><td>1</td><td>1046</td><td>0.120869</td></tr><tr><td>0</td><td>981</td><td>0.113358</td></tr></tbody></table></div>"
      ],
      "text/plain": [
       "shape: (3, 3)\n",
       "┌───────────┬───────┬────────────┐\n",
       "│ prompt_id ┆ count ┆ percentage │\n",
       "│ ---       ┆ ---   ┆ ---        │\n",
       "│ u32       ┆ u32   ┆ f64        │\n",
       "╞═══════════╪═══════╪════════════╡\n",
       "│ 3         ┆ 1508  ┆ 0.174255   │\n",
       "│ 1         ┆ 1046  ┆ 0.120869   │\n",
       "│ 0         ┆ 981   ┆ 0.113358   │\n",
       "└───────────┴───────┴────────────┘"
      ]
     },
     "execution_count": 32,
     "metadata": {},
     "output_type": "execute_result"
    }
   ],
   "source": [
    "(\n",
    "    train_2.filter(pl.col(\"fold\") == 0)\n",
    "    .select(\n",
    "        pl.col(\"prompt_id\").value_counts(),\n",
    "    )\n",
    "    .unnest(\"prompt_id\")\n",
    "    .with_columns((pl.col(\"count\") / train_2.height).alias(\"percentage\"))\n",
    "    .sort(\"count\", descending=True)\n",
    ")"
   ]
  },
  {
   "cell_type": "code",
   "execution_count": 33,
   "metadata": {},
   "outputs": [
    {
     "data": {
      "text/html": [
       "<div><style>\n",
       ".dataframe > thead > tr,\n",
       ".dataframe > tbody > tr {\n",
       "  text-align: right;\n",
       "  white-space: pre-wrap;\n",
       "}\n",
       "</style>\n",
       "<small>shape: (2, 3)</small><table border=\"1\" class=\"dataframe\"><thead><tr><th>prompt_id</th><th>count</th><th>percentage</th></tr><tr><td>u32</td><td>u32</td><td>f64</td></tr></thead><tbody><tr><td>2</td><td>1749</td><td>0.202103</td></tr><tr><td>6</td><td>825</td><td>0.095332</td></tr></tbody></table></div>"
      ],
      "text/plain": [
       "shape: (2, 3)\n",
       "┌───────────┬───────┬────────────┐\n",
       "│ prompt_id ┆ count ┆ percentage │\n",
       "│ ---       ┆ ---   ┆ ---        │\n",
       "│ u32       ┆ u32   ┆ f64        │\n",
       "╞═══════════╪═══════╪════════════╡\n",
       "│ 2         ┆ 1749  ┆ 0.202103   │\n",
       "│ 6         ┆ 825   ┆ 0.095332   │\n",
       "└───────────┴───────┴────────────┘"
      ]
     },
     "execution_count": 33,
     "metadata": {},
     "output_type": "execute_result"
    }
   ],
   "source": [
    "(\n",
    "    train_2.filter(pl.col(\"fold\") == 1)\n",
    "    .select(\n",
    "        pl.col(\"prompt_id\").value_counts(),\n",
    "    )\n",
    "    .unnest(\"prompt_id\")\n",
    "    .with_columns((pl.col(\"count\") / train_2.height).alias(\"percentage\"))\n",
    "    .sort(\"count\", descending=True)\n",
    ")"
   ]
  },
  {
   "cell_type": "code",
   "execution_count": 35,
   "metadata": {},
   "outputs": [
    {
     "data": {
      "text/html": [
       "<div><style>\n",
       ".dataframe > thead > tr,\n",
       ".dataframe > tbody > tr {\n",
       "  text-align: right;\n",
       "  white-space: pre-wrap;\n",
       "}\n",
       "</style>\n",
       "<small>shape: (9, 3)</small><table border=\"1\" class=\"dataframe\"><thead><tr><th>prompt_id</th><th>count</th><th>percentage</th></tr><tr><td>u32</td><td>u32</td><td>f64</td></tr></thead><tbody><tr><td>7</td><td>358</td><td>0.054557</td></tr><tr><td>2</td><td>294</td><td>0.044803</td></tr><tr><td>3</td><td>280</td><td>0.04267</td></tr><tr><td>6</td><td>274</td><td>0.041756</td></tr><tr><td>5</td><td>270</td><td>0.041146</td></tr><tr><td>4</td><td>257</td><td>0.039165</td></tr><tr><td>8</td><td>257</td><td>0.039165</td></tr><tr><td>0</td><td>197</td><td>0.030021</td></tr><tr><td>1</td><td>1</td><td>0.000152</td></tr></tbody></table></div>"
      ],
      "text/plain": [
       "shape: (9, 3)\n",
       "┌───────────┬───────┬────────────┐\n",
       "│ prompt_id ┆ count ┆ percentage │\n",
       "│ ---       ┆ ---   ┆ ---        │\n",
       "│ u32       ┆ u32   ┆ f64        │\n",
       "╞═══════════╪═══════╪════════════╡\n",
       "│ 7         ┆ 358   ┆ 0.054557   │\n",
       "│ 2         ┆ 294   ┆ 0.044803   │\n",
       "│ 3         ┆ 280   ┆ 0.04267    │\n",
       "│ 6         ┆ 274   ┆ 0.041756   │\n",
       "│ 5         ┆ 270   ┆ 0.041146   │\n",
       "│ 4         ┆ 257   ┆ 0.039165   │\n",
       "│ 8         ┆ 257   ┆ 0.039165   │\n",
       "│ 0         ┆ 197   ┆ 0.030021   │\n",
       "│ 1         ┆ 1     ┆ 0.000152   │\n",
       "└───────────┴───────┴────────────┘"
      ]
     },
     "execution_count": 35,
     "metadata": {},
     "output_type": "execute_result"
    }
   ],
   "source": [
    "(\n",
    "    persuade_1.filter(pl.col(\"fold\") == 3)\n",
    "    .select(\n",
    "        pl.col(\"prompt_id\").value_counts(),\n",
    "    )\n",
    "    .unnest(\"prompt_id\")\n",
    "    .with_columns((pl.col(\"count\") / persuade_1.height).alias(\"percentage\"))\n",
    "    .sort(\"count\", descending=True)\n",
    ")"
   ]
  },
  {
   "cell_type": "code",
   "execution_count": 36,
   "metadata": {},
   "outputs": [
    {
     "data": {
      "text/html": [
       "<div><style>\n",
       ".dataframe > thead > tr,\n",
       ".dataframe > tbody > tr {\n",
       "  text-align: right;\n",
       "  white-space: pre-wrap;\n",
       "}\n",
       "</style>\n",
       "<small>shape: (8, 3)</small><table border=\"1\" class=\"dataframe\"><thead><tr><th>prompt_id</th><th>count</th><th>percentage</th></tr><tr><td>u32</td><td>u32</td><td>f64</td></tr></thead><tbody><tr><td>7</td><td>360</td><td>0.054861</td></tr><tr><td>2</td><td>289</td><td>0.044041</td></tr><tr><td>3</td><td>277</td><td>0.042213</td></tr><tr><td>6</td><td>277</td><td>0.042213</td></tr><tr><td>5</td><td>271</td><td>0.041298</td></tr><tr><td>8</td><td>263</td><td>0.040079</td></tr><tr><td>4</td><td>257</td><td>0.039165</td></tr><tr><td>0</td><td>193</td><td>0.029412</td></tr></tbody></table></div>"
      ],
      "text/plain": [
       "shape: (8, 3)\n",
       "┌───────────┬───────┬────────────┐\n",
       "│ prompt_id ┆ count ┆ percentage │\n",
       "│ ---       ┆ ---   ┆ ---        │\n",
       "│ u32       ┆ u32   ┆ f64        │\n",
       "╞═══════════╪═══════╪════════════╡\n",
       "│ 7         ┆ 360   ┆ 0.054861   │\n",
       "│ 2         ┆ 289   ┆ 0.044041   │\n",
       "│ 3         ┆ 277   ┆ 0.042213   │\n",
       "│ 6         ┆ 277   ┆ 0.042213   │\n",
       "│ 5         ┆ 271   ┆ 0.041298   │\n",
       "│ 8         ┆ 263   ┆ 0.040079   │\n",
       "│ 4         ┆ 257   ┆ 0.039165   │\n",
       "│ 0         ┆ 193   ┆ 0.029412   │\n",
       "└───────────┴───────┴────────────┘"
      ]
     },
     "execution_count": 36,
     "metadata": {},
     "output_type": "execute_result"
    }
   ],
   "source": [
    "(\n",
    "    persuade_1.filter(pl.col(\"fold\") == 4)\n",
    "    .select(\n",
    "        pl.col(\"prompt_id\").value_counts(),\n",
    "    )\n",
    "    .unnest(\"prompt_id\")\n",
    "    .with_columns((pl.col(\"count\") / persuade_1.height).alias(\"percentage\"))\n",
    "    .sort(\"count\", descending=True)\n",
    ")"
   ]
  },
  {
   "cell_type": "code",
   "execution_count": 37,
   "metadata": {},
   "outputs": [
    {
     "data": {
      "text/html": [
       "<div><style>\n",
       ".dataframe > thead > tr,\n",
       ".dataframe > tbody > tr {\n",
       "  text-align: right;\n",
       "  white-space: pre-wrap;\n",
       "}\n",
       "</style>\n",
       "<small>shape: (2, 3)</small><table border=\"1\" class=\"dataframe\"><thead><tr><th>prompt_id</th><th>count</th><th>percentage</th></tr><tr><td>u32</td><td>u32</td><td>f64</td></tr></thead><tbody><tr><td>8</td><td>776</td><td>0.118257</td></tr><tr><td>0</td><td>584</td><td>0.088997</td></tr></tbody></table></div>"
      ],
      "text/plain": [
       "shape: (2, 3)\n",
       "┌───────────┬───────┬────────────┐\n",
       "│ prompt_id ┆ count ┆ percentage │\n",
       "│ ---       ┆ ---   ┆ ---        │\n",
       "│ u32       ┆ u32   ┆ f64        │\n",
       "╞═══════════╪═══════╪════════════╡\n",
       "│ 8         ┆ 776   ┆ 0.118257   │\n",
       "│ 0         ┆ 584   ┆ 0.088997   │\n",
       "└───────────┴───────┴────────────┘"
      ]
     },
     "execution_count": 37,
     "metadata": {},
     "output_type": "execute_result"
    }
   ],
   "source": [
    "(\n",
    "    persuade_2.filter(pl.col(\"fold\") == 3)\n",
    "    .select(\n",
    "        pl.col(\"prompt_id\").value_counts(),\n",
    "    )\n",
    "    .unnest(\"prompt_id\")\n",
    "    .with_columns((pl.col(\"count\") / persuade_1.height).alias(\"percentage\"))\n",
    "    .sort(\"count\", descending=True)\n",
    ")"
   ]
  },
  {
   "cell_type": "code",
   "execution_count": 38,
   "metadata": {},
   "outputs": [
    {
     "data": {
      "text/html": [
       "<div><style>\n",
       ".dataframe > thead > tr,\n",
       ".dataframe > tbody > tr {\n",
       "  text-align: right;\n",
       "  white-space: pre-wrap;\n",
       "}\n",
       "</style>\n",
       "<small>shape: (3, 3)</small><table border=\"1\" class=\"dataframe\"><thead><tr><th>prompt_id</th><th>count</th><th>percentage</th></tr><tr><td>u32</td><td>u32</td><td>f64</td></tr></thead><tbody><tr><td>7</td><td>1079</td><td>0.164432</td></tr><tr><td>2</td><td>875</td><td>0.133343</td></tr><tr><td>5</td><td>813</td><td>0.123895</td></tr></tbody></table></div>"
      ],
      "text/plain": [
       "shape: (3, 3)\n",
       "┌───────────┬───────┬────────────┐\n",
       "│ prompt_id ┆ count ┆ percentage │\n",
       "│ ---       ┆ ---   ┆ ---        │\n",
       "│ u32       ┆ u32   ┆ f64        │\n",
       "╞═══════════╪═══════╪════════════╡\n",
       "│ 7         ┆ 1079  ┆ 0.164432   │\n",
       "│ 2         ┆ 875   ┆ 0.133343   │\n",
       "│ 5         ┆ 813   ┆ 0.123895   │\n",
       "└───────────┴───────┴────────────┘"
      ]
     },
     "execution_count": 38,
     "metadata": {},
     "output_type": "execute_result"
    }
   ],
   "source": [
    "(\n",
    "    persuade_2.filter(pl.col(\"fold\") == 4)\n",
    "    .select(\n",
    "        pl.col(\"prompt_id\").value_counts(),\n",
    "    )\n",
    "    .unnest(\"prompt_id\")\n",
    "    .with_columns((pl.col(\"count\") / persuade_1.height).alias(\"percentage\"))\n",
    "    .sort(\"count\", descending=True)\n",
    ")"
   ]
  },
  {
   "cell_type": "code",
   "execution_count": null,
   "metadata": {},
   "outputs": [],
   "source": []
  }
 ],
 "metadata": {
  "kernelspec": {
   "display_name": ".venv",
   "language": "python",
   "name": "python3"
  },
  "language_info": {
   "codemirror_mode": {
    "name": "ipython",
    "version": 3
   },
   "file_extension": ".py",
   "mimetype": "text/x-python",
   "name": "python",
   "nbconvert_exporter": "python",
   "pygments_lexer": "ipython3",
   "version": "3.11.7"
  }
 },
 "nbformat": 4,
 "nbformat_minor": 2
}
