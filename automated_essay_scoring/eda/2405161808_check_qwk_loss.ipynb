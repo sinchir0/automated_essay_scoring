{
 "cells": [
  {
   "cell_type": "code",
   "execution_count": null,
   "metadata": {},
   "outputs": [],
   "source": [
    "# https://www.kaggle.com/code/gennadylaptev/qwk-loss-for-pytorch/notebook"
   ]
  },
  {
   "cell_type": "code",
   "execution_count": 16,
   "metadata": {},
   "outputs": [],
   "source": [
    "import numpy as np\n",
    "import torch\n",
    "\n",
    "device = torch.device(\"cuda\" if torch.cuda.is_available() else \"cpu\")\n",
    "\n",
    "\n",
    "def kappa_loss(\n",
    "    p: torch.tensor, y: torch.tensor, n_classes: int = 6, eps: float = 1e-10\n",
    ") -> float:\n",
    "    \"\"\"\n",
    "    QWK loss function as described in https://arxiv.org/pdf/1612.00775.pdf\n",
    "\n",
    "    Arguments:\n",
    "        p: a tensor with probability predictions, [batch_size, n_classes],\n",
    "        y, a tensor with one-hot encoded class labels, [batch_size, n_classes]\n",
    "    Returns:\n",
    "        QWK loss\n",
    "    \"\"\"\n",
    "\n",
    "    W = np.zeros((n_classes, n_classes))\n",
    "    for i in range(n_classes):\n",
    "        for j in range(n_classes):\n",
    "            W[i, j] = (i - j) ** 2\n",
    "\n",
    "    W = torch.from_numpy(W.astype(np.float32)).to(device)\n",
    "\n",
    "    O = torch.matmul(y.t(), p)\n",
    "    E = torch.matmul(y.sum(dim=0).view(-1, 1), p.sum(dim=0).view(1, -1)) / O.sum()\n",
    "\n",
    "    return 1 - (W * O).sum() / ((W * E).sum() + eps)"
   ]
  },
  {
   "cell_type": "code",
   "execution_count": 17,
   "metadata": {},
   "outputs": [
    {
     "data": {
      "text/plain": [
       "tensor(0.)"
      ]
     },
     "execution_count": 17,
     "metadata": {},
     "output_type": "execute_result"
    }
   ],
   "source": [
    "test_y = torch.tensor([[1, 0, 0, 0, 0, 0]])\n",
    "test_p = torch.tensor([[0, 1, 0, 0, 0, 0]])\n",
    "\n",
    "kappa_loss(test_p, test_y)"
   ]
  },
  {
   "cell_type": "code",
   "execution_count": 21,
   "metadata": {},
   "outputs": [
    {
     "data": {
      "text/plain": [
       "tensor([1.3029, 0.5860, 1.1784])"
      ]
     },
     "execution_count": 21,
     "metadata": {},
     "output_type": "execute_result"
    }
   ],
   "source": [
    "torch.randn(3)"
   ]
  },
  {
   "cell_type": "code",
   "execution_count": 27,
   "metadata": {},
   "outputs": [
    {
     "data": {
      "text/plain": [
       "tensor(3)"
      ]
     },
     "execution_count": 27,
     "metadata": {},
     "output_type": "execute_result"
    }
   ],
   "source": [
    "tensor1 = torch.tensor([[2, 1, 0], [2, 1, 0]])\n",
    "tensor2 = torch.tensor([[1, 1, 2], [1, 1, 2]])\n",
    "\n",
    "torch.matmul(tensor1, tensor2)"
   ]
  },
  {
   "cell_type": "code",
   "execution_count": null,
   "metadata": {},
   "outputs": [],
   "source": []
  }
 ],
 "metadata": {
  "kernelspec": {
   "display_name": ".venv",
   "language": "python",
   "name": "python3"
  },
  "language_info": {
   "codemirror_mode": {
    "name": "ipython",
    "version": 3
   },
   "file_extension": ".py",
   "mimetype": "text/x-python",
   "name": "python",
   "nbconvert_exporter": "python",
   "pygments_lexer": "ipython3",
   "version": "3.11.7"
  }
 },
 "nbformat": 4,
 "nbformat_minor": 2
}
