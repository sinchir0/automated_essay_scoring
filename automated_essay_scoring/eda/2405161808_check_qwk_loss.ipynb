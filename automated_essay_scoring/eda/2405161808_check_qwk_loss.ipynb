{
 "cells": [
  {
   "cell_type": "code",
   "execution_count": 174,
   "metadata": {},
   "outputs": [],
   "source": [
    "# https://www.kaggle.com/code/gennadylaptev/qwk-loss-for-pytorch/notebook"
   ]
  },
  {
   "cell_type": "code",
   "execution_count": 175,
   "metadata": {},
   "outputs": [],
   "source": [
    "import numpy as np\n",
    "import torch\n",
    "\n",
    "device = torch.device(\"cuda\" if torch.cuda.is_available() else \"cpu\")\n",
    "\n",
    "\n",
    "# def kappa_loss(\n",
    "#     p: torch.tensor, y: torch.tensor, n_classes: int = 3, eps: float = 1e-10\n",
    "# ) -> float:\n",
    "#     \"\"\"\n",
    "#     QWK loss function as described in https://arxiv.org/pdf/1612.00775.pdf\n",
    "\n",
    "#     Arguments:\n",
    "#         p: a tensor with probability predictions, [batch_size, n_classes],\n",
    "#         y, a tensor with one-hot encoded class labels, [batch_size, n_classes]\n",
    "#     Returns:\n",
    "#         QWK loss\n",
    "#     \"\"\"\n",
    "\n",
    "#     W = np.zeros((n_classes, n_classes))\n",
    "#     for i in range(n_classes):\n",
    "#         for j in range(n_classes):\n",
    "#             W[i, j] = (i - j) ** 2\n",
    "\n",
    "#     W = torch.from_numpy(W.astype(np.float32)).to(device)\n",
    "\n",
    "#     O = torch.matmul(y.t(), p)\n",
    "#     E = torch.matmul(y.sum(dim=0).view(-1, 1), p.sum(dim=0).view(1, -1)) / O.sum()\n",
    "\n",
    "#     return (W * O).sum() / ((W * E).sum() + eps)\n",
    "\n",
    "\n",
    "def kappa_loss(p, y, n_classes=3, eps=1e-10):\n",
    "    \"\"\"\n",
    "    QWK loss function as described in https://arxiv.org/pdf/1612.00775.pdf\n",
    "\n",
    "    Arguments:\n",
    "        p: a tensor with probability predictions, [batch_size, n_classes],\n",
    "        y, a tensor with one-hot encoded class labels, [batch_size, n_classes]\n",
    "    Returns:\n",
    "        QWK loss\n",
    "    \"\"\"\n",
    "\n",
    "    W = np.zeros((n_classes, n_classes))\n",
    "    for i in range(n_classes):\n",
    "        for j in range(n_classes):\n",
    "            W[i, j] = (i - j) ** 2\n",
    "\n",
    "    W = torch.from_numpy(W.astype(np.float32)).to(device)\n",
    "\n",
    "    O = torch.matmul(y.t(), p)\n",
    "    E = torch.matmul(y.sum(dim=0).view(-1, 1), p.sum(dim=0).view(1, -1)) / O.sum()\n",
    "\n",
    "    return (W * O).sum() / ((W * E).sum() + eps)"
   ]
  },
  {
   "cell_type": "code",
   "execution_count": 176,
   "metadata": {},
   "outputs": [
    {
     "data": {
      "text/plain": [
       "tensor(1.)"
      ]
     },
     "execution_count": 176,
     "metadata": {},
     "output_type": "execute_result"
    }
   ],
   "source": [
    "test_p = torch.tensor([[0.0, 0.0, 1.0]])\n",
    "test_y = torch.tensor([[1.0, 0.0, 0.0]])\n",
    "\n",
    "kappa_loss(test_p, test_y)"
   ]
  },
  {
   "cell_type": "code",
   "execution_count": 207,
   "metadata": {},
   "outputs": [
    {
     "name": "stdout",
     "output_type": "stream",
     "text": [
      "tensor(0.)\n",
      "tensor(1.)\n",
      "tensor(1.)\n"
     ]
    }
   ],
   "source": [
    "test_p = torch.tensor([[1.0, 0.0, 0.0]])\n",
    "test_y = torch.tensor([[1.0, 0.0, 0.0]])\n",
    "\n",
    "print(kappa_loss(test_p, test_y))\n",
    "\n",
    "test_p = torch.tensor([[0.0, 1.0, 0.0]])\n",
    "test_y = torch.tensor([[1.0, 0.0, 0.0]])\n",
    "\n",
    "print(kappa_loss(test_p, test_y))\n",
    "\n",
    "test_p = torch.tensor([[0.0, 0.0, 1.0]])\n",
    "test_y = torch.tensor([[1.0, 0.0, 0.0]])\n",
    "\n",
    "print(kappa_loss(test_p, test_y))"
   ]
  },
  {
   "cell_type": "code",
   "execution_count": 208,
   "metadata": {},
   "outputs": [
    {
     "name": "stdout",
     "output_type": "stream",
     "text": [
      "tensor(1.)\n",
      "tensor(1.)\n",
      "tensor(1.)\n",
      "tensor(1.)\n"
     ]
    }
   ],
   "source": [
    "test_p = torch.tensor([[1.0, 0.0, 0.0]])\n",
    "test_y = torch.tensor([[0.60, 0.30, 0.10]])\n",
    "\n",
    "print(kappa_loss(test_p, test_y))\n",
    "\n",
    "test_p = torch.tensor([[0.0, 1.0, 0.0]])\n",
    "test_y = torch.tensor([[0.60, 0.30, 0.10]])\n",
    "\n",
    "print(kappa_loss(test_p, test_y))\n",
    "\n",
    "test_p = torch.tensor([[0.0, 0.0, 1.0]])\n",
    "test_y = torch.tensor([[0.60, 0.30, 0.10]])\n",
    "\n",
    "print(kappa_loss(test_p, test_y))\n",
    "\n",
    "test_p = torch.tensor([[0.60, 0.30, 0.10]])\n",
    "test_y = torch.tensor([[0.60, 0.30, 0.10]])\n",
    "\n",
    "print(kappa_loss(test_p, test_y))"
   ]
  },
  {
   "cell_type": "code",
   "execution_count": 179,
   "metadata": {},
   "outputs": [
    {
     "data": {
      "text/plain": [
       "torch.Tensor"
      ]
     },
     "execution_count": 179,
     "metadata": {},
     "output_type": "execute_result"
    }
   ],
   "source": [
    "type(test_p)"
   ]
  },
  {
   "cell_type": "code",
   "execution_count": 180,
   "metadata": {},
   "outputs": [
    {
     "data": {
      "text/plain": [
       "tensor([ 0.6078, -1.3214,  0.8973])"
      ]
     },
     "execution_count": 180,
     "metadata": {},
     "output_type": "execute_result"
    }
   ],
   "source": [
    "torch.randn(3)"
   ]
  },
  {
   "cell_type": "code",
   "execution_count": 181,
   "metadata": {},
   "outputs": [
    {
     "data": {
      "text/plain": [
       "tensor([[3, 3, 6],\n",
       "        [3, 3, 6],\n",
       "        [0, 0, 0]])"
      ]
     },
     "execution_count": 181,
     "metadata": {},
     "output_type": "execute_result"
    }
   ],
   "source": [
    "tensor1 = torch.tensor([[2, 1, 0], [1, 2, 0]])\n",
    "tensor2 = torch.tensor([[1, 1, 2], [1, 1, 2]])\n",
    "\n",
    "torch.matmul(tensor1.t(), tensor2)"
   ]
  },
  {
   "cell_type": "code",
   "execution_count": 182,
   "metadata": {},
   "outputs": [
    {
     "data": {
      "text/plain": [
       "tensor([[0., 0., 0.],\n",
       "        [0., 1., 0.],\n",
       "        [0., 0., 0.]])"
      ]
     },
     "execution_count": 182,
     "metadata": {},
     "output_type": "execute_result"
    }
   ],
   "source": [
    "tensor1 = torch.tensor(\n",
    "    [\n",
    "        [0.0, 1.0, 0.0],\n",
    "        # [1.0, 0.0, 0.0]\n",
    "    ]\n",
    ")\n",
    "tensor2 = torch.tensor(\n",
    "    [\n",
    "        [0.0, 1.0, 0.0],\n",
    "        # [1.0, 0.0, 0.0]\n",
    "    ]\n",
    ")\n",
    "\n",
    "torch.matmul(tensor1.t(), tensor2)"
   ]
  },
  {
   "cell_type": "code",
   "execution_count": 183,
   "metadata": {},
   "outputs": [
    {
     "data": {
      "text/plain": [
       "tensor([[0.4000, 0.3000, 0.0000],\n",
       "        [0.2000, 0.6000, 0.0000],\n",
       "        [0.4000, 0.1000, 0.0000]])"
      ]
     },
     "execution_count": 183,
     "metadata": {},
     "output_type": "execute_result"
    }
   ],
   "source": [
    "tensor1 = torch.tensor([[0.3, 0.6, 0.1], [0.4, 0.2, 0.4]])\n",
    "tensor2 = torch.tensor([[0.0, 1.0, 0.0], [1.0, 0.0, 0.0]])\n",
    "\n",
    "torch.matmul(tensor1.t(), tensor2)\n",
    "# 行: 予測\n",
    "# 列: 正解\n",
    "# 例えば、1列目は、正解が1の時、予測確率はそれぞれ0.4, 0.2, 0.4であることを表す。"
   ]
  },
  {
   "cell_type": "code",
   "execution_count": 184,
   "metadata": {},
   "outputs": [
    {
     "data": {
      "text/plain": [
       "tensor([[0., 0., 0.],\n",
       "        [4., 0., 0.],\n",
       "        [0., 0., 0.]])"
      ]
     },
     "execution_count": 184,
     "metadata": {},
     "output_type": "execute_result"
    }
   ],
   "source": [
    "tensor1 = torch.tensor([[1.0, 0.0, 0.0], [1.0, 0.0, 0.0]])\n",
    "tensor2 = torch.tensor([[0.0, 1.0, 0.0], [0.0, 1.0, 0.0]])\n",
    "\n",
    "torch.matmul(tensor2.sum(dim=0).view(-1, 1), tensor1.sum(dim=0).view(1, -1))"
   ]
  },
  {
   "cell_type": "code",
   "execution_count": 185,
   "metadata": {},
   "outputs": [
    {
     "data": {
      "text/plain": [
       "tensor([[0., 0., 0.],\n",
       "        [4., 0., 0.],\n",
       "        [0., 0., 0.]])"
      ]
     },
     "execution_count": 185,
     "metadata": {},
     "output_type": "execute_result"
    }
   ],
   "source": [
    "tensor1 = torch.tensor([[1.0, 0.0, 0.0], [1.0, 0.0, 0.0]])\n",
    "tensor2 = torch.tensor([[0.0, 1.0, 0.0], [0.0, 1.0, 0.0]])\n",
    "\n",
    "torch.matmul(tensor2.sum(dim=0).view(-1, 1), tensor1.sum(dim=0).view(1, -1))"
   ]
  },
  {
   "cell_type": "code",
   "execution_count": 186,
   "metadata": {},
   "outputs": [
    {
     "data": {
      "text/plain": [
       "tensor([[0.],\n",
       "        [2.],\n",
       "        [0.]])"
      ]
     },
     "execution_count": 186,
     "metadata": {},
     "output_type": "execute_result"
    }
   ],
   "source": [
    "tensor2.sum(dim=0).view(-1, 1)"
   ]
  },
  {
   "cell_type": "code",
   "execution_count": 187,
   "metadata": {},
   "outputs": [
    {
     "data": {
      "text/plain": [
       "tensor([[2., 0., 0.]])"
      ]
     },
     "execution_count": 187,
     "metadata": {},
     "output_type": "execute_result"
    }
   ],
   "source": [
    "tensor1.sum(dim=0).view(1, -1)"
   ]
  },
  {
   "cell_type": "code",
   "execution_count": 188,
   "metadata": {},
   "outputs": [
    {
     "data": {
      "text/plain": [
       "tensor([[0., 0., 0.],\n",
       "        [4., 0., 0.],\n",
       "        [0., 0., 0.]])"
      ]
     },
     "execution_count": 188,
     "metadata": {},
     "output_type": "execute_result"
    }
   ],
   "source": [
    "torch.matmul(tensor2.sum(dim=0).view(-1, 1), tensor1.sum(dim=0).view(1, -1))"
   ]
  },
  {
   "cell_type": "code",
   "execution_count": 189,
   "metadata": {},
   "outputs": [
    {
     "data": {
      "text/plain": [
       "1.0"
      ]
     },
     "execution_count": 189,
     "metadata": {},
     "output_type": "execute_result"
    }
   ],
   "source": [
    "from sklearn.metrics import cohen_kappa_score\n",
    "\n",
    "cohen_kappa_score([1, 2, 3], [1, 2, 3])"
   ]
  },
  {
   "cell_type": "code",
   "execution_count": 190,
   "metadata": {},
   "outputs": [
    {
     "data": {
      "text/plain": [
       "0.5"
      ]
     },
     "execution_count": 190,
     "metadata": {},
     "output_type": "execute_result"
    }
   ],
   "source": [
    "cohen_kappa_score([1, 1, 3], [1, 2, 3])"
   ]
  },
  {
   "cell_type": "code",
   "execution_count": 191,
   "metadata": {},
   "outputs": [
    {
     "data": {
      "text/plain": [
       "0.5"
      ]
     },
     "execution_count": 191,
     "metadata": {},
     "output_type": "execute_result"
    }
   ],
   "source": [
    "cohen_kappa_score([1, 2, 2], [1, 2, 3])"
   ]
  },
  {
   "cell_type": "code",
   "execution_count": 192,
   "metadata": {},
   "outputs": [
    {
     "data": {
      "text/plain": [
       "-0.5"
      ]
     },
     "execution_count": 192,
     "metadata": {},
     "output_type": "execute_result"
    }
   ],
   "source": [
    "cohen_kappa_score([0.0, 1.0, 0.0], [0.0, 0.0, 1.0])"
   ]
  },
  {
   "cell_type": "code",
   "execution_count": 193,
   "metadata": {},
   "outputs": [
    {
     "data": {
      "text/plain": [
       "1.0"
      ]
     },
     "execution_count": 193,
     "metadata": {},
     "output_type": "execute_result"
    }
   ],
   "source": [
    "cohen_kappa_score([1, 2, 3], [1, 2, 3])"
   ]
  },
  {
   "cell_type": "code",
   "execution_count": 194,
   "metadata": {},
   "outputs": [
    {
     "data": {
      "text/plain": [
       "0.5"
      ]
     },
     "execution_count": 194,
     "metadata": {},
     "output_type": "execute_result"
    }
   ],
   "source": [
    "cohen_kappa_score([2, 2, 3], [1, 2, 3])"
   ]
  },
  {
   "cell_type": "code",
   "execution_count": 195,
   "metadata": {},
   "outputs": [
    {
     "data": {
      "text/plain": [
       "0.5"
      ]
     },
     "execution_count": 195,
     "metadata": {},
     "output_type": "execute_result"
    }
   ],
   "source": [
    "cohen_kappa_score([3, 2, 3], [1, 2, 3])"
   ]
  },
  {
   "cell_type": "code",
   "execution_count": 196,
   "metadata": {},
   "outputs": [
    {
     "data": {
      "text/plain": [
       "0.5"
      ]
     },
     "execution_count": 196,
     "metadata": {},
     "output_type": "execute_result"
    }
   ],
   "source": [
    "cohen_kappa_score([1, 2, 2], [1, 2, 3])"
   ]
  },
  {
   "cell_type": "code",
   "execution_count": 197,
   "metadata": {},
   "outputs": [
    {
     "data": {
      "text/plain": [
       "-0.5"
      ]
     },
     "execution_count": 197,
     "metadata": {},
     "output_type": "execute_result"
    }
   ],
   "source": [
    "cohen_kappa_score([2, 1, 1], [1, 2, 3])"
   ]
  },
  {
   "cell_type": "code",
   "execution_count": 198,
   "metadata": {},
   "outputs": [
    {
     "data": {
      "text/plain": [
       "0.5"
      ]
     },
     "execution_count": 198,
     "metadata": {},
     "output_type": "execute_result"
    }
   ],
   "source": [
    "cohen_kappa_score([1, 2, 1], [1, 2, 3])"
   ]
  },
  {
   "cell_type": "code",
   "execution_count": 199,
   "metadata": {},
   "outputs": [
    {
     "data": {
      "text/plain": [
       "1.0"
      ]
     },
     "execution_count": 199,
     "metadata": {},
     "output_type": "execute_result"
    }
   ],
   "source": [
    "cohen_kappa_score([1, 2, 3], [1, 2, 3])"
   ]
  },
  {
   "cell_type": "code",
   "execution_count": 200,
   "metadata": {},
   "outputs": [
    {
     "data": {
      "text/plain": [
       "0.0"
      ]
     },
     "execution_count": 200,
     "metadata": {},
     "output_type": "execute_result"
    }
   ],
   "source": [
    "cohen_kappa_score([1, 3, 2], [1, 2, 3])"
   ]
  },
  {
   "cell_type": "code",
   "execution_count": 201,
   "metadata": {},
   "outputs": [
    {
     "data": {
      "text/plain": [
       "-0.5"
      ]
     },
     "execution_count": 201,
     "metadata": {},
     "output_type": "execute_result"
    }
   ],
   "source": [
    "cohen_kappa_score([3, 1, 2], [1, 2, 3])"
   ]
  },
  {
   "cell_type": "code",
   "execution_count": 202,
   "metadata": {},
   "outputs": [
    {
     "data": {
      "text/plain": [
       "0.0"
      ]
     },
     "execution_count": 202,
     "metadata": {},
     "output_type": "execute_result"
    }
   ],
   "source": [
    "cohen_kappa_score([3, 2, 1], [1, 2, 3])"
   ]
  },
  {
   "cell_type": "code",
   "execution_count": null,
   "metadata": {},
   "outputs": [],
   "source": []
  }
 ],
 "metadata": {
  "kernelspec": {
   "display_name": ".venv",
   "language": "python",
   "name": "python3"
  },
  "language_info": {
   "codemirror_mode": {
    "name": "ipython",
    "version": 3
   },
   "file_extension": ".py",
   "mimetype": "text/x-python",
   "name": "python",
   "nbconvert_exporter": "python",
   "pygments_lexer": "ipython3",
   "version": "3.11.7"
  }
 },
 "nbformat": 4,
 "nbformat_minor": 2
}
