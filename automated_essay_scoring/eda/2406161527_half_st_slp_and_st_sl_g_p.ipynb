{
 "cells": [
  {
   "cell_type": "code",
   "execution_count": 1,
   "metadata": {},
   "outputs": [],
   "source": [
    "import polars as pl\n",
    "\n",
    "DATA_PATH = \"../../data/\"\n",
    "\n",
    "train = pl.read_csv(DATA_PATH + \"train.csv\")\n",
    "predicted_prompt = pl.read_csv(DATA_PATH + \"predicted_prompt.csv\")"
   ]
  },
  {
   "cell_type": "code",
   "execution_count": 2,
   "metadata": {},
   "outputs": [
    {
     "data": {
      "text/html": [
       "<div><style>\n",
       ".dataframe > thead > tr,\n",
       ".dataframe > tbody > tr {\n",
       "  text-align: right;\n",
       "  white-space: pre-wrap;\n",
       "}\n",
       "</style>\n",
       "<small>shape: (17_307, 3)</small><table border=\"1\" class=\"dataframe\"><thead><tr><th>essay_id</th><th>full_text</th><th>score</th></tr><tr><td>str</td><td>str</td><td>i64</td></tr></thead><tbody><tr><td>&quot;000d118&quot;</td><td>&quot;Many people have car where the…</td><td>3</td></tr><tr><td>&quot;000fe60&quot;</td><td>&quot;I am a scientist at NASA that …</td><td>3</td></tr><tr><td>&quot;001ab80&quot;</td><td>&quot;People always wish they had th…</td><td>4</td></tr><tr><td>&quot;001bdc0&quot;</td><td>&quot;We all heard about Venus, the …</td><td>4</td></tr><tr><td>&quot;002ba53&quot;</td><td>&quot;Dear, State Senator\n",
       "\n",
       "This is a…</td><td>3</td></tr><tr><td>&hellip;</td><td>&hellip;</td><td>&hellip;</td></tr><tr><td>&quot;ffd378d&quot;</td><td>&quot;the story &quot; The Challenge of E…</td><td>2</td></tr><tr><td>&quot;ffddf1f&quot;</td><td>&quot;Technology has changed a lot o…</td><td>4</td></tr><tr><td>&quot;fff016d&quot;</td><td>&quot;If you don&#x27;t like sitting arou…</td><td>2</td></tr><tr><td>&quot;fffb49b&quot;</td><td>&quot;In &quot;The Challenge of Exporing …</td><td>1</td></tr><tr><td>&quot;fffed3e&quot;</td><td>&quot;Venus is worthy place to study…</td><td>2</td></tr></tbody></table></div>"
      ],
      "text/plain": [
       "shape: (17_307, 3)\n",
       "┌──────────┬─────────────────────────────────┬───────┐\n",
       "│ essay_id ┆ full_text                       ┆ score │\n",
       "│ ---      ┆ ---                             ┆ ---   │\n",
       "│ str      ┆ str                             ┆ i64   │\n",
       "╞══════════╪═════════════════════════════════╪═══════╡\n",
       "│ 000d118  ┆ Many people have car where the… ┆ 3     │\n",
       "│ 000fe60  ┆ I am a scientist at NASA that … ┆ 3     │\n",
       "│ 001ab80  ┆ People always wish they had th… ┆ 4     │\n",
       "│ 001bdc0  ┆ We all heard about Venus, the … ┆ 4     │\n",
       "│ 002ba53  ┆ Dear, State Senator             ┆ 3     │\n",
       "│          ┆                                 ┆       │\n",
       "│          ┆ This is a…                      ┆       │\n",
       "│ …        ┆ …                               ┆ …     │\n",
       "│ ffd378d  ┆ the story \" The Challenge of E… ┆ 2     │\n",
       "│ ffddf1f  ┆ Technology has changed a lot o… ┆ 4     │\n",
       "│ fff016d  ┆ If you don't like sitting arou… ┆ 2     │\n",
       "│ fffb49b  ┆ In \"The Challenge of Exporing … ┆ 1     │\n",
       "│ fffed3e  ┆ Venus is worthy place to study… ┆ 2     │\n",
       "└──────────┴─────────────────────────────────┴───────┘"
      ]
     },
     "execution_count": 2,
     "metadata": {},
     "output_type": "execute_result"
    }
   ],
   "source": [
    "train"
   ]
  },
  {
   "cell_type": "code",
   "execution_count": 3,
   "metadata": {},
   "outputs": [],
   "source": [
    "train = train.join(  # prompt_nameを付与する\n",
    "    predicted_prompt.select(pl.col([\"essay_id\", \"prompt_name\"])),\n",
    "    how=\"left\",\n",
    "    on=\"essay_id\",\n",
    ")"
   ]
  },
  {
   "cell_type": "code",
   "execution_count": 4,
   "metadata": {},
   "outputs": [
    {
     "name": "stderr",
     "output_type": "stream",
     "text": [
      "/Users/shinichiro.saito/automated_essay_scoring/.venv/lib/python3.11/site-packages/tqdm/auto.py:21: TqdmWarning: IProgress not found. Please update jupyter and ipywidgets. See https://ipywidgets.readthedocs.io/en/stable/user_install.html\n",
      "  from .autonotebook import tqdm as notebook_tqdm\n"
     ]
    }
   ],
   "source": [
    "from datasets import load_dataset\n",
    "\n",
    "# 追加データ\n",
    "persuade_dataset = (\n",
    "    load_dataset(\n",
    "        \"csv\",\n",
    "        data_files={\"train\": f\"{DATA_PATH}/persuade_w_is_tr_con_as_num.csv\"},\n",
    "        split=\"train\",\n",
    "    )\n",
    "    .filter(lambda x: not x[\"is_train_contains\"])\n",
    "    .select_columns(\n",
    "        [\"essay_id_comp\", \"full_text\", \"holistic_essay_score\", \"prompt_name\"]\n",
    "    )\n",
    "    .rename_columns({\"essay_id_comp\": \"essay_id\", \"holistic_essay_score\": \"score\"})\n",
    ")\n",
    "\n",
    "persuade_df = pl.DataFrame(persuade_dataset.to_pandas())"
   ]
  },
  {
   "cell_type": "code",
   "execution_count": 5,
   "metadata": {},
   "outputs": [],
   "source": [
    "train = pl.concat([train, persuade_df])"
   ]
  },
  {
   "cell_type": "code",
   "execution_count": 6,
   "metadata": {},
   "outputs": [],
   "source": [
    "train = train.with_columns(  # prompt_nameをlabel encodingする\n",
    "    pl.col(\"prompt_name\").cast(pl.Categorical).to_physical().alias(\"prompt_id\")\n",
    ")"
   ]
  },
  {
   "cell_type": "code",
   "execution_count": 7,
   "metadata": {},
   "outputs": [],
   "source": [
    "train = train.with_columns(\n",
    "    pl.col(\"full_text\")\n",
    "    .map_elements(lambda x: len(x.split()), return_dtype=pl.Int64)\n",
    "    .alias(\"word_length\"),\n",
    ")"
   ]
  },
  {
   "cell_type": "code",
   "execution_count": 8,
   "metadata": {},
   "outputs": [],
   "source": [
    "train = train.with_columns(\n",
    "    pl.when(pl.col(\"word_length\") <= 200)\n",
    "    .then(pl.lit(\"x<=200\"))\n",
    "    .when(pl.col(\"word_length\") <= 400)\n",
    "    .then(pl.lit(\"200<x<=400\"))\n",
    "    .when(pl.col(\"word_length\") <= 600)\n",
    "    .then(pl.lit(\"400<x<=600\"))\n",
    "    .when(pl.col(\"word_length\") <= 800)\n",
    "    .then(pl.lit(\"600<x<=800\"))\n",
    "    .when(pl.col(\"word_length\") <= 1000)\n",
    "    .then(pl.lit(\"800<x<=1000\"))\n",
    "    .when(pl.col(\"word_length\") <= 1200)\n",
    "    .then(pl.lit(\"1000<x<=1200\"))\n",
    "    .when(pl.col(\"word_length\") > 1200)\n",
    "    .then(pl.lit(\"x>1200\"))\n",
    "    .alias(\"word_length_cat\"),\n",
    ")"
   ]
  },
  {
   "cell_type": "code",
   "execution_count": 9,
   "metadata": {},
   "outputs": [],
   "source": [
    "train = train.with_columns(\n",
    "    pl.concat_str(\n",
    "        pl.col(\"score\"),\n",
    "        pl.col(\"word_length_cat\"),\n",
    "        separator=\"_\",\n",
    "    ).alias(\"score_word_length_cat\")\n",
    ").with_columns(\n",
    "    pl.concat_str(\n",
    "        pl.col(\"score_word_length_cat\"),\n",
    "        pl.col(\"prompt_id\"),\n",
    "        separator=\"_\",\n",
    "    ).alias(\"concat_score_word_length_prompt_id\")\n",
    ")"
   ]
  },
  {
   "cell_type": "code",
   "execution_count": 10,
   "metadata": {},
   "outputs": [
    {
     "data": {
      "text/html": [
       "<div><style>\n",
       ".dataframe > thead > tr,\n",
       ".dataframe > tbody > tr {\n",
       "  text-align: right;\n",
       "  white-space: pre-wrap;\n",
       "}\n",
       "</style>\n",
       "<small>shape: (10, 9)</small><table border=\"1\" class=\"dataframe\"><thead><tr><th>essay_id</th><th>full_text</th><th>score</th><th>prompt_name</th><th>prompt_id</th><th>word_length</th><th>word_length_cat</th><th>score_word_length_cat</th><th>concat_score_word_length_prompt_id</th></tr><tr><td>str</td><td>str</td><td>i64</td><td>str</td><td>u32</td><td>i64</td><td>str</td><td>str</td><td>str</td></tr></thead><tbody><tr><td>&quot;000d118&quot;</td><td>&quot;Many people have car where the…</td><td>3</td><td>&quot;Car-free cities&quot;</td><td>0</td><td>498</td><td>&quot;400&lt;x&lt;=600&quot;</td><td>&quot;3_400&lt;x&lt;=600&quot;</td><td>&quot;3_400&lt;x&lt;=600_0&quot;</td></tr><tr><td>&quot;000fe60&quot;</td><td>&quot;I am a scientist at NASA that …</td><td>3</td><td>&quot;The Face on Mars&quot;</td><td>1</td><td>332</td><td>&quot;200&lt;x&lt;=400&quot;</td><td>&quot;3_200&lt;x&lt;=400&quot;</td><td>&quot;3_200&lt;x&lt;=400_1&quot;</td></tr><tr><td>&quot;001ab80&quot;</td><td>&quot;People always wish they had th…</td><td>4</td><td>&quot;Driverless cars&quot;</td><td>2</td><td>550</td><td>&quot;400&lt;x&lt;=600&quot;</td><td>&quot;4_400&lt;x&lt;=600&quot;</td><td>&quot;4_400&lt;x&lt;=600_2&quot;</td></tr><tr><td>&quot;001bdc0&quot;</td><td>&quot;We all heard about Venus, the …</td><td>4</td><td>&quot;Exploring Venus&quot;</td><td>3</td><td>451</td><td>&quot;400&lt;x&lt;=600&quot;</td><td>&quot;4_400&lt;x&lt;=600&quot;</td><td>&quot;4_400&lt;x&lt;=600_3&quot;</td></tr><tr><td>&quot;002ba53&quot;</td><td>&quot;Dear, State Senator\n",
       "\n",
       "This is a…</td><td>3</td><td>&quot;Does the electoral college wor…</td><td>4</td><td>373</td><td>&quot;200&lt;x&lt;=400&quot;</td><td>&quot;3_200&lt;x&lt;=400&quot;</td><td>&quot;3_200&lt;x&lt;=400_4&quot;</td></tr><tr><td>&quot;0030e86&quot;</td><td>&quot;If I were to choose between ke…</td><td>4</td><td>&quot;Does the electoral college wor…</td><td>4</td><td>400</td><td>&quot;200&lt;x&lt;=400&quot;</td><td>&quot;4_200&lt;x&lt;=400&quot;</td><td>&quot;4_200&lt;x&lt;=400_4&quot;</td></tr><tr><td>&quot;0033037&quot;</td><td>&quot;The posibilty of a face reconi…</td><td>2</td><td>&quot;Facial action coding system&quot;</td><td>5</td><td>179</td><td>&quot;x&lt;=200&quot;</td><td>&quot;2_x&lt;=200&quot;</td><td>&quot;2_x&lt;=200_5&quot;</td></tr><tr><td>&quot;0033bf4&quot;</td><td>&quot;What is the Seagoing Cowboys p…</td><td>3</td><td>&quot;&quot;A Cowboy Who Rode the Waves&quot;&quot;</td><td>6</td><td>353</td><td>&quot;200&lt;x&lt;=400&quot;</td><td>&quot;3_200&lt;x&lt;=400&quot;</td><td>&quot;3_200&lt;x&lt;=400_6&quot;</td></tr><tr><td>&quot;0036253&quot;</td><td>&quot;The challenge of exploring Ven…</td><td>2</td><td>&quot;Exploring Venus&quot;</td><td>3</td><td>310</td><td>&quot;200&lt;x&lt;=400&quot;</td><td>&quot;2_200&lt;x&lt;=400&quot;</td><td>&quot;2_200&lt;x&lt;=400_3&quot;</td></tr><tr><td>&quot;0040e27&quot;</td><td>&quot;There are many reasons why you…</td><td>3</td><td>&quot;&quot;A Cowboy Who Rode the Waves&quot;&quot;</td><td>6</td><td>280</td><td>&quot;200&lt;x&lt;=400&quot;</td><td>&quot;3_200&lt;x&lt;=400&quot;</td><td>&quot;3_200&lt;x&lt;=400_6&quot;</td></tr></tbody></table></div>"
      ],
      "text/plain": [
       "shape: (10, 9)\n",
       "┌──────────┬────────────┬───────┬────────────┬───┬────────────┬────────────┬───────────┬───────────┐\n",
       "│ essay_id ┆ full_text  ┆ score ┆ prompt_nam ┆ … ┆ word_lengt ┆ word_lengt ┆ score_wor ┆ concat_sc │\n",
       "│ ---      ┆ ---        ┆ ---   ┆ e          ┆   ┆ h          ┆ h_cat      ┆ d_length_ ┆ ore_word_ │\n",
       "│ str      ┆ str        ┆ i64   ┆ ---        ┆   ┆ ---        ┆ ---        ┆ cat       ┆ length_pr │\n",
       "│          ┆            ┆       ┆ str        ┆   ┆ i64        ┆ str        ┆ ---       ┆ omp…      │\n",
       "│          ┆            ┆       ┆            ┆   ┆            ┆            ┆ str       ┆ ---       │\n",
       "│          ┆            ┆       ┆            ┆   ┆            ┆            ┆           ┆ str       │\n",
       "╞══════════╪════════════╪═══════╪════════════╪═══╪════════════╪════════════╪═══════════╪═══════════╡\n",
       "│ 000d118  ┆ Many       ┆ 3     ┆ Car-free   ┆ … ┆ 498        ┆ 400<x<=600 ┆ 3_400<x<= ┆ 3_400<x<= │\n",
       "│          ┆ people     ┆       ┆ cities     ┆   ┆            ┆            ┆ 600       ┆ 600_0     │\n",
       "│          ┆ have car   ┆       ┆            ┆   ┆            ┆            ┆           ┆           │\n",
       "│          ┆ where the… ┆       ┆            ┆   ┆            ┆            ┆           ┆           │\n",
       "│ 000fe60  ┆ I am a     ┆ 3     ┆ The Face   ┆ … ┆ 332        ┆ 200<x<=400 ┆ 3_200<x<= ┆ 3_200<x<= │\n",
       "│          ┆ scientist  ┆       ┆ on Mars    ┆   ┆            ┆            ┆ 400       ┆ 400_1     │\n",
       "│          ┆ at NASA    ┆       ┆            ┆   ┆            ┆            ┆           ┆           │\n",
       "│          ┆ that …     ┆       ┆            ┆   ┆            ┆            ┆           ┆           │\n",
       "│ 001ab80  ┆ People     ┆ 4     ┆ Driverless ┆ … ┆ 550        ┆ 400<x<=600 ┆ 4_400<x<= ┆ 4_400<x<= │\n",
       "│          ┆ always     ┆       ┆ cars       ┆   ┆            ┆            ┆ 600       ┆ 600_2     │\n",
       "│          ┆ wish they  ┆       ┆            ┆   ┆            ┆            ┆           ┆           │\n",
       "│          ┆ had th…    ┆       ┆            ┆   ┆            ┆            ┆           ┆           │\n",
       "│ 001bdc0  ┆ We all     ┆ 4     ┆ Exploring  ┆ … ┆ 451        ┆ 400<x<=600 ┆ 4_400<x<= ┆ 4_400<x<= │\n",
       "│          ┆ heard      ┆       ┆ Venus      ┆   ┆            ┆            ┆ 600       ┆ 600_3     │\n",
       "│          ┆ about      ┆       ┆            ┆   ┆            ┆            ┆           ┆           │\n",
       "│          ┆ Venus, the ┆       ┆            ┆   ┆            ┆            ┆           ┆           │\n",
       "│          ┆ …          ┆       ┆            ┆   ┆            ┆            ┆           ┆           │\n",
       "│ 002ba53  ┆ Dear,      ┆ 3     ┆ Does the   ┆ … ┆ 373        ┆ 200<x<=400 ┆ 3_200<x<= ┆ 3_200<x<= │\n",
       "│          ┆ State      ┆       ┆ electoral  ┆   ┆            ┆            ┆ 400       ┆ 400_4     │\n",
       "│          ┆ Senator    ┆       ┆ college    ┆   ┆            ┆            ┆           ┆           │\n",
       "│          ┆            ┆       ┆ wor…       ┆   ┆            ┆            ┆           ┆           │\n",
       "│          ┆ This is a… ┆       ┆            ┆   ┆            ┆            ┆           ┆           │\n",
       "│ 0030e86  ┆ If I were  ┆ 4     ┆ Does the   ┆ … ┆ 400        ┆ 200<x<=400 ┆ 4_200<x<= ┆ 4_200<x<= │\n",
       "│          ┆ to choose  ┆       ┆ electoral  ┆   ┆            ┆            ┆ 400       ┆ 400_4     │\n",
       "│          ┆ between    ┆       ┆ college    ┆   ┆            ┆            ┆           ┆           │\n",
       "│          ┆ ke…        ┆       ┆ wor…       ┆   ┆            ┆            ┆           ┆           │\n",
       "│ 0033037  ┆ The        ┆ 2     ┆ Facial     ┆ … ┆ 179        ┆ x<=200     ┆ 2_x<=200  ┆ 2_x<=200_ │\n",
       "│          ┆ posibilty  ┆       ┆ action     ┆   ┆            ┆            ┆           ┆ 5         │\n",
       "│          ┆ of a face  ┆       ┆ coding     ┆   ┆            ┆            ┆           ┆           │\n",
       "│          ┆ reconi…    ┆       ┆ system     ┆   ┆            ┆            ┆           ┆           │\n",
       "│ 0033bf4  ┆ What is    ┆ 3     ┆ \"A Cowboy  ┆ … ┆ 353        ┆ 200<x<=400 ┆ 3_200<x<= ┆ 3_200<x<= │\n",
       "│          ┆ the        ┆       ┆ Who Rode   ┆   ┆            ┆            ┆ 400       ┆ 400_6     │\n",
       "│          ┆ Seagoing   ┆       ┆ the Waves\" ┆   ┆            ┆            ┆           ┆           │\n",
       "│          ┆ Cowboys p… ┆       ┆            ┆   ┆            ┆            ┆           ┆           │\n",
       "│ 0036253  ┆ The        ┆ 2     ┆ Exploring  ┆ … ┆ 310        ┆ 200<x<=400 ┆ 2_200<x<= ┆ 2_200<x<= │\n",
       "│          ┆ challenge  ┆       ┆ Venus      ┆   ┆            ┆            ┆ 400       ┆ 400_3     │\n",
       "│          ┆ of         ┆       ┆            ┆   ┆            ┆            ┆           ┆           │\n",
       "│          ┆ exploring  ┆       ┆            ┆   ┆            ┆            ┆           ┆           │\n",
       "│          ┆ Ven…       ┆       ┆            ┆   ┆            ┆            ┆           ┆           │\n",
       "│ 0040e27  ┆ There are  ┆ 3     ┆ \"A Cowboy  ┆ … ┆ 280        ┆ 200<x<=400 ┆ 3_200<x<= ┆ 3_200<x<= │\n",
       "│          ┆ many       ┆       ┆ Who Rode   ┆   ┆            ┆            ┆ 400       ┆ 400_6     │\n",
       "│          ┆ reasons    ┆       ┆ the Waves\" ┆   ┆            ┆            ┆           ┆           │\n",
       "│          ┆ why you…   ┆       ┆            ┆   ┆            ┆            ┆           ┆           │\n",
       "└──────────┴────────────┴───────┴────────────┴───┴────────────┴────────────┴───────────┴───────────┘"
      ]
     },
     "execution_count": 10,
     "metadata": {},
     "output_type": "execute_result"
    }
   ],
   "source": [
    "train.head(10)"
   ]
  },
  {
   "cell_type": "code",
   "execution_count": 11,
   "metadata": {},
   "outputs": [],
   "source": [
    "# (\n",
    "#     train.select(\n",
    "#         pl.col(\"concat_score_word_length_prompt_id\").value_counts(),\n",
    "#     )\n",
    "#     .unnest(\"concat_score_word_length_prompt_id\")\n",
    "#     .with_columns((pl.col(\"count\") / train.height).alias(\"percentage\"))\n",
    "#     .sort(\"count\", descending=True)\n",
    "# )"
   ]
  },
  {
   "cell_type": "code",
   "execution_count": 12,
   "metadata": {},
   "outputs": [],
   "source": [
    "# promptを用いてstratifyを行なって、分割する\n",
    "from sklearn.model_selection import train_test_split\n",
    "\n",
    "SPLIT_SIZE = 0.5\n",
    "\n",
    "train_1, train_2 = train_test_split(\n",
    "    train, test_size=SPLIT_SIZE, random_state=42, stratify=train[\"prompt_id\"]\n",
    ")"
   ]
  },
  {
   "cell_type": "code",
   "execution_count": 13,
   "metadata": {},
   "outputs": [
    {
     "name": "stderr",
     "output_type": "stream",
     "text": [
      "/Users/shinichiro.saito/automated_essay_scoring/.venv/lib/python3.11/site-packages/sklearn/model_selection/_split.py:737: UserWarning: The least populated class in y has only 1 members, which is less than n_splits=3.\n",
      "  warnings.warn(\n"
     ]
    }
   ],
   "source": [
    "def get_st_slp(data):\n",
    "    import numpy as np\n",
    "    from sklearn.model_selection import StratifiedKFold\n",
    "\n",
    "    fold_arr = np.zeros(data.height)\n",
    "    sgkf = StratifiedKFold(n_splits=3, random_state=42, shuffle=True)\n",
    "\n",
    "    for idx, (_, val_idx) in enumerate(\n",
    "        sgkf.split(data, data[\"concat_score_word_length_prompt_id\"])\n",
    "    ):\n",
    "        fold_arr[val_idx] = idx\n",
    "\n",
    "    return data.with_columns(pl.Series(fold_arr).cast(pl.Int64).alias(\"fold\"))\n",
    "\n",
    "\n",
    "train_1 = get_st_slp(train_1)"
   ]
  },
  {
   "cell_type": "code",
   "execution_count": 14,
   "metadata": {},
   "outputs": [
    {
     "name": "stderr",
     "output_type": "stream",
     "text": [
      "/Users/shinichiro.saito/automated_essay_scoring/.venv/lib/python3.11/site-packages/sklearn/model_selection/_split.py:950: UserWarning: The least populated class in y has only 1 members, which is less than n_splits=3.\n",
      "  warnings.warn(\n"
     ]
    }
   ],
   "source": [
    "def get_st_sl_g_p(data):\n",
    "    import numpy as np\n",
    "    from sklearn.model_selection import StratifiedGroupKFold\n",
    "\n",
    "    fold_arr = np.zeros(data.height)\n",
    "    sgkf = StratifiedGroupKFold(n_splits=3, random_state=42, shuffle=True)\n",
    "\n",
    "    for idx, (_, val_idx) in enumerate(\n",
    "        sgkf.split(data, data[\"score_word_length_cat\"], data[\"prompt_id\"])\n",
    "    ):\n",
    "        fold_arr[val_idx] = idx\n",
    "\n",
    "    return data.with_columns(pl.Series(fold_arr).cast(pl.Int64).alias(\"fold\"))\n",
    "\n",
    "\n",
    "train_2 = get_st_sl_g_p(train_2)"
   ]
  },
  {
   "cell_type": "code",
   "execution_count": 15,
   "metadata": {},
   "outputs": [],
   "source": [
    "train = pl.concat([train_1, train_2])"
   ]
  },
  {
   "cell_type": "code",
   "execution_count": 16,
   "metadata": {},
   "outputs": [
    {
     "data": {
      "text/html": [
       "<div><style>\n",
       ".dataframe > thead > tr,\n",
       ".dataframe > tbody > tr {\n",
       "  text-align: right;\n",
       "  white-space: pre-wrap;\n",
       "}\n",
       "</style>\n",
       "<small>shape: (10, 10)</small><table border=\"1\" class=\"dataframe\"><thead><tr><th>essay_id</th><th>full_text</th><th>score</th><th>prompt_name</th><th>prompt_id</th><th>word_length</th><th>word_length_cat</th><th>score_word_length_cat</th><th>concat_score_word_length_prompt_id</th><th>fold</th></tr><tr><td>str</td><td>str</td><td>i64</td><td>str</td><td>u32</td><td>i64</td><td>str</td><td>str</td><td>str</td><td>i64</td></tr></thead><tbody><tr><td>&quot;CB8B86AD7823&quot;</td><td>&quot;Online learning is a great opp…</td><td>5</td><td>&quot;Distance learning&quot;</td><td>13</td><td>634</td><td>&quot;600&lt;x&lt;=800&quot;</td><td>&quot;5_600&lt;x&lt;=800&quot;</td><td>&quot;5_600&lt;x&lt;=800_13&quot;</td><td>1</td></tr><tr><td>&quot;45B098D3A19B&quot;</td><td>&quot;We all know how important safe…</td><td>3</td><td>&quot;Phones and driving&quot;</td><td>7</td><td>277</td><td>&quot;200&lt;x&lt;=400&quot;</td><td>&quot;3_200&lt;x&lt;=400&quot;</td><td>&quot;3_200&lt;x&lt;=400_7&quot;</td><td>0</td></tr><tr><td>&quot;15f01fe&quot;</td><td>&quot;Many people think that the fac…</td><td>3</td><td>&quot;The Face on Mars&quot;</td><td>1</td><td>241</td><td>&quot;200&lt;x&lt;=400&quot;</td><td>&quot;3_200&lt;x&lt;=400&quot;</td><td>&quot;3_200&lt;x&lt;=400_1&quot;</td><td>1</td></tr><tr><td>&quot;250aece&quot;</td><td>&quot;Does your expression in the mi…</td><td>1</td><td>&quot;Facial action coding system&quot;</td><td>5</td><td>256</td><td>&quot;200&lt;x&lt;=400&quot;</td><td>&quot;1_200&lt;x&lt;=400&quot;</td><td>&quot;1_200&lt;x&lt;=400_5&quot;</td><td>0</td></tr><tr><td>&quot;2E9E0F46CD6A&quot;</td><td>&quot;Dear TEACHER_NAME,\n",
       "\n",
       "Cell phone…</td><td>5</td><td>&quot;Cell phones at school&quot;</td><td>12</td><td>590</td><td>&quot;400&lt;x&lt;=600&quot;</td><td>&quot;5_400&lt;x&lt;=600&quot;</td><td>&quot;5_400&lt;x&lt;=600_12&quot;</td><td>2</td></tr><tr><td>&quot;09d065f&quot;</td><td>&quot;How Seagoing Cowboys is a very…</td><td>3</td><td>&quot;&quot;A Cowboy Who Rode the Waves&quot;&quot;</td><td>6</td><td>317</td><td>&quot;200&lt;x&lt;=400&quot;</td><td>&quot;3_200&lt;x&lt;=400&quot;</td><td>&quot;3_200&lt;x&lt;=400_6&quot;</td><td>2</td></tr><tr><td>&quot;CC067F0DC876&quot;</td><td>&quot;To whom ever this may concern …</td><td>3</td><td>&quot;Community service&quot;</td><td>10</td><td>213</td><td>&quot;200&lt;x&lt;=400&quot;</td><td>&quot;3_200&lt;x&lt;=400&quot;</td><td>&quot;3_200&lt;x&lt;=400_10&quot;</td><td>2</td></tr><tr><td>&quot;BE1E07640466&quot;</td><td>&quot;Dear Ms. principal\n",
       "\n",
       "My name is…</td><td>2</td><td>&quot;Grades for extracurricular act…</td><td>11</td><td>191</td><td>&quot;x&lt;=200&quot;</td><td>&quot;2_x&lt;=200&quot;</td><td>&quot;2_x&lt;=200_11&quot;</td><td>1</td></tr><tr><td>&quot;2916425&quot;</td><td>&quot;Dear state senator,\n",
       "\n",
       "After res…</td><td>5</td><td>&quot;Does the electoral college wor…</td><td>4</td><td>433</td><td>&quot;400&lt;x&lt;=600&quot;</td><td>&quot;5_400&lt;x&lt;=600&quot;</td><td>&quot;5_400&lt;x&lt;=600_4&quot;</td><td>0</td></tr><tr><td>&quot;1ed0f53&quot;</td><td>&quot;Have you ever been sitting in …</td><td>2</td><td>&quot;Facial action coding system&quot;</td><td>5</td><td>214</td><td>&quot;200&lt;x&lt;=400&quot;</td><td>&quot;2_200&lt;x&lt;=400&quot;</td><td>&quot;2_200&lt;x&lt;=400_5&quot;</td><td>0</td></tr></tbody></table></div>"
      ],
      "text/plain": [
       "shape: (10, 10)\n",
       "┌─────────────┬─────────────┬───────┬────────────┬───┬────────────┬────────────┬────────────┬──────┐\n",
       "│ essay_id    ┆ full_text   ┆ score ┆ prompt_nam ┆ … ┆ word_lengt ┆ score_word ┆ concat_sco ┆ fold │\n",
       "│ ---         ┆ ---         ┆ ---   ┆ e          ┆   ┆ h_cat      ┆ _length_ca ┆ re_word_le ┆ ---  │\n",
       "│ str         ┆ str         ┆ i64   ┆ ---        ┆   ┆ ---        ┆ t          ┆ ngth_promp ┆ i64  │\n",
       "│             ┆             ┆       ┆ str        ┆   ┆ str        ┆ ---        ┆ …          ┆      │\n",
       "│             ┆             ┆       ┆            ┆   ┆            ┆ str        ┆ ---        ┆      │\n",
       "│             ┆             ┆       ┆            ┆   ┆            ┆            ┆ str        ┆      │\n",
       "╞═════════════╪═════════════╪═══════╪════════════╪═══╪════════════╪════════════╪════════════╪══════╡\n",
       "│ CB8B86AD782 ┆ Online      ┆ 5     ┆ Distance   ┆ … ┆ 600<x<=800 ┆ 5_600<x<=8 ┆ 5_600<x<=8 ┆ 1    │\n",
       "│ 3           ┆ learning is ┆       ┆ learning   ┆   ┆            ┆ 00         ┆ 00_13      ┆      │\n",
       "│             ┆ a great     ┆       ┆            ┆   ┆            ┆            ┆            ┆      │\n",
       "│             ┆ opp…        ┆       ┆            ┆   ┆            ┆            ┆            ┆      │\n",
       "│ 45B098D3A19 ┆ We all know ┆ 3     ┆ Phones and ┆ … ┆ 200<x<=400 ┆ 3_200<x<=4 ┆ 3_200<x<=4 ┆ 0    │\n",
       "│ B           ┆ how         ┆       ┆ driving    ┆   ┆            ┆ 00         ┆ 00_7       ┆      │\n",
       "│             ┆ important   ┆       ┆            ┆   ┆            ┆            ┆            ┆      │\n",
       "│             ┆ safe…       ┆       ┆            ┆   ┆            ┆            ┆            ┆      │\n",
       "│ 15f01fe     ┆ Many people ┆ 3     ┆ The Face   ┆ … ┆ 200<x<=400 ┆ 3_200<x<=4 ┆ 3_200<x<=4 ┆ 1    │\n",
       "│             ┆ think that  ┆       ┆ on Mars    ┆   ┆            ┆ 00         ┆ 00_1       ┆      │\n",
       "│             ┆ the fac…    ┆       ┆            ┆   ┆            ┆            ┆            ┆      │\n",
       "│ 250aece     ┆ Does your   ┆ 1     ┆ Facial     ┆ … ┆ 200<x<=400 ┆ 1_200<x<=4 ┆ 1_200<x<=4 ┆ 0    │\n",
       "│             ┆ expression  ┆       ┆ action     ┆   ┆            ┆ 00         ┆ 00_5       ┆      │\n",
       "│             ┆ in the mi…  ┆       ┆ coding     ┆   ┆            ┆            ┆            ┆      │\n",
       "│             ┆             ┆       ┆ system     ┆   ┆            ┆            ┆            ┆      │\n",
       "│ 2E9E0F46CD6 ┆ Dear TEACHE ┆ 5     ┆ Cell       ┆ … ┆ 400<x<=600 ┆ 5_400<x<=6 ┆ 5_400<x<=6 ┆ 2    │\n",
       "│ A           ┆ R_NAME,     ┆       ┆ phones at  ┆   ┆            ┆ 00         ┆ 00_12      ┆      │\n",
       "│             ┆             ┆       ┆ school     ┆   ┆            ┆            ┆            ┆      │\n",
       "│             ┆ Cell phone… ┆       ┆            ┆   ┆            ┆            ┆            ┆      │\n",
       "│ 09d065f     ┆ How         ┆ 3     ┆ \"A Cowboy  ┆ … ┆ 200<x<=400 ┆ 3_200<x<=4 ┆ 3_200<x<=4 ┆ 2    │\n",
       "│             ┆ Seagoing    ┆       ┆ Who Rode   ┆   ┆            ┆ 00         ┆ 00_6       ┆      │\n",
       "│             ┆ Cowboys is  ┆       ┆ the Waves\" ┆   ┆            ┆            ┆            ┆      │\n",
       "│             ┆ a very…     ┆       ┆            ┆   ┆            ┆            ┆            ┆      │\n",
       "│ CC067F0DC87 ┆ To whom     ┆ 3     ┆ Community  ┆ … ┆ 200<x<=400 ┆ 3_200<x<=4 ┆ 3_200<x<=4 ┆ 2    │\n",
       "│ 6           ┆ ever this   ┆       ┆ service    ┆   ┆            ┆ 00         ┆ 00_10      ┆      │\n",
       "│             ┆ may concern ┆       ┆            ┆   ┆            ┆            ┆            ┆      │\n",
       "│             ┆ …           ┆       ┆            ┆   ┆            ┆            ┆            ┆      │\n",
       "│ BE1E0764046 ┆ Dear Ms.    ┆ 2     ┆ Grades for ┆ … ┆ x<=200     ┆ 2_x<=200   ┆ 2_x<=200_1 ┆ 1    │\n",
       "│ 6           ┆ principal   ┆       ┆ extracurri ┆   ┆            ┆            ┆ 1          ┆      │\n",
       "│             ┆             ┆       ┆ cular act… ┆   ┆            ┆            ┆            ┆      │\n",
       "│             ┆ My name is… ┆       ┆            ┆   ┆            ┆            ┆            ┆      │\n",
       "│ 2916425     ┆ Dear state  ┆ 5     ┆ Does the   ┆ … ┆ 400<x<=600 ┆ 5_400<x<=6 ┆ 5_400<x<=6 ┆ 0    │\n",
       "│             ┆ senator,    ┆       ┆ electoral  ┆   ┆            ┆ 00         ┆ 00_4       ┆      │\n",
       "│             ┆             ┆       ┆ college    ┆   ┆            ┆            ┆            ┆      │\n",
       "│             ┆ After res…  ┆       ┆ wor…       ┆   ┆            ┆            ┆            ┆      │\n",
       "│ 1ed0f53     ┆ Have you    ┆ 2     ┆ Facial     ┆ … ┆ 200<x<=400 ┆ 2_200<x<=4 ┆ 2_200<x<=4 ┆ 0    │\n",
       "│             ┆ ever been   ┆       ┆ action     ┆   ┆            ┆ 00         ┆ 00_5       ┆      │\n",
       "│             ┆ sitting in  ┆       ┆ coding     ┆   ┆            ┆            ┆            ┆      │\n",
       "│             ┆ …           ┆       ┆ system     ┆   ┆            ┆            ┆            ┆      │\n",
       "└─────────────┴─────────────┴───────┴────────────┴───┴────────────┴────────────┴────────────┴──────┘"
      ]
     },
     "execution_count": 16,
     "metadata": {},
     "output_type": "execute_result"
    }
   ],
   "source": [
    "train.head(10)"
   ]
  },
  {
   "cell_type": "code",
   "execution_count": 17,
   "metadata": {},
   "outputs": [],
   "source": [
    "essay_id_fold_dict = dict(zip(train[\"essay_id\"], train[\"fold\"]))\n",
    "\n",
    "import json\n",
    "\n",
    "with open(\"essay_id_fold_by_half_st_slp_and_st_sl_g_p.json\", \"w\") as f:\n",
    "    json.dump(essay_id_fold_dict, f)"
   ]
  },
  {
   "cell_type": "markdown",
   "metadata": {},
   "source": [
    "# Check"
   ]
  },
  {
   "cell_type": "code",
   "execution_count": 18,
   "metadata": {},
   "outputs": [
    {
     "data": {
      "text/html": [
       "<div><style>\n",
       ".dataframe > thead > tr,\n",
       ".dataframe > tbody > tr {\n",
       "  text-align: right;\n",
       "  white-space: pre-wrap;\n",
       "}\n",
       "</style>\n",
       "<small>shape: (10, 3)</small><table border=\"1\" class=\"dataframe\"><thead><tr><th>score_word_length_cat</th><th>count</th><th>percentage</th></tr><tr><td>str</td><td>u32</td><td>f64</td></tr></thead><tbody><tr><td>&quot;3_200&lt;x&lt;=400&quot;</td><td>1242</td><td>0.040812</td></tr><tr><td>&quot;4_400&lt;x&lt;=600&quot;</td><td>818</td><td>0.02688</td></tr><tr><td>&quot;2_200&lt;x&lt;=400&quot;</td><td>686</td><td>0.022542</td></tr><tr><td>&quot;4_200&lt;x&lt;=400&quot;</td><td>382</td><td>0.012553</td></tr><tr><td>&quot;2_x&lt;=200&quot;</td><td>363</td><td>0.011928</td></tr><tr><td>&quot;3_400&lt;x&lt;=600&quot;</td><td>350</td><td>0.011501</td></tr><tr><td>&quot;5_600&lt;x&lt;=800&quot;</td><td>239</td><td>0.007854</td></tr><tr><td>&quot;5_400&lt;x&lt;=600&quot;</td><td>236</td><td>0.007755</td></tr><tr><td>&quot;1_200&lt;x&lt;=400&quot;</td><td>133</td><td>0.00437</td></tr><tr><td>&quot;4_600&lt;x&lt;=800&quot;</td><td>120</td><td>0.003943</td></tr></tbody></table></div>"
      ],
      "text/plain": [
       "shape: (10, 3)\n",
       "┌───────────────────────┬───────┬────────────┐\n",
       "│ score_word_length_cat ┆ count ┆ percentage │\n",
       "│ ---                   ┆ ---   ┆ ---        │\n",
       "│ str                   ┆ u32   ┆ f64        │\n",
       "╞═══════════════════════╪═══════╪════════════╡\n",
       "│ 3_200<x<=400          ┆ 1242  ┆ 0.040812   │\n",
       "│ 4_400<x<=600          ┆ 818   ┆ 0.02688    │\n",
       "│ 2_200<x<=400          ┆ 686   ┆ 0.022542   │\n",
       "│ 4_200<x<=400          ┆ 382   ┆ 0.012553   │\n",
       "│ 2_x<=200              ┆ 363   ┆ 0.011928   │\n",
       "│ 3_400<x<=600          ┆ 350   ┆ 0.011501   │\n",
       "│ 5_600<x<=800          ┆ 239   ┆ 0.007854   │\n",
       "│ 5_400<x<=600          ┆ 236   ┆ 0.007755   │\n",
       "│ 1_200<x<=400          ┆ 133   ┆ 0.00437    │\n",
       "│ 4_600<x<=800          ┆ 120   ┆ 0.003943   │\n",
       "└───────────────────────┴───────┴────────────┘"
      ]
     },
     "execution_count": 18,
     "metadata": {},
     "output_type": "execute_result"
    }
   ],
   "source": [
    "(\n",
    "    train_1.filter(pl.col(\"fold\") == 0)\n",
    "    .select(\n",
    "        pl.col(\"score_word_length_cat\").value_counts(),\n",
    "    )\n",
    "    .unnest(\"score_word_length_cat\")\n",
    "    .with_columns((pl.col(\"count\") / train.height).alias(\"percentage\"))\n",
    "    .sort(\"count\", descending=True)\n",
    "    .head(10)\n",
    ")"
   ]
  },
  {
   "cell_type": "code",
   "execution_count": 19,
   "metadata": {},
   "outputs": [
    {
     "data": {
      "text/html": [
       "<div><style>\n",
       ".dataframe > thead > tr,\n",
       ".dataframe > tbody > tr {\n",
       "  text-align: right;\n",
       "  white-space: pre-wrap;\n",
       "}\n",
       "</style>\n",
       "<small>shape: (10, 3)</small><table border=\"1\" class=\"dataframe\"><thead><tr><th>score_word_length_cat</th><th>count</th><th>percentage</th></tr><tr><td>str</td><td>u32</td><td>f64</td></tr></thead><tbody><tr><td>&quot;3_200&lt;x&lt;=400&quot;</td><td>1243</td><td>0.040845</td></tr><tr><td>&quot;4_400&lt;x&lt;=600&quot;</td><td>820</td><td>0.026945</td></tr><tr><td>&quot;2_200&lt;x&lt;=400&quot;</td><td>688</td><td>0.022608</td></tr><tr><td>&quot;4_200&lt;x&lt;=400&quot;</td><td>381</td><td>0.01252</td></tr><tr><td>&quot;2_x&lt;=200&quot;</td><td>362</td><td>0.011895</td></tr><tr><td>&quot;3_400&lt;x&lt;=600&quot;</td><td>346</td><td>0.01137</td></tr><tr><td>&quot;5_600&lt;x&lt;=800&quot;</td><td>239</td><td>0.007854</td></tr><tr><td>&quot;5_400&lt;x&lt;=600&quot;</td><td>234</td><td>0.007689</td></tr><tr><td>&quot;1_200&lt;x&lt;=400&quot;</td><td>133</td><td>0.00437</td></tr><tr><td>&quot;4_600&lt;x&lt;=800&quot;</td><td>121</td><td>0.003976</td></tr></tbody></table></div>"
      ],
      "text/plain": [
       "shape: (10, 3)\n",
       "┌───────────────────────┬───────┬────────────┐\n",
       "│ score_word_length_cat ┆ count ┆ percentage │\n",
       "│ ---                   ┆ ---   ┆ ---        │\n",
       "│ str                   ┆ u32   ┆ f64        │\n",
       "╞═══════════════════════╪═══════╪════════════╡\n",
       "│ 3_200<x<=400          ┆ 1243  ┆ 0.040845   │\n",
       "│ 4_400<x<=600          ┆ 820   ┆ 0.026945   │\n",
       "│ 2_200<x<=400          ┆ 688   ┆ 0.022608   │\n",
       "│ 4_200<x<=400          ┆ 381   ┆ 0.01252    │\n",
       "│ 2_x<=200              ┆ 362   ┆ 0.011895   │\n",
       "│ 3_400<x<=600          ┆ 346   ┆ 0.01137    │\n",
       "│ 5_600<x<=800          ┆ 239   ┆ 0.007854   │\n",
       "│ 5_400<x<=600          ┆ 234   ┆ 0.007689   │\n",
       "│ 1_200<x<=400          ┆ 133   ┆ 0.00437    │\n",
       "│ 4_600<x<=800          ┆ 121   ┆ 0.003976   │\n",
       "└───────────────────────┴───────┴────────────┘"
      ]
     },
     "execution_count": 19,
     "metadata": {},
     "output_type": "execute_result"
    }
   ],
   "source": [
    "(\n",
    "    train_1.filter(pl.col(\"fold\") == 1)\n",
    "    .select(\n",
    "        pl.col(\"score_word_length_cat\").value_counts(),\n",
    "    )\n",
    "    .unnest(\"score_word_length_cat\")\n",
    "    .with_columns((pl.col(\"count\") / train.height).alias(\"percentage\"))\n",
    "    .sort(\"count\", descending=True)\n",
    "    .head(10)\n",
    ")"
   ]
  },
  {
   "cell_type": "code",
   "execution_count": 20,
   "metadata": {},
   "outputs": [
    {
     "data": {
      "text/html": [
       "<div><style>\n",
       ".dataframe > thead > tr,\n",
       ".dataframe > tbody > tr {\n",
       "  text-align: right;\n",
       "  white-space: pre-wrap;\n",
       "}\n",
       "</style>\n",
       "<small>shape: (15, 3)</small><table border=\"1\" class=\"dataframe\"><thead><tr><th>prompt_id</th><th>count</th><th>percentage</th></tr><tr><td>u32</td><td>u32</td><td>f64</td></tr></thead><tbody><tr><td>2</td><td>583</td><td>0.038315</td></tr><tr><td>5</td><td>507</td><td>0.03332</td></tr><tr><td>3</td><td>502</td><td>0.032992</td></tr><tr><td>13</td><td>358</td><td>0.023528</td></tr><tr><td>1</td><td>349</td><td>0.022936</td></tr><tr><td>&hellip;</td><td>&hellip;</td><td>&hellip;</td></tr><tr><td>12</td><td>274</td><td>0.018007</td></tr><tr><td>11</td><td>270</td><td>0.017744</td></tr><tr><td>14</td><td>259</td><td>0.017022</td></tr><tr><td>10</td><td>259</td><td>0.017022</td></tr><tr><td>7</td><td>196</td><td>0.012881</td></tr></tbody></table></div>"
      ],
      "text/plain": [
       "shape: (15, 3)\n",
       "┌───────────┬───────┬────────────┐\n",
       "│ prompt_id ┆ count ┆ percentage │\n",
       "│ ---       ┆ ---   ┆ ---        │\n",
       "│ u32       ┆ u32   ┆ f64        │\n",
       "╞═══════════╪═══════╪════════════╡\n",
       "│ 2         ┆ 583   ┆ 0.038315   │\n",
       "│ 5         ┆ 507   ┆ 0.03332    │\n",
       "│ 3         ┆ 502   ┆ 0.032992   │\n",
       "│ 13        ┆ 358   ┆ 0.023528   │\n",
       "│ 1         ┆ 349   ┆ 0.022936   │\n",
       "│ …         ┆ …     ┆ …          │\n",
       "│ 12        ┆ 274   ┆ 0.018007   │\n",
       "│ 11        ┆ 270   ┆ 0.017744   │\n",
       "│ 14        ┆ 259   ┆ 0.017022   │\n",
       "│ 10        ┆ 259   ┆ 0.017022   │\n",
       "│ 7         ┆ 196   ┆ 0.012881   │\n",
       "└───────────┴───────┴────────────┘"
      ]
     },
     "execution_count": 20,
     "metadata": {},
     "output_type": "execute_result"
    }
   ],
   "source": [
    "(\n",
    "    train_1.filter(pl.col(\"fold\") == 0)\n",
    "    .select(\n",
    "        pl.col(\"prompt_id\").value_counts(),\n",
    "    )\n",
    "    .unnest(\"prompt_id\")\n",
    "    .with_columns((pl.col(\"count\") / train_1.height).alias(\"percentage\"))\n",
    "    .sort(\"count\", descending=True)\n",
    ")"
   ]
  },
  {
   "cell_type": "code",
   "execution_count": 21,
   "metadata": {},
   "outputs": [
    {
     "data": {
      "text/html": [
       "<div><style>\n",
       ".dataframe > thead > tr,\n",
       ".dataframe > tbody > tr {\n",
       "  text-align: right;\n",
       "  white-space: pre-wrap;\n",
       "}\n",
       "</style>\n",
       "<small>shape: (15, 3)</small><table border=\"1\" class=\"dataframe\"><thead><tr><th>prompt_id</th><th>count</th><th>percentage</th></tr><tr><td>u32</td><td>u32</td><td>f64</td></tr></thead><tbody><tr><td>2</td><td>583</td><td>0.038315</td></tr><tr><td>5</td><td>504</td><td>0.033123</td></tr><tr><td>3</td><td>502</td><td>0.032992</td></tr><tr><td>13</td><td>359</td><td>0.023594</td></tr><tr><td>1</td><td>349</td><td>0.022936</td></tr><tr><td>&hellip;</td><td>&hellip;</td><td>&hellip;</td></tr><tr><td>11</td><td>274</td><td>0.018007</td></tr><tr><td>6</td><td>274</td><td>0.018007</td></tr><tr><td>14</td><td>258</td><td>0.016956</td></tr><tr><td>10</td><td>257</td><td>0.01689</td></tr><tr><td>7</td><td>194</td><td>0.01275</td></tr></tbody></table></div>"
      ],
      "text/plain": [
       "shape: (15, 3)\n",
       "┌───────────┬───────┬────────────┐\n",
       "│ prompt_id ┆ count ┆ percentage │\n",
       "│ ---       ┆ ---   ┆ ---        │\n",
       "│ u32       ┆ u32   ┆ f64        │\n",
       "╞═══════════╪═══════╪════════════╡\n",
       "│ 2         ┆ 583   ┆ 0.038315   │\n",
       "│ 5         ┆ 504   ┆ 0.033123   │\n",
       "│ 3         ┆ 502   ┆ 0.032992   │\n",
       "│ 13        ┆ 359   ┆ 0.023594   │\n",
       "│ 1         ┆ 349   ┆ 0.022936   │\n",
       "│ …         ┆ …     ┆ …          │\n",
       "│ 11        ┆ 274   ┆ 0.018007   │\n",
       "│ 6         ┆ 274   ┆ 0.018007   │\n",
       "│ 14        ┆ 258   ┆ 0.016956   │\n",
       "│ 10        ┆ 257   ┆ 0.01689    │\n",
       "│ 7         ┆ 194   ┆ 0.01275    │\n",
       "└───────────┴───────┴────────────┘"
      ]
     },
     "execution_count": 21,
     "metadata": {},
     "output_type": "execute_result"
    }
   ],
   "source": [
    "(\n",
    "    train_1.filter(pl.col(\"fold\") == 1)\n",
    "    .select(\n",
    "        pl.col(\"prompt_id\").value_counts(),\n",
    "    )\n",
    "    .unnest(\"prompt_id\")\n",
    "    .with_columns((pl.col(\"count\") / train_1.height).alias(\"percentage\"))\n",
    "    .sort(\"count\", descending=True)\n",
    ")"
   ]
  },
  {
   "cell_type": "code",
   "execution_count": 22,
   "metadata": {},
   "outputs": [
    {
     "data": {
      "text/html": [
       "<div><style>\n",
       ".dataframe > thead > tr,\n",
       ".dataframe > tbody > tr {\n",
       "  text-align: right;\n",
       "  white-space: pre-wrap;\n",
       "}\n",
       "</style>\n",
       "<small>shape: (5, 3)</small><table border=\"1\" class=\"dataframe\"><thead><tr><th>prompt_id</th><th>count</th><th>percentage</th></tr><tr><td>u32</td><td>u32</td><td>f64</td></tr></thead><tbody><tr><td>3</td><td>1508</td><td>0.099106</td></tr><tr><td>1</td><td>1047</td><td>0.068809</td></tr><tr><td>6</td><td>825</td><td>0.054219</td></tr><tr><td>10</td><td>771</td><td>0.05067</td></tr><tr><td>7</td><td>584</td><td>0.038381</td></tr></tbody></table></div>"
      ],
      "text/plain": [
       "shape: (5, 3)\n",
       "┌───────────┬───────┬────────────┐\n",
       "│ prompt_id ┆ count ┆ percentage │\n",
       "│ ---       ┆ ---   ┆ ---        │\n",
       "│ u32       ┆ u32   ┆ f64        │\n",
       "╞═══════════╪═══════╪════════════╡\n",
       "│ 3         ┆ 1508  ┆ 0.099106   │\n",
       "│ 1         ┆ 1047  ┆ 0.068809   │\n",
       "│ 6         ┆ 825   ┆ 0.054219   │\n",
       "│ 10        ┆ 771   ┆ 0.05067    │\n",
       "│ 7         ┆ 584   ┆ 0.038381   │\n",
       "└───────────┴───────┴────────────┘"
      ]
     },
     "execution_count": 22,
     "metadata": {},
     "output_type": "execute_result"
    }
   ],
   "source": [
    "(\n",
    "    train_2.filter(pl.col(\"fold\") == 0)\n",
    "    .select(\n",
    "        pl.col(\"prompt_id\").value_counts(),\n",
    "    )\n",
    "    .unnest(\"prompt_id\")\n",
    "    .with_columns((pl.col(\"count\") / train_2.height).alias(\"percentage\"))\n",
    "    .sort(\"count\", descending=True)\n",
    ")"
   ]
  },
  {
   "cell_type": "code",
   "execution_count": 23,
   "metadata": {},
   "outputs": [
    {
     "data": {
      "text/html": [
       "<div><style>\n",
       ".dataframe > thead > tr,\n",
       ".dataframe > tbody > tr {\n",
       "  text-align: right;\n",
       "  white-space: pre-wrap;\n",
       "}\n",
       "</style>\n",
       "<small>shape: (5, 3)</small><table border=\"1\" class=\"dataframe\"><thead><tr><th>prompt_id</th><th>count</th><th>percentage</th></tr><tr><td>u32</td><td>u32</td><td>f64</td></tr></thead><tbody><tr><td>2</td><td>1748</td><td>0.114879</td></tr><tr><td>4</td><td>1023</td><td>0.067232</td></tr><tr><td>8</td><td>875</td><td>0.057505</td></tr><tr><td>11</td><td>813</td><td>0.053431</td></tr><tr><td>14</td><td>776</td><td>0.050999</td></tr></tbody></table></div>"
      ],
      "text/plain": [
       "shape: (5, 3)\n",
       "┌───────────┬───────┬────────────┐\n",
       "│ prompt_id ┆ count ┆ percentage │\n",
       "│ ---       ┆ ---   ┆ ---        │\n",
       "│ u32       ┆ u32   ┆ f64        │\n",
       "╞═══════════╪═══════╪════════════╡\n",
       "│ 2         ┆ 1748  ┆ 0.114879   │\n",
       "│ 4         ┆ 1023  ┆ 0.067232   │\n",
       "│ 8         ┆ 875   ┆ 0.057505   │\n",
       "│ 11        ┆ 813   ┆ 0.053431   │\n",
       "│ 14        ┆ 776   ┆ 0.050999   │\n",
       "└───────────┴───────┴────────────┘"
      ]
     },
     "execution_count": 23,
     "metadata": {},
     "output_type": "execute_result"
    }
   ],
   "source": [
    "(\n",
    "    train_2.filter(pl.col(\"fold\") == 1)\n",
    "    .select(\n",
    "        pl.col(\"prompt_id\").value_counts(),\n",
    "    )\n",
    "    .unnest(\"prompt_id\")\n",
    "    .with_columns((pl.col(\"count\") / train_2.height).alias(\"percentage\"))\n",
    "    .sort(\"count\", descending=True)\n",
    ")"
   ]
  },
  {
   "cell_type": "code",
   "execution_count": null,
   "metadata": {},
   "outputs": [],
   "source": []
  }
 ],
 "metadata": {
  "kernelspec": {
   "display_name": ".venv",
   "language": "python",
   "name": "python3"
  },
  "language_info": {
   "codemirror_mode": {
    "name": "ipython",
    "version": 3
   },
   "file_extension": ".py",
   "mimetype": "text/x-python",
   "name": "python",
   "nbconvert_exporter": "python",
   "pygments_lexer": "ipython3",
   "version": "3.11.7"
  }
 },
 "nbformat": 4,
 "nbformat_minor": 2
}
