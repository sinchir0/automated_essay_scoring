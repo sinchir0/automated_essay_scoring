{
 "cells": [
  {
   "cell_type": "code",
   "execution_count": 49,
   "metadata": {},
   "outputs": [],
   "source": [
    "import torch\n",
    "\n",
    "\n",
    "class WeightedKappaLoss(torch.nn.Module):\n",
    "    def __init__(\n",
    "        self,\n",
    "        num_classes: int,\n",
    "        weights: str = \"quadratic\",\n",
    "        epsilon: float = 1e-6,\n",
    "    ) -> None:\n",
    "        super().__init__()\n",
    "        label_vec = torch.arange(0, num_classes).float()\n",
    "        self.row_label_vec = label_vec.view(1, num_classes)\n",
    "        self.col_label_vec = label_vec.view(num_classes, 1)\n",
    "        row_mat = torch.tile(self.row_label_vec, (num_classes, 1))\n",
    "        col_mat = torch.tile(self.col_label_vec, (1, num_classes))\n",
    "        if weights == \"quadratic\":\n",
    "            self.ops = torch.square\n",
    "        elif weights == \"linear\":\n",
    "            self.ops = torch.abs\n",
    "        else:\n",
    "            raise ValueError()\n",
    "        self.num_classes = num_classes\n",
    "        self.weight_mat = self.ops(col_mat - row_mat)\n",
    "        self.epsilon = epsilon\n",
    "\n",
    "    def forward(self, y_true: torch.Tensor, y_pred: torch.Tensor) -> torch.Tensor:\n",
    "        bs = y_true.size(0)\n",
    "\n",
    "        # y_true = torch.nn.functional.one_hot(y_true, self.num_classes)\n",
    "        y_true = y_true.to(device=y_pred.device, dtype=y_pred.dtype)\n",
    "\n",
    "        col_label_vec = self.col_label_vec.clone().to(y_pred.device)\n",
    "        row_label_vec = self.row_label_vec.clone().to(y_pred.device)\n",
    "        weight_mat = self.weight_mat.clone().to(y_pred.device)\n",
    "        cat_labels = torch.matmul(y_true, col_label_vec)\n",
    "        cat_label_mat = torch.tile(cat_labels, (1, self.num_classes))\n",
    "        row_label_mat = torch.tile(row_label_vec, (bs, 1))\n",
    "        weight = self.ops(cat_label_mat - row_label_mat)\n",
    "        numerator = torch.sum(weight * y_pred)\n",
    "\n",
    "        label_dist = torch.sum(y_true, dim=0, keepdim=True)\n",
    "        pred_dist = torch.sum(y_pred, dim=0, keepdim=True)\n",
    "\n",
    "        w_pred_dist = torch.matmul(weight_mat, pred_dist.T)\n",
    "        dominator = torch.sum(torch.matmul(label_dist, w_pred_dist)) / bs\n",
    "\n",
    "        loss = torch.log(numerator / dominator + self.epsilon)\n",
    "\n",
    "        # 0~1に正規化する\n",
    "        loss = torch.exp(loss)\n",
    "\n",
    "        return loss\n",
    "\n",
    "\n",
    "loss_fn = WeightedKappaLoss(num_classes=3)"
   ]
  },
  {
   "cell_type": "code",
   "execution_count": 50,
   "metadata": {},
   "outputs": [
    {
     "name": "stdout",
     "output_type": "stream",
     "text": [
      "Calculated Weighted Kappa Loss: 9.999997701015673e-07\n"
     ]
    }
   ],
   "source": [
    "y_true = torch.tensor([[0.0, 0.0, 1.0], [1.0, 0.0, 0.0]])\n",
    "y_pred = torch.tensor([[0.0, 0.0, 1.0], [1.0, 0.0, 0.0]])\n",
    "\n",
    "loss = loss_fn(y_true, y_pred)\n",
    "print(f\"Calculated Weighted Kappa Loss: {loss.item()}\")"
   ]
  },
  {
   "cell_type": "code",
   "execution_count": 52,
   "metadata": {},
   "outputs": [
    {
     "name": "stdout",
     "output_type": "stream",
     "text": [
      "Calculated Weighted Kappa Loss: 0.333334356546402\n"
     ]
    }
   ],
   "source": [
    "y_true = torch.tensor([[0.0, 0.0, 1.0], [1.0, 0.0, 0.0]])\n",
    "y_pred = torch.tensor([[0.0, 1.0, 0.0], [1.0, 0.0, 0.0]])\n",
    "\n",
    "loss = loss_fn(y_true, y_pred)\n",
    "print(f\"Calculated Weighted Kappa Loss: {loss.item()}\")"
   ]
  },
  {
   "cell_type": "code",
   "execution_count": 53,
   "metadata": {},
   "outputs": [
    {
     "name": "stdout",
     "output_type": "stream",
     "text": [
      "Calculated Weighted Kappa Loss: 0.6666676998138428\n"
     ]
    }
   ],
   "source": [
    "y_true = torch.tensor([[0.0, 0.0, 1.0], [1.0, 0.0, 0.0]])\n",
    "y_pred = torch.tensor([[1.0, 0.0, 1.0], [1.0, 0.0, 0.0]])\n",
    "\n",
    "loss = loss_fn(y_true, y_pred)\n",
    "print(f\"Calculated Weighted Kappa Loss: {loss.item()}\")"
   ]
  },
  {
   "cell_type": "code",
   "execution_count": 13,
   "metadata": {},
   "outputs": [],
   "source": [
    "import torch\n",
    "\n",
    "\n",
    "class WeightedKappaLoss(torch.nn.Module):\n",
    "    def __init__(\n",
    "        self,\n",
    "        num_classes: int,\n",
    "        weights: str = \"quadratic\",\n",
    "        epsilon: float = 1e-6,\n",
    "    ) -> None:\n",
    "        super().__init__()\n",
    "        label_vec = torch.arange(0, num_classes).float()\n",
    "        self.row_label_vec = label_vec.view(1, num_classes)\n",
    "        self.col_label_vec = label_vec.view(num_classes, 1)\n",
    "        row_mat = torch.tile(self.row_label_vec, (num_classes, 1))\n",
    "        col_mat = torch.tile(self.col_label_vec, (1, num_classes))\n",
    "        if weights == \"quadratic\":\n",
    "            self.ops = torch.square\n",
    "        elif weights == \"linear\":\n",
    "            self.ops = torch.abs\n",
    "        else:\n",
    "            raise ValueError()\n",
    "        self.num_classes = num_classes\n",
    "        self.weight_mat = self.ops(col_mat - row_mat)\n",
    "        self.epsilon = epsilon\n",
    "\n",
    "    def forward(self, y_true: torch.Tensor, y_pred: torch.Tensor) -> torch.Tensor:\n",
    "        bs = y_true.size(0)\n",
    "\n",
    "        y_true = torch.nn.functional.one_hot(y_true, self.num_classes)\n",
    "        y_true = y_true.to(device=y_pred.device, dtype=y_pred.dtype)\n",
    "\n",
    "        col_label_vec = self.col_label_vec.clone().to(y_pred.device)\n",
    "        row_label_vec = self.row_label_vec.clone().to(y_pred.device)\n",
    "        weight_mat = self.weight_mat.clone().to(y_pred.device)\n",
    "        cat_labels = torch.matmul(y_true, col_label_vec)\n",
    "        cat_label_mat = torch.tile(cat_labels, (1, self.num_classes))\n",
    "        row_label_mat = torch.tile(row_label_vec, (bs, 1))\n",
    "        weight = self.ops(cat_label_mat - row_label_mat)\n",
    "        numerator = torch.sum(weight * y_pred)\n",
    "\n",
    "        label_dist = torch.sum(y_true, dim=0, keepdim=True)\n",
    "        pred_dist = torch.sum(y_pred, dim=0, keepdim=True)\n",
    "\n",
    "        w_pred_dist = torch.matmul(weight_mat, pred_dist.T)\n",
    "        dominator = torch.sum(torch.matmul(label_dist, w_pred_dist)) / bs\n",
    "\n",
    "        loss = torch.log(numerator / dominator + self.epsilon)\n",
    "\n",
    "        return loss"
   ]
  },
  {
   "cell_type": "code",
   "execution_count": 19,
   "metadata": {},
   "outputs": [
    {
     "name": "stdout",
     "output_type": "stream",
     "text": [
      "Calculated Weighted Kappa Loss: -0.4700019955635071\n"
     ]
    }
   ],
   "source": [
    "import torch\n",
    "\n",
    "y_true = torch.tensor([0, 1])\n",
    "y_pred = torch.tensor([[0.6, 0.3, 0.1], [0.2, 0.2, 0.6]])\n",
    "\n",
    "loss_fn = WeightedKappaLoss(num_classes=3, weights=\"quadratic\")\n",
    "loss = loss_fn(y_true, y_pred)\n",
    "print(f\"Calculated Weighted Kappa Loss: {loss.item()}\")"
   ]
  },
  {
   "cell_type": "code",
   "execution_count": 44,
   "metadata": {},
   "outputs": [],
   "source": [
    "import torch\n",
    "import torch.nn as nn\n",
    "\n",
    "\n",
    "class WeightedKappaLossTorch(nn.Module):\n",
    "    \"\"\"Implements the Weighted Kappa loss function in PyTorch.\n",
    "\n",
    "    Args:\n",
    "        num_classes (int): Number of unique classes in the dataset.\n",
    "        weightage (str): Weighting to be considered for calculating\n",
    "            kappa statistics. A valid value is one of ['linear', 'quadratic'].\n",
    "            Defaults to 'quadratic'.\n",
    "        epsilon (float): Increment to avoid log zero, so the loss will be\n",
    "            log(1 - k + epsilon), where k lies in [-1, 1]. Defaults to 1e-6.\n",
    "    \"\"\"\n",
    "\n",
    "    def __init__(self, num_classes, weightage=\"quadratic\", epsilon=1e-6):\n",
    "        super().__init__()\n",
    "        if weightage not in [\"linear\", \"quadratic\"]:\n",
    "            raise ValueError(\"Unknown kappa weighting type.\")\n",
    "\n",
    "        self.num_classes = num_classes\n",
    "        self.weightage = weightage\n",
    "        self.epsilon = epsilon\n",
    "\n",
    "        label_vec = torch.arange(num_classes, dtype=torch.float32)\n",
    "        self.row_label_vec = label_vec.view(1, num_classes)\n",
    "        self.col_label_vec = label_vec.view(num_classes, 1)\n",
    "        col_mat = self.col_label_vec.expand(num_classes, num_classes)\n",
    "        row_mat = self.row_label_vec.expand(num_classes, num_classes)\n",
    "\n",
    "        if weightage == \"linear\":\n",
    "            self.weight_mat = torch.abs(col_mat - row_mat)\n",
    "        else:\n",
    "            self.weight_mat = (col_mat - row_mat) ** 2\n",
    "\n",
    "    def forward(self, y_true, y_pred):\n",
    "        y_true = y_true.float()\n",
    "        y_pred = y_pred.float()\n",
    "        batch_size = y_true.size(0)\n",
    "\n",
    "        cat_labels = torch.matmul(y_true, self.col_label_vec)\n",
    "        cat_label_mat = cat_labels.expand(batch_size, self.num_classes)\n",
    "        row_label_mat = self.row_label_vec.expand(batch_size, self.num_classes)\n",
    "\n",
    "        if self.weightage == \"linear\":\n",
    "            weight = torch.abs(cat_label_mat - row_label_mat)\n",
    "        else:\n",
    "            weight = (cat_label_mat - row_label_mat) ** 2\n",
    "\n",
    "        numerator = torch.sum(weight * y_pred)\n",
    "\n",
    "        label_dist = torch.sum(y_true, dim=0, keepdim=True)\n",
    "        pred_dist = torch.sum(y_pred, dim=0, keepdim=True)\n",
    "        w_pred_dist = torch.matmul(self.weight_mat, pred_dist.t())\n",
    "        denominator = torch.sum(torch.matmul(label_dist, w_pred_dist))\n",
    "        denominator /= batch_size\n",
    "\n",
    "        loss = torch.div(numerator, denominator + self.epsilon)\n",
    "\n",
    "        loss = torch.log(loss + self.epsilon)\n",
    "\n",
    "        return loss"
   ]
  },
  {
   "cell_type": "code",
   "execution_count": 45,
   "metadata": {},
   "outputs": [
    {
     "name": "stdout",
     "output_type": "stream",
     "text": [
      "Calculated Weighted Kappa Loss: -13.815510749816895\n"
     ]
    }
   ],
   "source": [
    "y_true = torch.tensor([[0.0, 0.0, 1.0], [1.0, 0.0, 0.0]])\n",
    "y_pred = torch.tensor([[0.0, 0.0, 1.0], [1.0, 0.0, 0.0]])\n",
    "\n",
    "loss_fn = WeightedKappaLossTorch(num_classes=3, weightage=\"quadratic\")\n",
    "loss = loss_fn(y_true, y_pred)\n",
    "print(f\"Calculated Weighted Kappa Loss: {loss.item()}\")"
   ]
  },
  {
   "cell_type": "code",
   "execution_count": 47,
   "metadata": {},
   "outputs": [
    {
     "name": "stdout",
     "output_type": "stream",
     "text": [
      "Calculated Weighted Kappa Loss: -0.40546372532844543\n"
     ]
    }
   ],
   "source": [
    "y_true = torch.tensor([[0.0, 0.0, 1.0], [1.0, 0.0, 0.0]])\n",
    "y_pred = torch.tensor([[1.0, 0.0, 1.0], [1.0, 0.0, 0.0]])\n",
    "\n",
    "loss_fn = WeightedKappaLossTorch(num_classes=3, weightage=\"quadratic\")\n",
    "loss = loss_fn(y_true, y_pred)\n",
    "print(f\"Calculated Weighted Kappa Loss: {loss.item()}\")"
   ]
  },
  {
   "cell_type": "code",
   "execution_count": 32,
   "metadata": {},
   "outputs": [],
   "source": [
    "# import torch\n",
    "\n",
    "# y_true = torch.tensor([0, 2])\n",
    "# y_pred = torch.tensor([[1.0, 0.0, 0.0], [0.0, 0.0, 1.0]])\n",
    "\n",
    "# loss_fn = WeightedKappaLoss(num_classes=3, weights=\"quadratic\")\n",
    "# loss = loss_fn(y_true, y_pred)\n",
    "# print(f\"Calculated Weighted Kappa Loss: {loss.item()}\")"
   ]
  },
  {
   "cell_type": "code",
   "execution_count": null,
   "metadata": {},
   "outputs": [],
   "source": []
  }
 ],
 "metadata": {
  "kernelspec": {
   "display_name": "Python 3 (ipykernel)",
   "language": "python",
   "name": "python3"
  },
  "language_info": {
   "codemirror_mode": {
    "name": "ipython",
    "version": 3
   },
   "file_extension": ".py",
   "mimetype": "text/x-python",
   "name": "python",
   "nbconvert_exporter": "python",
   "pygments_lexer": "ipython3",
   "version": "3.11.7"
  }
 },
 "nbformat": 4,
 "nbformat_minor": 2
}
