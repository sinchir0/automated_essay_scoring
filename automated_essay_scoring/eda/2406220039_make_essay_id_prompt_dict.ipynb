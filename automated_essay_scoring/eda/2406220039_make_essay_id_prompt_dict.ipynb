{
 "cells": [
  {
   "cell_type": "code",
   "execution_count": 32,
   "metadata": {},
   "outputs": [],
   "source": [
    "import polars as pl\n",
    "\n",
    "DATA_PATH = \"../../data/\"\n",
    "\n",
    "train = pl.read_csv(DATA_PATH + \"train.csv\")\n",
    "predicted_prompt = pl.read_csv(DATA_PATH + \"predicted_prompt.csv\")"
   ]
  },
  {
   "cell_type": "code",
   "execution_count": 33,
   "metadata": {},
   "outputs": [
    {
     "data": {
      "text/html": [
       "<div><style>\n",
       ".dataframe > thead > tr,\n",
       ".dataframe > tbody > tr {\n",
       "  text-align: right;\n",
       "  white-space: pre-wrap;\n",
       "}\n",
       "</style>\n",
       "<small>shape: (17_307, 3)</small><table border=\"1\" class=\"dataframe\"><thead><tr><th>essay_id</th><th>prompt_name</th><th>predicted</th></tr><tr><td>str</td><td>str</td><td>bool</td></tr></thead><tbody><tr><td>&quot;000fe60&quot;</td><td>&quot;The Face on Mars&quot;</td><td>true</td></tr><tr><td>&quot;001ab80&quot;</td><td>&quot;Driverless cars&quot;</td><td>true</td></tr><tr><td>&quot;001bdc0&quot;</td><td>&quot;Exploring Venus&quot;</td><td>true</td></tr><tr><td>&quot;0033037&quot;</td><td>&quot;Facial action coding system&quot;</td><td>true</td></tr><tr><td>&quot;0065bd6&quot;</td><td>&quot;Driverless cars&quot;</td><td>true</td></tr><tr><td>&hellip;</td><td>&hellip;</td><td>&hellip;</td></tr><tr><td>&quot;ffc11a8&quot;</td><td>&quot;&quot;A Cowboy Who Rode the Waves&quot;&quot;</td><td>false</td></tr><tr><td>&quot;ffc9095&quot;</td><td>&quot;Exploring Venus&quot;</td><td>false</td></tr><tr><td>&quot;ffddf1f&quot;</td><td>&quot;Facial action coding system&quot;</td><td>false</td></tr><tr><td>&quot;fff016d&quot;</td><td>&quot;&quot;A Cowboy Who Rode the Waves&quot;&quot;</td><td>false</td></tr><tr><td>&quot;fffb49b&quot;</td><td>&quot;Exploring Venus&quot;</td><td>false</td></tr></tbody></table></div>"
      ],
      "text/plain": [
       "shape: (17_307, 3)\n",
       "┌──────────┬───────────────────────────────┬───────────┐\n",
       "│ essay_id ┆ prompt_name                   ┆ predicted │\n",
       "│ ---      ┆ ---                           ┆ ---       │\n",
       "│ str      ┆ str                           ┆ bool      │\n",
       "╞══════════╪═══════════════════════════════╪═══════════╡\n",
       "│ 000fe60  ┆ The Face on Mars              ┆ true      │\n",
       "│ 001ab80  ┆ Driverless cars               ┆ true      │\n",
       "│ 001bdc0  ┆ Exploring Venus               ┆ true      │\n",
       "│ 0033037  ┆ Facial action coding system   ┆ true      │\n",
       "│ 0065bd6  ┆ Driverless cars               ┆ true      │\n",
       "│ …        ┆ …                             ┆ …         │\n",
       "│ ffc11a8  ┆ \"A Cowboy Who Rode the Waves\" ┆ false     │\n",
       "│ ffc9095  ┆ Exploring Venus               ┆ false     │\n",
       "│ ffddf1f  ┆ Facial action coding system   ┆ false     │\n",
       "│ fff016d  ┆ \"A Cowboy Who Rode the Waves\" ┆ false     │\n",
       "│ fffb49b  ┆ Exploring Venus               ┆ false     │\n",
       "└──────────┴───────────────────────────────┴───────────┘"
      ]
     },
     "execution_count": 33,
     "metadata": {},
     "output_type": "execute_result"
    }
   ],
   "source": [
    "predicted_prompt"
   ]
  },
  {
   "cell_type": "code",
   "execution_count": 34,
   "metadata": {},
   "outputs": [
    {
     "data": {
      "text/html": [
       "<div><style>\n",
       ".dataframe > thead > tr,\n",
       ".dataframe > tbody > tr {\n",
       "  text-align: right;\n",
       "  white-space: pre-wrap;\n",
       "}\n",
       "</style>\n",
       "<small>shape: (17_307, 3)</small><table border=\"1\" class=\"dataframe\"><thead><tr><th>essay_id</th><th>full_text</th><th>score</th></tr><tr><td>str</td><td>str</td><td>i64</td></tr></thead><tbody><tr><td>&quot;000d118&quot;</td><td>&quot;Many people have car where the…</td><td>3</td></tr><tr><td>&quot;000fe60&quot;</td><td>&quot;I am a scientist at NASA that …</td><td>3</td></tr><tr><td>&quot;001ab80&quot;</td><td>&quot;People always wish they had th…</td><td>4</td></tr><tr><td>&quot;001bdc0&quot;</td><td>&quot;We all heard about Venus, the …</td><td>4</td></tr><tr><td>&quot;002ba53&quot;</td><td>&quot;Dear, State Senator\n",
       "\n",
       "This is a…</td><td>3</td></tr><tr><td>&hellip;</td><td>&hellip;</td><td>&hellip;</td></tr><tr><td>&quot;ffd378d&quot;</td><td>&quot;the story &quot; The Challenge of E…</td><td>2</td></tr><tr><td>&quot;ffddf1f&quot;</td><td>&quot;Technology has changed a lot o…</td><td>4</td></tr><tr><td>&quot;fff016d&quot;</td><td>&quot;If you don&#x27;t like sitting arou…</td><td>2</td></tr><tr><td>&quot;fffb49b&quot;</td><td>&quot;In &quot;The Challenge of Exporing …</td><td>1</td></tr><tr><td>&quot;fffed3e&quot;</td><td>&quot;Venus is worthy place to study…</td><td>2</td></tr></tbody></table></div>"
      ],
      "text/plain": [
       "shape: (17_307, 3)\n",
       "┌──────────┬─────────────────────────────────┬───────┐\n",
       "│ essay_id ┆ full_text                       ┆ score │\n",
       "│ ---      ┆ ---                             ┆ ---   │\n",
       "│ str      ┆ str                             ┆ i64   │\n",
       "╞══════════╪═════════════════════════════════╪═══════╡\n",
       "│ 000d118  ┆ Many people have car where the… ┆ 3     │\n",
       "│ 000fe60  ┆ I am a scientist at NASA that … ┆ 3     │\n",
       "│ 001ab80  ┆ People always wish they had th… ┆ 4     │\n",
       "│ 001bdc0  ┆ We all heard about Venus, the … ┆ 4     │\n",
       "│ 002ba53  ┆ Dear, State Senator             ┆ 3     │\n",
       "│          ┆                                 ┆       │\n",
       "│          ┆ This is a…                      ┆       │\n",
       "│ …        ┆ …                               ┆ …     │\n",
       "│ ffd378d  ┆ the story \" The Challenge of E… ┆ 2     │\n",
       "│ ffddf1f  ┆ Technology has changed a lot o… ┆ 4     │\n",
       "│ fff016d  ┆ If you don't like sitting arou… ┆ 2     │\n",
       "│ fffb49b  ┆ In \"The Challenge of Exporing … ┆ 1     │\n",
       "│ fffed3e  ┆ Venus is worthy place to study… ┆ 2     │\n",
       "└──────────┴─────────────────────────────────┴───────┘"
      ]
     },
     "execution_count": 34,
     "metadata": {},
     "output_type": "execute_result"
    }
   ],
   "source": [
    "train"
   ]
  },
  {
   "cell_type": "code",
   "execution_count": 35,
   "metadata": {},
   "outputs": [],
   "source": [
    "train = train.join(  # prompt_nameを付与する\n",
    "    predicted_prompt.select(pl.col([\"essay_id\", \"prompt_name\"])),\n",
    "    how=\"left\",\n",
    "    on=\"essay_id\",\n",
    ")"
   ]
  },
  {
   "cell_type": "code",
   "execution_count": 36,
   "metadata": {},
   "outputs": [],
   "source": [
    "from datasets import load_dataset\n",
    "\n",
    "# 追加データ\n",
    "persuade_dataset = (\n",
    "    load_dataset(\n",
    "        \"csv\",\n",
    "        data_files={\"train\": f\"{DATA_PATH}/persuade_w_is_tr_con_as_num.csv\"},\n",
    "        split=\"train\",\n",
    "    )\n",
    "    .filter(lambda x: not x[\"is_train_contains\"])\n",
    "    .select_columns(\n",
    "        [\"essay_id_comp\", \"full_text\", \"holistic_essay_score\", \"prompt_name\"]\n",
    "    )\n",
    "    .rename_columns({\"essay_id_comp\": \"essay_id\", \"holistic_essay_score\": \"score\"})\n",
    ")\n",
    "\n",
    "persuade_df = pl.DataFrame(persuade_dataset.to_pandas())"
   ]
  },
  {
   "cell_type": "code",
   "execution_count": 37,
   "metadata": {},
   "outputs": [],
   "source": [
    "all_data = pl.concat([train, persuade_df])"
   ]
  },
  {
   "cell_type": "code",
   "execution_count": 38,
   "metadata": {},
   "outputs": [
    {
     "data": {
      "text/html": [
       "<div><style>\n",
       ".dataframe > thead > tr,\n",
       ".dataframe > tbody > tr {\n",
       "  text-align: right;\n",
       "  white-space: pre-wrap;\n",
       "}\n",
       "</style>\n",
       "<small>shape: (5, 4)</small><table border=\"1\" class=\"dataframe\"><thead><tr><th>essay_id</th><th>full_text</th><th>score</th><th>prompt_name</th></tr><tr><td>str</td><td>str</td><td>i64</td><td>str</td></tr></thead><tbody><tr><td>&quot;000d118&quot;</td><td>&quot;Many people have car where the…</td><td>3</td><td>&quot;Car-free cities&quot;</td></tr><tr><td>&quot;000fe60&quot;</td><td>&quot;I am a scientist at NASA that …</td><td>3</td><td>&quot;The Face on Mars&quot;</td></tr><tr><td>&quot;001ab80&quot;</td><td>&quot;People always wish they had th…</td><td>4</td><td>&quot;Driverless cars&quot;</td></tr><tr><td>&quot;001bdc0&quot;</td><td>&quot;We all heard about Venus, the …</td><td>4</td><td>&quot;Exploring Venus&quot;</td></tr><tr><td>&quot;002ba53&quot;</td><td>&quot;Dear, State Senator\n",
       "\n",
       "This is a…</td><td>3</td><td>&quot;Does the electoral college wor…</td></tr></tbody></table></div>"
      ],
      "text/plain": [
       "shape: (5, 4)\n",
       "┌──────────┬─────────────────────────────────┬───────┬─────────────────────────────────┐\n",
       "│ essay_id ┆ full_text                       ┆ score ┆ prompt_name                     │\n",
       "│ ---      ┆ ---                             ┆ ---   ┆ ---                             │\n",
       "│ str      ┆ str                             ┆ i64   ┆ str                             │\n",
       "╞══════════╪═════════════════════════════════╪═══════╪═════════════════════════════════╡\n",
       "│ 000d118  ┆ Many people have car where the… ┆ 3     ┆ Car-free cities                 │\n",
       "│ 000fe60  ┆ I am a scientist at NASA that … ┆ 3     ┆ The Face on Mars                │\n",
       "│ 001ab80  ┆ People always wish they had th… ┆ 4     ┆ Driverless cars                 │\n",
       "│ 001bdc0  ┆ We all heard about Venus, the … ┆ 4     ┆ Exploring Venus                 │\n",
       "│ 002ba53  ┆ Dear, State Senator             ┆ 3     ┆ Does the electoral college wor… │\n",
       "│          ┆                                 ┆       ┆                                 │\n",
       "│          ┆ This is a…                      ┆       ┆                                 │\n",
       "└──────────┴─────────────────────────────────┴───────┴─────────────────────────────────┘"
      ]
     },
     "execution_count": 38,
     "metadata": {},
     "output_type": "execute_result"
    }
   ],
   "source": [
    "all_data.head()"
   ]
  },
  {
   "cell_type": "code",
   "execution_count": 43,
   "metadata": {},
   "outputs": [],
   "source": [
    "essay_id_prompt_dict = dict(zip(all_data[\"essay_id\"], all_data[\"prompt_name\"]))\n",
    "\n",
    "import json\n",
    "\n",
    "with open(\"../../data/essay_id_prompt_dict.json\", \"w\") as f:\n",
    "    json.dump(essay_id_prompt_dict, f)"
   ]
  },
  {
   "cell_type": "code",
   "execution_count": 40,
   "metadata": {},
   "outputs": [
    {
     "data": {
      "text/plain": [
       "30431"
      ]
     },
     "execution_count": 40,
     "metadata": {},
     "output_type": "execute_result"
    }
   ],
   "source": [
    "len(essay_id_prompt_dict)"
   ]
  },
  {
   "cell_type": "code",
   "execution_count": null,
   "metadata": {},
   "outputs": [],
   "source": []
  }
 ],
 "metadata": {
  "kernelspec": {
   "display_name": ".venv",
   "language": "python",
   "name": "python3"
  },
  "language_info": {
   "codemirror_mode": {
    "name": "ipython",
    "version": 3
   },
   "file_extension": ".py",
   "mimetype": "text/x-python",
   "name": "python",
   "nbconvert_exporter": "python",
   "pygments_lexer": "ipython3",
   "version": "3.11.7"
  }
 },
 "nbformat": 4,
 "nbformat_minor": 2
}
