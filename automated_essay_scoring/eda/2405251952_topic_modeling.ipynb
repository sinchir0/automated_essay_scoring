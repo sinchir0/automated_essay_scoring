{
 "cells": [
  {
   "cell_type": "markdown",
   "metadata": {},
   "source": [
    "# 目的\n",
    "mpwareのtopic_modelingの結果を確認する\n",
    "\n",
    "https://www.kaggle.com/code/mpware/aes2-what-are-the-essays-about/notebook"
   ]
  },
  {
   "cell_type": "code",
   "execution_count": 10,
   "metadata": {},
   "outputs": [],
   "source": [
    "import polars as pl"
   ]
  },
  {
   "cell_type": "code",
   "execution_count": 11,
   "metadata": {},
   "outputs": [],
   "source": [
    "data = pl.read_parquet(\"../../data/aes2_topics.parquet\")"
   ]
  },
  {
   "cell_type": "code",
   "execution_count": 12,
   "metadata": {},
   "outputs": [
    {
     "data": {
      "text/html": [
       "<div><style>\n",
       ".dataframe > thead > tr,\n",
       ".dataframe > tbody > tr {\n",
       "  text-align: right;\n",
       "  white-space: pre-wrap;\n",
       "}\n",
       "</style>\n",
       "<small>shape: (30_432, 13)</small><table border=\"1\" class=\"dataframe\"><thead><tr><th>essay_id</th><th>full_text</th><th>score</th><th>uid</th><th>src</th><th>prompt_name</th><th>assignment</th><th>words</th><th>total_words</th><th>length</th><th>cleaned_text</th><th>topic</th><th>topic_keyword</th></tr><tr><td>str</td><td>str</td><td>i64</td><td>str</td><td>str</td><td>str</td><td>str</td><td>list[str]</td><td>i64</td><td>i64</td><td>str</td><td>i64</td><td>list[str]</td></tr></thead><tbody><tr><td>&quot;000d118&quot;</td><td>&quot;Many people have car where the…</td><td>3</td><td>&quot;c7961eec56c232f1fae190c7b6e1ad…</td><td>&quot;kaggle-persuade&quot;</td><td>null</td><td>null</td><td>[&quot;Many&quot;, &quot;people&quot;, … &quot;this.&quot;]</td><td>498</td><td>2673</td><td>&quot;Many people have car where the…</td><td>5</td><td>[&quot;use cars&quot;, &quot;car use&quot;, … &quot;buses&quot;]</td></tr><tr><td>&quot;000fe60&quot;</td><td>&quot;I am a scientist at NASA that …</td><td>3</td><td>&quot;6e43449e17c4b9bae4cc781c3e81ea…</td><td>&quot;kaggle-only&quot;</td><td>null</td><td>null</td><td>[&quot;I&quot;, &quot;am&quot;, … &quot;pictures.&quot;]</td><td>332</td><td>1665</td><td>&quot;I am a scientist at NASA that …</td><td>3</td><td>[&quot;face created&quot;, &quot;human face&quot;, … &quot;shadows&quot;]</td></tr><tr><td>&quot;001ab80&quot;</td><td>&quot;People always wish they had th…</td><td>4</td><td>&quot;d6d6c3aee23fa6947c811d676c5c00…</td><td>&quot;kaggle-only&quot;</td><td>null</td><td>null</td><td>[&quot;People&quot;, &quot;always&quot;, … &quot;benefical.&quot;]</td><td>550</td><td>3065</td><td>&quot;People always wish they had th…</td><td>6</td><td>[&quot;driverless cars&quot;, &quot;driverless car&quot;, … &quot;manufacturers&quot;]</td></tr><tr><td>&quot;001bdc0&quot;</td><td>&quot;We all heard about Venus, the …</td><td>4</td><td>&quot;cf3278e04359aa9f0eb387b6909bb6…</td><td>&quot;kaggle-only&quot;</td><td>null</td><td>null</td><td>[&quot;We&quot;, &quot;all&quot;, … &quot;Humans.&quot;]</td><td>451</td><td>2697</td><td>&quot;We all heard about Venus, the …</td><td>1</td><td>[&quot;venus earth&quot;, &quot;venus&quot;, … &quot;despite dangers&quot;]</td></tr><tr><td>&quot;002ba53&quot;</td><td>&quot;Dear, State Senator This is a …</td><td>3</td><td>&quot;ab9662363df3d32d50ba1ab1507e5e…</td><td>&quot;kaggle-persuade&quot;</td><td>null</td><td>null</td><td>[&quot;Dear,&quot;, &quot;State&quot;, … &quot;PROPER_NAME&quot;]</td><td>373</td><td>2190</td><td>&quot;Dear, State Senator This is a …</td><td>4</td><td>[&quot;electoral college&quot;, &quot;electoral&quot;, … &quot;founding fathers&quot;]</td></tr><tr><td>&hellip;</td><td>&hellip;</td><td>&hellip;</td><td>&hellip;</td><td>&hellip;</td><td>&hellip;</td><td>&hellip;</td><td>&hellip;</td><td>&hellip;</td><td>&hellip;</td><td>&hellip;</td><td>&hellip;</td><td>&hellip;</td></tr><tr><td>&quot;18409261F5C2&quot;</td><td>&quot;80% of Americans believe seeki…</td><td>5</td><td>&quot;5a7f12d4b072f1e7474172d4ab59f5…</td><td>&quot;persuade-only&quot;</td><td>&quot;Seeking multiple opinions&quot;</td><td>&quot;When people ask for advice, th…</td><td>[&quot;80%&quot;, &quot;of&quot;, … &quot;opinions.&quot;]</td><td>1056</td><td>6220</td><td>&quot;80% of Americans believe seeki…</td><td>11</td><td>[&quot;ask multiple people&quot;, &quot;asking advice&quot;, … &quot;different people&quot;]</td></tr><tr><td>&quot;D46BCB48440A&quot;</td><td>&quot;When people ask for advice,the…</td><td>4</td><td>&quot;9c8965488e6b1f4407c955df30362e…</td><td>&quot;persuade-only&quot;</td><td>&quot;Seeking multiple opinions&quot;</td><td>&quot;When people ask for advice, th…</td><td>[&quot;When&quot;, &quot;people&quot;, … &quot;help.&quot;]</td><td>363</td><td>1918</td><td>&quot;When people ask for advice,the…</td><td>11</td><td>[&quot;ask multiple people&quot;, &quot;asking advice&quot;, … &quot;different people&quot;]</td></tr><tr><td>&quot;0FB0700DAF44&quot;</td><td>&quot;During a group project, have y…</td><td>4</td><td>&quot;9ad2ea0ab87ba021c07335f298fd09…</td><td>&quot;persuade-only&quot;</td><td>&quot;Seeking multiple opinions&quot;</td><td>&quot;When people ask for advice, th…</td><td>[&quot;During&quot;, &quot;a&quot;, … &quot;individuals.&quot;]</td><td>635</td><td>3790</td><td>&quot;During a group project, have y…</td><td>11</td><td>[&quot;ask multiple people&quot;, &quot;asking advice&quot;, … &quot;different people&quot;]</td></tr><tr><td>&quot;D72CB1C11673&quot;</td><td>&quot;Making choices in life can be …</td><td>4</td><td>&quot;17b18147b5395970d0be5cecd8942a…</td><td>&quot;persuade-only&quot;</td><td>&quot;Seeking multiple opinions&quot;</td><td>&quot;When people ask for advice, th…</td><td>[&quot;Making&quot;, &quot;choices&quot;, … &quot;yourself.&quot;]</td><td>421</td><td>2411</td><td>&quot;Making choices in life can be …</td><td>11</td><td>[&quot;ask multiple people&quot;, &quot;asking advice&quot;, … &quot;different people&quot;]</td></tr><tr><td>&quot;DF920E0A7337&quot;</td><td>&quot;Have you ever asked more than …</td><td>4</td><td>&quot;12724760f59a66f82e0f7c368ac0b0…</td><td>&quot;persuade-only&quot;</td><td>&quot;Seeking multiple opinions&quot;</td><td>&quot;When people ask for advice, th…</td><td>[&quot;Have&quot;, &quot;you&quot;, … &quot;well!&quot;]</td><td>711</td><td>3782</td><td>&quot;Have you ever asked more than …</td><td>11</td><td>[&quot;ask multiple people&quot;, &quot;asking advice&quot;, … &quot;different people&quot;]</td></tr></tbody></table></div>"
      ],
      "text/plain": [
       "shape: (30_432, 13)\n",
       "┌─────────────┬─────────────┬───────┬─────────────┬───┬────────┬─────────────┬───────┬─────────────┐\n",
       "│ essay_id    ┆ full_text   ┆ score ┆ uid         ┆ … ┆ length ┆ cleaned_tex ┆ topic ┆ topic_keywo │\n",
       "│ ---         ┆ ---         ┆ ---   ┆ ---         ┆   ┆ ---    ┆ t           ┆ ---   ┆ rd          │\n",
       "│ str         ┆ str         ┆ i64   ┆ str         ┆   ┆ i64    ┆ ---         ┆ i64   ┆ ---         │\n",
       "│             ┆             ┆       ┆             ┆   ┆        ┆ str         ┆       ┆ list[str]   │\n",
       "╞═════════════╪═════════════╪═══════╪═════════════╪═══╪════════╪═════════════╪═══════╪═════════════╡\n",
       "│ 000d118     ┆ Many people ┆ 3     ┆ c7961eec56c ┆ … ┆ 2673   ┆ Many people ┆ 5     ┆ [\"use       │\n",
       "│             ┆ have car    ┆       ┆ 232f1fae190 ┆   ┆        ┆ have car    ┆       ┆ cars\", \"car │\n",
       "│             ┆ where the…  ┆       ┆ c7b6e1ad…   ┆   ┆        ┆ where the…  ┆       ┆ use\", …     │\n",
       "│             ┆             ┆       ┆             ┆   ┆        ┆             ┆       ┆ \"bus…       │\n",
       "│ 000fe60     ┆ I am a      ┆ 3     ┆ 6e43449e17c ┆ … ┆ 1665   ┆ I am a      ┆ 3     ┆ [\"face      │\n",
       "│             ┆ scientist   ┆       ┆ 4b9bae4cc78 ┆   ┆        ┆ scientist   ┆       ┆ created\",   │\n",
       "│             ┆ at NASA     ┆       ┆ 1c3e81ea…   ┆   ┆        ┆ at NASA     ┆       ┆ \"human      │\n",
       "│             ┆ that …      ┆       ┆             ┆   ┆        ┆ that …      ┆       ┆ face\",…     │\n",
       "│ 001ab80     ┆ People      ┆ 4     ┆ d6d6c3aee23 ┆ … ┆ 3065   ┆ People      ┆ 6     ┆ [\"driverles │\n",
       "│             ┆ always wish ┆       ┆ fa6947c811d ┆   ┆        ┆ always wish ┆       ┆ s cars\",    │\n",
       "│             ┆ they had    ┆       ┆ 676c5c00…   ┆   ┆        ┆ they had    ┆       ┆ \"driverles… │\n",
       "│             ┆ th…         ┆       ┆             ┆   ┆        ┆ th…         ┆       ┆             │\n",
       "│ 001bdc0     ┆ We all      ┆ 4     ┆ cf3278e0435 ┆ … ┆ 2697   ┆ We all      ┆ 1     ┆ [\"venus     │\n",
       "│             ┆ heard about ┆       ┆ 9aa9f0eb387 ┆   ┆        ┆ heard about ┆       ┆ earth\",     │\n",
       "│             ┆ Venus, the  ┆       ┆ b6909bb6…   ┆   ┆        ┆ Venus, the  ┆       ┆ \"venus\", …  │\n",
       "│             ┆ …           ┆       ┆             ┆   ┆        ┆ …           ┆       ┆ \"de…        │\n",
       "│ 002ba53     ┆ Dear, State ┆ 3     ┆ ab9662363df ┆ … ┆ 2190   ┆ Dear, State ┆ 4     ┆ [\"electoral │\n",
       "│             ┆ Senator     ┆       ┆ 3d32d50ba1a ┆   ┆        ┆ Senator     ┆       ┆ college\",   │\n",
       "│             ┆ This is a … ┆       ┆ b1507e5e…   ┆   ┆        ┆ This is a … ┆       ┆ \"elector…   │\n",
       "│ …           ┆ …           ┆ …     ┆ …           ┆ … ┆ …      ┆ …           ┆ …     ┆ …           │\n",
       "│ 18409261F5C ┆ 80% of      ┆ 5     ┆ 5a7f12d4b07 ┆ … ┆ 6220   ┆ 80% of      ┆ 11    ┆ [\"ask       │\n",
       "│ 2           ┆ Americans   ┆       ┆ 2f1e7474172 ┆   ┆        ┆ Americans   ┆       ┆ multiple    │\n",
       "│             ┆ believe     ┆       ┆ d4ab59f5…   ┆   ┆        ┆ believe     ┆       ┆ people\",    │\n",
       "│             ┆ seeki…      ┆       ┆             ┆   ┆        ┆ seeki…      ┆       ┆ \"askin…     │\n",
       "│ D46BCB48440 ┆ When people ┆ 4     ┆ 9c8965488e6 ┆ … ┆ 1918   ┆ When people ┆ 11    ┆ [\"ask       │\n",
       "│ A           ┆ ask for     ┆       ┆ b1f4407c955 ┆   ┆        ┆ ask for     ┆       ┆ multiple    │\n",
       "│             ┆ advice,the… ┆       ┆ df30362e…   ┆   ┆        ┆ advice,the… ┆       ┆ people\",    │\n",
       "│             ┆             ┆       ┆             ┆   ┆        ┆             ┆       ┆ \"askin…     │\n",
       "│ 0FB0700DAF4 ┆ During a    ┆ 4     ┆ 9ad2ea0ab87 ┆ … ┆ 3790   ┆ During a    ┆ 11    ┆ [\"ask       │\n",
       "│ 4           ┆ group       ┆       ┆ ba021c07335 ┆   ┆        ┆ group       ┆       ┆ multiple    │\n",
       "│             ┆ project,    ┆       ┆ f298fd09…   ┆   ┆        ┆ project,    ┆       ┆ people\",    │\n",
       "│             ┆ have y…     ┆       ┆             ┆   ┆        ┆ have y…     ┆       ┆ \"askin…     │\n",
       "│ D72CB1C1167 ┆ Making      ┆ 4     ┆ 17b18147b53 ┆ … ┆ 2411   ┆ Making      ┆ 11    ┆ [\"ask       │\n",
       "│ 3           ┆ choices in  ┆       ┆ 95970d0be5c ┆   ┆        ┆ choices in  ┆       ┆ multiple    │\n",
       "│             ┆ life can be ┆       ┆ ecd8942a…   ┆   ┆        ┆ life can be ┆       ┆ people\",    │\n",
       "│             ┆ …           ┆       ┆             ┆   ┆        ┆ …           ┆       ┆ \"askin…     │\n",
       "│ DF920E0A733 ┆ Have you    ┆ 4     ┆ 12724760f59 ┆ … ┆ 3782   ┆ Have you    ┆ 11    ┆ [\"ask       │\n",
       "│ 7           ┆ ever asked  ┆       ┆ a66f82e0f7c ┆   ┆        ┆ ever asked  ┆       ┆ multiple    │\n",
       "│             ┆ more than … ┆       ┆ 368ac0b0…   ┆   ┆        ┆ more than … ┆       ┆ people\",    │\n",
       "│             ┆             ┆       ┆             ┆   ┆        ┆             ┆       ┆ \"askin…     │\n",
       "└─────────────┴─────────────┴───────┴─────────────┴───┴────────┴─────────────┴───────┴─────────────┘"
      ]
     },
     "execution_count": 12,
     "metadata": {},
     "output_type": "execute_result"
    }
   ],
   "source": [
    "data"
   ]
  },
  {
   "cell_type": "code",
   "execution_count": 13,
   "metadata": {},
   "outputs": [],
   "source": [
    "essay_id_topic_dict = dict(zip(data[\"essay_id\"], data[\"topic\"]))"
   ]
  },
  {
   "cell_type": "code",
   "execution_count": 15,
   "metadata": {},
   "outputs": [
    {
     "data": {
      "text/plain": [
       "{5: 'Write an explanatory essay to inform fellow citizens about the advantages of limiting car usage. Your essay must be based on ideas and information that can be found in the passage set. Manage your time carefully so that you can read the passages; plan your response; write your response; and revise and edit your response. Be sure to use evidence from multiple sources; and avoid overly relying on one source. Your response should be in the form of a multiparagraph essay. Write your essay in the space provided.',\n",
       " 3: None,\n",
       " 6: None,\n",
       " 1: None,\n",
       " 4: None,\n",
       " 0: None,\n",
       " 9: None,\n",
       " 12: None,\n",
       " 13: 'Some of your friends perform community service. For example, some tutor elementary school children and others clean up litter. They think helping the community is very important. But other friends of yours think community service takes too much time away from what they need or want to do. \\nYour principal is deciding whether to require all students to perform community service. \\nWrite a letter to your principal in which you take a position on whether students should be required to perform community service. Support your position with examples.',\n",
       " 2: 'When people ask for advice, they sometimes talk to more than one person. Explain why seeking multiple opinions can help someone make a better choice. Use specific details and examples in your response.',\n",
       " -1: 'Your principal has decided that all students must participate in at least one extracurricular activity. For example, students could participate in sports, work on the yearbook, or serve on the student council. Do you agree or disagree with this decision? Use specific details and examples to convince others to support your position. ',\n",
       " 14: 'Today the majority of humans own and operate cell phones on a daily basis. In essay form, explain if drivers should or should not be able to use cell phones in any capacity while operating a vehicle.',\n",
       " 7: 'Some schools require students to complete summer projects to assure they continue learning during their break. Should these summer projects be teacher-designed or student-designed? Take a position on this question. Support your response with reasons and specific examples.',\n",
       " 16: 'Your principal has decided that all students must participate in at least one extracurricular activity. For example, students could participate in sports, work on the yearbook, or serve on the student council. Do you agree or disagree with this decision? Use specific details and examples to convince others to support your position. ',\n",
       " 15: 'When people ask for advice, they sometimes talk to more than one person. Explain why seeking multiple opinions can help someone make a better choice. Use specific details and examples in your response.',\n",
       " 10: \"Your principal is considering changing school policy so that students may not participate in sports or other activities unless they have at least a grade B average. Many students have a grade C average. \\nShe would like to hear the students' views on this possible policy change. Write a letter to your principal arguing for or against requiring at least a grade B average to participate in sports or other activities. Be sure to support your arguments with specific reasons.\",\n",
       " 8: \"Your principal is reconsidering the school's cell phone policy. She is considering two possible policies: \\nPolicy 1: Allow students to bring phones to school and use them during lunch periods and other free times, as long as the phones are turned off during class time. \\nPolicy 2: Do not allow students to have phones at school at all.\\nWrite a letter to your principal convincing her which policy you believe is better. Support your position with specific reasons.\",\n",
       " 11: 'When people ask for advice, they sometimes talk to more than one person. Explain why seeking multiple opinions can help someone make a better choice. Use specific details and examples in your response.'}"
      ]
     },
     "execution_count": 15,
     "metadata": {},
     "output_type": "execute_result"
    }
   ],
   "source": [
    "dict(zip(data[\"topic\"], data[\"assignment\"]))"
   ]
  },
  {
   "cell_type": "code",
   "execution_count": 8,
   "metadata": {},
   "outputs": [
    {
     "data": {
      "text/plain": [
       "{-1, 2, 5, 7, 8, 10, 11, 13, 14, 15, 16}"
      ]
     },
     "execution_count": 8,
     "metadata": {},
     "output_type": "execute_result"
    }
   ],
   "source": [
    "set(data[\"topic\"])"
   ]
  },
  {
   "cell_type": "code",
   "execution_count": 9,
   "metadata": {},
   "outputs": [
    {
     "data": {
      "text/plain": [
       "{'Today the majority of humans own and operate cell phones on a daily basis. In essay form, explain if drivers should or should not be able to use cell phones in any capacity while operating a vehicle.': 14,\n",
       " 'Write an explanatory essay to inform fellow citizens about the advantages of limiting car usage. Your essay must be based on ideas and information that can be found in the passage set. Manage your time carefully so that you can read the passages; plan your response; write your response; and revise and edit your response. Be sure to use evidence from multiple sources; and avoid overly relying on one source. Your response should be in the form of a multiparagraph essay. Write your essay in the space provided.': 5,\n",
       " 'Some schools require students to complete summer projects to assure they continue learning during their break. Should these summer projects be teacher-designed or student-designed? Take a position on this question. Support your response with reasons and specific examples.': 7,\n",
       " 'Your principal has decided that all students must participate in at least one extracurricular activity. For example, students could participate in sports, work on the yearbook, or serve on the student council. Do you agree or disagree with this decision? Use specific details and examples to convince others to support your position. ': 15,\n",
       " 'Some of your friends perform community service. For example, some tutor elementary school children and others clean up litter. They think helping the community is very important. But other friends of yours think community service takes too much time away from what they need or want to do. \\nYour principal is deciding whether to require all students to perform community service. \\nWrite a letter to your principal in which you take a position on whether students should be required to perform community service. Support your position with examples.': 13,\n",
       " \"Your principal is considering changing school policy so that students may not participate in sports or other activities unless they have at least a grade B average. Many students have a grade C average. \\nShe would like to hear the students' views on this possible policy change. Write a letter to your principal arguing for or against requiring at least a grade B average to participate in sports or other activities. Be sure to support your arguments with specific reasons.\": 10,\n",
       " \"Your principal is reconsidering the school's cell phone policy. She is considering two possible policies: \\nPolicy 1: Allow students to bring phones to school and use them during lunch periods and other free times, as long as the phones are turned off during class time. \\nPolicy 2: Do not allow students to have phones at school at all.\\nWrite a letter to your principal convincing her which policy you believe is better. Support your position with specific reasons.\": 8,\n",
       " 'Some schools offer distance learning as an option for students to attend classes from home by way of online or video conferencing. Do you think students would benefit from being able to attend classes from home? Take a position on this issue. Support your response with reasons and examples.': 2,\n",
       " 'When people ask for advice, they sometimes talk to more than one person. Explain why seeking multiple opinions can help someone make a better choice. Use specific details and examples in your response.': 11}"
      ]
     },
     "execution_count": 9,
     "metadata": {},
     "output_type": "execute_result"
    }
   ],
   "source": [
    "data = data.filter(pl.col(\"prompt_name\").is_not_null())\n",
    "\n",
    "dict(zip(data[\"assignment\"], data[\"topic\"]))"
   ]
  },
  {
   "cell_type": "code",
   "execution_count": 14,
   "metadata": {},
   "outputs": [],
   "source": [
    "import json\n",
    "\n",
    "with open(\"essay_id_topic_dict.json\", \"w\") as f:\n",
    "    json.dump(essay_id_topic_dict, f)"
   ]
  },
  {
   "cell_type": "markdown",
   "metadata": {},
   "source": []
  }
 ],
 "metadata": {
  "kernelspec": {
   "display_name": ".venv",
   "language": "python",
   "name": "python3"
  },
  "language_info": {
   "codemirror_mode": {
    "name": "ipython",
    "version": 3
   },
   "file_extension": ".py",
   "mimetype": "text/x-python",
   "name": "python",
   "nbconvert_exporter": "python",
   "pygments_lexer": "ipython3",
   "version": "3.11.7"
  }
 },
 "nbformat": 4,
 "nbformat_minor": 2
}
