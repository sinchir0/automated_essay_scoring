{
 "cells": [
  {
   "cell_type": "code",
   "execution_count": 1,
   "metadata": {},
   "outputs": [],
   "source": [
    "import polars as pl\n",
    "\n",
    "DATA_PATH = \"../../data/\"\n",
    "\n",
    "train = pl.read_csv(DATA_PATH + \"train.csv\")\n",
    "predicted_prompt = pl.read_csv(DATA_PATH + \"predicted_prompt.csv\")"
   ]
  },
  {
   "cell_type": "code",
   "execution_count": 2,
   "metadata": {},
   "outputs": [
    {
     "data": {
      "text/html": [
       "<div><style>\n",
       ".dataframe > thead > tr,\n",
       ".dataframe > tbody > tr {\n",
       "  text-align: right;\n",
       "  white-space: pre-wrap;\n",
       "}\n",
       "</style>\n",
       "<small>shape: (17_307, 3)</small><table border=\"1\" class=\"dataframe\"><thead><tr><th>essay_id</th><th>full_text</th><th>score</th></tr><tr><td>str</td><td>str</td><td>i64</td></tr></thead><tbody><tr><td>&quot;000d118&quot;</td><td>&quot;Many people have car where the…</td><td>3</td></tr><tr><td>&quot;000fe60&quot;</td><td>&quot;I am a scientist at NASA that …</td><td>3</td></tr><tr><td>&quot;001ab80&quot;</td><td>&quot;People always wish they had th…</td><td>4</td></tr><tr><td>&quot;001bdc0&quot;</td><td>&quot;We all heard about Venus, the …</td><td>4</td></tr><tr><td>&quot;002ba53&quot;</td><td>&quot;Dear, State Senator\n",
       "\n",
       "This is a…</td><td>3</td></tr><tr><td>&hellip;</td><td>&hellip;</td><td>&hellip;</td></tr><tr><td>&quot;ffd378d&quot;</td><td>&quot;the story &quot; The Challenge of E…</td><td>2</td></tr><tr><td>&quot;ffddf1f&quot;</td><td>&quot;Technology has changed a lot o…</td><td>4</td></tr><tr><td>&quot;fff016d&quot;</td><td>&quot;If you don&#x27;t like sitting arou…</td><td>2</td></tr><tr><td>&quot;fffb49b&quot;</td><td>&quot;In &quot;The Challenge of Exporing …</td><td>1</td></tr><tr><td>&quot;fffed3e&quot;</td><td>&quot;Venus is worthy place to study…</td><td>2</td></tr></tbody></table></div>"
      ],
      "text/plain": [
       "shape: (17_307, 3)\n",
       "┌──────────┬─────────────────────────────────┬───────┐\n",
       "│ essay_id ┆ full_text                       ┆ score │\n",
       "│ ---      ┆ ---                             ┆ ---   │\n",
       "│ str      ┆ str                             ┆ i64   │\n",
       "╞══════════╪═════════════════════════════════╪═══════╡\n",
       "│ 000d118  ┆ Many people have car where the… ┆ 3     │\n",
       "│ 000fe60  ┆ I am a scientist at NASA that … ┆ 3     │\n",
       "│ 001ab80  ┆ People always wish they had th… ┆ 4     │\n",
       "│ 001bdc0  ┆ We all heard about Venus, the … ┆ 4     │\n",
       "│ 002ba53  ┆ Dear, State Senator             ┆ 3     │\n",
       "│          ┆                                 ┆       │\n",
       "│          ┆ This is a…                      ┆       │\n",
       "│ …        ┆ …                               ┆ …     │\n",
       "│ ffd378d  ┆ the story \" The Challenge of E… ┆ 2     │\n",
       "│ ffddf1f  ┆ Technology has changed a lot o… ┆ 4     │\n",
       "│ fff016d  ┆ If you don't like sitting arou… ┆ 2     │\n",
       "│ fffb49b  ┆ In \"The Challenge of Exporing … ┆ 1     │\n",
       "│ fffed3e  ┆ Venus is worthy place to study… ┆ 2     │\n",
       "└──────────┴─────────────────────────────────┴───────┘"
      ]
     },
     "execution_count": 2,
     "metadata": {},
     "output_type": "execute_result"
    }
   ],
   "source": [
    "train"
   ]
  },
  {
   "cell_type": "code",
   "execution_count": 3,
   "metadata": {},
   "outputs": [],
   "source": [
    "train = train.join(  # prompt_nameを付与する\n",
    "    predicted_prompt.select(pl.col([\"essay_id\", \"prompt_name\"])),\n",
    "    how=\"left\",\n",
    "    on=\"essay_id\",\n",
    ")"
   ]
  },
  {
   "cell_type": "code",
   "execution_count": 4,
   "metadata": {},
   "outputs": [
    {
     "name": "stderr",
     "output_type": "stream",
     "text": [
      "/Users/shinichiro.saito/automated_essay_scoring/.venv/lib/python3.11/site-packages/tqdm/auto.py:21: TqdmWarning: IProgress not found. Please update jupyter and ipywidgets. See https://ipywidgets.readthedocs.io/en/stable/user_install.html\n",
      "  from .autonotebook import tqdm as notebook_tqdm\n"
     ]
    }
   ],
   "source": [
    "from datasets import load_dataset\n",
    "\n",
    "# 追加データ\n",
    "persuade_dataset = (\n",
    "    load_dataset(\n",
    "        \"csv\",\n",
    "        data_files={\"train\": f\"{DATA_PATH}/persuade_w_is_tr_con_as_num.csv\"},\n",
    "        split=\"train\",\n",
    "    )\n",
    "    .filter(lambda x: not x[\"is_train_contains\"])\n",
    "    .select_columns(\n",
    "        [\"essay_id_comp\", \"full_text\", \"holistic_essay_score\", \"prompt_name\"]\n",
    "    )\n",
    "    .rename_columns({\"essay_id_comp\": \"essay_id\", \"holistic_essay_score\": \"score\"})\n",
    ")\n",
    "\n",
    "persuade_df = pl.DataFrame(persuade_dataset.to_pandas())"
   ]
  },
  {
   "cell_type": "code",
   "execution_count": 5,
   "metadata": {},
   "outputs": [],
   "source": [
    "train = pl.concat([train, persuade_df])\n",
    "\n",
    "train = train.with_columns(  # prompt_nameをlabel encodingする\n",
    "    pl.col(\"prompt_name\").cast(pl.Categorical).to_physical().alias(\"prompt_id\")\n",
    ")"
   ]
  },
  {
   "cell_type": "code",
   "execution_count": 6,
   "metadata": {},
   "outputs": [
    {
     "data": {
      "text/plain": [
       "polars.config.Config"
      ]
     },
     "execution_count": 6,
     "metadata": {},
     "output_type": "execute_result"
    }
   ],
   "source": [
    "pl.Config.set_tbl_rows(100)"
   ]
  },
  {
   "cell_type": "code",
   "execution_count": 7,
   "metadata": {},
   "outputs": [],
   "source": [
    "train = train.with_columns(\n",
    "    pl.col(\"full_text\")\n",
    "    .map_elements(lambda x: len(x.split()), return_dtype=pl.Int64)\n",
    "    .alias(\"word_length\"),\n",
    ")"
   ]
  },
  {
   "cell_type": "code",
   "execution_count": 8,
   "metadata": {},
   "outputs": [
    {
     "data": {
      "text/plain": [
       "<Axes: xlabel='word_length', ylabel='score'>"
      ]
     },
     "execution_count": 8,
     "metadata": {},
     "output_type": "execute_result"
    },
    {
     "data": {
      "image/png": "[encoded data removed]",
      "text/plain": [
       "<Figure size 640x480 with 1 Axes>"
      ]
     },
     "metadata": {},
     "output_type": "display_data"
    }
   ],
   "source": [
    "import seaborn as sns\n",
    "\n",
    "sns.scatterplot(train.to_pandas(), x=\"word_length\", y=\"score\", alpha=0.5)"
   ]
  },
  {
   "cell_type": "code",
   "execution_count": 9,
   "metadata": {},
   "outputs": [],
   "source": [
    "train = train.with_columns(\n",
    "    pl.when(pl.col(\"word_length\") <= 200)\n",
    "    .then(pl.lit(\"x<=200\"))\n",
    "    .when(pl.col(\"word_length\") <= 400)\n",
    "    .then(pl.lit(\"200<x<=400\"))\n",
    "    .when(pl.col(\"word_length\") <= 600)\n",
    "    .then(pl.lit(\"400<x<=600\"))\n",
    "    .when(pl.col(\"word_length\") <= 800)\n",
    "    .then(pl.lit(\"600<x<=800\"))\n",
    "    .when(pl.col(\"word_length\") <= 1000)\n",
    "    .then(pl.lit(\"800<x<=1000\"))\n",
    "    .when(pl.col(\"word_length\") <= 1200)\n",
    "    .then(pl.lit(\"1000<x<=1200\"))\n",
    "    .when(pl.col(\"word_length\") > 1200)\n",
    "    .then(pl.lit(\"x>1200\"))\n",
    "    .alias(\"word_length_cat\"),\n",
    ")"
   ]
  },
  {
   "cell_type": "code",
   "execution_count": 10,
   "metadata": {},
   "outputs": [],
   "source": [
    "train = train.with_columns(\n",
    "    pl.concat_str(\n",
    "        pl.col(\"score\"),\n",
    "        pl.col(\"word_length_cat\"),\n",
    "        separator=\"_\",\n",
    "    ).alias(\"score_word_length_cat\")\n",
    ").with_columns(\n",
    "    pl.concat_str(\n",
    "        pl.col(\"score_word_length_cat\"),\n",
    "        pl.col(\"prompt_id\"),\n",
    "        separator=\"_\",\n",
    "    ).alias(\"concat_score_word_length_prompt_id\")\n",
    ")"
   ]
  },
  {
   "cell_type": "code",
   "execution_count": 11,
   "metadata": {},
   "outputs": [
    {
     "data": {
      "text/html": [
       "<div><style>\n",
       ".dataframe > thead > tr,\n",
       ".dataframe > tbody > tr {\n",
       "  text-align: right;\n",
       "  white-space: pre-wrap;\n",
       "}\n",
       "</style>\n",
       "<small>shape: (10, 9)</small><table border=\"1\" class=\"dataframe\"><thead><tr><th>essay_id</th><th>full_text</th><th>score</th><th>prompt_name</th><th>prompt_id</th><th>word_length</th><th>word_length_cat</th><th>score_word_length_cat</th><th>concat_score_word_length_prompt_id</th></tr><tr><td>str</td><td>str</td><td>i64</td><td>str</td><td>u32</td><td>i64</td><td>str</td><td>str</td><td>str</td></tr></thead><tbody><tr><td>&quot;000d118&quot;</td><td>&quot;Many people have car where the…</td><td>3</td><td>&quot;Car-free cities&quot;</td><td>0</td><td>498</td><td>&quot;400&lt;x&lt;=600&quot;</td><td>&quot;3_400&lt;x&lt;=600&quot;</td><td>&quot;3_400&lt;x&lt;=600_0&quot;</td></tr><tr><td>&quot;000fe60&quot;</td><td>&quot;I am a scientist at NASA that …</td><td>3</td><td>&quot;The Face on Mars&quot;</td><td>1</td><td>332</td><td>&quot;200&lt;x&lt;=400&quot;</td><td>&quot;3_200&lt;x&lt;=400&quot;</td><td>&quot;3_200&lt;x&lt;=400_1&quot;</td></tr><tr><td>&quot;001ab80&quot;</td><td>&quot;People always wish they had th…</td><td>4</td><td>&quot;Driverless cars&quot;</td><td>2</td><td>550</td><td>&quot;400&lt;x&lt;=600&quot;</td><td>&quot;4_400&lt;x&lt;=600&quot;</td><td>&quot;4_400&lt;x&lt;=600_2&quot;</td></tr><tr><td>&quot;001bdc0&quot;</td><td>&quot;We all heard about Venus, the …</td><td>4</td><td>&quot;Exploring Venus&quot;</td><td>3</td><td>451</td><td>&quot;400&lt;x&lt;=600&quot;</td><td>&quot;4_400&lt;x&lt;=600&quot;</td><td>&quot;4_400&lt;x&lt;=600_3&quot;</td></tr><tr><td>&quot;002ba53&quot;</td><td>&quot;Dear, State Senator\n",
       "\n",
       "This is a…</td><td>3</td><td>&quot;Does the electoral college wor…</td><td>4</td><td>373</td><td>&quot;200&lt;x&lt;=400&quot;</td><td>&quot;3_200&lt;x&lt;=400&quot;</td><td>&quot;3_200&lt;x&lt;=400_4&quot;</td></tr><tr><td>&quot;0030e86&quot;</td><td>&quot;If I were to choose between ke…</td><td>4</td><td>&quot;Does the electoral college wor…</td><td>4</td><td>400</td><td>&quot;200&lt;x&lt;=400&quot;</td><td>&quot;4_200&lt;x&lt;=400&quot;</td><td>&quot;4_200&lt;x&lt;=400_4&quot;</td></tr><tr><td>&quot;0033037&quot;</td><td>&quot;The posibilty of a face reconi…</td><td>2</td><td>&quot;Facial action coding system&quot;</td><td>5</td><td>179</td><td>&quot;x&lt;=200&quot;</td><td>&quot;2_x&lt;=200&quot;</td><td>&quot;2_x&lt;=200_5&quot;</td></tr><tr><td>&quot;0033bf4&quot;</td><td>&quot;What is the Seagoing Cowboys p…</td><td>3</td><td>&quot;&quot;A Cowboy Who Rode the Waves&quot;&quot;</td><td>6</td><td>353</td><td>&quot;200&lt;x&lt;=400&quot;</td><td>&quot;3_200&lt;x&lt;=400&quot;</td><td>&quot;3_200&lt;x&lt;=400_6&quot;</td></tr><tr><td>&quot;0036253&quot;</td><td>&quot;The challenge of exploring Ven…</td><td>2</td><td>&quot;Exploring Venus&quot;</td><td>3</td><td>310</td><td>&quot;200&lt;x&lt;=400&quot;</td><td>&quot;2_200&lt;x&lt;=400&quot;</td><td>&quot;2_200&lt;x&lt;=400_3&quot;</td></tr><tr><td>&quot;0040e27&quot;</td><td>&quot;There are many reasons why you…</td><td>3</td><td>&quot;&quot;A Cowboy Who Rode the Waves&quot;&quot;</td><td>6</td><td>280</td><td>&quot;200&lt;x&lt;=400&quot;</td><td>&quot;3_200&lt;x&lt;=400&quot;</td><td>&quot;3_200&lt;x&lt;=400_6&quot;</td></tr></tbody></table></div>"
      ],
      "text/plain": [
       "shape: (10, 9)\n",
       "┌──────────┬────────────┬───────┬────────────┬───┬────────────┬────────────┬───────────┬───────────┐\n",
       "│ essay_id ┆ full_text  ┆ score ┆ prompt_nam ┆ … ┆ word_lengt ┆ word_lengt ┆ score_wor ┆ concat_sc │\n",
       "│ ---      ┆ ---        ┆ ---   ┆ e          ┆   ┆ h          ┆ h_cat      ┆ d_length_ ┆ ore_word_ │\n",
       "│ str      ┆ str        ┆ i64   ┆ ---        ┆   ┆ ---        ┆ ---        ┆ cat       ┆ length_pr │\n",
       "│          ┆            ┆       ┆ str        ┆   ┆ i64        ┆ str        ┆ ---       ┆ omp…      │\n",
       "│          ┆            ┆       ┆            ┆   ┆            ┆            ┆ str       ┆ ---       │\n",
       "│          ┆            ┆       ┆            ┆   ┆            ┆            ┆           ┆ str       │\n",
       "╞══════════╪════════════╪═══════╪════════════╪═══╪════════════╪════════════╪═══════════╪═══════════╡\n",
       "│ 000d118  ┆ Many       ┆ 3     ┆ Car-free   ┆ … ┆ 498        ┆ 400<x<=600 ┆ 3_400<x<= ┆ 3_400<x<= │\n",
       "│          ┆ people     ┆       ┆ cities     ┆   ┆            ┆            ┆ 600       ┆ 600_0     │\n",
       "│          ┆ have car   ┆       ┆            ┆   ┆            ┆            ┆           ┆           │\n",
       "│          ┆ where the… ┆       ┆            ┆   ┆            ┆            ┆           ┆           │\n",
       "│ 000fe60  ┆ I am a     ┆ 3     ┆ The Face   ┆ … ┆ 332        ┆ 200<x<=400 ┆ 3_200<x<= ┆ 3_200<x<= │\n",
       "│          ┆ scientist  ┆       ┆ on Mars    ┆   ┆            ┆            ┆ 400       ┆ 400_1     │\n",
       "│          ┆ at NASA    ┆       ┆            ┆   ┆            ┆            ┆           ┆           │\n",
       "│          ┆ that …     ┆       ┆            ┆   ┆            ┆            ┆           ┆           │\n",
       "│ 001ab80  ┆ People     ┆ 4     ┆ Driverless ┆ … ┆ 550        ┆ 400<x<=600 ┆ 4_400<x<= ┆ 4_400<x<= │\n",
       "│          ┆ always     ┆       ┆ cars       ┆   ┆            ┆            ┆ 600       ┆ 600_2     │\n",
       "│          ┆ wish they  ┆       ┆            ┆   ┆            ┆            ┆           ┆           │\n",
       "│          ┆ had th…    ┆       ┆            ┆   ┆            ┆            ┆           ┆           │\n",
       "│ 001bdc0  ┆ We all     ┆ 4     ┆ Exploring  ┆ … ┆ 451        ┆ 400<x<=600 ┆ 4_400<x<= ┆ 4_400<x<= │\n",
       "│          ┆ heard      ┆       ┆ Venus      ┆   ┆            ┆            ┆ 600       ┆ 600_3     │\n",
       "│          ┆ about      ┆       ┆            ┆   ┆            ┆            ┆           ┆           │\n",
       "│          ┆ Venus, the ┆       ┆            ┆   ┆            ┆            ┆           ┆           │\n",
       "│          ┆ …          ┆       ┆            ┆   ┆            ┆            ┆           ┆           │\n",
       "│ 002ba53  ┆ Dear,      ┆ 3     ┆ Does the   ┆ … ┆ 373        ┆ 200<x<=400 ┆ 3_200<x<= ┆ 3_200<x<= │\n",
       "│          ┆ State      ┆       ┆ electoral  ┆   ┆            ┆            ┆ 400       ┆ 400_4     │\n",
       "│          ┆ Senator    ┆       ┆ college    ┆   ┆            ┆            ┆           ┆           │\n",
       "│          ┆            ┆       ┆ wor…       ┆   ┆            ┆            ┆           ┆           │\n",
       "│          ┆ This is a… ┆       ┆            ┆   ┆            ┆            ┆           ┆           │\n",
       "│ 0030e86  ┆ If I were  ┆ 4     ┆ Does the   ┆ … ┆ 400        ┆ 200<x<=400 ┆ 4_200<x<= ┆ 4_200<x<= │\n",
       "│          ┆ to choose  ┆       ┆ electoral  ┆   ┆            ┆            ┆ 400       ┆ 400_4     │\n",
       "│          ┆ between    ┆       ┆ college    ┆   ┆            ┆            ┆           ┆           │\n",
       "│          ┆ ke…        ┆       ┆ wor…       ┆   ┆            ┆            ┆           ┆           │\n",
       "│ 0033037  ┆ The        ┆ 2     ┆ Facial     ┆ … ┆ 179        ┆ x<=200     ┆ 2_x<=200  ┆ 2_x<=200_ │\n",
       "│          ┆ posibilty  ┆       ┆ action     ┆   ┆            ┆            ┆           ┆ 5         │\n",
       "│          ┆ of a face  ┆       ┆ coding     ┆   ┆            ┆            ┆           ┆           │\n",
       "│          ┆ reconi…    ┆       ┆ system     ┆   ┆            ┆            ┆           ┆           │\n",
       "│ 0033bf4  ┆ What is    ┆ 3     ┆ \"A Cowboy  ┆ … ┆ 353        ┆ 200<x<=400 ┆ 3_200<x<= ┆ 3_200<x<= │\n",
       "│          ┆ the        ┆       ┆ Who Rode   ┆   ┆            ┆            ┆ 400       ┆ 400_6     │\n",
       "│          ┆ Seagoing   ┆       ┆ the Waves\" ┆   ┆            ┆            ┆           ┆           │\n",
       "│          ┆ Cowboys p… ┆       ┆            ┆   ┆            ┆            ┆           ┆           │\n",
       "│ 0036253  ┆ The        ┆ 2     ┆ Exploring  ┆ … ┆ 310        ┆ 200<x<=400 ┆ 2_200<x<= ┆ 2_200<x<= │\n",
       "│          ┆ challenge  ┆       ┆ Venus      ┆   ┆            ┆            ┆ 400       ┆ 400_3     │\n",
       "│          ┆ of         ┆       ┆            ┆   ┆            ┆            ┆           ┆           │\n",
       "│          ┆ exploring  ┆       ┆            ┆   ┆            ┆            ┆           ┆           │\n",
       "│          ┆ Ven…       ┆       ┆            ┆   ┆            ┆            ┆           ┆           │\n",
       "│ 0040e27  ┆ There are  ┆ 3     ┆ \"A Cowboy  ┆ … ┆ 280        ┆ 200<x<=400 ┆ 3_200<x<= ┆ 3_200<x<= │\n",
       "│          ┆ many       ┆       ┆ Who Rode   ┆   ┆            ┆            ┆ 400       ┆ 400_6     │\n",
       "│          ┆ reasons    ┆       ┆ the Waves\" ┆   ┆            ┆            ┆           ┆           │\n",
       "│          ┆ why you…   ┆       ┆            ┆   ┆            ┆            ┆           ┆           │\n",
       "└──────────┴────────────┴───────┴────────────┴───┴────────────┴────────────┴───────────┴───────────┘"
      ]
     },
     "execution_count": 11,
     "metadata": {},
     "output_type": "execute_result"
    }
   ],
   "source": [
    "train.head(10)"
   ]
  },
  {
   "cell_type": "code",
   "execution_count": 12,
   "metadata": {},
   "outputs": [
    {
     "data": {
      "text/html": [
       "<div><style>\n",
       ".dataframe > thead > tr,\n",
       ".dataframe > tbody > tr {\n",
       "  text-align: right;\n",
       "  white-space: pre-wrap;\n",
       "}\n",
       "</style>\n",
       "<small>shape: (370, 3)</small><table border=\"1\" class=\"dataframe\"><thead><tr><th>concat_score_word_length_prompt_id</th><th>count</th><th>percentage</th></tr><tr><td>str</td><td>u32</td><td>f64</td></tr></thead><tbody><tr><td>&quot;3_200&lt;x&lt;=400_2&quot;</td><td>954</td><td>0.031349</td></tr><tr><td>&quot;3_200&lt;x&lt;=400_5&quot;</td><td>910</td><td>0.029903</td></tr><tr><td>&quot;4_400&lt;x&lt;=600_2&quot;</td><td>779</td><td>0.025598</td></tr><tr><td>&quot;3_200&lt;x&lt;=400_3&quot;</td><td>737</td><td>0.024218</td></tr><tr><td>&quot;3_200&lt;x&lt;=400_12&quot;</td><td>667</td><td>0.021918</td></tr><tr><td>&quot;3_200&lt;x&lt;=400_1&quot;</td><td>617</td><td>0.020275</td></tr><tr><td>&quot;2_200&lt;x&lt;=400_3&quot;</td><td>576</td><td>0.018927</td></tr><tr><td>&quot;3_200&lt;x&lt;=400_11&quot;</td><td>550</td><td>0.018073</td></tr><tr><td>&quot;3_200&lt;x&lt;=400_10&quot;</td><td>528</td><td>0.01735</td></tr><tr><td>&quot;3_200&lt;x&lt;=400_6&quot;</td><td>512</td><td>0.016824</td></tr><tr><td>&quot;2_200&lt;x&lt;=400_2&quot;</td><td>511</td><td>0.016792</td></tr><tr><td>&quot;2_200&lt;x&lt;=400_5&quot;</td><td>504</td><td>0.016562</td></tr><tr><td>&quot;4_400&lt;x&lt;=600_14&quot;</td><td>466</td><td>0.015313</td></tr><tr><td>&quot;2_200&lt;x&lt;=400_6&quot;</td><td>439</td><td>0.014426</td></tr><tr><td>&quot;3_200&lt;x&lt;=400_4&quot;</td><td>436</td><td>0.014327</td></tr><tr><td>&quot;2_200&lt;x&lt;=400_1&quot;</td><td>434</td><td>0.014261</td></tr><tr><td>&quot;4_400&lt;x&lt;=600_13&quot;</td><td>425</td><td>0.013966</td></tr><tr><td>&quot;4_400&lt;x&lt;=600_9&quot;</td><td>424</td><td>0.013933</td></tr><tr><td>&quot;4_400&lt;x&lt;=600_5&quot;</td><td>383</td><td>0.012585</td></tr><tr><td>&quot;3_400&lt;x&lt;=600_2&quot;</td><td>369</td><td>0.012125</td></tr><tr><td>&quot;4_400&lt;x&lt;=600_3&quot;</td><td>366</td><td>0.012027</td></tr><tr><td>&quot;3_200&lt;x&lt;=400_0&quot;</td><td>357</td><td>0.011731</td></tr><tr><td>&quot;2_200&lt;x&lt;=400_4&quot;</td><td>346</td><td>0.01137</td></tr><tr><td>&quot;4_400&lt;x&lt;=600_8&quot;</td><td>345</td><td>0.011337</td></tr><tr><td>&quot;4_400&lt;x&lt;=600_0&quot;</td><td>344</td><td>0.011304</td></tr><tr><td>&quot;5_600&lt;x&lt;=800_13&quot;</td><td>335</td><td>0.011008</td></tr><tr><td>&quot;5_600&lt;x&lt;=800_8&quot;</td><td>333</td><td>0.010942</td></tr><tr><td>&quot;3_200&lt;x&lt;=400_7&quot;</td><td>303</td><td>0.009957</td></tr><tr><td>&quot;4_400&lt;x&lt;=600_4&quot;</td><td>303</td><td>0.009957</td></tr><tr><td>&quot;2_200&lt;x&lt;=400_10&quot;</td><td>296</td><td>0.009727</td></tr><tr><td>&quot;4_400&lt;x&lt;=600_7&quot;</td><td>292</td><td>0.009595</td></tr><tr><td>&quot;2_200&lt;x&lt;=400_11&quot;</td><td>291</td><td>0.009562</td></tr><tr><td>&quot;2_x&lt;=200_5&quot;</td><td>290</td><td>0.009529</td></tr><tr><td>&quot;3_400&lt;x&lt;=600_0&quot;</td><td>288</td><td>0.009464</td></tr><tr><td>&quot;3_200&lt;x&lt;=400_9&quot;</td><td>284</td><td>0.009332</td></tr><tr><td>&quot;4_200&lt;x&lt;=400_2&quot;</td><td>266</td><td>0.008741</td></tr><tr><td>&quot;2_200&lt;x&lt;=400_0&quot;</td><td>260</td><td>0.008544</td></tr><tr><td>&quot;3_200&lt;x&lt;=400_14&quot;</td><td>248</td><td>0.008149</td></tr><tr><td>&quot;2_x&lt;=200_6&quot;</td><td>247</td><td>0.008116</td></tr><tr><td>&quot;2_x&lt;=200_11&quot;</td><td>247</td><td>0.008116</td></tr><tr><td>&quot;3_400&lt;x&lt;=600_3&quot;</td><td>247</td><td>0.008116</td></tr><tr><td>&quot;5_400&lt;x&lt;=600_13&quot;</td><td>246</td><td>0.008084</td></tr><tr><td>&quot;2_x&lt;=200_3&quot;</td><td>243</td><td>0.007985</td></tr><tr><td>&quot;4_400&lt;x&lt;=600_1&quot;</td><td>238</td><td>0.007821</td></tr><tr><td>&quot;3_200&lt;x&lt;=400_13&quot;</td><td>229</td><td>0.007525</td></tr><tr><td>&quot;2_x&lt;=200_12&quot;</td><td>228</td><td>0.007492</td></tr><tr><td>&quot;2_x&lt;=200_10&quot;</td><td>227</td><td>0.007459</td></tr><tr><td>&quot;5_400&lt;x&lt;=600_8&quot;</td><td>220</td><td>0.007229</td></tr><tr><td>&quot;2_x&lt;=200_1&quot;</td><td>211</td><td>0.006933</td></tr><tr><td>&quot;3_400&lt;x&lt;=600_4&quot;</td><td>204</td><td>0.006703</td></tr><tr><td>&hellip;</td><td>&hellip;</td><td>&hellip;</td></tr><tr><td>&quot;3_x&gt;1200_0&quot;</td><td>1</td><td>0.000033</td></tr><tr><td>&quot;3_x&gt;1200_3&quot;</td><td>1</td><td>0.000033</td></tr><tr><td>&quot;6_x&gt;1200_0&quot;</td><td>1</td><td>0.000033</td></tr><tr><td>&quot;4_1000&lt;x&lt;=1200_4&quot;</td><td>1</td><td>0.000033</td></tr><tr><td>&quot;1_600&lt;x&lt;=800_11&quot;</td><td>1</td><td>0.000033</td></tr><tr><td>&quot;3_1000&lt;x&lt;=1200_0&quot;</td><td>1</td><td>0.000033</td></tr><tr><td>&quot;2_800&lt;x&lt;=1000_4&quot;</td><td>1</td><td>0.000033</td></tr><tr><td>&quot;1_400&lt;x&lt;=600_9&quot;</td><td>1</td><td>0.000033</td></tr><tr><td>&quot;6_400&lt;x&lt;=600_1&quot;</td><td>1</td><td>0.000033</td></tr><tr><td>&quot;3_1000&lt;x&lt;=1200_5&quot;</td><td>1</td><td>0.000033</td></tr><tr><td>&quot;1_400&lt;x&lt;=600_14&quot;</td><td>1</td><td>0.000033</td></tr><tr><td>&quot;5_1000&lt;x&lt;=1200_5&quot;</td><td>1</td><td>0.000033</td></tr><tr><td>&quot;6_400&lt;x&lt;=600_2&quot;</td><td>1</td><td>0.000033</td></tr><tr><td>&quot;2_600&lt;x&lt;=800_6&quot;</td><td>1</td><td>0.000033</td></tr><tr><td>&quot;2_x&gt;1200_6&quot;</td><td>1</td><td>0.000033</td></tr><tr><td>&quot;3_800&lt;x&lt;=1000_3&quot;</td><td>1</td><td>0.000033</td></tr><tr><td>&quot;5_200&lt;x&lt;=400_6&quot;</td><td>1</td><td>0.000033</td></tr><tr><td>&quot;2_800&lt;x&lt;=1000_6&quot;</td><td>1</td><td>0.000033</td></tr><tr><td>&quot;4_x&gt;1200_7&quot;</td><td>1</td><td>0.000033</td></tr><tr><td>&quot;3_600&lt;x&lt;=800_10&quot;</td><td>1</td><td>0.000033</td></tr><tr><td>&quot;3_x&gt;1200_14&quot;</td><td>1</td><td>0.000033</td></tr><tr><td>&quot;3_800&lt;x&lt;=1000_14&quot;</td><td>1</td><td>0.000033</td></tr><tr><td>&quot;2_800&lt;x&lt;=1000_2&quot;</td><td>1</td><td>0.000033</td></tr><tr><td>&quot;2_800&lt;x&lt;=1000_14&quot;</td><td>1</td><td>0.000033</td></tr><tr><td>&quot;1_200&lt;x&lt;=400_14&quot;</td><td>1</td><td>0.000033</td></tr><tr><td>&quot;6_400&lt;x&lt;=600_0&quot;</td><td>1</td><td>0.000033</td></tr><tr><td>&quot;5_200&lt;x&lt;=400_7&quot;</td><td>1</td><td>0.000033</td></tr><tr><td>&quot;4_1000&lt;x&lt;=1200_5&quot;</td><td>1</td><td>0.000033</td></tr><tr><td>&quot;2_800&lt;x&lt;=1000_0&quot;</td><td>1</td><td>0.000033</td></tr><tr><td>&quot;1_200&lt;x&lt;=400_7&quot;</td><td>1</td><td>0.000033</td></tr><tr><td>&quot;4_x&gt;1200_0&quot;</td><td>1</td><td>0.000033</td></tr><tr><td>&quot;1_800&lt;x&lt;=1000_13&quot;</td><td>1</td><td>0.000033</td></tr><tr><td>&quot;3_x&lt;=200_0&quot;</td><td>1</td><td>0.000033</td></tr><tr><td>&quot;3_800&lt;x&lt;=1000_11&quot;</td><td>1</td><td>0.000033</td></tr><tr><td>&quot;3_800&lt;x&lt;=1000_4&quot;</td><td>1</td><td>0.000033</td></tr><tr><td>&quot;1_400&lt;x&lt;=600_10&quot;</td><td>1</td><td>0.000033</td></tr><tr><td>&quot;1_x&lt;=200_14&quot;</td><td>1</td><td>0.000033</td></tr><tr><td>&quot;6_400&lt;x&lt;=600_12&quot;</td><td>1</td><td>0.000033</td></tr><tr><td>&quot;2_1000&lt;x&lt;=1200_2&quot;</td><td>1</td><td>0.000033</td></tr><tr><td>&quot;2_1000&lt;x&lt;=1200_14&quot;</td><td>1</td><td>0.000033</td></tr><tr><td>&quot;5_200&lt;x&lt;=400_2&quot;</td><td>1</td><td>0.000033</td></tr><tr><td>&quot;5_1000&lt;x&lt;=1200_11&quot;</td><td>1</td><td>0.000033</td></tr><tr><td>&quot;2_800&lt;x&lt;=1000_9&quot;</td><td>1</td><td>0.000033</td></tr><tr><td>&quot;4_1000&lt;x&lt;=1200_2&quot;</td><td>1</td><td>0.000033</td></tr><tr><td>&quot;1_400&lt;x&lt;=600_8&quot;</td><td>1</td><td>0.000033</td></tr><tr><td>&quot;6_1000&lt;x&lt;=1200_3&quot;</td><td>1</td><td>0.000033</td></tr><tr><td>&quot;1_200&lt;x&lt;=400_8&quot;</td><td>1</td><td>0.000033</td></tr><tr><td>&quot;2_600&lt;x&lt;=800_2&quot;</td><td>1</td><td>0.000033</td></tr><tr><td>&quot;3_x&lt;=200_8&quot;</td><td>1</td><td>0.000033</td></tr><tr><td>&quot;3_1000&lt;x&lt;=1200_14&quot;</td><td>1</td><td>0.000033</td></tr></tbody></table></div>"
      ],
      "text/plain": [
       "shape: (370, 3)\n",
       "┌─────────────────────────────────┬───────┬────────────┐\n",
       "│ concat_score_word_length_promp… ┆ count ┆ percentage │\n",
       "│ ---                             ┆ ---   ┆ ---        │\n",
       "│ str                             ┆ u32   ┆ f64        │\n",
       "╞═════════════════════════════════╪═══════╪════════════╡\n",
       "│ 3_200<x<=400_2                  ┆ 954   ┆ 0.031349   │\n",
       "│ 3_200<x<=400_5                  ┆ 910   ┆ 0.029903   │\n",
       "│ 4_400<x<=600_2                  ┆ 779   ┆ 0.025598   │\n",
       "│ 3_200<x<=400_3                  ┆ 737   ┆ 0.024218   │\n",
       "│ 3_200<x<=400_12                 ┆ 667   ┆ 0.021918   │\n",
       "│ 3_200<x<=400_1                  ┆ 617   ┆ 0.020275   │\n",
       "│ 2_200<x<=400_3                  ┆ 576   ┆ 0.018927   │\n",
       "│ 3_200<x<=400_11                 ┆ 550   ┆ 0.018073   │\n",
       "│ 3_200<x<=400_10                 ┆ 528   ┆ 0.01735    │\n",
       "│ 3_200<x<=400_6                  ┆ 512   ┆ 0.016824   │\n",
       "│ 2_200<x<=400_2                  ┆ 511   ┆ 0.016792   │\n",
       "│ 2_200<x<=400_5                  ┆ 504   ┆ 0.016562   │\n",
       "│ 4_400<x<=600_14                 ┆ 466   ┆ 0.015313   │\n",
       "│ 2_200<x<=400_6                  ┆ 439   ┆ 0.014426   │\n",
       "│ 3_200<x<=400_4                  ┆ 436   ┆ 0.014327   │\n",
       "│ 2_200<x<=400_1                  ┆ 434   ┆ 0.014261   │\n",
       "│ 4_400<x<=600_13                 ┆ 425   ┆ 0.013966   │\n",
       "│ 4_400<x<=600_9                  ┆ 424   ┆ 0.013933   │\n",
       "│ 4_400<x<=600_5                  ┆ 383   ┆ 0.012585   │\n",
       "│ 3_400<x<=600_2                  ┆ 369   ┆ 0.012125   │\n",
       "│ 4_400<x<=600_3                  ┆ 366   ┆ 0.012027   │\n",
       "│ 3_200<x<=400_0                  ┆ 357   ┆ 0.011731   │\n",
       "│ 2_200<x<=400_4                  ┆ 346   ┆ 0.01137    │\n",
       "│ 4_400<x<=600_8                  ┆ 345   ┆ 0.011337   │\n",
       "│ 4_400<x<=600_0                  ┆ 344   ┆ 0.011304   │\n",
       "│ 5_600<x<=800_13                 ┆ 335   ┆ 0.011008   │\n",
       "│ 5_600<x<=800_8                  ┆ 333   ┆ 0.010942   │\n",
       "│ 3_200<x<=400_7                  ┆ 303   ┆ 0.009957   │\n",
       "│ 4_400<x<=600_4                  ┆ 303   ┆ 0.009957   │\n",
       "│ 2_200<x<=400_10                 ┆ 296   ┆ 0.009727   │\n",
       "│ 4_400<x<=600_7                  ┆ 292   ┆ 0.009595   │\n",
       "│ 2_200<x<=400_11                 ┆ 291   ┆ 0.009562   │\n",
       "│ 2_x<=200_5                      ┆ 290   ┆ 0.009529   │\n",
       "│ 3_400<x<=600_0                  ┆ 288   ┆ 0.009464   │\n",
       "│ 3_200<x<=400_9                  ┆ 284   ┆ 0.009332   │\n",
       "│ 4_200<x<=400_2                  ┆ 266   ┆ 0.008741   │\n",
       "│ 2_200<x<=400_0                  ┆ 260   ┆ 0.008544   │\n",
       "│ 3_200<x<=400_14                 ┆ 248   ┆ 0.008149   │\n",
       "│ 2_x<=200_6                      ┆ 247   ┆ 0.008116   │\n",
       "│ 2_x<=200_11                     ┆ 247   ┆ 0.008116   │\n",
       "│ 3_400<x<=600_3                  ┆ 247   ┆ 0.008116   │\n",
       "│ 5_400<x<=600_13                 ┆ 246   ┆ 0.008084   │\n",
       "│ 2_x<=200_3                      ┆ 243   ┆ 0.007985   │\n",
       "│ 4_400<x<=600_1                  ┆ 238   ┆ 0.007821   │\n",
       "│ 3_200<x<=400_13                 ┆ 229   ┆ 0.007525   │\n",
       "│ 2_x<=200_12                     ┆ 228   ┆ 0.007492   │\n",
       "│ 2_x<=200_10                     ┆ 227   ┆ 0.007459   │\n",
       "│ 5_400<x<=600_8                  ┆ 220   ┆ 0.007229   │\n",
       "│ 2_x<=200_1                      ┆ 211   ┆ 0.006933   │\n",
       "│ 3_400<x<=600_4                  ┆ 204   ┆ 0.006703   │\n",
       "│ …                               ┆ …     ┆ …          │\n",
       "│ 3_x>1200_0                      ┆ 1     ┆ 0.000033   │\n",
       "│ 3_x>1200_3                      ┆ 1     ┆ 0.000033   │\n",
       "│ 6_x>1200_0                      ┆ 1     ┆ 0.000033   │\n",
       "│ 4_1000<x<=1200_4                ┆ 1     ┆ 0.000033   │\n",
       "│ 1_600<x<=800_11                 ┆ 1     ┆ 0.000033   │\n",
       "│ 3_1000<x<=1200_0                ┆ 1     ┆ 0.000033   │\n",
       "│ 2_800<x<=1000_4                 ┆ 1     ┆ 0.000033   │\n",
       "│ 1_400<x<=600_9                  ┆ 1     ┆ 0.000033   │\n",
       "│ 6_400<x<=600_1                  ┆ 1     ┆ 0.000033   │\n",
       "│ 3_1000<x<=1200_5                ┆ 1     ┆ 0.000033   │\n",
       "│ 1_400<x<=600_14                 ┆ 1     ┆ 0.000033   │\n",
       "│ 5_1000<x<=1200_5                ┆ 1     ┆ 0.000033   │\n",
       "│ 6_400<x<=600_2                  ┆ 1     ┆ 0.000033   │\n",
       "│ 2_600<x<=800_6                  ┆ 1     ┆ 0.000033   │\n",
       "│ 2_x>1200_6                      ┆ 1     ┆ 0.000033   │\n",
       "│ 3_800<x<=1000_3                 ┆ 1     ┆ 0.000033   │\n",
       "│ 5_200<x<=400_6                  ┆ 1     ┆ 0.000033   │\n",
       "│ 2_800<x<=1000_6                 ┆ 1     ┆ 0.000033   │\n",
       "│ 4_x>1200_7                      ┆ 1     ┆ 0.000033   │\n",
       "│ 3_600<x<=800_10                 ┆ 1     ┆ 0.000033   │\n",
       "│ 3_x>1200_14                     ┆ 1     ┆ 0.000033   │\n",
       "│ 3_800<x<=1000_14                ┆ 1     ┆ 0.000033   │\n",
       "│ 2_800<x<=1000_2                 ┆ 1     ┆ 0.000033   │\n",
       "│ 2_800<x<=1000_14                ┆ 1     ┆ 0.000033   │\n",
       "│ 1_200<x<=400_14                 ┆ 1     ┆ 0.000033   │\n",
       "│ 6_400<x<=600_0                  ┆ 1     ┆ 0.000033   │\n",
       "│ 5_200<x<=400_7                  ┆ 1     ┆ 0.000033   │\n",
       "│ 4_1000<x<=1200_5                ┆ 1     ┆ 0.000033   │\n",
       "│ 2_800<x<=1000_0                 ┆ 1     ┆ 0.000033   │\n",
       "│ 1_200<x<=400_7                  ┆ 1     ┆ 0.000033   │\n",
       "│ 4_x>1200_0                      ┆ 1     ┆ 0.000033   │\n",
       "│ 1_800<x<=1000_13                ┆ 1     ┆ 0.000033   │\n",
       "│ 3_x<=200_0                      ┆ 1     ┆ 0.000033   │\n",
       "│ 3_800<x<=1000_11                ┆ 1     ┆ 0.000033   │\n",
       "│ 3_800<x<=1000_4                 ┆ 1     ┆ 0.000033   │\n",
       "│ 1_400<x<=600_10                 ┆ 1     ┆ 0.000033   │\n",
       "│ 1_x<=200_14                     ┆ 1     ┆ 0.000033   │\n",
       "│ 6_400<x<=600_12                 ┆ 1     ┆ 0.000033   │\n",
       "│ 2_1000<x<=1200_2                ┆ 1     ┆ 0.000033   │\n",
       "│ 2_1000<x<=1200_14               ┆ 1     ┆ 0.000033   │\n",
       "│ 5_200<x<=400_2                  ┆ 1     ┆ 0.000033   │\n",
       "│ 5_1000<x<=1200_11               ┆ 1     ┆ 0.000033   │\n",
       "│ 2_800<x<=1000_9                 ┆ 1     ┆ 0.000033   │\n",
       "│ 4_1000<x<=1200_2                ┆ 1     ┆ 0.000033   │\n",
       "│ 1_400<x<=600_8                  ┆ 1     ┆ 0.000033   │\n",
       "│ 6_1000<x<=1200_3                ┆ 1     ┆ 0.000033   │\n",
       "│ 1_200<x<=400_8                  ┆ 1     ┆ 0.000033   │\n",
       "│ 2_600<x<=800_2                  ┆ 1     ┆ 0.000033   │\n",
       "│ 3_x<=200_8                      ┆ 1     ┆ 0.000033   │\n",
       "│ 3_1000<x<=1200_14               ┆ 1     ┆ 0.000033   │\n",
       "└─────────────────────────────────┴───────┴────────────┘"
      ]
     },
     "execution_count": 12,
     "metadata": {},
     "output_type": "execute_result"
    }
   ],
   "source": [
    "(\n",
    "    train.select(\n",
    "        pl.col(\"concat_score_word_length_prompt_id\").value_counts(),\n",
    "    )\n",
    "    .unnest(\"concat_score_word_length_prompt_id\")\n",
    "    .with_columns((pl.col(\"count\") / train.height).alias(\"percentage\"))\n",
    "    .sort(\"count\", descending=True)\n",
    ")"
   ]
  },
  {
   "cell_type": "code",
   "execution_count": 13,
   "metadata": {},
   "outputs": [
    {
     "name": "stderr",
     "output_type": "stream",
     "text": [
      "/Users/shinichiro.saito/automated_essay_scoring/.venv/lib/python3.11/site-packages/sklearn/model_selection/_split.py:737: UserWarning: The least populated class in y has only 1 members, which is less than n_splits=3.\n",
      "  warnings.warn(\n"
     ]
    }
   ],
   "source": [
    "import numpy as np\n",
    "from sklearn.model_selection import StratifiedKFold\n",
    "\n",
    "fold_arr = np.zeros(train.height)\n",
    "sgkf = StratifiedKFold(n_splits=3, random_state=42, shuffle=True)\n",
    "\n",
    "for idx, (_, val_idx) in enumerate(\n",
    "    sgkf.split(train, train[\"concat_score_word_length_prompt_id\"])\n",
    "):\n",
    "    fold_arr[val_idx] = idx\n",
    "\n",
    "train = train.with_columns(pl.Series(fold_arr).cast(pl.Int64).alias(\"fold\"))"
   ]
  },
  {
   "cell_type": "code",
   "execution_count": 14,
   "metadata": {},
   "outputs": [
    {
     "data": {
      "text/html": [
       "<div><style>\n",
       ".dataframe > thead > tr,\n",
       ".dataframe > tbody > tr {\n",
       "  text-align: right;\n",
       "  white-space: pre-wrap;\n",
       "}\n",
       "</style>\n",
       "<small>shape: (10, 10)</small><table border=\"1\" class=\"dataframe\"><thead><tr><th>essay_id</th><th>full_text</th><th>score</th><th>prompt_name</th><th>prompt_id</th><th>word_length</th><th>word_length_cat</th><th>score_word_length_cat</th><th>concat_score_word_length_prompt_id</th><th>fold</th></tr><tr><td>str</td><td>str</td><td>i64</td><td>str</td><td>u32</td><td>i64</td><td>str</td><td>str</td><td>str</td><td>i64</td></tr></thead><tbody><tr><td>&quot;000d118&quot;</td><td>&quot;Many people have car where the…</td><td>3</td><td>&quot;Car-free cities&quot;</td><td>0</td><td>498</td><td>&quot;400&lt;x&lt;=600&quot;</td><td>&quot;3_400&lt;x&lt;=600&quot;</td><td>&quot;3_400&lt;x&lt;=600_0&quot;</td><td>0</td></tr><tr><td>&quot;000fe60&quot;</td><td>&quot;I am a scientist at NASA that …</td><td>3</td><td>&quot;The Face on Mars&quot;</td><td>1</td><td>332</td><td>&quot;200&lt;x&lt;=400&quot;</td><td>&quot;3_200&lt;x&lt;=400&quot;</td><td>&quot;3_200&lt;x&lt;=400_1&quot;</td><td>2</td></tr><tr><td>&quot;001ab80&quot;</td><td>&quot;People always wish they had th…</td><td>4</td><td>&quot;Driverless cars&quot;</td><td>2</td><td>550</td><td>&quot;400&lt;x&lt;=600&quot;</td><td>&quot;4_400&lt;x&lt;=600&quot;</td><td>&quot;4_400&lt;x&lt;=600_2&quot;</td><td>2</td></tr><tr><td>&quot;001bdc0&quot;</td><td>&quot;We all heard about Venus, the …</td><td>4</td><td>&quot;Exploring Venus&quot;</td><td>3</td><td>451</td><td>&quot;400&lt;x&lt;=600&quot;</td><td>&quot;4_400&lt;x&lt;=600&quot;</td><td>&quot;4_400&lt;x&lt;=600_3&quot;</td><td>2</td></tr><tr><td>&quot;002ba53&quot;</td><td>&quot;Dear, State Senator\n",
       "\n",
       "This is a…</td><td>3</td><td>&quot;Does the electoral college wor…</td><td>4</td><td>373</td><td>&quot;200&lt;x&lt;=400&quot;</td><td>&quot;3_200&lt;x&lt;=400&quot;</td><td>&quot;3_200&lt;x&lt;=400_4&quot;</td><td>1</td></tr><tr><td>&quot;0030e86&quot;</td><td>&quot;If I were to choose between ke…</td><td>4</td><td>&quot;Does the electoral college wor…</td><td>4</td><td>400</td><td>&quot;200&lt;x&lt;=400&quot;</td><td>&quot;4_200&lt;x&lt;=400&quot;</td><td>&quot;4_200&lt;x&lt;=400_4&quot;</td><td>0</td></tr><tr><td>&quot;0033037&quot;</td><td>&quot;The posibilty of a face reconi…</td><td>2</td><td>&quot;Facial action coding system&quot;</td><td>5</td><td>179</td><td>&quot;x&lt;=200&quot;</td><td>&quot;2_x&lt;=200&quot;</td><td>&quot;2_x&lt;=200_5&quot;</td><td>0</td></tr><tr><td>&quot;0033bf4&quot;</td><td>&quot;What is the Seagoing Cowboys p…</td><td>3</td><td>&quot;&quot;A Cowboy Who Rode the Waves&quot;&quot;</td><td>6</td><td>353</td><td>&quot;200&lt;x&lt;=400&quot;</td><td>&quot;3_200&lt;x&lt;=400&quot;</td><td>&quot;3_200&lt;x&lt;=400_6&quot;</td><td>0</td></tr><tr><td>&quot;0036253&quot;</td><td>&quot;The challenge of exploring Ven…</td><td>2</td><td>&quot;Exploring Venus&quot;</td><td>3</td><td>310</td><td>&quot;200&lt;x&lt;=400&quot;</td><td>&quot;2_200&lt;x&lt;=400&quot;</td><td>&quot;2_200&lt;x&lt;=400_3&quot;</td><td>1</td></tr><tr><td>&quot;0040e27&quot;</td><td>&quot;There are many reasons why you…</td><td>3</td><td>&quot;&quot;A Cowboy Who Rode the Waves&quot;&quot;</td><td>6</td><td>280</td><td>&quot;200&lt;x&lt;=400&quot;</td><td>&quot;3_200&lt;x&lt;=400&quot;</td><td>&quot;3_200&lt;x&lt;=400_6&quot;</td><td>2</td></tr></tbody></table></div>"
      ],
      "text/plain": [
       "shape: (10, 10)\n",
       "┌──────────┬─────────────┬───────┬─────────────┬───┬─────────────┬─────────────┬────────────┬──────┐\n",
       "│ essay_id ┆ full_text   ┆ score ┆ prompt_name ┆ … ┆ word_length ┆ score_word_ ┆ concat_sco ┆ fold │\n",
       "│ ---      ┆ ---         ┆ ---   ┆ ---         ┆   ┆ _cat        ┆ length_cat  ┆ re_word_le ┆ ---  │\n",
       "│ str      ┆ str         ┆ i64   ┆ str         ┆   ┆ ---         ┆ ---         ┆ ngth_promp ┆ i64  │\n",
       "│          ┆             ┆       ┆             ┆   ┆ str         ┆ str         ┆ …          ┆      │\n",
       "│          ┆             ┆       ┆             ┆   ┆             ┆             ┆ ---        ┆      │\n",
       "│          ┆             ┆       ┆             ┆   ┆             ┆             ┆ str        ┆      │\n",
       "╞══════════╪═════════════╪═══════╪═════════════╪═══╪═════════════╪═════════════╪════════════╪══════╡\n",
       "│ 000d118  ┆ Many people ┆ 3     ┆ Car-free    ┆ … ┆ 400<x<=600  ┆ 3_400<x<=60 ┆ 3_400<x<=6 ┆ 0    │\n",
       "│          ┆ have car    ┆       ┆ cities      ┆   ┆             ┆ 0           ┆ 00_0       ┆      │\n",
       "│          ┆ where the…  ┆       ┆             ┆   ┆             ┆             ┆            ┆      │\n",
       "│ 000fe60  ┆ I am a      ┆ 3     ┆ The Face on ┆ … ┆ 200<x<=400  ┆ 3_200<x<=40 ┆ 3_200<x<=4 ┆ 2    │\n",
       "│          ┆ scientist   ┆       ┆ Mars        ┆   ┆             ┆ 0           ┆ 00_1       ┆      │\n",
       "│          ┆ at NASA     ┆       ┆             ┆   ┆             ┆             ┆            ┆      │\n",
       "│          ┆ that …      ┆       ┆             ┆   ┆             ┆             ┆            ┆      │\n",
       "│ 001ab80  ┆ People      ┆ 4     ┆ Driverless  ┆ … ┆ 400<x<=600  ┆ 4_400<x<=60 ┆ 4_400<x<=6 ┆ 2    │\n",
       "│          ┆ always wish ┆       ┆ cars        ┆   ┆             ┆ 0           ┆ 00_2       ┆      │\n",
       "│          ┆ they had    ┆       ┆             ┆   ┆             ┆             ┆            ┆      │\n",
       "│          ┆ th…         ┆       ┆             ┆   ┆             ┆             ┆            ┆      │\n",
       "│ 001bdc0  ┆ We all      ┆ 4     ┆ Exploring   ┆ … ┆ 400<x<=600  ┆ 4_400<x<=60 ┆ 4_400<x<=6 ┆ 2    │\n",
       "│          ┆ heard about ┆       ┆ Venus       ┆   ┆             ┆ 0           ┆ 00_3       ┆      │\n",
       "│          ┆ Venus, the  ┆       ┆             ┆   ┆             ┆             ┆            ┆      │\n",
       "│          ┆ …           ┆       ┆             ┆   ┆             ┆             ┆            ┆      │\n",
       "│ 002ba53  ┆ Dear, State ┆ 3     ┆ Does the    ┆ … ┆ 200<x<=400  ┆ 3_200<x<=40 ┆ 3_200<x<=4 ┆ 1    │\n",
       "│          ┆ Senator     ┆       ┆ electoral   ┆   ┆             ┆ 0           ┆ 00_4       ┆      │\n",
       "│          ┆             ┆       ┆ college     ┆   ┆             ┆             ┆            ┆      │\n",
       "│          ┆ This is a…  ┆       ┆ wor…        ┆   ┆             ┆             ┆            ┆      │\n",
       "│ 0030e86  ┆ If I were   ┆ 4     ┆ Does the    ┆ … ┆ 200<x<=400  ┆ 4_200<x<=40 ┆ 4_200<x<=4 ┆ 0    │\n",
       "│          ┆ to choose   ┆       ┆ electoral   ┆   ┆             ┆ 0           ┆ 00_4       ┆      │\n",
       "│          ┆ between ke… ┆       ┆ college     ┆   ┆             ┆             ┆            ┆      │\n",
       "│          ┆             ┆       ┆ wor…        ┆   ┆             ┆             ┆            ┆      │\n",
       "│ 0033037  ┆ The         ┆ 2     ┆ Facial      ┆ … ┆ x<=200      ┆ 2_x<=200    ┆ 2_x<=200_5 ┆ 0    │\n",
       "│          ┆ posibilty   ┆       ┆ action      ┆   ┆             ┆             ┆            ┆      │\n",
       "│          ┆ of a face   ┆       ┆ coding      ┆   ┆             ┆             ┆            ┆      │\n",
       "│          ┆ reconi…     ┆       ┆ system      ┆   ┆             ┆             ┆            ┆      │\n",
       "│ 0033bf4  ┆ What is the ┆ 3     ┆ \"A Cowboy   ┆ … ┆ 200<x<=400  ┆ 3_200<x<=40 ┆ 3_200<x<=4 ┆ 0    │\n",
       "│          ┆ Seagoing    ┆       ┆ Who Rode    ┆   ┆             ┆ 0           ┆ 00_6       ┆      │\n",
       "│          ┆ Cowboys p…  ┆       ┆ the Waves\"  ┆   ┆             ┆             ┆            ┆      │\n",
       "│ 0036253  ┆ The         ┆ 2     ┆ Exploring   ┆ … ┆ 200<x<=400  ┆ 2_200<x<=40 ┆ 2_200<x<=4 ┆ 1    │\n",
       "│          ┆ challenge   ┆       ┆ Venus       ┆   ┆             ┆ 0           ┆ 00_3       ┆      │\n",
       "│          ┆ of          ┆       ┆             ┆   ┆             ┆             ┆            ┆      │\n",
       "│          ┆ exploring   ┆       ┆             ┆   ┆             ┆             ┆            ┆      │\n",
       "│          ┆ Ven…        ┆       ┆             ┆   ┆             ┆             ┆            ┆      │\n",
       "│ 0040e27  ┆ There are   ┆ 3     ┆ \"A Cowboy   ┆ … ┆ 200<x<=400  ┆ 3_200<x<=40 ┆ 3_200<x<=4 ┆ 2    │\n",
       "│          ┆ many        ┆       ┆ Who Rode    ┆   ┆             ┆ 0           ┆ 00_6       ┆      │\n",
       "│          ┆ reasons why ┆       ┆ the Waves\"  ┆   ┆             ┆             ┆            ┆      │\n",
       "│          ┆ you…        ┆       ┆             ┆   ┆             ┆             ┆            ┆      │\n",
       "└──────────┴─────────────┴───────┴─────────────┴───┴─────────────┴─────────────┴────────────┴──────┘"
      ]
     },
     "execution_count": 14,
     "metadata": {},
     "output_type": "execute_result"
    }
   ],
   "source": [
    "train.head(10)"
   ]
  },
  {
   "cell_type": "code",
   "execution_count": 15,
   "metadata": {},
   "outputs": [],
   "source": [
    "essay_id_fold_dict = dict(zip(train[\"essay_id\"], train[\"fold\"]))\n",
    "\n",
    "import json\n",
    "\n",
    "with open(\"essay_id_fold_by_slp_dict.json\", \"w\") as f:\n",
    "    # slt = score length topic\n",
    "    json.dump(essay_id_fold_dict, f)"
   ]
  },
  {
   "cell_type": "markdown",
   "metadata": {},
   "source": [
    "# Check"
   ]
  },
  {
   "cell_type": "code",
   "execution_count": 16,
   "metadata": {},
   "outputs": [
    {
     "data": {
      "text/html": [
       "<div><style>\n",
       ".dataframe > thead > tr,\n",
       ".dataframe > tbody > tr {\n",
       "  text-align: right;\n",
       "  white-space: pre-wrap;\n",
       "}\n",
       "</style>\n",
       "<small>shape: (10, 3)</small><table border=\"1\" class=\"dataframe\"><thead><tr><th>concat_score_word_length_prompt_id</th><th>count</th><th>percentage</th></tr><tr><td>str</td><td>u32</td><td>f64</td></tr></thead><tbody><tr><td>&quot;3_200&lt;x&lt;=400_2&quot;</td><td>318</td><td>0.01045</td></tr><tr><td>&quot;3_200&lt;x&lt;=400_5&quot;</td><td>304</td><td>0.009989</td></tr><tr><td>&quot;4_400&lt;x&lt;=600_2&quot;</td><td>260</td><td>0.008544</td></tr><tr><td>&quot;3_200&lt;x&lt;=400_3&quot;</td><td>245</td><td>0.008051</td></tr><tr><td>&quot;3_200&lt;x&lt;=400_12&quot;</td><td>222</td><td>0.007295</td></tr><tr><td>&quot;3_200&lt;x&lt;=400_1&quot;</td><td>206</td><td>0.006769</td></tr><tr><td>&quot;2_200&lt;x&lt;=400_3&quot;</td><td>192</td><td>0.006309</td></tr><tr><td>&quot;3_200&lt;x&lt;=400_11&quot;</td><td>184</td><td>0.006046</td></tr><tr><td>&quot;3_200&lt;x&lt;=400_10&quot;</td><td>176</td><td>0.005783</td></tr><tr><td>&quot;3_200&lt;x&lt;=400_6&quot;</td><td>171</td><td>0.005619</td></tr></tbody></table></div>"
      ],
      "text/plain": [
       "shape: (10, 3)\n",
       "┌─────────────────────────────────┬───────┬────────────┐\n",
       "│ concat_score_word_length_promp… ┆ count ┆ percentage │\n",
       "│ ---                             ┆ ---   ┆ ---        │\n",
       "│ str                             ┆ u32   ┆ f64        │\n",
       "╞═════════════════════════════════╪═══════╪════════════╡\n",
       "│ 3_200<x<=400_2                  ┆ 318   ┆ 0.01045    │\n",
       "│ 3_200<x<=400_5                  ┆ 304   ┆ 0.009989   │\n",
       "│ 4_400<x<=600_2                  ┆ 260   ┆ 0.008544   │\n",
       "│ 3_200<x<=400_3                  ┆ 245   ┆ 0.008051   │\n",
       "│ 3_200<x<=400_12                 ┆ 222   ┆ 0.007295   │\n",
       "│ 3_200<x<=400_1                  ┆ 206   ┆ 0.006769   │\n",
       "│ 2_200<x<=400_3                  ┆ 192   ┆ 0.006309   │\n",
       "│ 3_200<x<=400_11                 ┆ 184   ┆ 0.006046   │\n",
       "│ 3_200<x<=400_10                 ┆ 176   ┆ 0.005783   │\n",
       "│ 3_200<x<=400_6                  ┆ 171   ┆ 0.005619   │\n",
       "└─────────────────────────────────┴───────┴────────────┘"
      ]
     },
     "execution_count": 16,
     "metadata": {},
     "output_type": "execute_result"
    }
   ],
   "source": [
    "(\n",
    "    train.filter(pl.col(\"fold\") == 0)\n",
    "    .select(\n",
    "        pl.col(\"concat_score_word_length_prompt_id\").value_counts(),\n",
    "    )\n",
    "    .unnest(\"concat_score_word_length_prompt_id\")\n",
    "    .with_columns((pl.col(\"count\") / train.height).alias(\"percentage\"))\n",
    "    .sort(\"count\", descending=True)\n",
    "    .head(10)\n",
    ")"
   ]
  },
  {
   "cell_type": "code",
   "execution_count": 17,
   "metadata": {},
   "outputs": [
    {
     "data": {
      "text/html": [
       "<div><style>\n",
       ".dataframe > thead > tr,\n",
       ".dataframe > tbody > tr {\n",
       "  text-align: right;\n",
       "  white-space: pre-wrap;\n",
       "}\n",
       "</style>\n",
       "<small>shape: (10, 3)</small><table border=\"1\" class=\"dataframe\"><thead><tr><th>concat_score_word_length_prompt_id</th><th>count</th><th>percentage</th></tr><tr><td>str</td><td>u32</td><td>f64</td></tr></thead><tbody><tr><td>&quot;3_200&lt;x&lt;=400_2&quot;</td><td>318</td><td>0.01045</td></tr><tr><td>&quot;3_200&lt;x&lt;=400_5&quot;</td><td>303</td><td>0.009957</td></tr><tr><td>&quot;4_400&lt;x&lt;=600_2&quot;</td><td>259</td><td>0.008511</td></tr><tr><td>&quot;3_200&lt;x&lt;=400_3&quot;</td><td>246</td><td>0.008084</td></tr><tr><td>&quot;3_200&lt;x&lt;=400_12&quot;</td><td>222</td><td>0.007295</td></tr><tr><td>&quot;3_200&lt;x&lt;=400_1&quot;</td><td>206</td><td>0.006769</td></tr><tr><td>&quot;2_200&lt;x&lt;=400_3&quot;</td><td>192</td><td>0.006309</td></tr><tr><td>&quot;3_200&lt;x&lt;=400_11&quot;</td><td>183</td><td>0.006013</td></tr><tr><td>&quot;3_200&lt;x&lt;=400_10&quot;</td><td>176</td><td>0.005783</td></tr><tr><td>&quot;3_200&lt;x&lt;=400_6&quot;</td><td>171</td><td>0.005619</td></tr></tbody></table></div>"
      ],
      "text/plain": [
       "shape: (10, 3)\n",
       "┌─────────────────────────────────┬───────┬────────────┐\n",
       "│ concat_score_word_length_promp… ┆ count ┆ percentage │\n",
       "│ ---                             ┆ ---   ┆ ---        │\n",
       "│ str                             ┆ u32   ┆ f64        │\n",
       "╞═════════════════════════════════╪═══════╪════════════╡\n",
       "│ 3_200<x<=400_2                  ┆ 318   ┆ 0.01045    │\n",
       "│ 3_200<x<=400_5                  ┆ 303   ┆ 0.009957   │\n",
       "│ 4_400<x<=600_2                  ┆ 259   ┆ 0.008511   │\n",
       "│ 3_200<x<=400_3                  ┆ 246   ┆ 0.008084   │\n",
       "│ 3_200<x<=400_12                 ┆ 222   ┆ 0.007295   │\n",
       "│ 3_200<x<=400_1                  ┆ 206   ┆ 0.006769   │\n",
       "│ 2_200<x<=400_3                  ┆ 192   ┆ 0.006309   │\n",
       "│ 3_200<x<=400_11                 ┆ 183   ┆ 0.006013   │\n",
       "│ 3_200<x<=400_10                 ┆ 176   ┆ 0.005783   │\n",
       "│ 3_200<x<=400_6                  ┆ 171   ┆ 0.005619   │\n",
       "└─────────────────────────────────┴───────┴────────────┘"
      ]
     },
     "execution_count": 17,
     "metadata": {},
     "output_type": "execute_result"
    }
   ],
   "source": [
    "(\n",
    "    train.filter(pl.col(\"fold\") == 1)\n",
    "    .select(\n",
    "        pl.col(\"concat_score_word_length_prompt_id\").value_counts(),\n",
    "    )\n",
    "    .unnest(\"concat_score_word_length_prompt_id\")\n",
    "    .with_columns((pl.col(\"count\") / train.height).alias(\"percentage\"))\n",
    "    .sort(\"count\", descending=True)\n",
    "    .head(10)\n",
    ")"
   ]
  },
  {
   "cell_type": "code",
   "execution_count": 18,
   "metadata": {},
   "outputs": [],
   "source": [
    "# (\n",
    "#     train.filter(pl.col(\"fold\") == 0)\n",
    "#     .select(\n",
    "#         pl.col(\"score\").value_counts(),\n",
    "#     )\n",
    "#     .unnest(\"score\")\n",
    "#     .with_columns((pl.col(\"count\") / train.height).alias(\"percentage\"))\n",
    "#     .sort(\"count\", descending=True)\n",
    "# )"
   ]
  },
  {
   "cell_type": "code",
   "execution_count": 19,
   "metadata": {},
   "outputs": [],
   "source": [
    "# (\n",
    "#     train.filter(pl.col(\"fold\") == 0)\n",
    "#     .select(\n",
    "#         pl.col(\"word_length_cat\").value_counts(),\n",
    "#     )\n",
    "#     .unnest(\"word_length_cat\")\n",
    "#     .with_columns((pl.col(\"count\") / train.height).alias(\"percentage\"))\n",
    "#     .sort(\"count\", descending=True)\n",
    "# )"
   ]
  },
  {
   "cell_type": "code",
   "execution_count": 20,
   "metadata": {},
   "outputs": [],
   "source": [
    "# (\n",
    "#     train.filter(pl.col(\"fold\") == 1)\n",
    "#     .select(\n",
    "#         pl.col(\"word_length_cat\").value_counts(),\n",
    "#     )\n",
    "#     .unnest(\"word_length_cat\")\n",
    "#     .with_columns((pl.col(\"count\") / train.height).alias(\"percentage\"))\n",
    "#     .sort(\"count\", descending=True)\n",
    "# )"
   ]
  },
  {
   "cell_type": "code",
   "execution_count": null,
   "metadata": {},
   "outputs": [],
   "source": []
  }
 ],
 "metadata": {
  "kernelspec": {
   "display_name": ".venv",
   "language": "python",
   "name": "python3"
  },
  "language_info": {
   "codemirror_mode": {
    "name": "ipython",
    "version": 3
   },
   "file_extension": ".py",
   "mimetype": "text/x-python",
   "name": "python",
   "nbconvert_exporter": "python",
   "pygments_lexer": "ipython3",
   "version": "3.11.7"
  }
 },
 "nbformat": 4,
 "nbformat_minor": 2
}
